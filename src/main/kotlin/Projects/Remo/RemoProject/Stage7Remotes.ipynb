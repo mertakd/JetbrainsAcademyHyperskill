{
 "cells": [
  {
   "cell_type": "code",
   "execution_count": null,
   "metadata": {
    "collapsed": true
   },
   "outputs": [],
   "source": [
    ""
   ]
  },
  {
   "metadata": {},
   "cell_type": "markdown",
   "source": [
    "**Remotes**\n",
    "\n",
    "Description\n",
    "In this project, you have created only one remote branch. In a production environment, there could be more than one branch. But there are ways to list them easily. Now, your task is to list your remotes. To accomplish that, use the remote command with the --verbose option.\n",
    "\n",
    "Objectives\n",
    "List your remotes.\n",
    "Write a program\n",
    "\n",
    "\n",
    "# Write your solution below\n",
    "# You should write the commands line by line\n",
    "git remote --verbose\n"
   ]
  },
  {
   "metadata": {},
   "cell_type": "markdown",
   "source": [
    "**Remotes (Uzak Depolar)**\n",
    "\n",
    "**Açıklama**\n",
    "Bu projede yalnızca bir tane uzak branch oluşturdunuz. Gerçek bir üretim ortamında birden fazla branch olabilir. Ancak bunları kolayca listelemenin yolları vardır. Şimdi, göreviniz uzak depolarınızı listelemek. Bunu yapmak için, `remote` komutunu `--verbose` seçeneğiyle kullanın.\n",
    "\n",
    "**Hedefler**\n",
    "\n",
    "* Uzak depolarınızı listeleyin.\n",
    "* Bir program yazın.\n",
    "**Remotes**\n",
    "\n",
    "Description\n",
    "In this project, you have created only one remote branch. In a production environment, there could be more than one branch. But there are ways to list them easily. Now, your task is to list your remotes. To accomplish that, use the remote command with the --verbose option.\n",
    "\n",
    "Objectives\n",
    "List your remotes.\n",
    "Write a program\n",
    "\n",
    "\n",
    "# Write your solution below\n",
    "# You should write the commands line by line\n",
    "git remote --verbose\n",
    "\n"
   ]
  },
  {
   "metadata": {},
   "cell_type": "code",
   "outputs": [],
   "execution_count": null,
   "source": ""
  }
 ],
 "metadata": {
  "kernelspec": {
   "display_name": "Kotlin",
   "language": "kotlin",
   "name": "kotlin"
  },
  "language_info": {
   "name": "kotlin",
   "version": "2.2.20-dev-4982",
   "mimetype": "text/x-kotlin",
   "file_extension": ".kt",
   "pygments_lexer": "kotlin",
   "codemirror_mode": "text/x-kotlin",
   "nbconvert_exporter": ""
  }
 },
 "nbformat": 4,
 "nbformat_minor": 0
}
