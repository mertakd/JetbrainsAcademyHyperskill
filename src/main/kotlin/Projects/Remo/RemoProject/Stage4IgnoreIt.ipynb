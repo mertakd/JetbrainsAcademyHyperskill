{
 "cells": [
  {
   "cell_type": "code",
   "execution_count": null,
   "metadata": {
    "collapsed": true
   },
   "outputs": [],
   "source": [
    ""
   ]
  },
  {
   "metadata": {},
   "cell_type": "markdown",
   "source": [
    "Ignore it\n",
    " Report a typo\n",
    "Description\n",
    "It is essential not to commit/push uncalled-for files or files containing secrets. Mainly when you work with public repositories. Luckily, there is a way to avoid it. You can add file and directory names to the .gitignore, and they will not be committed or pushed. In the last stage, you have added a secret line to a .env file. Now add the .env file to the .gitignore:\n",
    "\n",
    "You can use git status --help command to see available options and get help.\n",
    "\n",
    "Objectives\n",
    "Add a .env file to .gitignore;\n",
    "\n",
    "Use the git status command with the suitable option to list the ignored files.\n",
    "\n",
    "Write a program\n"
   ]
  },
  {
   "metadata": {},
   "cell_type": "markdown",
   "source": [
    "**Yok say**\n",
    "**Açıklama**\n",
    "Gereksiz dosyaları veya gizli bilgiler içeren dosyaları commit/push etmekten kaçınmak çok önemlidir. Özellikle de herkese açık depolarda (public repositories) çalışırken. Neyse ki, bunu önlemenin bir yolu var. **.gitignore** dosyasına dosya ve dizin adlarını ekleyebilirsiniz; böylece bu dosyalar commit’lenmez veya push edilmez.\n",
    "Önceki aşamada, **.env** dosyasına gizli bir satır eklemiştiniz. Şimdi, `.env` dosyasını **.gitignore**’a ekleyin.\n",
    "\n",
    "Kullanılabilir seçenekleri görmek ve yardım almak için `git status --help` komutunu kullanabilirsiniz.\n",
    "\n",
    "---\n",
    "\n",
    "**Hedefler**\n",
    "\n",
    "* `.env` dosyasını **.gitignore**’a ekleyin.\n",
    "* `git status` komutunu uygun seçeneğiyle birlikte kullanarak yoksayılan (ignored) dosyaları listeleyin.\n",
    "\n",
    "**Program yazın**\n",
    "# Write your solution below\n",
    "# You should write the commands line by line\n",
    "echo \".env\" >> .gitignore\n",
    "git status --ignored"
   ]
  }
 ],
 "metadata": {
  "kernelspec": {
   "display_name": "Kotlin",
   "language": "kotlin",
   "name": "kotlin"
  },
  "language_info": {
   "name": "kotlin",
   "version": "1.9.23",
   "mimetype": "text/x-kotlin",
   "file_extension": ".kt",
   "pygments_lexer": "kotlin",
   "codemirror_mode": "text/x-kotlin",
   "nbconvert_exporter": ""
  }
 },
 "nbformat": 4,
 "nbformat_minor": 0
}
