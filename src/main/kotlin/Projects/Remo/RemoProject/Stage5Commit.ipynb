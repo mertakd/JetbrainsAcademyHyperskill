{
 "cells": [
  {
   "cell_type": "code",
   "execution_count": null,
   "metadata": {
    "collapsed": true
   },
   "outputs": [],
   "source": [
    ""
   ]
  },
  {
   "metadata": {},
   "cell_type": "markdown",
   "source": [
    "Commit\n",
    "\n",
    "Description\n",
    "In this stage, make your first commit. First, add the files to the staging area and commit them afterward.\n",
    "\n",
    "Objectives\n",
    "Stage your files;\n",
    "Commit the changes with the commit message Initial commit.\n",
    "Write a program\n",
    "# Write your solution below\n",
    "# You should write the commands line by line\n",
    "git add .\n",
    "git commit -m \"Initial commit\"\n"
   ]
  },
  {
   "metadata": {},
   "cell_type": "markdown",
   "source": [
    "**Commit**\n",
    "\n",
    "**Açıklama**\n",
    "Bu aşamada, ilk commit’inizi yapın. Öncelikle dosyaları **staging area**’ya (hazırlık alanı) ekleyin ve ardından commit işlemini gerçekleştirin.\n",
    "\n",
    "**Hedefler**\n",
    "\n",
    "* Dosyalarınızı **staging area**’ya ekleyin.\n",
    "* Değişiklikleri **\"Initial commit\"** commit mesajı ile kaydedin.\n",
    "\n",
    "**Bir program yazın**\n",
    "# Write your solution below\n",
    "# You should write the commands line by line\n",
    "git add .\n",
    "git commit -m \"Initial commit\"\n"
   ]
  }
 ],
 "metadata": {
  "kernelspec": {
   "display_name": "Kotlin",
   "language": "kotlin",
   "name": "kotlin"
  },
  "language_info": {
   "name": "kotlin",
   "version": "2.2.20-dev-4982",
   "mimetype": "text/x-kotlin",
   "file_extension": ".kt",
   "pygments_lexer": "kotlin",
   "codemirror_mode": "text/x-kotlin",
   "nbconvert_exporter": ""
  }
 },
 "nbformat": 4,
 "nbformat_minor": 0
}
