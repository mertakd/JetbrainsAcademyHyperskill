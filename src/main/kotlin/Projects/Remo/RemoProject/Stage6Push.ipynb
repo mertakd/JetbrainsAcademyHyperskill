{
 "cells": [
  {
   "cell_type": "code",
   "execution_count": null,
   "metadata": {
    "collapsed": true
   },
   "outputs": [],
   "source": [
    ""
   ]
  },
  {
   "metadata": {},
   "cell_type": "markdown",
   "source": [
    "**Push**\n",
    "\n",
    "Description\n",
    "In the second stage of the project, you've defined a remote. Now, you can push your changes to it. While pushing your changes, don't forget the -u or the --set-upstream option in your first attempt. Now, any future push/pull attempt will target the upstream branch automatically.\n",
    "\n",
    "If you do not set the upstream, with any push/pull attempt you need to define the name of the remote, and the name of the branch explicitly.\n",
    "\n",
    "Objectives\n",
    "Push your changes to the remote\n",
    "Write a program\n",
    "\n",
    "\n",
    "# Write your solution below\n",
    "# You should write the commands line by line\n",
    "\n",
    "git push -u origin main\n"
   ]
  },
  {
   "metadata": {},
   "cell_type": "markdown",
   "source": [
    "**Push**\n",
    "**Yazım hatası bildir**\n",
    "\n",
    "**Açıklama**\n",
    "Projenin ikinci aşamasında, bir **remote** (uzak depo) tanımladınız. Şimdi değişikliklerinizi bu uzak depoya gönderebilirsiniz (**push**). İlk denemenizde değişiklikleri gönderirken `-u` veya `--set-upstream` seçeneğini kullanmayı unutmayın. Böylece gelecekte yapacağınız tüm **push**/**pull** işlemleri, otomatik olarak tanımladığınız upstream branch’i hedefleyecektir.\n",
    "\n",
    "Eğer upstream’i ayarlamazsanız, her push/pull denemenizde uzak deponun (remote) adını ve branch adını açıkça belirtmeniz gerekir.\n",
    "\n",
    "**Hedefler**\n",
    "\n",
    "* Değişikliklerinizi uzak depoya gönderin.\n",
    "**Push**\n",
    "\n",
    "Description\n",
    "In the second stage of the project, you've defined a remote. Now, you can push your changes to it. While pushing your changes, don't forget the -u or the --set-upstream option in your first attempt. Now, any future push/pull attempt will target the upstream branch automatically.\n",
    "\n",
    "If you do not set the upstream, with any push/pull attempt you need to define the name of the remote, and the name of the branch explicitly.\n",
    "\n",
    "Objectives\n",
    "Push your changes to the remote\n",
    "Write a program\n",
    "\n",
    "\n",
    "# Write your solution below\n",
    "# You should write the commands line by line\n",
    "\n",
    "git push -u origin main\n",
    "\n"
   ]
  },
  {
   "metadata": {},
   "cell_type": "code",
   "outputs": [],
   "execution_count": null,
   "source": ""
  }
 ],
 "metadata": {
  "kernelspec": {
   "display_name": "Kotlin",
   "language": "kotlin",
   "name": "kotlin"
  },
  "language_info": {
   "name": "kotlin",
   "version": "2.2.20-dev-4982",
   "mimetype": "text/x-kotlin",
   "file_extension": ".kt",
   "pygments_lexer": "kotlin",
   "codemirror_mode": "text/x-kotlin",
   "nbconvert_exporter": ""
  }
 },
 "nbformat": 4,
 "nbformat_minor": 0
}
