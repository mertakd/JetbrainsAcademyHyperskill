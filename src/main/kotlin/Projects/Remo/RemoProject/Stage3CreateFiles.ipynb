{
 "cells": [
  {
   "cell_type": "code",
   "execution_count": null,
   "metadata": {
    "collapsed": true
   },
   "outputs": [],
   "source": [
    ""
   ]
  },
  {
   "metadata": {},
   "cell_type": "markdown",
   "source": [
    "**Dosyalar oluştur**\n",
    "**Açıklama**\n",
    "Boş bir depo çok mantıklı değildir. Üzerinde çalışmak için bazı dosyalar ekleyelim.\n",
    "\n",
    "Bash’te **echo** adında bir komut vardır. Bu komut, kendisine argüman olarak verilen bir metin/dizeyi ekrana yazdırmak için kullanılır. Ancak echo komutunun yardımıyla içerikli dosyalar oluşturabilir veya mevcut bir dosyaya içerik ekleyebilirsiniz. Bu proje aşamasında her iki işlemi de yapacaksınız.\n",
    "\n",
    "Öncelikle, **main.py** adında bir Python dosyası oluşturun ve içerisine şu kodu yazın:\n",
    "\n",
    "```\n",
    "print('Hello world')\n",
    "```\n",
    "\n",
    "Aynı isimde bir dosya varsa, onu **üzerine yazarak (overwrite)** değiştirin ve dosyanın içeriğini bu kod ile değiştirin.\n",
    "\n",
    "Eğer bu dosyayı Python yüklü bir ortamda çalıştırırsanız, **Hello world** çıktısını standart çıktıya yazdırır. Ancak bu yalnızca bilgi amaçlıdır; sizin göreviniz bu dosyayı çalıştırmak değil.\n",
    "\n",
    "Şimdi, **.env** adında başka bir dosya var. İçerisine şu metni ekleyin:\n",
    "\n",
    "```\n",
    "PASSWORD=Ax?bu75+33\n",
    "```\n",
    "\n",
    "Ancak dikkat edin, mevcut dosyayı **silmeden** içeriği ekleyin.\n",
    "\n",
    "`.env` dosyaları; URL’ler, API anahtarları ve gizli bilgiler gibi çevresel değişkenleri saklamak için kullanılabilir.\n",
    "\n",
    "---\n",
    "\n",
    "**Hedefler**\n",
    "\n",
    "1. İlk dosyayı oluşturun.\n",
    "2. İkinci dosyaya içerik ekleyin.\n",
    "\n",
    "**Program yazın**\n",
    "\n",
    "\n",
    "# Write your solution below\n",
    "# You should write the commands line by line\n",
    "echo \"print('Hello world')\" > main.py\n",
    "echo \"PASSWORD=Ax?bu75+33\" >> .env\n",
    "\n",
    "\n",
    "\n",
    "> → overwrite (üzerine yazma)\n",
    "\n",
    ">> → append (ekleme)"
   ]
  }
 ],
 "metadata": {
  "kernelspec": {
   "display_name": "Kotlin",
   "language": "kotlin",
   "name": "kotlin"
  },
  "language_info": {
   "name": "kotlin",
   "version": "1.9.23",
   "mimetype": "text/x-kotlin",
   "file_extension": ".kt",
   "pygments_lexer": "kotlin",
   "codemirror_mode": "text/x-kotlin",
   "nbconvert_exporter": ""
  }
 },
 "nbformat": 4,
 "nbformat_minor": 0
}
