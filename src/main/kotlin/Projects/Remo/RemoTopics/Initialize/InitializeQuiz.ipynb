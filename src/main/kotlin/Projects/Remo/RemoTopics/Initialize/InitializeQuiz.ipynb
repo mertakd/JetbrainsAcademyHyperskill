{
 "cells": [
  {
   "cell_type": "code",
   "execution_count": null,
   "metadata": {
    "collapsed": true
   },
   "outputs": [],
   "source": [
    ""
   ]
  },
  {
   "metadata": {},
   "cell_type": "markdown",
   "source": [
    "**Initialize a repo and add files**\n",
    "\n",
    "You are working on three files locally:\n",
    "\n",
    "file1.txt: (contains \"Content for file1\")\n",
    "\n",
    "file2.txt: (contains \"Content for file2\")\n",
    "\n",
    "file3.txt: (contains \"Content for file3\")\n",
    "\n",
    "Now:\n",
    "\n",
    "Initialize a new Git repository;\n",
    "\n",
    "Add all three files to the staging area;\n",
    "\n",
    "Check the current state of the working directory.\n",
    "\n",
    "Write your Git command(s) below line by line.\n",
    "\n",
    "\n",
    "\n",
    "# Write commands below line by line\n",
    "git init\n",
    "git add -A\n",
    "git status"
   ]
  },
  {
   "metadata": {},
   "cell_type": "code",
   "outputs": [],
   "execution_count": null,
   "source": [
    "\n",
    "\n",
    "\n",
    "\n",
    "\n",
    "\n",
    "\n",
    "\n",
    "\n"
   ]
  },
  {
   "metadata": {},
   "cell_type": "markdown",
   "source": [
    "**Commit message**\n",
    "\n",
    "\n",
    "What should you add to the $ git commit command for the commit to have a comment?\n",
    "\n",
    "Select one option from the list\n",
    "\n",
    "- m \"commit text\"\n",
    "\n",
    "-m \"commit text\"    T\n",
    "\n",
    "m \"commit text\""
   ]
  },
  {
   "metadata": {},
   "cell_type": "code",
   "outputs": [],
   "execution_count": null,
   "source": [
    "\n",
    "\n",
    "\n",
    "\n",
    "\n",
    "\n",
    "\n",
    "\n",
    "\n",
    "\n"
   ]
  },
  {
   "metadata": {},
   "cell_type": "markdown",
   "source": [
    "**Application**\n",
    "\n",
    "\n",
    "You have 10 files to add to your repository, but you have no time to commit them one by one. Type here a command that will save your time.\n",
    "\n",
    "Enter a short text\n",
    "git add -A"
   ]
  },
  {
   "metadata": {},
   "cell_type": "code",
   "outputs": [],
   "execution_count": null,
   "source": [
    "\n",
    "\n",
    "\n",
    "\n",
    "\n",
    "\n",
    "\n",
    "\n",
    "\n"
   ]
  },
  {
   "metadata": {},
   "cell_type": "markdown",
   "source": [
    "**New file**\n",
    "\n",
    "Which command should one use to add the program.py file to the git repository?\n",
    "\n",
    "Select one option from the list\n",
    "\n",
    "\n",
    "git add program.py   T\n",
    "\n",
    "git upload program.py\n",
    "\n",
    "git add -A program.py\n",
    "\n",
    "git push program.py"
   ]
  },
  {
   "metadata": {},
   "cell_type": "code",
   "outputs": [],
   "execution_count": null,
   "source": [
    "\n",
    "\n",
    "\n",
    "\n",
    "\n",
    "\n",
    "\n",
    "\n",
    "\n"
   ]
  },
  {
   "metadata": {},
   "cell_type": "markdown",
   "source": [
    "**Fix the changes**\n",
    "\n",
    "Which command should one use in order to save the changes in a repository?\n",
    "\n",
    "Select one option from the list\n",
    "\n",
    "git pop\n",
    "\n",
    "git commit      T\n",
    "\n",
    "git push\n",
    "\n",
    "git save"
   ]
  },
  {
   "metadata": {},
   "cell_type": "code",
   "outputs": [],
   "execution_count": null,
   "source": ""
  },
  {
   "metadata": {},
   "cell_type": "code",
   "outputs": [],
   "execution_count": null,
   "source": [
    "\n",
    "\n",
    "\n",
    "\n",
    "\n",
    "\n",
    "\n",
    "\n",
    "\n"
   ]
  },
  {
   "metadata": {},
   "cell_type": "markdown",
   "source": [
    "**Commit representation**\n",
    "\n",
    "A commit represents\n",
    "\n",
    "Select one option from the list\n",
    "\n",
    "the number of changes in a project\n",
    "\n",
    "the attitude a programmer has about their project\n",
    "\n",
    "the state of the project at a specific point in time\n",
    "\n",
    "the state of the repository at a specific point in time  T"
   ]
  },
  {
   "metadata": {},
   "cell_type": "code",
   "outputs": [],
   "execution_count": null,
   "source": [
    "\n",
    "\n",
    "\n",
    "\n",
    "\n",
    "\n",
    "\n",
    "\n",
    "\n",
    "\n",
    "\n"
   ]
  },
  {
   "metadata": {},
   "cell_type": "markdown",
   "source": [
    "**Initializing a repository**\n",
    "\n",
    "The git init command allows you to create\n",
    "\n",
    "Select one option from the list\n",
    "\n",
    "a local repository with files\n",
    "\n",
    "a remote repository and copy it on your disk\n",
    "\n",
    "a repository and copy it on your disk\n",
    "\n",
    "a local repository            T\n",
    "\n",
    "several repositories at once"
   ]
  },
  {
   "metadata": {},
   "cell_type": "code",
   "outputs": [],
   "execution_count": null,
   "source": [
    "\n",
    "\n",
    "\n",
    "\n",
    "\n",
    "\n",
    "\n",
    "\n",
    "\n",
    "\n"
   ]
  },
  {
   "metadata": {},
   "cell_type": "markdown",
   "source": [
    "**Arrange in correct order**\n",
    "\n",
    "Arrange the sequence of actions in the correct order.\n",
    "\n",
    "Put the items in the correct order\n",
    "create a directory with files\n",
    "initialize a new git repository\n",
    "perform git add command\n",
    "commit changes and add a comment"
   ]
  },
  {
   "metadata": {},
   "cell_type": "code",
   "outputs": [],
   "execution_count": null,
   "source": [
    "\n",
    "\n",
    "\n",
    "\n",
    "\n",
    "\n",
    "\n",
    "\n",
    "\n"
   ]
  },
  {
   "metadata": {},
   "cell_type": "markdown",
   "source": [
    "**Git repository**\n",
    "\n",
    "A Git repository is...\n",
    "\n",
    "Select one option from the list\n",
    "\n",
    "a server where users can find git source code\n",
    "\n",
    "a trashbin for all projects that are not needed\n",
    "\n",
    "a website that all the git files are sent\n",
    "\n",
    "a special directory that contains programs in development    T\n"
   ]
  },
  {
   "metadata": {},
   "cell_type": "code",
   "outputs": [],
   "execution_count": null,
   "source": [
    "\n",
    "\n",
    "\n",
    "\n",
    "\n",
    "\n",
    "\n",
    "\n",
    "\n",
    "\n"
   ]
  },
  {
   "metadata": {},
   "cell_type": "markdown",
   "source": [
    "**Working with the repository**\n",
    "\n",
    "Lana created her own repository and added some files there. Then she made a commit and decided to check the state of her repository. Type the command which Lana should use.\n",
    "\n",
    "Enter a short text\n",
    "git status"
   ]
  },
  {
   "metadata": {},
   "cell_type": "code",
   "outputs": [],
   "execution_count": null,
   "source": [
    "\n",
    "\n",
    "\n",
    "\n",
    "\n",
    "\n",
    "\n",
    "\n",
    "\n"
   ]
  },
  {
   "metadata": {},
   "cell_type": "markdown",
   "source": [
    "**Your initial commit**\n",
    "\n",
    "Imagine you are developing a Flask app. In your project repository you have several files, including:\n",
    "\n",
    "Three Python source files (for example, app.py, routes.py, config.py);\n",
    "\n",
    "A Dockerfile (used for containerization);\n",
    "\n",
    "A README.md file with the project description.\n",
    "\n",
    "Your tasks are:\n",
    "\n",
    "Initialize a new Git repository;\n",
    "\n",
    "First, add only the three Python source files to the staging area and commit them with the commit message \"Initial commit\". (Do not add the Dockerfile and README.md files);\n",
    "\n",
    "Then the README.md file and commit it with the commit message \"Add README\". (Do not add the Dockerfile)\n",
    "\n",
    "Write your Git command(s) line by line.\n",
    "\n",
    "# Write your solution below\n",
    "git init\n",
    "git add app.py routes.py config.py\n",
    "git commit -m \"Initial commit\"\n",
    "git add README.md\n",
    "git commit -m \"Add README\"\n"
   ]
  },
  {
   "metadata": {},
   "cell_type": "code",
   "outputs": [],
   "execution_count": null,
   "source": [
    "\n",
    "\n",
    "\n",
    "\n",
    "\n",
    "\n",
    "\n",
    "\n",
    "\n",
    "\n",
    "\n",
    "\n"
   ]
  },
  {
   "metadata": {},
   "cell_type": "markdown",
   "source": [
    "**Remote server**\n",
    "\n",
    "Why do you need a remote server? Select all the correct answers.\n",
    "\n",
    "Select one or more options from the list\n",
    "\n",
    "\n",
    "\n",
    "to conduct development without Internet access\n",
    "\n",
    "to share the code so it can be seen by other developers  T\n",
    "\n",
    "to deliver the code to the server where it will run      T\n",
    "\n",
    "you don't need it at all, you can use a browser instead\n"
   ]
  },
  {
   "metadata": {},
   "cell_type": "markdown",
   "source": ""
  }
 ],
 "metadata": {
  "kernelspec": {
   "display_name": "Kotlin",
   "language": "kotlin",
   "name": "kotlin"
  },
  "language_info": {
   "name": "kotlin",
   "version": "1.9.23",
   "mimetype": "text/x-kotlin",
   "file_extension": ".kt",
   "pygments_lexer": "kotlin",
   "codemirror_mode": "text/x-kotlin",
   "nbconvert_exporter": ""
  }
 },
 "nbformat": 4,
 "nbformat_minor": 0
}
