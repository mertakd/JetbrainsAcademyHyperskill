{
 "cells": [
  {
   "cell_type": "code",
   "execution_count": null,
   "metadata": {
    "collapsed": true
   },
   "outputs": [],
   "source": [
    ""
   ]
  },
  {
   "metadata": {},
   "cell_type": "markdown",
   "source": [
    "**Working directory**\n",
    "\n",
    "What is stored in the working directory? Choose one right answer.\n",
    "\n",
    "Select one option from the list\n",
    "\n",
    "\n",
    "project version image  T\n",
    "\n",
    "all files from the Internet\n",
    "\n",
    "all files from your folder\n",
    "\n",
    "project version document"
   ]
  },
  {
   "metadata": {},
   "cell_type": "code",
   "outputs": [],
   "execution_count": null,
   "source": [
    "\n",
    "\n",
    "\n",
    "\n",
    "\n",
    "\n",
    "\n",
    "\n",
    "\n"
   ]
  },
  {
   "metadata": {},
   "cell_type": "markdown",
   "source": [
    "**Git folder content**\n",
    "\n",
    "What the .git folder does NOT contain?\n",
    "\n",
    "Select one option from the list\n",
    "\n",
    "\n",
    "project documentation T\n",
    "\n",
    "hooks\n",
    "\n",
    "description\n",
    "\n",
    "config"
   ]
  },
  {
   "metadata": {},
   "cell_type": "code",
   "outputs": [],
   "execution_count": null,
   "source": [
    "\n",
    "\n",
    "\n",
    "\n",
    "\n",
    "\n",
    "\n",
    "\n",
    "\n"
   ]
  },
  {
   "metadata": {},
   "cell_type": "markdown",
   "source": [
    "**Choose the right commit definition**\n",
    "\n",
    "What does commit mean?\n",
    "\n",
    "Select one option from the list\n",
    "\n",
    "\n",
    "changing your project\n",
    "\n",
    "saving your current project version    T\n",
    "\n",
    "changing your project status\n",
    "\n",
    "saving the state of your repository"
   ]
  },
  {
   "metadata": {},
   "cell_type": "code",
   "outputs": [],
   "execution_count": null,
   "source": [
    "\n",
    "\n",
    "\n",
    "\n",
    "\n",
    "\n",
    "\n",
    "\n",
    "\n"
   ]
  },
  {
   "metadata": {},
   "cell_type": "markdown",
   "source": [
    "**File stages**\n",
    "\n",
    "Name three main states of a file in Git.\n",
    "\n",
    "Select one or more options from the list\n",
    "\n",
    "\n",
    "changed\n",
    "\n",
    "modified          T\n",
    "\n",
    "commited          T\n",
    "\n",
    "saved\n",
    "\n",
    "prepared         T"
   ]
  },
  {
   "metadata": {},
   "cell_type": "code",
   "outputs": [],
   "execution_count": null,
   "source": [
    "\n",
    "\n",
    "\n",
    "\n",
    "\n",
    "\n",
    "\n",
    "\n",
    "\n"
   ]
  },
  {
   "metadata": {},
   "cell_type": "markdown",
   "source": ""
  },
  {
   "metadata": {},
   "cell_type": "markdown",
   "source": [
    "**Put actions in the right order**\n",
    "\n",
    "Arrange the basic Git approach actions in the right order.\n",
    "\n",
    "Put the items in the correct order\n",
    "\n",
    "change files in working directory\n",
    "add files to the staging area\n",
    "commit changes"
   ]
  },
  {
   "metadata": {},
   "cell_type": "code",
   "outputs": [],
   "execution_count": null,
   "source": [
    "\n",
    "\n",
    "\n",
    "\n",
    "\n",
    "\n",
    "\n",
    "\n",
    "\n"
   ]
  },
  {
   "metadata": {},
   "cell_type": "markdown",
   "source": [
    "**Config file content**\n",
    "\n",
    "What's in the Git config file?\n",
    "\n",
    "Select one option from the list\n",
    "\n",
    "metadata\n",
    "\n",
    "a description of the repository\n",
    "\n",
    "files that are not supposed to be commited\n",
    "\n",
    "settings for working with your repository       T"
   ]
  },
  {
   "metadata": {},
   "cell_type": "code",
   "outputs": [],
   "execution_count": null,
   "source": ""
  },
  {
   "metadata": {},
   "cell_type": "code",
   "outputs": [],
   "execution_count": null,
   "source": [
    "\n",
    "\n",
    "\n",
    "\n",
    "\n",
    "\n",
    "\n",
    "\n",
    "\n"
   ]
  },
  {
   "metadata": {},
   "cell_type": "markdown",
   "source": [
    "**Where are the changes stored?**\n",
    "\n",
    "All the changes that are made in Git are stored in a local\n",
    "\n",
    "Select one option from the list\n",
    "\n",
    "database T\n",
    "\n",
    "disk\n",
    "\n",
    "repository\n",
    "\n",
    "folder"
   ]
  }
 ],
 "metadata": {
  "kernelspec": {
   "display_name": "Kotlin",
   "language": "kotlin",
   "name": "kotlin"
  },
  "language_info": {
   "name": "kotlin",
   "version": "1.9.23",
   "mimetype": "text/x-kotlin",
   "file_extension": ".kt",
   "pygments_lexer": "kotlin",
   "codemirror_mode": "text/x-kotlin",
   "nbconvert_exporter": ""
  }
 },
 "nbformat": 4,
 "nbformat_minor": 0
}
