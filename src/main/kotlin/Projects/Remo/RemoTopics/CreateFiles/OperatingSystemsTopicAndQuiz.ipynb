{
 "cells": [
  {
   "cell_type": "code",
   "execution_count": null,
   "metadata": {
    "collapsed": true
   },
   "outputs": [],
   "source": [
    ""
   ]
  },
  {
   "metadata": {},
   "cell_type": "markdown",
   "source": [
    "# Programlar Donanımla Nasıl Konuşur? Cevap: İşletim Sistemi (Operating System/OS)\n",
    "\n",
    "Bilgisayarlar birbirinden çok farklı donanıma sahip olabilir ama aynı programları çalıştırabilir. Bunu mümkün kılan şey, uygulamalar ile donanım arasındaki “aracı” katman: **işletim sistemi (operating system/OS)**.\n",
    "\n",
    "## İşletim Sistemi (OS) Nedir?\n",
    "\n",
    "**İşletim sistemi**, tüm uygulamalar ile bilgisayarın işlemci, bellek, disk, ağ ve çevre birimleri gibi kaynakları arasındaki iletişimi yöneten yazılım katmanıdır. Basit parçalar topluluğunu, farklı görevleri verimli biçimde yapabilen bir sisteme dönüştürür.\n",
    "\n",
    "Kişisel bilgisayarlarda en yaygın sistemler **Microsoft Windows**, **macOS** ve **Linux dağıtımları (Linux distributions)**; mobilde **Android** ve **iOS**’tur. Hatta akıllı kettle ve buzdolaplarında bile minik bir **gömülü OS (embedded OS)** bulunur.\n",
    "\n",
    "## OS Neler Yapar? (Temel Fonksiyonlar)\n",
    "\n",
    "Bir OS, uygulamalar ile donanım arasında **arabulucu (mediator)** gibi çalışır; donanımın detaylarına inmeden cihazla etkileşime girmemizi sağlar. Başlıca görevleri:\n",
    "\n",
    "* **Veri koruma ve erişim güvenliği (data protection & secure access)**\n",
    "  Kullanıcı izinlerini, kimlik doğrulamayı ve yalıtımı yönetir.\n",
    "* **Kaynak yönetimi (resource management)**\n",
    "  **İşlemci zamanlaması (CPU scheduling)**, **bellek yönetimi (memory management)**, **girdi/çıktı (I/O) yönetimi**.\n",
    "* **Donanım ve çevre birimleriyle etkileşim (hardware & peripherals)**\n",
    "  Klavye, fare, yazıcı, kamera vb. ile konuşmak için **sürücüler (drivers)** kullanır.\n",
    "* **Dosya yönetimi (file management)**\n",
    "  **Dosya sistemi (file system)** üzerinden dosya/klasör oluşturma, okuma, yazma.\n",
    "* **Program çalıştırma (process management)**\n",
    "  Uygulamaları **süreç (process)** olarak başlatır, izler; gerekirse **iş parçacıkları (threads)** ile paralelliği yönetir.\n",
    "\n",
    "## OS’in Bileşenleri\n",
    "\n",
    "* **Çekirdek (kernel)**\n",
    "  OS’in kalbidir; bilgisayar açılır açılmaz yüklenen ilk yazılımlardandır. Programların ihtiyaç duyduğu temel hizmetleri sağlar.\n",
    "\n",
    "  * **Monolitik çekirdek (monolithic kernel):** Pek çok işlevi tek, büyük bir çekirdek içinde yapar.\n",
    "  * **Mikro çekirdek (microkernel):** Asgari işlevleri içerir; diğer kısımlar modüller/sürücüler olarak dışarıda çalışır.\n",
    "* **Grafiksel kullanıcı arayüzü (graphical user interface/GUI)**\n",
    "  Pencereler, ikonlar, sesli/ görsel geri bildirimle etkileşim kurduğumuz katman.\n",
    "* **Komut satırı arayüzü (command-line interface/CLI)**\n",
    "  Metin tabanlı terminalden komut yazarak OS ile konuşuruz.\n",
    "* **Sürücüler (drivers) ve servisler (services/daemons)**\n",
    "  Donanıma özel modüller ve arka planda çalışan sistem hizmetleri.\n",
    "\n",
    "## Program–Donanım Etkileşimi Kısaca Nasıl Olur?\n",
    "\n",
    "1. **Önyükleme (boot)** sırasında **çekirdek (kernel)** yüklenir.\n",
    "2. Çekirdek gerekli **sürücü (driver)** ve **servis (service/daemon)**’leri başlatır.\n",
    "3. Bir uygulama çalıştığında, donanıma erişmek için **sistem çağrısı (system call)** yapar.\n",
    "4. OS bu isteği güvenli ve adil biçimde işler; kaynakları tahsis eder ve sonucu uygulamaya döndürür.\n",
    "\n",
    "## Neden Önemli?\n",
    "\n",
    "İşletim sistemi, aynı uygulamanın farklı donanımlarda çalışabilmesini sağlar. Aynı OS’i paylaşan bilgisayarlar, donanımsal olarak farklı olsa bile, OS’in sunduğu ortak arayüzler sayesinde **aynı programları** güvenli ve kararlı şekilde çalıştırabilir.\n",
    "\n",
    "## Sonuç\n",
    "\n",
    "Bir **işletim sistemi (operating system/OS)** olmadan bilgisayarı etkin biçimde kullanmak mümkün değildir. OS; güvenlikten kaynağa, dosyadan donanıma kadar her şeyi düzenler, uygulamalarla donanım arasında köprü kurar ve bilgisayarı “kullanılabilir” kılar.\n",
    "\n",
    "> Kısa özet: OS = aracı + kaynak yöneticisi + güvenlik kapısı. Uygulamalar rahatça yazılsın ve her yerde çalışsın diye görünmeyen tüm işi o yapar.\n"
   ]
  },
  {
   "metadata": {},
   "cell_type": "code",
   "outputs": [],
   "execution_count": null,
   "source": [
    "\n",
    "\n",
    "\n",
    "\n",
    "\n",
    "\n",
    "\n",
    "\n",
    "\n",
    "\n",
    "\n",
    "\n",
    "\n",
    "\n",
    "\n",
    "\n",
    "\n",
    "\n",
    "\n"
   ]
  },
  {
   "metadata": {},
   "cell_type": "markdown",
   "source": [
    "**Interaction**\n",
    "\n",
    "What are the interfaces that allow users to interact with the device?\n",
    "\n",
    "Select one or more options from the list\n",
    "\n",
    "OS Process Management\n",
    "\n",
    "User Space Interface\n",
    "\n",
    "Graphical User Interface\n",
    "\n",
    "Command Line Interface"
   ]
  },
  {
   "metadata": {},
   "cell_type": "code",
   "outputs": [],
   "execution_count": null,
   "source": [
    "\n",
    "\n",
    "\n",
    "\n",
    "\n",
    "\n",
    "\n",
    "\n",
    "\n"
   ]
  },
  {
   "metadata": {},
   "cell_type": "markdown",
   "source": [
    "**Kernels**\n",
    "\n",
    "Find the correct definitions.\n",
    "\n",
    "Match the items from left and right columns\n",
    "Monolithic kernel\n",
    "Microkernel\n",
    "Kernel\n",
    "is a program that performs most of the OS functions\n",
    "performs a smaller subset of the OS functions, can be extended with additional modules - drivers\n",
    "is a mandatory part of any OS, it's core"
   ]
  },
  {
   "metadata": {},
   "cell_type": "code",
   "outputs": [],
   "execution_count": null,
   "source": [
    "\n",
    "\n",
    "\n",
    "\n",
    "\n",
    "\n",
    "\n",
    "\n",
    "\n"
   ]
  },
  {
   "metadata": {},
   "cell_type": "markdown",
   "source": [
    "**Match concepts**\n",
    "\n",
    "Try to guess and find correct matches between the concepts on the left with what corresponds to the concepts on the right based on the theory.\n",
    "\n",
    "Match the items from left and right columns\n",
    "\n",
    "User space\n",
    "Operating System\n",
    "Hardware\n",
    "Application and Libraries\n",
    "Processor, Memory and Device management\n",
    "Processor, Memory, Devices"
   ]
  },
  {
   "metadata": {},
   "cell_type": "code",
   "outputs": [],
   "execution_count": null,
   "source": [
    "\n",
    "\n",
    "\n",
    "\n",
    "\n",
    "\n",
    "\n",
    "\n",
    "\n"
   ]
  },
  {
   "metadata": {},
   "cell_type": "markdown",
   "source": [
    "**What does GUI stand for?**\n",
    "\n",
    "Select one option from the list\n",
    "\n",
    "Get Updated Information\n",
    "\n",
    "\n",
    "Graphical User Interface    t\n",
    "\n",
    "Graphical User Instruction\n",
    "\n",
    "General User Interface"
   ]
  },
  {
   "metadata": {},
   "cell_type": "code",
   "outputs": [],
   "execution_count": null,
   "source": [
    "\n",
    "\n",
    "\n",
    "\n",
    "\n",
    "\n",
    "\n",
    "\n",
    "\n"
   ]
  },
  {
   "metadata": {},
   "cell_type": "markdown",
   "source": [
    "**CLI**\n",
    "\n",
    "What does CLI stand for?\n",
    "\n",
    "Select one option from the list\n",
    "\n",
    "\n",
    "Command-Line Interface   t\n",
    "\n",
    "Command-Line Interpreter\n",
    "\n",
    "Command Language Interpreter\n",
    "\n",
    "Common Linux Interface\n",
    "\n",
    "Call-Level Interface"
   ]
  },
  {
   "metadata": {},
   "cell_type": "code",
   "outputs": [],
   "execution_count": null,
   "source": [
    "\n",
    "\n",
    "\n",
    "\n",
    "\n",
    "\n",
    "\n",
    "\n",
    "\n"
   ]
  },
  {
   "metadata": {},
   "cell_type": "markdown",
   "source": [
    "**OS**\n",
    "\n",
    "Select all operating systems:\n",
    "\n",
    "Select one or more options from the list\n",
    "\n",
    "\n",
    "\n",
    "CLI\n",
    "\n",
    "macOS t\n",
    "\n",
    "iOS t\n",
    "\n",
    "Kernel\n",
    "\n",
    "GUI\n",
    "\n",
    "Microsoft Windows t\n",
    "\n",
    "Android t"
   ]
  },
  {
   "metadata": {},
   "cell_type": "code",
   "outputs": [],
   "execution_count": null,
   "source": [
    "\n",
    "\n",
    "\n",
    "\n",
    "\n",
    "\n",
    "\n",
    "\n",
    "\n"
   ]
  },
  {
   "metadata": {},
   "cell_type": "markdown",
   "source": [
    "**Terms**\n",
    "\n",
    "Match the terms with their definitions:\n",
    "\n",
    "Match the items from left and right columns\n",
    "OS\n",
    "Kernel\n",
    "CLI\n",
    "GUI\n",
    "Manages computer hardware, software resources, and provides common services for computer programs\n",
    "The main part of any operating system providing programs with coordinated access to computer resources\n",
    "Text-based interface in which a person interacts with a computer with commands\n",
    "User interface that allows users to interact with the device using graphical icons"
   ]
  },
  {
   "metadata": {},
   "cell_type": "code",
   "outputs": [],
   "execution_count": null,
   "source": [
    "\n",
    "\n",
    "\n",
    "\n",
    "\n",
    "\n",
    "\n",
    "\n",
    "\n"
   ]
  },
  {
   "metadata": {},
   "cell_type": "markdown",
   "source": [
    "**Main function**\n",
    "\n",
    "What is the main function of an OS?\n",
    "\n",
    "Select one option from the list\n",
    "\n",
    "\n",
    "It supplies power to all components of a computer\n",
    "\n",
    "It performs all the arithmetic and logic operations\n",
    "\n",
    "It secures access to the user data with logins and passwords\n",
    "\n",
    "It controls the communication between all the computer software and hardware  t\n"
   ]
  },
  {
   "metadata": {},
   "cell_type": "markdown",
   "source": [
    "**Riddle from Sphinx**\n",
    "\n",
    "Now, based on the theory try to answer a riddle from the famous Sphinx:\n",
    "\n",
    "\"A thing there is\n",
    "\n",
    "whose types are two:\n",
    "\n",
    "Large one of them\n",
    "\n",
    "and many things can do,\n",
    "\n",
    "Small second one\n",
    "\n",
    "and do a few,\n",
    "\n",
    "Important both are\n",
    "\n",
    "from any point of view.\n",
    "\n",
    "When you turn your computer on\n",
    "\n",
    "It loads early, one of the first.\"\n",
    "\n",
    "\n",
    "kernel   t\n",
    "\n",
    "operating system\n",
    "\n",
    "driver\n",
    "\n",
    "BIOS"
   ]
  }
 ],
 "metadata": {
  "kernelspec": {
   "display_name": "Kotlin",
   "language": "kotlin",
   "name": "kotlin"
  },
  "language_info": {
   "name": "kotlin",
   "version": "1.9.23",
   "mimetype": "text/x-kotlin",
   "file_extension": ".kt",
   "pygments_lexer": "kotlin",
   "codemirror_mode": "text/x-kotlin",
   "nbconvert_exporter": ""
  }
 },
 "nbformat": 4,
 "nbformat_minor": 0
}
