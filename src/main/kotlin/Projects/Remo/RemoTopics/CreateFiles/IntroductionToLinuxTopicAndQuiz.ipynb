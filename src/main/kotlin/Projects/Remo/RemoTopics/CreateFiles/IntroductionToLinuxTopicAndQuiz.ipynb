{
 "cells": [
  {
   "cell_type": "code",
   "execution_count": null,
   "metadata": {
    "collapsed": true
   },
   "outputs": [],
   "source": ""
  },
  {
   "metadata": {},
   "cell_type": "markdown",
   "source": [
    "# Linux Nedir? (Linux Kernel ve OS Ailesi)\n",
    "\n",
    "**Linux**, **Linux çekirdeğini (Linux kernel)** kullanan işletim sistemleri (**operating systems/OS**) ailesidir. Geliştiriciler için pek çok kullanışlı araç sunar; ayrıca Linux’tan doğan kavramlar, birçok **programlama dili (programming language)** fikrine ilham vermiştir.\n",
    "\n",
    "## Maskot: Tux (Linux Mascot)\n",
    "\n",
    "Linux’un maskotu **Tux** adında bir penguendir. Bu sembol tesadüf değildir; çekirdeğin yaratıcısı **Linus Torvalds**’ın çocukluğunda buna benzer bir oyuncağı vardı.\n",
    "\n",
    "## Kısa Tarihçe (A Brief History of Linux)\n",
    "\n",
    "Finlandiyalı yazılım mühendisi **Linus Torvalds**, **1991**’de Linux çekirdeğini geliştirmeye başladı. Çalışmasını o dönem kurumlar ve bilim çevrelerinde popüler olan **UNIX**’ten esinlenerek yürüttü.\n",
    "İlk sürüm oldukça hamdı; çok sayıda hata içeriyordu. Linus, **kaynak kodu (source code)** internette açıkça yayımladı (**openly published / open source** yaklaşımı). Böylece dünya genelinde pek çok kişi projeye ilgi gösterdi; **hata düzeltmeleri (bug fixes)** ve iyileştirmeler göndermeye başladı. Linux’un toplulukça gelişimi böyle hızlandı.\n",
    "\n",
    "## Dağıtımlar (Distributions)\n",
    "\n",
    "Tek başına çekirdek, yani **kernel**, işe yaramaz; ama üzerine **işletim sistemi (operating system)** inşa edilebilir. Linux çekirdeği serbestçe (ücretsiz) yayımlandığı için herkes ihtiyaçlarına göre özelleştirebildi; böylece **dağıtımlar (distributions)** doğdu.\n",
    "**Dağıtım**, Linux çekirdeği üzerine kurulu; çoğu zaman kutudan çıktığı gibi **Grafiksel Kullanıcı Arayüzü (Graphical User Interface/GUI)** ve pek çok **ön yüklü yazılım (pre-installed software)** ile gelen bir işletim sistemidir.\n",
    "\n",
    "Sık duydukların:\n",
    "\n",
    "* **Ubuntu**\n",
    "* **Fedora**\n",
    "* **Debian**\n",
    "* **Arch Linux**\n",
    "* **Gentoo**\n",
    "\n",
    "Bunlar sadece birkaç örnek. İstersen **sıfırdan (from scratch)** ya da mevcut projeler temel alınarak kendi dağıtımını bile oluşturabilirsin.\n",
    "\n",
    "## Nerede ve Neden Linux? (Where & Why)\n",
    "\n",
    "Linux çekirdeği **ücretsiz (free of charge)**, **özelleştirilebilir (customizable)**, **güvenilir (reliable)** ve **kaynak gereksinimi düşük (resource-efficient)** bir yapıya sahiptir.\n",
    "\n",
    "* İyi tasarlanmış **dosya sistemi (file system)** sayesinde GUI’siz (**headless**) dağıtımlar rahatça çalışır.\n",
    "* Geniş **donanım desteği (hardware support)** bulunur; özgür Linux **sürücüleri (drivers)** çekirdeğe gömülüdür.\n",
    "* Kapsamı çok geniştir: sıradan **kişisel bilgisayarlar (PCs)**, **sunucular (servers)**, **gömülü sistemler (embedded systems)** ve **ağ yazılımları (network software)** üzerinde mükemmel çalışır.\n",
    "* Dünyadaki **süper bilgisayarların (supercomputers)** çoğu Linux ile çalışır (ör. **CERN**).\n",
    "* **Android OS**, **Linux çekirdeği** üzerine kuruludur.\n",
    "\n",
    "Bu kadar geniş cihaz yelpazesi, uygulamaların **taşınabilirliğini (portability)** artırır: Aynı uygulamayı küçük uyarlamalarla hem masaüstünde hem de Linux tabanlı bir akıllı telefonda çalıştırmak çoğu zaman mümkündür.\n",
    "\n",
    "## Sonuç\n",
    "\n",
    "Linux’u tanımada ilk adımı attın: **avantajlarını** gördün ve **topluluk (community)** desteğiyle nasıl milyonlarca cihazda ana işletim sistemi hâline geldiğini anladın.\n",
    "Linux; **modern (modern)**, **stabil (stable)**, **çok kullanıcılı (multiuser)** ve **çok görevli (multitasking)** bir ortam sağlar — üstelik **maliyetsiz (no cost)**. Geriye doğru dağıtımı **seçmek (pick the right distribution)** ve istersen ihtiyaçlarına göre **özelleştirmek (customize)** kalıyor.\n"
   ]
  },
  {
   "metadata": {},
   "cell_type": "code",
   "outputs": [],
   "execution_count": null,
   "source": [
    "\n",
    "\n",
    "\n",
    "\n",
    "\n",
    "\n",
    "\n",
    "\n",
    "\n"
   ]
  },
  {
   "metadata": {},
   "cell_type": "markdown",
   "source": [
    "**History of Linux**\n",
    "\n",
    "In what year did Linus Torvalds create the Linux kernel?\n",
    "\n",
    "1981\n",
    "\n",
    "1971\n",
    "\n",
    "2001\n",
    "\n",
    "1991 t"
   ]
  },
  {
   "metadata": {},
   "cell_type": "code",
   "outputs": [],
   "execution_count": null,
   "source": [
    "\n",
    "\n",
    "\n",
    "\n",
    "\n",
    "\n",
    "\n",
    "\n",
    "\n"
   ]
  },
  {
   "metadata": {},
   "cell_type": "markdown",
   "source": [
    "***nix**\n",
    "\n",
    "Linux-based operating systems are sometimes also referred to as Unix-like systems. Why is that?\n",
    "\n",
    "\n",
    "They are in some ways, descendants of the original UNIX operating system and constructed similarly t\n",
    "\n",
    "They follow UNIX protocol for operating systems like all the other Unix-like systems\n",
    "\n",
    "They and other Unix-like systems just \"look\" alike, however, they have nothing in common in terms of internal design\n",
    "\n",
    "They were produced by one company, which then separated into different small companies"
   ]
  },
  {
   "metadata": {},
   "cell_type": "code",
   "outputs": [],
   "execution_count": null,
   "source": [
    "\n",
    "\n",
    "\n",
    "\n",
    "\n",
    "\n",
    "\n",
    "\n",
    "\n"
   ]
  },
  {
   "metadata": {},
   "cell_type": "markdown",
   "source": [
    "**Using Linux**\n",
    "\n",
    "Where is Linux used?\n",
    "\n",
    "Select one or more options from the list\n",
    "\n",
    "\n",
    "The Android OS t\n",
    "\n",
    "Servers         t\n",
    "\n",
    "Supercomputers   t\n",
    "\n",
    "Network software  t\n",
    "\n",
    "Embedded systems  t"
   ]
  },
  {
   "metadata": {},
   "cell_type": "code",
   "outputs": [],
   "execution_count": null,
   "source": [
    "\n",
    "\n",
    "\n",
    "\n",
    "\n",
    "\n",
    "\n",
    "\n",
    "\n"
   ]
  },
  {
   "metadata": {},
   "cell_type": "markdown",
   "source": [
    "**Distros**\n",
    "\n",
    "What are distributions of Linux-based operating systems?\n",
    "\n",
    "Select one option from the list\n",
    "\n",
    "absolutely the same Linux-based operating systems with different GUI's\n",
    "\n",
    "unique UNIX-based operating systems\n",
    "\n",
    "particular selections of different software, packaged with the Linux kernel by a community or a company  t\n",
    "\n",
    "proprietary software sold by different companies\n"
   ]
  },
  {
   "metadata": {},
   "cell_type": "code",
   "outputs": [],
   "execution_count": null,
   "source": [
    "\n",
    "\n",
    "\n",
    "\n",
    "\n",
    "\n",
    "\n",
    "\n",
    "\n"
   ]
  },
  {
   "metadata": {},
   "cell_type": "markdown",
   "source": [
    "**Linux development**\n",
    "\n",
    "What is the name of the operating system on which Linux was based on?\n",
    "\n",
    "Select one option from the list\n",
    "\n",
    "Windows\n",
    "\n",
    "Xenix\n",
    "\n",
    "UNIX  t\n",
    "\n",
    "Solaris"
   ]
  },
  {
   "metadata": {},
   "cell_type": "code",
   "outputs": [],
   "execution_count": null,
   "source": [
    "\n",
    "\n",
    "\n",
    "\n",
    "\n",
    "\n",
    "\n",
    "\n",
    "\n"
   ]
  },
  {
   "metadata": {},
   "cell_type": "markdown",
   "source": [
    "**Linux distributions**\n",
    "\n",
    "Choose the names of Linux distributions.\n",
    "\n",
    "Select one or more options from the list\n",
    "\n",
    "\n",
    "Fedora  t\n",
    "\n",
    "Ubuntu   t\n",
    "\n",
    "Unix\n",
    "\n",
    "Debian    t"
   ]
  },
  {
   "metadata": {},
   "cell_type": "code",
   "outputs": [],
   "execution_count": null,
   "source": [
    "\n",
    "\n",
    "\n",
    "\n",
    "\n",
    "\n",
    "\n",
    "\n",
    "\n"
   ]
  },
  {
   "metadata": {},
   "cell_type": "markdown",
   "source": [
    "**Diversity**\n",
    "\n",
    "Why are there so many Linux-based distributions?\n",
    "\n",
    "Select one option from the list\n",
    "\n",
    "Linux was released under a license, which allows anyone to create their own distribution and distribute it freely   t\n",
    "\n",
    "Because for every hardware you need your own distribution, so companies and communities centered around specific machines\n",
    "\n",
    "A lot of companies started developing their versions when they realized the benefits of Linux-based systems\n",
    "\n",
    "Linux was released under a license which allows anyone to modify and distribute the code for a small fee to the owner\n"
   ]
  },
  {
   "metadata": {},
   "cell_type": "code",
   "outputs": [],
   "execution_count": null,
   "source": [
    "\n",
    "\n",
    "\n",
    "\n",
    "\n",
    "\n",
    "\n",
    "\n",
    "\n"
   ]
  },
  {
   "metadata": {},
   "cell_type": "markdown",
   "source": [
    "**Customize the system**\n",
    "\n",
    "What should you do in order to adjust the Linux system to your wants and needs?\n",
    "\n",
    "\n",
    "choose a distribution and customize it  t\n",
    "\n",
    "become a Linux developer\n",
    "\n",
    "download change customizer app\n",
    "\n",
    "buy software license"
   ]
  },
  {
   "metadata": {},
   "cell_type": "code",
   "outputs": [],
   "execution_count": null,
   "source": [
    "\n",
    "\n",
    "\n",
    "\n",
    "\n",
    "\n",
    "\n",
    "\n",
    "\n"
   ]
  },
  {
   "metadata": {},
   "cell_type": "markdown",
   "source": [
    "Select one or more options from the list\n",
    "\n",
    "Сustomizability  t\n",
    "\n",
    "High reliability  t\n",
    "\n",
    "Has free distributions t\n",
    "\n",
    "Support for all existing hardware"
   ]
  },
  {
   "metadata": {},
   "cell_type": "code",
   "outputs": [],
   "execution_count": null,
   "source": [
    "\n",
    "\n",
    "\n",
    "\n",
    "\n",
    "\n",
    "\n",
    "\n",
    "\n"
   ]
  },
  {
   "metadata": {},
   "cell_type": "markdown",
   "source": [
    "**Distributions**\n",
    "\n",
    "What may distributions consist of?\n",
    "\n",
    "Select one or more options from the list\n",
    "\n",
    "Tux\n",
    "\n",
    "Pre-installed programs  t\n",
    "\n",
    "Graphical User Interface  t\n",
    "\n",
    "Kernel  t\n"
   ]
  },
  {
   "metadata": {},
   "cell_type": "code",
   "outputs": [],
   "execution_count": null,
   "source": [
    "\n",
    "\n",
    "\n",
    "\n",
    "\n",
    "\n",
    "\n",
    "\n",
    "\n"
   ]
  },
  {
   "metadata": {},
   "cell_type": "markdown",
   "source": [
    "**What is Linux distribution?**\n",
    "\n",
    "A Linux distribution is\n",
    "\n",
    "Select one option from the list\n",
    "\n",
    "\n",
    "an operating system based on the Linux kernel t\n",
    "\n",
    "an original name for the Linux mascot\n",
    "\n",
    "one of the draft versions of the Linux system\n",
    "\n",
    "a separate operating system"
   ]
  },
  {
   "metadata": {},
   "cell_type": "code",
   "outputs": [],
   "execution_count": null,
   "source": ""
  }
 ],
 "metadata": {
  "kernelspec": {
   "display_name": "Kotlin",
   "language": "kotlin",
   "name": "kotlin"
  },
  "language_info": {
   "name": "kotlin",
   "version": "1.9.23",
   "mimetype": "text/x-kotlin",
   "file_extension": ".kt",
   "pygments_lexer": "kotlin",
   "codemirror_mode": "text/x-kotlin",
   "nbconvert_exporter": ""
  }
 },
 "nbformat": 4,
 "nbformat_minor": 0
}
