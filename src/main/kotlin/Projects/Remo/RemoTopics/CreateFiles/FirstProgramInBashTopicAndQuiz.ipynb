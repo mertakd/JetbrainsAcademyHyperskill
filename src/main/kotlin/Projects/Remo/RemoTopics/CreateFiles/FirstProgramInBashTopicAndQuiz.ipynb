{
 "cells": [
  {
   "cell_type": "code",
   "execution_count": null,
   "metadata": {
    "collapsed": true
   },
   "outputs": [],
   "source": [
    ""
   ]
  },
  {
   "metadata": {},
   "cell_type": "markdown",
   "source": [
    "# İlk Bash (Bourne Again Shell) Programın: `echo`, Shebang ve Script Çalıştırma\n",
    "\n",
    "Linux’u kurduktan sonra **komut satırını (command line / terminal)** keşfetmeye başlayabilirsin. Başta sade metin komutlarıyla **işletim sistemi (operating system/OS)** ile konuşmak kafa karıştırıcı gelebilir; ama ustalaştığında sistemi otomatikleştirebilir, sık işleri **betiklerle (scripts)** tek hamlede halledebilirsin. Hadi ilk **Bash** programını yazalım!\n",
    "\n",
    "---\n",
    "\n",
    "## Bash ve `echo` aracı (utility)\n",
    "\n",
    "**Bash (Bourne Again Shell)**, **Bourne shell**’in geliştirilmiş sürümüdür; adı “yeniden doğmuş kabuk” esprisine de gönderme yapar. Bash, yazdığın komutları alıp işletim sistemine iletir. (Elbette başka **kabuk (shell)** türleri de var; ama biz burada Bash kullanacağız.)\n",
    "\n",
    "Terminalde bir satır metin yazdırmanın en basit yolu **`echo`** komutudur. Sadece metin çıktısı üretir; sözdizimi (syntax):\n",
    "\n",
    "```\n",
    "echo <options> <text_line>\n",
    "```\n",
    "\n",
    "Örnek:\n",
    "\n",
    "```bash\n",
    "$ echo Hello, Linux!\n",
    "Hello, Linux!\n",
    "```\n",
    "\n",
    "Birden fazla ifadeyi tırnak içinde tek komutta yazdırabilirsin:\n",
    "\n",
    "```bash\n",
    "$ echo 'Hello, Linux!' 'Here I am!'\n",
    "Hello, Linux! Here I am!\n",
    "```\n",
    "\n",
    "Ayrı satırlara bölmek için **`-e` flag (option)** kullanıp **kaçış dizisi (escape sequence)** olan `\\n` ekle:\n",
    "\n",
    "```bash\n",
    "$ echo -e 'Hello, Linux! \\nHere I am!'\n",
    "Hello, Linux!\n",
    "Here I am!\n",
    "```\n",
    "\n",
    "Satır sonu (linefeed) **istemiyorsan** `-n` seçeneğini ekle:\n",
    "\n",
    "```bash\n",
    "$ echo -n 'No newline at the end'\n",
    "```\n",
    "\n",
    "---\n",
    "\n",
    "## “Hello, world!” betiği (script)\n",
    "\n",
    "Bir dosya oluştur: **`hello_world.sh`** (herhangi bir metin düzenleyiciyle).\n",
    "\n",
    "```bash\n",
    "#!/usr/bin/env bash\n",
    "echo 'Hello, world!'\n",
    "```\n",
    "\n",
    "* İlk satırdaki **`#!`** dizisine **shebang** denir; bu, dosyayı hangi **yorumlayıcı (interpreter)** ile çalıştıracağını belirtir. Burada `/usr/bin/env bash`, ortamda (environment) Bash’i bulup kullanır.\n",
    "* İkinci satır bildiğin `echo`.\n",
    "\n",
    "> **İpucu:** Başka bir dil için **shebang**’i değiştirirsin. Örn. Python: `#!/usr/bin/env python3` ve sonra `./file.py` ile çalıştırabilirsin.\n",
    "\n",
    "---\n",
    "\n",
    "## Bir Shell Script’i nasıl çalıştırırsın?\n",
    "\n",
    "Aşağıdaki üç yaygın yöntemden birini seç:\n",
    "\n",
    "1. **Bash ile açıkça çalıştır:**\n",
    "   Betiğin bulunduğu dizinde:\n",
    "\n",
    "   ```bash\n",
    "   $ bash hello_world.sh\n",
    "   ```\n",
    "\n",
    "   > Bu şekilde **shebang** göz ardı edilir; hangi kabukla çalışacağını sen söylersin.\n",
    "\n",
    "2. **Yürütülebilir (executable) yap ve direkt çalıştır:**\n",
    "\n",
    "   ```bash\n",
    "   $ chmod +x hello_world.sh\n",
    "   $ ./hello_world.sh\n",
    "   ```\n",
    "\n",
    "   > Burada **Bash** belirtmene gerek yok; **shebang** devreye girer.\n",
    "\n",
    "3. **Sistemin yoluna (PATH) yerleştir ve her yerden çağır:**\n",
    "\n",
    "   ```bash\n",
    "   $ sudo cp hello_world.sh /usr/local/bin\n",
    "   $ hello_world.sh\n",
    "   ```\n",
    "\n",
    "   > Bu yöntemde sadece **dosya adı**yla çalıştırabilirsin. (Gerekirse **sudo (superuser)** yetkisi gerekir.)\n",
    "\n",
    "> Alternatif: Dosyanın bulunduğu dizini **`PATH` ortam değişkeni (environment variable)**’ne eklersen de her yerden çağırabilirsin. (Sistem değişkenleri konusunu ileride işleyeceğiz.)\n",
    "\n",
    "> **Not:** Burada geçen `chmod`, `cp` ve `sudo` komutlarını ayrıntılıca sonra açıklayacağız; şimdilik nasıl kullanıldıklarını görmen yeterli.\n",
    "\n",
    "---\n",
    "\n",
    "## Sonuç\n",
    "\n",
    "Artık Bash’te **metin yazdırmayı (`echo`)**, **shebang** mantığını ve bir betiği **çalıştırmanın (execute)** üç yolunu biliyorsun. Bunlar, Linux’ta otomasyon ve günlük iş akışını hızlandırmanın temel taşları. Güle güle kodla!\n"
   ]
  },
  {
   "metadata": {},
   "cell_type": "code",
   "outputs": [],
   "execution_count": null,
   "source": [
    "\n",
    "\n",
    "\n",
    "\n",
    "\n",
    "\n",
    "\n",
    "\n",
    "\n",
    "\n",
    "\n",
    "\n",
    "\n",
    "\n",
    "\n",
    "\n",
    "\n",
    "\n",
    "\n"
   ]
  },
  {
   "metadata": {},
   "cell_type": "markdown",
   "source": [
    "**Output lines**\n",
    "\n",
    "Which command can output text lines in Bash?\n",
    "\n",
    "Select one option from the list\n",
    "\n",
    "print\n",
    "\n",
    "echo t\n",
    "\n",
    "bash\n",
    "\n",
    "echoes"
   ]
  },
  {
   "metadata": {},
   "cell_type": "code",
   "outputs": [],
   "execution_count": null,
   "source": [
    "\n",
    "\n",
    "\n",
    "\n",
    "\n",
    "\n",
    "\n",
    "\n",
    "\n"
   ]
  },
  {
   "metadata": {},
   "cell_type": "markdown",
   "source": [
    "**Script interpreters**\n",
    "\n",
    "Look at the first lines of the different scripts and find for them right interpreters.\n",
    "\n",
    "Match the items from left and right columns\n",
    "#!/usr/bin/env bash\n",
    "#!/usr/bin/env python3\n",
    "#!/usr/bin/perl\n",
    "#!/bin/bash\n",
    "Bash located by env utility\n",
    "Python\n",
    "Perl\n",
    "Bash"
   ]
  },
  {
   "metadata": {},
   "cell_type": "code",
   "outputs": [],
   "execution_count": null,
   "source": [
    "\n",
    "\n",
    "\n",
    "\n",
    "\n",
    "\n",
    "\n",
    "\n",
    "\n",
    "\n",
    "\n"
   ]
  },
  {
   "metadata": {},
   "cell_type": "markdown",
   "source": [
    "**Shebang in use**\n",
    "\n",
    "What is shebang used for?\n",
    "\n",
    "Select one option from the list\n",
    "\n",
    "to reload the script\n",
    "\n",
    "to specify the program to run the script t\n",
    "\n",
    "to make the file executable\n",
    "\n",
    "to save the program file"
   ]
  },
  {
   "metadata": {},
   "cell_type": "code",
   "outputs": [],
   "execution_count": null,
   "source": [
    "\n",
    "\n",
    "\n",
    "\n",
    "\n",
    "\n",
    "\n",
    "\n",
    "\n"
   ]
  },
  {
   "metadata": {},
   "cell_type": "markdown",
   "source": [
    "**Missing symbols**\n",
    "\n",
    "Lina wrote the following script:\n",
    "\n",
    "echo 'Hello, bash!'\n",
    "\n",
    "What line should she add at the beginning of the script to tell the program loader where to look for an interpreter?\n",
    "\n",
    "##/usr/bin/env bash\n",
    "\n",
    "#!/usr/bin/env bash  t\n",
    "\n",
    "!#/usr/bin/env bash\n",
    "\n",
    "!!/usr/bin/env bash"
   ]
  },
  {
   "metadata": {},
   "cell_type": "code",
   "outputs": [],
   "execution_count": null,
   "source": [
    "\n",
    "\n",
    "\n",
    "\n",
    "\n",
    "\n",
    "\n",
    "\n",
    "\n"
   ]
  },
  {
   "metadata": {},
   "cell_type": "markdown",
   "source": [
    "**Your first Bash script**\n",
    "\n",
    "Write a script with \\n that will display phrases in different lines. For example, for 'Hi!' and 'Hey!' the output should be the following:\n",
    "\n",
    "Hi!\n",
    "Hey!\n",
    "\n",
    "Sample Input 1:\n",
    "\n",
    "Sample Output 1:\n",
    "\n",
    "Hi!\n",
    "Hey!\n",
    "\n",
    "Write a program in Shell\n",
    "\n",
    "echo -e \"Hi!\\nHey!\""
   ]
  },
  {
   "metadata": {},
   "cell_type": "code",
   "outputs": [],
   "execution_count": null,
   "source": [
    "\n",
    "\n",
    "\n",
    "\n",
    "\n",
    "\n",
    "\n",
    "\n",
    "\n",
    "\n",
    "\n"
   ]
  },
  {
   "metadata": {},
   "cell_type": "markdown",
   "source": [
    "**The output line**\n",
    "\n",
    "Write a script that prints the line 'Hello!' in the terminal.\n",
    "\n",
    "Sample Input 1:\n",
    "\n",
    "Sample Output 1:\n",
    "\n",
    "Hello!\n",
    "\n",
    "Write a program in Shell\n",
    "\n",
    "echo \"Hello!\""
   ]
  },
  {
   "metadata": {},
   "cell_type": "code",
   "outputs": [],
   "execution_count": null,
   "source": [
    "\n",
    "\n",
    "\n",
    "\n",
    "\n",
    "\n",
    "\n",
    "\n",
    "\n"
   ]
  },
  {
   "metadata": {},
   "cell_type": "markdown",
   "source": [
    "**Crafting a personalized greeting program**\n",
    "\n",
    "You are assigned to write a simple greeting program in bash. The program should prompt the user for their name and then print out a customized message saying 'Hello' and the user's name. For practicing bash scripting, fill the blanks in the code to make this program work correctly.\n",
    "\n",
    "Fill in the gaps with the relevant elements\n",
    "\n",
    "bash echo read echo"
   ]
  },
  {
   "metadata": {},
   "cell_type": "code",
   "outputs": [],
   "execution_count": null,
   "source": [
    "\n",
    "\n",
    "\n",
    "\n",
    "\n",
    "\n",
    "\n"
   ]
  },
  {
   "metadata": {},
   "cell_type": "markdown",
   "source": [
    "**Escape sequences option**\n",
    "\n",
    "Which echo option allows using escape sequences?\n",
    "\n",
    "Select one option from the list\n",
    "\n",
    "-n\n",
    "\n",
    "-e  t\n",
    "\n",
    "-z\n",
    "\n",
    "-N"
   ]
  },
  {
   "metadata": {},
   "cell_type": "code",
   "outputs": [],
   "execution_count": null,
   "source": [
    "\n",
    "\n",
    "\n",
    "\n",
    "\n",
    "\n",
    "\n",
    "\n",
    "\n"
   ]
  },
  {
   "metadata": {},
   "cell_type": "markdown",
   "source": [
    "**Creating an interactive greeting script in Linux**\n",
    "\n",
    "As an upcoming system administrator, you are learning Linux and working with bash scripting. Your task is to create a simple interactive bash script that greets the user by their name. Review the following script and fill the blanks in code to make it work. The script should first prompt the user to enter their name, then output 'Hello, \\. Welcome to Linux shell scripting!', replacing \\ with the name entered by the user. In the end, it should terminate successfully. Remember to follow the best practices and syntax that you have learned so far.\n",
    "\n",
    "Fill in the gaps with the relevant elements\n",
    "\n",
    "bash read echo exit"
   ]
  },
  {
   "metadata": {},
   "cell_type": "code",
   "outputs": [],
   "execution_count": null,
   "source": [
    "\n",
    "\n",
    "\n",
    "\n",
    "\n",
    "\n",
    "\n",
    "\n",
    "\n"
   ]
  },
  {
   "metadata": {},
   "cell_type": "markdown",
   "source": [
    "Sleeping program\n",
    " Report a typo\n",
    "Command sleep stops execution of program for a specified time.\n",
    "\n",
    "Rearrange the lines to create a Bash program, which stops process execution for 7 seconds, while displaying comments about its actions.\n",
    "\n",
    "#!/bin/bash\n",
    "echo “Now will be pause for 7 seconds”\n",
    "sleep 7\n",
    "echo “Pause is completed”"
   ]
  },
  {
   "metadata": {},
   "cell_type": "code",
   "outputs": [],
   "execution_count": null,
   "source": [
    "\n",
    "\n",
    "\n",
    "\n",
    "\n",
    "\n",
    "\n",
    "\n",
    "\n"
   ]
  },
  {
   "metadata": {},
   "cell_type": "markdown",
   "source": [
    "**Shebang showdown: The script begins**\n",
    "\n",
    "Hey there! This problem might be a bit unpredictable, but give it a go and let us know how you do!\n",
    "Which of the following are valid ways to start a Bash script file?\n",
    "Select one or more options from the list\n",
    "\n",
    "#!/bin/sh -x t\n",
    "\n",
    "#!/usr/bin/env bash t\n",
    "\n",
    "#!/bin/bash t\n",
    "\n",
    "#/bin/bash\n",
    "\n",
    "#!/usr/local/bin/bash t"
   ]
  },
  {
   "metadata": {},
   "cell_type": "code",
   "outputs": [],
   "execution_count": null,
   "source": [
    "\n",
    "\n",
    "\n",
    "\n",
    "\n",
    "\n",
    "\n",
    "\n",
    "\n"
   ]
  },
  {
   "metadata": {},
   "cell_type": "markdown",
   "source": [
    "**Multiple ways to do the same thing**\n",
    "\n",
    "You've just written a script and saved it under the name useful_program.sh.\n",
    "\n",
    "Choose the commands with which you can run this program.\n",
    "\n",
    "NOTE: This script is in your current working directory.\n",
    "\n",
    "Select one or more options from the list\n",
    "\n",
    "\n",
    "bash useful_program.sh t\n",
    "\n",
    "./useful_program.sh\n",
    "\n",
    "chmod +x useful_program.sh; sudo cp useful_program.sh /usr/local/bin; useful_program.sh t\n",
    "\n",
    "chmod +x useful_program.sh; ./useful_program.sh t"
   ]
  },
  {
   "metadata": {},
   "cell_type": "code",
   "outputs": [],
   "execution_count": null,
   "source": ""
  }
 ],
 "metadata": {
  "kernelspec": {
   "display_name": "Kotlin",
   "language": "kotlin",
   "name": "kotlin"
  },
  "language_info": {
   "name": "kotlin",
   "version": "1.9.23",
   "mimetype": "text/x-kotlin",
   "file_extension": ".kt",
   "pygments_lexer": "kotlin",
   "codemirror_mode": "text/x-kotlin",
   "nbconvert_exporter": ""
  }
 },
 "nbformat": 4,
 "nbformat_minor": 0
}
