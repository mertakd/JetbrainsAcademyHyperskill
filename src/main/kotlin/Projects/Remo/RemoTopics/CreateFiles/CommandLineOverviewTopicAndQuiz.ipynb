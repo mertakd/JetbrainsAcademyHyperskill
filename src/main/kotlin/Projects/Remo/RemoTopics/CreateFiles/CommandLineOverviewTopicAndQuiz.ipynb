{
 "cells": [
  {
   "cell_type": "code",
   "execution_count": null,
   "metadata": {
    "collapsed": true
   },
   "outputs": [],
   "source": [
    ""
   ]
  },
  {
   "metadata": {},
   "cell_type": "markdown",
   "source": [
    "# Komut Satırı (Command-Line) Nedir? Geliştiriciler Hâlâ Neden Kullanıyor?\n",
    "\n",
    "Bilgisayarda bir şeyler yaparken aslında **işletim sistemi (Operating System/OS)** ile konuşursunuz. Dosya açmak mı istiyorsunuz? Bunu **Windows**, **Linux** ya da **macOS**’a bildirirsiniz. OS ile etkileşimin iki yolu vardır:\n",
    "\n",
    "* **Metin tabanlı (text-based)**: **Komut satırı arayüzü (Command-Line Interface/CLI)**\n",
    "* **Görsel tabanlı (visual-based)**: **Grafiksel kullanıcı arayüzü (Graphical User Interface/GUI)**\n",
    "\n",
    "İkisi de önemli; ama özellikle geliştiriciler için CLI vazgeçilmez esneklik sunar.\n",
    "\n",
    "---\n",
    "\n",
    "## CLI ve GUI’yi Kısaca Anlamak\n",
    "\n",
    "**Komut satırı arayüzü (CLI)**, OS ile **metin komutları (text commands)** üzerinden konuşmanızı sağlar.\n",
    "**Grafiksel kullanıcı arayüzü (GUI)** ise ikonlar, menüler ve butonlarla işlem yapmanızı sağlar.\n",
    "\n",
    "Eskiden bilgisayarla tek iletişim yolu CLI idi. Peki **şimdi** niye kullanalım? Çünkü CLI genelde daha **esnek (flexible)** ve daha **seçenekli (options)**. Komutları **birleştirip (compose)** yepyeni iş akışları oluşturabilirsiniz; GUI’de çoğu zaman bu mümkün değildir. Ayrıca bazı yazılımlar **sadece CLI** sunar; bu yüzden **temel komut bilgisi (command-line basics)** kritiktir.\n",
    "\n",
    "CLI üzerinden çalıştırılabilen programlar bir **komut dili (command language)** ile yazılabilir:\n",
    "\n",
    "* UNIX/UNIX-benzeri sistemlerde (**GNU/Linux**, **macOS**) bunlara **kabuk betikleri (shell scripts)** denir.\n",
    "* Windows’ta **toplu iş dosyaları (batch files)** olarak geçer.\n",
    "\n",
    "Neredeyse tüm işletim sistemlerinin bir **komut satırı yorumlayıcısı (command-line interpreter/shell)** vardır. Birçok modern programlama dili de **etkileşimli komut satırı modu (interactive mode/REPL)** sunar; kodu satır satır çalıştırabilirsiniz.\n",
    "\n",
    "---\n",
    "\n",
    "## Komut Satırına Nasıl Ulaşılır?\n",
    "\n",
    "Genelde yorumlayıcının bulunduğu klasöre gitmenize gerek yoktur; aratıp açarsınız:\n",
    "\n",
    "* **Windows**: Başlat’ta **cmd** yazın (veya **Windows Terminal**).\n",
    "* **Linux dağıtımları (Linux distributions)**: **terminal** aratın.\n",
    "* **macOS**: **Applications → Utilities → Terminal**. Daha kullanıcı dostu bulduğu için bazıları **iTerm2** kullanır.\n",
    "\n",
    "Klasik menü yolları:\n",
    "\n",
    "* **Windows 10/8**: Start → **Windows System** → **Command Prompt**\n",
    "* **Windows 7/Vista/XP**: Start → **All Programs** → **Accessories** → **Command Prompt**\n",
    "* **macOS**: Applications → **Utilities** → **Terminal** (iTerm2 bir alternatif)\n",
    "* **Linux**: Sıkça Applications → **Accessories/System** → **Terminal**\n",
    "\n",
    "Terminali açtığınızda siyah (ya da beyaz) bir pencere ve içinde bir **komut istemi (command prompt)** görürsünüz; bilgisayarın komut almaya hazır olduğunu gösterir.\n",
    "\n",
    "* Windows’ta genelde `>` ile biter.\n",
    "* Linux’ta sıklıkla `$` görürsünüz.\n",
    "* macOS’ta kabuğa göre değişir: **zsh** varsayılanında `%`, **bash**’te `$` görebilirsiniz.\n",
    "\n",
    "Bir komutu yazıp **Enter**’a basarak çalıştırırsınız.\n",
    "\n",
    "---\n",
    "\n",
    "## Hızlı Başlangıç: Temel Komutlar\n",
    "\n",
    "Terminalde şöyle bir satır görebilirsiniz:\n",
    "\n",
    "```\n",
    "C:\\Users\\name>\n",
    "```\n",
    "\n",
    "Bu, o an bulunduğunuz **dizin (directory)**. Hadi birkaç komut deneyelim:\n",
    "\n",
    "### 1) Kullanıcı adını öğren: `whoami`\n",
    "\n",
    "```\n",
    "whoami\n",
    "```\n",
    "\n",
    "Örnek çıktı:\n",
    "\n",
    "```\n",
    "desktop-qd7c3ju\\shanika\n",
    "```\n",
    "\n",
    "Bu komut, o oturumda kullanılan **kullanıcı adını (username)** yazar.\n",
    "\n",
    "### 2) Bulunduğun klasördeki dosyaları listele: `dir` / `ls`\n",
    "\n",
    "* **Windows**:\n",
    "\n",
    "  ```\n",
    "  dir\n",
    "  ```\n",
    "* **Linux/macOS**:\n",
    "\n",
    "  ```\n",
    "  ls\n",
    "  ```\n",
    "\n",
    "Gizli dosyaları da görmek için **seçenek (option)** ekleyin:\n",
    "\n",
    "```\n",
    "ls -a\n",
    "```\n",
    "\n",
    "`ls` geliştiricilerin **sunucularda (servers)** en sık kullandığı komutlardan biridir.\n",
    "\n",
    "### 3) Terminalden çık: `exit`\n",
    "\n",
    "```\n",
    "exit\n",
    "```\n",
    "\n",
    "Bu, komut satırı oturumunu kapatır.\n",
    "\n",
    "---\n",
    "\n",
    "## Küçük Bir Senaryo ile Hatırlayalım\n",
    "\n",
    "Kendinizi yabancı bir odada, açık terminalle buldunuz diyelim.\n",
    "\n",
    "* Önce `whoami` ile kim olduğunuzu (en azından sistem gözünde) öğrenin.\n",
    "* `dir` / `ls` ile neler var bakın; gerekirse `ls -a`.\n",
    "* İşiniz bittiğinde `exit` ile çıkın.\n",
    "\n",
    "---\n",
    "\n",
    "## Sonuç: GUI Harika, Ama CLI Çok Güçlü\n",
    "\n",
    "Harika **arayüzler (GUIs)**, **komut satırını (CLI)** gereksiz kılmadı. Hâlâ işi **en hızlı (fast)** bitirmenin yollarından biri. Geliştirici olacaksanız, hangi **komutlar (commands)** elinizin altında, bilmek çok önemli.\n",
    "\n",
    "Bu yazıda **CLI nedir**, nereden açılır, nasıl kullanılır gördük ve birkaç temel komut denedik: **`whoami`**, **`dir`/`ls`**, **`exit`**. Devamında komutları detaylı öğreneceğiz; şimdi biraz **pratik (practice)** zamanı!\n"
   ]
  },
  {
   "metadata": {},
   "cell_type": "code",
   "outputs": [],
   "execution_count": null,
   "source": [
    "\n",
    "\n",
    "\n",
    "\n",
    "\n",
    "\n",
    "\n",
    "\n",
    "\n",
    "\n",
    "\n",
    "\n",
    "\n",
    "\n",
    "\n",
    "\n",
    "\n",
    "\n",
    "\n"
   ]
  },
  {
   "metadata": {},
   "cell_type": "markdown",
   "source": [
    "**What is it?**\n",
    "\n",
    "What is a command-line interface?\n",
    "\n",
    "Select one option from the list\n",
    "\n",
    "A way to interact with the operating system by clicking on items\n",
    "\n",
    "A program written on command line language\n",
    "\n",
    "A way to interact with computer via text commands t"
   ]
  },
  {
   "metadata": {},
   "cell_type": "code",
   "outputs": [],
   "execution_count": null,
   "source": [
    "\n",
    "\n",
    "\n",
    "\n",
    "\n",
    "\n",
    "\n",
    "\n",
    "\n"
   ]
  },
  {
   "metadata": {},
   "cell_type": "markdown",
   "source": [
    "**Catch the elusive one**\n",
    "\n",
    "As a system administrator's helper on your first day of work, you get the task to find the computer of the user elusive-joe. So you come to a room without people but with computers turned on with black screens waiting for a text command.\n",
    "\n",
    "What command should you execute on the computers to find the desired username?\n",
    "\n",
    "Enter a short text\n",
    "whoami"
   ]
  },
  {
   "metadata": {},
   "cell_type": "code",
   "outputs": [],
   "execution_count": null,
   "source": [
    "\n",
    "\n",
    "\n",
    "\n",
    "\n",
    "\n",
    "\n",
    "\n",
    "\n"
   ]
  },
  {
   "metadata": {},
   "cell_type": "markdown",
   "source": [
    "**Mysterious code**\n",
    "\n",
    "Look at this code and think what this could be.\n",
    "\n",
    "@ECHO OFF\n",
    "\n",
    "CD \"C:\\Program Files\\LibreOffice\\program\"\n",
    "\n",
    "START swriter.exe\n",
    "\n",
    "Choose the most accurate answer.\n",
    "\n",
    "Select one option from the list\n",
    "\n",
    "\n",
    "Batch script - chain of commands in batch file on Windows OS t\n",
    "\n",
    "PowerShell script from Windows OS\n",
    "\n",
    "Bash shell script\n",
    "\n",
    "chain of commands in shell script file from Unix-like OS"
   ]
  },
  {
   "metadata": {},
   "cell_type": "code",
   "outputs": [],
   "execution_count": null,
   "source": [
    "\n",
    "\n",
    "\n",
    "\n",
    "\n",
    "\n",
    "\n",
    "\n",
    "\n",
    "\n"
   ]
  },
  {
   "metadata": {},
   "cell_type": "markdown",
   "source": [
    "**Where is it?**\n",
    "\n",
    "Which keyword should you use to find a command prompt on your computer?\n",
    "\n",
    "Fill in the gaps with the relevant elements\n",
    "cmd  (Windows) or terminal  (Linux/macOS) are used to find a command prompt.\n"
   ]
  },
  {
   "metadata": {},
   "cell_type": "code",
   "outputs": [],
   "execution_count": null,
   "source": [
    "\n",
    "\n",
    "\n",
    "\n",
    "\n",
    "\n",
    "\n",
    "\n",
    "\n"
   ]
  },
  {
   "metadata": {},
   "cell_type": "markdown",
   "source": [
    "**Hello world**\n",
    "\n",
    "How do you print \"Hello world\" from the command line?\n",
    "\n",
    "Fill in the gaps with the relevant elements\n",
    "echo \"Hello World\""
   ]
  },
  {
   "metadata": {},
   "cell_type": "code",
   "outputs": [],
   "execution_count": null,
   "source": [
    "\n",
    "\n",
    "\n",
    "\n",
    "\n",
    "\n",
    "\n",
    "\n",
    "\n"
   ]
  },
  {
   "metadata": {},
   "cell_type": "markdown",
   "source": [
    "**No more CLI**\n",
    "\n",
    "What command is used to leave the terminal in Windows, Linux, and macOS?\n",
    "\n",
    "Fill in the gaps with the relevant elements\n",
    "exit is used to leave the terminal in Windows, Linux, and macOS."
   ]
  },
  {
   "metadata": {},
   "cell_type": "code",
   "outputs": [],
   "execution_count": null,
   "source": [
    "\n",
    "\n",
    "\n",
    "\n",
    "\n",
    "\n",
    "\n",
    "\n",
    "\n"
   ]
  },
  {
   "metadata": {},
   "cell_type": "markdown",
   "source": [
    "**Giving incorrect command**\n",
    "\n",
    "What happens if you enter an incorrect command?\n",
    "\n",
    "Fill in the gaps with the relevant elements\n",
    "\n",
    "If you enter an incorrect command, the terminal returns an error message\n",
    "\n"
   ]
  },
  {
   "metadata": {},
   "cell_type": "code",
   "outputs": [],
   "execution_count": null,
   "source": [
    "\n",
    "\n",
    "\n",
    "\n",
    "\n",
    "\n",
    "\n",
    "\n",
    "\n"
   ]
  },
  {
   "metadata": {},
   "cell_type": "markdown",
   "source": [
    "What happens if you open a terminal and run the command echo open?\n",
    "\n",
    "Fill in the gaps with the relevant elements\n",
    "The terminal will print open"
   ]
  },
  {
   "metadata": {},
   "cell_type": "code",
   "outputs": [],
   "execution_count": null,
   "source": [
    "\n",
    "\n",
    "\n",
    "\n",
    "\n",
    "\n",
    "\n",
    "\n",
    "\n"
   ]
  },
  {
   "metadata": {},
   "cell_type": "markdown",
   "source": [
    "**Trying more commands**\n",
    "\n",
    "Run the command pwd in the terminal (Linux/macOS) or cd in cmd (Win). What do you see?\n",
    "\n",
    "Select one option from the list\n",
    "\n",
    "\n",
    "terminal returns to the home directory\n",
    "\n",
    "terminal returns nothing\n",
    "\n",
    "terminal returns the name of the directory you are currently using   t\n",
    "\n",
    "terminal returns the list of files and folder in the directory you are currently using"
   ]
  },
  {
   "metadata": {},
   "cell_type": "code",
   "outputs": [],
   "execution_count": null,
   "source": [
    "\n",
    "\n",
    "\n",
    "\n",
    "\n",
    "\n",
    "\n",
    "\n",
    "\n"
   ]
  },
  {
   "metadata": {},
   "cell_type": "markdown",
   "source": [
    "**irectory or list**\n",
    "\n",
    "Open the terminal and run the command dir (Win) or ls (Unix/macOS). What do you see?\n",
    "\n",
    "Select one option from the list\n",
    "\n",
    "\n",
    "terminal returns all the files in the directory that you are currently using\n",
    "\n",
    "terminal returns nothing\n",
    "\n",
    "terminal returns all the non-hidden files and folders in the directory that you are currently using t\n",
    "\n",
    "terminal returns all the folders in the directory that you are currently using\n",
    "\n",
    "terminal returns all the files and folders including hidden ones in the directory that you are currently using"
   ]
  },
  {
   "metadata": {},
   "cell_type": "code",
   "outputs": [],
   "execution_count": null,
   "source": [
    "\n",
    "\n",
    "\n",
    "\n",
    "\n",
    "\n",
    "\n",
    "\n",
    "\n"
   ]
  },
  {
   "metadata": {},
   "cell_type": "markdown",
   "source": [
    "You go to a job interview at a company where they sit you down at a computer with a Unix operating system. You are asked to perform the following tasks:\n",
    "\n",
    "Display the username of the currently logged-in user;\n",
    "\n",
    "List non-hidden files in the current directory;\n",
    "\n",
    "View all files (including hidden files) in the /var/lib/ directory;\n",
    "\n",
    "Fill in the blanks below with the commands you'd use, specifying the path if necessary.\n",
    "\n",
    "Fill in the gaps with the relevant elements\n",
    "\n",
    "whoami  to display the username of the currently logged-in user;\n",
    "ls   to list non-hidden files in the current directory;\n",
    "ls-a/var/lib/  to view all files in the /var/lib/ directory;"
   ]
  },
  {
   "metadata": {},
   "cell_type": "code",
   "outputs": [],
   "execution_count": null,
   "source": ""
  }
 ],
 "metadata": {
  "kernelspec": {
   "display_name": "Kotlin",
   "language": "kotlin",
   "name": "kotlin"
  },
  "language_info": {
   "name": "kotlin",
   "version": "1.9.23",
   "mimetype": "text/x-kotlin",
   "file_extension": ".kt",
   "pygments_lexer": "kotlin",
   "codemirror_mode": "text/x-kotlin",
   "nbconvert_exporter": ""
  }
 },
 "nbformat": 4,
 "nbformat_minor": 0
}
