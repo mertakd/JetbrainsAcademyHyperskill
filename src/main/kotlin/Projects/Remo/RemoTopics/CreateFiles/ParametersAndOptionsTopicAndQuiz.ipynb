{
 "cells": [
  {
   "cell_type": "code",
   "execution_count": null,
   "metadata": {
    "collapsed": true
   },
   "outputs": [],
   "source": [
    ""
   ]
  },
  {
   "metadata": {},
   "cell_type": "markdown",
   "source": [
    "# Komutları Güçlendirmek: Parametreler (parameters), Seçenekler (options) ve Yardım (help/man)\n",
    "\n",
    "Artık **komut satırını (command-line / CLI)** açmayı ve temel komutları çalıştırmayı biliyorsun. Şimdi komutları **parametre (parameter)** ve **seçenek (option/flag)** ekleyerek nasıl daha güçlü hâle getireceğini, ayrıca **yardım kılavuzlarını (help/manual pages)** nasıl okuyacağını öğrenelim.\n",
    "\n",
    "---\n",
    "\n",
    "## Komut + Parametre: Neden Gerekli?\n",
    "\n",
    "Birçok komut tek başına anlamsızdır; **ek bilgiye** ihtiyaç duyar. Bu ek bilgiye **parametre (parameter)** denir. Parametre, komuta “ne üzerinde/nerede/hangi adla işlem yapacağını” söyler.\n",
    "\n",
    "### Örnek: Klasör oluşturma – `mkdir`\n",
    "\n",
    "Aşağıdaki komut, bulunduğun dizinde **papers** adlı bir klasör oluşturur:\n",
    "\n",
    "```\n",
    "C:\\users\\student> mkdir papers\n",
    "```\n",
    "\n",
    "> **Not (path separator):** Windows’ta yol ayracı **ters bölü (backslash `\\`)**, Linux/macOS’ta **ileri bölü (forward slash `/`)**’tır.\n",
    "\n",
    "### Konum değiştirme – `cd` (change directory)\n",
    "\n",
    "Yeni klasöre geçmek için, **yol (path)** bilgisini **parametre** olarak verirsin:\n",
    "\n",
    "```\n",
    "C:\\users\\student> cd C:\\users\\student\\papers\n",
    "C:\\users\\student\\papers>\n",
    "```\n",
    "\n",
    "**Üst dizine (parent directory)** dönmek için özel parametre:\n",
    "\n",
    "```\n",
    "C:\\users\\student\\papers> cd ..\n",
    "C:\\users\\student>\n",
    "```\n",
    "\n",
    "**Kök dizine (root directory)** dönmek:\n",
    "\n",
    "* **Windows (CMD):** `cd \\`  ✅\n",
    "* **Linux/macOS:** `cd /` ✅\n",
    "\n",
    "> Bazı kaynaklar Windows’ta `cd /` yazsa da doğrusu **`cd \\`**’dir.\n",
    "\n",
    "---\n",
    "\n",
    "## Seçenekler (options) ile Davranışı Değiştirmek\n",
    "\n",
    "**Seçenek (option/flag)**, komutun **davranışını** değiştirir. Genellikle kısadır ve belirli bir dizi değeri/kullanımı vardır.\n",
    "\n",
    "### Örnek: Sürücüyü de değiştirerek konum atla – `cd /d`\n",
    "\n",
    "Windows’ta `cd` komutuna **`/d` seçeneği** ekleyerek **sürücüyü (drive)** de değiştirebilirsin:\n",
    "\n",
    "```\n",
    "C:\\users\\student\\Desktop> cd /d F:\\Codepen snippets\n",
    "F:\\Codepen snippets>\n",
    "```\n",
    "\n",
    "### Parametre vs. Seçenek (Özet)\n",
    "\n",
    "* **Seçenek (option/flag):** Komutun **nasıl** çalışacağını değiştirir (önceden tanımlı davranışlar).\n",
    "* **Parametre (parameter):** Komuta veya seçeneğe **hangi veriyle** çalışacağını söyler (dosya adı, yol vb.).\n",
    "* İkisi birlikte **argümanlar (arguments)** olarak anılır.\n",
    "\n",
    "---\n",
    "\n",
    "## Yardım Kılavuzları: `help`, `--help`, `man`\n",
    "\n",
    "Tüm komutları ve kombinasyonlarını ezberlemek zorunda değilsin. **Yardım** burada:\n",
    "\n",
    "* **Windows (CMD):**\n",
    "\n",
    "  * Tüm komutlar listesi: `help`\n",
    "  * Belirli komutun kılavuzu: `help komut_adı`\n",
    "    Örnek:\n",
    "\n",
    "    ```\n",
    "    C:\\users\\student> help cd\n",
    "    ```\n",
    "\n",
    "    Kılavuzda açıklama, sözdizimi (syntax) ve seçenekler/parametreler yer alır.\n",
    "\n",
    "* **Linux/macOS (bash/zsh ve benzeri kabuklar/shells):**\n",
    "\n",
    "  * Hızlı yardım: `komut --help`\n",
    "    Örnek: `mkdir --help`\n",
    "  * Kılavuz sayfası (manual page): `man komut`\n",
    "    Örnek: `man mkdir`\n",
    "\n",
    "> **Not (case sensitivity):** Windows komutları genellikle **büyük/küçük harf duyarsız (case-insensitive)** iken Linux/macOS çoğunlukla **duyarlı (case-sensitive)**’dır.\n",
    "\n",
    "### Kılavuz Sözdizimini Okumak\n",
    "\n",
    "Örnek satır:\n",
    "\n",
    "```\n",
    "CD [/D] [drive:][path]\n",
    "```\n",
    "\n",
    "* `CD` → **komut adı (command name)**\n",
    "* `[/D]` → **seçenek (option)** (köşeli parantez “opsiyonel” demek)\n",
    "* `[drive:][path]` → **parametre (parameter)** (yine opsiyonel gösterim)\n",
    "\n",
    "> **Köşeli parantezleri** yazarken **kullanmıyoruz**; sadece “opsiyonel” olduklarını **belirtmek için** dokümantasyonda yer alırlar.\n",
    "\n",
    "---\n",
    "\n",
    "## Hızlı Rehber\n",
    "\n",
    "* Komutları **parametreler (parameters)** ile anlamlı hâle getir,\n",
    "  ör. `mkdir klasör_adı`, `cd C:\\yol\\...`, `cd ..`, `cd \\` (Windows) / `cd /` (Linux/macOS).\n",
    "* **Seçenekler (options/flags)** komutun davranışını değiştirir,\n",
    "  ör. `cd /d F:\\...` (Windows), `ls -a` (Linux/macOS).\n",
    "* Yardım almak için:\n",
    "\n",
    "  * **Windows:** `help` veya `help komut`\n",
    "  * **Linux/macOS:** `komut --help` ve/veya `man komut`\n",
    "* Zamanla CLI’ye alıştığında, birçok işte **GUI’den daha hızlı** olacağını göreceksin.\n",
    "\n",
    "Hazır mısın? Birkaç klasör oluştur, içlerinde gezin, `help`/`--help`/`man` ile kılavuzları kurcala. **Pratik (practice)** en iyi öğretmen!\n"
   ]
  },
  {
   "metadata": {},
   "cell_type": "code",
   "outputs": [],
   "execution_count": null,
   "source": [
    "\n",
    "\n",
    "\n",
    "\n",
    "\n",
    "\n",
    "\n",
    "\n",
    "\n"
   ]
  },
  {
   "metadata": {},
   "cell_type": "markdown",
   "source": [
    "**Parent Directory**\n",
    "\n",
    "What is a parent directory?\n",
    "\n",
    "Select one option from the list\n",
    "\n",
    "\n",
    "the directory you are currently in\n",
    "\n",
    "the directory one level below the current directory\n",
    "\n",
    "the directory one level above the current directory t\n",
    "\n",
    "the same as the home directory"
   ]
  },
  {
   "metadata": {},
   "cell_type": "code",
   "outputs": [],
   "execution_count": null,
   "source": [
    "\n",
    "\n",
    "\n",
    "\n",
    "\n",
    "\n",
    "\n",
    "\n",
    "\n"
   ]
  },
  {
   "metadata": {},
   "cell_type": "markdown",
   "source": [
    "Who am I\n",
    "\n",
    "Run the command whoami. What do you see?\n",
    "\n",
    "Select one option from the list\n",
    "\n",
    "\n",
    "Your full name\n",
    "\n",
    "Nothing. That's an incorrect command\n",
    "\n",
    "Username of the current user  t\n",
    "\n",
    "Your computer's address"
   ]
  },
  {
   "metadata": {},
   "cell_type": "code",
   "outputs": [],
   "execution_count": null,
   "source": [
    "\n",
    "\n",
    "\n",
    "\n",
    "\n",
    "\n",
    "\n",
    "\n",
    "\n"
   ]
  },
  {
   "metadata": {},
   "cell_type": "markdown",
   "source": [
    "**Playing with CLI**\n",
    "\n",
    "Open CLI and type cd /. What happens?\n",
    "\n",
    "Select one option from the list\n",
    "\n",
    "\n",
    "you have created a new folder in the current directory\n",
    "\n",
    "you have deleted all files in the current directory\n",
    "\n",
    "you have moved to the root directory t\n",
    "\n",
    "you have moved to the parent directory"
   ]
  },
  {
   "metadata": {},
   "cell_type": "code",
   "outputs": [],
   "execution_count": null,
   "source": [
    "\n",
    "\n",
    "\n",
    "\n",
    "\n",
    "\n",
    "\n",
    "\n",
    "\n"
   ]
  },
  {
   "metadata": {},
   "cell_type": "markdown",
   "source": [
    "**Pushd and popd**\n",
    "\n",
    "Change your directory to any other than the root directory and run it in your terminal:\n",
    "\n",
    "# Windows\n",
    "pushd \\\n",
    "popd\n",
    "\n",
    "# Linux/macOS\n",
    "pushd /\n",
    "popd\n",
    "\n",
    "What has happened?\n",
    "\n",
    "Select one option from the list\n",
    "\n",
    "\n",
    "You changed your location to the root directory and then returned  a\n",
    "\n",
    "You created a new directory and then deleted it\n",
    "\n",
    "You created a new directory and changed your location to it\n",
    "\n",
    "You changed your location to the root directory\n"
   ]
  },
  {
   "metadata": {},
   "cell_type": "code",
   "outputs": [],
   "execution_count": null,
   "source": [
    "\n",
    "\n",
    "\n",
    "\n",
    "\n",
    "\n",
    "\n",
    "\n",
    "\n"
   ]
  },
  {
   "metadata": {},
   "cell_type": "markdown",
   "source": [
    "**CLI options**\n",
    "\n",
    "Fill in the blank.\n",
    "\n",
    "Fill in the gaps with the relevant elements\n",
    "\n",
    "In a command-line interface (CLI), options are typically preceded by a forward slash(/) symbol."
   ]
  },
  {
   "metadata": {},
   "cell_type": "code",
   "outputs": [],
   "execution_count": null,
   "source": [
    "\n",
    "\n",
    "\n",
    "\n",
    "\n",
    "\n",
    "\n",
    "\n",
    "\n",
    "\n"
   ]
  },
  {
   "metadata": {},
   "cell_type": "markdown",
   "source": [
    "**New Directory**\n",
    "\n",
    "What command do you need to use to create a new directory?\n",
    "\n",
    "Fill in the gaps with the relevant elements\n",
    "\n",
    "mkdir<DIRECTORY_NAME>"
   ]
  },
  {
   "metadata": {},
   "cell_type": "code",
   "outputs": [],
   "execution_count": null,
   "source": [
    "\n",
    "\n",
    "\n",
    "\n",
    "\n",
    "\n",
    "\n",
    "\n",
    "\n"
   ]
  },
  {
   "metadata": {},
   "cell_type": "markdown",
   "source": [
    "**Command with parameters**\n",
    "\n",
    "Which of the following commands cannot be used without parameters?\n",
    "\n",
    "Fill in the gaps with the relevant elements\n",
    "\n",
    "mkdir  cannot be used without parameters"
   ]
  },
  {
   "metadata": {},
   "cell_type": "code",
   "outputs": [],
   "execution_count": null,
   "source": [
    "\n",
    "\n",
    "\n",
    "\n",
    "\n",
    "\n",
    "\n",
    "\n",
    "\n"
   ]
  },
  {
   "metadata": {},
   "cell_type": "markdown",
   "source": [
    "**Fixing a script to confirm file existence**\n",
    "\n",
    "You have a bash script that is designed to confirm whether a file exists in the current directory. However, it is not functioning correctly because some parts are missing. Your task is to fill the blanks in the code so that the script reads the name of the file as a parameter from the command line, checks if it exists, and prints 'File exists.' if it does, and 'File does not exist.' if it doesn't.\n",
    "\n",
    "if echo else echo"
   ]
  },
  {
   "metadata": {},
   "cell_type": "code",
   "outputs": [],
   "execution_count": null,
   "source": [
    "\n",
    "\n",
    "\n",
    "\n",
    "\n",
    "\n",
    "\n",
    "\n",
    "\n"
   ]
  },
  {
   "metadata": {},
   "cell_type": "markdown",
   "source": [
    "Building a command-line options handler script\n",
    " Report a typo\n",
    "Here is a command-line program in Bash with some gaps. The program can be invoked from terminal with fileName.sh [option] [arg]. When invoked with -h or --help option, the script displays a help message. In any other case – with another argument [arg] – the script prints the message You entered: [arg]. Fill in the blanks to complete the program.\n",
    "\n",
    "Recall needed keywords:\n",
    "\n",
    "if..then construction is used to perform execution of commands based on a condition\n",
    "\n",
    "operator || means logical OR\n",
    "\n",
    "echo prints the specified text or variables to the terminal\n",
    "\n",
    "$0 refers to the name of the script\n",
    "\n",
    "$1 refers to the first positional parameter passed to a script or a function.\n",
    "\n",
    "if then echo echo echo echo"
   ]
  },
  {
   "metadata": {},
   "cell_type": "code",
   "outputs": [],
   "execution_count": null,
   "source": [
    "\n",
    "\n",
    "\n",
    "\n",
    "\n",
    "\n",
    "\n",
    "\n",
    "\n"
   ]
  },
  {
   "metadata": {},
   "cell_type": "markdown",
   "source": [
    "**Manual**\n",
    "\n",
    "Which one of the following commands helps you get the manual for other commands?\n",
    "\n",
    "help on Windows and  man on Linux/macOS.\n"
   ]
  },
  {
   "metadata": {},
   "cell_type": "code",
   "outputs": [],
   "execution_count": null,
   "source": ""
  }
 ],
 "metadata": {
  "kernelspec": {
   "display_name": "Kotlin",
   "language": "kotlin",
   "name": "kotlin"
  },
  "language_info": {
   "name": "kotlin",
   "version": "1.9.23",
   "mimetype": "text/x-kotlin",
   "file_extension": ".kt",
   "pygments_lexer": "kotlin",
   "codemirror_mode": "text/x-kotlin",
   "nbconvert_exporter": ""
  }
 },
 "nbformat": 4,
 "nbformat_minor": 0
}
