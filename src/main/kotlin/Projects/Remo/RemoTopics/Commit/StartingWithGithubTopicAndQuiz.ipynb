{
 "cells": [
  {
   "cell_type": "code",
   "execution_count": null,
   "metadata": {
    "collapsed": true
   },
   "outputs": [],
   "source": [
    ""
   ]
  },
  {
   "metadata": {},
   "cell_type": "markdown",
   "source": [
    "# GitHub’a Giriş: Proje Depolama ve İş Birliği Platformu\n",
    "\n",
    "**GitHub**, geliştiricilerin projelerini depolayabileceği, versiyon kontrolünü yapabileceği ve birlikte çalışabileceği popüler bir kod barındırma (code hosting) platformudur. Temelinde **Git** versiyon kontrol sistemi vardır ve buna ek olarak web arayüzü, iş birliği araçları, hata takip sistemi (issue tracker), proje istatistikleri gibi özellikler sunar.\n",
    "\n",
    "Bu yazıda GitHub’a web tarayıcısı üzerinden nasıl adım adım başlayabileceğinizi, hesap açmaktan depo (repository) oluşturup keşfetmeye kadar temel bilgileri bulabilirsiniz.\n",
    "\n",
    "---\n",
    "\n",
    "## Neden GitHub?\n",
    "\n",
    "* **Portföy olarak kullanma**: Projelerinizi burada yayınlayabilir, profil bağlantınızı iş başvurularında paylaşabilirsiniz.\n",
    "* **İş birliği**: Takım arkadaşlarıyla veya açık kaynak topluluğuyla proje geliştirme.\n",
    "* **Versiyon kontrolü**: Kod geçmişinizi takip etme, eski sürümlere dönme.\n",
    "* **Popülerlik**: 2020 itibariyle dünyanın en büyük kaynak kod barındırıcısı.\n",
    "\n",
    "---\n",
    "\n",
    "## Hesap Oluşturma\n",
    "\n",
    "1. [GitHub](https://github.com/) sitesine gidin ve ücretsiz bir hesap açın. (Zaten varsa giriş yapabilirsiniz.)\n",
    "2. Kayıt adımlarını tamamlayın, son adımda **“Continue for free”** seçeneğini seçin.\n",
    "3. Kayıt sonrası **dashboard** ekranına yönlendirilirsiniz. Buradan:\n",
    "\n",
    "   * Yeni bir depo (repository) oluşturabilirsiniz.\n",
    "   * Sağ üstteki profil ikonundan ayarlarınıza ve diğer özelliklere erişebilirsiniz.\n",
    "   * Profilinize açıklama (bio) ekleyebilir, fotoğraf yükleyebilirsiniz.\n",
    "\n",
    "> **İpucu**: Dashboard’da **Getting started** alıştırmaları ile GitHub Bot’un sunduğu pratiklere başlayabilirsiniz.\n",
    "\n",
    "---\n",
    "\n",
    "## Depo (Repository) Keşfi\n",
    "\n",
    "* Her proje, **repository** adı verilen kendi alanında tutulur.\n",
    "* Kod, yapılandırma dosyaları, veri setleri, görseller gibi proje ile ilgili her şey burada yer alabilir.\n",
    "* **Versiyon kontrol** sayesinde yapılan tüm değişiklikler kayıt altına alınır.\n",
    "\n",
    "### Depo Oluşturma\n",
    "\n",
    "* Profil ikonuna tıklayın → **Your repositories** → **New** butonu ile yeni depo açın.\n",
    "\n",
    "### Depo Arama\n",
    "\n",
    "* Arama kutusuna depo adını (veya bir kısmını) yazın.\n",
    "* Çok sayıda sonuç varsa proje sahibinin verdiği direkt bağlantıyı kullanabilirsiniz.\n",
    "\n",
    "---\n",
    "\n",
    "## Demo Depo Yapısı\n",
    "\n",
    "Örnek bir depoda şu dosya ve sekmeleri görebilirsiniz:\n",
    "\n",
    "* **Code sekmesi**:\n",
    "\n",
    "  * `README.md`: Proje tanımı, GitHub bu dosyayı repo altında gösterir.\n",
    "  * `.gitignore`: Git tarafından yoksayılacak dosya/dizinleri belirtir.\n",
    "* **Pull requests**:\n",
    "\n",
    "  * Dosyalarda değişiklik önerilerini (ekleme, silme, düzenleme) barındırır.\n",
    "  * Depo sahibi bu istekleri inceleyip onaylayabilir.\n",
    "* **Issues**:\n",
    "\n",
    "  * Hatalar, geliştirme önerileri, görev listeleri.\n",
    "* **Wiki**:\n",
    "\n",
    "  * Projenin detaylı dokümantasyonu (kullanım, tasarım, prensipler).\n",
    "* **Insights**:\n",
    "\n",
    "  * Depo istatistikleri ve analizler.\n",
    "* **Commits**:\n",
    "\n",
    "  * Kodda yapılan değişikliklerin zaman çizelgesi.\n",
    "\n",
    "> **Not**: 1 Ekim 2020’den itibaren yeni oluşturulan depolarda varsayılan dal (branch) adı **main** olmuştur. Daha önce oluşturulanlarda **master** adı kullanılmaya devam eder.\n",
    "\n",
    "---\n",
    "\n",
    "## Katkıda Bulunma\n",
    "\n",
    "* Açık kaynak bir depoya doğrudan yazma izniniz olmasa bile, **pull request** veya **issue** açarak katkı sağlayabilirsiniz.\n",
    "* **Pull request**: Kod değişiklik önerisi.\n",
    "* **Issue**: Problem raporu veya geliştirme isteği.\n",
    "\n",
    "---\n",
    "\n",
    "## Sonuç\n",
    "\n",
    "GitHub, projelerinizi Git tabanlı depolar olarak saklayabileceğiniz ve paylaşabileceğiniz bir platformdur.\n",
    "\n",
    "* Hesap oluşturup profilinizi düzenleyebilir,\n",
    "* Depolarınızı oluşturabilir veya başkalarının depolarını keşfedebilir,\n",
    "* README.md ile projenizi tanıtabilir,\n",
    "* Pull request ve Issues sekmeleriyle katkı sağlayabilirsiniz.\n",
    "\n",
    "> GitHub’a hakimiyet, yazılım geliştirme kariyerinizde hem iş birliğini hem de görünürlüğünüzü artırır.\n"
   ]
  },
  {
   "metadata": {},
   "cell_type": "code",
   "outputs": [],
   "execution_count": null,
   "source": [
    "\n",
    "\n",
    "\n",
    "\n",
    "\n",
    "\n",
    "\n",
    "\n",
    "\n",
    "\n",
    "\n",
    "\n",
    "\n",
    "\n",
    "\n",
    "\n",
    "\n",
    "\n",
    "\n"
   ]
  },
  {
   "metadata": {},
   "cell_type": "markdown",
   "source": [
    "From October 1, 2020, the master branch on GitHub has been renamed. What is the new name of this branch?\n",
    "\n",
    "Select one option from the list\n",
    "\n",
    "\n",
    "primary\n",
    "\n",
    "main  t\n",
    "\n",
    "master\n",
    "\n",
    "major"
   ]
  },
  {
   "metadata": {},
   "cell_type": "code",
   "outputs": [],
   "execution_count": null,
   "source": [
    "\n",
    "\n",
    "\n",
    "\n",
    "\n",
    "\n",
    "\n",
    "\n",
    "\n"
   ]
  },
  {
   "metadata": {},
   "cell_type": "markdown",
   "source": [
    "**GitHub's UI**\n",
    "\n",
    "Match tabs from GitHub UI and their meanings.\n",
    "\n",
    "Match the items from left and right columns\n",
    "Issues\n",
    "Pull requests\n",
    "Insight\n",
    "contains ideas, enhancements, bugs, questions, and so on.\n",
    "contains proposals to make some changes in the project\n",
    "contains some stats and information about this repository."
   ]
  },
  {
   "metadata": {},
   "cell_type": "code",
   "outputs": [],
   "execution_count": null,
   "source": [
    "\n",
    "\n",
    "\n",
    "\n",
    "\n",
    "\n",
    "\n",
    "\n",
    "\n"
   ]
  },
  {
   "metadata": {},
   "cell_type": "markdown",
   "source": [
    "**Operations with a project**\n",
    "\n",
    "Suppose, you have found an interesting project on GitHub. You are not a collaborator of this project.\n",
    "\n",
    "\n",
    "Which operations are available for you?\n",
    "\n",
    "Select one or more options from the list\n",
    "\n",
    "Add new files in this repo.\n",
    "\n",
    "Create an issue. t\n",
    "\n",
    "Open files within the code section. t\n",
    "\n",
    "Change an existing file in the code section."
   ]
  },
  {
   "metadata": {},
   "cell_type": "code",
   "outputs": [],
   "execution_count": null,
   "source": [
    "\n",
    "\n",
    "\n",
    "\n",
    "\n",
    "\n",
    "\n",
    "\n",
    "\n"
   ]
  },
  {
   "metadata": {},
   "cell_type": "markdown",
   "source": [
    "**What is a repository?**\n",
    "\n",
    "A GitHub repository is\n",
    "\n",
    "Select one option from the list\n",
    "\n",
    "\n",
    "a file with documentation\n",
    "\n",
    "a container for project and its data  t\n",
    "\n",
    "a special file with user information\n",
    "\n",
    "a separate website to store project datasets"
   ]
  },
  {
   "metadata": {},
   "cell_type": "code",
   "outputs": [],
   "execution_count": null,
   "source": [
    "\n",
    "\n",
    "\n",
    "\n",
    "\n",
    "\n",
    "\n",
    "\n",
    "\n"
   ]
  },
  {
   "metadata": {},
   "cell_type": "markdown",
   "source": [
    "**Not in the repo**\n",
    "\n",
    "What is the name of the file in which directories and files that should not be pushed to the repository are written?\n",
    "\n",
    "Enter a short text\n",
    ".gitignore\n"
   ]
  },
  {
   "metadata": {},
   "cell_type": "code",
   "outputs": [],
   "execution_count": null,
   "source": [
    "\n",
    "\n",
    "\n",
    "\n",
    "\n",
    "\n",
    "\n",
    "\n",
    "\n"
   ]
  },
  {
   "metadata": {},
   "cell_type": "markdown",
   "source": [
    "**Explore a project repository**\n",
    "\n",
    "Imagine you have found some project repository on GitHub. Where can you see information about the project to understand what it is about?\n",
    "\n",
    "Select one or more options from the list\n",
    "\n",
    "in README.md file t\n",
    "\n",
    "in .gitignore file\n",
    "\n",
    "in Wiki tab t\n",
    "\n",
    "in Issues tab"
   ]
  },
  {
   "metadata": {},
   "cell_type": "code",
   "outputs": [],
   "execution_count": null,
   "source": [
    "\n",
    "\n",
    "\n",
    "\n",
    "\n",
    "\n",
    "\n",
    "\n",
    "\n",
    "\n"
   ]
  },
  {
   "metadata": {},
   "cell_type": "markdown",
   "source": [
    "**Registration on GitHub**\n",
    "\n",
    "Enter a link to your account in GitHub. You may copy it from your browser.\n",
    "https://github.com/mertakd"
   ]
  },
  {
   "metadata": {},
   "cell_type": "code",
   "outputs": [],
   "execution_count": null,
   "source": [
    "\n",
    "\n",
    "\n",
    "\n",
    "\n",
    "\n",
    "\n",
    "\n",
    "\n"
   ]
  },
  {
   "metadata": {},
   "cell_type": "markdown",
   "source": [
    "**Find a repo on GitHub**\n",
    "\n",
    "Enter a link to any repo hosted on GitHub.\n",
    "\n",
    "Enter a short text\n",
    "https://github.com/mertakd/JetbrainsAcademyHyperskill"
   ]
  },
  {
   "metadata": {},
   "cell_type": "code",
   "outputs": [],
   "execution_count": null,
   "source": [
    "\n",
    "\n",
    "\n",
    "\n",
    "\n",
    "\n",
    "\n",
    "\n",
    "\n"
   ]
  },
  {
   "metadata": {},
   "cell_type": "markdown",
   "source": [
    "**Issue**\n",
    "\n",
    "Enter a link to any issue of any repository on GitHub.\n",
    "\n",
    "https://github.com/mertakd/JetbrainsAcademyHyperskill/issues/1"
   ]
  },
  {
   "metadata": {},
   "cell_type": "code",
   "outputs": [],
   "execution_count": null,
   "source": [
    "\n",
    "\n",
    "\n",
    "\n",
    "\n",
    "\n",
    "\n",
    "\n",
    "\n"
   ]
  },
  {
   "metadata": {},
   "cell_type": "markdown",
   "source": [
    "Create a fork of our repository, make some changes there and create a pull request. Give a link to your PR as the answer to this task.\n",
    "Once you are done - please close the PR and delete the branch.\n",
    "\n",
    "Enter a short text\n"
   ]
  }
 ],
 "metadata": {
  "kernelspec": {
   "display_name": "Kotlin",
   "language": "kotlin",
   "name": "kotlin"
  },
  "language_info": {
   "name": "kotlin",
   "version": "1.9.23",
   "mimetype": "text/x-kotlin",
   "file_extension": ".kt",
   "pygments_lexer": "kotlin",
   "codemirror_mode": "text/x-kotlin",
   "nbconvert_exporter": ""
  }
 },
 "nbformat": 4,
 "nbformat_minor": 0
}
