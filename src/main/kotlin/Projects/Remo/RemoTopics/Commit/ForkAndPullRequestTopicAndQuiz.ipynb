{
 "cells": [
  {
   "cell_type": "code",
   "execution_count": null,
   "metadata": {
    "collapsed": true
   },
   "outputs": [],
   "source": [
    ""
   ]
  },
  {
   "metadata": {},
   "cell_type": "markdown",
   "source": [
    "\n",
    "---\n",
    "\n",
    "# GitHub’da Fork, Branch ve Pull Request Mantığı\n",
    "\n",
    "GitHub üzerinde başka birinin projesini değiştirmek veya kendi fikrine uyarlamak istediğinde, eğer o projede **collaborator** (işbirlikçi) değilsen, doğrudan dosyaları değiştiremezsin.\n",
    "İşte burada **fork** ve **pull request** sistemi devreye girer.\n",
    "\n",
    "---\n",
    "\n",
    "## Fork (Çatallama) Nedir?\n",
    "\n",
    "**Fork**, bir depoyu (repository) kendi hesabına kopyalamaktır.\n",
    "Bu sayede projeyi özgürce düzenleyebilir, deneyler yapabilir ve orijinal projeyi bozmadan geliştirebilirsin.\n",
    "\n",
    "* Fork yapmak için GitHub’a giriş yap.\n",
    "* İlgili projenin sayfasında sağ üstte **Fork** butonuna tıkla.\n",
    "* İstersen repo adını ve açıklamasını düzenle.\n",
    "* **Create fork** butonuna bas.\n",
    "* Artık kendi hesabında bu projenin birebir kopyası var.\n",
    "\n",
    "Bu kopya tıpkı orijinal repo gibi çalışır; yeni dosya ekleyebilir, var olan dosyaları değiştirebilir veya silebilirsin.\n",
    "\n",
    "---\n",
    "\n",
    "## Branch (Dal) Mantığı\n",
    "\n",
    "GitHub’da her depo varsayılan olarak **main** isimli bir dal ile başlar.\n",
    "Branch, bir projenin farklı versiyonlarında çalışmanı sağlar.\n",
    "\n",
    "* **Neden kullanılır?**\n",
    "  Main dalını korumak ve deneme/geliştirme çalışmalarını ayrı tutmak için.\n",
    "  Örneğin yeni bir özellik eklerken “feature-login” gibi özel bir branch açarsın.\n",
    "\n",
    "* **Nasıl oluşturulur?**\n",
    "  Repo sayfasında `main` dal adına tıkla → Açılan menüden yeni branch adını yaz → Enter’a bas.\n",
    "\n",
    "---\n",
    "\n",
    "## Özel Branch’te Değişiklik Yapma\n",
    "\n",
    "1. Yeni branch’ini seç.\n",
    "2. README.md dosyasını aç.\n",
    "3. Düzenleme (kalem simgesi) butonuna tıkla.\n",
    "4. Fork veya branch hakkında öğrendiğin bilgileri ekleyebilirsin.\n",
    "5. **Commit changes** bölümünde anlamlı bir açıklama yaz ve commit et.\n",
    "\n",
    "Bu commit yalnızca yeni branch’te geçerli olur, main dalı veya orijinal proje etkilenmez.\n",
    "\n",
    "---\n",
    "\n",
    "## Pull Request (PR) ile Değişiklik Önerme\n",
    "\n",
    "Değişikliklerini orijinal projeye önermek için pull request açarsın:\n",
    "\n",
    "* Değişiklik yaptığın branch’te ol.\n",
    "* **Contribute → Open pull request** seçeneğini seç.\n",
    "* **Base fork**: Orijinal proje (ör. `hyperskill/intro-to-github`) → `main` dalı\n",
    "  **Head fork**: Senin fork’un ve değişiklik yaptığın dal.\n",
    "* Başlık ve açıklama ekle, **Create pull request** butonuna tıkla.\n",
    "\n",
    "Eğer proje sahibinin hoşuna giderse, değişikliklerin main dalına **merge** edilir.\n",
    "İş bittikten sonra gereksiz branch’leri silebilirsin.\n",
    "\n",
    "---\n",
    "\n",
    "## Kendi Projeni Sıfırdan Oluşturmak\n",
    "\n",
    "Fork kullanmak zorunda değilsin. Yeni bir proje başlatmak için:\n",
    "\n",
    "1. GitHub profilinden **New** butonuna tıkla.\n",
    "2. Projene açıklayıcı bir isim ver.\n",
    "3. Artık bu depo tamamen senin kontrolünde.\n",
    "\n",
    "---\n",
    "\n",
    "## Özet\n",
    "\n",
    "1. **Fork** ile projeyi kendi hesabına kopyaladık.\n",
    "2. **Branch** ile değişiklikleri izole ettik.\n",
    "3. Dosyaları düzenleyip commit ettik.\n",
    "4. **Pull Request** ile değişiklikleri orijinal projeye önerdik.\n",
    "\n",
    "GitHub, bu iş akışıyla hem bireysel hem de ekip çalışmalarında düzeni ve güvenliği sağlar.\n",
    "\n",
    "---\n",
    "\n",
    "\n"
   ]
  },
  {
   "metadata": {},
   "cell_type": "code",
   "outputs": [],
   "execution_count": null,
   "source": [
    "\n",
    "\n",
    "\n",
    "\n",
    "\n",
    "\n",
    "\n",
    "\n",
    "\n"
   ]
  },
  {
   "metadata": {},
   "cell_type": "markdown",
   "source": [
    "**What is a fork?**\n",
    "\n",
    "A fork is\n",
    "\n",
    "Select one option from the list\n",
    "\n",
    "\n",
    "a link to a repository\n",
    "\n",
    "a copy of a repository   t\n",
    "\n",
    "a help file\n",
    "\n",
    "a copy of a program"
   ]
  },
  {
   "metadata": {},
   "cell_type": "code",
   "outputs": [],
   "execution_count": null,
   "source": [
    "\n",
    "\n",
    "\n",
    "\n",
    "\n",
    "\n",
    "\n",
    "\n",
    "\n"
   ]
  },
  {
   "metadata": {},
   "cell_type": "markdown",
   "source": [
    "**Pull Request: Your Ticket In!**\n",
    "\n",
    "Let's say you 'forked' a repository on GitHub and made some changes in your forked repository, which you think would be valuable for the original repository. How could you propose your changes to the maintainer of the original repository?\n",
    "\n",
    "Select one option from the list\n",
    "\n",
    "Delete your fork and fork the original repository again.\n",
    "\n",
    "Create a 'pull request' for your changes and wait for the maintainer to review. t\n",
    "\n",
    "Send a direct message to the maintainer with your proposed changes.\n",
    "\n",
    "Make a 'commit' into the original repository with your changes."
   ]
  },
  {
   "metadata": {},
   "cell_type": "code",
   "outputs": [],
   "execution_count": null,
   "source": [
    "\n",
    "\n",
    "\n",
    "\n",
    "\n",
    "\n",
    "\n",
    "\n",
    "\n"
   ]
  },
  {
   "metadata": {},
   "cell_type": "markdown",
   "source": ""
  },
  {
   "metadata": {},
   "cell_type": "markdown",
   "source": [
    "\n",
    "**Put actions in order**\n",
    "\n",
    "In what order should you complete the following steps to make changes in a special branch and then submit them to the main version of the project?\n",
    "\n",
    "Put the items in the correct order\n",
    "go to fork\n",
    "create a new branch\n",
    "make changes\n",
    "commit changes\n",
    "create a pull request"
   ]
  },
  {
   "metadata": {},
   "cell_type": "code",
   "outputs": [],
   "execution_count": null,
   "source": [
    "\n",
    "\n",
    "\n",
    "\n",
    "\n",
    "\n",
    "\n",
    "\n",
    "\n"
   ]
  },
  {
   "metadata": {},
   "cell_type": "markdown",
   "source": [
    "**Operations**\n",
    "\n",
    "Suppose, you have found an interesting project on GitHub. You are not a collaborator on this project.\n",
    "\n",
    "\n",
    "You forked this repo. Which operations are available for you?\n",
    "\n",
    "Select one or more options from the list\n",
    "\n",
    "Create a pull request to propose changes in the original repo.\n",
    "\n",
    "Change a file in fork (e.g. README.md).\n",
    "\n",
    "Create an issue in fork.\n",
    "\n",
    "Add new files in fork."
   ]
  },
  {
   "metadata": {},
   "cell_type": "code",
   "outputs": [],
   "execution_count": null,
   "source": [
    "\n",
    "\n",
    "\n",
    "\n",
    "\n",
    "\n",
    "\n",
    "\n",
    "\n"
   ]
  },
  {
   "metadata": {},
   "cell_type": "markdown",
   "source": [
    "**Make a change**\n",
    "\n",
    "Imagine that you and your team have a github project and want to experiment with the code to find the best solution. How can you do this without changing the source code?\n",
    "\n",
    "Select one or more options from the list\n",
    "\n",
    "\n",
    "you cannot make any changes\n",
    "\n",
    "switch to fork and work there t\n",
    "\n",
    "commit changes in main\n",
    "\n",
    "move the code to a new repository and experiment there  t\n"
   ]
  },
  {
   "metadata": {},
   "cell_type": "code",
   "outputs": [],
   "execution_count": null,
   "source": [
    "\n",
    "\n",
    "\n",
    "\n",
    "\n",
    "\n",
    "\n",
    "\n",
    "\n"
   ]
  },
  {
   "metadata": {},
   "cell_type": "markdown",
   "source": ""
  }
 ],
 "metadata": {
  "kernelspec": {
   "display_name": "Kotlin",
   "language": "kotlin",
   "name": "kotlin"
  },
  "language_info": {
   "name": "kotlin",
   "version": "1.9.23",
   "mimetype": "text/x-kotlin",
   "file_extension": ".kt",
   "pygments_lexer": "kotlin",
   "codemirror_mode": "text/x-kotlin",
   "nbconvert_exporter": ""
  }
 },
 "nbformat": 4,
 "nbformat_minor": 0
}
