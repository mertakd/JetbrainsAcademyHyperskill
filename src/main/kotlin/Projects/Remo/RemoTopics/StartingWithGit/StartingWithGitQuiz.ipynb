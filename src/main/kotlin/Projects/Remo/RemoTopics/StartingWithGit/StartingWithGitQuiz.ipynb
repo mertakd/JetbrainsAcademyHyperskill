{
 "cells": [
  {
   "cell_type": "code",
   "execution_count": null,
   "metadata": {
    "collapsed": true
   },
   "outputs": [],
   "source": [
    ""
   ]
  },
  {
   "metadata": {},
   "cell_type": "markdown",
   "source": [
    "What two kinds of repositories does git have?\n",
    "\n",
    "Select one or more options from the list\n",
    "\n",
    "\n",
    "removed\n",
    "\n",
    "individual\n",
    "\n",
    "remote         T\n",
    "\n",
    "local          T\n",
    "\n",
    "private"
   ]
  },
  {
   "metadata": {},
   "cell_type": "code",
   "outputs": [],
   "execution_count": null,
   "source": [
    "\n",
    "\n",
    "\n",
    "\n",
    "\n",
    "\n",
    "\n",
    "\n",
    "\n",
    "\n"
   ]
  },
  {
   "metadata": {},
   "cell_type": "markdown",
   "source": [
    "**What is Git?**\n",
    "\n",
    "\n",
    "What can you do with Git?\n",
    "Select one or more options from the list\n",
    "\n",
    "\n",
    "add files to GitHub               T\n",
    "\n",
    "update your operating system\n",
    "\n",
    "record changes in files            T\n",
    "\n",
    "track changes in your code          T\n"
   ]
  },
  {
   "metadata": {},
   "cell_type": "code",
   "outputs": [],
   "execution_count": null,
   "source": [
    "\n",
    "\n",
    "\n",
    "\n",
    "\n",
    "\n",
    "\n",
    "\n",
    "\n"
   ]
  },
  {
   "metadata": {},
   "cell_type": "markdown",
   "source": [
    "**Git check**\n",
    "\n",
    "\n",
    "Let's check if you've successfully installed git. Run the git --version command in terminal and write the output.\n",
    "\n",
    "Write the answer in the following manner: git version <version number>\n",
    "\n",
    "For example, git version 10.28.0\n",
    "\n",
    "Enter a short text\n",
    "git version 2.45.1.windows.1"
   ]
  },
  {
   "metadata": {},
   "cell_type": "code",
   "outputs": [],
   "execution_count": null,
   "source": [
    "\n",
    "\n",
    "\n",
    "\n",
    "\n",
    "\n",
    "\n",
    "\n",
    "\n"
   ]
  },
  {
   "metadata": {},
   "cell_type": "markdown",
   "source": [
    "**What is Git?**\n",
    "\n",
    "Git is\n",
    "\n",
    "Select one option from the list\n",
    "\n",
    "\n",
    "a set of console utilities to store, control, change, and merge your files     T\n",
    "\n",
    "a set of console utilities to control and update your system\n",
    "\n",
    "a website where you can keep your programing projects\n",
    "\n",
    "a program that helps you correct your codes\n"
   ]
  },
  {
   "metadata": {},
   "cell_type": "code",
   "outputs": [],
   "execution_count": null,
   "source": [
    "\n",
    "\n",
    "\n",
    "\n",
    "\n",
    "\n",
    "\n",
    "\n",
    "\n"
   ]
  },
  {
   "metadata": {},
   "cell_type": "markdown",
   "source": [
    "**Setting up a new project with Git**\n",
    "\n",
    "You've just started a new software project within a team at your company. Your team is using Git for version control. The project repository link is 'https://github.com/username/project.git'. Your task is to set up your local environment to work with this repository. Fill in the blanks in the given code sequence to initialize Git, set your username and email globally, clone the repository, and check the status of your Git repository.\n",
    "\n",
    "# Initialize Git\n",
    " git init\n",
    "\n",
    "# Configure username\n",
    "git config --global user.name \"useremail@example.com\"\n",
    "\n",
    "# Clone the repository from remote\n",
    "git clone https://github.com/username/project.git\n",
    "\n",
    "# Check status of the Git repository\n",
    "git status"
   ]
  },
  {
   "metadata": {},
   "cell_type": "code",
   "outputs": [],
   "execution_count": null,
   "source": [
    "\n",
    "\n",
    "\n",
    "\n",
    "\n",
    "\n",
    "\n",
    "\n",
    "\n",
    "\n"
   ]
  },
  {
   "metadata": {},
   "cell_type": "markdown",
   "source": [
    "**Telling git who you are**\n",
    "\n",
    "You are working in a development environment and need to configure Git with your user details. Your task is to write the Git commands that will set up the user name and email globally.\n",
    "\n",
    "Write the necessary Git commands below line by line to achieve the following objectives:\n",
    "\n",
    "Set the global Git user name to \"hyper\".\n",
    "\n",
    "Set the global Git user email to \"hyper@hyperskill.org\".\n",
    "\n",
    "Write a program\n",
    "\n",
    "\n",
    "# Write your solution below\n",
    "# Ensure to type the commands line by line\n",
    "git config --global user.name \"hyper\"\n",
    "git config --global user.email hyper@hyperskill.org\n"
   ]
  },
  {
   "metadata": {},
   "cell_type": "code",
   "outputs": [],
   "execution_count": null,
   "source": [
    "\n",
    "\n",
    "\n",
    "\n",
    "\n",
    "\n",
    "\n",
    "\n",
    "\n",
    "\n",
    "\n",
    "\n",
    "\n"
   ]
  },
  {
   "metadata": {},
   "cell_type": "markdown",
   "source": [
    "**Configuring git options**\n",
    "\n",
    "You are working in a development environment and need to configure Git with specific settings. Your task is to write the Git commands that will set up the core editor, initial branch name, and line endings globally. Write the necessary Git commands below line by line to achieve the following objectives:\n",
    "\n",
    "Set the global Git core editor to \"vim\";\n",
    "\n",
    "Set the global initial branch name to \"development\";\n",
    "\n",
    "Set the global line endings for a Windows system;\n",
    "\n",
    "\n",
    "\n",
    "# Write your solution below\n",
    "# Ensure to type the commands line by line\n",
    "git config --global core.editor \"vim\"\n",
    "git config --global init.defaultBranch development\n",
    "git config --global core.autocrlf true\n"
   ]
  },
  {
   "metadata": {},
   "cell_type": "code",
   "outputs": [],
   "execution_count": null,
   "source": [
    "\n",
    "\n",
    "\n",
    "\n",
    "\n",
    "\n",
    "\n",
    "\n",
    "\n",
    "\n"
   ]
  },
  {
   "metadata": {},
   "cell_type": "markdown",
   "source": [
    "**Configuring aliases for git commands**\n",
    "\n",
    "You are working in a development environment and need to configure Git with specific settings. Your task is to write the Git commands that will set up useful aliases.\n",
    "\n",
    "Write the necessary Git commands below line by line to set aliases for the following commands:\n",
    "\n",
    "Create an alias \"re\" for the \"remote\" command;\n",
    "\n",
    "Create an alias \"a\" for the \"add\" command;\n",
    "\n",
    "Create an alias \"cm\" for the \"commit\" command;\n",
    "\n",
    "Create an alias \"pu\" for the \"push\" command;\n",
    "\n",
    "Create an alias \"co\" for the \"checkout\" command;\n",
    "\n",
    "Create an alias \"br\" for the \"branch\" command.\n",
    "\n",
    "The tests will run commands using these aliases. If not set, you'll get output like \"re is not a git command\". Ensure to set all aliases before running the tests.\n",
    "\n",
    "\n",
    "# Write your solution below\n",
    "# Ensure to type the commands line by line\n",
    "git config --global alias.re remote\n",
    "git config --global alias.a add\n",
    "git config --global alias.cm commit\n",
    "git config --global alias.pu push\n",
    "git config --global alias.co checkout\n",
    "git config --global alias.br branch\n"
   ]
  },
  {
   "metadata": {},
   "cell_type": "code",
   "outputs": [],
   "execution_count": null,
   "source": ""
  },
  {
   "metadata": {},
   "cell_type": "markdown",
   "source": ""
  },
  {
   "metadata": {},
   "cell_type": "code",
   "outputs": [],
   "execution_count": null,
   "source": [
    "\n",
    "\n",
    "\n",
    "\n",
    "\n",
    "\n",
    "\n",
    "\n",
    "\n",
    "\n"
   ]
  },
  {
   "metadata": {},
   "cell_type": "code",
   "outputs": [],
   "execution_count": null,
   "source": ""
  },
  {
   "metadata": {},
   "cell_type": "markdown",
   "source": [
    "**What is wrong here?**\n",
    "\n",
    "Find mistakes in these commands for setting name and email for git.\n",
    "\n",
    "git --config --global user-name \"Kaitukino\"\n",
    "\n",
    "git --config --global user-email kaitukino@mera.whenua\n",
    "\n",
    "Select one or more options from the list\n",
    "\n",
    "\n",
    "\n",
    "--global instead of global in both lines\n",
    "\n",
    "user-name and user-email instead of user.name and user.email          T\n",
    "\n",
    "user-name and user-email instead of --user-name and --user-email\n",
    "\n",
    "--config instead of config in both lines                              T"
   ]
  },
  {
   "metadata": {},
   "cell_type": "code",
   "outputs": [],
   "execution_count": null,
   "source": [
    "\n",
    "\n",
    "\n",
    "\n",
    "\n",
    "\n",
    "\n",
    "\n",
    "\n"
   ]
  },
  {
   "metadata": {},
   "cell_type": "markdown",
   "source": [
    "**Setting up a new project with version control**\n",
    "\n",
    "You have the task to initialize a new project using version control. Your team uses Git for these purposes. However, you've gotten mixed up and the important commands are randomly ordered in your notes. Your task is to correctly order the commands for initializing a new Git repository, adding all files to the staging area, committing those changes with a message of 'Initial commit', and checking the status of your Git repository.\n",
    "\n",
    "# Initialize a new Git repository\n",
    "git init\n",
    "\n",
    "# Add all files to the staging area\n",
    "git add.\n",
    "\n",
    "\n",
    "# Commit the changes\n",
    "git commit -m \"Initial commit\"\n",
    "\n",
    "# Check status\n",
    "git status"
   ]
  },
  {
   "metadata": {},
   "cell_type": "code",
   "outputs": [],
   "execution_count": null,
   "source": [
    "\n",
    "\n",
    "\n",
    "\n",
    "\n",
    "\n",
    "\n",
    "\n",
    "\n"
   ]
  },
  {
   "metadata": {},
   "cell_type": "markdown",
   "source": [
    "Choose the right answer\n",
    "\n",
    "\n",
    "Git allows storing data\n",
    "\n",
    "Select one or more options from the list\n",
    "\n",
    "only on a single central server\n",
    "\n",
    "only on GitHub\n",
    "\n",
    "on your hard drive                     t\n",
    "\n",
    "on a special online service               t\n"
   ]
  },
  {
   "metadata": {},
   "cell_type": "code",
   "outputs": [],
   "execution_count": null,
   "source": [
    "\n",
    "\n",
    "\n",
    "\n",
    "\n",
    "\n",
    "\n",
    "\n",
    "\n",
    "\n"
   ]
  }
 ],
 "metadata": {
  "kernelspec": {
   "display_name": "Kotlin",
   "language": "kotlin",
   "name": "kotlin"
  },
  "language_info": {
   "name": "kotlin",
   "version": "1.9.23",
   "mimetype": "text/x-kotlin",
   "file_extension": ".kt",
   "pygments_lexer": "kotlin",
   "codemirror_mode": "text/x-kotlin",
   "nbconvert_exporter": ""
  }
 },
 "nbformat": 4,
 "nbformat_minor": 0
}
