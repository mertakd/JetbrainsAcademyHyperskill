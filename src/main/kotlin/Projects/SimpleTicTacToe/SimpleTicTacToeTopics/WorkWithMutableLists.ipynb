{
 "cells": [
  {
   "cell_type": "code",
   "execution_count": null,
   "metadata": {
    "collapsed": true
   },
   "outputs": [],
   "source": [
    ""
   ]
  },
  {
   "metadata": {},
   "cell_type": "markdown",
   "source": [
    "## Kotlin’de Listelerle Çalışma: Faydalı Fonksiyonlar ve Kullanım Örnekleri\n",
    "\n",
    "Kotlin, listelerle çalışırken ve içeriklerini değiştirmek istediğinizde işinize yarayacak birçok kullanışlı fonksiyon sunar. Bu yazıda, sık kullanılan liste fonksiyonlarını örneklerle birlikte inceleyeceğiz.\n",
    "\n",
    "---\n",
    "\n",
    "### **1. Listeyi Ekrana Yazdırma – `joinToString()`**\n",
    "\n",
    "`joinToString()` fonksiyonu, listenin elemanlarını belirlediğiniz bir ayraç (separator) ile birleştirerek **String** olarak döndürür.\n",
    "\n",
    "```kotlin\n",
    "val southernCross = mutableListOf(\"Acrux\", \"Gacrux\", \"Imai\", \"Mimosa\")\n",
    "println(southernCross.joinToString())         // Acrux, Gacrux, Imai, Mimosa\n",
    "println(southernCross.joinToString(\" -> \"))   // Acrux -> Gacrux -> Imai -> Mimosa\n",
    "```\n",
    "\n",
    "Varsayılan ayraç **virgül** olsa da istediğiniz sembolü kullanabilirsiniz.\n",
    "\n",
    "---\n",
    "\n",
    "### **2. Birden Fazla Liste ile Çalışmak**\n",
    "\n",
    "#### **Listeleri Birleştirme**\n",
    "\n",
    "`+` operatörü ile iki listeyi birleştirebilirsiniz.\n",
    "\n",
    "```kotlin\n",
    "val southernCross = mutableListOf(\"Acrux\", \"Gacrux\", \"Imai\", \"Mimosa\")\n",
    "val stars = mutableListOf(\"Ginan\", \"Mu Crucis\")\n",
    "\n",
    "val newList = southernCross + stars\n",
    "println(newList.joinToString()) // Acrux, Gacrux, Imai, Mimosa, Ginan, Mu Crucis\n",
    "```\n",
    "\n",
    "#### **Listeleri Karşılaştırma**\n",
    "\n",
    "`==` ve `!=` operatörleri, listelerin **içeriğini ve sırasını** karşılaştırır.\n",
    "\n",
    "```kotlin\n",
    "val firstList = mutableListOf(\"result\", \"is\", \"true\")\n",
    "val secondList = mutableListOf(\"result\", \"is\", \"true\")\n",
    "val thirdList = mutableListOf(\"result\")\n",
    "\n",
    "println(firstList == secondList)  // true\n",
    "println(firstList == thirdList)   // false\n",
    "println(secondList != thirdList)  // true\n",
    "```\n",
    "\n",
    "---\n",
    "\n",
    "### **3. Liste İçeriğini Değiştirme**\n",
    "\n",
    "`val` veya `var` kullanımı, **referansın değişip değişmeyeceğini** belirler.\n",
    "\n",
    "* `var`: Referansı istediğiniz zaman değiştirebilirsiniz.\n",
    "* `val`: Referansı değiştiremezsiniz, ancak listenin içeriğini düzenleyebilirsiniz.\n",
    "\n",
    "```kotlin\n",
    "val southernCross = mutableListOf(\"Acrux\", \"Gacrux\", \"Imai\", \"Mimosa\")\n",
    "var stars = mutableListOf(\"Ginan\", \"Mu Crucis\")\n",
    "\n",
    "southernCross[1] = \"star\"\n",
    "stars[1] = \"star\"\n",
    "\n",
    "println(southernCross[1]) // star\n",
    "println(stars[1])         // star\n",
    "```\n",
    "\n",
    "---\n",
    "\n",
    "### **4. Eleman Ekleme, Silme ve Temizleme**\n",
    "\n",
    "* `add(element)` → sona ekler.\n",
    "* `add(index, element)` → belirtilen konuma ekler.\n",
    "* `addAll(list)` → başka bir listenin tüm elemanlarını ekler.\n",
    "* `remove(element)` → belirli bir elemanı siler.\n",
    "* `removeAt(index)` → belirli konumdaki elemanı siler.\n",
    "* `clear()` → tüm listeyi temizler.\n",
    "\n",
    "```kotlin\n",
    "val southernCross = mutableListOf(\"Acrux\", \"Gacrux\", \"Imai\", \"Mimosa\")\n",
    "val stars = mutableListOf(\"Ginan\", \"Mu Crucis\")\n",
    "val names = mutableListOf(\"Jack\", \"John\", \"Katie\")\n",
    "val food = mutableListOf(\"Bread\", \"Cheese\", \"Meat\")\n",
    "val fruits = mutableListOf(\"Apple\", \"Banana\", \"Grape\", \"Mango\")\n",
    "\n",
    "southernCross.removeAt(0)\n",
    "southernCross.remove(\"Mimosa\")\n",
    "\n",
    "stars.add(\"New star\")\n",
    "stars.add(0, \"First star\")\n",
    "\n",
    "names.clear()\n",
    "\n",
    "food.addAll(fruits)\n",
    "\n",
    "println(names)                // []\n",
    "println(southernCross)        // [Gacrux, Imai]\n",
    "println(stars)                // [First star, Ginan, Mu Crucis, New star]\n",
    "println(food)                 // [Bread, Cheese, Meat, Apple, Banana, Grape, Mango]\n",
    "```\n",
    "\n",
    "Ayrıca `+=` operatörünü kullanarak da eleman ekleyebilirsiniz:\n",
    "\n",
    "```kotlin\n",
    "val vowels = mutableListOf('a', 'o', 'i', 'e', 'u')\n",
    "val intList1 = mutableListOf(1, 2, 3, 4, 5)\n",
    "val intList2 = mutableListOf(5, 4, 3, 2, 1)\n",
    "\n",
    "vowels += 'y'\n",
    "intList1 += intList2\n",
    "\n",
    "println(vowels)   // [a, o, i, e, u, y]\n",
    "println(intList1) // [1, 2, 3, 4, 5, 5, 4, 3, 2, 1]\n",
    "```\n",
    "\n",
    "---\n",
    "\n",
    "### **5. Listeyi Kopyalama**\n",
    "\n",
    "Kotlin’de doğrudan kopyalama fonksiyonu yoktur, fakat `toMutableList()` ile yapılabilir.\n",
    "\n",
    "```kotlin\n",
    "val list = mutableListOf(1, 2, 3, 4, 5)\n",
    "val copyList = list.toMutableList()\n",
    "\n",
    "println(copyList) // [1, 2, 3, 4, 5]\n",
    "```\n",
    "\n",
    "---\n",
    "\n",
    "### **6. Diğer Faydalı Fonksiyonlar**\n",
    "\n",
    "* **`isEmpty()` / `isNotEmpty()`** → listenin boş olup olmadığını kontrol eder.\n",
    "* **`subList(from, to)`** → belirtilen aralıktaki elemanlarla alt liste oluşturur.\n",
    "* **`indexOf(element)`** → elemanın indeksini döndürür, yoksa `-1`.\n",
    "* **`minOrNull()` / `maxOrNull()`** → en küçük / en büyük elemanı bulur.\n",
    "* **`sum()`** → sayıların toplamını döndürür.\n",
    "* **`sorted()` / `sortedDescending()`** → listeyi sıralar.\n",
    "\n",
    "```kotlin\n",
    "val numbers = mutableListOf(1, 2, 3, 4, 5)\n",
    "val vowels = mutableListOf('e', 'a', 'y', 'i', 'u', 'o')\n",
    "\n",
    "println(numbers.minOrNull())         // 1\n",
    "println(numbers.maxOrNull())         // 5\n",
    "println(numbers.sum())               // 15\n",
    "println(vowels.sorted())             // [a, e, i, o, u, y]\n",
    "println(vowels.sortedDescending())   // [y, u, o, i, e, a]\n",
    "```\n",
    "\n",
    "---\n",
    "\n",
    "## **Sonuç**\n",
    "\n",
    "Artık Kotlin’de listeler ile:\n",
    "\n",
    "* **`joinToString()`** ile listeyi tek satır string olarak yazdırabilir,\n",
    "* **`==` ve `!=`** ile listeleri karşılaştırabilir,\n",
    "* Eleman ekleyip çıkarabilir,\n",
    "* Alt liste oluşturabilir,\n",
    "* Sıralama ve toplama gibi işlemleri yapabilirsiniz.\n",
    "\n",
    "\n"
   ]
  },
  {
   "metadata": {},
   "cell_type": "code",
   "outputs": [],
   "execution_count": null,
   "source": [
    "\n",
    "\n",
    "\n",
    "\n",
    "\n",
    "\n",
    "\n",
    "\n",
    "\n",
    "\n",
    "\n",
    "\n",
    "\n",
    "\n"
   ]
  },
  {
   "metadata": {},
   "cell_type": "markdown",
   "source": [
    "**A shopper's quest for the perfect list**\n",
    "\n",
    "You want to create a shopping list using a MutableList in Kotlin. What's the correct order of steps to add items, remove duplicates, and sort the list alphabetically?\n",
    "\n",
    "Put the items in the correct order\n",
    "\n",
    "\n",
    "Create an empty MutableList<String> to store shopping items\n",
    "Use the add() function to insert new items into the list\n",
    "Convert the MutableList to a Set to remove duplicates\n",
    "Convert the Set back to a MutableList\n",
    "Use the sort() function to arrange items alphabetically"
   ]
  },
  {
   "metadata": {},
   "cell_type": "code",
   "outputs": [],
   "execution_count": null,
   "source": [
    "\n",
    "\n",
    "\n",
    "\n",
    "\n",
    "\n",
    "\n",
    "\n",
    "\n"
   ]
  },
  {
   "metadata": {},
   "cell_type": "markdown",
   "source": [
    "**Changing the existing values**\n",
    "\n",
    "Is it possible to edit an existing mutable list by changing the values of the existing elements?\n",
    "\n",
    "Select one option from the list\n",
    "\n",
    "Yes  T\n",
    "\n",
    "Only with var\n",
    "\n",
    "No\n",
    "\n",
    "Yes, but it won’t be editing, it will rather be re-creating a list"
   ]
  },
  {
   "metadata": {},
   "cell_type": "code",
   "outputs": [],
   "execution_count": null,
   "source": [
    "\n",
    "\n",
    "\n",
    "\n",
    "\n",
    "\n",
    "\n",
    "\n",
    "\n"
   ]
  },
  {
   "metadata": {},
   "cell_type": "markdown",
   "source": [
    "**Editing and recreating**\n",
    "\n",
    "Will adding new elements to a mutable list be editing or re-creating the list?\n",
    "\n",
    "Select one option from the list\n",
    "\n",
    "\n",
    "Re-creating\n",
    "\n",
    "Editing T"
   ]
  },
  {
   "metadata": {},
   "cell_type": "code",
   "outputs": [],
   "execution_count": null,
   "source": [
    "\n",
    "\n",
    "\n",
    "\n",
    "\n",
    "\n",
    "\n",
    "\n",
    "\n"
   ]
  },
  {
   "metadata": {},
   "cell_type": "markdown",
   "source": [
    "**Adding values**\n",
    "\n",
    "Which keyword may be used when initializing a mutable list to make it possible to add new elements?\n",
    "\n",
    "Select one or more options from the list\n",
    "\n",
    "var T\n",
    "\n",
    "val  T"
   ]
  },
  {
   "metadata": {},
   "cell_type": "code",
   "outputs": [],
   "execution_count": null,
   "source": [
    "\n",
    "\n",
    "\n",
    "\n",
    "\n",
    "\n",
    "\n",
    "\n",
    "\n"
   ]
  },
  {
   "metadata": {},
   "cell_type": "markdown",
   "source": [
    "**Printing a list**\n",
    "\n",
    "Select all the correct ways to display a string list, that is, to print all the elements:\n",
    "\n",
    "a)\n",
    "\n",
    "println(stringList)\n",
    "\n",
    "b)\n",
    "\n",
    "println(stringList.contentEquals())\n",
    "\n",
    "c)\n",
    "\n",
    "println(stringList.joinToString())\n",
    "\n",
    "d)\n",
    "\n",
    "println(stringList.printAllElements())\n",
    "\n",
    "Select one or more options from the list\n",
    "\n",
    "a  T\n",
    "\n",
    "b\n",
    "\n",
    "c  T\n",
    "\n",
    "d"
   ]
  },
  {
   "metadata": {},
   "cell_type": "code",
   "outputs": [],
   "execution_count": null,
   "source": [
    "\n",
    "\n",
    "\n",
    "\n",
    "\n",
    "\n",
    "\n",
    "\n",
    "\n",
    "\n"
   ]
  },
  {
   "metadata": {},
   "cell_type": "markdown",
   "source": [
    "**Initialization**\n",
    "\n",
    "Select all the correct ways to initialize a string mutable list:\n",
    "\n",
    "a)\n",
    "\n",
    "val stringList = mutableListOf(\"a\", \"b\", \"c\")\n",
    "\n",
    "b)\n",
    "\n",
    "val stringList = stringMutableListOf(\"a\", \"b\", \"c\")\n",
    "\n",
    "c)\n",
    "\n",
    "val stringList = mutableListOf<String>()\n",
    "\n",
    "d)\n",
    "\n",
    "val stringList = StringMutableList()\n",
    "\n",
    "e)\n",
    "\n",
    "val stringList = mutableListOf<String>(\"aa\", \"bbb\", \"cccc\")\n",
    "\n",
    "Select one or more options from the list\n",
    "\n",
    "a T\n",
    "\n",
    "b\n",
    "\n",
    "c T\n",
    "\n",
    "d\n",
    "\n",
    "e T"
   ]
  },
  {
   "metadata": {},
   "cell_type": "code",
   "outputs": [],
   "execution_count": null,
   "source": [
    "\n",
    "\n",
    "\n",
    "\n",
    "\n",
    "\n",
    "\n",
    "\n",
    "\n"
   ]
  },
  {
   "metadata": {},
   "cell_type": "markdown",
   "source": [
    "**Yet another list**\n",
    "\n",
    "Create a string mutable list capitals with five elements: \"Tokyo\", \"Moscow\", \"Paris\", \"Washington\", \"Beijing\"."
   ]
  },
  {
   "metadata": {},
   "cell_type": "code",
   "outputs": [],
   "execution_count": null,
   "source": [
    "fun createMutableList(): MutableList<String>{\n",
    "    val capitals = mutableListOf(\"Tokyo\", \"Moscow\", \"Paris\", \"Washington\", \"Beijing\")\n",
    "    return capitals\n",
    "}"
   ]
  },
  {
   "metadata": {},
   "cell_type": "code",
   "outputs": [],
   "execution_count": null,
   "source": [
    "\n",
    "\n",
    "\n",
    "\n",
    "\n",
    "\n",
    "\n",
    "\n",
    "\n"
   ]
  },
  {
   "metadata": {},
   "cell_type": "markdown",
   "source": [
    "**Empty**\n",
    "\n",
    "Create an empty mutable list of strings myEmptyList.\n",
    "\n",
    "You should only create a mutable list, don't print it.\n",
    "\n",
    "Write a program in Kotlin"
   ]
  },
  {
   "metadata": {},
   "cell_type": "code",
   "outputs": [],
   "execution_count": null,
   "source": "val myEmptyList = mutableListOf<String>()"
  },
  {
   "metadata": {},
   "cell_type": "code",
   "outputs": [],
   "execution_count": null,
   "source": [
    "\n",
    "\n",
    "\n",
    "\n",
    "\n",
    "\n",
    "\n",
    "\n",
    "\n"
   ]
  },
  {
   "metadata": {},
   "cell_type": "markdown",
   "source": [
    "**Playing with numbers**\n",
    "\n",
    "You have a mutable list of integers numbers. Add the sum of all list elements to the beginning of the list. Then delete the penultimate item in the list. It is guaranteed that the length of the array is greater than 2.\n",
    "\n",
    "Sample Input 1:\n",
    "\n",
    "8 11 1 2 3\n",
    "\n",
    "Sample Output 1:\n",
    "\n",
    "25 8 11 1 3\n",
    "\n",
    "Write a program in Kotlin"
   ]
  },
  {
   "metadata": {
    "ExecuteTime": {
     "end_time": "2025-08-15T13:46:49.744160Z",
     "start_time": "2025-08-15T13:46:47.095716800Z"
    }
   },
   "cell_type": "code",
   "source": [
    "val numbers = readln().split(' ').map { it.toInt() }.toMutableList()\n",
    "\n",
    "val sum = numbers.sum()\n",
    "numbers.add(0, sum)\n",
    "\n",
    "\n",
    "numbers.removeAt(numbers.size - 2)\n",
    "\n",
    "println(numbers.joinToString(\" \"))"
   ],
   "outputs": [
    {
     "name": "stdout",
     "output_type": "stream",
     "text": [
      "25 8 11 1 2 3\r\n"
     ]
    }
   ],
   "execution_count": 1
  },
  {
   "metadata": {},
   "cell_type": "code",
   "outputs": [],
   "execution_count": null,
   "source": [
    "\n",
    "\n",
    "\n",
    "\n",
    "\n",
    "\n",
    "\n",
    "\n",
    "\n"
   ]
  },
  {
   "metadata": {},
   "cell_type": "markdown",
   "source": [
    "**Adding lists**\n",
    "\n",
    "Concatenate two mutable lists firstList and secondList and print the result.\n",
    "\n",
    "In the example below, each line corresponds to a separate list. Elements are separated by spaces.\n",
    "\n",
    "Tip: Use the function joinToString().\n",
    "\n",
    "Sample Input 1:\n",
    "\n",
    "valar morghulis\n",
    "valar dohaeris\n",
    "\n",
    "Sample Output 1:\n",
    "\n",
    "valar, morghulis, valar, dohaeris\n",
    "\n",
    "Write a program in Kotlin"
   ]
  },
  {
   "metadata": {},
   "cell_type": "code",
   "outputs": [],
   "execution_count": null,
   "source": [
    "val firstList = readln().split(' ').map { it }.toMutableList()\n",
    "val secondList = readln().split(' ').map { it }.toMutableList()\n",
    "\n",
    "val result = firstList + secondList\n",
    "println(result.joinToString(\", \"))"
   ]
  },
  {
   "metadata": {},
   "cell_type": "code",
   "outputs": [],
   "execution_count": null,
   "source": [
    "\n",
    "\n",
    "\n",
    "\n",
    "\n",
    "\n",
    "\n",
    "\n",
    "\n"
   ]
  },
  {
   "metadata": {},
   "cell_type": "markdown",
   "source": [
    "Help the Lord Commander\n",
    " Report a typo\n",
    "The Lord Commander of the Night’s Watch wants to know if anyone is patrolling beyond the Wall. He has two checklists from the guards: beyondTheWall lists all who went beyond the Wall, and backToTheWall contains the names of all those who returned. Both checklists are already initialized as lists.\n",
    "\n",
    "Help the Lord Commander to check whether anyone is currently on patrol. If there is no one beyond the Wall, the output should be true; otherwise, false.\n",
    "\n",
    "Tip: If a watchman is back, his name will be on both lists. That is, if all the scouts have returned, the lists must match.\n",
    "\n",
    "The order of lists doesn't matter.\n",
    "\n",
    "Sample Input 1:\n",
    "\n",
    "Benjen Stark, Alliser Thorne, Jeor Mormont\n",
    "Benjen Stark, Alliser Thorne, Jeor Mormont\n",
    "\n",
    "Sample Output 1:\n",
    "\n",
    "true\n",
    "\n",
    "Write a program in Kotlin"
   ]
  },
  {
   "metadata": {},
   "cell_type": "code",
   "outputs": [],
   "execution_count": null,
   "source": [
    "val beyondTheWall = readLine()!!.split(\", \").map { it }.toMutableList()\n",
    "val backToTheWall = readLine()!!.split(\", \").map { it }.toMutableList()\n",
    "\n",
    "val isOnPatrol = beyondTheWall.none{it !in backToTheWall}\n",
    "println(isOnPatrol)"
   ]
  },
  {
   "metadata": {},
   "cell_type": "code",
   "outputs": [],
   "execution_count": null,
   "source": [
    "val beyondTheWall = readLine()!!.split(\", \").map { it }.toMutableList()\n",
    "val backFromTheWall = readLine()!!.split(\", \").map { it }.toMutableList()\n",
    "// do not touch the lines above\n",
    "print((beyondTheWall - backFromTheWall).isEmpty())"
   ]
  },
  {
   "metadata": {},
   "cell_type": "code",
   "outputs": [],
   "execution_count": null,
   "source": [
    "val beyondTheWall = readLine()!!.split(\", \").map { it }.toMutableList()\n",
    "val backFromTheWall = readLine()!!.split(\", \").map { it }.toMutableList()\n",
    "// do not touch the lines above\n",
    "// write your code here\n",
    "println(beyondTheWall.sorted() == backFromTheWall.sorted())"
   ]
  },
  {
   "metadata": {},
   "cell_type": "code",
   "outputs": [],
   "execution_count": null,
   "source": [
    "val beyondTheWall = readLine()!!.split(\", \").map { it }.toMutableList()\n",
    "val backToTheWall = readLine()!!.split(\", \").map { it }.toMutableList()\n",
    "// do not touch the lines above\n",
    "// write your code here\n",
    "println(backToTheWall.containsAll(beyondTheWall))"
   ]
  },
  {
   "metadata": {},
   "cell_type": "code",
   "outputs": [],
   "execution_count": null,
   "source": [
    "\n",
    "\n",
    "\n",
    "\n",
    "\n",
    "\n",
    "\n",
    "\n",
    "\n",
    "\n"
   ]
  },
  {
   "metadata": {},
   "cell_type": "markdown",
   "source": [
    "**Guard On The Gate**\n",
    "\n",
    "You need to help the guard who is watching the main gate leading to the wilderness beyond the Wall. It is his responsibility to put everyone who gets through the gate on the checklist backToTheWall.\n",
    "\n",
    "Add the name of the watchman (stored in the returnedWatchman variable) to the list backToTheWall and print the result with joinToString().\n",
    "\n",
    "Sample Input 1:\n",
    "\n",
    "Benjen Stark, Samwell Tarly, Gared Tuttle\n",
    "Jon Snow\n",
    "\n",
    "Sample Output 1:\n",
    "\n",
    "Benjen Stark, Samwell Tarly, Gared Tuttle, Jon Snow\n",
    "\n",
    "Write a program in Kotlin\n"
   ]
  },
  {
   "metadata": {},
   "cell_type": "code",
   "outputs": [],
   "execution_count": null,
   "source": [
    "val backToTheWall = readLine()!!.split(\", \").map { it }.toMutableList()\n",
    "val returnedWatchman = readLine()!!\n",
    "\n",
    "// Add the name of the watchman to the list\n",
    "backToTheWall.add(returnedWatchman)\n",
    "\n",
    "// Print the updated list\n",
    "println(backToTheWall.joinToString(\", \"))"
   ]
  },
  {
   "metadata": {},
   "cell_type": "code",
   "outputs": [],
   "execution_count": null,
   "source": [
    "val backFromTheWall = readLine()!!.split(\", \").map { it }.toMutableList()\n",
    "val returnedWatchman = readLine()!!\n",
    "// do not touch the lines above\n",
    "// write your code here\n",
    "backFromTheWall.add(returnedWatchman)\n",
    "backFromTheWall.joinToString().let(::println)"
   ]
  },
  {
   "metadata": {},
   "cell_type": "code",
   "outputs": [],
   "execution_count": null,
   "source": [
    "val backToTheWall = readLine()!!.split(\", \").map { it }.toMutableList()\n",
    "val returnedWatchman = readLine()!!\n",
    "println((backToTheWall + returnedWatchman).joinToString(\", \"))"
   ]
  }
 ],
 "metadata": {
  "kernelspec": {
   "display_name": "Kotlin",
   "language": "kotlin",
   "name": "kotlin"
  },
  "language_info": {
   "name": "kotlin",
   "version": "2.2.20-dev-4982",
   "mimetype": "text/x-kotlin",
   "file_extension": ".kt",
   "pygments_lexer": "kotlin",
   "codemirror_mode": "text/x-kotlin",
   "nbconvert_exporter": ""
  }
 },
 "nbformat": 4,
 "nbformat_minor": 0
}
