{
 "cells": [
  {
   "cell_type": "code",
   "execution_count": null,
   "metadata": {
    "collapsed": true
   },
   "outputs": [],
   "source": [
    ""
   ]
  },
  {
   "metadata": {},
   "cell_type": "markdown",
   "source": [
    "# Kotlin’de Nesneler: Durum, Davranış, Referansla Kopyalama ve Değiştirilebilirlik\n",
    "\n",
    "Günlük hayatta arabaya binmek, TV izlemek, kitap okumak… hep “nesnelerle” etkileşiriz. Kotlin’de de değişkenlerle çalıştığında aslında **nesnelerle** çalışırsın. `5` (Int) ve `\"love\"` (String) bile birer **nesnedir**. Bu yazıda nesnelerin **iç yapısı**, **durumu (state)**, **davranışı (behavior)**, **referansla kopyalama** ve **değiştirilebilirlik (mutability)** kavramlarını adım adım anlatıyorum.\n",
    "\n",
    "---\n",
    "\n",
    "## 1) Nesne, özellik (property) ve davranış (method)\n",
    "\n",
    "**Nesne nedir?**\n",
    "Bellekte bir yeri kaplayan ve bilgi tutan varlıktır. Değişkenler ise **bu nesnelere işaret eden referanslardır**. Yani değişken, “nesnenin kendisi” değil, ona giden bir işarettir.\n",
    "\n",
    "**Durum (state) → property**\n",
    "Bir nesnenin tuttuğu verilere **özellik** deriz. Nokta (`.`) ile erişilir:\n",
    "\n",
    "```kotlin\n",
    "val msg = \"Hi\"\n",
    "println(msg.length) // 2\n",
    "```\n",
    "\n",
    "**Davranış (behavior) → method**\n",
    "Türe özgü fonksiyonlar **üye fonksiyon (method)** olarak gelir. Yine `.` ile çağırırız:\n",
    "\n",
    "```kotlin\n",
    "val msg = \"Hi\"\n",
    "println(msg.repeat(3)) // \"HiHiHi\" yazdırır\n",
    "```\n",
    "\n",
    "> Görüldüğü gibi `String` tipi bile pek çok property ve metoda sahip, yani “içi dolu” bir nesnedir.\n",
    "\n",
    "---\n",
    "\n",
    "## 2) Referansla kopyalama (assignment nesneyi değil, referansı kopyalar)\n",
    "\n",
    "Aşağıdaki atama, yeni bir `String` kopyası üretmez; **aynı nesneye iki farklı referans** oluşturur:\n",
    "\n",
    "```kotlin\n",
    "val msg1 = \"Hi\"\n",
    "val msg2 = msg1\n",
    "// msg1 ve msg2, bellekte aynı \"Hi\" nesnesini işaret eder\n",
    "```\n",
    "\n",
    "> Analoji: Aynı banka hesabına bağlı iki kart düşün. Para harcayınca “kart” değil, “hesap” etkilenir. Kotlin’de de `=` operatörü **nesneyi değil, referansı** kopyalar.\n",
    "\n",
    "---\n",
    "\n",
    "## 3) `==` ve `===` farkı (çok önemli!)\n",
    "\n",
    "* `==` → **Yapısal eşitlik** (içerik eşit mi?). Kotlin’de `a == b` → `a?.equals(b)` çağrısıdır.\n",
    "* `===` → **Referans eşitliği** (aynı nesne mi?).\n",
    "\n",
    "Örneklerle görelim:\n",
    "\n",
    "```kotlin\n",
    "var a: Int = 100\n",
    "val anotherA: Int = a\n",
    "println(a == anotherA)  // true  -> içerik eşit\n",
    "println(a === anotherA) // true  -> çoğu JVM optimizasyonunda aynı referans olabilir\n",
    "\n",
    "a = 200\n",
    "println(a == anotherA)  // false -> içerik değişti\n",
    "println(a === anotherA) // false -> artık farklı nesneleri işaret ediyorlar\n",
    "```\n",
    "\n",
    "Ve `Double` örneği:\n",
    "\n",
    "```kotlin\n",
    "var d1: Double = 1.5\n",
    "val d2 = d1\n",
    "println(d1 === d2) // true  -> başlangıçta aynı referans\n",
    "d1 += 1            // d1 şimdi 2.5 (yeni nesne)\n",
    "println(d1 === d2) // false -> d1 başka nesneyi işaret ediyor\n",
    "```\n",
    "\n",
    "> Neden böyle? Çünkü **sayısal tipler ve String** Kotlin’de **immutable** (değiştirilemez). “Değer değiştirince” aslında **yeni bir nesne** oluşturuluyor ve değişken yeni nesneye bağlanıyor.\n",
    "\n",
    "---\n",
    "\n",
    "## 4) Değiştirilebilirlik (Mutability): Immutable vs Mutable\n",
    "\n",
    "* **Immutable nesneler**: İçerikleri değiştirilemez. `Int`, `Double`, `String` gibi temel türler böyledir. Değer “değiştiğinde” aslında **yeni nesne** oluşturulup referans **yeniden atanır**.\n",
    "* **Mutable nesneler**: İçleri değişebilir (ör. `MutableList`, `StringBuilder`, kendi veri sınıfların vs.).\n",
    "\n",
    "**Sonuç:** Immutable türleri **referansla kopyalamak güvenlidir**; bir yerde “değiştirince” diğer referans etkilenmez çünkü gerçekte yeni nesne yaratılır.\n",
    "\n",
    "---\n",
    "\n",
    "## 5) Pratik İpuçları\n",
    "\n",
    "* **Çok string birleştiriyorsan** `StringBuilder` kullan (performans için):\n",
    "\n",
    "  ```kotlin\n",
    "  val sb = StringBuilder()\n",
    "  repeat(3) { sb.append(\"Hi\") }\n",
    "  println(sb.toString()) // \"HiHiHi\"\n",
    "  ```\n",
    "* **List ihtiyacın varsa**:\n",
    "\n",
    "  * Değişmeyecekse `List<T>`\n",
    "  * Eleman ekleyip sileceksen `MutableList<T>`\n",
    "    Dönüşümler:\n",
    "\n",
    "  ```kotlin\n",
    "  val readOnly: List<Int> = listOf(1,2,3)\n",
    "  val editable: MutableList<Int> = readOnly.toMutableList()\n",
    "  editable.add(4)\n",
    "  ```\n",
    "* **Eşitlik kontrolü** yaparken ne istediğini bil:\n",
    "\n",
    "  * “İçerik aynı mı?” → `==`\n",
    "  * “Aynı nesne mi?” → `===`\n",
    "\n",
    "---\n",
    "\n",
    "## Özet\n",
    "\n",
    "* **Nesneler**: durum (property) + davranış (method) içerir.\n",
    "* **Değişkenler nesneleri değil, referanslarını tutar.**\n",
    "* `=` **nesneyi kopyalamaz**, **referansı** kopyalar.\n",
    "* **Immutable** türlerde (String, sayılar) değer değişimi **yeni nesne** demektir.\n",
    "* **`==` içerik**, **`===` referans** eşitliğini kontrol eder.\n",
    "* Immutable türleri referansla kopyalamak güvenlidir; paylaşılan “nesne” değişmez.\n",
    "\n",
    "Bu temeller, Kotlin’de hem performans hem de doğru davranış beklentisi açısından güçlü bir zemin sağlar. İstersen bu konuyu **koleksiyonlarda (List/MutableList/Set/Map)** immutability ve kopyalama stratejileriyle derinleştirelim.\n"
   ]
  },
  {
   "metadata": {},
   "cell_type": "code",
   "outputs": [],
   "execution_count": null,
   "source": [
    "\n",
    "\n",
    "\n",
    "\n",
    "\n",
    "\n",
    "\n",
    "\n",
    "\n",
    "\n"
   ]
  },
  {
   "metadata": {},
   "cell_type": "markdown",
   "source": [
    "**An object or not?**\n",
    "\n",
    "Choose all the concepts that can be represented as objects.\n",
    "\n",
    "Select one or more options from the list\n",
    "\n",
    "A chair T\n",
    "\n",
    "Water T\n",
    "\n",
    "A bottle of water T\n",
    "\n",
    "The Sun T\n",
    "\n",
    "A person T"
   ]
  },
  {
   "metadata": {},
   "cell_type": "code",
   "outputs": [],
   "execution_count": null,
   "source": [
    "\n",
    "\n",
    "\n",
    "\n",
    "\n",
    "\n",
    "\n",
    "\n",
    "\n"
   ]
  },
  {
   "metadata": {},
   "cell_type": "markdown",
   "source": [
    "**Object count**\n",
    "\n",
    "How many objects are created here?\n",
    "\n",
    "val lineOne = \"Happy New Year,\"\n",
    "val lineTwo = lineOne\n",
    "val lineThree = lineOne\n",
    "\n",
    "Enter a number\n",
    "1"
   ]
  },
  {
   "metadata": {},
   "cell_type": "code",
   "outputs": [],
   "execution_count": null,
   "source": [
    "\n",
    "\n",
    "\n",
    "\n",
    "\n",
    "\n",
    "\n",
    "\n",
    "\n"
   ]
  },
  {
   "metadata": {},
   "cell_type": "markdown",
   "source": [
    "**What's going on?**\n",
    "\n",
    "This code prints the same object two times in a row:\n",
    "\n",
    "println(obj)\n",
    "println(obj)\n",
    "\n",
    "To your surprise, the two lines in the console are different. Why?\n",
    "\n",
    "Select one option from the list\n",
    "\n",
    "The print function sometimes changes an object\n",
    "\n",
    "The computer is broken, so it doesn't run the code properly\n",
    "\n",
    "The object is modified elsewhere because there is another reference to it  T\n",
    "\n",
    "There are secrets in the Kotlin language that nobody can explain, and this is just one of them\n"
   ]
  },
  {
   "metadata": {},
   "cell_type": "code",
   "outputs": [],
   "execution_count": null,
   "source": [
    "\n",
    "\n",
    "\n",
    "\n",
    "\n",
    "\n",
    "\n",
    "\n",
    "\n"
   ]
  },
  {
   "metadata": {},
   "cell_type": "markdown",
   "source": [
    "**Function type**\n",
    "\n",
    "A drum can make noise. How can you write code that makes a drum make some noise?\n",
    "\n",
    "Select one option from the list\n",
    "\n",
    "makeNoize.drum\n",
    "\n",
    "makeNoize drum\n",
    "\n",
    "drum.makeNoize() T\n",
    "\n",
    "drum makeNoize\n",
    "\n",
    "makeNoize(drum)\n",
    "\n",
    "drum.makeNoize"
   ]
  },
  {
   "metadata": {},
   "cell_type": "code",
   "outputs": [],
   "execution_count": null,
   "source": [
    "\n",
    "\n",
    "\n",
    "\n",
    "\n",
    "\n",
    "\n",
    "\n",
    "\n"
   ]
  },
  {
   "metadata": {},
   "cell_type": "markdown",
   "source": [
    "**Accessing properties**\n",
    "\n",
    "There is a variable spaceship that references an object with a color property. How can you use this variable to get the value of this property?\n",
    "\n",
    "Enter a short text\n",
    "\n",
    "spaceship.color"
   ]
  },
  {
   "metadata": {},
   "cell_type": "code",
   "outputs": [],
   "execution_count": null,
   "source": [
    "\n",
    "\n",
    "\n",
    "\n",
    "\n",
    "\n",
    "\n",
    "\n",
    "\n"
   ]
  },
  {
   "metadata": {},
   "cell_type": "markdown",
   "source": [
    "**Accessing properties of properties**\n",
    "\n",
    "Now, we add an engine property to our spaceship object. Also, the engine has a color property. How can we get the color of the spaceship engine?\n",
    "\n",
    "Enter a short text\n",
    "spaceship.engine.color\n",
    "\n"
   ]
  },
  {
   "metadata": {},
   "cell_type": "code",
   "outputs": [],
   "execution_count": null,
   "source": [
    "\n",
    "\n",
    "\n",
    "\n",
    "\n",
    "\n",
    "\n",
    "\n",
    "\n"
   ]
  },
  {
   "metadata": {},
   "cell_type": "markdown",
   "source": [
    "**Using properties and functions in classes**\n",
    "\n",
    "In a Kotlin application, you have a class named 'BasicObject' with a property 'name' and a function to display the properties of the object. The application's main function creates an instance of 'BasicObject', assigns a value to its 'name' property, and needs to call the object's display function to print its properties. Can you fill the blanks in the given code to correctly create the object, set its properties, and call its function?"
   ]
  },
  {
   "metadata": {},
   "cell_type": "code",
   "outputs": [],
   "execution_count": null,
   "source": [
    "val firstObject = BasicObject()\n",
    "firstObject.name = \"Object MockName\"\n",
    "firstObject.displayObjectProperties()\n",
    "\n",
    "\n",
    "\n",
    "\n",
    "class BasicObject {\n",
    "    var name: String = \"...\"\n",
    "\n",
    "    fun displayObjectProperties() {\n",
    "        println(\"Object Name: $name\")\n",
    "    }\n",
    "}"
   ]
  },
  {
   "metadata": {},
   "cell_type": "code",
   "outputs": [],
   "execution_count": null,
   "source": [
    "\n",
    "\n",
    "\n",
    "\n",
    "\n",
    "\n",
    "\n",
    "\n",
    "\n"
   ]
  },
  {
   "metadata": {},
   "cell_type": "markdown",
   "source": [
    "**Wise choice**\n",
    "\n",
    "Choose all the variants that can be considered objects:\n",
    "\n",
    "Select one or more options from the list\n",
    "\n",
    "\n",
    "val b: Int = 0 t\n",
    "\n",
    "val dollar = '$' t\n",
    "\n",
    "var a: String = \"a\" t"
   ]
  },
  {
   "metadata": {},
   "cell_type": "code",
   "outputs": [],
   "execution_count": null,
   "source": [
    "\n",
    "\n",
    "\n",
    "\n",
    "\n",
    "\n",
    "\n",
    "\n",
    "\n"
   ]
  },
  {
   "metadata": {},
   "cell_type": "markdown",
   "source": [
    "**Completing a simple Hello World program**\n",
    "\n",
    "Your current task is to work on a simple Hello World program in Kotlin. The major part of the code is already written, however, there are a few gaps that you need to fill. The first gap is to define an object. Secondly, within the scope of this object, you need to declare a string variable. Lastly, fill the gap for outputting the variable in a line to the console. Can you complete the program and make it print 'Hello, Kotlin!'?\n",
    "\n",
    "Fill in the gaps with the relevant elements\n"
   ]
  },
  {
   "metadata": {},
   "cell_type": "code",
   "outputs": [],
   "execution_count": null,
   "source": [
    "fun main() {\n",
    "\n",
    "    val myObject = object {\n",
    "        var myVariable: String = \"Hello, Kotlin!\"\n",
    "\n",
    "        fun printVariable(){\n",
    "            println(myVariable)\n",
    "        }\n",
    "\n",
    "\n",
    "    }\n",
    "\n",
    "    myObject.printVariable()\n",
    "}\n"
   ]
  },
  {
   "metadata": {},
   "cell_type": "code",
   "outputs": [],
   "execution_count": null,
   "source": [
    "\n",
    "\n",
    "\n",
    "\n",
    "\n",
    "\n",
    "\n",
    "\n",
    "\n"
   ]
  },
  {
   "metadata": {},
   "cell_type": "markdown",
   "source": [
    "**Creating an anonymous object with properties in Kotlin**\n",
    "\n",
    "In Kotlin, you want to create an instance of an anonymous object and assign it to a 'person' variable. This object should have two properties - a read-only ('val') property 'name' with the value 'John', and a mutable ('var') property 'age' with the value 30. You also need to print a message displaying these properties in a specific manner. Fill the blanks in the code to complete this task.\n",
    "\n",
    "Fill in the gaps with the relevant elements\n"
   ]
  },
  {
   "metadata": {},
   "cell_type": "code",
   "outputs": [],
   "execution_count": null,
   "source": [
    "fun main(){\n",
    "\n",
    "    val person = object {\n",
    "        val name = \"John\"\n",
    "        var age = 30\n",
    "    }\n",
    "\n",
    "    println((\"Name: ${person.name}, Age: ${person.age}\"))\n",
    "\n",
    "}\n"
   ]
  },
  {
   "metadata": {},
   "cell_type": "code",
   "outputs": [],
   "execution_count": null,
   "source": [
    "\n",
    "\n",
    "\n",
    "\n",
    "\n",
    "\n",
    "\n",
    "\n",
    "\n"
   ]
  },
  {
   "metadata": {},
   "cell_type": "markdown",
   "source": [
    "Take a look at the following snippet of code:\n",
    "\n",
    "fun main() {\n",
    "    val a = \"test\"\n",
    "    var b = a\n",
    "    b = \"a\"\n",
    "    val a = \"a\"\n",
    "    print(a)\n",
    "    print(\", \")\n",
    "    print(b)\n",
    "}\n",
    "\n",
    "What will be the output?\n",
    "\n",
    "Select one option from the list\n",
    "\n",
    "test, test\n",
    "\n",
    "Compile error t\n",
    "\n",
    "a, a\n",
    "\n",
    "test, a"
   ]
  },
  {
   "metadata": {},
   "cell_type": "code",
   "outputs": [],
   "execution_count": null,
   "source": [
    "\n",
    "\n",
    "\n",
    "\n",
    "\n",
    "\n",
    "\n",
    "\n",
    "\n"
   ]
  },
  {
   "metadata": {},
   "cell_type": "markdown",
   "source": [
    "**Mutability**\n",
    "\n",
    "Select all immutable types.\n",
    "\n",
    "Select one or more options from the list\n",
    "\n",
    "\n",
    "Int t\n",
    "\n",
    "Char t\n",
    "\n",
    "Boolean t\n",
    "\n",
    "String t"
   ]
  },
  {
   "metadata": {},
   "cell_type": "code",
   "outputs": [],
   "execution_count": null,
   "source": [
    "\n",
    "\n",
    "\n",
    "\n",
    "\n",
    "\n",
    "\n",
    "\n",
    "\n"
   ]
  },
  {
   "metadata": {},
   "cell_type": "markdown",
   "source": [
    "**Property**\n",
    "\n",
    "In Kotlin, something that allows you to access the state of an object is referred to as property.\n",
    "\n",
    "How can you access the property of a variable?\n",
    "\n",
    "Select one option from the list\n",
    "\n",
    "variable.getProperty(property)\n",
    "\n",
    "variable.property  T\n",
    "\n",
    "variable[property]\n",
    "\n",
    "variable.property()\n"
   ]
  }
 ],
 "metadata": {
  "kernelspec": {
   "display_name": "Kotlin",
   "language": "kotlin",
   "name": "kotlin"
  },
  "language_info": {
   "name": "kotlin",
   "version": "2.2.20-dev-4982",
   "mimetype": "text/x-kotlin",
   "file_extension": ".kt",
   "pygments_lexer": "kotlin",
   "codemirror_mode": "text/x-kotlin",
   "nbconvert_exporter": ""
  }
 },
 "nbformat": 4,
 "nbformat_minor": 0
}
