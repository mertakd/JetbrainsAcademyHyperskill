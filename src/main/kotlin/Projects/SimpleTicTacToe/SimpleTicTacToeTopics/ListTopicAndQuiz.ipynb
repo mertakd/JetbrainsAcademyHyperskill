{
 "cells": [
  {
   "cell_type": "code",
   "execution_count": null,
   "metadata": {
    "collapsed": true
   },
   "outputs": [],
   "source": [
    ""
   ]
  },
  {
   "metadata": {},
   "cell_type": "markdown",
   "source": [
    "## Kotlin’de List Yapısına Giriş – Immutable ve Mutable List Farkı\n",
    "\n",
    "Kotlin’de koleksiyon türleri (List, Set, Map) arasında en sık kullanılanlardan biri **List**’tir. Bu yazıda, List kavramını, immutable (değiştirilemez) ve mutable (değiştirilebilir) versiyonlarını, nasıl oluşturulduğunu ve yaygın metotlarını inceleyeceğiz.\n",
    "\n",
    "---\n",
    "\n",
    "### **1. List Nedir?**\n",
    "\n",
    "**List**, belirli bir sırada tutulan, aynı türden verilerden oluşan bir koleksiyondur.\n",
    "\n",
    "* **Immutable List**: İçeriği sonradan değiştirilemez.\n",
    "* **MutableList**: İçeriği değiştirilebilir.\n",
    "\n",
    "Immutable List, veri bütünlüğü gerektiren durumlarda tercih edilir çünkü herhangi bir eleman sonradan değiştirilemez.\n",
    "\n",
    "```kotlin\n",
    "val cars = listOf<String>(\"BMW\", \"Honda\", \"Mercedes\")\n",
    "println(cars) // [BMW, Honda, Mercedes]\n",
    "```\n",
    "\n",
    "MutableList ile de aynı veriyi saklayabilirsiniz ancak içeriği sonradan değişebilir:\n",
    "\n",
    "```kotlin\n",
    "val cars = mutableListOf<String>(\"BMW\", \"Honda\", \"Mercedes\")\n",
    "cars[0] = \"Renault\"\n",
    "println(cars) // [Renault, Honda, Mercedes]\n",
    "```\n",
    "\n",
    "Immutable List’te değişiklik yapmaya çalışırsanız derleme hatası alırsınız:\n",
    "\n",
    "```kotlin\n",
    "val cars = listOf<String>(\"BMW\", \"Honda\", \"Mercedes\")\n",
    "cars[0] = \"Renault\" // Error\n",
    "```\n",
    "\n",
    "---\n",
    "\n",
    "### **2. List Oluşturma Yöntemleri**\n",
    "\n",
    "* **`listOf<E>()`** → Tür belirtilerek veya bağlamdan türetilerek oluşturulabilir:\n",
    "\n",
    "```kotlin\n",
    "val textUsMethod = listOf<String>(\"SMS\", \"Email\")\n",
    "val textUsMethod2 = listOf(\"SMS\", \"Email\")\n",
    "```\n",
    "\n",
    "* **Boş Liste**:\n",
    "\n",
    "```kotlin\n",
    "val staff = emptyList<String>()\n",
    "println(staff) // []\n",
    "```\n",
    "\n",
    "* **`buildList` ile**:\n",
    "\n",
    "```kotlin\n",
    "val names = listOf<String>(\"Emma\", \"Kim\")\n",
    "val list = buildList {\n",
    "    add(\"Marta\")\n",
    "    addAll(names)\n",
    "    add(\"Kira\")\n",
    "}\n",
    "println(list) // [Marta, Emma, Kim, Kira]\n",
    "```\n",
    "\n",
    "---\n",
    "\n",
    "### **3. List’in Yaygın Özellik ve Metotları**\n",
    "\n",
    "* `size` → Eleman sayısı\n",
    "* `isEmpty()` → Liste boş mu?\n",
    "* `get(index)` veya `[index]` → Belirli index’teki eleman\n",
    "* `indexOf(element)` → Elemanın index’i (yoksa -1)\n",
    "* `contains(element)` → Eleman listede var mı?\n",
    "\n",
    "Örnek:\n",
    "\n",
    "```kotlin\n",
    "val partyList = listOf(\"Fred\", \"Emma\", \"Isabella\", \"James\", \"Olivia\")\n",
    "\n",
    "if (!partyList.isEmpty()) {\n",
    "    val size = partyList.size\n",
    "    val whoIsFirst = partyList[0]\n",
    "    println(\"The party will not be lonesome! We already got $size people. And $whoIsFirst was the first to arrive today!\")\n",
    "}\n",
    "```\n",
    "\n",
    "**`indexOf` ve `contains` Kullanımı**:\n",
    "\n",
    "```kotlin\n",
    "println(\"Emma came in ${partyList.indexOf(\"Emma\") + 1}\")\n",
    "// Emma came in 2\n",
    "\n",
    "println(\"Guys, is it true that Isabella came? It's ${partyList.contains(\"Isabella\")}\")\n",
    "// Guys, is it true that Isabella came? It's true\n",
    "```\n",
    "\n",
    "---\n",
    "\n",
    "### **4. List Üzerinde Döngü ile Gezmek**\n",
    "\n",
    "```kotlin\n",
    "val participants = listOf(\"Fred\", \"Emma\", \"Isabella\")\n",
    "\n",
    "for (participant in participants) {\n",
    "    println(\"Hello $participant!\")\n",
    "}\n",
    "```\n",
    "\n",
    "Çıktı:\n",
    "\n",
    "```\n",
    "Hello Fred!\n",
    "Hello Emma!\n",
    "Hello Isabella!\n",
    "```\n",
    "\n",
    "---\n",
    "\n",
    "### **5. Kotlin’de List İdiomu**\n",
    "\n",
    "Kotlin topluluğu, List oluştururken en kısa ve okunabilir yolu kullanmayı önerir:\n",
    "\n",
    "```kotlin\n",
    "val list = listOf(\"a\", \"b\", \"c\")\n",
    "```\n",
    "\n",
    "---\n",
    "\n",
    "## **Sonuç**\n",
    "\n",
    "* **List** → İçeriği değiştirilemez, veri bütünlüğü sağlar.\n",
    "* **MutableList** → İçeriği değiştirilebilir.\n",
    "* Bir List oluşturmayı, boş olup olmadığını kontrol etmeyi, eleman aramayı ve döngü ile işlem yapmayı öğrendiniz.\n",
    "\n",
    "Bu bilgiler, Kotlin’de List yapısını kullanmaya başlamak için yeterli bir temeldir.\n"
   ]
  },
  {
   "metadata": {},
   "cell_type": "code",
   "outputs": [],
   "execution_count": null,
   "source": [
    "\n",
    "\n",
    "\n",
    "\n",
    "\n",
    "\n",
    "\n",
    "\n",
    "\n",
    "\n",
    "\n",
    "\n",
    "\n",
    "\n"
   ]
  },
  {
   "metadata": {},
   "cell_type": "markdown",
   "source": [
    "**It's all about the List**\n",
    "\n",
    "\n",
    "Which of the following is relevant to the List?\n",
    "\n",
    "Select one or more options from the list\n",
    "\n",
    "\n",
    "It allows you to have duplicates T\n",
    "\n",
    "Its size can be changed\n",
    "\n",
    "It is an unordered sequence of elements\n",
    "\n",
    "All of the above does not apply to List"
   ]
  },
  {
   "metadata": {},
   "cell_type": "code",
   "outputs": [],
   "execution_count": null,
   "source": [
    "\n",
    "\n",
    "\n",
    "\n",
    "\n",
    "\n",
    "\n",
    "\n",
    "\n"
   ]
  },
  {
   "metadata": {},
   "cell_type": "markdown",
   "source": [
    "**List initializing**\n",
    "\n",
    "Which of the constructions below can you use to create a new List?\n",
    "\n",
    "Select one or more options from the list\n",
    "\n",
    "val list = emptyList()\n",
    "\n",
    "val list = listOf<String>(\"A\", \"B\", \"C\")  T\n",
    "\n",
    "val list = listOf(\"Day\", \"and\", \"night\")   T\n",
    "\n",
    "val list = List(1, 2, 3, 4, 5)"
   ]
  },
  {
   "metadata": {},
   "cell_type": "code",
   "outputs": [],
   "execution_count": null,
   "source": [
    "\n",
    "\n",
    "\n",
    "\n",
    "\n",
    "\n",
    "\n",
    "\n",
    "\n"
   ]
  },
  {
   "metadata": {},
   "cell_type": "markdown",
   "source": [
    "**My position**\n",
    "\n",
    "Which construction can you use to find out the position of an element in a List?\n",
    "\n",
    "Select one option from the list\n",
    "\n",
    "\n",
    "indexOf(element) T\n",
    "\n",
    "isHere(element)\n",
    "\n",
    "size\n",
    "\n",
    "contains(element)"
   ]
  },
  {
   "metadata": {},
   "cell_type": "code",
   "outputs": [],
   "execution_count": null,
   "source": [
    "\n",
    "\n",
    "\n",
    "\n",
    "\n",
    "\n",
    "\n",
    "\n",
    "\n"
   ]
  },
  {
   "metadata": {},
   "cell_type": "markdown",
   "source": [
    "**Are you there?**\n",
    "\n",
    "You've got a surprise for your friend Fred, but you can't show it to him until you've made sure that he's marked himself in the List.\n",
    "Which construction can you use to find out if Fred is in the List?\n",
    "\n",
    "Select one option from the list\n",
    "\n",
    "isEmpty()\n",
    "\n",
    "size\n",
    "\n",
    "get(index)\n",
    "\n",
    "contains(element)  T"
   ]
  },
  {
   "metadata": {},
   "cell_type": "code",
   "outputs": [],
   "execution_count": null,
   "source": [
    "\n",
    "\n",
    "\n",
    "\n",
    "\n",
    "\n",
    "\n",
    "\n",
    "\n"
   ]
  },
  {
   "metadata": {},
   "cell_type": "markdown",
   "source": [
    "**Concise**\n",
    "\n",
    "From the list below, select the correct short version of get(index) for getting an element by index.\n",
    "\n",
    "Select one option from the list\n",
    "\n",
    "[index]   T\n",
    "\n",
    "<index>\n",
    "\n",
    "g(index)\n",
    "\n",
    "{index}"
   ]
  },
  {
   "metadata": {},
   "cell_type": "code",
   "outputs": [],
   "execution_count": null,
   "source": [
    "\n",
    "\n",
    "\n",
    "\n",
    "\n",
    "\n",
    "\n",
    "\n",
    "\n"
   ]
  },
  {
   "metadata": {},
   "cell_type": "markdown",
   "source": [
    "**Even numbers**\n",
    "\n",
    "You are given a List of integers. Iterate through the given List and print in a single line the elements that are divisible by 2.\n",
    "\n",
    "Sample Input 1:\n",
    "\n",
    "8 11 13 2\n",
    "\n",
    "Sample Output 1:\n",
    "\n",
    "8 2\n",
    "\n",
    "Write a program in Kotlin"
   ]
  },
  {
   "metadata": {},
   "cell_type": "code",
   "outputs": [],
   "execution_count": null,
   "source": [
    "fun solution(numbers: List<Int>) {\n",
    "    val result = numbers. filter { it % 2 == 0}\n",
    "    println(result.joinToString(\" \"))\n",
    "}"
   ]
  },
  {
   "metadata": {},
   "cell_type": "code",
   "outputs": [],
   "execution_count": null,
   "source": "fun solution(numbers: List<Int>) = numbers.filter { it % 2 == 0 }.joinToString(\" \").also { println(it) }\n"
  },
  {
   "metadata": {},
   "cell_type": "code",
   "outputs": [],
   "execution_count": null,
   "source": [
    "fun solution(numbers: List<Int>) {\n",
    "    numbers.forEach { if (it % 2 == 0) print(\"$it \") }\n",
    "}\n"
   ]
  },
  {
   "metadata": {},
   "cell_type": "code",
   "outputs": [],
   "execution_count": null,
   "source": [
    "private fun isEven(num: Int) = num % 2 == 0\n",
    "fun solution(numbers: List<Int>) = numbers.filter(::isEven).joinToString(\" \").let(::println)"
   ]
  },
  {
   "metadata": {},
   "cell_type": "code",
   "outputs": [],
   "execution_count": null,
   "source": [
    "fun solution(numbers: List<Int>) {\n",
    "    for (i in numbers) {\n",
    "        if (i % 2 == 0) print(\"$i \")\n",
    "    }\n",
    "}"
   ]
  },
  {
   "metadata": {},
   "cell_type": "code",
   "outputs": [],
   "execution_count": null,
   "source": [
    "fun solution(numbers: List<Int>) {\n",
    "    numbers.filter { number -> number % 2 == 0 }.onEach { print(\"$it \") }\n",
    "}\n"
   ]
  },
  {
   "metadata": {},
   "cell_type": "code",
   "outputs": [],
   "execution_count": null,
   "source": [
    "\n",
    "\n",
    "\n",
    "\n",
    "\n",
    "\n",
    "\n",
    "\n",
    "\n",
    "\n",
    "\n"
   ]
  },
  {
   "metadata": {},
   "cell_type": "markdown",
   "source": [
    "**Sum of numbers**\n",
    "\n",
    "Complete the solution function. You need to calculate and return the sum of numbers in the list numbers.\n",
    "\n",
    "Sample Input 1:\n",
    "\n",
    "3 2 15\n",
    "\n",
    "Sample Output 1:\n",
    "\n",
    "20"
   ]
  },
  {
   "metadata": {},
   "cell_type": "code",
   "outputs": [],
   "execution_count": null,
   "source": [
    "fun solution(numbers: List<Int>): Int{\n",
    "    var sum = 0\n",
    "    for (num in numbers){\n",
    "        sum += num\n",
    "    }\n",
    "    return sum\n",
    "}\n",
    "\n",
    "\n",
    "//aşağıda ki kodları cevaba yazma\n",
    "val numbers = listOf(1, 2, 3, 4, 5)\n",
    "val total = solution(numbers)\n",
    "println(\"The sum of the list is: $total\")"
   ]
  },
  {
   "metadata": {},
   "cell_type": "code",
   "outputs": [],
   "execution_count": null,
   "source": "val solution: (numbers: List<Int>) -> Int = { it.sum() }"
  },
  {
   "metadata": {},
   "cell_type": "code",
   "outputs": [],
   "execution_count": null,
   "source": [
    "fun solution(numbers: List<Int>): Int {\n",
    "    var sum = 0\n",
    "    for (number in numbers) sum += number\n",
    "    return sum\n",
    "}\n"
   ]
  },
  {
   "metadata": {},
   "cell_type": "code",
   "outputs": [],
   "execution_count": null,
   "source": "fun solution(numbers: List<Int>): Int = numbers.sum()\n"
  },
  {
   "metadata": {},
   "cell_type": "code",
   "outputs": [],
   "execution_count": null,
   "source": "fun solution(numbers: List<Int>) = numbers.reduce { acc, i -> acc + i }\n"
  },
  {
   "metadata": {},
   "cell_type": "code",
   "outputs": [],
   "execution_count": null,
   "source": [
    "\n",
    "\n",
    "\n",
    "\n",
    "\n",
    "\n",
    "\n",
    "\n",
    "\n"
   ]
  },
  {
   "metadata": {},
   "cell_type": "markdown",
   "source": [
    "**Number of occurrences**\n",
    "\n",
    "You are given a List of strings and a String in the input.\n",
    "\n",
    "Calculate the number of occurrences of the String in the List.\n",
    "\n",
    "Sample Input 1:\n",
    "\n",
    "Fred Pola Mike Fred\n",
    "Fred\n",
    "\n",
    "Sample Output 1:\n",
    "\n",
    "2\n",
    "\n",
    "Write a program in Kotlin"
   ]
  },
  {
   "metadata": {
    "ExecuteTime": {
     "end_time": "2025-08-15T18:06:42.042299800Z",
     "start_time": "2025-08-15T18:06:41.836428700Z"
    }
   },
   "cell_type": "code",
   "source": [
    "fun solution(strings: List<String>, str: String): Int {\n",
    "    var count = 0\n",
    "    for (string in strings) {\n",
    "        if (string == str) {\n",
    "            count++\n",
    "        }\n",
    "    }\n",
    "    return count\n",
    "}\n",
    "\n",
    "\n",
    "//aşağıdakileri cevaba yazma\n",
    "val words = listOf(\"apple\", \"banana\", \"apple\", \"orange\", \"apple\")\n",
    "val searchWord = \"apple\"\n",
    "val occurrences = solution(words, searchWord)\n",
    "println(\"The word '$searchWord' appears $occurrences times in the list.\")"
   ],
   "outputs": [
    {
     "name": "stdout",
     "output_type": "stream",
     "text": [
      "The word 'apple' appears 3 times in the list.\r\n"
     ]
    }
   ],
   "execution_count": 2
  },
  {
   "metadata": {},
   "cell_type": "code",
   "outputs": [],
   "execution_count": null,
   "source": "fun solution(strings: List<String>, str: String) = strings.count(str::equals)\n"
  },
  {
   "metadata": {},
   "cell_type": "code",
   "outputs": [],
   "execution_count": null,
   "source": "fun solution(strings: List<String>, str: String): Int = strings.count { it == str }\n"
  },
  {
   "metadata": {},
   "cell_type": "code",
   "outputs": [],
   "execution_count": null,
   "source": [
    "fun solution(strings: List<String>, str: String): Int {\n",
    "    // put your code here\n",
    "    var occurrences = 0\n",
    "    for (string in strings) if (str == string) occurrences += 1\n",
    "    return occurrences\n",
    "}"
   ]
  },
  {
   "metadata": {},
   "cell_type": "code",
   "outputs": [],
   "execution_count": null,
   "source": [
    "fun solution(strings: List<String>, str: String): Int {\n",
    "    // put your code here\n",
    "    return strings.filter { s -> s == str }.count()\n",
    "}\n"
   ]
  },
  {
   "metadata": {},
   "cell_type": "code",
   "outputs": [],
   "execution_count": null,
   "source": [
    "\n",
    "\n",
    "\n",
    "\n",
    "\n",
    "\n",
    "\n",
    "\n",
    "\n",
    "\n"
   ]
  },
  {
   "metadata": {},
   "cell_type": "markdown",
   "source": [
    "**Indexes**\n",
    " Report a typo\n",
    "In the input, you are given a List of products that you put on the shelf and a String that represents a specific product. Print out this product's position on the shelf. Note that products may repeat.\n",
    "\n",
    "Sample Input 1:\n",
    "\n",
    "Mustard Cheese Eggs Cola Eggs\n",
    "Eggs\n",
    "\n",
    "Sample Output 1:\n",
    "\n",
    "2 4\n",
    "\n",
    "Write a program in Kotlin"
   ]
  },
  {
   "metadata": {},
   "cell_type": "code",
   "outputs": [],
   "execution_count": null,
   "source": [
    "fun solution(products: List<String>, product: String) {\n",
    "\n",
    "    val positions = mutableListOf<Int>()\n",
    "\n",
    "    for (i in products.indices) {\n",
    "        if (products[i] == product) {\n",
    "            positions.add(i)\n",
    "        }\n",
    "    }\n",
    "    println(positions.joinToString(\" \"))\n",
    "}\n",
    "\n",
    "//cevaba yazma\n",
    "val products = listOf(\"Mustard\", \"Cheese\", \"Eggs\", \"Cola\", \"Eggs\")\n",
    "val productToFind = \"Eggs\"\n",
    "solution(products, productToFind)"
   ]
  },
  {
   "metadata": {},
   "cell_type": "code",
   "outputs": [],
   "execution_count": null,
   "source": [
    "fun solution(products: List<String>, product: String) {\n",
    "    println(products.indices.filter { products[it] == product }.joinToString(\" \"))\n",
    "}\n"
   ]
  },
  {
   "metadata": {},
   "cell_type": "code",
   "outputs": [],
   "execution_count": null,
   "source": "fun solution(ps: List<String>, p: String) = ps.forEachIndexed { a, s -> if (s == p) print(\"$a \") }"
  },
  {
   "metadata": {},
   "cell_type": "code",
   "outputs": [],
   "execution_count": null,
   "source": [
    "fun solution(products: List<String>, product: String) =\n",
    "    println(products.indices.filter { products[it] == product }.joinToString(\" \"))"
   ]
  },
  {
   "metadata": {},
   "cell_type": "code",
   "outputs": [],
   "execution_count": null,
   "source": [
    "fun solution(products: List<String>, product: String) {\n",
    "    for ((index, item) in products.withIndex()) if (item == product) print(\"$index \")\n",
    "}\n"
   ]
  },
  {
   "metadata": {},
   "cell_type": "code",
   "outputs": [],
   "execution_count": null,
   "source": [
    "fun solution(products: List<String>, product: String) {\n",
    "    // put your code here\n",
    "    println(products.withIndex()\n",
    "        .filter { it.value == product }\n",
    "        .map { it.index }\n",
    "        .toList()\n",
    "        .joinToString(\" \"))\n",
    "}\n"
   ]
  },
  {
   "metadata": {},
   "cell_type": "code",
   "outputs": [],
   "execution_count": null,
   "source": [
    "fun solution(products: List<String>, product: String) = print(products.indices\n",
    "    .filter { products[it] == product }\n",
    "    .joinToString(\" \"))\n"
   ]
  },
  {
   "metadata": {},
   "cell_type": "code",
   "outputs": [],
   "execution_count": null,
   "source": [
    "fun solution(products: List<String>, product: String) = products\n",
    "    .withIndex()\n",
    "    .filter { it.value == product }\n",
    "    .map { it.index }\n",
    "    .joinToString(\" \")\n",
    "    .let(::println)"
   ]
  },
  {
   "metadata": {},
   "cell_type": "code",
   "outputs": [],
   "execution_count": null,
   "source": [
    "\n",
    "\n",
    "\n",
    "\n",
    "\n",
    "\n",
    "\n",
    "\n",
    "\n",
    "\n",
    "\n"
   ]
  },
  {
   "metadata": {},
   "cell_type": "markdown",
   "source": [
    "**The second of T**\n",
    "\n",
    "Iterate through every second element of a list in a loop and find the index of the first word that starts with T.\n",
    "\n",
    "It is guaranteed that at least one word with an odd index starts with T.\n",
    "\n",
    "Sample Input 1:\n",
    "\n",
    "Test Kora Terra Tetta Garry\n",
    "\n",
    "Sample Output 1:\n",
    "\n",
    "3\n",
    "\n",
    "Write a program in Kotlin\n"
   ]
  },
  {
   "metadata": {},
   "cell_type": "code",
   "outputs": [],
   "execution_count": null,
   "source": [
    "fun solution(names: List<String>): Int {\n",
    "    for (i in 1 until names.size step 2) {\n",
    "        val word = names[i]\n",
    "        if (word.startsWith(\"T\")) {\n",
    "            return i\n",
    "        }\n",
    "    }\n",
    "    // If no matching word is found, you can return -1 or handle it as needed.\n",
    "    return -1\n",
    "}\n"
   ]
  },
  {
   "metadata": {},
   "cell_type": "markdown",
   "source": [
    "fun solution(names: List<String>) =\n",
    "    names.withIndex().first { it.index % 2 == 1 && it.value.startsWith(\"T\") }.index"
   ]
  },
  {
   "metadata": {},
   "cell_type": "code",
   "outputs": [],
   "execution_count": null,
   "source": "fun solution(n: List<String>) = n.indices.first { it % 2 == 1 && n[it].first() == 'T' }"
  },
  {
   "metadata": {},
   "cell_type": "code",
   "outputs": [],
   "execution_count": null,
   "source": [
    "fun solution(names: List<String>): Int {\n",
    "    return names\n",
    "        .withIndex()\n",
    "        .first { it.value.startsWith(\"T\") && it.index % 2 != 0 }\n",
    "        .index\n",
    "}\n"
   ]
  },
  {
   "metadata": {},
   "cell_type": "code",
   "outputs": [],
   "execution_count": null,
   "source": [
    "fun solution(names: List<String>): Int {\n",
    "    var result = 0\n",
    "    for (index in names.indices) {\n",
    "        if (index % 2 != 0 && names[index].first() == 'T') {\n",
    "            result = index\n",
    "            break\n",
    "        }\n",
    "    }\n",
    "    return result\n",
    "}"
   ]
  }
 ],
 "metadata": {
  "kernelspec": {
   "display_name": "Kotlin",
   "language": "kotlin",
   "name": "kotlin"
  },
  "language_info": {
   "name": "kotlin",
   "version": "2.2.20-dev-4982",
   "mimetype": "text/x-kotlin",
   "file_extension": ".kt",
   "pygments_lexer": "kotlin",
   "codemirror_mode": "text/x-kotlin",
   "nbconvert_exporter": ""
  }
 },
 "nbformat": 4,
 "nbformat_minor": 0
}
