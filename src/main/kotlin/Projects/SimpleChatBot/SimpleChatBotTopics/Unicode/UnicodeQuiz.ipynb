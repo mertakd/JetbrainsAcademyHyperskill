{
 "cells": [
  {
   "cell_type": "code",
   "execution_count": null,
   "metadata": {
    "collapsed": true
   },
   "outputs": [],
   "source": [
    ""
   ]
  },
  {
   "metadata": {},
   "cell_type": "markdown",
   "source": [
    "**Unlocking Unicode: Exploring Hexadecimal Code Points**\n",
    "\n",
    "Consider the following Unicode code points written in hexadecimal format: 0061, 0416, 20AC, 1F600. What do these hexadecimal values signify in the context of the Unicode encoding standard, and how does Unicode differ from other encoding systems such as ASCII?\n",
    "\n",
    "Select one option from the list\n",
    "\n",
    "These code points are from a Unicode character set with a limit of 128 characters and are used for low-data communication systems.\n",
    "\n",
    "These code points are part of the ASCII character set, offering a universal standard only for the English language, with Unicode as a subset.\n",
    "\n",
    "These code points correspond to specific characters in the Unicode character set, which provides a unique code point for every character, regardless of the platform, device, or application.   t\n",
    "\n",
    "These code points are representations of colors in Unicode, which only supports a limited color range in contrast to ASCII.\n",
    "\n",
    "These hexadecimal code points indicate byte values as part of the 16-bit unicode to represent all languages and symbols.\n"
   ]
  },
  {
   "metadata": {},
   "cell_type": "code",
   "outputs": [],
   "execution_count": null,
   "source": [
    "\n",
    "\n",
    "\n",
    "\n",
    "\n",
    "\n",
    "\n",
    "\n",
    "\n",
    "\n"
   ]
  },
  {
   "metadata": {},
   "cell_type": "markdown",
   "source": [
    "**Unicode definition**\n",
    "\n",
    "What is Unicode?\n",
    "\n",
    "Select one option from the list\n",
    "\n",
    "encoding that helps to hide your data\n",
    "\n",
    "encoding that determine how symbols are converted to bytes\n",
    "\n",
    "standard for a random number generation\n",
    "\n",
    "standard in form of a table that defines the mapping between symbols and numbers  t"
   ]
  },
  {
   "metadata": {},
   "cell_type": "code",
   "outputs": [],
   "execution_count": null,
   "source": [
    "\n",
    "\n",
    "\n",
    "\n",
    "\n",
    "\n",
    "\n",
    "\n",
    "\n",
    "\n",
    "\n"
   ]
  },
  {
   "metadata": {},
   "cell_type": "markdown",
   "source": [
    "**Unicode number**\n",
    "\n",
    "Unicode code points are written using U+ followed by a hexadecimal number. What is the minimum amount of symbols the hexadecimal numbers have in these code points?\n",
    "\n",
    "Select one option from the list\n",
    "\n",
    "3\n",
    "\n",
    "4  t\n",
    "\n",
    "5\n",
    "\n",
    "6"
   ]
  },
  {
   "metadata": {},
   "cell_type": "code",
   "outputs": [],
   "execution_count": null,
   "source": [
    "\n",
    "\n",
    "\n",
    "\n",
    "\n",
    "\n",
    "\n",
    "\n",
    "\n"
   ]
  },
  {
   "metadata": {},
   "cell_type": "markdown",
   "source": [
    "**Spot the intruder**\n",
    "\n",
    "What is the correct way to write a Unicode code point?\n",
    "\n",
    "Select one or more options from the list\n",
    "\n",
    "U+0A71H\n",
    "\n",
    "U;378\n",
    "\n",
    "U+FFFF   t\n",
    "\n",
    "U+00000;\n",
    "\n",
    "U+0001       t\n",
    "\n",
    "U;0896"
   ]
  },
  {
   "metadata": {},
   "cell_type": "code",
   "outputs": [],
   "execution_count": null,
   "source": [
    "\n",
    "\n",
    "\n",
    "\n",
    "\n",
    "\n",
    "\n",
    "\n",
    "\n",
    "\n"
   ]
  },
  {
   "metadata": {},
   "cell_type": "markdown",
   "source": [
    "**Encodings**\n",
    "\n",
    "Which encodings support the entire Unicode standard?\n",
    "\n",
    "Select one or more options from the list\n",
    "\n",
    "ASCII\n",
    "\n",
    "Windows-1251\n",
    "\n",
    "UCS-2\n",
    "\n",
    "UTF-8   t\n",
    "\n",
    "UTF-16   t"
   ]
  },
  {
   "metadata": {},
   "cell_type": "code",
   "outputs": [],
   "execution_count": null,
   "source": [
    "\n",
    "\n",
    "\n",
    "\n",
    "\n",
    "\n",
    "\n",
    "\n",
    "\n"
   ]
  },
  {
   "metadata": {},
   "cell_type": "markdown",
   "source": [
    "**Encode**\n",
    "\n",
    "Here's a segment of the Unicode standard:\n",
    "\n",
    "a segment of Universal Character Set for symbols in ASCII Character Set\n",
    "\n",
    "Using this segment, represent the word Worf in Unicode.\n",
    "\n",
    "\n",
    "U+0057 U+006F U+0072 U+0066      t\n",
    "\n",
    "U+0077 U+006F U+0072 U+0066\n",
    "\n",
    "U+0075 U+00F6 U+0027 U+0066\n",
    "\n",
    "U+0057 U+004F U+0052 U+0046"
   ]
  },
  {
   "metadata": {},
   "cell_type": "code",
   "outputs": [],
   "execution_count": null,
   "source": [
    "\n",
    "\n",
    "\n",
    "\n",
    "\n",
    "\n",
    "\n",
    "\n",
    "\n",
    "\n"
   ]
  },
  {
   "metadata": {},
   "cell_type": "markdown",
   "source": [
    "**Crack the code**\n",
    "\n",
    "Here's a segment of the Unicode standard:\n",
    "\n",
    "\n",
    "We've encoded a word using this part of the Unicode: U+0048 U+0079 U+0070 U+0065 U+0072 U+0073 U+006B U+0069 U+006C U+006C. Your task is to decode it.\n",
    "\n",
    "Note that the spaces between codes are there for clarity. In the resulting word, there should be NO spaces (unless the Unicode number for the whitespace character (U+0020) is present).\n",
    "\n",
    "Enter a short text\n",
    "Hyperskill\n"
   ]
  },
  {
   "metadata": {
    "ExecuteTime": {
     "end_time": "2025-07-29T18:22:58.641886600Z",
     "start_time": "2025-07-29T18:22:58.639882Z"
    }
   },
   "cell_type": "code",
   "source": "",
   "outputs": [],
   "execution_count": null
  },
  {
   "metadata": {},
   "cell_type": "code",
   "outputs": [],
   "execution_count": null,
   "source": ""
  }
 ],
 "metadata": {
  "kernelspec": {
   "display_name": "Kotlin",
   "language": "kotlin",
   "name": "kotlin"
  },
  "language_info": {
   "name": "kotlin",
   "version": "1.9.23",
   "mimetype": "text/x-kotlin",
   "file_extension": ".kt",
   "pygments_lexer": "kotlin",
   "codemirror_mode": "text/x-kotlin",
   "nbconvert_exporter": ""
  }
 },
 "nbformat": 4,
 "nbformat_minor": 0
}
