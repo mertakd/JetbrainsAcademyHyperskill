{
 "cells": [
  {
   "cell_type": "code",
   "execution_count": null,
   "metadata": {
    "collapsed": true
   },
   "outputs": [],
   "source": [
    ""
   ]
  },
  {
   "metadata": {},
   "cell_type": "markdown",
   "source": [
    " **Sizes of types**\n",
    "\n",
    "Select the correct statement about sizes of basic types.\n",
    "\n",
    "he size of a type depends on the platform where the program is executed.\n",
    "\n",
    "The size of a type does not depend on the operating system and hardware and cannot be changed.  T\n",
    "\n",
    "The size of a type can be dynamically changed to accommodate a value desired by the user."
   ]
  },
  {
   "metadata": {},
   "cell_type": "code",
   "outputs": [],
   "execution_count": null,
   "source": [
    "\n",
    "\n",
    "\n",
    "\n"
   ]
  },
  {
   "metadata": {},
   "cell_type": "markdown",
   "source": [
    "**Max values of integer types**\n",
    "\n",
    "Write a program that prints max values of four integer types: Int, Long, Short, and Byte in ascending order. Output each value on a new line.\n",
    "\n",
    "fun main() {\n",
    "    println(Byte.MAX_VALUE)\n",
    "    println(Short.MAX_VALUE)\n",
    "    println(Int.MAX_VALUE)\n",
    "    println(Long.MAX_VALUE)\n",
    "}\n"
   ]
  },
  {
   "metadata": {},
   "cell_type": "code",
   "outputs": [],
   "execution_count": null,
   "source": [
    "\n",
    "\n",
    "\n",
    "\n",
    "\n",
    "\n"
   ]
  },
  {
   "metadata": {},
   "cell_type": "markdown",
   "source": [
    "w**Size, min and max**\n",
    "\n",
    "Create a program that prints the size (in bits) and the min and max values of the Int type. Output each value on a new line.\n",
    "\n",
    "Here is an example of output with the Byte type:\n",
    "\n",
    "8\n",
    "-128\n",
    "127\n",
    "\n",
    "fun main() {\n",
    "    // put your code here\n",
    "    listOf(Int.SIZE_BITS, Int.MIN_VALUE, Int.MAX_VALUE).forEach { println(it) }\n",
    "}\n",
    "\n",
    "fun main() {\n",
    "    // put your code here\n",
    "    println(Int.SIZE_BITS)\n",
    "    println(Int.MIN_VALUE)\n",
    "    println(Int.MAX_VALUE)\n",
    "}"
   ]
  },
  {
   "metadata": {},
   "cell_type": "code",
   "outputs": [],
   "execution_count": null,
   "source": [
    "\n",
    "\n",
    "\n",
    "\n",
    "\n"
   ]
  },
  {
   "metadata": {},
   "cell_type": "markdown",
   "source": [
    "**Match values and their types**\n",
    "\n",
    "Match these values and their types.\n",
    "\n",
    "Match the items from left and right columns\n",
    "Char\n",
    "Int\n",
    "Double\n",
    "Boolean\n",
    "\n",
    "'a'\n",
    "18\n",
    "0.05\n",
    "true\n"
   ]
  },
  {
   "metadata": {},
   "cell_type": "code",
   "outputs": [],
   "execution_count": null,
   "source": [
    "\n",
    "\n",
    "\n",
    "\n"
   ]
  },
  {
   "metadata": {},
   "cell_type": "markdown",
   "source": [
    "**Find the type of variable you want**\n",
    "\n",
    "Here is a variable:\n",
    "\n",
    "\n",
    "val some = '5'\n",
    "\n",
    "\n",
    "What is the type of this variable?\n",
    "\n",
    "Select one option from the list\n",
    "\n",
    "Int\n",
    "\n",
    "String\n",
    "\n",
    "Double\n",
    "\n",
    "Short\n",
    "\n",
    "Char"
   ]
  },
  {
   "metadata": {},
   "cell_type": "code",
   "outputs": [],
   "execution_count": null,
   "source": [
    "\n",
    "\n",
    "\n",
    "\n",
    "\n",
    "\n",
    "\n"
   ]
  },
  {
   "metadata": {},
   "cell_type": "markdown",
   "source": [
    "\n",
    "**Existing types**\n",
    "\n",
    "Select the Kotlin keywords used for basic data types in code.\n",
    "\n",
    "Select one or more options from the list\n",
    "\n",
    "\n",
    "\n",
    "Double\n",
    "\n",
    "Int\n",
    "\n",
    "Char\n",
    "\n",
    "Character\n",
    "\n",
    "Fraction\n",
    "\n",
    "Integer"
   ]
  },
  {
   "metadata": {},
   "cell_type": "markdown",
   "source": [
    "\n",
    "\n",
    "\n",
    "\n"
   ]
  },
  {
   "metadata": {},
   "cell_type": "code",
   "outputs": [],
   "execution_count": null,
   "source": [
    "\n",
    "\n",
    "\n",
    "\n",
    "\n",
    "\n"
   ]
  },
  {
   "metadata": {},
   "cell_type": "markdown",
   "source": [
    " **Ranges**\n",
    "\n",
    "Select the correct ranges of values for the types below.\n",
    "\n",
    "Select one or more options from the list\n",
    "\n",
    "Byte: from -128 to 128        T\n",
    "\n",
    "Byte: from -128 to 127        T\n",
    "\n",
    "Short: from -32768 to 32767\n",
    "\n",
    "Short: from -32768 to 32768\n",
    "\n",
    "Short: from 0 to 65535\n",
    "\n",
    "Byte: from 0 to 255"
   ]
  },
  {
   "metadata": {},
   "cell_type": "code",
   "outputs": [],
   "execution_count": null,
   "source": [
    "\n",
    "\n",
    "\n",
    "\n",
    "\n",
    "\n",
    "\n",
    "\n"
   ]
  },
  {
   "metadata": {},
   "cell_type": "code",
   "outputs": [],
   "execution_count": null,
   "source": ""
  },
  {
   "metadata": {},
   "cell_type": "markdown",
   "source": [
    "**The size of Long**\n",
    "\n",
    "What is the size of Long data type (in bits)?\n",
    "\n",
    "Select one option from the list\n",
    "\n",
    "64 t\n",
    "\n",
    "32\n",
    "\n",
    "16\n",
    "\n",
    "128"
   ]
  },
  {
   "metadata": {},
   "cell_type": "code",
   "outputs": [],
   "execution_count": null,
   "source": [
    "\n",
    "\n",
    "\n",
    "\n",
    "\n",
    "\n",
    "\n",
    "\n",
    "\n",
    "\n"
   ]
  },
  {
   "metadata": {},
   "cell_type": "markdown",
   "source": [
    "**Sizes of Float and Double**\n",
    "\n",
    "Choose correct statements about Float and Double sizes (in bits).\n",
    "\n",
    "Float is 32 bits\n",
    "\n",
    "Double is 64 bits"
   ]
  },
  {
   "metadata": {},
   "cell_type": "code",
   "outputs": [],
   "execution_count": null,
   "source": [
    "\n",
    "\n",
    "\n",
    "\n",
    "\n",
    "\n",
    "\n",
    "\n"
   ]
  },
  {
   "metadata": {},
   "cell_type": "markdown",
   "source": [
    "**Sizes**\n",
    "\n",
    "Choose all correct statements about sizes of basic types (in bits).\n",
    "\n",
    "Byte is 8 bits\n",
    "Char is 16 bits\n",
    "Int is 32 bits\n",
    "Long is 64 bits"
   ]
  },
  {
   "metadata": {},
   "cell_type": "code",
   "outputs": [],
   "execution_count": null,
   "source": [
    "\n",
    "\n",
    "\n",
    "\n",
    "\n",
    "\n",
    "\n",
    "\n",
    "\n"
   ]
  },
  {
   "metadata": {},
   "cell_type": "markdown",
   "source": [
    "**Upper possible value**\n",
    "\n",
    "Choose the correct formula for calculating the upper (maximum) possible value of an Int variable.\n",
    "\n",
    "(2n−1) − 1, where n is the number of bits"
   ]
  },
  {
   "metadata": {},
   "cell_type": "code",
   "outputs": [],
   "execution_count": null,
   "source": [
    "\n",
    "\n",
    "\n",
    "\n",
    "\n",
    "\n",
    "\n",
    "\n"
   ]
  },
  {
   "metadata": {},
   "cell_type": "markdown",
   "source": [
    "**What are the sizes in the bits?**\n",
    "\n",
    "What are the sizes of Float and Double (in bytes)?\n",
    "\n",
    "Float - 4 bytes, Double - 8 bytes"
   ]
  },
  {
   "metadata": {},
   "cell_type": "code",
   "outputs": [],
   "execution_count": null,
   "source": [
    "\n",
    "\n",
    "\n",
    "\n",
    "\n",
    "\n",
    "\n"
   ]
  },
  {
   "metadata": {},
   "cell_type": "markdown",
   "source": [
    "**Sort types by size**\n",
    "\n",
    "Sort the integer types by their size in descending order.\n",
    "\n",
    "Put the items in the correct order\n",
    "Long\n",
    "Int\n",
    "Short\n",
    "Byte"
   ]
  },
  {
   "metadata": {},
   "cell_type": "code",
   "outputs": [],
   "execution_count": null,
   "source": [
    "\n",
    "\n",
    "\n",
    "\n",
    "\n",
    "\n",
    "\n"
   ]
  },
  {
   "metadata": {},
   "cell_type": "markdown",
   "source": [
    "**The size of Int**\n",
    "\n",
    "What is the size of Int data type (in bytes)?\n",
    "\n",
    "2\n",
    "\n",
    "4      t\n",
    "\n",
    "16\n",
    "\n",
    "8"
   ]
  },
  {
   "metadata": {},
   "cell_type": "code",
   "outputs": [],
   "execution_count": null,
   "source": [
    "\n",
    "\n",
    "\n",
    "\n",
    "\n",
    "\n",
    "\n"
   ]
  },
  {
   "metadata": {},
   "cell_type": "markdown",
   "source": [
    "**Select variable type**\n",
    "\n",
    "Determine the type of the variable below:\n",
    "\n",
    "\n",
    "val n = 1000\n",
    "\n",
    "\n",
    "Int"
   ]
  },
  {
   "metadata": {},
   "cell_type": "code",
   "outputs": [],
   "execution_count": null,
   "source": [
    "\n",
    "\n",
    "\n",
    "\n",
    "\n",
    "\n",
    "\n",
    "\n",
    "\n",
    "\n"
   ]
  },
  {
   "metadata": {},
   "cell_type": "markdown",
   "source": [
    "**What type of variable?**\n",
    "\n",
    "Determine the type of the variable below:\n",
    "\n",
    "\n",
    "val big = 999_999_999_999_999_999\n",
    "\n",
    "Long"
   ]
  },
  {
   "metadata": {},
   "cell_type": "markdown",
   "source": ""
  },
  {
   "metadata": {},
   "cell_type": "code",
   "outputs": [],
   "execution_count": null,
   "source": [
    "\n",
    "\n",
    "\n",
    "\n",
    "\n",
    "\n",
    "\n",
    "\n",
    "\n"
   ]
  },
  {
   "metadata": {},
   "cell_type": "markdown",
   "source": [
    "Converting Celsius to Fahrenheit\n",
    " Report a typo\n",
    "Given an input integer representing a temperature in Celsius, print the equivalent temperature in Fahrenheit as an integer value. To convert from Celsius to Fahrenheit, multiply the Celsius value by 9, divide by 5, and add 32.\n",
    "\n",
    "Sample Input 1:\n",
    "\n",
    "0\n",
    "\n",
    "Sample Output 1:\n",
    "\n",
    "32\n",
    "\n",
    "Sample Input 2:\n",
    "\n",
    "100\n",
    "\n",
    "Sample Output 2:\n",
    "\n",
    "212"
   ]
  },
  {
   "metadata": {},
   "cell_type": "code",
   "outputs": [],
   "execution_count": null,
   "source": [
    "// Read temperature in Celsius as a double\n",
    "val celsius = readLine()!!.toDouble()\n",
    "\n",
    "// Convert Celsius to Fahrenheit\n",
    "val fahrenheit = (celsius * 9 / 5) + 32\n",
    "\n",
    "// Print temperature in Fahrenheit rounded to nearest integer\n",
    "println(round(fahrenheit).toInt())"
   ]
  },
  {
   "metadata": {},
   "cell_type": "code",
   "outputs": [],
   "execution_count": null,
   "source": [
    "\n",
    "\n",
    "\n",
    "\n",
    "\n",
    "\n",
    "\n",
    "\n",
    "\n"
   ]
  },
  {
   "metadata": {},
   "cell_type": "markdown",
   "source": [
    "**Rounding off a floating-point number to two decimal places**\n",
    "\n",
    "Write a program in Kotlin that takes a floating point number as input. The program should then round off that number to two decimal places. If the input is not a floating point number, it should output an error message.\n",
    "\n",
    "Sample Input 1:\n",
    "\n",
    "3.14159\n",
    "\n",
    "Sample Output 1:\n",
    "\n",
    "3.14\n",
    "\n",
    "Sample Input 2:\n",
    "\n",
    "2.71828\n",
    "\n",
    "Sample Output 2:\n",
    "\n",
    "2.72"
   ]
  },
  {
   "metadata": {},
   "cell_type": "code",
   "outputs": [],
   "execution_count": null,
   "source": [
    "import java.util.Scanner\n",
    "\n",
    "// Creating a Scanner object for reading input\n",
    "val read = Scanner(System.`in`)\n",
    "\n",
    "// User input is read and stored in a variable\n",
    "val userInput = read.nextLine()\n",
    "\n",
    "// Check if user input is a floating point number\n",
    "try {\n",
    "    val floatNumber = userInput.toFloat()\n",
    "\n",
    "    // Round off the floating point number to two decimal places\n",
    "    val rounded = String.format(\"%.2f\", floatNumber)\n",
    "\n",
    "    println(rounded)\n",
    "} catch (e: NumberFormatException) {\n",
    "    // Output an error message if the input cannot be converted to a float\n",
    "    println(\"Input is not a floating-point number\")\n",
    "}"
   ]
  }
 ],
 "metadata": {
  "kernelspec": {
   "display_name": "Kotlin",
   "language": "kotlin",
   "name": "kotlin"
  },
  "language_info": {
   "name": "kotlin",
   "version": "1.9.23",
   "mimetype": "text/x-kotlin",
   "file_extension": ".kt",
   "pygments_lexer": "kotlin",
   "codemirror_mode": "text/x-kotlin",
   "nbconvert_exporter": ""
  }
 },
 "nbformat": 4,
 "nbformat_minor": 0
}
