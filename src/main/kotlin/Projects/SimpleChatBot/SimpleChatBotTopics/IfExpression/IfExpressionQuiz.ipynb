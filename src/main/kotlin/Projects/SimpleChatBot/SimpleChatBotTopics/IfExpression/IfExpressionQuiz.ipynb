{
 "cells": [
  {
   "cell_type": "code",
   "execution_count": null,
   "metadata": {
    "collapsed": true
   },
   "outputs": [],
   "source": ""
  },
  {
   "metadata": {},
   "cell_type": "markdown",
   "source": [
    "**Positive, Negative or Zero**\n",
    "\n",
    "Write a program that reads an integer from the console and prints:\n",
    "\n",
    "if the number < 0 - negative;\n",
    "if the number > 0 - positive;\n",
    "if the number = 0 - zero;\n",
    "Sample Input 1:\n",
    "\n",
    "-5\n",
    "\n",
    "Sample Output 1:\n",
    "\n",
    "negative"
   ]
  },
  {
   "metadata": {},
   "cell_type": "code",
   "outputs": [],
   "execution_count": null,
   "source": [
    "val number = readln().toInt()\n",
    "\n",
    "var output: String\n",
    "\n",
    "if(number < 0){\n",
    "    output = \"negative\"\n",
    "}else if(number > 0){\n",
    "    output = \"positive\"\n",
    "}else{\n",
    "    output = \"zero\"\n",
    "}\n",
    "\n",
    "println(output)\n"
   ]
  },
  {
   "metadata": {},
   "cell_type": "code",
   "outputs": [],
   "execution_count": null,
   "source": [
    "//sol2\n",
    "val a = readLine()!!.toInt()\n",
    "println(if (a > 0) \"positive\" else if (a < 0) \"negative\" else \"zero\")"
   ]
  },
  {
   "metadata": {},
   "cell_type": "code",
   "outputs": [],
   "execution_count": null,
   "source": [
    "import java.util.Scanner\n",
    "\n",
    "//sol3\n",
    "val scanner = Scanner(System.`in`)\n",
    "val num = scanner.nextInt()\n",
    "print(when {\n",
    "    num < 0 -> \"negative\"\n",
    "    num > 0 -> \"positive\"\n",
    "    else -> \"zero\"\n",
    "})"
   ]
  },
  {
   "metadata": {},
   "cell_type": "code",
   "outputs": [],
   "execution_count": null,
   "source": [
    "\n",
    "\n",
    "\n",
    "\n",
    "\n",
    "\n",
    "\n",
    "\n",
    "\n",
    "\n",
    "\n",
    "\n"
   ]
  },
  {
   "metadata": {},
   "cell_type": "markdown",
   "source": [
    "**Number dividers**\n",
    "\n",
    "Write a program that reads an integer number and checks if it is divisible by 2, 3, 5, or 6.\n",
    "\n",
    "If the number is divisible by M, the program should output \"Divided by M\".\n",
    "\n",
    "The program should check all the divisors listed above. The order of divisors in the result can be any.\n",
    "\n",
    "Tip: Use the modulo operator % to check whether a number divided by another one.\n",
    "\n",
    "Sample Input 1:\n",
    "\n",
    "6\n",
    "\n",
    "Sample Output 1:\n",
    "\n",
    "Divided by 2\n",
    "Divided by 3\n",
    "Divided by 6"
   ]
  },
  {
   "metadata": {},
   "cell_type": "code",
   "outputs": [],
   "execution_count": null,
   "source": [
    "val two = 2\n",
    "val three = 3\n",
    "val five = 5\n",
    "val six = 6\n",
    "val st = \"Divided by\"\n",
    "val num = readLine()!!.toInt()\n",
    "\n",
    "if (num % two == 0) {\n",
    "    println(\"$st $two\")\n",
    "}\n",
    "if (num % three == 0) {\n",
    "    println(\"$st $three\")\n",
    "}\n",
    "if (num % five == 0) {\n",
    "    println(\"$st $five\")\n",
    "}\n",
    "if (num % six == 0) {\n",
    "    println(\"$st $six\")\n",
    "}"
   ]
  },
  {
   "metadata": {},
   "cell_type": "code",
   "outputs": [],
   "execution_count": null,
   "source": [
    "//sol2\n",
    "val number = readLine()!!.toInt()\n",
    "listOf(2, 3, 5, 6).forEach { if (number % it == 0) println(\"Divided by $it\") }"
   ]
  },
  {
   "metadata": {},
   "cell_type": "code",
   "outputs": [],
   "execution_count": null,
   "source": [
    "import java.util.Scanner\n",
    "\n",
    "//sol3\n",
    "val scanner = Scanner(System.`in`)\n",
    "// put your code here\n",
    "val n = scanner.nextInt()\n",
    "listOf(2, 3, 5, 6).filter { n % it == 0 }.forEach { println(\"Divided by $it\") }"
   ]
  },
  {
   "metadata": {},
   "cell_type": "code",
   "outputs": [],
   "execution_count": null,
   "source": [
    "//sol4\n",
    "val n = readLine()!!.toInt()\n",
    "listOf(2, 3, 5, 6).forEach {\n",
    "    if (n % it == 0) println(\"Divided by $it\")\n",
    "}"
   ]
  },
  {
   "metadata": {},
   "cell_type": "code",
   "outputs": [],
   "execution_count": null,
   "source": [
    "\n",
    "\n",
    "\n",
    "\n",
    "\n",
    "\n",
    "\n",
    "\n",
    "\n",
    "\n",
    "\n"
   ]
  },
  {
   "metadata": {},
   "cell_type": "markdown",
   "source": [
    "**The max of two numbers without else-branch**\n",
    "\n",
    "Write a program that uses if to find the max of two integer numbers. These numbers can be positive, negative or zero.\n",
    "\n",
    "\n",
    "Be creative, solve the problem without else branch :)\n",
    "\n",
    "\n",
    "Use the provided code template, print the max.\n",
    "\n",
    "Sample Input 1:\n",
    "\n",
    "8\n",
    "11\n",
    "\n",
    "Sample Output 1:\n",
    "\n",
    "11"
   ]
  },
  {
   "metadata": {},
   "cell_type": "code",
   "outputs": [],
   "execution_count": null,
   "source": [
    "import java.util.Scanner\n",
    "\n",
    "val scanner = Scanner(System.`in`)\n",
    "\n",
    "val a = scanner.nextInt()\n",
    "val b = scanner.nextInt()\n",
    "\n",
    "// put your code here\n",
    "var max = a\n",
    "if (b > a) max = b\n",
    "println(max)"
   ]
  },
  {
   "metadata": {},
   "cell_type": "code",
   "outputs": [],
   "execution_count": null,
   "source": [
    "//sol2\n",
    "val a = readLine()!!.toInt()\n",
    "val b = readLine()!!.toInt()\n",
    "\n",
    "if (a >= b) {\n",
    "    return println(a)\n",
    "}\n",
    "println(b)"
   ]
  },
  {
   "metadata": {},
   "cell_type": "code",
   "outputs": [],
   "execution_count": null,
   "source": [
    "\n",
    "\n",
    "\n",
    "\n",
    "\n",
    "\n",
    "\n",
    "\n",
    "\n",
    "\n"
   ]
  },
  {
   "metadata": {},
   "cell_type": "markdown",
   "source": [
    "**The max of three numbers**\n",
    "\n",
    "Write a program that uses the if expression to find the max of three integer numbers. These numbers can be positive, negative or zero.\n",
    "\n",
    "\n",
    "Use the provided code template.\n",
    "\n",
    "Sample Input 1:\n",
    "\n",
    "12\n",
    "15\n",
    "11\n",
    "\n",
    "Sample Output 1:\n",
    "\n",
    "15\n",
    "\n"
   ]
  },
  {
   "metadata": {},
   "cell_type": "code",
   "outputs": [],
   "execution_count": null,
   "source": [
    "val a = readLine()!!.toInt()\n",
    "val b = readLine()!!.toInt()\n",
    "val c = readLine()!!.toInt()\n",
    "\n",
    "println(\n",
    "    if (a > c) {\n",
    "        if (a > b) a else b\n",
    "    } else {\n",
    "        if (c > b) c else b\n",
    "    }\n",
    ")"
   ]
  },
  {
   "metadata": {},
   "cell_type": "code",
   "outputs": [],
   "execution_count": null,
   "source": [
    "\n",
    "\n",
    "\n",
    "\n",
    "\n",
    "\n",
    "\n",
    "\n",
    "\n"
   ]
  },
  {
   "metadata": {},
   "cell_type": "markdown",
   "source": [
    "**Categorizing temperature in Fahrenheit**\n",
    "\n",
    "Write a program that reads a temperature in Fahrenheit from the input and prints 'High temperature' if the temperature is above 85, 'Low temperature' if it's below 50, and 'Normal temperature' otherwise.\n",
    "\n",
    "Sample Input 1:\n",
    "\n",
    "90\n",
    "\n",
    "Sample Output 1:\n",
    "\n",
    "High temperature\n",
    "\n",
    "Sample Input 2:\n",
    "\n",
    "40\n",
    "\n",
    "Sample Output 2:\n",
    "\n",
    "Low temperature\n",
    "\n",
    "Write a program in Kotlin\n"
   ]
  },
  {
   "metadata": {},
   "cell_type": "code",
   "outputs": [],
   "execution_count": null,
   "source": [
    "import java.util.Scanner\n",
    "\n",
    "val scan = Scanner(System.`in`)\n",
    "\n",
    "// input temperature in Fahrenheit\n",
    "val temperature: Int = scan.nextLine().trim().toInt()\n",
    "\n",
    "// your code goes here\n",
    "if (temperature > 85) {\n",
    "    println(\"High temperature\")\n",
    "} else if (temperature < 50) {\n",
    "    println(\"Low temperature\")\n",
    "} else {\n",
    "    println(\"Normal temperature\")\n",
    "}"
   ]
  },
  {
   "metadata": {},
   "cell_type": "code",
   "outputs": [],
   "execution_count": null,
   "source": [
    "import java.util.Scanner\n",
    "\n",
    "//sol2\n",
    "val HIGH = 85\n",
    "val LOW = 50\n",
    "\n",
    "val scan = Scanner(System.`in`)\n",
    "val temperature: Int = scan.nextLine().trim().toInt()\n",
    "print(\n",
    "    when {\n",
    "        temperature > HIGH -> \"High temperature\"\n",
    "        temperature < LOW -> \"Low temperature\"\n",
    "        else -> \"Normal temperature\"\n",
    "    }\n",
    ")"
   ]
  },
  {
   "metadata": {},
   "cell_type": "code",
   "outputs": [],
   "execution_count": null,
   "source": [
    "\n",
    "\n",
    "\n",
    "\n",
    "\n",
    "\n",
    "\n",
    "\n",
    "\n",
    "\n"
   ]
  },
  {
   "metadata": {},
   "cell_type": "markdown",
   "source": [
    "**Creating an application to determine the adulthood status**\n",
    "\n",
    "You are building a simple application in Kotlin that will display user's name and age and determine if they are an adult. You have a variable 'name' with a value 'John' and 'age' with a value 22. You need to print a statement like 'John is 22 years old. Adult? Yes'. To determine if the user is adult, you'll write an expression that tests if the age is greater or equal to 18 and output either 'Yes' when true, or 'No' when false. You should fill the blanks in code to create a resulting message using string templates.\n",
    "\n",
    "Fill in the gaps with the relevant elements\n"
   ]
  },
  {
   "metadata": {},
   "cell_type": "code",
   "outputs": [],
   "execution_count": null,
   "source": [
    "val name = \"John\"\n",
    "val age = 22\n",
    "val isAdult = if (age >= 18) \"Yes\" else \"No\"\n",
    "println(\"$name is ${age} years old. Adult? $isAdult\")"
   ]
  },
  {
   "metadata": {},
   "cell_type": "code",
   "outputs": [],
   "execution_count": null,
   "source": [
    "\n",
    "\n",
    "\n",
    "\n",
    "\n",
    "\n",
    "\n",
    "\n",
    "\n"
   ]
  },
  {
   "metadata": {},
   "cell_type": "markdown",
   "source": [
    "**A Family**\n",
    "\n",
    "Wow! This problem is kind of tricky. If you're ready to put your thinking cap on, brace yourself and good luck! Otherwise, you can skip it for now and return any time later\n",
    "\n",
    "\n",
    "Annie has a family: mother Lucy, father James, sister Emily, and brother Luke. She creates a family tree, which you see below.\n",
    "\n",
    "family tree of the Annie family\n",
    "\n",
    "Now she wants to make this tree interactive. First, she wants the program to be able to determine the relationship between herself and a random family member. How many if expressions will Annie need to use to find out the relationship between herself and her random family member? For this, the program can use information about the person's parents (compare two people's parents) and gender (male or female).\n",
    "\n",
    "Enter a number\n",
    "2\n"
   ]
  },
  {
   "metadata": {},
   "cell_type": "code",
   "outputs": [],
   "execution_count": null,
   "source": [
    "\n",
    "\n",
    "\n",
    "\n",
    "\n",
    "\n",
    "\n",
    "\n",
    "\n"
   ]
  },
  {
   "metadata": {},
   "cell_type": "markdown",
   "source": [
    "**Find the output**\n",
    "\n",
    "What is the result of this code?\n",
    "\n",
    "val x = 11\n",
    "\n",
    "if (x * 2 + 1 < 23 && x % 2 == 1) {\n",
    "    print(\"1\")\n",
    "    print(if (x == 11) \"2\" else \"3\")\n",
    "} else if (x != 0) {\n",
    "    print(\"4\")\n",
    "}\n",
    "print(\"5\")\n",
    "\n",
    "\n",
    "\n",
    "Select one option from the list\n",
    "\n",
    "4\n",
    "\n",
    "1245\n",
    "\n",
    "125\n",
    "\n",
    "135\n",
    "\n",
    "45   t"
   ]
  },
  {
   "metadata": {},
   "cell_type": "code",
   "outputs": [],
   "execution_count": null,
   "source": [
    "\n",
    "\n",
    "\n",
    "\n",
    "\n",
    "\n",
    "\n",
    "\n",
    "\n"
   ]
  },
  {
   "metadata": {},
   "cell_type": "markdown",
   "source": [
    "**Statements about brackets in if**\n",
    "\n",
    "What is true about brackets in if expression?\n",
    "\n",
    "Select one option from the list\n",
    "\n",
    "\n",
    "\n",
    "We must use curly braces if we have several statements inside if or else branch.  T\n",
    "\n",
    "We can omit round brackets around boolean condition if we use if as an expression.\n",
    "\n",
    "When we use if not as an expression we must include curly braces.\n",
    "\n",
    "When we want to use if without else branch we must include curly braces.\n",
    "\n",
    "When we want to return the if result as an expression, we must omit curly braces."
   ]
  },
  {
   "metadata": {},
   "cell_type": "code",
   "outputs": [],
   "execution_count": null,
   "source": [
    "\n",
    "\n",
    "\n",
    "\n",
    "\n",
    "\n",
    "\n",
    "\n",
    "\n"
   ]
  },
  {
   "metadata": {},
   "cell_type": "markdown",
   "source": [
    "**Find the output**\n",
    "\n",
    "What is the result of this code?\n",
    "\n",
    "\n",
    "\n",
    "println(if (true) if (false) { \"A\" } else \"B\")\n",
    "\n",
    "Hint: if you don't understand the task, you can copy the code into your IDE.\n",
    "\n",
    "Select one option from the list\n",
    "\n",
    "true\n",
    "\n",
    "false\n",
    "\n",
    "It won't compile because of the first if.       T\n",
    "\n",
    "It won't compile because of the second if."
   ]
  },
  {
   "metadata": {},
   "cell_type": "code",
   "outputs": [],
   "execution_count": null,
   "source": [
    "\n",
    "\n",
    "\n",
    "\n",
    "\n",
    "\n",
    "\n",
    "\n",
    "\n",
    "\n"
   ]
  },
  {
   "metadata": {},
   "cell_type": "markdown",
   "source": [
    "**Complete a function to compare two numbers**\n",
    "\n",
    "You have a Kotlin function 'checkNumberRelations' that takes two integers as input and returns a string message comparing the inputs. However, some essential parts of this function are missing. Your task is to complete this function by replacing blank spots (marked with ▭) to make it work correctly. Function should return 'The number a is larger than b.' if a is greater than b, 'The number a is less than b.' if a is less than b and 'The numbers a and b are equal.' if a and b are equal.\"\n",
    "\n",
    "Fill in the gaps with the relevant elements"
   ]
  },
  {
   "metadata": {},
   "cell_type": "code",
   "outputs": [],
   "execution_count": null,
   "source": [
    "fun checkNumberRelations(a: Int, b: Int): String{\n",
    "\n",
    "    if (a > b){\n",
    "        return \"The number $a is less than $b\"\n",
    "    }else if (a < b){\n",
    "        return \"The number $a is less than $b.\"\n",
    "    }else{\n",
    "        return \"The numbers $a and $b are equel.\"\n",
    "    }\n",
    "}"
   ]
  },
  {
   "metadata": {},
   "cell_type": "code",
   "outputs": [],
   "execution_count": null,
   "source": [
    "\n",
    "\n",
    "\n",
    "\n",
    "\n",
    "\n",
    "\n",
    "\n",
    "\n",
    "\n"
   ]
  },
  {
   "metadata": {},
   "cell_type": "markdown",
   "source": [
    "**Finding the maximum of two numbers**\n",
    "\n",
    "Implement a simple program in Kotlin that finds the maximum of two numbers 'a' and 'b'. Use decision-making control structures to evaluate the larger number. Assign this larger value to the variable 'max'. Display a message to the console, using string templates, that indicates the maximum value between 'a' and 'b'. Fill the blanks in the code to accomplish this task.\n",
    "\n",
    "Fill in the gaps with the relevant elements"
   ]
  },
  {
   "metadata": {},
   "cell_type": "code",
   "outputs": [],
   "execution_count": null,
   "source": [
    "val a = 5\n",
    "val b = 3\n",
    "var max: Int\n",
    "\n",
    "if (a > b){\n",
    "    max = a\n",
    "}else{\n",
    "    max = b\n",
    "}\n",
    "\n",
    "println(\"The maximum between $a and $b is $max\")"
   ]
  },
  {
   "metadata": {},
   "cell_type": "code",
   "outputs": [],
   "execution_count": null,
   "source": [
    "\n",
    "\n",
    "\n",
    "\n",
    "\n",
    "\n",
    "\n",
    "\n",
    "\n",
    "\n"
   ]
  },
  {
   "metadata": {},
   "cell_type": "markdown",
   "source": [
    "**Odd or even**\n",
    "\n",
    "Write a program that reads a number and prints EVEN if it is even. Otherwise, the program should print ODD.\n",
    "\n",
    "Sample Input 1:\n",
    "\n",
    "5\n",
    "\n",
    "Sample Output 1:\n",
    "\n",
    "ODD\n",
    "\n",
    "Sample Input 2:\n",
    "\n",
    "-5\n",
    "\n",
    "Sample Output 2:\n",
    "\n",
    "ODD"
   ]
  },
  {
   "metadata": {},
   "cell_type": "code",
   "outputs": [],
   "execution_count": null,
   "source": [
    "val number = readLine()?.toInt() ?: 0\n",
    "if (number % 2 == 0) {\n",
    "    println(\"EVEN\")\n",
    "} else {\n",
    "    println(\"ODD\")\n",
    "}"
   ]
  },
  {
   "metadata": {},
   "cell_type": "code",
   "outputs": [],
   "execution_count": null,
   "source": [
    "\n",
    "\n",
    "\n",
    "\n",
    "\n",
    "\n",
    "\n",
    "\n",
    "\n",
    "\n",
    "\n",
    "\n"
   ]
  },
  {
   "metadata": {},
   "cell_type": "markdown",
   "source": [
    "**Check a number is positive**\n",
    "\n",
    "Write a program that reads a number and prints YES if it is positive. Otherwise, the program should print NO.\n",
    "\n",
    "Do not forget that zero is not a positive number.\n",
    "\n",
    "Sample Input 1:\n",
    "\n",
    "7\n",
    "\n",
    "Sample Output 1:\n",
    "\n",
    "YES"
   ]
  },
  {
   "metadata": {},
   "cell_type": "code",
   "outputs": [],
   "execution_count": null,
   "source": "print(if (readln().toInt() > 0) \"YES\" else \"NO\")"
  }
 ],
 "metadata": {
  "kernelspec": {
   "display_name": "Kotlin",
   "language": "kotlin",
   "name": "kotlin"
  },
  "language_info": {
   "name": "kotlin",
   "version": "1.9.23",
   "mimetype": "text/x-kotlin",
   "file_extension": ".kt",
   "pygments_lexer": "kotlin",
   "codemirror_mode": "text/x-kotlin",
   "nbconvert_exporter": ""
  }
 },
 "nbformat": 4,
 "nbformat_minor": 0
}
