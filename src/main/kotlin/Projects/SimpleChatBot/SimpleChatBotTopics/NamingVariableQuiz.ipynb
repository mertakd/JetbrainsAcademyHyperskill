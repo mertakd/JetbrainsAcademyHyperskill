{
 "cells": [
  {
   "cell_type": "code",
   "execution_count": null,
   "metadata": {
    "collapsed": true
   },
   "outputs": [],
   "source": [
    ""
   ]
  },
  {
   "metadata": {},
   "cell_type": "markdown",
   "source": [
    "**A valid or invalid name**\n",
    "\n",
    "You want to declare a variable named val.\n",
    "\n",
    "\n",
    "Is this name valid? Why? The name is valid when the program works.\n",
    "\n",
    "Select one option from the list\n",
    "\n",
    "Not valid because it starts with a letter.\n",
    "\n",
    "Not valid because it does not make sense for humans (what is val?)\n",
    "\n",
    "Not valid because it is a keyword.  T\n",
    "\n",
    "A valid name."
   ]
  },
  {
   "metadata": {},
   "cell_type": "code",
   "outputs": [],
   "execution_count": null,
   "source": [
    "\n",
    "\n",
    "\n",
    "\n",
    "\n",
    "\n",
    "\n",
    "\n",
    "\n"
   ]
  },
  {
   "metadata": {},
   "cell_type": "markdown",
   "source": [
    "**Valid naming of variables**\n",
    "\n",
    "Find all valid variable names.\n",
    "\n",
    "Select one or more options from the list\n",
    "\n",
    "var\n",
    "\n",
    "number1  T\n",
    "\n",
    "1apple\n",
    "\n",
    "totalSum   T"
   ]
  },
  {
   "metadata": {},
   "cell_type": "code",
   "outputs": [],
   "execution_count": null,
   "source": [
    "\n",
    "\n",
    "\n",
    "\n",
    "\n",
    "\n",
    "\n",
    "\n",
    "\n"
   ]
  },
  {
   "metadata": {},
   "cell_type": "markdown",
   "source": [
    "**Where valid names?**\n",
    "\n",
    "Select all valid names of variables.\n",
    "\n",
    "Select one or more options from the list\n",
    "\n",
    "_var        T\n",
    "\n",
    "5var\n",
    "\n",
    "var5       T\n",
    "\n",
    "var"
   ]
  },
  {
   "metadata": {},
   "cell_type": "code",
   "outputs": [],
   "execution_count": null,
   "source": [
    "\n",
    "\n",
    "\n",
    "\n",
    "\n",
    "\n",
    "\n",
    "\n",
    "\n"
   ]
  },
  {
   "metadata": {},
   "cell_type": "markdown",
   "source": [
    "**The last symbol of a variable**\n",
    "\n",
    "Select all correct cases. The name of a variable can end with ...\n",
    "\n",
    "Select one or more options from the list\n",
    "\n",
    "\n",
    "\n",
    "Dollar sign ($)\n",
    "\n",
    "Any digit (0..9)      T\n",
    "\n",
    "Letter of the Latin alphabet (a..z)     T\n",
    "\n",
    "Underscore (_)          T"
   ]
  },
  {
   "metadata": {},
   "cell_type": "code",
   "outputs": [],
   "execution_count": null,
   "source": [
    "\n",
    "\n",
    "\n",
    "\n",
    "\n",
    "\n",
    "\n",
    "\n",
    "\n",
    "\n",
    "\n"
   ]
  },
  {
   "metadata": {},
   "cell_type": "markdown",
   "source": [
    "**Moons of Neptune**\n",
    "\n",
    "Let's say you want to print the number of known satellites of Neptune, which is equal to 14. Which method is correct in terms of coding style conventions?\n",
    "\n",
    "a)\n",
    "\n",
    "println(14)\n",
    "\n",
    "b)\n",
    "\n",
    "var s = 14\n",
    "println(s)\n",
    "\n",
    "c)\n",
    "\n",
    "const val SATELLITES_OF_NEPTUNE = 14\n",
    "\n",
    "fun main() {\n",
    "    println(SATELLITES_OF_NEPTUNE)\n",
    "}\n",
    "\n",
    "d)\n",
    "\n",
    "print(\"Satellites of Neptune: \")\n",
    "print(14)\n",
    "\n",
    "Select one option from the list\n",
    "\n",
    "a\n",
    "\n",
    "b\n",
    "\n",
    "c         T\n",
    "\n",
    "d"
   ]
  },
  {
   "metadata": {},
   "cell_type": "code",
   "outputs": [],
   "execution_count": null,
   "source": [
    "\n",
    "\n",
    "\n",
    "\n",
    "\n",
    "\n",
    "\n",
    "\n",
    "\n"
   ]
  },
  {
   "metadata": {},
   "cell_type": "markdown",
   "source": [
    "**Find valid declarations**\n",
    "\n",
    "Which of the following are valid variable declarations? Choose all that apply.\n",
    "\n",
    "Select one or more options from the list\n",
    "\n",
    "\n",
    "\n",
    "val _ = \"im a valid variable name\"\n",
    "\n",
    "val persons = 10            T\n",
    "\n",
    "val numofpets = 2          T\n",
    "\n",
    "val fun = 5\n",
    "\n",
    "val coinsInPocket = 42          T\n",
    "\n",
    "val var = \"some string\""
   ]
  },
  {
   "metadata": {},
   "cell_type": "code",
   "outputs": [],
   "execution_count": null,
   "source": [
    "\n",
    "\n",
    "\n",
    "\n",
    "\n",
    "\n",
    "\n",
    "\n"
   ]
  },
  {
   "metadata": {},
   "cell_type": "markdown",
   "source": [
    "**Correct declaration**\n",
    "\n",
    "Which of the following is a valid variable declaration?\n",
    "\n",
    "It is possible to use underscores to make numeric constants more readable\n",
    "Select one option from the list\n",
    "\n",
    "var #CONS = 2_000.0\n",
    "\n",
    "var _ = 6000_.0\n",
    "\n",
    "var postLikes = 6_000    T\n",
    "\n",
    "var var = 3_0_00.0\n",
    "\n",
    "var %C = 6_000_"
   ]
  },
  {
   "metadata": {},
   "cell_type": "code",
   "outputs": [],
   "execution_count": null,
   "source": [
    "\n",
    "\n",
    "\n",
    "\n",
    "\n",
    "\n",
    "\n",
    "\n",
    "\n"
   ]
  },
  {
   "metadata": {},
   "cell_type": "markdown",
   "source": [
    "**Correct declaring a variable**\n",
    "\n",
    "You want to declare a variable named n1.\n",
    "\n",
    "\n",
    "Is this name valid? Why? The name is valid when the program will work.\n",
    "\n",
    "Select one option from the list\n",
    "\n",
    "\n",
    "\n",
    "Not valid because it is a keyword.\n",
    "\n",
    "A valid name.                              T\n",
    "\n",
    "Not valid because it ends with a digit.\n",
    "\n",
    "Not valid because it does not make sense.\n"
   ]
  },
  {
   "metadata": {},
   "cell_type": "code",
   "outputs": [],
   "execution_count": null,
   "source": [
    "\n",
    "\n",
    "\n",
    "\n",
    "\n",
    "\n",
    "\n",
    "\n",
    "\n"
   ]
  },
  {
   "metadata": {},
   "cell_type": "markdown",
   "source": [
    "\n",
    "The best name for a variable\n",
    "\n",
    "Select the best name for a variable according to the naming conventions.\n",
    "\n",
    "Select one option from the list\n",
    "\n",
    "\n",
    "\n",
    "_uha\n",
    "\n",
    "user_home_address\n",
    "\n",
    "userhomeaddress\n",
    "\n",
    "userHomeAddress           T\n"
   ]
  },
  {
   "metadata": {},
   "cell_type": "code",
   "outputs": [],
   "execution_count": null,
   "source": [
    "\n",
    "\n",
    "\n",
    "\n",
    "\n",
    "\n"
   ]
  },
  {
   "metadata": {},
   "cell_type": "markdown",
   "source": [
    "**The first symbol of a variable**\n",
    "\n",
    "Select all valid options. The name of a variable can start with ...\n",
    "\n",
    "Select one or more options from the list\n",
    "\n",
    "\n",
    "\n",
    "Any digit (0..9)\n",
    "\n",
    "A letter of the Latin alphabet (a..z)      T\n",
    "\n",
    "A dollar sign ($)\n",
    "\n",
    "An underscore (_)                          T"
   ]
  },
  {
   "metadata": {},
   "cell_type": "code",
   "outputs": [],
   "execution_count": null,
   "source": [
    "\n",
    "\n",
    "\n",
    "\n",
    "\n",
    "\n",
    "\n",
    "\n",
    "\n"
   ]
  },
  {
   "metadata": {},
   "cell_type": "markdown",
   "source": [
    "**Valid and invalid names**\n",
    "\n",
    "Select one valid name of a variable.\n",
    "\n",
    "Select one option from the list\n",
    "\n",
    "\n",
    "firstName   T\n",
    "\n",
    "val\n",
    "\n",
    "1name\n",
    "\n",
    "var"
   ]
  },
  {
   "metadata": {},
   "cell_type": "code",
   "outputs": [],
   "execution_count": null,
   "source": [
    "\n",
    "\n",
    "\n",
    "\n",
    "\n",
    "\n",
    "\n",
    "\n"
   ]
  },
  {
   "metadata": {},
   "cell_type": "markdown",
   "source": [
    "**Variable naming conventions**\n",
    "\n",
    "Select all the variable names that don't follow the Kotlin naming conventions:\n",
    "\n",
    "Select one or more options from the list\n",
    "\n",
    "\n",
    "PhoneNumber      T\n",
    "\n",
    "phoneNumber\n",
    "\n",
    "Phone_Number       T\n",
    "\n",
    "phonenumber         T"
   ]
  },
  {
   "metadata": {},
   "cell_type": "code",
   "outputs": [],
   "execution_count": null,
   "source": [
    "\n",
    "\n",
    "\n",
    "\n",
    "\n",
    "\n",
    "\n"
   ]
  },
  {
   "metadata": {},
   "cell_type": "markdown",
   "source": ""
  }
 ],
 "metadata": {
  "kernelspec": {
   "display_name": "Kotlin",
   "language": "kotlin",
   "name": "kotlin"
  },
  "language_info": {
   "name": "kotlin",
   "version": "1.9.23",
   "mimetype": "text/x-kotlin",
   "file_extension": ".kt",
   "pygments_lexer": "kotlin",
   "codemirror_mode": "text/x-kotlin",
   "nbconvert_exporter": ""
  }
 },
 "nbformat": 4,
 "nbformat_minor": 0
}
