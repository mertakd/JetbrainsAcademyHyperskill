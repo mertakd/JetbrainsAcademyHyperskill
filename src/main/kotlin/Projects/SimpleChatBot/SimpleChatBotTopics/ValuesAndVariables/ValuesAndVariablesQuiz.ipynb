{
 "cells": [
  {
   "cell_type": "code",
   "execution_count": null,
   "metadata": {
    "collapsed": true
   },
   "outputs": [],
   "source": [
    ""
   ]
  },
  {
   "metadata": {},
   "cell_type": "markdown",
   "source": [
    "**The assignment operator**\n",
    "\n",
    "The assignment operator in Kotlin looks like\n",
    "\n",
    "Select one option from the list\n",
    "\n",
    "=              T\n",
    "\n",
    "->\n",
    "\n",
    "<-\n",
    "\n",
    ":="
   ]
  },
  {
   "metadata": {},
   "cell_type": "code",
   "outputs": [],
   "execution_count": null,
   "source": [
    "\n",
    "\n",
    "\n",
    "\n",
    "\n",
    "\n"
   ]
  },
  {
   "metadata": {},
   "cell_type": "markdown",
   "source": [
    "**Labyrinth in variables**\n",
    "\n",
    "Given the following code:\n",
    "\n",
    "val a = 3\n",
    "val b = 5\n",
    "val c = 4\n",
    "val d = c\n",
    "val e = a\n",
    "val f = d\n",
    "\n",
    "What is the value of f?\n",
    "\n",
    "\n",
    "\n",
    "4   T\n",
    "\n",
    "5\n",
    "\n",
    "d\n",
    "\n",
    "f"
   ]
  },
  {
   "metadata": {},
   "cell_type": "code",
   "outputs": [],
   "execution_count": null,
   "source": [
    "\n",
    "\n",
    "\n",
    "\n",
    "\n",
    "\n"
   ]
  },
  {
   "metadata": {},
   "cell_type": "markdown",
   "source": [
    "_**_Easy value search_**_\n",
    "\n",
    "val animal = \"hedgehog\"\n",
    "\n",
    "What is the value assigned to the variable animal in the code snippet above?\n",
    "\n",
    "Find the value as it is represented in code.\n",
    "\n",
    "\n",
    "\n",
    "animal\n",
    "\n",
    "animal = \"hedgehog\"\n",
    "\n",
    "val animal\n",
    "\n",
    "val\n",
    "\n",
    "\"hedgehog\"           T\n",
    "\n",
    "=\n"
   ]
  },
  {
   "metadata": {},
   "cell_type": "code",
   "outputs": [],
   "execution_count": null,
   "source": [
    "\n",
    "\n",
    "\n",
    "\n"
   ]
  },
  {
   "metadata": {},
   "cell_type": "markdown",
   "source": [
    "**Declaring an immutable variable**\n",
    "\n",
    "Which keyword starts the declaration of a read-only variable?\n",
    "\n",
    "Select one option from the list\n",
    "\n",
    "var\n",
    "\n",
    "val                   T\n",
    "\n",
    "final\n",
    "\n",
    "let"
   ]
  },
  {
   "metadata": {},
   "cell_type": "code",
   "outputs": [],
   "execution_count": null,
   "source": [
    "\n",
    "\n",
    "\n",
    "\n",
    "\n",
    "\n"
   ]
  },
  {
   "metadata": {},
   "cell_type": "markdown",
   "source": [
    "**Declaring a mutable variable**\n",
    "\n",
    "Which keyword is used to declare a mutable variable?\n",
    "\n",
    "Select one option from the list\n",
    "\n",
    "no keyword needed\n",
    "\n",
    "let\n",
    "\n",
    "now\n",
    "\n",
    "val\n",
    "\n",
    "var        T"
   ]
  },
  {
   "metadata": {},
   "cell_type": "code",
   "outputs": [],
   "execution_count": null,
   "source": [
    "\n",
    "\n",
    "\n",
    "\n",
    "\n",
    "\n",
    "\n",
    "\n"
   ]
  },
  {
   "metadata": {},
   "cell_type": "markdown",
   "source": [
    "**Declarations**\n",
    "\n",
    "Select all correct declarations of variables.\n",
    "\n",
    "Select one or more options from the list\n",
    "\n",
    "var x = 10                T\n",
    "\n",
    "val greeting = \"Hi\"        T\n",
    "\n",
    "name = \"John\"\n",
    "\n",
    "let cost = 500\n",
    "\n",
    "val = 5"
   ]
  },
  {
   "metadata": {},
   "cell_type": "code",
   "outputs": [],
   "execution_count": null,
   "source": [
    "\n",
    "\n",
    "\n",
    "\n",
    "\n",
    "\n",
    "\n",
    "\n",
    "\n"
   ]
  },
  {
   "metadata": {},
   "cell_type": "markdown",
   "source": [
    "**What is the value of a variable**\n",
    "\n",
    "Given the following code:\n",
    "\n",
    "var s1 = \"kotlin\"\n",
    "var s2 = \"java\"\n",
    "var s3 = \"scala\"\n",
    "s3 = s1\n",
    "s1 = s2\n",
    "s2 = s3\n",
    "\n",
    "What is the value of s2?\n",
    "\n",
    "\"java\"\n",
    "\n",
    "\"kotlin\"           T\n",
    "\n",
    "\"s3\"\n",
    "\n",
    "\"scala\"\n",
    "\n",
    "\"s2\""
   ]
  },
  {
   "metadata": {},
   "cell_type": "code",
   "outputs": [],
   "execution_count": null,
   "source": [
    "\n",
    "\n",
    "\n",
    "\n",
    "\n",
    "\n",
    "\n",
    "\n",
    "\n"
   ]
  },
  {
   "metadata": {},
   "cell_type": "markdown",
   "source": [
    "**The name of a variable**\n",
    "\n",
    "Given the following declaration of a variable:\n",
    "\n",
    "val speed = \"high\"\n",
    "\n",
    "What is the name of this variable?\n",
    "\n",
    "Select one option from the list\n",
    "\n",
    "high\n",
    "\n",
    "\"high\"\n",
    "\n",
    "speed          T\n",
    "\n",
    "val"
   ]
  },
  {
   "metadata": {},
   "cell_type": "code",
   "outputs": [],
   "execution_count": null,
   "source": [
    "\n",
    "\n",
    "\n",
    "\n",
    "\n",
    "\n",
    "\n",
    "\n",
    "\n"
   ]
  },
  {
   "metadata": {},
   "cell_type": "markdown",
   "source": [
    "**What can you say about variables in Kotlin?**\n",
    "\n",
    "Select all the correct statements about variables in Kotlin.\n",
    "\n",
    "Select one or more options from the list\n",
    "\n",
    "\n",
    "It is impossible to change the value of a variable declared with the keyword var.\n",
    "\n",
    "Every variable has a name.   T\n",
    "\n",
    "In many cases, it is better to use immutable variables instead of mutable ones.   T\n",
    "\n",
    "It is impossible to access the value of a variable declared with the keyword val."
   ]
  },
  {
   "metadata": {},
   "cell_type": "markdown",
   "source": ""
  },
  {
   "metadata": {},
   "cell_type": "code",
   "outputs": [],
   "execution_count": null,
   "source": [
    "\n",
    "\n",
    "\n",
    "\n",
    "\n",
    "\n",
    "\n"
   ]
  },
  {
   "metadata": {},
   "cell_type": "markdown",
   "source": [
    "**Correct statements about variables in Kotlin**\n",
    "\n",
    "Select all the correct statements about variables in Kotlin.\n",
    "\n",
    "\n",
    "A variable can store only a string as its value.\n",
    "\n",
    "Variable declared with the var keyword can be changed multiple times  T\n",
    "\n",
    "To declare a variable, you should write var or val before the name.   T\n",
    "\n",
    "It is possible to initialize a variable with the value of another variable.   T\n",
    "\n"
   ]
  },
  {
   "metadata": {},
   "cell_type": "code",
   "outputs": [],
   "execution_count": null,
   "source": [
    "\n",
    "\n",
    "\n",
    "\n",
    "\n",
    "\n",
    "\n",
    "\n"
   ]
  },
  {
   "metadata": {},
   "cell_type": "markdown",
   "source": [
    "**Select the wrong line**\n",
    "\n",
    "Select the first incorrect line in the code below:\n",
    "\n",
    "\n",
    "1: val name = \"John Smith\"\n",
    "2: val address = \"792 Alton St. Hopkins, MN 55343\"\n",
    "3: var age = 43\n",
    "4: address = \"9 Honey Creek Ave. Largo, FL 33771\"\n",
    "5: age = 44\n",
    "\n",
    "\n",
    "Select one option from the list\n",
    "\n",
    "1\n",
    "\n",
    "2\n",
    "\n",
    "3\n",
    "\n",
    "4  T\n",
    "\n",
    "5\n"
   ]
  },
  {
   "metadata": {},
   "cell_type": "code",
   "outputs": [],
   "execution_count": null,
   "source": [
    "\n",
    "\n",
    "\n",
    "\n",
    "\n",
    "\n",
    "\n"
   ]
  },
  {
   "metadata": {},
   "cell_type": "markdown",
   "source": [
    "**Find the first incorrect line**\n",
    "\n",
    "Select the first incorrect line in the code below:\n",
    "\n",
    "\n",
    "1: var counter = 3\n",
    "2: counter = 2\n",
    "3: counter = \"ONE!\"\n",
    "4: counter = \"Finished\"\n",
    "\n",
    "\n",
    "All lines are numbered.\n",
    "Select one option from the list\n",
    "\n",
    "1\n",
    "\n",
    "2\n",
    "\n",
    "3    T\n",
    "\n",
    "4"
   ]
  },
  {
   "metadata": {},
   "cell_type": "code",
   "outputs": [],
   "execution_count": null,
   "source": [
    "\n",
    "\n",
    "\n",
    "\n",
    "\n",
    "\n"
   ]
  },
  {
   "metadata": {},
   "cell_type": "markdown",
   "source": [
    "**Assignments**\n",
    "\n",
    "Given four variables. Assign values to these variables.\n",
    "\n",
    "The variable one should be 1, two should be 2, three should be 3, and four should be 4.\n",
    "\n",
    "Don't mind code quality, just complete the task. You will soon find out how to optimize it."
   ]
  },
  {
   "metadata": {},
   "cell_type": "code",
   "outputs": [],
   "execution_count": null,
   "source": [
    "val one = 1\n",
    "val two = 2\n",
    "val three = 3\n",
    "val four = 4\n",
    "println(\"$one $two $three $four\")"
   ]
  },
  {
   "metadata": {},
   "cell_type": "code",
   "outputs": [],
   "execution_count": null,
   "source": [
    "val (one, two, three, four) = (1..4).toList()\n",
    "println(\"$one $two $three $four\")"
   ]
  },
  {
   "metadata": {},
   "cell_type": "code",
   "outputs": [],
   "execution_count": null,
   "source": [
    "println(\n",
    "    intArrayOf(1, 2, 3, 4).joinToString(\" \")\n",
    ")"
   ]
  },
  {
   "metadata": {},
   "cell_type": "code",
   "outputs": [],
   "execution_count": null,
   "source": [
    "\n",
    "\n",
    "\n",
    "\n",
    "\n",
    "\n",
    "\n",
    "\n",
    "\n"
   ]
  },
  {
   "metadata": {},
   "cell_type": "markdown",
   "source": [
    "**Fix declarations**\n",
    "\n",
    "Given two variables a and b with invalid declarations. Fix these declarations. Ignore code style error for now.\n",
    "\n",
    "\n",
    "fun main() {\n",
    "    // Fix declaration. Do not touch the lines above\n",
    "    val a = 512343\n",
    "    val b = 3431231\n",
    "    // Do not touch the lines below\n",
    "    println(\"$a $b\")\n",
    "}\n"
   ]
  },
  {
   "metadata": {},
   "cell_type": "code",
   "outputs": [],
   "execution_count": null,
   "source": ""
  },
  {
   "metadata": {},
   "cell_type": "code",
   "outputs": [],
   "execution_count": null,
   "source": [
    "\n",
    "\n",
    "\n",
    "\n",
    "\n",
    "\n",
    "\n",
    "\n"
   ]
  },
  {
   "metadata": {},
   "cell_type": "markdown",
   "source": [
    "**Very Big Number**\n",
    "\n",
    "Declare a variable named bigNumber and initialize it with the integer value 100_000_000 (underscores are admissible here). Don't print anything else!\n",
    "\n",
    "fun main() {\n",
    "    // do not touch the lines above\n",
    "    // declare and initialize a variable here\n",
    "    val bigNumber = 100_000_000\n",
    "\n",
    "    // do not touch the lines below\n",
    "\n",
    "    println(bigNumber)\n",
    "}\n"
   ]
  },
  {
   "metadata": {},
   "cell_type": "code",
   "outputs": [],
   "execution_count": null,
   "source": [
    "\n",
    "\n",
    "\n",
    "\n",
    "\n",
    "\n",
    "\n",
    "\n",
    "\n",
    "\n",
    "\n"
   ]
  },
  {
   "metadata": {},
   "cell_type": "markdown",
   "source": [
    "**Correct description about variables**\n",
    "\n",
    "Choose all the correct statements about variables.\n",
    "\n",
    "Select one or more options from the list\n",
    "\n",
    "The name of a variable can be changed\n",
    "\n",
    "The value of a variable declared with the keyword var can be changed only once\n",
    "\n",
    "A variable has a name (an identifier) T\n",
    "\n",
    "A variable can store a value      T"
   ]
  },
  {
   "metadata": {},
   "cell_type": "code",
   "outputs": [],
   "execution_count": null,
   "source": [
    "\n",
    "\n",
    "\n",
    "\n",
    "\n",
    "\n",
    "\n"
   ]
  },
  {
   "metadata": {},
   "cell_type": "markdown",
   "source": [
    "**val or var?**\n",
    "\n",
    "Here is a variable called number. Change its value to 5.\n",
    "\n",
    "Note that there are at least two ways to do it.\n",
    "\n",
    "Write a program in Kotlin\n",
    "\n",
    "\n",
    "// Do not touch the line above\n",
    "    var number = 2\n",
    "    number = 5\n",
    "    // Do not touch the lines below\n",
    "    print(number)\n"
   ]
  },
  {
   "metadata": {},
   "cell_type": "code",
   "outputs": [],
   "execution_count": null,
   "source": [
    "\n",
    "\n",
    "\n",
    "\n",
    "\n",
    "\n",
    "\n",
    "\n"
   ]
  },
  {
   "metadata": {},
   "cell_type": "markdown",
   "source": [
    "**Fix the program**\n",
    "You are given a program that must print the value of string, but it does not work. Please fix it.\n",
    "\n",
    "Sample Output\n",
    "\n",
    "Hello, Kotlin!\n",
    "\n",
    "Write a program in Kotlin\n",
    "\n",
    "fun main() {\n",
    "    var string = \"Hello, World!\"\n",
    "    string = \"Hello, Kotlin!\"\n",
    "    println(string)\n",
    "}\n"
   ]
  },
  {
   "metadata": {},
   "cell_type": "code",
   "outputs": [],
   "execution_count": null,
   "source": [
    "\n",
    "\n",
    "\n",
    "\n",
    "\n",
    "\n",
    "\n",
    "\n"
   ]
  },
  {
   "metadata": {},
   "cell_type": "markdown",
   "source": ""
  },
  {
   "metadata": {},
   "cell_type": "markdown",
   "source": [
    "**Assigning variables in an educational app**\n",
    "\n",
    "Suppose you are developing an application for a learning platform. In the main function you have to assign two variables: a day count to track a learner's progress and language to indicate which programming language is being studied. Your application needs to display greeting to the user, showing the language being learned and indicating the current day of learning increased by 1. There are three blanks in your code that you need to fill. What would you insert into these blanks?"
   ]
  },
  {
   "metadata": {
    "ExecuteTime": {
     "end_time": "2025-06-14T10:59:29.395359300Z",
     "start_time": "2025-06-14T10:59:29.222055500Z"
    }
   },
   "cell_type": "code",
   "source": [
    "var count = 10\n",
    "val language = \"Kotlin\"\n",
    "println(\"Hello, World! You are learning $language\")\n",
    "count += 1\n",
    "println(\"This is your $count day of learning\")"
   ],
   "outputs": [
    {
     "name": "stdout",
     "output_type": "stream",
     "text": [
      "Hello, World! You are learning Kotlin\r\n",
      "This is your 11 day of learning\r\n"
     ]
    }
   ],
   "execution_count": 1
  },
  {
   "metadata": {},
   "cell_type": "code",
   "outputs": [],
   "execution_count": null,
   "source": [
    "\n",
    "\n",
    "\n",
    "\n",
    "\n",
    "\n",
    "\n",
    "\n",
    "\n",
    "\n",
    "\n"
   ]
  },
  {
   "metadata": {},
   "cell_type": "markdown",
   "source": [
    "**Swap**\n",
    "\n",
    "Suppose you have two variables a and b that store some numbers. Swap the values of these variables. For example, if a = 3 and b = 5, then after executing the code, a will contain 5, and b will contain 3.\n",
    "\n",
    "Try to do it with the help of the third variable c. You can imagine that variables are just boxes with values, and you need to swap their contents, like this:"
   ]
  },
  {
   "metadata": {},
   "cell_type": "code",
   "outputs": [],
   "execution_count": null,
   "source": [
    "// Don't be afraid of the code below!\n",
    "// In the future, you will definitely cope with it, but for now just ignore it.\n",
    "var (a, b) = readLine()!!.split(\" \").map { it.toInt() }\n",
    "\n",
    "// Write only exchange actions here. Do not touch the lines above\n",
    "val c = a\n",
    "a = b\n",
    "b = c\n",
    "\n",
    "// Do not touch the lines below\n",
    "print(\"$a $b\")\n",
    "\n",
    "//val c = a: a'nın değerini geçici olarak c değişkenine sakladık.\n",
    "//a = b: b'nin değeri artık a'ya atandı.\n",
    "//b = c: b'ye, orijinal a'nın değeri (yani c) atandı.\n",
    "//Bu şekilde a ve b'nin değerlerini başarıyla takas etmiş olduk."
   ]
  }
 ],
 "metadata": {
  "kernelspec": {
   "display_name": "Kotlin",
   "language": "kotlin",
   "name": "kotlin"
  },
  "language_info": {
   "name": "kotlin",
   "version": "1.9.23",
   "mimetype": "text/x-kotlin",
   "file_extension": ".kt",
   "pygments_lexer": "kotlin",
   "codemirror_mode": "text/x-kotlin",
   "nbconvert_exporter": ""
  }
 },
 "nbformat": 4,
 "nbformat_minor": 0
}
