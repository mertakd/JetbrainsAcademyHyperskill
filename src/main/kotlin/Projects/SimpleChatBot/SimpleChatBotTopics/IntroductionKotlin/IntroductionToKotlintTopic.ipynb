{
 "cells": [
  {
   "cell_type": "code",
   "execution_count": null,
   "metadata": {
    "collapsed": true
   },
   "outputs": [],
   "source": [
    ""
   ]
  },
  {
   "metadata": {},
   "cell_type": "markdown",
   "source": [
    "\n",
    "\n",
    "---\n",
    "\n",
    "### 🧠 **Kotlin Nedir?**\n",
    "\n",
    "* JetBrains tarafından geliştirilen modern, açık ve anlaşılır sözdizimine sahip bir programlama dilidir.\n",
    "* Java'ya benzer temel sözdizimi vardır ama birçok gelişmiş özelliğe sahiptir (örneğin: **extension functions**, **type inference**).\n",
    "\n",
    "---\n",
    "\n",
    "### 🕰️ **Tarihçesi:**\n",
    "\n",
    "* İlk kez 2011’de duyuruldu, 2016’da ilk kararlı sürümü yayınlandı.\n",
    "* 2017’de Google, Android geliştirme için **resmi destek** duyurdu.\n",
    "* İsmini Rusya’daki Kotlin Adası’ndan alır.\n",
    "\n",
    "---\n",
    "\n",
    "### 💻 **Kullanım Alanları:**\n",
    "\n",
    "* **JVM (Java Virtual Machine)**\n",
    "* **Android** (mobil uygulama geliştirme)\n",
    "* **JavaScript** (web uygulamaları)\n",
    "* **Native** (Windows, Linux, iOS, macOS)\n",
    "* **Multiplatform** (platformlar arası kod paylaşımı)\n",
    "\n",
    "---\n",
    "\n",
    "### 🔧 **Özellikleri:**\n",
    "\n",
    "* Nesne yönelimli ve fonksiyonel programlamayı destekler.\n",
    "* Gerçek dünya problemlerine odaklanan \"pragmatik\" bir dildir.\n",
    "* Anonim fonksiyonlar, yüksek mertebeden fonksiyonlar gibi gelişmiş özellikler içerir.\n",
    "* IntelliJ IDEA, Android Studio gibi modern IDE’lerle uyumludur.\n",
    "\n",
    "---\n",
    "\n",
    "### ✅ **Sonuç:**\n",
    "\n",
    "Kotlin, çok yönlü, güçlü ve geliştirici dostu bir dildir. Android'den web'e, sunucudan yerel uygulamalara kadar geniş bir kullanım alanına sahiptir. Dünya çapında giderek daha fazla tercih edilmektedir.\n",
    "\n",
    "---\n",
    "\n",
    "\n"
   ]
  },
  {
   "metadata": {},
   "cell_type": "markdown",
   "source": ""
  }
 ],
 "metadata": {
  "kernelspec": {
   "display_name": "Kotlin",
   "language": "kotlin",
   "name": "kotlin"
  },
  "language_info": {
   "name": "kotlin",
   "version": "1.9.23",
   "mimetype": "text/x-kotlin",
   "file_extension": ".kt",
   "pygments_lexer": "kotlin",
   "codemirror_mode": "text/x-kotlin",
   "nbconvert_exporter": ""
  }
 },
 "nbformat": 4,
 "nbformat_minor": 0
}
