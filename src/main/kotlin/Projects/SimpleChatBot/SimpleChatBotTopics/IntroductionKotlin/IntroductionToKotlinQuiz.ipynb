{
 "cells": [
  {
   "cell_type": "code",
   "execution_count": null,
   "metadata": {
    "collapsed": true
   },
   "outputs": [],
   "source": [
    ""
   ]
  },
  {
   "metadata": {},
   "cell_type": "markdown",
   "source": [
    "**The purpose of Kotlin**\n",
    "\n",
    "What is Kotlin?\n",
    "\n",
    "Select one option from the list\n",
    "\n",
    "It is an actively developing language, but not yet ready for industrial use.\n",
    "\n",
    "It is an academic language designed to explore innovative ideas in computer science.\n",
    "\n",
    "It is a training programming language designed to teach students.\n",
    "\n",
    "It is a pragmatic language designed to solve real-world problems. T"
   ]
  },
  {
   "metadata": {},
   "cell_type": "markdown",
   "source": ""
  },
  {
   "metadata": {},
   "cell_type": "markdown",
   "source": [
    "**Interoperability with Java**\n",
    "\n",
    "Select the correct statement about Kotlin's interoperability with Java.\n",
    "\n",
    "Select one option from the list\n",
    "\n",
    "Kotlin works great with all existing Java code and libraries. T\n",
    "\n",
    "Kotlin and Java have limited compatibility.\n",
    "\n",
    "Kotlin isn't compatible with Java."
   ]
  },
  {
   "metadata": {},
   "cell_type": "markdown",
   "source": ""
  },
  {
   "metadata": {},
   "cell_type": "markdown",
   "source": [
    "**Displaying a greeting message in Kotlin**\n",
    "\n",
    "Tom is learning Kotlin programming and he wants to display his name along with a greeting message on the console. He has already written some code but left some parts as blank. He wants to display the 'Hello, Kotlin learner!' message on the console. Solve the problem by helping Tom to fill the blanks in the code."
   ]
  },
  {
   "metadata": {},
   "cell_type": "code",
   "outputs": [],
   "execution_count": null,
   "source": [
    "val name: String = \"Hello, Kotlin learner!\"\n",
    "println(name)"
   ]
  },
  {
   "metadata": {},
   "cell_type": "markdown",
   "source": ""
  },
  {
   "metadata": {},
   "cell_type": "markdown",
   "source": [
    "**Hello, Kotlin**\n",
    "\n",
    "Copy this code to the section below and then click Run (or Check in the IDE)."
   ]
  },
  {
   "metadata": {},
   "cell_type": "code",
   "outputs": [],
   "execution_count": null,
   "source": "println(\"Hello, Kotlin!\")"
  },
  {
   "metadata": {},
   "cell_type": "markdown",
   "source": ""
  },
  {
   "metadata": {},
   "cell_type": "markdown",
   "source": [
    "**And what for?**\n",
    "\n",
    "What will good knowledge of Kotlin allow you to do?\n",
    "\n",
    "Select one option from the list\n",
    "\n",
    "Develop frameworks and libraries   T\n",
    "\n",
    "Write mobile applications          T\n",
    "\n",
    "Write server-side and desktop applications     T"
   ]
  },
  {
   "metadata": {},
   "cell_type": "markdown",
   "source": ""
  },
  {
   "metadata": {},
   "cell_type": "markdown",
   "source": ""
  }
 ],
 "metadata": {
  "kernelspec": {
   "display_name": "Kotlin",
   "language": "kotlin",
   "name": "kotlin"
  },
  "language_info": {
   "name": "kotlin",
   "version": "1.9.23",
   "mimetype": "text/x-kotlin",
   "file_extension": ".kt",
   "pygments_lexer": "kotlin",
   "codemirror_mode": "text/x-kotlin",
   "nbconvert_exporter": ""
  }
 },
 "nbformat": 4,
 "nbformat_minor": 0
}
