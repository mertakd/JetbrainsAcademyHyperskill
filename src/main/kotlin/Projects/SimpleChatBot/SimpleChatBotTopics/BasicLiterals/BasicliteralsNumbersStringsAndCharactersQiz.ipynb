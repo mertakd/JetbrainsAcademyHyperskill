{
 "cells": [
  {
   "cell_type": "code",
   "execution_count": null,
   "metadata": {
    "collapsed": true
   },
   "outputs": [],
   "source": [
    ""
   ]
  },
  {
   "metadata": {},
   "cell_type": "markdown",
   "source": [
    "**An invalid literal**\n",
    "\n",
    "Select an invalid literal.\n",
    "\n",
    "Select one option from the list\n",
    "\n",
    "\"10000000\"\n",
    "\n",
    "'10000000'          T\n",
    "\n",
    "10000000\n",
    "\n",
    "10_000_000"
   ]
  },
  {
   "metadata": {},
   "cell_type": "markdown",
   "source": ""
  },
  {
   "metadata": {},
   "cell_type": "markdown",
   "source": [
    "**Address in a city**\n",
    "\n",
    "To present the address in the city, which literal is suitable for us?\n",
    "\n",
    "Select one option from the list\n",
    "\n",
    "a string literal     T\n",
    "\n",
    "a number literal\n",
    "\n",
    "a character literal"
   ]
  },
  {
   "metadata": {},
   "cell_type": "markdown",
   "source": ""
  },
  {
   "metadata": {},
   "cell_type": "markdown",
   "source": [
    "**An incorrect literal**\n",
    "\n",
    "Find the wrong literal.\n",
    "\n",
    "Select one option from the list\n",
    "\n",
    "'@'\n",
    "\n",
    "\"e-mail@gmail.com\"\n",
    "\n",
    "'abc'                     T\n",
    "\n",
    "\"123456\"\n",
    "\n",
    "1806"
   ]
  },
  {
   "metadata": {},
   "cell_type": "markdown",
   "source": ""
  },
  {
   "metadata": {},
   "cell_type": "markdown",
   "source": [
    "**Groups of literals**\n",
    "\n",
    "Match groups and literals.\n",
    "\n",
    "Match the items from left and right columns\n",
    "Strings\n",
    "Numbers\n",
    "Characters\n",
    "There is at least one invalid literal\n",
    "\"a\", \"123\", \"464531######0207\"\n",
    "0, 1, 2, 100_000\n",
    "'a', '3', '?'\n",
    "'1', 'q', 'text'"
   ]
  },
  {
   "metadata": {},
   "cell_type": "markdown",
   "source": ""
  },
  {
   "metadata": {},
   "cell_type": "markdown",
   "source": [
    "**Correct string writing**\n",
    "\n",
    "Select string literals that are written correctly.\n",
    "\n",
    "Select one or more options from the list\n",
    "\n",
    "\"q\"                    T\n",
    "\n",
    "'q'\n",
    "\n",
    "443\n",
    "\n",
    "'5'\n",
    "\n",
    "\"2312\"                 T\n",
    "\n",
    "\"text\"                 T"
   ]
  },
  {
   "metadata": {},
   "cell_type": "markdown",
   "source": ""
  },
  {
   "metadata": {},
   "cell_type": "markdown",
   "source": [
    "**Select the correct number literal**\n",
    "\n",
    "Select the numeric literal that is written correctly.\n",
    "\n",
    "Select one option from the list\n",
    "\n",
    "100_000_000           T\n",
    "\n",
    "\"500\"\n",
    "\n",
    "\"800_000\"\n",
    "\n",
    "300                   T\n",
    "\n",
    "0                     T\n",
    "\n",
    "'8'"
   ]
  },
  {
   "metadata": {},
   "cell_type": "markdown",
   "source": ""
  },
  {
   "metadata": {},
   "cell_type": "markdown",
   "source": [
    "**Statements**\n",
    "\n",
    "Select the correct statement about literals.\n",
    "\n",
    "Select one option from the list\n",
    "\n",
    "\"abc\" is a correct string         T\n",
    "\n",
    "\"123\" is a correct number\n",
    "\n",
    "10 is a correct number           T\n",
    "\n",
    "'ab' is a correct character literal"
   ]
  },
  {
   "metadata": {},
   "cell_type": "markdown",
   "source": ""
  },
  {
   "metadata": {},
   "cell_type": "markdown",
   "source": ""
  },
  {
   "metadata": {},
   "cell_type": "markdown",
   "source": [
    "**Double and single quotes**\n",
    "\n",
    "Choose one of the options to fill in the blanks in the sentence: A character should be wrapped in ________ quotes, whereas a string should be wrapped in ________ quotes\n",
    "\n",
    "Select one option from the list\n",
    "\n",
    "single, double             T\n",
    "\n",
    "single, single\n",
    "\n",
    "double, single\n",
    "\n",
    "double, double"
   ]
  },
  {
   "metadata": {},
   "cell_type": "markdown",
   "source": ""
  },
  {
   "metadata": {},
   "cell_type": "markdown",
   "source": ""
  },
  {
   "metadata": {},
   "cell_type": "markdown",
   "source": [
    "**String to characters**\n",
    "\n",
    "Suppose we have a string literal \"Kot\" and we would like to split it into character literals. What is the correct result?\n",
    "\n",
    "Select one option from the list\n",
    "\n",
    "“Ko”, ‘t’\n",
    "\n",
    "“K”, “o”, “t”\n",
    "\n",
    "‘K’, ‘o’, ‘t’       T\n",
    "\n",
    "K, o, t\n",
    "\n",
    "‘K’, ‘o’, “t”"
   ]
  },
  {
   "metadata": {},
   "cell_type": "markdown",
   "source": ""
  },
  {
   "metadata": {},
   "cell_type": "markdown",
   "source": ""
  }
 ],
 "metadata": {
  "kernelspec": {
   "display_name": "Kotlin",
   "language": "kotlin",
   "name": "kotlin"
  },
  "language_info": {
   "name": "kotlin",
   "version": "1.9.23",
   "mimetype": "text/x-kotlin",
   "file_extension": ".kt",
   "pygments_lexer": "kotlin",
   "codemirror_mode": "text/x-kotlin",
   "nbconvert_exporter": ""
  }
 },
 "nbformat": 4,
 "nbformat_minor": 0
}
