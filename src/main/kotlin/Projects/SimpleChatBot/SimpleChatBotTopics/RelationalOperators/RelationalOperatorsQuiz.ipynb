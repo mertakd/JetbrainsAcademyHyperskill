{
 "cells": [
  {
   "cell_type": "code",
   "execution_count": null,
   "metadata": {
    "collapsed": true
   },
   "outputs": [],
   "source": [
    ""
   ]
  },
  {
   "metadata": {},
   "cell_type": "markdown",
   "source": [
    "**Compare two numbers with symbols**\n",
    "\n",
    "Given two numbers, determine if the first number is greater than, less than, or equal to the second number. Print '>' if the first number is greater than the second, '<' if it is less than the second, or '=' if they are equal.\n",
    "\n",
    "Sample Input 1:\n",
    "\n",
    "5\n",
    "3\n",
    "\n",
    "Sample Output 1:\n",
    "\n",
    ">\n",
    "\n",
    "Sample Input 2:\n",
    "\n",
    "2\n",
    "7\n",
    "\n",
    "Sample Output 2:\n",
    "\n",
    "<"
   ]
  },
  {
   "metadata": {},
   "cell_type": "code",
   "outputs": [],
   "execution_count": null,
   "source": [
    "import java.util.Scanner\n",
    "\n",
    "val scanner = Scanner(System.`in`)\n",
    "\n",
    "// Read the two numbers\n",
    "val num1 = scanner.nextInt()\n",
    "val num2 = scanner.nextInt()\n",
    "\n",
    "// Compare the two numbers and print the result\n",
    "if (num1 > num2) {\n",
    "    println(\">\")\n",
    "} else if (num1 < num2) {\n",
    "    println(\"<\")\n",
    "} else {\n",
    "    println(\"=\")\n",
    "}"
   ]
  },
  {
   "metadata": {},
   "cell_type": "code",
   "outputs": [],
   "execution_count": null,
   "source": [
    "\n",
    "\n",
    "\n",
    "\n",
    "\n",
    "\n",
    "\n",
    "\n",
    "\n"
   ]
  },
  {
   "metadata": {},
   "cell_type": "markdown",
   "source": [
    "**Number showdown: The boolean trilogy**\n",
    "\n",
    "Create a program that compares two integer values. Read two integers as input. Output three boolean values: whether the first number is less than, equal to, and greater than the second number.\n",
    "Sample Input 1:\n",
    "\n",
    "5\n",
    "3\n",
    "\n",
    "Sample Output 1:\n",
    "\n",
    "false\n",
    "false\n",
    "true\n",
    "\n",
    "Sample Input 2:\n",
    "\n",
    "7\n",
    "7\n",
    "\n",
    "Sample Output 2:\n",
    "\n",
    "false\n",
    "true\n",
    "false"
   ]
  },
  {
   "metadata": {},
   "cell_type": "code",
   "outputs": [],
   "execution_count": null,
   "source": [
    "import java.util.Scanner\n",
    "\n",
    "val scanner = Scanner(System.`in`)\n",
    "\n",
    "val num1 = scanner.nextInt()\n",
    "val num2 = scanner.nextInt()\n",
    "\n",
    "println(num1 < num2)\n",
    "println(num1 == num2)\n",
    "println(num1 > num2)"
   ]
  },
  {
   "metadata": {},
   "cell_type": "code",
   "outputs": [],
   "execution_count": null,
   "source": [
    "\n",
    "\n",
    "\n",
    "\n",
    "\n",
    "\n",
    "\n",
    "\n",
    "\n"
   ]
  },
  {
   "metadata": {},
   "cell_type": "markdown",
   "source": [
    "**Comparing two integers and determining their relation**\n",
    "\n",
    "Write a Kotlin program that takes two integers from input. Your program needs to determine the relation of the first integer to the second integer. The output should be 'equal' if both integers are equal, 'greater' if the first input is greater than the second, and 'less' if the first input is smaller than the second.\n",
    "\n",
    "Sample Input 1:\n",
    "\n",
    "5\n",
    "3\n",
    "\n",
    "Sample Output 1:\n",
    "\n",
    "greater\n",
    "\n",
    "Sample Input 2:\n",
    "\n",
    "2\n",
    "2\n",
    "\n",
    "Sample Output 2:\n",
    "\n",
    "equal"
   ]
  },
  {
   "metadata": {},
   "cell_type": "code",
   "outputs": [],
   "execution_count": null,
   "source": [
    "import java.util.*\n",
    "\n",
    "fun main(args: Array<String>) {\n",
    "    // Scanner object for reading inputs.\n",
    "    val reader = Scanner(System.`in`)\n",
    "\n",
    "    // Read two integers from the user.\n",
    "    val num1 = reader.nextInt()\n",
    "    val num2 = reader.nextInt()\n",
    "\n",
    "    // Compare the two integers using Kotlin's relational operators.\n",
    "    if (num1 == num2) {\n",
    "        println(\"equal\")\n",
    "    } else if (num1 > num2) {\n",
    "        println(\"greater\")\n",
    "    } else {\n",
    "        println(\"less\")\n",
    "    }\n",
    "}"
   ]
  },
  {
   "metadata": {},
   "cell_type": "code",
   "outputs": [],
   "execution_count": null,
   "source": [
    "\n",
    "\n",
    "\n",
    "\n",
    "\n",
    "\n",
    "\n",
    "\n",
    "\n"
   ]
  },
  {
   "metadata": {},
   "cell_type": "markdown",
   "source": [
    "**What is the result?**\n",
    "\n",
    "There is a program with two variables: number and result.\n",
    "\n",
    "val number = 990\n",
    "val result = number > 1000 || number % 10 == 0\n",
    "\n",
    "\n",
    "Choose the correct value of result:\n",
    "\n",
    "Select one option from the list\n",
    "\n",
    "false\n",
    "\n",
    "true  t\n",
    "\n",
    "0\n",
    "\n",
    "1"
   ]
  },
  {
   "metadata": {},
   "cell_type": "code",
   "outputs": [],
   "execution_count": null,
   "source": [
    "\n",
    "\n",
    "\n",
    "\n",
    "\n",
    "\n",
    "\n",
    "\n",
    "\n"
   ]
  },
  {
   "metadata": {},
   "cell_type": "markdown",
   "source": [
    "**Job offer**\n",
    "\n",
    "You can offer a role of a Kotlin developer to several candidates.\n",
    "\n",
    "Your company has a special rule written in Kotlin for decision-making.\n",
    "\n",
    "val offerAJob =\n",
    "        (knowKotlin && yearsOfExperienceInKotlin >= 1) ||\n",
    "        (knowPython && yearsOfExperienceInPython >= 3)\n",
    "\n",
    "A small explanation:\n",
    "\n",
    "knowKotlin is a boolean variable that shows whether a candidate knows Kotlin.\n",
    "\n",
    "knowPython is a boolean variable that shows whether a candidate knows Python.\n",
    "\n",
    "yearsOfExperienceInKotlin is an int variable that shows how many years of Kotlin programming a candidate has.\n",
    "\n",
    "yearsOfExperienceInPython is another int variable that shows how many years of Python programming a candidate has.\n",
    "\n",
    "Here is our list of candidates with their skills:\n",
    "\n",
    "John: knowKotlin = true; yearsOfExperienceInKotlin = 1; knowPython = false; yearsOfExperienceInPython = 0;\n",
    "\n",
    "Mary: knowKotlin = false; yearsOfExperienceInKotlin = 0; knowPython = true; yearsOfExperienceInPython = 3;\n",
    "\n",
    "Olivia: knowKotlin = true; yearsOfExperienceInKotlin = 0; knowPython = true; yearsOfExperienceInPython = 2;\n",
    "\n",
    "Alexander: knowKotlin = true; yearsOfExperienceInKotlin = 3; knowPython = true; yearsOfExperienceInPython = 2;\n",
    "\n",
    "Andrew: knowKotlin = false; yearsOfExperienceInKotlin = 1; knowPython = false; yearsOfExperienceInPython = 1;\n",
    "\n",
    "Emily: knowKotlin = false; yearsOfExperienceInKotlin = 0; knowPython = true; yearsOfExperienceInPython = 2;\n",
    "\n",
    "Select all the suitable candidates.\n",
    "\n",
    "Note that sometimes a candidate may have programming experience but may lack programming language knowledge. Let's consider it a false.\n",
    "\n",
    "Select one or more options from the list\n",
    "\n",
    "John   t\n",
    "\n",
    "Mary    t\n",
    "\n",
    "Olivia\n",
    "\n",
    "Alexander  t\n",
    "\n",
    "Andrew\n",
    "\n",
    "Emily"
   ]
  },
  {
   "metadata": {},
   "cell_type": "code",
   "outputs": [],
   "execution_count": null,
   "source": [
    "\n",
    "\n",
    "\n",
    "\n",
    "\n",
    "\n",
    "\n",
    "\n",
    "\n",
    "\n",
    "\n"
   ]
  },
  {
   "metadata": {},
   "cell_type": "markdown",
   "source": [
    "**Existing operators**\n",
    "\n",
    "Select existing relational operators:\n",
    "\n",
    "Select one or more options from the list\n",
    "\n",
    "==  t\n",
    "\n",
    "!=  t\n",
    "\n",
    "<=   t\n",
    "\n",
    "<<\n",
    "\n",
    "<>\n",
    "\n",
    ">>>\n",
    "\n",
    ">     t\n",
    "\n",
    "="
   ]
  },
  {
   "metadata": {},
   "cell_type": "code",
   "outputs": [],
   "execution_count": null,
   "source": [
    "\n",
    "\n",
    "\n",
    "\n",
    "\n",
    "\n",
    "\n",
    "\n",
    "\n"
   ]
  },
  {
   "metadata": {},
   "cell_type": "markdown",
   "source": [
    "**When the result is true**\n",
    "\n",
    "Select all the possible values of the variable n when result is true.\n",
    "\n",
    "val n = ...\n",
    "val result = (n < 100) || (n >= 200)\n",
    "\n",
    "Select one or more options from the list\n",
    "\n",
    "100\n",
    "\n",
    "-20   t\n",
    "\n",
    "200    t\n",
    "\n",
    "1000    t"
   ]
  },
  {
   "metadata": {},
   "cell_type": "code",
   "outputs": [],
   "execution_count": null,
   "source": [
    "\n",
    "\n",
    "\n",
    "\n",
    "\n",
    "\n",
    "\n",
    "\n",
    "\n"
   ]
  },
  {
   "metadata": {},
   "cell_type": "markdown",
   "source": ""
  },
  {
   "metadata": {},
   "cell_type": "markdown",
   "source": [
    "**Checking if one integer is greater than another**\n",
    "\n",
    "Consider a simple program where you have two integer variables: num1 is assigned the value 10 and num2 is assigned the value 5. You are tasked to determine if num1 is greater than num2 and print a message stating whether it's true or false. However, the code lines to perform this task have been jumbled. Your job is to reorder the lines of code to get the intended output.\n",
    "\n",
    "Reorder lines using drag or arrows. Adjust indentation with left buttons"
   ]
  },
  {
   "metadata": {},
   "cell_type": "code",
   "outputs": [],
   "execution_count": null,
   "source": [
    "val num1 = 10\n",
    "val num2 = 5\n",
    "val result = num1 > num2\n",
    "println(\"Is $num1 greater than $num2? $result\")"
   ]
  },
  {
   "metadata": {},
   "cell_type": "markdown",
   "source": ""
  },
  {
   "metadata": {},
   "cell_type": "code",
   "outputs": [],
   "execution_count": null,
   "source": [
    "\n",
    "\n",
    "\n",
    "\n",
    "\n",
    "\n",
    "\n",
    "\n",
    "\n",
    "\n"
   ]
  },
  {
   "metadata": {},
   "cell_type": "markdown",
   "source": ""
  },
  {
   "metadata": {},
   "cell_type": "markdown",
   "source": [
    "Find a suitable input\n",
    " Report a typo\n",
    "Take a look at the program below:\n",
    "\n",
    "import java.util.Scanner\n",
    "\n",
    "fun main(args: Array<String>) {\n",
    "    val scanner = Scanner(System.`in`)\n",
    "\n",
    "    val a = scanner.nextInt()\n",
    "    val b = scanner.nextInt()\n",
    "    val c = scanner.nextInt()\n",
    "\n",
    "    val result = a >= b && b != c\n",
    "\n",
    "    println(result)\n",
    "}\n",
    "\n",
    "Select the input that leads to true:"
   ]
  },
  {
   "metadata": {
    "ExecuteTime": {
     "end_time": "2025-07-28T15:12:45.561059500Z",
     "start_time": "2025-07-28T15:12:36.613125200Z"
    }
   },
   "cell_type": "code",
   "source": [
    "val a = readln().toInt()\n",
    "println(a > 0  &&  a < 10)"
   ],
   "outputs": [
    {
     "name": "stdout",
     "output_type": "stream",
     "text": [
      "true\r\n"
     ]
    }
   ],
   "execution_count": 1
  },
  {
   "metadata": {},
   "cell_type": "code",
   "outputs": [],
   "execution_count": null,
   "source": [
    "\n",
    "\n",
    "\n",
    "\n",
    "\n",
    "\n",
    "\n",
    "\n",
    "\n"
   ]
  },
  {
   "metadata": {},
   "cell_type": "markdown",
   "source": [
    "**Check the sum**\n",
    "\n",
    "Write a program that reads numbers a, b, c and checks whether any pair of arguments (ab, ac, or bc) sums to 20.\n",
    "\n",
    "Output true or false.\n",
    "\n",
    "Sample Input 1:\n",
    "\n",
    "1\n",
    "2\n",
    "3\n",
    "\n",
    "Sample Output 1:\n",
    "\n",
    "false\n",
    "\n",
    "Sample Input 2:\n",
    "\n",
    "4\n",
    "16\n",
    "7\n",
    "\n",
    "Sample Output 2:\n",
    "\n",
    "true"
   ]
  },
  {
   "metadata": {},
   "cell_type": "code",
   "outputs": [],
   "execution_count": null,
   "source": [
    "//sol1\n",
    "val a = readLine()!!.toInt()\n",
    "val b = readLine()!!.toInt()\n",
    "val c = readLine()!!.toInt()\n",
    "\n",
    "val sumAB = a + b\n",
    "val sumAC = a + c\n",
    "val sumBC = b + c\n",
    "\n",
    "val isSum20 = sumAB == 20 || sumAC == 20 || sumBC == 20\n",
    "\n",
    "println(isSum20)"
   ]
  },
  {
   "metadata": {},
   "cell_type": "code",
   "outputs": [],
   "execution_count": null,
   "source": [
    "import java.util.Scanner\n",
    "\n",
    "//sol2\n",
    "\n",
    "\n",
    "val scanner = Scanner(System.`in`)\n",
    "val a = scanner.nextInt()\n",
    "val b = scanner.nextInt()\n",
    "val c = scanner.nextInt()\n",
    "\n",
    "print(when (20) {\n",
    "    a + b, a + c, b + c -> true\n",
    "    else -> false\n",
    "})"
   ]
  },
  {
   "metadata": {},
   "cell_type": "code",
   "outputs": [],
   "execution_count": null,
   "source": [
    "import java.util.Scanner\n",
    "\n",
    "//sol3\n",
    "\n",
    "val scanner = Scanner(System.`in`)\n",
    "// put your code here\n",
    "val first = scanner.nextInt();\n",
    "val second = scanner.nextInt();\n",
    "val third = scanner.nextInt();\n",
    "\n",
    "val params = listOf(first, second, third)\n",
    "val sum = params.sum()\n",
    "println(sum - 20 in params)"
   ]
  },
  {
   "metadata": {},
   "cell_type": "code",
   "outputs": [],
   "execution_count": null,
   "source": [
    "\n",
    "\n",
    "\n",
    "\n",
    "\n",
    "\n",
    "\n",
    "\n",
    "\n",
    "\n",
    "\n",
    "\n"
   ]
  },
  {
   "metadata": {},
   "cell_type": "markdown",
   "source": [
    "**Number showdown: The boolean trilogy**\n",
    "\n",
    "Hey there! This problem might be a bit unpredictable, but give it a go and let us know how you do!\n",
    "Create a program that compares two integer values. Read two integers as input. Output three boolean values: whether the first number is less than, equal to, and greater than the second number.\n",
    "Sample Input 1:\n",
    "\n",
    "5\n",
    "3\n",
    "\n",
    "Sample Output 1:\n",
    "\n",
    "false\n",
    "false\n",
    "true\n",
    "\n",
    "Sample Input 2:\n",
    "\n",
    "7\n",
    "7\n",
    "\n",
    "Sample Output 2:\n",
    "\n",
    "false\n",
    "true\n",
    "false"
   ]
  },
  {
   "metadata": {},
   "cell_type": "code",
   "outputs": [],
   "execution_count": null,
   "source": [
    "import java.util.Scanner\n",
    "\n",
    "val scanner = Scanner(System.`in`)\n",
    "\n",
    "val num1 = scanner.nextInt()\n",
    "val num2 = scanner.nextInt()\n",
    "\n",
    "println(num1 < num2)\n",
    "println(num1 == num2)\n",
    "println(num1 > num2)"
   ]
  },
  {
   "metadata": {},
   "cell_type": "code",
   "outputs": [],
   "execution_count": null,
   "source": [
    "\n",
    "\n",
    "\n",
    "\n",
    "\n",
    "\n",
    "\n",
    "\n",
    "\n",
    "\n",
    "\n"
   ]
  },
  {
   "metadata": {},
   "cell_type": "markdown",
   "source": [
    "\n",
    "**Inbetween**\n",
    "\n",
    "Write a program that reads three integer numbers and prints true if the first number lies between the second and third one (inclusive). Otherwise, it is to print false.\n",
    "\n",
    "\n",
    "The sorting order of the two last arguments can be any.\n",
    "\n",
    "Sample Input 1:\n",
    "\n",
    "3\n",
    "3\n",
    "3\n",
    "\n",
    "Sample Output 1:\n",
    "\n",
    "true\n",
    "\n",
    "Sample Input 2:\n",
    "\n",
    "40\n",
    "30\n",
    "50\n",
    "\n",
    "Sample Output 2:\n",
    "\n",
    "true\n",
    "\n",
    "Sample Input 3:\n",
    "\n",
    "40\n",
    "100\n",
    "20\n",
    "\n",
    "Sample Output 3:\n",
    "\n",
    "true"
   ]
  },
  {
   "metadata": {},
   "cell_type": "code",
   "outputs": [],
   "execution_count": null,
   "source": [
    "val a = readLine()!!.toInt()\n",
    "val b = readLine()!!.toInt()\n",
    "val c = readLine()!!.toInt()\n",
    "val check = a in b..c || a in c..b\n",
    "println(check)"
   ]
  },
  {
   "metadata": {},
   "cell_type": "code",
   "outputs": [],
   "execution_count": null,
   "source": [
    "\n",
    "\n",
    "\n",
    "\n",
    "\n",
    "\n",
    "\n",
    "\n",
    "\n",
    "\n",
    "\n"
   ]
  },
  {
   "metadata": {},
   "cell_type": "markdown",
   "source": [
    "**Are the numbers different?**\n",
    "\n",
    "Write a program that reads three numbers and checks if they are different (numbers are not equal to one another).\n",
    "\n",
    "Output either true or false.\n",
    "\n",
    "Sample Input 1:\n",
    "\n",
    "5\n",
    "5\n",
    "9\n",
    "\n",
    "Sample Output 1:\n",
    "\n",
    "false\n",
    "\n",
    "Sample Input 2:\n",
    "\n",
    "1\n",
    "2\n",
    "3\n",
    "\n",
    "Sample Output 2:\n",
    "\n",
    "true"
   ]
  },
  {
   "metadata": {},
   "cell_type": "code",
   "outputs": [],
   "execution_count": null,
   "source": [
    "val num1 = readLine()!!.toInt()\n",
    "val num2 = readLine()!!.toInt()\n",
    "val num3 = readLine()!!.toInt()\n",
    "\n",
    "val areDifferent = num1 != num2 && num1 != num3 && num2 != num3\n",
    "\n",
    "println(areDifferent)"
   ]
  },
  {
   "metadata": {},
   "cell_type": "code",
   "outputs": [],
   "execution_count": null,
   "source": [
    "\n",
    "\n",
    "\n",
    "\n",
    "\n",
    "\n",
    "\n",
    "\n",
    "\n",
    "\n"
   ]
  },
  {
   "metadata": {},
   "cell_type": "markdown",
   "source": [
    "**Groundhogs at the party**\n",
    "\n",
    "Groundhogs like to throw fun parties, and at their parties, they like to munch on Reese's peanut butter cups. But not too much of it, or they will feel sick! A successful groundhog party should have between 10 and 20 Reese's peanut butter cups (inclusive) unless it is the weekend. In this case, they need 15 to 25 Reeses peanut butter cups (inclusive).\n",
    "\n",
    "\n",
    "Write a Kotlin program that reads two values:\n",
    "\n",
    "the first is the number of Reese's peanut butter cups;\n",
    "the second is a boolean value that represents whether it is the weekend or not.\n",
    "Output the boolean value that tells us whether the party is successful or not.\n",
    "\n",
    "Sample Input 1:\n",
    "\n",
    "5\n",
    "true\n",
    "\n",
    "Sample Output 1:\n",
    "\n",
    "false\n",
    "\n",
    "Sample Input 2:\n",
    "\n",
    "16\n",
    "false\n",
    "\n",
    "Sample Output 2:\n",
    "\n",
    "true"
   ]
  },
  {
   "metadata": {},
   "cell_type": "code",
   "outputs": [],
   "execution_count": null,
   "source": [
    "val reese = readLine()!!.toInt()\n",
    "val weekend = readLine()!!.toBoolean()\n",
    "\n",
    "val reeseW = reese in 10..20 && !weekend || reese in 15..25 && weekend\n",
    "\n",
    "println(reeseW)"
   ]
  },
  {
   "metadata": {},
   "cell_type": "code",
   "outputs": [],
   "execution_count": null,
   "source": [
    "//sol2\n",
    "val cups = readLine()!!.toInt()\n",
    "val isWeekend = readLine()!!.toBoolean()\n",
    "println(cups in if (isWeekend) 15..25 else 10..20)"
   ]
  },
  {
   "metadata": {},
   "cell_type": "code",
   "outputs": [],
   "execution_count": null,
   "source": [
    "\n",
    "\n",
    "\n",
    "\n",
    "\n",
    "\n",
    "\n",
    "\n",
    "\n",
    "\n",
    "\n"
   ]
  },
  {
   "metadata": {},
   "cell_type": "markdown",
   "source": [
    "**Exactly one parameter is positive**\n",
    "\n",
    "Write a program that reads three integer numbers and prints true if only one number is positive.\n",
    "\n",
    "\n",
    "Otherwise, it is to print false.\n",
    "\n",
    "Sample Input 1:\n",
    "\n",
    "1\n",
    "1\n",
    "1\n",
    "\n",
    "Sample Output 1:\n",
    "\n",
    "false\n",
    "\n",
    "Sample Input 2:\n",
    "\n",
    "1\n",
    "0\n",
    "-1\n",
    "\n",
    "Sample Output 2:\n",
    "\n",
    "true"
   ]
  },
  {
   "metadata": {},
   "cell_type": "code",
   "outputs": [],
   "execution_count": null,
   "source": [
    "val n1 = if (readLine()!!.toInt() > 0) 1 else 0\n",
    "val n2 = if (readLine()!!.toInt() > 0) 1 else 0\n",
    "val n3 = if (readLine()!!.toInt() > 0) 1 else 0\n",
    "println(n1 + n2 + n3 == 1)"
   ]
  },
  {
   "metadata": {},
   "cell_type": "code",
   "outputs": [],
   "execution_count": null,
   "source": [
    "//sol2\n",
    "val one = readLine()!!.toInt()\n",
    "val two = readLine()!!.toInt()\n",
    "val three = readLine()!!.toInt()\n",
    "println((one > 0) xor (two > 0) xor (three > 0) && !(one > 0 && two > 0 && three > 0))"
   ]
  },
  {
   "metadata": {},
   "cell_type": "code",
   "outputs": [],
   "execution_count": null,
   "source": [
    "//sol3\n",
    "(Array(3) { readLine()!!.toInt() }.filter { it > 0 }.size == 1).let(::println)"
   ]
  },
  {
   "metadata": {},
   "cell_type": "code",
   "outputs": [],
   "execution_count": null,
   "source": [
    "//sol4\n",
    "val list = List(3) { readLine()!!.toInt() }\n",
    "println(list.count { it > 0 } == 1)"
   ]
  },
  {
   "metadata": {},
   "cell_type": "code",
   "outputs": [],
   "execution_count": null,
   "source": [
    "\n",
    "\n",
    "\n",
    "\n",
    "\n",
    "\n",
    "\n",
    "\n",
    "\n",
    "\n",
    "\n",
    "\n",
    "\n",
    "\n"
   ]
  },
  {
   "metadata": {},
   "cell_type": "markdown",
   "source": [
    "**Boys in the sport class**\n",
    "\n",
    "Imagine there are three boys in a sports class.\n",
    "\n",
    "You need to write a program that checks if the boys are arranged in ascending or descending order by height. The program should read three integer numbers h1, h2, h3 and output true or false. If the boys have the same height, they are arranged correctly.\n",
    "\n",
    "Sample Input 1:\n",
    "\n",
    "165\n",
    "161\n",
    "158\n",
    "\n",
    "Sample Output 1:\n",
    "\n",
    "true\n",
    "\n",
    "Sample Input 2:\n",
    "\n",
    "155\n",
    "165\n",
    "160\n",
    "\n",
    "Sample Output 2:\n",
    "\n",
    "false\n",
    "\n",
    "Sample Input 3:\n",
    "\n",
    "161\n",
    "161\n",
    "165\n",
    "\n",
    "Sample Output 3:\n",
    "\n",
    "true"
   ]
  },
  {
   "metadata": {},
   "cell_type": "code",
   "outputs": [],
   "execution_count": null,
   "source": [
    "val h1 = readLine()!!.toInt()\n",
    "val h2 = readLine()!!.toInt()\n",
    "val h3 = readLine()!!.toInt()\n",
    "\n",
    "val isAscending = h1 <= h2 && h2 <= h3\n",
    "val isDescending = h1 >= h2 && h2 >= h3\n",
    "val isSameHeight = h1 == h2 && h2 == h3\n",
    "\n",
    "val isCorrectOrder = isAscending || isDescending || isSameHeight\n",
    "\n",
    "println(isCorrectOrder)"
   ]
  },
  {
   "metadata": {},
   "cell_type": "code",
   "outputs": [],
   "execution_count": null,
   "source": [
    "//sol2\n",
    "val (a, b, c) = Array(3) { readLine()!!.toInt() }\n",
    "print(b in a..c || b in c..a)"
   ]
  }
 ],
 "metadata": {
  "kernelspec": {
   "display_name": "Kotlin",
   "language": "kotlin",
   "name": "kotlin"
  },
  "language_info": {
   "name": "kotlin",
   "version": "1.9.23",
   "mimetype": "text/x-kotlin",
   "file_extension": ".kt",
   "pygments_lexer": "kotlin",
   "codemirror_mode": "text/x-kotlin",
   "nbconvert_exporter": ""
  }
 },
 "nbformat": 4,
 "nbformat_minor": 0
}
