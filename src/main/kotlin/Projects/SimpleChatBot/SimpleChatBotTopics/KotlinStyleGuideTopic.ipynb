{
 "cells": [
  {
   "cell_type": "code",
   "execution_count": null,
   "metadata": {
    "collapsed": true
   },
   "outputs": [],
   "source": [
    ""
   ]
  },
  {
   "metadata": {},
   "cell_type": "markdown",
   "source": [
    "Kotlin Kod Yazım Kuralları (Conventions) Özeti:\n",
    "\n",
    "Programcılar genellikle kendi yazdıklarından çok başkalarının kodlarını okurlar. Bu yüzden kodun okunabilir ve tutarlı olması çok önemli.\n",
    "\n",
    "Kod yazım kuralları, kodun standart, düzenli ve anlaşılır olmasını sağlar. Bunlar katı kurallar değil, önerilerdir.\n",
    "\n",
    "Kotlin için resmi dokümantasyonda bu kurallar bulunur ve örneklerde takip edilir.\n",
    "\n",
    "Bazı temel kurallar:\n",
    "\n",
    "Girintileme için 4 boşluk kullan, tab kullanılmasın.\n",
    "\n",
    "Satır sonunda noktalı virgül (;) koyma, Kotlin buna gerek duymaz.\n",
    "\n",
    "Açılış süslü parantez ({) satır sonuna yazılır.\n",
    "\n",
    "Kapanış süslü parantez (}) bir sonraki satırın başına yazılır.\n",
    "\n",
    "Fonksiyon ismi ve { arasında bir boşluk bırakmak iyi bir pratiktir.\n",
    "\n",
    "Örnek:\n",
    "\n",
    "kotlin\n",
    "Copy\n",
    "Edit\n",
    "fun main() {\n",
    "    println(\"Hi\")\n",
    "}\n",
    "Sonuç:\n",
    "İyi bir kod, anlaşılması kolay ve açıklamaya ihtiyaç duymayan koddur. Bu kurallara uydukça kodun daha temiz ve okunabilir olur."
   ]
  },
  {
   "metadata": {},
   "cell_type": "code",
   "outputs": [],
   "execution_count": null,
   "source": ""
  }
 ],
 "metadata": {
  "kernelspec": {
   "display_name": "Kotlin",
   "language": "kotlin",
   "name": "kotlin"
  },
  "language_info": {
   "name": "kotlin",
   "version": "1.9.23",
   "mimetype": "text/x-kotlin",
   "file_extension": ".kt",
   "pygments_lexer": "kotlin",
   "codemirror_mode": "text/x-kotlin",
   "nbconvert_exporter": ""
  }
 },
 "nbformat": 4,
 "nbformat_minor": 0
}
