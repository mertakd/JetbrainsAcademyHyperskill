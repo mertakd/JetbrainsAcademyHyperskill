{
 "cells": [
  {
   "cell_type": "code",
   "execution_count": null,
   "metadata": {
    "collapsed": true
   },
   "outputs": [],
   "source": [
    ""
   ]
  },
  {
   "metadata": {},
   "cell_type": "markdown",
   "source": [
    "\n",
    "\n",
    "---\n",
    "\n",
    "### ✅ **Değişken İsimlendirme Neden Önemlidir?**\n",
    "\n",
    "#### 📌 **1. Neden Önemli?**\n",
    "\n",
    "* Değişken isimleri, kodun okunabilirliğini artırır.\n",
    "* Kötü isimler kodun anlaşılmasını zorlaştırır.\n",
    "* Deneyimli programcılar anlamlı ve kısa isimler seçer.\n",
    "\n",
    "---\n",
    "\n",
    "#### 🛠️ **2. Kurallar**\n",
    "\n",
    "* Harf, rakam ve alt çizgi (\\_) kullanılabilir.\n",
    "* Rakamla başlayamaz.\n",
    "* Anahtar kelimeler (`val`, `var`, `fun` vs.) kullanılamaz.\n",
    "* Boşluk kullanılamaz (sadece `backtick` ile: ``val `good name` = 5``).\n",
    "\n",
    "---\n",
    "\n",
    "#### ✍️ **3. Konvansiyonlar (Adlandırma Alışkanlıkları)**\n",
    "\n",
    "* Tek kelimelik isim: küçük harf (`value`)\n",
    "* Çok kelimelik isim: `lowerCamelCase` (`numberOfCoins`)\n",
    "* Anlamlı isimler tercih edilir (`score` > `s`)\n",
    "* `_` ile başlatmak teknik olarak mümkün ama önerilmez.\n",
    "\n",
    "---\n",
    "\n",
    "#### 🧙 **4. Magic Number (Sihirli Sayılar) Sorunu**\n",
    "\n",
    "* Örneğin `println(7)` ne anlama geldiği belli değil.\n",
    "* Bu tür sabit sayılar **const val** ile adlandırılmalı:\n",
    "\n",
    "```kotlin\n",
    "const val DAYS_OF_THE_WEEK = 7\n",
    "```\n",
    "\n",
    "* **Sabitler SCREAMING\\_SNAKE\\_CASE** ile yazılır (`MAX_VALUE`, `PI_NUMBER` gibi).\n",
    "* Anlamsız sabit ismi: `const val s = 4` ❌\n",
    "* Anlamlı sabit ismi: `const val SEASONS = 4` ✅\n",
    "\n",
    "---\n",
    "\n",
    "### 🎯 **Sonuç**\n",
    "\n",
    "* Anlamlı, kurallara uygun isimlendirme:\n",
    "\n",
    "  * Kodunuzu okunabilir kılar.\n",
    "  * Ekip içinde çalışmayı kolaylaştırır.\n",
    "* Tavsiye edilen kurallara uymak iyi bir alışkanlıktır.\n",
    "\n",
    "---\n"
   ]
  },
  {
   "metadata": {},
   "cell_type": "markdown",
   "source": ""
  }
 ],
 "metadata": {
  "kernelspec": {
   "display_name": "Kotlin",
   "language": "kotlin",
   "name": "kotlin"
  },
  "language_info": {
   "name": "kotlin",
   "version": "1.9.23",
   "mimetype": "text/x-kotlin",
   "file_extension": ".kt",
   "pygments_lexer": "kotlin",
   "codemirror_mode": "text/x-kotlin",
   "nbconvert_exporter": ""
  }
 },
 "nbformat": 4,
 "nbformat_minor": 0
}
