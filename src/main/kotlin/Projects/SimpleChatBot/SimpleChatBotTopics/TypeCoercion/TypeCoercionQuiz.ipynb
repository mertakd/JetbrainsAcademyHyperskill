{
 "cells": [
  {
   "cell_type": "code",
   "execution_count": null,
   "metadata": {
    "collapsed": true
   },
   "outputs": [],
   "source": [
    ""
   ]
  },
  {
   "metadata": {},
   "cell_type": "markdown",
   "source": [
    "**Converting a number to different data types**\n",
    "\n",
    "You are given a program in Kotlin that initializes a number and subsequently changes this number to different types for different use cases. The program involves conversion to Long, Float, and String data types. Fill in the blanks in the provided code to ensure the correct type conversion methods are used.\n",
    "\n",
    "Fill in the gaps with the relevant elements"
   ]
  },
  {
   "metadata": {},
   "cell_type": "code",
   "outputs": [],
   "execution_count": null,
   "source": [
    "val initialNumber: Int = 100\n",
    "val longNumber: Long = initialNumber.toLong()\n",
    "val floatNumber: Float = initialNumber.toFloat()\n",
    "val strNumber: String = initialNumber.toString()\n",
    "\n",
    "println(\"Long: $longNumber, Float: $floatNumber, String: $strNumber\")\n",
    "\n",
    "\n"
   ]
  },
  {
   "metadata": {},
   "cell_type": "code",
   "outputs": [],
   "execution_count": null,
   "source": [
    "\n",
    "\n",
    "\n",
    "\n",
    "\n",
    "\n",
    "\n",
    "\n",
    "\n"
   ]
  },
  {
   "metadata": {},
   "cell_type": "code",
   "outputs": [],
   "execution_count": null,
   "source": ""
  },
  {
   "metadata": {},
   "cell_type": "markdown",
   "source": [
    "**Floating-point to integer conversion**\n",
    "\n",
    "Write a program that reads a floating-point number from the user, converts it to an integer, and prints the result. The program should handle both positive and negative numbers.\n",
    "\n",
    "Sample Input 1:\n",
    "\n",
    "3.14\n",
    "\n",
    "Sample Output 1:\n",
    "\n",
    "3\n",
    "\n",
    "Sample Input 2:\n",
    "\n",
    "-2.71\n",
    "\n",
    "Sample Output 2:\n",
    "\n",
    "-2"
   ]
  },
  {
   "metadata": {},
   "cell_type": "code",
   "outputs": [],
   "execution_count": null,
   "source": [
    "\n",
    "val floatNumber = readln().toDouble()\n",
    "\n",
    "val intNumber = floatNumber.toInt()\n",
    "\n",
    "println(intNumber)"
   ]
  },
  {
   "metadata": {},
   "cell_type": "code",
   "outputs": [],
   "execution_count": null,
   "source": [
    "//sol2\n",
    "println((readln().toDouble()).toInt())"
   ]
  },
  {
   "metadata": {},
   "cell_type": "code",
   "outputs": [],
   "execution_count": null,
   "source": [
    "\n",
    "\n",
    "\n",
    "\n",
    "\n",
    "\n",
    "\n",
    "\n",
    "\n"
   ]
  },
  {
   "metadata": {},
   "cell_type": "markdown",
   "source": [
    "**Where is type overflow possible?**\n",
    "\n",
    "Imagine that you have an Int variable. For some reason, you need to convert it to other types.\n",
    "\n",
    "val n: Int = ... // it has some value\n",
    "\n",
    "Select one or more lines where type overflow is possible.\n",
    "\n",
    "Select one or more options from the list\n",
    "\n",
    "1\n",
    "\n",
    "2\n",
    "\n",
    "3 t  byte,short, char\n",
    "\n",
    "4"
   ]
  },
  {
   "metadata": {},
   "cell_type": "code",
   "outputs": [],
   "execution_count": null,
   "source": [
    "\n",
    "\n",
    "\n",
    "\n",
    "\n",
    "\n",
    "\n",
    "\n",
    "\n"
   ]
  },
  {
   "metadata": {},
   "cell_type": "code",
   "outputs": [],
   "execution_count": null,
   "source": ""
  },
  {
   "metadata": {},
   "cell_type": "markdown",
   "source": [
    "**Where is the type overflow possible?**\n",
    "\n",
    "Imagine that you have a variable of the Double type. You need to convert it to other types.\n",
    "\n",
    "val d: Double = ... // it has some value\n",
    "\n",
    "val i = d.toInt()    // 1\n",
    "val s = d.toString() // 2\n",
    "val f = d.toFloat()  // 3\n",
    "\n",
    "Select one or more lines where type overflow is possible.\n",
    "\n",
    "Select one or more options from the list\n",
    "\n",
    "1 t\n",
    "\n",
    "2\n",
    "\n",
    "3 t"
   ]
  },
  {
   "metadata": {},
   "cell_type": "code",
   "outputs": [],
   "execution_count": null,
   "source": [
    "\n",
    "\n",
    "\n",
    "\n",
    "\n",
    "\n",
    "\n",
    "\n",
    "\n"
   ]
  },
  {
   "metadata": {},
   "cell_type": "markdown",
   "source": [
    "**Existing functions**\n",
    "\n",
    "We have three variables of different types:\n",
    "\n",
    "\n",
    "val i = 101\n",
    "val d = 3.1415\n",
    "val s = \"32\"\n",
    "\n",
    "\n",
    "Select all correct (can compile and work) conversion functions.\n",
    "\n",
    "Select one or more options from the list\n",
    "\n",
    "i.toBoolean()\n",
    "\n",
    "i.toDouble()    t\n",
    "\n",
    "d.toLong()       t\n",
    "\n",
    "d.toString()     t\n",
    "\n",
    "s.toChar()\n",
    "\n",
    "s.toInt()         t"
   ]
  },
  {
   "metadata": {},
   "cell_type": "code",
   "outputs": [],
   "execution_count": null,
   "source": [
    "\n",
    "\n",
    "\n",
    "\n",
    "\n",
    "\n",
    "\n",
    "\n",
    "\n"
   ]
  },
  {
   "metadata": {},
   "cell_type": "markdown",
   "source": [
    "**Cutting the fraction**\n",
    "\n",
    "Write a program that reads a number, cuts off its fractional part, and prints the integer part of the input number as the result.\n",
    "\n",
    "Use Double as the input type and Long as the result type (values may be quite large).\n",
    "\n",
    "Input: single number of type Double.\n",
    "\n",
    "Output: single number of type Long.\n",
    "\n",
    "Sample Input 1:\n",
    "\n",
    "5.44\n",
    "\n",
    "Sample Output 1:\n",
    "\n",
    "5"
   ]
  },
  {
   "metadata": {},
   "cell_type": "code",
   "outputs": [],
   "execution_count": null,
   "source": [
    "val input = readLine()!!.toDouble()\n",
    "val output = input.toLong()\n",
    "\n",
    "println(output)\n"
   ]
  },
  {
   "metadata": {},
   "cell_type": "code",
   "outputs": [],
   "execution_count": null,
   "source": [
    "\n",
    "\n",
    "\n",
    "\n",
    "\n",
    "\n",
    "\n",
    "\n",
    "\n",
    "\n"
   ]
  },
  {
   "metadata": {},
   "cell_type": "markdown",
   "source": [
    "**Simple converter**\n",
    "\n",
    "Let's make a simple converter that converts values to the following three types – Int, Double, and Boolean.\n",
    "\n",
    "Your program should read a value and print the result of its conversion to Int, Double, and Boolean types sequentially.\n",
    "\n",
    "Input: value: String.\n",
    "\n",
    "Output: Int, Double, and Boolean values (each on a new line).\n",
    "\n",
    "Sample Input 1:\n",
    "\n",
    "0\n",
    "\n",
    "Sample Output 1:\n",
    "\n",
    "0\n",
    "0.0\n",
    "false"
   ]
  },
  {
   "metadata": {},
   "cell_type": "code",
   "outputs": [],
   "execution_count": null,
   "source": [
    "//sol1\n",
    "val input = readLine()!!\n",
    "val intValue = input.toInt()\n",
    "val doubleValue = input.toDouble()\n",
    "val booleanValue = input.toBoolean()\n",
    "\n",
    "println(intValue)\n",
    "println(doubleValue)\n",
    "println(booleanValue)\n"
   ]
  },
  {
   "metadata": {},
   "cell_type": "code",
   "outputs": [],
   "execution_count": null,
   "source": [
    "//sol2\n",
    "with(readLine()!!) {\n",
    "    println(toInt())\n",
    "    println(toDouble())\n",
    "    println(toBoolean())\n",
    "}"
   ]
  },
  {
   "metadata": {},
   "cell_type": "code",
   "outputs": [],
   "execution_count": null,
   "source": [
    "\n",
    "\n",
    "\n",
    "\n",
    "\n",
    "\n",
    "\n",
    "\n",
    "\n"
   ]
  },
  {
   "metadata": {},
   "cell_type": "markdown",
   "source": [
    "**Reasons**\n",
    "\n",
    "What does type overflow stand for?\n",
    "\n",
    "Overflowing is an integer number with decimal points causing the number to overflow with decimal points\n",
    "\n",
    "It's a website (TypeOverflow) for developers to search for answers to programming-related topics\n",
    "\n",
    "It's when two floating-point numbers are multiplied and one of them is very large and the result is infinitely high, i.e. the result is an overflow\n",
    "\n",
    "It’s a special type in Kotlin called \"Overflow\", which can be assigned to any other available type in Kotlin\n",
    "\n",
    "It's when a some operation attempts to create a numeric value that is outside of the range that can be represented with a given data type  T\n"
   ]
  },
  {
   "metadata": {},
   "cell_type": "code",
   "outputs": [],
   "execution_count": null,
   "source": [
    "\n",
    "\n",
    "\n",
    "\n",
    "\n",
    "\n",
    "\n",
    "\n",
    "\n",
    "\n",
    "\n"
   ]
  },
  {
   "metadata": {},
   "cell_type": "markdown",
   "source": [
    "**Transforming an integer to a string via long**\n",
    "\n",
    "In Kotlin, you've been given a task to convert a given integer number to String. However, the direct conversion is prohibited in this case. You should at first transform this integer to a Long type and only then convert it into a string. Your task is to fill in the blanks in the provided code to correctly perform these conversions and output the final result.\n",
    "\n",
    "Fill in the gaps with the relevant elements"
   ]
  },
  {
   "metadata": {},
   "cell_type": "code",
   "outputs": [],
   "execution_count": null,
   "source": [
    "val intNumber: Int = 100\n",
    "val longNumber: Long = intNumber.toLong()\n",
    "val strNumber: String = longNumber.toString()\n",
    "println(\"The string format of the number is $strNumber.\")"
   ]
  },
  {
   "metadata": {},
   "cell_type": "code",
   "outputs": [],
   "execution_count": null,
   "source": [
    "\n",
    "\n",
    "\n",
    "\n",
    "\n",
    "\n",
    "\n",
    "\n",
    "\n",
    "\n"
   ]
  },
  {
   "metadata": {},
   "cell_type": "markdown",
   "source": [
    "**Converting a Long value to Double and Byte in Kotlin**\n",
    "\n",
    "You are handling data of different types in Kotlin and need to convert these types during runtime. You initially have a value of type Long. Your task is to first convert this Long value to Double, then convert that Double to Byte and finally print these three values. Please make sure that you are declaring the types explicitly during variable initialization and use the appropriate conversion functions for each type conversion. Reorder the lines of code given to you so that it accomplishes this task correctly."
   ]
  },
  {
   "metadata": {},
   "cell_type": "code",
   "outputs": [],
   "execution_count": null,
   "source": [
    "val  myLong: Long = 123\n",
    "val myDouble: Double = myLong.toDouble()\n",
    "val myByte: Byte = myDouble.toInt().toByte()\n",
    "println(\"Long: $myLong, Double:$myDouble, Byte:$myByte \")"
   ]
  },
  {
   "metadata": {},
   "cell_type": "code",
   "outputs": [],
   "execution_count": null,
   "source": [
    "\n",
    "\n",
    "\n",
    "\n",
    "\n",
    "\n",
    "\n"
   ]
  },
  {
   "metadata": {},
   "cell_type": "markdown",
   "source": [
    "**Converting an integer to string and long**\n",
    "\n",
    "In a Kotlin program, you have an integer value that is initially set to 123. You need to convert this integer to a string, then convert that string to a long. Fill the blanks in code to complete the program that does these conversions and finally prints 'Integer: 123, String: 123, Long: 123'."
   ]
  },
  {
   "metadata": {
    "ExecuteTime": {
     "end_time": "2025-07-23T10:39:25.934475200Z",
     "start_time": "2025-07-23T10:39:25.767655700Z"
    }
   },
   "cell_type": "code",
   "source": [
    "val intVar = 123\n",
    "val strVar = intVar.toString()\n",
    "val longVar = strVar.toLong()\n",
    "print(\"Integer: ${intVar}, String: ${strVar}, Long: ${longVar}\")"
   ],
   "outputs": [
    {
     "name": "stdout",
     "output_type": "stream",
     "text": [
      "Integer: 123, String: 123, Long: 123"
     ]
    }
   ],
   "execution_count": 1
  },
  {
   "metadata": {},
   "cell_type": "code",
   "outputs": [],
   "execution_count": null,
   "source": [
    "\n",
    "\n",
    "\n",
    "\n",
    "\n",
    "\n",
    "\n",
    "\n",
    "\n",
    "\n",
    "\n"
   ]
  },
  {
   "metadata": {},
   "cell_type": "markdown",
   "source": [
    "**Converting a number to different data types**\n",
    "\n",
    "You are given a program in Kotlin that initializes a number and subsequently changes this number to different types for different use cases. The program involves conversion to Long, Float, and String data types. Fill in the blanks in the provided code to ensure the correct type conversion methods are used.\n",
    "\n",
    "Fill in the gaps with the relevant elements"
   ]
  },
  {
   "metadata": {},
   "cell_type": "code",
   "outputs": [],
   "execution_count": null,
   "source": [
    "val initialNumber: Int = 100\n",
    "val longNumber: Long = initialNumber.toLong()\n",
    "val floatNumber: Float = initialNumber.toFloat()\n",
    "val strNumber: String = initialNumber.toString()\n",
    "\n",
    "println(\"Long: $longNumber, Float: $floatNumber, String: $strNumber\")\n"
   ]
  },
  {
   "metadata": {},
   "cell_type": "code",
   "outputs": [],
   "execution_count": null,
   "source": [
    "\n",
    "\n",
    "\n",
    "\n",
    "\n",
    "\n",
    "\n",
    "\n",
    "\n"
   ]
  },
  {
   "metadata": {},
   "cell_type": "markdown",
   "source": [
    "**Sum of Longs**\n",
    "\n",
    "Write a program that takes two large numbers as input, converts them to Long, and prints the result of their summation.\n",
    "\n",
    "Input: two long numbers as strings (each starting on new line).\n",
    "\n",
    "Output: Long value.\n",
    "\n",
    "Sample Input 1:\n",
    "\n",
    "1000000000000000\n",
    "2222222222222222\n",
    "\n",
    "Sample Output 1:\n",
    "\n",
    "3222222222222222"
   ]
  },
  {
   "metadata": {},
   "cell_type": "code",
   "outputs": [],
   "execution_count": null,
   "source": [
    "//sol1\n",
    "val input1 = readLine()!!.toLong()\n",
    "val input2 = readLine()!!.toLong()\n",
    "val result = input1 + input2\n",
    "\n",
    "println(result)"
   ]
  },
  {
   "metadata": {},
   "cell_type": "code",
   "outputs": [],
   "execution_count": null,
   "source": [
    "//sol2\n",
    "println(readln().toLong() + readln().toLong())"
   ]
  },
  {
   "metadata": {},
   "cell_type": "code",
   "outputs": [],
   "execution_count": null,
   "source": [
    "//sol3\n",
    "val (a, b) = Array(2) { readln().toLong() }\n",
    "println(a + b)"
   ]
  },
  {
   "metadata": {},
   "cell_type": "code",
   "outputs": [],
   "execution_count": null,
   "source": [
    "\n",
    "\n",
    "\n",
    "\n",
    "\n",
    "\n",
    "\n",
    "\n",
    "\n"
   ]
  },
  {
   "metadata": {},
   "cell_type": "markdown",
   "source": [
    "**Converting to Byte**\n",
    "\n",
    "You are given a floating-point number n of type Double and you are required to convert it to the Byte data type. What is the correct sequence of operations to achieve that?\n",
    "\n",
    "n.toByte()\n",
    "\n",
    "n.toInt().toByte()  T\n",
    "\n",
    "n.toInt().toShort()\n",
    "\n",
    "n.toInt().tobyte()\n",
    "\n",
    "n.floatToByte()\n",
    "\n",
    "toByte(n)"
   ]
  },
  {
   "metadata": {},
   "cell_type": "markdown",
   "source": ""
  },
  {
   "metadata": {},
   "cell_type": "code",
   "outputs": [],
   "execution_count": null,
   "source": [
    "\n",
    "\n",
    "\n",
    "\n",
    "\n",
    "\n",
    "\n",
    "\n",
    "\n",
    "\n",
    "\n"
   ]
  },
  {
   "metadata": {},
   "cell_type": "markdown",
   "source": [
    "**The superior forces of the Empire**\n",
    "\n",
    "It is known that the Galactic Empire has more ships than the Rebel Alliance and the number of the Empire's ships is a multiple of the number of the rebels' ships.\n",
    "\n",
    "Write a program that calculates how many times larger the Empire fleet is.\n",
    "\n",
    "Input: two integers as strings (each starting on a new line).\n",
    "\n",
    "Output: Int value.\n",
    "\n",
    "Sample Input 1:\n",
    "\n",
    "2000\n",
    "1000\n",
    "\n",
    "Sample Output 1:\n",
    "\n",
    "2"
   ]
  },
  {
   "metadata": {},
   "cell_type": "code",
   "outputs": [],
   "execution_count": null,
   "source": [
    "val empire = readLine()!!.toInt()\n",
    "val rebels = readLine()!!.toInt()\n",
    "\n",
    "val ratio = empire / rebels\n",
    "\n",
    "println(ratio)"
   ]
  },
  {
   "metadata": {},
   "cell_type": "code",
   "outputs": [],
   "execution_count": null,
   "source": [
    "//SOL2\n",
    "println(readln().toInt() / readln().toInt())"
   ]
  },
  {
   "metadata": {},
   "cell_type": "code",
   "outputs": [],
   "execution_count": null,
   "source": [
    "\n",
    "\n",
    "\n",
    "\n",
    "\n",
    "\n",
    "\n",
    "\n",
    "\n"
   ]
  },
  {
   "metadata": {},
   "cell_type": "markdown",
   "source": [
    "**Overflow and crash**\n",
    "\n",
    "If overflow occurs within our code, will the program crash?\n",
    "\n",
    "\n",
    "\n",
    "Immediately\n",
    "\n",
    "No, it will continue running without any error, but the result will not be predictable T\n",
    "\n",
    "It will continue running until another overflow will occur and then crash\n",
    "\n",
    "It will print an error to stdout and then crash"
   ]
  },
  {
   "metadata": {},
   "cell_type": "code",
   "outputs": [],
   "execution_count": null,
   "source": [
    "\n",
    "\n",
    "\n",
    "\n",
    "\n",
    "\n",
    "\n",
    "\n",
    "\n"
   ]
  },
  {
   "metadata": {},
   "cell_type": "markdown",
   "source": [
    "**Lie detector**\n",
    "\n",
    "Let's write a lie detector program! The program should take a string as an input, convert it to a boolean value, and print it as the result.\n",
    "\n",
    "Input: String.\n",
    "\n",
    "Output: Boolean value.\n",
    "\n",
    "Sample Input 1:\n",
    "\n",
    "0\n",
    "\n",
    "Sample Output 1:\n",
    "\n",
    "false\n",
    "\n",
    "Sample Input 2:\n",
    "\n",
    "tRUe\n",
    "\n",
    "Sample Output 2:\n",
    "\n",
    "true\n",
    "\n"
   ]
  },
  {
   "metadata": {},
   "cell_type": "code",
   "outputs": [],
   "execution_count": null,
   "source": [
    "val input = readLine()!!\n",
    "val result = input.toBoolean()\n",
    "println(result)"
   ]
  },
  {
   "metadata": {},
   "cell_type": "code",
   "outputs": [],
   "execution_count": null,
   "source": [
    "//SOL2\n",
    "println(readln().toBoolean())"
   ]
  },
  {
   "metadata": {},
   "cell_type": "code",
   "outputs": [],
   "execution_count": null,
   "source": [
    "\n",
    "\n",
    "\n",
    "\n",
    "\n",
    "\n",
    "\n",
    "\n",
    "\n",
    "\n"
   ]
  },
  {
   "metadata": {},
   "cell_type": "markdown",
   "source": [
    "**Program result**\n",
    "\n",
    "Consider the following code:\n",
    "\n",
    "fun main() {\n",
    "    val n: Int = 10_000 * 10_000 * 10_000\n",
    "    println(\"n is $n\")\n",
    "}\n",
    "\n",
    "What is the result of the program?\n",
    "\n",
    "The result of 10000 * 10000 * 10000 is too large to be stored in an Int variable n. This causes an overflow and the program continues to execute because Kotlin does not report errors on overflow"
   ]
  }
 ],
 "metadata": {
  "kernelspec": {
   "display_name": "Kotlin",
   "language": "kotlin",
   "name": "kotlin"
  },
  "language_info": {
   "name": "kotlin",
   "version": "1.9.23",
   "mimetype": "text/x-kotlin",
   "file_extension": ".kt",
   "pygments_lexer": "kotlin",
   "codemirror_mode": "text/x-kotlin",
   "nbconvert_exporter": ""
  }
 },
 "nbformat": 4,
 "nbformat_minor": 0
}
