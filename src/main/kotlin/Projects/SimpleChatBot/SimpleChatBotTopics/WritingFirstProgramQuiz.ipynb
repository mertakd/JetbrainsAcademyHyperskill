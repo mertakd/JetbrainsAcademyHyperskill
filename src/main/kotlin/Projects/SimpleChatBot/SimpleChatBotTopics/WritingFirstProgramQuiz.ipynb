{
 "cells": [
  {
   "cell_type": "code",
   "execution_count": null,
   "metadata": {
    "collapsed": true
   },
   "outputs": [],
   "source": [
    ""
   ]
  },
  {
   "metadata": {},
   "cell_type": "markdown",
   "source": [
    "**Find the keyword**\n",
    "\n",
    "fun main() {\n",
    "    println(\"Hello, World!\")\n",
    "}\n",
    "\n",
    "Which part of this code snippet is classified as a keyword?\n",
    "\n",
    "Select one option from the list\n",
    "\n",
    "fun              T\n",
    "\n",
    "main\n",
    "\n",
    "()\n",
    "\n",
    "\"Hello, World!\"\n",
    "\n",
    "println"
   ]
  },
  {
   "metadata": {},
   "cell_type": "markdown",
   "source": ""
  },
  {
   "metadata": {},
   "cell_type": "markdown",
   "source": [
    "**Identifier**\n",
    "\n",
    "Match the terms below and their definitions.\n",
    "\n",
    "Match the items from left and right columns\n",
    "keyword\n",
    "name\n",
    "statement\n",
    "comment\n",
    "is a word that has a special meaning in the programming language\n",
    "is a word written by a programmer that identifies an entity in a program\n",
    "is a single action\n",
    "is a special text ignored by Kotlin"
   ]
  },
  {
   "metadata": {},
   "cell_type": "markdown",
   "source": ""
  },
  {
   "metadata": {},
   "cell_type": "markdown",
   "source": ""
  },
  {
   "metadata": {},
   "cell_type": "markdown",
   "source": [
    "**Elements of a program**\n",
    "\n",
    "Here is a simple program in Kotlin:\n",
    "\n",
    "fun main() {\n",
    "    println(\"Hello, World!\")\n",
    "}\n",
    "\n",
    "Match the elements of this program with their types.\n",
    "\n",
    "Match the items from left and right columns\n",
    "fun\n",
    "main\n",
    "println(\"Hello, World!\")\n",
    "\"Hello, World!\"\n",
    "\n",
    "keyword\n",
    "name\n",
    "statement\n",
    "literal"
   ]
  },
  {
   "metadata": {},
   "cell_type": "markdown",
   "source": ""
  },
  {
   "metadata": {},
   "cell_type": "markdown",
   "source": "\n"
  },
  {
   "metadata": {},
   "cell_type": "markdown",
   "source": [
    "**Name of an entry point**\n",
    "\n",
    "What is the name of the function that represents the entry point of a program?\n",
    "\n",
    "Select one option from the list\n",
    "\n",
    "App\n",
    "\n",
    "app\n",
    "\n",
    "Run\n",
    "\n",
    "run\n",
    "\n",
    "Main\n",
    "\n",
    "main              T\n",
    "\n",
    "Program\n",
    "\n",
    "program"
   ]
  },
  {
   "metadata": {},
   "cell_type": "markdown",
   "source": ""
  },
  {
   "metadata": {},
   "cell_type": "markdown",
   "source": ""
  },
  {
   "metadata": {},
   "cell_type": "markdown",
   "source": [
    "**The Hello World program**\n",
    "\n",
    "Write a program that prints the phrase \"Hello, World!\" (without quotes).\n",
    "\n",
    "Use the provided template for your solution.\n",
    "\n",
    "\n",
    "Sample Output\n",
    "\n",
    "Hello, World!\n",
    "\n",
    "`fun main() {\n",
    "    println (\"Hello, World!\")\n",
    "}`\n"
   ]
  },
  {
   "metadata": {},
   "cell_type": "markdown",
   "source": ""
  },
  {
   "metadata": {},
   "cell_type": "markdown",
   "source": ""
  },
  {
   "metadata": {},
   "cell_type": "markdown",
   "source": [
    "**The eternal truth**\n",
    "\n",
    "Write a program that prints the string \"2 + 2 = 4\" (without quotes).\n",
    "\n",
    "Use the provided template for your solution.\n",
    "\n",
    "\n",
    "Sample Output\n",
    "\n",
    "2 + 2 = 4\n",
    "\n",
    "`fun main() {\n",
    "    println (\"2 + 2 = 4\")\n",
    "}`\n"
   ]
  },
  {
   "metadata": {},
   "cell_type": "markdown",
   "source": ""
  },
  {
   "metadata": {},
   "cell_type": "markdown",
   "source": ""
  },
  {
   "metadata": {},
   "cell_type": "markdown",
   "source": [
    "**Multiple statements**\n",
    "\n",
    "Change the program so that it prints the words of the phrase \"Learn Kotlin\" on separate lines (make a program with multiple statements).\n",
    "\n",
    "Sample Input 1:\n",
    "\n",
    "Sample Output 1:\n",
    "\n",
    "Learn\n",
    "Kotlin\n",
    "\n",
    "`fun main() {\n",
    "    println(\"Learn\")\n",
    "    println(\"Kotlin\")\n",
    "}`\n",
    "\n"
   ]
  },
  {
   "metadata": {},
   "cell_type": "markdown",
   "source": ""
  },
  {
   "metadata": {},
   "cell_type": "markdown",
   "source": ""
  },
  {
   "metadata": {},
   "cell_type": "markdown",
   "source": ""
  }
 ],
 "metadata": {
  "kernelspec": {
   "display_name": "Kotlin",
   "language": "kotlin",
   "name": "kotlin"
  },
  "language_info": {
   "name": "kotlin",
   "version": "1.9.23",
   "mimetype": "text/x-kotlin",
   "file_extension": ".kt",
   "pygments_lexer": "kotlin",
   "codemirror_mode": "text/x-kotlin",
   "nbconvert_exporter": ""
  }
 },
 "nbformat": 4,
 "nbformat_minor": 0
}
