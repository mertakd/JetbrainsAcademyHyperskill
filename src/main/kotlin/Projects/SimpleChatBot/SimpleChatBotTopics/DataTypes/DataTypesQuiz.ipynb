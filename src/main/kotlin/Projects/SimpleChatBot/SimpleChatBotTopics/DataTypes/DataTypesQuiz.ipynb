{
 "cells": [
  {
   "cell_type": "code",
   "execution_count": null,
   "metadata": {
    "collapsed": true
   },
   "outputs": [],
   "source": [
    ""
   ]
  },
  {
   "metadata": {},
   "cell_type": "markdown",
   "source": [
    "**Fix the program**\n",
    "\n",
    "There is a program that prints the value of number, but somehow it does not work. Please, fix it.\n",
    "\n",
    "Note that there are at least two ways to do it.\n",
    "\n",
    "Sample Output\n",
    "\n",
    "100\n",
    "\n",
    "\n",
    "fun main() {\n",
    "    val number: Int = 100\n",
    "    println(number)\n",
    "}\n"
   ]
  },
  {
   "metadata": {},
   "cell_type": "code",
   "outputs": [],
   "execution_count": null,
   "source": [
    "\n",
    "\n",
    "\n",
    "\n",
    "\n",
    "\n",
    "\n",
    "\n",
    "\n"
   ]
  },
  {
   "metadata": {},
   "cell_type": "markdown",
   "source": [
    "**How to declare a type**\n",
    "\n",
    "Select all the correct ways to declare a variable of the Int type.\n",
    "\n",
    "Select one or more options from the list\n",
    "\n",
    "val n = 100        T\n",
    "\n",
    "val n: Int = 100    T\n",
    "\n",
    "Int n = 100\n",
    "\n",
    "val Int n = 100"
   ]
  },
  {
   "metadata": {},
   "cell_type": "code",
   "outputs": [],
   "execution_count": null,
   "source": [
    "\n",
    "\n",
    "\n",
    "\n",
    "\n",
    "\n",
    "\n",
    "\n",
    "\n"
   ]
  },
  {
   "metadata": {},
   "cell_type": "markdown",
   "source": [
    "**Valid declarations**\n",
    "\n",
    "Select all correct ways to declare a variable of the String type.\n",
    "\n",
    "Select one or more options from the list\n",
    "\n",
    "val lang = \"Kotlin\"            T\n",
    "\n",
    "val String lang = \"Kotlin\"\n",
    "\n",
    "val lang: String = \"Kotlin\"    T\n",
    "\n",
    "String lang = \"Kotlin\""
   ]
  },
  {
   "metadata": {},
   "cell_type": "code",
   "outputs": [],
   "execution_count": null,
   "source": [
    "\n",
    "\n",
    "\n",
    "\n",
    "\n",
    "\n",
    "\n",
    "\n",
    "\n"
   ]
  },
  {
   "metadata": {},
   "cell_type": "markdown",
   "source": [
    "**The form of declaration without type inference**\n",
    "\n",
    "What is the valid variable declaration without using type inference?\n",
    "\n",
    "val identifier = initialization\n",
    "\n",
    "Type identifier = initialization\n",
    "\n",
    "val identifier: Type = initialization      T\n",
    "\n",
    "val identifier = initialization: Type"
   ]
  },
  {
   "metadata": {},
   "cell_type": "code",
   "outputs": [],
   "execution_count": null,
   "source": [
    "\n",
    "\n",
    "\n",
    "\n",
    "\n",
    "\n",
    "\n",
    "\n",
    "\n"
   ]
  },
  {
   "metadata": {},
   "cell_type": "markdown",
   "source": [
    "**Type mismatch**\n",
    "\n",
    "Select one case where the type mismatch error occurs.\n",
    "\n",
    "a)\n",
    "\n",
    "var age = 30\n",
    "age = 31\n",
    "\n",
    "\n",
    "b)\n",
    "\n",
    "var age: String = \"30\"\n",
    "age = \"31\"\n",
    "\n",
    "\n",
    "c)       T\n",
    "\n",
    "var age: Int = 30\n",
    "age = \"31\"\n",
    "\n",
    "\n",
    "d)\n",
    "\n",
    "var age: Int = 40\n",
    "age = 41\n",
    "\n",
    "Select one option from the list\n",
    "\n",
    "a\n",
    "\n",
    "b\n",
    "\n",
    "c           T\n",
    "\n",
    "d"
   ]
  },
  {
   "metadata": {},
   "cell_type": "code",
   "outputs": [],
   "execution_count": null,
   "source": [
    "\n",
    "\n",
    "\n",
    "\n",
    "\n",
    "\n",
    "\n",
    "\n",
    "\n",
    "\n"
   ]
  },
  {
   "metadata": {},
   "cell_type": "markdown",
   "source": [
    "**Select correct statements about types**\n",
    "\n",
    "Select all correct statements about types.\n",
    "\n",
    "Select one or more options from the list\n",
    "\n",
    "Every variable has a type.\n",
    "\n",
    "The type determines the name of a variable.\n",
    "\n",
    "The type restricts possible values of a variable.\n",
    "\n",
    "The type of a variable declared with the var keyword can be changed."
   ]
  },
  {
   "metadata": {},
   "cell_type": "code",
   "outputs": [],
   "execution_count": null,
   "source": [
    "\n",
    "\n",
    "\n",
    "\n",
    "\n",
    "\n",
    "\n",
    "\n",
    "\n"
   ]
  },
  {
   "metadata": {},
   "cell_type": "markdown",
   "source": [
    "**Correct description of the data type**\n",
    "\n",
    "Select all correct statements about data types.\n",
    "\n",
    "Select one or more options from the list\n",
    "\n",
    "\n",
    "\n",
    "\n",
    "It is impossible to change the type of a variable.  T\n",
    "\n",
    "It is possible to assign a value to a variable of another type (e.g. \"abc\" to an Int variable)\n",
    "\n",
    "If you do not specify a type for a variable, then it does not have a type at all.\n",
    "\n",
    "Kotlin can figure out the type of a variable automatically based on the assigning value.  T"
   ]
  },
  {
   "metadata": {},
   "cell_type": "code",
   "outputs": [],
   "execution_count": null,
   "source": [
    "\n",
    "\n",
    "\n",
    "\n",
    "\n",
    "\n",
    "\n",
    "\n",
    "\n"
   ]
  },
  {
   "metadata": {},
   "cell_type": "markdown",
   "source": [
    "**Match declarations**\n",
    "\n",
    "There is a set of declarations. Some of them are invalid.\n",
    "\n",
    "a)\n",
    "\n",
    "val language = \"Kotlin\"\n",
    "\n",
    "b)\n",
    "\n",
    "val language\n",
    "language = \"Kotlin\"\n",
    "\n",
    "c)\n",
    "\n",
    "val version: Int = \"the newest one\"\n",
    "\n",
    "d)\n",
    "\n",
    "val language: String\n",
    "language = \"Kotlin\"\n",
    "\n",
    "Match these declarations with their descriptions.\n",
    "\n",
    "Tip: Type inference is a mechanism that automatically determines the type of variables. It works when you do not set the variable type manually.\n",
    "\n",
    "\n",
    "a\n",
    "b\n",
    "c\n",
    "d\n",
    "Valid declaration without type inference\n",
    "Invalid declaration, the variable doesn't have a type\n",
    "Invalid declaration with type mismatch\n",
    "Valid declaration with type inference"
   ]
  },
  {
   "metadata": {},
   "cell_type": "code",
   "outputs": [],
   "execution_count": null,
   "source": [
    "\n",
    "\n",
    "\n",
    "\n",
    "\n",
    "\n",
    "\n",
    "\n",
    "\n"
   ]
  },
  {
   "metadata": {},
   "cell_type": "markdown",
   "source": [
    "**Equivalent**\n",
    "\n",
    "Which one is equivalent to val age = \"42\"?\n",
    "\n",
    "Select one option from the list\n",
    "\n",
    "\n",
    "\n",
    "val age: Int = 42\n",
    "\n",
    "Int age = 42\n",
    "\n",
    "val age = “42”: String\n",
    "\n",
    "String age = “42”\n",
    "\n",
    "var age = 42\n",
    "\n",
    "val age: String = “42”  T\n",
    "\n",
    "val age: Char = ‘42’"
   ]
  },
  {
   "metadata": {},
   "cell_type": "code",
   "outputs": [],
   "execution_count": null,
   "source": [
    "\n",
    "\n",
    "\n",
    "\n",
    "\n",
    "\n",
    "\n",
    "\n",
    "\n"
   ]
  },
  {
   "metadata": {},
   "cell_type": "markdown",
   "source": [
    "**Fill in the type**\n",
    "\n",
    "Which of the following can fill in the blank? val c: ____ = \"42\"\n",
    "\n",
    "Select one or more options from the list\n",
    "\n",
    "\n",
    "Int\n",
    "\n",
    "string\n",
    "\n",
    "var\n",
    "\n",
    "String    T\n",
    "\n",
    "We can remove the colon (:) and the blank line and let Kotlin figure out the type   T\n",
    "\n",
    "Char"
   ]
  },
  {
   "metadata": {},
   "cell_type": "code",
   "outputs": [],
   "execution_count": null,
   "source": [
    "\n",
    "\n",
    "\n",
    "\n",
    "\n",
    "\n",
    "\n",
    "\n",
    "\n"
   ]
  },
  {
   "metadata": {},
   "cell_type": "markdown",
   "source": [
    "**Types on parade**\n",
    "\n",
    "Given the following Kotlin code snippets, identify which ones involve type inference exclusively for immutable (val) variables:\n",
    "\n",
    "Select one or more options from the list\n",
    "\n",
    "var size = \"Medium\"\n",
    "\n",
    "var length: Int = 100\n",
    "\n",
    "val number: Int = 20\n",
    "\n",
    "val temp = 30.5        T\n",
    "\n",
    "val greeting = \"Good morning\"       T"
   ]
  },
  {
   "metadata": {},
   "cell_type": "code",
   "outputs": [],
   "execution_count": null,
   "source": [
    "\n",
    "\n",
    "\n",
    "\n",
    "\n",
    "\n",
    "\n",
    "\n"
   ]
  },
  {
   "metadata": {},
   "cell_type": "markdown",
   "source": [
    "**Think as a compiler**\n",
    "\n",
    "Declare two variables of type String, name them first and last, and assign your first name and your last name to them.\n",
    "\n",
    "Declare one more variable of type Int with the name age and assign your age to it.\n",
    "\n",
    "\n",
    "`fun main() {\n",
    "    val first = \"Mert\"\n",
    "    val last = \"Akdoğan\"\n",
    "    val age = 28\n",
    "    // put your code above\n",
    "    println(\"My name is $first $last and I’m $age years old\")\n",
    "}\n",
    "`"
   ]
  },
  {
   "metadata": {},
   "cell_type": "code",
   "outputs": [],
   "execution_count": null,
   "source": [
    "\n",
    "\n",
    "\n",
    "\n",
    "\n",
    "\n",
    "\n",
    "\n",
    "\n",
    "\n"
   ]
  },
  {
   "metadata": {},
   "cell_type": "markdown",
   "source": [
    "**Edit it**\n",
    "\n",
    "The following code snippet contains errors. Find and correct them so that the final result will be the output of the following line:\n",
    "\"Kotlin is a cross-platform, statically typed, general-purpose programming language with type coercion.\"\n",
    "\n",
    "Sample Input 1:\n",
    "\n",
    "\n",
    "Sample Output 1:\n",
    "\n",
    "Kotlin is a cross-platform, statically typed, general-purpose programming language with type coercio\n",
    "\n",
    "fun main() {\n",
    "    val part1 : String = \"Kotlin \"\n",
    "    val part2 = \"is a cross-platform\"\n",
    "    val part3 : String  = \", statically typed, \"\n",
    "    val part4 = \"general-purpose programming language with type coercion.\"\n",
    "\n",
    "    print(part1)\n",
    "    print(part2)\n",
    "    print(part3)\n",
    "    print(part4)\n",
    "}\n"
   ]
  },
  {
   "metadata": {},
   "cell_type": "code",
   "outputs": [],
   "execution_count": null,
   "source": [
    "\n",
    "\n",
    "\n",
    "\n",
    "\n",
    "\n",
    "\n",
    "\n",
    "\n",
    "\n"
   ]
  },
  {
   "metadata": {},
   "cell_type": "markdown",
   "source": [
    "**Legitimate literals**\n",
    "\n",
    "Which of the following are legal Int literals?\n",
    "\n",
    "Select one or more options from the list\n",
    "\n",
    "-6875309          T\n",
    "\n",
    "\"-12\"\n",
    "\n",
    "1.5\n",
    "\n",
    "42              T\n",
    "\n",
    "2.3\n",
    "\n",
    "'7'\n",
    "\n",
    "10.0\n",
    "\n",
    "-1                  T"
   ]
  }
 ],
 "metadata": {
  "kernelspec": {
   "display_name": "Kotlin",
   "language": "kotlin",
   "name": "kotlin"
  },
  "language_info": {
   "name": "kotlin",
   "version": "1.9.23",
   "mimetype": "text/x-kotlin",
   "file_extension": ".kt",
   "pygments_lexer": "kotlin",
   "codemirror_mode": "text/x-kotlin",
   "nbconvert_exporter": ""
  }
 },
 "nbformat": 4,
 "nbformat_minor": 0
}
