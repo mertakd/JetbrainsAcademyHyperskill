{
 "cells": [
  {
   "cell_type": "code",
   "execution_count": null,
   "metadata": {
    "collapsed": true
   },
   "outputs": [],
   "source": [
    ""
   ]
  },
  {
   "metadata": {},
   "cell_type": "markdown",
   "source": [
    "**Incorrect comment**\n",
    "\n",
    "Which of the following is not a valid comment in Kotlin?\n",
    "\n",
    "Select one option from the list\n",
    "\n",
    "// Add 15 to the result\n",
    "\n",
    "  # This is an example comment in Kotlin      T\n",
    "\n",
    "/*** FIXME: bug 123 should be fixed ***/\n",
    "\n",
    "/* Read lines from stdin ****/"
   ]
  },
  {
   "metadata": {},
   "cell_type": "code",
   "outputs": [],
   "execution_count": null,
   "source": [
    "\n",
    "\n",
    "\n",
    "\n",
    "\n",
    "\n",
    "\n",
    "\n",
    "\n"
   ]
  },
  {
   "metadata": {},
   "cell_type": "markdown",
   "source": [
    "Groups of comments\n",
    "\n",
    "Match the comments and their groups.\n",
    "\n",
    "Match the items from left and right columns\n",
    "// a comment\n",
    "/* a comment */\n",
    "/** a comment */\n",
    "\n",
    "end-of-line comment\n",
    "multi-line comment\n",
    "documentation comments\n"
   ]
  },
  {
   "metadata": {},
   "cell_type": "code",
   "outputs": [],
   "execution_count": null,
   "source": [
    "\n",
    "\n",
    "\n",
    "\n",
    "\n",
    "\n",
    "\n",
    "\n"
   ]
  },
  {
   "metadata": {},
   "cell_type": "markdown",
   "source": [
    "**Uncomment some lines**\n",
    "\n",
    "Here is a program that does not work. Fix it, please.\n",
    "\n",
    "You need to uncomment some lines so that the program prints the number 893457.\n",
    "\n",
    "\n",
    "fun main() {\n",
    "    // println(980233)\n",
    "     println(893457)\n",
    "    // println(789722)\n",
    "}"
   ]
  },
  {
   "metadata": {},
   "cell_type": "code",
   "outputs": [],
   "execution_count": null,
   "source": [
    "\n",
    "\n",
    "\n",
    "\n",
    "\n",
    "\n",
    "\n",
    "\n",
    "\n"
   ]
  },
  {
   "metadata": {},
   "cell_type": "markdown",
   "source": [
    "**Hello, Kotlin**\n",
    "\n",
    "Add comments to the code so that the program outputs \"Hello, Kotlin\".\n",
    "\n",
    "Note, print displays a string without a new line.\n",
    "\n",
    "Write a program in Kotlin\n",
    "\n",
    "\n",
    "\n",
    "fun main() {\n",
    "    print(\"Hello, \")\n",
    "    // print(\"world\")\n",
    "    // print(\" and \")\n",
    "    print(\"Kotlin\")\n",
    "}\n"
   ]
  },
  {
   "metadata": {},
   "cell_type": "code",
   "outputs": [],
   "execution_count": null,
   "source": [
    "\n",
    "\n",
    "\n",
    "\n",
    "\n",
    "\n",
    "\n",
    "\n",
    "\n"
   ]
  },
  {
   "metadata": {},
   "cell_type": "markdown",
   "source": [
    "**Printing only the longest line**\n",
    "\n",
    "Comment or uncomment some lines so that the code below prints the longest string only.\n",
    "\n",
    "\n",
    "fun main() {\n",
    "    //println(\"Print it!\")\n",
    "    // println(\"No, print it!\")\n",
    "    /* println(\"Uncomment this line!\") */\n",
    "    println(\"Please, comment this line!\")\n",
    "    //println(\"Display this text!\")\n",
    "    //// println(\"Do not comment it!\")\n",
    "}\n"
   ]
  },
  {
   "metadata": {},
   "cell_type": "code",
   "outputs": [],
   "execution_count": null,
   "source": [
    "\n",
    "\n",
    "\n",
    "\n",
    "\n",
    "\n",
    "\n",
    "\n"
   ]
  },
  {
   "metadata": {},
   "cell_type": "markdown",
   "source": [
    "**The forgotten comments**\n",
    "\n",
    "A programmer wrote a program with lots of comments in it but forgot to add the symbols required for comments. As a result, the program does not work. You need to comment some lines in this code to compile it.\n",
    "\n",
    "Please do not remove the existing comments!\n",
    "\n",
    "\n",
    "//The function must be named \"main\"\n",
    "fun main() {\n",
    "    println(\"It works!\") //This statement prints a text\n",
    "}"
   ]
  },
  {
   "metadata": {},
   "cell_type": "code",
   "outputs": [],
   "execution_count": null,
   "source": [
    "\n",
    "\n",
    "\n",
    "\n",
    "\n",
    "\n",
    "\n",
    "\n"
   ]
  },
  {
   "metadata": {},
   "cell_type": "markdown",
   "source": [
    "**Find the correct comment**\n",
    "\n",
    "Which of the following is a valid comment in Kotlin?\n",
    "\n",
    "Select one option from the list\n",
    "\n",
    "///// Go outside           T\n",
    "\n",
    "#! Kotlin\n",
    "\n",
    "/ Process failed /\n",
    "\n",
    "None of the above"
   ]
  },
  {
   "metadata": {},
   "cell_type": "code",
   "outputs": [],
   "execution_count": null,
   "source": [
    "\n",
    "\n",
    "\n",
    "\n",
    "\n",
    "\n",
    "\n",
    "\n",
    "\n"
   ]
  },
  {
   "metadata": {},
   "cell_type": "markdown",
   "source": [
    "**The countdown**\n",
    "\n",
    "Here is a program. Uncomment some lines so that it outputs:\n",
    "\n",
    "three!\n",
    "two!\n",
    "one!\n",
    "go!\n",
    "\n",
    "\n",
    "fun main() {\n",
    "    println(\"three!\")\n",
    "    println(\"two!\")\n",
    "    println(\"one!\")\n",
    "    println(\"go!\")\n",
    "}\n"
   ]
  },
  {
   "metadata": {},
   "cell_type": "markdown",
   "source": ""
  },
  {
   "metadata": {},
   "cell_type": "code",
   "outputs": [],
   "execution_count": null,
   "source": [
    "\n",
    "\n",
    "\n",
    "\n",
    "\n",
    "\n",
    "\n",
    "\n",
    "\n"
   ]
  },
  {
   "metadata": {},
   "cell_type": "markdown",
   "source": [
    "**Comment some lines**\n",
    "\n",
    "Here is a program that prints numbers. Comment some lines so that the program prints only these three numbers:\n",
    "\n",
    "5\n",
    "6\n",
    "7\n",
    "\n",
    "fun main() {\n",
    "    //println(1)\n",
    "    //println(2)\n",
    "    //println(3)\n",
    "    //println(4)\n",
    "    println(5)\n",
    "    println(6)\n",
    "    println(7)\n",
    "    //println(8)\n",
    "}"
   ]
  },
  {
   "metadata": {},
   "cell_type": "code",
   "outputs": [],
   "execution_count": null,
   "source": [
    "\n",
    "\n",
    "\n",
    "\n",
    "\n",
    "\n",
    "\n",
    "\n",
    "\n"
   ]
  },
  {
   "metadata": {},
   "cell_type": "markdown",
   "source": [
    "**Incorrect comments**\n",
    "\n",
    "Here is a program with incorrectly written comments. It does not work.\n",
    "\n",
    "Fix the program so that it prints a single line \"Yet another simple Kotlin application\".\n",
    "\n",
    "\n",
    "\n",
    "fun main() {\n",
    "    println(\"Yet another simple Kotlin application\")\n",
    "}\n"
   ]
  },
  {
   "metadata": {},
   "cell_type": "code",
   "outputs": [],
   "execution_count": null,
   "source": [
    "\n",
    "\n",
    "\n",
    "\n",
    "\n",
    "\n"
   ]
  },
  {
   "metadata": {},
   "cell_type": "markdown",
   "source": [
    "**Unused comments**\n",
    "\n",
    "Which kinds of comments are used in this code?\n",
    "\n",
    "/**\n",
    " * It prints the text \"Hello, Kotlin!\" without quotes.\n",
    " */\n",
    "fun main() {\n",
    "    // println(\"args???\")\n",
    "    println(\"Hello, Kotlin!\")\n",
    "}\n",
    "\n",
    "\n",
    "Select one or more options from the list\n",
    "\n",
    "The documentation comments (doc comments)       T\n",
    "\n",
    "The standard multiline comments\n",
    "\n",
    "Single line comment - comment at the end of a line      T"
   ]
  },
  {
   "metadata": {},
   "cell_type": "code",
   "outputs": [],
   "execution_count": null,
   "source": [
    "\n",
    "\n",
    "\n",
    "\n",
    "\n",
    "\n",
    "\n",
    "\n",
    "\n"
   ]
  },
  {
   "metadata": {},
   "cell_type": "markdown",
   "source": ""
  }
 ],
 "metadata": {
  "kernelspec": {
   "display_name": "Kotlin",
   "language": "kotlin",
   "name": "kotlin"
  },
  "language_info": {
   "name": "kotlin",
   "version": "1.9.23",
   "mimetype": "text/x-kotlin",
   "file_extension": ".kt",
   "pygments_lexer": "kotlin",
   "codemirror_mode": "text/x-kotlin",
   "nbconvert_exporter": ""
  }
 },
 "nbformat": 4,
 "nbformat_minor": 0
}
