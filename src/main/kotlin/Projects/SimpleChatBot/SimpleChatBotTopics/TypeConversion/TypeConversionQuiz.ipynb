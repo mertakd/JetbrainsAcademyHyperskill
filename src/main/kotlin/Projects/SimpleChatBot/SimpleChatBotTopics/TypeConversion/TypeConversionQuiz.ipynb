{
 "cells": [
  {
   "cell_type": "code",
   "execution_count": null,
   "metadata": {
    "collapsed": true
   },
   "outputs": [],
   "source": [
    ""
   ]
  },
  {
   "metadata": {},
   "cell_type": "markdown",
   "source": [
    "**Floating-point to integer conversion**\n",
    "\n",
    "Write a program that reads a floating-point number from the user, converts it to an integer, and prints the result. The program should handle both positive and negative numbers.\n",
    "\n",
    "Sample Input 1:\n",
    "\n",
    "3.14\n",
    "\n",
    "Sample Output 1:\n",
    "\n",
    "3\n",
    "\n",
    "Sample Input 2:\n",
    "\n",
    "-2.71\n",
    "\n",
    "Sample Output 2:\n",
    "\n",
    "-2"
   ]
  },
  {
   "metadata": {},
   "cell_type": "code",
   "outputs": [],
   "execution_count": null,
   "source": [
    "val floatNumber = readln().toDouble()\n",
    "\n",
    "val intNumber = floatNumber.toInt()\n",
    "\n",
    "println(intNumber)"
   ]
  },
  {
   "metadata": {},
   "cell_type": "code",
   "outputs": [],
   "execution_count": null,
   "source": [
    "\n",
    "\n",
    "\n",
    "\n",
    "\n",
    "\n",
    "\n",
    "\n",
    "\n",
    "\n"
   ]
  },
  {
   "metadata": {},
   "cell_type": "markdown",
   "source": [
    "**Overflow and crash**\n",
    "\n",
    "If overflow occurs within our code, will the program crash?\n",
    "\n",
    "\n",
    "Immediately\n",
    "\n",
    "No, it will continue running without any error, but the result will not be predictable  T\n",
    "\n",
    "It will continue running until another overflow will occur and then crash\n",
    "\n",
    "It will print an error to stdout and then crash"
   ]
  },
  {
   "metadata": {},
   "cell_type": "code",
   "outputs": [],
   "execution_count": null,
   "source": [
    "\n",
    "\n",
    "\n",
    "\n",
    "\n",
    "\n",
    "\n",
    "\n",
    "\n"
   ]
  },
  {
   "metadata": {},
   "cell_type": "markdown",
   "source": [
    "Immediately\n",
    "\n",
    "\n",
    "No, it will continue running without any error, but the result will not be predictable  T\n",
    "\n",
    "It will continue running until another overflow will occur and then crash\n",
    "\n",
    "It will print an error to stdout and then crash\n"
   ]
  },
  {
   "metadata": {},
   "cell_type": "code",
   "outputs": [],
   "execution_count": null,
   "source": [
    "\n",
    "\n",
    "\n",
    "\n",
    "\n",
    "\n",
    "\n",
    "\n",
    "\n"
   ]
  },
  {
   "metadata": {},
   "cell_type": "markdown",
   "source": [
    "**Where is type overflow possible?**\n",
    "\n",
    "Imagine that you have an Int variable. For some reason, you need to convert it to other types.\n",
    "\n",
    "val n: Int = ... // it has some value\n",
    "\n",
    "Select one or more lines where type overflow is possible.\n",
    "\n",
    "3"
   ]
  },
  {
   "metadata": {},
   "cell_type": "code",
   "outputs": [],
   "execution_count": null,
   "source": [
    "\n",
    "\n",
    "\n",
    "\n",
    "\n",
    "\n",
    "\n",
    "\n"
   ]
  },
  {
   "metadata": {},
   "cell_type": "markdown",
   "source": [
    "**Where is the type overflow possible?**\n",
    "\n",
    "Imagine that you have a variable of the Double type. You need to convert it to other types.\n",
    "\n",
    "val d: Double = ... // it has some value\n",
    "\n",
    "val i = d.toInt()    // 1\n",
    "val s = d.toString() // 2\n",
    "val f = d.toFloat()  // 3\n",
    "\n",
    "Select one or more lines where type overflow is possible.\n",
    "\n",
    "Select one or more options from the list\n",
    "\n",
    "1  T\n",
    "\n",
    "2\n",
    "\n",
    "3   T"
   ]
  },
  {
   "metadata": {},
   "cell_type": "code",
   "outputs": [],
   "execution_count": null,
   "source": [
    "\n",
    "\n",
    "\n",
    "\n",
    "\n",
    "\n",
    "\n",
    "\n",
    "\n"
   ]
  },
  {
   "metadata": {},
   "cell_type": "markdown",
   "source": [
    "Existing functions\n",
    " Report a typo\n",
    "We have three variables of different types:\n",
    "\n",
    "\n",
    "val i = 101\n",
    "val d = 3.1415\n",
    "val s = \"32\"\n",
    "\n",
    "\n",
    "Select all correct (can compile and work) conversion functions.\n",
    "\n",
    "Select one or more options from the list\n",
    "\n",
    "i.toBoolean()\n",
    "\n",
    "i.toDouble()       T\n",
    "\n",
    "d.toLong()          T\n",
    "\n",
    "d.toString()        T\n",
    "\n",
    "s.toChar()\n",
    "\n",
    "s.toInt()           T"
   ]
  },
  {
   "metadata": {},
   "cell_type": "code",
   "outputs": [],
   "execution_count": null,
   "source": [
    "\n",
    "\n",
    "\n",
    "\n",
    "\n",
    "\n",
    "\n",
    "\n",
    "\n",
    "\n",
    "\n"
   ]
  },
  {
   "metadata": {},
   "cell_type": "markdown",
   "source": [
    "**Cutting the fraction**\n",
    "\n",
    "Write a program that reads a number, cuts off its fractional part, and prints the integer part of the input number as the result.\n",
    "\n",
    "Use Double as the input type and Long as the result type (values may be quite large).\n",
    "\n",
    "Input: single number of type Double.\n",
    "\n",
    "Output: single number of type Long.\n",
    "\n",
    "Sample Input 1:\n",
    "\n",
    "5.44\n",
    "\n",
    "Sample Output 1:\n",
    "\n",
    "5"
   ]
  },
  {
   "metadata": {},
   "cell_type": "code",
   "outputs": [],
   "execution_count": null,
   "source": [
    "val input = readLine()!!.toDouble()\n",
    "val output = input.toLong()\n",
    "\n",
    "println(output)"
   ]
  },
  {
   "metadata": {},
   "cell_type": "code",
   "outputs": [],
   "execution_count": null,
   "source": [
    "\n",
    "\n",
    "\n",
    "\n",
    "\n",
    "\n",
    "\n",
    "\n",
    "\n",
    "\n"
   ]
  },
  {
   "metadata": {},
   "cell_type": "markdown",
   "source": [
    "**Simple converter**\n",
    "\n",
    "Let's make a simple converter that converts values to the following three types – Int, Double, and Boolean.\n",
    "\n",
    "Your program should read a value and print the result of its conversion to Int, Double, and Boolean types sequentially.\n",
    "\n",
    "Input: value: String.\n",
    "\n",
    "Output: Int, Double, and Boolean values (each on a new line).\n",
    "\n",
    "Sample Input 1:\n",
    "\n",
    "0\n",
    "\n",
    "Sample Output 1:\n",
    "\n",
    "0\n",
    "0.0\n",
    "false"
   ]
  },
  {
   "metadata": {},
   "cell_type": "code",
   "outputs": [],
   "execution_count": null,
   "source": [
    "val input = readLine()!!\n",
    "val intValue = input.toInt()\n",
    "val doubleValue = input.toDouble()\n",
    "val booleanValue = input.toBoolean()\n",
    "\n",
    "println(intValue)\n",
    "println(doubleValue)\n",
    "println(booleanValue)"
   ]
  },
  {
   "metadata": {},
   "cell_type": "code",
   "outputs": [],
   "execution_count": null,
   "source": [
    "\n",
    "\n",
    "\n",
    "\n",
    "\n",
    "\n",
    "\n",
    "\n",
    "\n"
   ]
  },
  {
   "metadata": {},
   "cell_type": "markdown",
   "source": [
    "**Reasons**\n",
    "\n",
    "What does type overflow stand for?\n",
    "\n",
    "It's when a some operation attempts to create a numeric value that is outside of the range that can be represented with a given data type\n"
   ]
  },
  {
   "metadata": {},
   "cell_type": "code",
   "outputs": [],
   "execution_count": null,
   "source": [
    "\n",
    "\n",
    "\n",
    "\n",
    "\n",
    "\n",
    "\n"
   ]
  },
  {
   "metadata": {},
   "cell_type": "markdown",
   "source": [
    "**Sum of Longs**\n",
    "\n",
    "Write a program that takes two large numbers as input, converts them to Long, and prints the result of their summation.\n",
    "\n",
    "Input: two long numbers as strings (each starting on new line).\n",
    "\n",
    "Output: Long value.\n",
    "\n",
    "Sample Input 1:\n",
    "\n",
    "1000000000000000\n",
    "2222222222222222\n",
    "\n",
    "Sample Output 1:\n",
    "\n",
    "3222222222222222"
   ]
  },
  {
   "metadata": {},
   "cell_type": "code",
   "outputs": [],
   "execution_count": null,
   "source": [
    "val input1 = readLine()!!.toLong()\n",
    "val input2 = readLine()!!.toLong()\n",
    "val result = input1 + input2\n",
    "\n",
    "println(result)"
   ]
  },
  {
   "metadata": {},
   "cell_type": "markdown",
   "source": [
    "\n",
    "\n",
    "\n",
    "\n",
    "\n",
    "\n",
    "\n",
    "\n",
    "\n"
   ]
  },
  {
   "metadata": {},
   "cell_type": "code",
   "outputs": [],
   "execution_count": null,
   "source": [
    "\n",
    "\n",
    "\n",
    "\n",
    "\n",
    "\n",
    "\n",
    "\n",
    "\n"
   ]
  },
  {
   "metadata": {},
   "cell_type": "markdown",
   "source": [
    "**Converting to Byte**\n",
    "\n",
    "You are given a floating-point number n of type Double and you are required to convert it to the Byte data type. What is the correct sequence of operations to achieve that?\n",
    "\n",
    "Select one option from the list\n",
    "\n",
    "n.toByte()\n",
    "\n",
    "n.toInt().toByte()     T\n",
    "\n",
    "n.toInt().toShort()\n",
    "\n",
    "n.toInt().tobyte()\n",
    "\n",
    "n.floatToByte()\n",
    "\n",
    "toByte(n)"
   ]
  },
  {
   "metadata": {},
   "cell_type": "code",
   "outputs": [],
   "execution_count": null,
   "source": [
    "\n",
    "\n",
    "\n",
    "\n",
    "\n",
    "\n",
    "\n",
    "\n",
    "\n",
    "\n",
    "\n"
   ]
  },
  {
   "metadata": {},
   "cell_type": "markdown",
   "source": [
    "**The superior forces of the Empire**\n",
    "\n",
    "It is known that the Galactic Empire has more ships than the Rebel Alliance and the number of the Empire's ships is a multiple of the number of the rebels' ships.\n",
    "\n",
    "Write a program that calculates how many times larger the Empire fleet is.\n",
    "\n",
    "Input: two integers as strings (each starting on a new line).\n",
    "\n",
    "Output: Int value.\n",
    "\n",
    "Sample Input 1:\n",
    "\n",
    "2000\n",
    "1000\n",
    "\n",
    "Sample Output 1:\n",
    "\n",
    "2"
   ]
  },
  {
   "metadata": {},
   "cell_type": "code",
   "outputs": [],
   "execution_count": null,
   "source": [
    "val empire = readLine()!!.toInt()\n",
    "val rebels = readLine()!!.toInt()\n",
    "\n",
    "val ratio = empire / rebels\n",
    "\n",
    "println(ratio)"
   ]
  },
  {
   "metadata": {},
   "cell_type": "markdown",
   "source": [
    "\n",
    "\n",
    "\n",
    "\n",
    "\n",
    "\n"
   ]
  },
  {
   "metadata": {},
   "cell_type": "code",
   "outputs": [],
   "execution_count": null,
   "source": [
    "\n",
    "\n",
    "\n",
    "\n",
    "\n",
    "\n",
    "\n",
    "\n",
    "\n",
    "\n",
    "\n",
    "\n",
    "\n"
   ]
  },
  {
   "metadata": {},
   "cell_type": "markdown",
   "source": [
    "**Lie detector**\n",
    "\n",
    "Let's write a lie detector program! The program should take a string as an input, convert it to a boolean value, and print it as the result.\n",
    "\n",
    "Input: String.\n",
    "\n",
    "Output: Boolean value.\n",
    "\n",
    "Sample Input 1:\n",
    "\n",
    "0\n",
    "\n",
    "Sample Output 1:\n",
    "\n",
    "false\n",
    "\n",
    "Sample Input 2:\n",
    "\n",
    "tRUe\n",
    "\n",
    "Sample Output 2:\n",
    "\n",
    "true"
   ]
  },
  {
   "metadata": {},
   "cell_type": "code",
   "outputs": [],
   "execution_count": null,
   "source": [
    "val input = readLine()!!\n",
    "val result = input.toBoolean()\n",
    "println(result)"
   ]
  },
  {
   "metadata": {},
   "cell_type": "code",
   "outputs": [],
   "execution_count": null,
   "source": [
    "\n",
    "\n",
    "\n",
    "\n",
    "\n",
    "\n",
    "\n",
    "\n",
    "\n"
   ]
  },
  {
   "metadata": {},
   "cell_type": "markdown",
   "source": [
    "**Program result**\n",
    "\n",
    "Consider the following code:\n",
    "\n",
    "fun main() {\n",
    "    val n: Int = 10_000 * 10_000 * 10_000\n",
    "    println(\"n is $n\")\n",
    "}\n",
    "\n",
    "\n",
    "The result of 10000 * 10000 * 10000 is too large to be stored in an Int variable n. This causes an overflow and the program continues to execute because Kotlin does not report errors on overflow"
   ]
  }
 ],
 "metadata": {
  "kernelspec": {
   "display_name": "Kotlin",
   "language": "kotlin",
   "name": "kotlin"
  },
  "language_info": {
   "name": "kotlin",
   "version": "1.9.23",
   "mimetype": "text/x-kotlin",
   "file_extension": ".kt",
   "pygments_lexer": "kotlin",
   "codemirror_mode": "text/x-kotlin",
   "nbconvert_exporter": ""
  }
 },
 "nbformat": 4,
 "nbformat_minor": 0
}
