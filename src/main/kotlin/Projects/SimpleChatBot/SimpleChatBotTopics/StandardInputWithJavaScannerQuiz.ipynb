{
 "cells": [
  {
   "cell_type": "code",
   "execution_count": null,
   "metadata": {
    "collapsed": true
   },
   "outputs": [],
   "source": [
    ""
   ]
  },
  {
   "metadata": {},
   "cell_type": "markdown",
   "source": [
    "**Create a program using Java's Scanner class for user input**\n",
    "\n",
    "You've been tasked with creating a basic program in Kotlin that asks the user to input a number, and then displays the number that was entered. The catch is that your input reader should utilize Java's Scanner class. You have started to write a basic skeleton for your program but there are some incomplete parts. Your task is to fill in the blanks in the code to make it function as described."
   ]
  },
  {
   "metadata": {
    "ExecuteTime": {
     "end_time": "2025-06-09T22:27:21.817633500Z",
     "start_time": "2025-06-09T22:27:10.095577200Z"
    }
   },
   "cell_type": "code",
   "source": [
    "import java.util.Scanner\n",
    "\n",
    "val scanner = Scanner(System.`in`)\n",
    "println(\"Please enter a number:\")\n",
    "\n",
    "val number = scanner.nextInt()\n",
    "println(\"You entered: $number\")"
   ],
   "outputs": [
    {
     "name": "stdout",
     "output_type": "stream",
     "text": [
      "Please enter a number:\r\n",
      "You entered: 31\r\n"
     ]
    }
   ],
   "execution_count": 1
  },
  {
   "metadata": {},
   "cell_type": "markdown",
   "source": ""
  },
  {
   "metadata": {},
   "cell_type": "markdown",
   "source": [
    "Create an application for integer input and output\n",
    "\n",
    "Your task is to create a simple Kotlin application that prompts the user for an integer input, captures that input using the Java Scanner class, and then displays the entered number back to the user. The application should use standard Kotlin practices for invoking functions. You are given all the necessary lines of code, but they are jumbled. Can you reorder them to create a working application?"
   ]
  },
  {
   "metadata": {},
   "cell_type": "code",
   "outputs": [],
   "execution_count": null,
   "source": [
    "val scanner = Scanner(System.`in`)\n",
    "println(\"Enter a number:\")\n",
    "\n",
    "val number = scanner.nextInt()\n",
    "println(\"You entered: $number\")"
   ]
  },
  {
   "metadata": {},
   "cell_type": "markdown",
   "source": ""
  },
  {
   "metadata": {},
   "cell_type": "markdown",
   "source": [
    "**Completing code for interactive program with user input**\n",
    "\n",
    "You are working on a simple interactive program in Kotlin that asks for the user's name and greets them. However, a couple of key segments are missing making it non-operational. Your task is to fill the blanks in the code to correctly import the Scanner class from Java, prompt the user to enter their name, and then read this user input. The greeting will be managed by a preexisting function."
   ]
  },
  {
   "metadata": {
    "ExecuteTime": {
     "end_time": "2025-06-09T22:35:51.321960800Z",
     "start_time": "2025-06-09T22:35:46.784138400Z"
    }
   },
   "cell_type": "code",
   "source": [
    "val scanner = Scanner(System.`in`)\n",
    "println(\"Please enter your name:\")\n",
    "val name = scanner.nextLine()\n",
    "greetUser(name)\n",
    "\n",
    "fun greetUser(name: String){\n",
    "    println(\"Hello, $name\")\n",
    "}\n"
   ],
   "outputs": [
    {
     "name": "stdout",
     "output_type": "stream",
     "text": [
      "Please enter your name:\r\n",
      "Hello, mert\r\n"
     ]
    }
   ],
   "execution_count": 3
  },
  {
   "metadata": {},
   "cell_type": "markdown",
   "source": ""
  },
  {
   "metadata": {},
   "cell_type": "markdown",
   "source": [
    "**Adding five to a number, then doubling it**\n",
    "\n",
    "Write a Kotlin program that reads an integer n from the standard input using the Scanner class. The program should add five to the read number and then multiply it by 2. Print the final result in the standard output.\n",
    "\n",
    "Sample Input 1:\n",
    "\n",
    "5\n",
    "\n",
    "Sample Output 1:\n",
    "\n",
    "20\n",
    "\n",
    "Sample Input 2:\n",
    "\n",
    "7\n",
    "\n",
    "Sample Output 2:\n",
    "\n",
    "24"
   ]
  },
  {
   "metadata": {
    "ExecuteTime": {
     "end_time": "2025-06-09T22:38:50.282352200Z",
     "start_time": "2025-06-09T22:38:35.897245900Z"
    }
   },
   "cell_type": "code",
   "source": [
    "val scanner = Scanner(System.`in`)\n",
    "val n = scanner.nextInt()\n",
    "val result = (n + 5) * 2\n",
    "println(result)"
   ],
   "outputs": [
    {
     "name": "stdout",
     "output_type": "stream",
     "text": [
      "14\r\n"
     ]
    }
   ],
   "execution_count": 4
  },
  {
   "metadata": {},
   "cell_type": "markdown",
   "source": ""
  },
  {
   "metadata": {},
   "cell_type": "markdown",
   "source": [
    "**Successful reading**\n",
    "\n",
    "Here is the code that uses the Scanner class:\n",
    "\n",
    "val scanner = Scanner(System.`in`)\n",
    "val s1 = scanner.nextLine()\n",
    "val n = scanner.nextInt()\n",
    "val s2 = scanner.next()\n",
    "\n",
    "Which inputs suit this snippet? After reading the input, each variable should have a value. Note, Input: is not a part of input!\n",
    "\n",
    "Be careful when choosing, remember the difference between methods .nextLine(), .nextInt(), and .next()\n",
    "\n",
    "\n",
    "Input:\n",
    "Hello 100 Hello\n",
    "\n",
    "Input:               T\n",
    "Hello\n",
    "100 Hello\n",
    "\n",
    "Input:               T\n",
    "Hello\n",
    "100\n",
    "Hello\n",
    "\n",
    "Input:\n",
    "Hello 100\n",
    "Hello\n",
    "                      T\n",
    "Input:\n",
    "Hello Hello Hello\n",
    "100 Hello"
   ]
  },
  {
   "metadata": {},
   "cell_type": "markdown",
   "source": ""
  },
  {
   "metadata": {},
   "cell_type": "markdown",
   "source": [
    "**Developing a personalized greeting program**\n",
    "\n",
    "Your task is to develop a simple Kotlin command-line program that asks a user to enter their name and then greets them personally using their name. Your program should have a main function and a separate function to print the greeting message. To accomplish this, you need to use the Java Scanner class to get the user's name as input from the keyboard. Carefully go through the provided code and fill the blanks in the code to make it work as described.\n",
    "\n",
    "Fill in the gaps with the relevant elements"
   ]
  },
  {
   "metadata": {
    "ExecuteTime": {
     "end_time": "2025-06-11T10:42:48.721753300Z",
     "start_time": "2025-06-11T10:42:44.613600600Z"
    }
   },
   "cell_type": "code",
   "source": [
    "import java.util.Scanner\n",
    "\n",
    "fun greet(name: String){\n",
    "    println(\"Hello, $name\")\n",
    "}\n",
    "\n",
    "\n",
    "val scanner = Scanner(System.`in`)\n",
    "println(\"Enter your name:\")\n",
    "val name = scanner.nextLine()\n",
    "greet(name)"
   ],
   "outputs": [
    {
     "name": "stdout",
     "output_type": "stream",
     "text": [
      "Enter your name:\r\n",
      "Hello, mert\r\n"
     ]
    }
   ],
   "execution_count": 1
  },
  {
   "metadata": {},
   "cell_type": "markdown",
   "source": ""
  },
  {
   "metadata": {},
   "cell_type": "markdown",
   "source": [
    "**The suitable inputs**\n",
    "\n",
    "Here is a snippet of code using the Scanner class:\n",
    "\n",
    "val scanner = Scanner(System.`in`)\n",
    "\n",
    "val s1 = scanner.nextLine()\n",
    "val s2 = scanner.nextLine()\n",
    "\n",
    "Which input is suitable for the snippet?\n",
    "\n",
    "After reading the input, each both s1 and s2 should have a value.\n",
    "\n",
    "Select one or more options from the list\n",
    "\n",
    "a T\n",
    "\n",
    "b\n",
    "\n",
    "c T\n",
    "\n",
    "d T\n",
    "\n",
    "e"
   ]
  },
  {
   "metadata": {},
   "cell_type": "markdown",
   "source": ""
  },
  {
   "metadata": {},
   "cell_type": "markdown",
   "source": [
    "**Statements**\n",
    "\n",
    "We have the following object:\n",
    "\n",
    "val scanner = Scanner(System.`in`)\n",
    "\n",
    "Find the false statement.\n",
    "\n",
    "Select one option from the list\n",
    "\n",
    "scanner.nextInt() reads an integer number\n",
    "\n",
    "scanner.next() reads a whole string line, for example \"Hello, World!\"   F\n",
    "\n",
    "scanner is used to read values\n",
    "\n",
    "System.`in` represents the standard input\n",
    "\n"
   ]
  },
  {
   "metadata": {},
   "cell_type": "code",
   "outputs": [],
   "execution_count": null,
   "source": ""
  },
  {
   "metadata": {},
   "cell_type": "markdown",
   "source": [
    "**Four numbers**\n",
    "\n",
    "Write a program that reads four integer numbers from one line and prints them each on a new line. Input numbers should be separated by one or more spaces.\n",
    "\n",
    "Use nextInt() to read numbers ignoring extra spaces.\n",
    "Sample Input 1:\n",
    "\n",
    "101    102 103  104\n",
    "\n",
    "Sample Output 1:\n",
    "\n",
    "101\n",
    "102\n",
    "103\n",
    "104\n",
    "\n",
    "scanner.hasNextInt() → sıradaki veri bir int mi? Varsa true, yoksa false\n",
    "\n",
    "scanner.nextInt() → sıradaki sayıyı alır\n",
    "\n",
    "println(...) → her okunan sayıyı ayrı satıra yazdırır\n",
    "\n",
    "123 apple 456\n",
    "İşleyiş:\n",
    "\n",
    "hasNextInt() → sıradaki veri 123 → true\n",
    "\n",
    "nextInt() → 123 alındı\n",
    "\n",
    "hasNextInt() → sıradaki veri apple → bu bir int değil → false\n",
    "\n",
    "Döngü biter, 456'ya geçilemez!\n",
    "\n",
    "Eğer tüm sayıları almak istersen, hasNext() + next() kullanıp içerikleri kontrol etmen gerekir.\n",
    "\n",
    "\n",
    "| Komut                  | Anlamı                                             |\n",
    "| ---------------------- | -------------------------------------------------- |\n",
    "| `scanner.hasNextInt()` | Sonraki veri bir tam sayı mı? Sadece kontrol eder. |\n",
    "| `scanner.nextInt()`    | Sonraki tam sayıyı **gerçekten alır**.             |\n",
    "| `scanner.hasNext()`    | Sonraki veri **herhangi bir şey** mi?              |\n",
    "| `scanner.next()`       | Sonraki veriyi kelime olarak alır.                 |\n",
    "\n",
    "\n",
    "SOL1\n",
    "`import java.util.Scanner\n",
    "while (scanner.hasNextInt()) {\n",
    "    println(scanner.nextInt())\n",
    "}`\n",
    "\n",
    "SOL2\n",
    "``fun main(args: Array<String>) {\n",
    "    val scanner = Scanner(System.`in`)\n",
    "    while (scanner.hasNextInt()) println(scanner.nextInt())\n",
    "}``\n",
    "\n",
    "SOL3\n",
    "``fun main() {\n",
    "    val scanner = Scanner(System.`in`)\n",
    "    /*\n",
    "    // first solution\n",
    "    val num1 = scanner.nextInt() // reads the first number\n",
    "    val num2 = scanner.nextInt() // reads the second number\n",
    "    val num3 = scanner.nextInt() // reads the third number\n",
    "    val num4 = scanner.nextInt() // reads the fourth number\n",
    "    println(num1) // prints the second number\n",
    "    println(num2) // prints the first number\n",
    "    println(num3) // prints the second number\n",
    "    println(num4) // prints the first number\n",
    "    */\n",
    "    /*\n",
    "    // second solution\n",
    "    for (x in scanner) { println(x) }\n",
    "    */\n",
    "    /*\n",
    "    // third solution\n",
    "    while (scanner.hasNext()) println(scanner.next())\n",
    "    */\n",
    "    /*\n",
    "    // fourth solution\n",
    "    repeat(4) { println(scanner.next()) }\n",
    "    */\n",
    "    scanner.forEach { println(it) }\n",
    "}``"
   ]
  },
  {
   "metadata": {},
   "cell_type": "code",
   "outputs": [],
   "execution_count": null,
   "source": "\n"
  },
  {
   "metadata": {},
   "cell_type": "markdown",
   "source": ""
  },
  {
   "metadata": {},
   "cell_type": "markdown",
   "source": [
    "**Read and print**\n",
    "\n",
    "Write a program that reads two lines and then two numbers from one line and outputs them in the same order, each on a new line.\n",
    "\n",
    "Sample Input 1:\n",
    "\n",
    "Hello\n",
    "Kotlin\n",
    "500 600\n",
    "\n",
    "Sample Output 1:\n",
    "\n",
    "Hello\n",
    "Kotlin\n",
    "500\n",
    "600"
   ]
  },
  {
   "metadata": {
    "ExecuteTime": {
     "end_time": "2025-06-11T10:58:00.005055100Z",
     "start_time": "2025-06-11T10:57:49.940278500Z"
    }
   },
   "cell_type": "code",
   "source": [
    "//SOL1\n",
    "val scanner = Scanner(System.`in`)\n",
    "repeat(2) {\n",
    "    println(scanner.nextLine())\n",
    "}\n",
    "repeat(2) {\n",
    "    println(scanner.nextInt())\n",
    "}"
   ],
   "outputs": [
    {
     "name": "stdout",
     "output_type": "stream",
     "text": [
      "Hello\r\n",
      "Kotlin\r\n",
      "500\r\n",
      "600\r\n"
     ]
    }
   ],
   "execution_count": 4
  },
  {
   "metadata": {
    "ExecuteTime": {
     "end_time": "2025-06-13T09:46:45.791057Z",
     "start_time": "2025-06-13T09:46:40.637886100Z"
    }
   },
   "cell_type": "code",
   "source": [
    "import java.util.Scanner\n",
    "\n",
    "//SOL2\n",
    "val scanner = Scanner(System.`in`)\n",
    "for (i in scanner) { println(i) }"
   ],
   "outputs": [
    {
     "name": "stdout",
     "output_type": "stream",
     "text": [
      "mert\r\n"
     ]
    }
   ],
   "execution_count": 2
  },
  {
   "metadata": {},
   "cell_type": "code",
   "outputs": [],
   "execution_count": null,
   "source": [
    "//SOL3\n",
    "val scanner = Scanner(System.`in`)\n",
    "println(scanner.nextLine())\n",
    "println(scanner.nextLine())\n",
    "val(a, b) = scanner.nextLine().split(\" \")\n",
    "println(a)\n",
    "println(b)"
   ]
  },
  {
   "metadata": {},
   "cell_type": "code",
   "outputs": [],
   "execution_count": null,
   "source": [
    "//SOL4\n",
    "val scanner = Scanner(System.`in`)\n",
    "while (scanner.hasNext())\n",
    "    println(scanner.next())"
   ]
  },
  {
   "metadata": {},
   "cell_type": "markdown",
   "source": ""
  },
  {
   "metadata": {},
   "cell_type": "markdown",
   "source": ""
  },
  {
   "metadata": {},
   "cell_type": "markdown",
   "source": ""
  },
  {
   "metadata": {},
   "cell_type": "markdown",
   "source": [
    "**Printing each word in a new line**\n",
    "\n",
    "Write a program that reads five words from the standard input and outputs each word on a new line.\n",
    "\n",
    "Words can be ordered differently in the input stream.\n",
    "\n",
    "To solve the problem, use Scanner .\n",
    "\n",
    "Sample Input 1:\n",
    "\n",
    "This course\n",
    "teaches you Kotlin\n",
    "\n",
    "Sample Output 1:\n",
    "\n",
    "This\n",
    "course\n",
    "teaches\n",
    "you\n",
    "Kotlin\n",
    "\n",
    "Sample Input 2:\n",
    "\n",
    "one two three four five\n",
    "\n",
    "Sample Output 2:\n",
    "\n",
    "one\n",
    "two\n",
    "three\n",
    "four\n",
    "five"
   ]
  },
  {
   "metadata": {},
   "cell_type": "code",
   "outputs": [],
   "execution_count": null,
   "source": [
    "import java.util.Scanner\n",
    "\n",
    "val scanner = Scanner(System.`in`)\n",
    "while(scanner.hasNext()){\n",
    "    println(scanner.next())\n",
    "}"
   ]
  },
  {
   "metadata": {},
   "cell_type": "code",
   "outputs": [],
   "execution_count": null,
   "source": [
    "import java.util.Scanner\n",
    "\n",
    "//sol2\n",
    "val scanner = Scanner(System.`in`)\n",
    "repeat(5) {\n",
    "    println(scanner.next())\n",
    "}"
   ]
  },
  {
   "metadata": {},
   "cell_type": "code",
   "outputs": [],
   "execution_count": null,
   "source": "\n"
  },
  {
   "metadata": {},
   "cell_type": "markdown",
   "source": ""
  },
  {
   "metadata": {},
   "cell_type": "markdown",
   "source": [
    "Which input suits?\n",
    "\n",
    "Here is the code that uses the Scanner class:\n",
    "\n",
    "val scanner = Scanner(System.`in`)\n",
    "val s1 = scanner.nextLine()\n",
    "val s2 = scanner.nextLine()\n",
    "val num = scanner.nextInt()\n",
    "\n",
    "Which input suits this snippet? After reading the input each variable must have a value.\n",
    "\n",
    "\n",
    "1000\n",
    "abc\n",
    "3"
   ]
  },
  {
   "metadata": {},
   "cell_type": "code",
   "outputs": [],
   "execution_count": null,
   "source": [
    "\n",
    "\n",
    "\n",
    "\n",
    "\n",
    "\n",
    "\n",
    "\n"
   ]
  },
  {
   "metadata": {},
   "cell_type": "markdown",
   "source": [
    "**All definitions**\n",
    "\n",
    "Match the methods and their definitions:\n",
    "\n",
    "Match the items from left and right columns\n",
    "scanner.nextLine()\n",
    "scanner.nextInt()\n",
    "scanner.next()\n",
    "readln()\n",
    "\n",
    "Reads a whole line\n",
    "Reads a number\n",
    "Reads a string\n",
    "Reads a whole non-nullable line\n"
   ]
  },
  {
   "metadata": {},
   "cell_type": "code",
   "outputs": [],
   "execution_count": null,
   "source": [
    "\n",
    "\n",
    "\n",
    "\n",
    "\n",
    "\n",
    "\n",
    "\n",
    "\n"
   ]
  },
  {
   "metadata": {},
   "cell_type": "markdown",
   "source": [
    "Creating a function to greet user by their name\n",
    " Report a typo\n",
    "You are developing a simple Kotlin application that asks the user for their name and prints out a greeting message to them. This functionality is neatly bundled into a function named 'greetUser'. However, some parts of the function code are missing as represented by the placeholder symbol '▭'. Your task is to fill the blanks in the code to ensure that the function correctly retrieves the user's input and includes it in the greeting message printed to the standard output."
   ]
  },
  {
   "metadata": {
    "ExecuteTime": {
     "end_time": "2025-06-13T10:06:22.095845500Z",
     "start_time": "2025-06-13T10:06:18.066125400Z"
    }
   },
   "cell_type": "code",
   "source": [
    "import java.util.Scanner\n",
    "\n",
    "fun greetUser(){\n",
    "    val reader = Scanner(System.`in`)\n",
    "    println(\"Please enter your name: \")\n",
    "    val name = reader.nextLine()\n",
    "    println(\"Hello, $name\")\n",
    "}\n",
    "\n",
    "greetUser()"
   ],
   "outputs": [
    {
     "name": "stdout",
     "output_type": "stream",
     "text": [
      "Please enter your name: \r\n",
      "Hello, mert\r\n"
     ]
    }
   ],
   "execution_count": 1
  }
 ],
 "metadata": {
  "kernelspec": {
   "display_name": "Kotlin",
   "language": "kotlin",
   "name": "kotlin"
  },
  "language_info": {
   "name": "kotlin",
   "version": "1.9.23",
   "mimetype": "text/x-kotlin",
   "file_extension": ".kt",
   "pygments_lexer": "kotlin",
   "codemirror_mode": "text/x-kotlin",
   "nbconvert_exporter": ""
  }
 },
 "nbformat": 4,
 "nbformat_minor": 0
}
