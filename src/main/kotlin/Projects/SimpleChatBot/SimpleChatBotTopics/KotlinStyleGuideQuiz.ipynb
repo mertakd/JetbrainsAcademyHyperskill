{
 "cells": [
  {
   "cell_type": "code",
   "execution_count": null,
   "metadata": {
    "collapsed": true
   },
   "outputs": [],
   "source": [
    ""
   ]
  },
  {
   "metadata": {},
   "cell_type": "markdown",
   "source": [
    "**Follow the conventions**\n",
    "\n",
    "The following code snippet does not follow Kotlin code conventions. Can you tell which conventions the code violates? (Choose all that apply.)\n",
    "\n",
    "fun main()\n",
    "{\n",
    "val lines = 5;\n",
    "             println(lines);\n",
    "                           var words = 12;\n",
    "  println(words) }\n",
    "\n",
    "\n",
    "\n",
    "\n",
    "Select one or more options from the list\n",
    "\n",
    "\n",
    "The last curly brace should be moved to the next line.T\n",
    "\n",
    "Semi-colons should be omitted.T\n",
    "\n",
    "All lines between \"{\" and \"}\" should be right under each other, with 4 space indentation.T\n",
    "\n",
    "Indentation is not important, the code between \"{\" and \"}\" can be left as it is. As far as I understand, it’s fine.\n",
    "\n",
    "The first curly brace (\"{\") should be moved upward and put after fun main().T\n",
    "\n",
    "The first curly brace should be indented 4 spaces to the right.\n",
    "\n",
    "This snippet looks good, nothing should be changed."
   ]
  },
  {
   "metadata": {},
   "cell_type": "code",
   "outputs": [],
   "execution_count": null,
   "source": [
    "\n",
    "\n",
    "\n",
    "\n",
    "\n",
    "\n",
    "\n",
    "\n",
    "\n"
   ]
  },
  {
   "metadata": {},
   "cell_type": "markdown",
   "source": [
    "Which program follows the conventions\n",
    " Report a typo\n",
    "There are four pieces of code. Which one follows the coding style conventions?\n",
    "\n",
    "a)\n",
    "\n",
    "fun main() {\n",
    "        println(\"The more spaces the better!\")\n",
    "}\n",
    "\n",
    "b)\n",
    "\n",
    "fun main()\n",
    "{\n",
    "    println(\"Braces should be on the same level!\")\n",
    "}\n",
    "\n",
    "c)\n",
    "\n",
    "fun main() {\n",
    "println(\"We do not need extra spaces!\")\n",
    "}\n",
    "\n",
    "d)\n",
    "\n",
    "fun main() {\n",
    "    println(\"Four spaces are enough!\")\n",
    "}\n",
    "\n",
    "\n",
    "Select one option from the list\n",
    "\n",
    "a\n",
    "\n",
    "b\n",
    "\n",
    "c\n",
    "\n",
    "d       T"
   ]
  },
  {
   "metadata": {},
   "cell_type": "code",
   "outputs": [],
   "execution_count": null,
   "source": [
    "\n",
    "\n",
    "\n",
    "\n",
    "\n",
    "\n",
    "\n",
    "\n",
    "\n"
   ]
  },
  {
   "metadata": {},
   "cell_type": "markdown",
   "source": [
    "**Which is better?**\n",
    "\n",
    "Imagine you and your friend want to write an extremely serious program.\n",
    "\n",
    "\n",
    "Choose the best way to write it.\n",
    "\n",
    "Select one option from the list\n",
    "\n",
    "Create your own style and follow it.\n",
    "\n",
    "Every programmer has their own unique coding style.\n",
    "\n",
    "Style is nonsense, you can write your code in a free manner.\n",
    "\n",
    "All programmers create code according to coding style guides. T"
   ]
  },
  {
   "metadata": {},
   "cell_type": "code",
   "outputs": [],
   "execution_count": null,
   "source": [
    "\n",
    "\n",
    "\n",
    "\n",
    "\n",
    "\n",
    "\n",
    "\n"
   ]
  },
  {
   "metadata": {},
   "cell_type": "markdown",
   "source": [
    "**Choose one false statement**\n",
    "\n",
    "Choose one false statement:\n",
    "\n",
    "Select one option from the list\n",
    "\n",
    "Kotlin has its own coding style conventions.\n",
    "\n",
    "The conventions are recommendations, not rules.\n",
    "\n",
    "If you do not follow the conventions, your program will not work. T\n",
    "\n",
    "If you follow the conventions, it will be easier for others to read your code."
   ]
  },
  {
   "metadata": {},
   "cell_type": "code",
   "outputs": [],
   "execution_count": null,
   "source": [
    "\n",
    "\n",
    "\n",
    "\n",
    "\n",
    "\n",
    "\n",
    "\n",
    "\n"
   ]
  },
  {
   "metadata": {},
   "cell_type": "markdown",
   "source": [
    "**Select the correct coding conventions**\n",
    "\n",
    "Select the correct statement based on the coding conventions.\n",
    "\n",
    "According to the conventions, you must name the entry point of your program as main.\n",
    "\n",
    "Do not omit semicolons even if they are optional.\n",
    "\n",
    "Put opening curly braces at the end of the line where the block begins. Closing brace are inserted at the start of the next separate line. T\n",
    "\n",
    "It is better to use tabs for indentation."
   ]
  },
  {
   "metadata": {},
   "cell_type": "code",
   "outputs": [],
   "execution_count": null,
   "source": [
    "\n",
    "\n",
    "\n",
    "\n",
    "\n",
    "\n",
    "\n",
    "\n",
    "\n"
   ]
  },
  {
   "metadata": {},
   "cell_type": "markdown",
   "source": [
    "**The rules of coding**\n",
    "\n",
    "Why do you need to follow the rules of coding style?\n",
    "\n",
    "Select one or more options from the list\n",
    "\n",
    "It makes code more readable   t\n",
    "\n",
    "It is necessary\n",
    "\n",
    "This is a rule of a good form         t\n",
    "\n",
    "If you do not follow these rules, the program will not start"
   ]
  },
  {
   "metadata": {},
   "cell_type": "code",
   "outputs": [],
   "execution_count": null,
   "source": [
    "\n",
    "\n",
    "\n",
    "\n",
    "\n",
    "\n",
    "\n",
    "\n",
    "\n"
   ]
  },
  {
   "metadata": {},
   "cell_type": "markdown",
   "source": [
    "**Kotlin convention violation**\n",
    "\n",
    "Which of the following valid Kotlin coding conventions is violated in the code snippet below?\n",
    "\n",
    "fun main() {\n",
    "    println(\"Hello, World!\");\n",
    "}\n",
    "\n",
    "\n",
    "Use four spaces for indentation. Do not use tabs.\n",
    "\n",
    "Do not put a space before an opening parenthesis in a function call.\n",
    "\n",
    "Omit semicolons whenever possible.      t\n",
    "\n",
    "Never put a space after (, or before )."
   ]
  },
  {
   "metadata": {},
   "cell_type": "code",
   "outputs": [],
   "execution_count": null,
   "source": [
    "\n",
    "\n",
    "\n",
    "\n",
    "\n",
    "\n",
    "\n",
    "\n",
    "\n",
    "\n"
   ]
  },
  {
   "metadata": {},
   "cell_type": "markdown",
   "source": [
    "**Make the code follow the conventions**\n",
    "\n",
    "Here is a piece of code:\n",
    "\n",
    "fun main()\n",
    "{\n",
    "println(\"Hello, Kotlin!\");\n",
    "}\n",
    "\n",
    "Rewrite it, according to the conventions.\n",
    "\n",
    "Select one or more options from the list\n",
    "\n",
    "\n",
    "\n",
    "Add four spaces before println(\"Hello, Kotlin!\")   T\n",
    "\n",
    "Add one space after println(\"Hello, Kotlin!\")\n",
    "\n",
    "Add four spaces before the closing brace\n",
    "\n",
    "Move the opening brace to the end of the previous line     T\n",
    "\n",
    "Add four spaces before the opening brace\n",
    "\n",
    "Remove the semicolon after println(\"Hello, Kotlin!\")     T"
   ]
  },
  {
   "metadata": {},
   "cell_type": "code",
   "outputs": [],
   "execution_count": null,
   "source": [
    "\n",
    "\n",
    "\n",
    "\n",
    "\n",
    "\n",
    "\n",
    "\n",
    "\n"
   ]
  },
  {
   "metadata": {},
   "cell_type": "markdown",
   "source": [
    "**Сhoice**\n",
    "\n",
    "You have the following snippet of code:\n",
    "\n",
    "fun main() {\n",
    "val x: Int = 10\n",
    "    val y: Int = 25;\n",
    "    val z = x + y\n",
    "    println(\"The sum of $x + $y is  $z\")}\n",
    "\n",
    "Select the lines that violate the code style convention.\n",
    "\n",
    "Select one or more options from the list\n",
    "\n",
    "fun main() {\n",
    "\n",
    "val x: Int = 10     T\n",
    "\n",
    "val y: Int = 25;     T\n",
    "\n",
    "val z = x + y\n",
    "\n",
    "println(\"The sum of      T\n",
    "x\n",
    "+\n",
    "x+y is $z\")}"
   ]
  },
  {
   "metadata": {},
   "cell_type": "code",
   "outputs": [],
   "execution_count": null,
   "source": [
    "\n",
    "\n",
    "\n",
    "\n",
    "\n",
    "\n",
    "\n",
    "\n",
    "\n"
   ]
  },
  {
   "metadata": {},
   "cell_type": "markdown",
   "source": ""
  }
 ],
 "metadata": {
  "kernelspec": {
   "display_name": "Kotlin",
   "language": "kotlin",
   "name": "kotlin"
  },
  "language_info": {
   "name": "kotlin",
   "version": "1.9.23",
   "mimetype": "text/x-kotlin",
   "file_extension": ".kt",
   "pygments_lexer": "kotlin",
   "codemirror_mode": "text/x-kotlin",
   "nbconvert_exporter": ""
  }
 },
 "nbformat": 4,
 "nbformat_minor": 0
}
