{
 "cells": [
  {
   "cell_type": "code",
   "execution_count": null,
   "metadata": {
    "collapsed": true
   },
   "outputs": [],
   "source": [
    ""
   ]
  },
  {
   "metadata": {},
   "cell_type": "markdown",
   "source": [
    "\n",
    "---\n",
    "\n",
    "### 🔹 **Veri Tipi (Data Type) Nedir?**\n",
    "\n",
    "* Sayılar ve metinler birbirinden farklıdır. Örneğin, sayılarla matematiksel işlemler yapılabilir ama metinlerle yapılamaz.\n",
    "* Kotlin, bu farkı anlamak için **veri tiplerini** kullanır. Her değişkenin bir tipi vardır ve bu, üzerinde hangi işlemlerin yapılabileceğini belirler.\n",
    "\n",
    "---\n",
    "\n",
    "### 🔹 **Değişken Tipleri**\n",
    "\n",
    "#### ✳️ **Tip Çıkarımı (Type Inference)**\n",
    "\n",
    "* Kotlin, değişkenin değerine göre tipini otomatik belirleyebilir.\n",
    "\n",
    "  ```kotlin\n",
    "  val text = \"Merhaba\"  // String\n",
    "  val n = 1             // Int\n",
    "  ```\n",
    "\n",
    "#### ✳️ **Açık Tip Belirtimi**\n",
    "\n",
    "* İsterseniz değişkenin tipini açıkça da belirtebilirsiniz.\n",
    "\n",
    "  ```kotlin\n",
    "  val text: String = \"Merhaba\"\n",
    "  val n: Int = 1\n",
    "  ```\n",
    "\n",
    "* **Not:** Tip isimleri büyük harfle başlar (`String`, `Int` gibi).\n",
    "\n",
    "---\n",
    "\n",
    "### 🔹 **Ne Zaman Tip Belirtmelisin?**\n",
    "\n",
    "* Değişkeni tanımlayıp, değerini daha sonra vereceksen **tip belirtmek zorundasın**:\n",
    "\n",
    "  ```kotlin\n",
    "  val greeting: String  // ✅ Geçerli\n",
    "  greeting = \"hello\"\n",
    "  ```\n",
    "\n",
    "  ```kotlin\n",
    "  val greeting         // ❌ Hatalı: tip belirtilmediği için derleyici ne olduğunu bilemez\n",
    "  ```\n",
    "\n",
    "---\n",
    "\n",
    "### 🔹 **Tip Uyuşmazlığı (Type Mismatch)**\n",
    "\n",
    "* Değişkene yanlış tipte bir değer atarsan hata alırsın:\n",
    "\n",
    "  ```kotlin\n",
    "  val n: Int = \"abc\"  // ❌ Hata: String, Int yerine atanamaz\n",
    "  ```\n",
    "\n",
    "  ```kotlin\n",
    "  var age = 30\n",
    "  age = \"31 yaşında\"  // ❌ Hata: Int tipine String atanamaz\n",
    "  ```\n",
    "\n",
    "> **Bir değişkenin tipi bir kez belirlendikten sonra değiştirilemez.**\n",
    "\n",
    "---\n",
    "\n",
    "### 🔚 **Sonuç**\n",
    "\n",
    "* Kotlin’de her değişkenin bir tipi vardır.\n",
    "* Tip çıkarımı sayesinde kod daha kısa olabilir ama bazı durumlarda açık tip belirtimi gerekir.\n",
    "* Tip uyumsuzluğu hataları, yanlış veri türü atandığında oluşur.\n",
    "\n",
    "---\n"
   ]
  },
  {
   "metadata": {},
   "cell_type": "markdown",
   "source": ""
  }
 ],
 "metadata": {
  "kernelspec": {
   "display_name": "Kotlin",
   "language": "kotlin",
   "name": "kotlin"
  },
  "language_info": {
   "name": "kotlin",
   "version": "1.9.23",
   "mimetype": "text/x-kotlin",
   "file_extension": ".kt",
   "pygments_lexer": "kotlin",
   "codemirror_mode": "text/x-kotlin",
   "nbconvert_exporter": ""
  }
 },
 "nbformat": 4,
 "nbformat_minor": 0
}
