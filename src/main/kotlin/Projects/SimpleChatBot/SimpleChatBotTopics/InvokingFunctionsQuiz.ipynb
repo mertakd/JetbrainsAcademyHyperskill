{
 "cells": [
  {
   "metadata": {},
   "cell_type": "markdown",
   "source": [
    "Crafting Welcomes: A Personalized Hello\n",
    "\n",
    "Write a program that reads a name from the input, generates a simple greeting by appending 'Hello, ' to the name, and prints out the complete greeting.\n",
    "\n",
    "Sample Input 1:\n",
    "\n",
    "John\n",
    "\n",
    "Sample Output 1:\n",
    "\n",
    "Hello, John\n",
    "\n",
    "Sample Input 2:\n",
    "\n",
    "Alice\n",
    "\n",
    "Sample Output 2:\n",
    "\n",
    "Hello, Alice\n",
    "\n",
    "Write a program in Kotlin\n"
   ]
  },
  {
   "metadata": {
    "ExecuteTime": {
     "end_time": "2025-06-09T21:21:10.818239400Z",
     "start_time": "2025-06-09T21:21:10.786412300Z"
    }
   },
   "cell_type": "code",
   "source": [
    "fun main() {\n",
    "    // Initialize standard input\n",
    "    val input = readLine() ?: \"\"\n",
    "\n",
    "    fun generateGreeting(name: String): String{\n",
    "        return \"Hello, $name\"\n",
    "    }\n",
    "\n",
    "    println(generateGreeting(input.trim()))\n",
    "\n",
    "\n",
    "}\n",
    "\n",
    "\n",
    "\n",
    "\n",
    "\n",
    "\n"
   ],
   "outputs": [],
   "execution_count": 43
  },
  {
   "metadata": {},
   "cell_type": "markdown",
   "source": [
    "Brewing code for the perfect cup\n",
    "\n",
    "Create a function that orders a coffee and call it in the main function to display the order details. Fill the blanks in the code to make it work correctly."
   ]
  },
  {
   "metadata": {
    "ExecuteTime": {
     "end_time": "2025-06-09T21:20:53.951340700Z",
     "start_time": "2025-06-09T21:20:53.913514400Z"
    }
   },
   "cell_type": "code",
   "source": [
    "fun orderCoffee(type: String, size: String): String{\n",
    "    return \"You ordered a $size $type\"\n",
    "}\n",
    "\n",
    "fun main(){\n",
    "\n",
    "    val order = orderCoffee(\"latte\", \"large\")\n",
    "    println(order)\n",
    "}\n",
    "\n",
    "\n",
    "\n",
    "\n",
    "\n",
    "\n",
    "\n",
    "\n",
    "\n",
    "\n",
    "\n"
   ],
   "outputs": [],
   "execution_count": 42
  },
  {
   "metadata": {},
   "cell_type": "markdown",
   "source": [
    "Invoking a greeting function and printing its output\n",
    "\n",
    "You are creating a Kotlin application that will greet users. To accomplish this, you have a helper function called sayHello which takes in a user's name as a string and returns a greeting. In your main function, you get the username as 'John' stored in variable userName. You need to print the greeting. Please fill in the blanks in the following code to correctly invoke the sayHello function and print the output to the console.\n",
    "\n",
    "Fill in the gaps with the relevant elements"
   ]
  },
  {
   "metadata": {
    "ExecuteTime": {
     "end_time": "2025-06-09T21:32:35.934183200Z",
     "start_time": "2025-06-09T21:32:35.898257100Z"
    }
   },
   "cell_type": "code",
   "source": [
    "fun sayHello(name: String): String{\n",
    "    return \"Hello, $name\"\n",
    "}\n",
    "\n",
    "val userName = \"John\"\n",
    "println(sayHello(userName))\n",
    "\n",
    "\n",
    "\n",
    "\n",
    "\n",
    "\n",
    "\n",
    "\n",
    "\n",
    "\n",
    "\n",
    "\n"
   ],
   "outputs": [
    {
     "name": "stdout",
     "output_type": "stream",
     "text": [
      "Hello, John\r\n"
     ]
    }
   ],
   "execution_count": 16
  },
  {
   "metadata": {},
   "cell_type": "markdown",
   "source": [
    "**Correct statements**\n",
    "\n",
    "Choose correct statements about invoking functions:\n",
    "\n",
    "If the function does not return any meaningful result, then it returns a special value  T\n",
    "\n",
    "The function should return as many results as it took arguments.\n",
    "\n",
    "Function can be called only once\n",
    "\n",
    "A function is a subprogram that we can call in the program through the function name     T\n",
    "\n",
    "\n",
    "\n",
    "\n",
    "\n",
    "\n",
    "\n"
   ]
  },
  {
   "metadata": {},
   "cell_type": "markdown",
   "source": [
    "**Arguments**\n",
    "\n",
    "Select the most suitable statement about function arguments.\n",
    "\n",
    "A function can take zero, one, or more arguments.  T\n",
    "\n",
    "A function always take at least one argument.\n",
    "\n",
    "A function takes exactly one argument.\n",
    "\n",
    "A function can only take zero or one argument.\n",
    "\n",
    "\n",
    "\n",
    "\n",
    "\n",
    "\n"
   ]
  },
  {
   "metadata": {},
   "cell_type": "markdown",
   "source": [
    "**Returning a result**\n",
    "\n",
    "Select the correct statement about the result of a function.\n",
    "\n",
    "A function returns multiple results at the same time, one of these results is a special value.\n",
    "\n",
    "A function does not return a useful result, only a special value.\n",
    "\n",
    "A function does not return anything.\n",
    "\n",
    "A function always returns a useful result or a special value. T\n",
    "\n",
    "\n",
    "\n",
    "\n",
    "\n",
    "\n"
   ]
  },
  {
   "metadata": {},
   "cell_type": "markdown",
   "source": [
    "**The magic of println**\n",
    "\n",
    "Suppose, you see the following code:\n",
    "\n",
    "`val result = println(\"text\")`\n",
    "\n",
    "What can you say about it?\n",
    "\n",
    "The value of result is text\n",
    "\n",
    "The value of result is empty.\n",
    "\n",
    "The value of result is Unit. T\n",
    "\n",
    "It does not work because the println function cannot produce a result.\n",
    "\n",
    "\n",
    "\n",
    "\n",
    "\n",
    "\n"
   ]
  },
  {
   "metadata": {},
   "cell_type": "markdown",
   "source": [
    "**Invoking functions**\n",
    "\n",
    "This code calls the Math.log10 function with one argument.\n",
    "\n",
    "Correct the line containing an error.\n",
    "\n",
    "`val number = readln().toDouble()\n",
    " val logNumber = Math.log10(number) // fix this line\n",
    " println(logNumber) `\n",
    "\n",
    "SOL2\n",
    "`fun main() = print(Math.log10(readln().toDouble()))`\n",
    "\n",
    "\n",
    "\n",
    "\n",
    "\n",
    "\n"
   ]
  },
  {
   "metadata": {},
   "cell_type": "markdown",
   "source": [
    "**How to invoke a function**\n",
    "\n",
    "There is a function named foo that takes one argument. How to invoke this function?\n",
    "\n",
    "Select one option from the list\n",
    "\n",
    "foo[arg]\n",
    "\n",
    "arg.foo\n",
    "\n",
    "foo\n",
    "\n",
    "foo(arg)      T\n",
    "\n",
    "\n",
    "\n",
    "\n",
    "\n"
   ]
  },
  {
   "metadata": {},
   "cell_type": "code",
   "outputs": [],
   "execution_count": null,
   "source": ""
  },
  {
   "metadata": {},
   "cell_type": "markdown",
   "source": ""
  },
  {
   "metadata": {},
   "cell_type": "markdown",
   "source": [
    "**Creating a greeting function for a username**\n",
    "\n",
    "John is a novice Kotlin programmer. He wants to create a function that takes a user name as input and returns a greeting message displaying that name. He wants to invoke that function with a value containing 'Kotlin Learner'. He has started the program, but some keywords and symbols are missing. Your task is to help John by filling the blanks in the code."
   ]
  },
  {
   "metadata": {
    "ExecuteTime": {
     "end_time": "2025-06-09T21:53:12.480927900Z",
     "start_time": "2025-06-09T21:53:12.447549400Z"
    }
   },
   "cell_type": "code",
   "source": [
    "fun greet(name:String): String{\n",
    "    return \"Hello, $name\"\n",
    "}\n",
    "\n",
    "val myName: String = \"Kotlin Learner\"\n",
    "println(greet(myName))"
   ],
   "outputs": [
    {
     "name": "stdout",
     "output_type": "stream",
     "text": [
      "Hello, Kotlin Learner\r\n"
     ]
    }
   ],
   "execution_count": 17
  },
  {
   "metadata": {},
   "cell_type": "markdown",
   "source": ""
  },
  {
   "metadata": {},
   "cell_type": "markdown",
   "source": [
    "**Absolute value**\n",
    "\n",
    "Choose the correct option to initialize the second declaration with the absolute value of -5\n",
    "\n",
    "`fun main() {\n",
    "    val negativeFive = -5\n",
    "    val positiveFive = Math.abs(negativeFive)\n",
    "}`\n"
   ]
  },
  {
   "metadata": {},
   "cell_type": "markdown",
   "source": ""
  },
  {
   "metadata": {},
   "cell_type": "markdown",
   "source": [
    "**Two arguments**\n",
    "\n",
    "Choose the correct option to invoke function called function passing two arguments first and second:\n",
    "\n",
    "function(first, second) T\n",
    "\n",
    "function(first + second)\n",
    "\n",
    "function(first); function(second)\n",
    "\n",
    "function()"
   ]
  },
  {
   "metadata": {},
   "cell_type": "markdown",
   "source": ""
  },
  {
   "metadata": {},
   "cell_type": "markdown",
   "source": [
    "**Square root**\n",
    "\n",
    "Now you know that kotlin.math groups multiple functions; one of them is sqrt, that calculates the square root of passed value.\n",
    "\n",
    "Call sqrt function in the same way as we called the abs, calculate the square root of the number and print the resulting value.\n",
    "\n",
    "Sample Input 1:\n",
    "\n",
    "4\n",
    "\n",
    "Sample Output 1:\n",
    "\n",
    "2.0\n",
    "\n",
    "Sample Input 2:\n",
    "\n",
    "16\n",
    "\n",
    "Sample Output 2:\n",
    "\n",
    "4.0"
   ]
  },
  {
   "metadata": {
    "ExecuteTime": {
     "end_time": "2025-06-09T22:01:20.233011600Z",
     "start_time": "2025-06-09T22:01:09.097610800Z"
    }
   },
   "cell_type": "code",
   "source": [
    "// do not change this code\n",
    "val number = readln().toDouble()\n",
    "\n",
    "val result = sqrt(number)\n",
    "println(result)"
   ],
   "outputs": [
    {
     "name": "stdout",
     "output_type": "stream",
     "text": [
      "4.0\r\n"
     ]
    }
   ],
   "execution_count": 18
  },
  {
   "metadata": {},
   "cell_type": "markdown",
   "source": ""
  },
  {
   "metadata": {},
   "cell_type": "markdown",
   "source": [
    "**Subtraction function**\n",
    "\n",
    "Let's say you need to call a function named subtraction, which subtracts the second argument from the first and returns the result.\n",
    "\n",
    "Choose the correct way to invoke this function to subtract five from nine:\n",
    "\n",
    "Select one option from the list\n",
    "\n",
    "subtraction(five; nine)\n",
    "\n",
    "subtraction((five), (nine))\n",
    "\n",
    "subtraction(nine, five)  T\n",
    "\n",
    "subtraction(five, nine)"
   ]
  },
  {
   "metadata": {},
   "cell_type": "markdown",
   "source": ""
  },
  {
   "metadata": {},
   "cell_type": "markdown",
   "source": [
    "**Lembas**\n",
    "\n",
    "Sam and Frodo decided to count how much bread they had. To do this, they created a function totalLembas that counts how much bread they have in total.\n",
    "\n",
    "Your task is to invoke the function totalLembas; pass breadFromFrodo and breadFromSam as arguments.\n",
    "\n",
    "Sample Input 1:\n",
    "\n",
    "2\n",
    "3\n",
    "\n",
    "Sample Output 1:\n",
    "\n",
    "5"
   ]
  },
  {
   "metadata": {
    "ExecuteTime": {
     "end_time": "2025-06-09T22:07:06.542451100Z",
     "start_time": "2025-06-09T22:07:01.888091300Z"
    }
   },
   "cell_type": "code",
   "source": [
    "fun totalLembas(first: String, second: String){\n",
    "    print(first.toInt() + second.toInt())\n",
    "}\n",
    "\n",
    "\n",
    "val breadFromFrodo = readln()\n",
    "val breadFromSam = readln()\n",
    "\n",
    "totalLembas(breadFromSam, breadFromFrodo)"
   ],
   "outputs": [
    {
     "name": "stdout",
     "output_type": "stream",
     "text": [
      "5"
     ]
    }
   ],
   "execution_count": 20
  }
 ],
 "metadata": {
  "kernelspec": {
   "display_name": "Kotlin",
   "language": "kotlin",
   "name": "kotlin"
  },
  "language_info": {
   "name": "kotlin",
   "version": "1.9.23",
   "mimetype": "text/x-kotlin",
   "file_extension": ".kt",
   "pygments_lexer": "kotlin",
   "codemirror_mode": "text/x-kotlin",
   "nbconvert_exporter": ""
  }
 },
 "nbformat": 4,
 "nbformat_minor": 0
}
