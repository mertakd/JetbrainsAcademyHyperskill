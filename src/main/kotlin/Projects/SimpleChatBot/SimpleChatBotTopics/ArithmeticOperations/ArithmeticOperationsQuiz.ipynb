{
 "cells": [
  {
   "cell_type": "code",
   "execution_count": null,
   "metadata": {
    "collapsed": true
   },
   "outputs": [],
   "source": [
    ""
   ]
  },
  {
   "metadata": {},
   "cell_type": "markdown",
   "source": [
    "**Precedence order of arithmetic operations**\n",
    "\n",
    "Arrange the arithmetic operations in the order of precedence (highest at the top).\n",
    "\n",
    "Parentheses\n",
    "Unary plus/minus\n",
    "Multiplication, division, and modulus\n",
    "Addition and subtraction\n",
    "\n"
   ]
  },
  {
   "metadata": {},
   "cell_type": "code",
   "outputs": [],
   "execution_count": null,
   "source": [
    "\n",
    "\n",
    "\n",
    "\n",
    "\n",
    "\n",
    "\n",
    "\n",
    "\n"
   ]
  },
  {
   "metadata": {},
   "cell_type": "markdown",
   "source": [
    "**Division**\n",
    "\n",
    "What is the result of this expression: 15 / 4?\n",
    "\n",
    "Enter a number\n",
    "3"
   ]
  },
  {
   "metadata": {},
   "cell_type": "code",
   "outputs": [],
   "execution_count": null,
   "source": [
    "\n",
    "\n",
    "\n",
    "\n",
    "\n",
    "\n",
    "\n",
    "\n",
    "\n"
   ]
  },
  {
   "metadata": {},
   "cell_type": "markdown",
   "source": [
    "**Find the result of the expression**\n",
    "\n",
    "What is the result of the expression: 20 / 3 + 4 * 3?\n",
    "\n",
    "18"
   ]
  },
  {
   "metadata": {},
   "cell_type": "code",
   "outputs": [],
   "execution_count": null,
   "source": [
    "\n",
    "\n",
    "\n",
    "\n",
    "\n",
    "\n",
    "\n",
    "\n",
    "\n"
   ]
  },
  {
   "metadata": {},
   "cell_type": "markdown",
   "source": [
    "**How to change the order of an expression**\n",
    "\n",
    "To change the order in which arithmetic expressions are evaluated, ... are placed around the expression that is to be evaluated first.\n",
    "\n",
    "What is \"...\"? Choose the correct option below.\n",
    "\n",
    "Select one option from the list\n",
    "\n",
    "()       t\n",
    "\n",
    "{}\n",
    "\n",
    "[]\n",
    "\n",
    "<>"
   ]
  },
  {
   "metadata": {},
   "cell_type": "code",
   "outputs": [],
   "execution_count": null,
   "source": [
    "\n",
    "\n",
    "\n",
    "\n",
    "\n",
    "\n",
    "\n",
    "\n",
    "\n"
   ]
  },
  {
   "metadata": {},
   "cell_type": "markdown",
   "source": [
    "**The order is the king**\n",
    "\n",
    "What is the result of this expression: 2 + 4 * 5 - 10 / (2 + 1)?\n",
    "\n",
    "Select one option from the list\n",
    "\n",
    "10\n",
    "\n",
    "15\n",
    "\n",
    "17\n",
    "\n",
    "19  t\n",
    "\n",
    "27\n",
    "\n",
    "29"
   ]
  },
  {
   "metadata": {},
   "cell_type": "code",
   "outputs": [],
   "execution_count": null,
   "source": [
    "\n",
    "\n",
    "\n",
    "\n",
    "\n",
    "\n",
    "\n",
    "\n",
    "\n"
   ]
  },
  {
   "metadata": {},
   "cell_type": "code",
   "outputs": [],
   "execution_count": null,
   "source": ""
  },
  {
   "metadata": {},
   "cell_type": "markdown",
   "source": [
    "_**Divide the numbers**_\n",
    "\n",
    "What is the result of this expression: 30 / 7 + 5 / 7?\n",
    "\n",
    "Enter a number\n",
    "4"
   ]
  },
  {
   "metadata": {},
   "cell_type": "code",
   "outputs": [],
   "execution_count": null,
   "source": [
    "\n",
    "\n",
    "\n",
    "\n",
    "\n",
    "\n",
    "\n",
    "\n",
    "\n"
   ]
  },
  {
   "metadata": {},
   "cell_type": "markdown",
   "source": [
    "**Mind the brackets**\n",
    "\n",
    "In Kotlin, what is the result of this expression: (3 + 4) * (5 / 2)?\n",
    "\n",
    "Select one option from the list\n",
    "\n",
    "7\n",
    "\n",
    "10.5\n",
    "\n",
    "12\n",
    "\n",
    "14          t\n",
    "\n",
    "15\n",
    "\n",
    "17\n",
    "\n",
    "17.5\n",
    "\n",
    "21"
   ]
  },
  {
   "metadata": {},
   "cell_type": "code",
   "outputs": [],
   "execution_count": null,
   "source": [
    "\n",
    "\n",
    "\n",
    "\n",
    "\n",
    "\n",
    "\n",
    "\n",
    "\n"
   ]
  },
  {
   "metadata": {},
   "cell_type": "markdown",
   "source": [
    "**Names and symbols**\n",
    "\n",
    "Match the binary operators and their names in Kotlin.\n",
    "\n",
    "Match the items from left and right columns\n",
    "\n",
    "\n",
    "+\n",
    "-\n",
    "*\n",
    "/\n",
    "%\n",
    "^\n",
    "addition\n",
    "subtraction\n",
    "multiplication\n",
    "integer division\n",
    "modulus\n",
    "no such operation"
   ]
  },
  {
   "metadata": {},
   "cell_type": "code",
   "outputs": [],
   "execution_count": null,
   "source": [
    "\n",
    "\n",
    "\n",
    "\n",
    "\n",
    "\n",
    "\n",
    "\n",
    "\n"
   ]
  },
  {
   "metadata": {},
   "cell_type": "markdown",
   "source": [
    "**Expression**\n",
    "\n",
    "What is the result of this expression: 21 % 5?\n",
    "\n",
    "Enter a number\n",
    "1"
   ]
  },
  {
   "metadata": {},
   "cell_type": "code",
   "outputs": [],
   "execution_count": null,
   "source": [
    "\n",
    "\n",
    "\n",
    "\n",
    "\n",
    "\n",
    "\n",
    "\n",
    "\n"
   ]
  },
  {
   "metadata": {},
   "cell_type": "markdown",
   "source": [
    "**Calculate square and square root of a number**\n",
    "\n",
    "Write a Kotlin program that calculates the square and the square root of a given integer. The input will be the integer to process. The output should be a string in the format 'Square: X, Square root: Y'.\n",
    "\n",
    "Sample Input 1:\n",
    "\n",
    "5\n",
    "\n",
    "Sample Output 1:\n",
    "\n",
    "Square: 25, Square root: 2.23606797749979\n",
    "\n",
    "Sample Input 2:\n",
    "\n",
    "9\n",
    "\n",
    "Sample Output 2:\n",
    "\n",
    "Square: 81, Square root: 3.0"
   ]
  },
  {
   "metadata": {},
   "cell_type": "code",
   "outputs": [],
   "execution_count": null,
   "source": [
    "// Reading the integer from user\n",
    "val input = readLine()!!.toInt()\n",
    "\n",
    "// Perform the arithmetic operations on 'input'\n",
    "val square = input * input\n",
    "val squareRoot = sqrt(input.toDouble())\n",
    "\n",
    "// Prepare the output in required format and print it\n",
    "val result = \"Square: $square, Square root: $squareRoot\"\n",
    "println(result)"
   ]
  },
  {
   "metadata": {},
   "cell_type": "code",
   "outputs": [],
   "execution_count": null,
   "source": [
    "\n",
    "\n",
    "\n",
    "\n",
    "\n",
    "\n",
    "\n",
    "\n",
    "\n"
   ]
  },
  {
   "metadata": {},
   "cell_type": "code",
   "outputs": [],
   "execution_count": null,
   "source": ""
  },
  {
   "metadata": {},
   "cell_type": "markdown",
   "source": [
    "**Find the result**\n",
    "\n",
    "What is the result of this expression: 10 / (2 + 2) + 4 * 8?\n",
    "\n",
    "Select one option from the list\n",
    "\n",
    "28\n",
    "\n",
    "32\n",
    "\n",
    "34         T\n",
    "\n",
    "36\n",
    "\n",
    "44\n",
    "\n",
    "48"
   ]
  },
  {
   "metadata": {},
   "cell_type": "markdown",
   "source": ""
  }
 ],
 "metadata": {
  "kernelspec": {
   "display_name": "Kotlin",
   "language": "kotlin",
   "name": "kotlin"
  },
  "language_info": {
   "name": "kotlin",
   "version": "1.9.23",
   "mimetype": "text/x-kotlin",
   "file_extension": ".kt",
   "pygments_lexer": "kotlin",
   "codemirror_mode": "text/x-kotlin",
   "nbconvert_exporter": ""
  }
 },
 "nbformat": 4,
 "nbformat_minor": 0
}
