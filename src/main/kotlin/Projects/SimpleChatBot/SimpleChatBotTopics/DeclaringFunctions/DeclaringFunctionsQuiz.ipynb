{
 "cells": [
  {
   "cell_type": "code",
   "execution_count": null,
   "metadata": {
    "collapsed": true
   },
   "outputs": [],
   "source": [
    ""
   ]
  },
  {
   "metadata": {},
   "cell_type": "markdown",
   "source": [
    "**Categorizing life stages based on age**\n",
    "\n",
    "Write a function that takes a person's age as input and prints 'Minor' if their age is less than 18, 'Adult' if their age is greater than or equal to 18 and less than 65, and 'Senior' if their age is 65 or above.\n",
    "\n",
    "Sample Input 1:\n",
    "\n",
    "17\n",
    "\n",
    "Sample Output 1:\n",
    "\n",
    "Minor\n",
    "\n",
    "Sample Input 2:\n",
    "\n",
    "35\n",
    "\n",
    "Sample Output 2:\n",
    "\n",
    "Adult\n",
    "\n",
    "Write a program in Kotlin"
   ]
  },
  {
   "metadata": {},
   "cell_type": "code",
   "outputs": [],
   "execution_count": null,
   "source": [
    "fun categorizeAge(age: Int): String {\n",
    "\n",
    "    return if (age < 18) {\n",
    "        \"Minor\"\n",
    "    }else if (age < 65) {\n",
    "        \"Adult\"\n",
    "    }else{\n",
    "        \"Senior\"\n",
    "    }\n",
    "}\n",
    "\n",
    "\n",
    "val age = readln().toInt()\n",
    "println(categorizeAge(age))"
   ]
  },
  {
   "metadata": {},
   "cell_type": "code",
   "outputs": [],
   "execution_count": null,
   "source": [
    "//single-expression\n",
    "fun categorizeAge(age: Int) = if (age < 18) \"Minor\" else if (age < 65) \"Adult\" else \"Senior\"\n",
    "\n",
    "val age = readln().toInt()\n",
    "println(categorizeAge(age))"
   ]
  },
  {
   "metadata": {},
   "cell_type": "code",
   "outputs": [],
   "execution_count": null,
   "source": [
    "//sol2\n",
    "fun getAgeGroup(age: Int): String {\n",
    "    return when (age) {\n",
    "        in 0..<18 -> \"Minor\"\n",
    "        in 18..<65 -> \"Adult\"\n",
    "        in 65..Int.MAX_VALUE -> \"Senior\"\n",
    "        else -> throw IllegalArgumentException(\"Age must not be less than zero\")\n",
    "    }\n",
    "}\n",
    "\n",
    "fun main() {\n",
    "    // Read the person's age\n",
    "    val age = readLine()!!.toInt()\n",
    "\n",
    "    // Call the function with the age as argument\n",
    "    val group = getAgeGroup(age)\n",
    "\n",
    "    // Print the result\n",
    "    println(group)\n",
    "}\n"
   ]
  },
  {
   "metadata": {},
   "cell_type": "code",
   "outputs": [],
   "execution_count": null,
   "source": [
    "\n",
    "\n",
    "\n",
    "\n",
    "\n",
    "\n",
    "\n",
    "\n",
    "\n"
   ]
  },
  {
   "metadata": {},
   "cell_type": "markdown",
   "source": [
    "**How to declare a function**\n",
    "\n",
    "Select the correct way to declare a function that adds two numbers.\n",
    "\n",
    "Select one option from the list\n",
    "\n",
    "\n",
    "\n",
    "function sum(a: Int, b: Int): Int = a + b\n",
    "\n",
    "fun sum(a: Int, b: Int): Int = a + b     T\n",
    "\n",
    "def sum(a: Int, b: Int): Int = a + b\n",
    "\n",
    "sum(a: Int, b: Int): Int = a + b"
   ]
  },
  {
   "metadata": {},
   "cell_type": "code",
   "outputs": [],
   "execution_count": null,
   "source": [
    "\n",
    "\n",
    "\n",
    "\n",
    "\n",
    "\n",
    "\n",
    "\n",
    "\n"
   ]
  },
  {
   "metadata": {},
   "cell_type": "markdown",
   "source": [
    "**Parameters**\n",
    "\n",
    "Imagine, you need to declare a function with two parameters:\n",
    "\n",
    "fun some(parameters) {\n",
    "    println(\"works\")\n",
    "}\n",
    "\n",
    "How do these parameters look?\n",
    "\n",
    "Select one option from the list\n",
    "\n",
    "\n",
    "\n",
    "Int; String\n",
    "\n",
    "arg1, arg2\n",
    "\n",
    "arg1: Int, arg2: String   T\n",
    "\n",
    "Int arg1, String arg2"
   ]
  },
  {
   "metadata": {},
   "cell_type": "code",
   "outputs": [],
   "execution_count": null,
   "source": [
    "\n",
    "\n",
    "\n",
    "\n",
    "\n",
    "\n",
    "\n",
    "\n",
    "\n"
   ]
  },
  {
   "metadata": {},
   "cell_type": "markdown",
   "source": [
    "**The sum of three numbers**\n",
    "\n",
    "Write a function named sum that takes three integer numbers and returns their sum.\n",
    "\n",
    "\n",
    "Use the provided code template.\n",
    "Sample Input 1:\n",
    "\n",
    "8\n",
    "11\n",
    "2\n",
    "\n",
    "Sample Output 1:\n",
    "\n",
    "21"
   ]
  },
  {
   "metadata": {},
   "cell_type": "code",
   "outputs": [],
   "execution_count": null,
   "source": [
    "fun sum(a: Int, b: Int, c: Int): Int{\n",
    "    return a + b + c\n",
    "}\n",
    "\n",
    "val a = readln().toInt()\n",
    "val b = readln().toInt()\n",
    "val c = readln().toInt()\n",
    "\n",
    "println(sum(a, b, c))"
   ]
  },
  {
   "metadata": {},
   "cell_type": "code",
   "outputs": [],
   "execution_count": null,
   "source": [
    "//sol2\n",
    "// write your function here\n",
    "fun sum(vararg a: Int) = a.sum()\n",
    "\n",
    "fun main() {\n",
    "    val a = readLine()!!.toInt()\n",
    "    val b = readLine()!!.toInt()\n",
    "    val c = readLine()!!.toInt()\n",
    "\n",
    "    println(sum(a, b, c))\n",
    "}\n"
   ]
  },
  {
   "metadata": {},
   "cell_type": "code",
   "outputs": [],
   "execution_count": null,
   "source": [
    "\n",
    "\n",
    "\n",
    "\n",
    "\n",
    "\n",
    "\n",
    "\n",
    "\n",
    "\n"
   ]
  },
  {
   "metadata": {},
   "cell_type": "markdown",
   "source": [
    "**Return type**\n",
    "\n",
    "What is a return of a function with no return type?\n",
    "\n",
    "Select one option from the list\n",
    "\n",
    "\n",
    "Null\n",
    "\n",
    "Nothing\n",
    "\n",
    "Int\n",
    "\n",
    "Void\n",
    "\n",
    "Unit              T"
   ]
  },
  {
   "metadata": {},
   "cell_type": "code",
   "outputs": [],
   "execution_count": null,
   "source": [
    "\n",
    "\n",
    "\n",
    "\n",
    "\n",
    "\n",
    "\n",
    "\n",
    "\n"
   ]
  },
  {
   "metadata": {},
   "cell_type": "markdown",
   "source": [
    "**Vowel or not**\n",
    "\n",
    "Write a function that checks whether a letter of the basic Latin alphabet is a vowel. The input is one letter.\n",
    "\n",
    "Do not consider the letter y a vowel.\n",
    "\n",
    "Your function should take a Char type value and return a Boolean.\n",
    "\n",
    "Use the provided code template.\n",
    "\n",
    "Examples\n",
    "\n",
    "1) isVowel('a') should be true\n",
    "\n",
    "2) isVowel('A') should be true\n",
    "\n",
    "3) isVowel('b') should be false\n",
    "\n"
   ]
  },
  {
   "metadata": {
    "ExecuteTime": {
     "end_time": "2025-08-09T17:07:54.580271800Z",
     "start_time": "2025-08-09T17:07:51.339797600Z"
    }
   },
   "cell_type": "code",
   "source": [
    "fun isVovel(letter: Char): Boolean{\n",
    "    val vowels = \"aeiouAEIOU\"\n",
    "    return letter in vowels\n",
    "}\n",
    "\n",
    "val letter = readln().first()\n",
    "\n",
    "println(isVovel(letter))"
   ],
   "outputs": [
    {
     "name": "stdout",
     "output_type": "stream",
     "text": [
      "true\r\n"
     ]
    }
   ],
   "execution_count": 1
  },
  {
   "metadata": {},
   "cell_type": "code",
   "outputs": [],
   "execution_count": null,
   "source": [
    "//sol2\n",
    "import java.util.Scanner\n",
    "\n",
    "// write your function here\n",
    "fun isVowel(c: Char): Boolean = \"AEIOU\".contains(c, ignoreCase = true)\n",
    "\n",
    "fun main(args: Array<String>) {\n",
    "    val scanner = Scanner(System.`in`)\n",
    "\n",
    "    val letter = scanner.next()[0]\n",
    "\n",
    "    println(isVowel(letter))\n",
    "}\n"
   ]
  },
  {
   "metadata": {},
   "cell_type": "code",
   "outputs": [],
   "execution_count": null,
   "source": [
    "//sol3\n",
    "import java.util.Scanner\n",
    "\n",
    "fun isVowel(input: Char) = input.toUpperCase() in \"AEIOU\"\n",
    "\n",
    "fun main(args: Array<String>) {\n",
    "    val scanner = Scanner(System.`in`)\n",
    "\n",
    "    val letter = scanner.next()[0]\n",
    "\n",
    "    println(isVowel(letter))\n",
    "}\n"
   ]
  },
  {
   "metadata": {},
   "cell_type": "code",
   "outputs": [],
   "execution_count": null,
   "source": [
    "//sol4\n",
    "fun isVowel(letter: Char): Boolean = letter.toLowerCase() in \"aeiou\"\n",
    "\n",
    "fun main() {\n",
    "\n",
    "    val letter = readLine()!!.first()\n",
    "\n",
    "    println(isVowel(letter))\n",
    "}\n"
   ]
  },
  {
   "metadata": {},
   "cell_type": "code",
   "outputs": [],
   "execution_count": null,
   "source": [
    "//sol5\n",
    "import java.util.Scanner\n",
    "\n",
    "fun isVowel(letter: Char): Boolean {\n",
    "    return letter.toLowerCase() in \"aouie\"\n",
    "}\n",
    "\n",
    "fun main(args: Array<String>) {\n",
    "    val scanner = Scanner(System.`in`)\n",
    "\n",
    "    val letter = scanner.next()[0]\n",
    "\n",
    "    println(isVowel(letter))\n",
    "}\n"
   ]
  },
  {
   "metadata": {},
   "cell_type": "code",
   "outputs": [],
   "execution_count": null,
   "source": [
    "//sol6\n",
    "fun isVowel(c: Char) = \"aeiouAEIOU\".contains(c)\n",
    "\n",
    "fun main() {\n",
    "    val letter = readLine()!!.first()\n",
    "\n",
    "    println(isVowel(letter))\n",
    "}"
   ]
  },
  {
   "metadata": {},
   "cell_type": "code",
   "outputs": [],
   "execution_count": null,
   "source": [
    "\n",
    "\n",
    "\n",
    "\n",
    "\n",
    "\n",
    "\n",
    "\n",
    "\n",
    "\n",
    "\n",
    "\n",
    "\n",
    "\n"
   ]
  },
  {
   "metadata": {},
   "cell_type": "markdown",
   "source": [
    "**Comparing sums**\n",
    "\n",
    "Write a function called isGreater() that takes four integer numbers and returns true if a sum of the first two arguments is greater than a sum of the third and fourth argument. Otherwise, return false.\n",
    "\n",
    "\n",
    "Use the provided code template.\n",
    "\n",
    "Sample Input 1:\n",
    "\n",
    "1\n",
    "2\n",
    "3\n",
    "4\n",
    "\n",
    "Sample Output 1:\n",
    "\n",
    "false\n",
    "\n",
    "Sample Input 2:\n",
    "\n",
    "3\n",
    "4\n",
    "1\n",
    "2\n",
    "\n",
    "Sample Output 2:\n",
    "\n",
    "true\n",
    "\n",
    "Sample Input 3:\n",
    "\n",
    "2\n",
    "3\n",
    "4\n",
    "1\n",
    "\n",
    "Sample Output 3:\n",
    "\n",
    "false"
   ]
  },
  {
   "metadata": {},
   "cell_type": "code",
   "outputs": [],
   "execution_count": null,
   "source": [
    "fun isGreater(a: Int, b: Int, c: Int, d: Int): Boolean {\n",
    "    return (a + b) > (c + d)\n",
    "}\n",
    "\n",
    "fun main() {\n",
    "    val number1 = readLine()!!.toInt()\n",
    "    val number2 = readLine()!!.toInt()\n",
    "    val number3 = readLine()!!.toInt()\n",
    "    val number4 = readLine()!!.toInt()\n",
    "\n",
    "    println(isGreater(number1, number2, number3, number4))\n",
    "}\n"
   ]
  },
  {
   "metadata": {},
   "cell_type": "code",
   "outputs": [],
   "execution_count": null,
   "source": [
    "//sol2\n",
    "import java.util.*\n",
    "\n",
    "fun main(args: Array<String>) {\n",
    "    val scanner = Scanner(System.`in`)\n",
    "\n",
    "    val number1 = scanner.nextInt()\n",
    "    val number2 = scanner.nextInt()\n",
    "    val number3 = scanner.nextInt()\n",
    "    val number4 = scanner.nextInt()\n",
    "\n",
    "    val isGreater = { a: Int, b: Int, c: Int, d: Int -> a + b > c + d }\n",
    "\n",
    "    println(isGreater(number1, number2, number3, number4))\n",
    "}\n"
   ]
  },
  {
   "metadata": {},
   "cell_type": "code",
   "outputs": [],
   "execution_count": null,
   "source": [
    "//sol3\n",
    "// write your function here\n",
    "\n",
    "private val ONE = 1\n",
    "private val TWO = 2\n",
    "\n",
    "fun isGreater(vararg numbers: Int) = numbers.first() + numbers[ONE] > numbers[TWO] + numbers.last()\n",
    "\n",
    "fun main() {\n",
    "    val number1 = readLine()!!.toInt()\n",
    "    val number2 = readLine()!!.toInt()\n",
    "    val number3 = readLine()!!.toInt()\n",
    "    val number4 = readLine()!!.toInt()\n",
    "\n",
    "    println(isGreater(number1, number2, number3, number4))\n",
    "}\n"
   ]
  },
  {
   "metadata": {},
   "cell_type": "code",
   "outputs": [],
   "execution_count": null,
   "source": [
    "//sol4\n",
    "import java.util.Scanner\n",
    "\n",
    "// write your function here\n",
    "fun isGreater(a: Int, b: Int, c: Int, d: Int): Boolean = (a + b) > (c + d)\n",
    "\n",
    "fun main(args: Array<String>) {\n",
    "    val scanner = Scanner(System.`in`)\n",
    "\n",
    "    val number1 = scanner.nextInt()\n",
    "    val number2 = scanner.nextInt()\n",
    "    val number3 = scanner.nextInt()\n",
    "    val number4 = scanner.nextInt()\n",
    "\n",
    "    println(isGreater(number1, number2, number3, number4))\n",
    "}\n"
   ]
  },
  {
   "metadata": {},
   "cell_type": "code",
   "outputs": [],
   "execution_count": null,
   "source": [
    "//sol5\n",
    "fun isGreater(nums: List<Int>) = nums[0] + nums[1] > nums[2] + nums[3]\n",
    "\n",
    "fun main() {\n",
    "    val input = IntArray(4).map { readLine()!!.toInt() }\n",
    "    println(isGreater(input))\n",
    "}\n"
   ]
  },
  {
   "metadata": {},
   "cell_type": "code",
   "outputs": [],
   "execution_count": null,
   "source": [
    "\n",
    "\n",
    "\n",
    "\n",
    "\n",
    "\n",
    "\n",
    "\n",
    "\n",
    "\n",
    "\n",
    "\n",
    "\n",
    "\n"
   ]
  },
  {
   "metadata": {},
   "cell_type": "markdown",
   "source": [
    "**Division**\n",
    "\n",
    "Write a function named divide that takes two long numbers and returns a double value. It should return the result of the division of the first argument by the second one. It's guaranteed that the second argument is not zero.\n",
    "\n",
    "Sample Input 1:\n",
    "\n",
    "500000000000\n",
    "200000000000\n",
    "\n",
    "Sample Output 1:\n",
    "\n",
    "2.5\n",
    "\n",
    "Write a program in Kotlin\n"
   ]
  },
  {
   "metadata": {},
   "cell_type": "code",
   "outputs": [],
   "execution_count": null,
   "source": [
    "fun divide(a: Long, b: Long): Double{\n",
    "    return a.toDouble() / b.toDouble()\n",
    "}\n",
    "\n",
    "//fun divide(a: Long, b: Long) = a.toDouble() / b.toDouble()\n",
    "\n",
    "fun main() {\n",
    "    val a = readLine()!!.toLong()\n",
    "    val b = readLine()!!.toLong()\n",
    "    println(divide(a, b))\n",
    "}\n"
   ]
  },
  {
   "metadata": {},
   "cell_type": "code",
   "outputs": [],
   "execution_count": null,
   "source": [
    "//sol2\n",
    "// write your code here\n",
    "fun divide(a: Long, b: Long) = a.toDouble() / b\n",
    "/* Do not change code below */\n",
    "fun main() {\n",
    "    val a = readLine()!!.toLong()\n",
    "    val b = readLine()!!.toLong()\n",
    "    println(divide(a, b))\n",
    "}\n"
   ]
  },
  {
   "metadata": {},
   "cell_type": "code",
   "outputs": [],
   "execution_count": null,
   "source": [
    "//sol3\n",
    "val divide = { a: Long, b: Long -> a.toDouble() / b }\n",
    "\n",
    "fun main() {\n",
    "    val a = readln().toLong()\n",
    "    val b = readln().toLong()\n",
    "    println(divide(a, b))\n",
    "}\n"
   ]
  },
  {
   "metadata": {},
   "cell_type": "code",
   "outputs": [],
   "execution_count": null,
   "source": [
    "\n",
    "\n",
    "\n",
    "\n",
    "\n",
    "\n",
    "\n",
    "\n",
    "\n"
   ]
  },
  {
   "metadata": {},
   "cell_type": "markdown",
   "source": [
    "**Get last digit**\n",
    "\n",
    "Write a function named getLastDigit that takes one number and returns its last digit.\n",
    "\n",
    "Use the provided template.\n",
    "\n",
    "Sample Input 1:\n",
    "\n",
    "12345\n",
    "\n",
    "Sample Output 1:\n",
    "\n",
    "5\n",
    "\n",
    "Sample Input 2:\n",
    "\n",
    "-512\n",
    "\n",
    "Sample Output 2:\n",
    "\n",
    "2\n",
    "\n",
    "Write a program in Kotlin"
   ]
  },
  {
   "metadata": {},
   "cell_type": "code",
   "outputs": [],
   "execution_count": null,
   "source": [
    "fun getLastDigit(number: Int): Int {\n",
    "    return Math.abs(number) % 10\n",
    "}\n",
    "\n",
    "\n",
    "/* Do not change code below */\n",
    "fun main() {\n",
    "    val a = readLine()!!.toInt()\n",
    "    println(getLastDigit(a))\n",
    "}\n"
   ]
  },
  {
   "metadata": {},
   "cell_type": "code",
   "outputs": [],
   "execution_count": null,
   "source": [
    "//sol2\n",
    "/* Do not change code below */\n",
    "fun main() {\n",
    "    val a = readLine()!!.toInt()\n",
    "    println(getLastDigit(a))\n",
    "}\n",
    "\n",
    "// write your code here\n",
    "fun getLastDigit(digit: Int) = digit.toString().last()\n"
   ]
  },
  {
   "metadata": {},
   "cell_type": "code",
   "outputs": [],
   "execution_count": null,
   "source": [
    "//sol3\n",
    "// write your code here\n",
    "\n",
    "/* Do not change code below */\n",
    "fun main() {\n",
    "    val a = readLine()!!.toInt()\n",
    "    println(getLastDigit(a))\n",
    "}\n",
    "\n",
    "\n",
    "\n",
    "fun getLastDigit(n: Int) = abs(n % 10)\n",
    "\n",
    "fun abs(n: Int): Int = if (n < 0) -n else n\n"
   ]
  },
  {
   "metadata": {},
   "cell_type": "code",
   "outputs": [],
   "execution_count": null,
   "source": [
    "//sol4\n",
    "import java.util.*\n",
    "import kotlin.math.abs\n",
    "\n",
    "// write your code here\n",
    "fun getLastDigit(number: Int) = abs(number) % 10\n",
    "\n",
    "/* Do not change code below */\n",
    "fun main(args: Array<String>) {\n",
    "    val scanner = Scanner(System.`in`)\n",
    "    val a = scanner.nextInt()\n",
    "    println(getLastDigit(a))\n",
    "}"
   ]
  },
  {
   "metadata": {},
   "cell_type": "code",
   "outputs": [],
   "execution_count": null,
   "source": [
    "\n",
    "\n",
    "\n",
    "\n",
    "\n",
    "\n",
    "\n",
    "\n",
    "\n"
   ]
  },
  {
   "metadata": {},
   "cell_type": "markdown",
   "source": [
    "**Right equation**\n",
    "\n",
    "Write a function named isRightEquation() that takes three numbers and returns true if the product of the first two numbers is equal to the third number. Otherwise, it should return false.\n",
    "\n",
    "Use the provided template.\n",
    "\n",
    "Sample Input 1:\n",
    "\n",
    "2\n",
    "3\n",
    "6\n",
    "\n",
    "Sample Output 1:\n",
    "\n",
    "true\n",
    "\n",
    "Sample Input 2:\n",
    "\n",
    "2\n",
    "3\n",
    "7\n",
    "\n",
    "Sample Output 2:\n",
    "\n",
    "false"
   ]
  },
  {
   "metadata": {},
   "cell_type": "code",
   "outputs": [],
   "execution_count": null,
   "source": [
    "fun isRightEquation(a: Int, b: Int, c: Int): Boolean {\n",
    "\n",
    "    return a * b == c\n",
    "}\n",
    "\n",
    "/* Do not change code below */\n",
    "fun main() {\n",
    "    val a = readLine()!!.toInt()\n",
    "    val b = readLine()!!.toInt()\n",
    "    val c = readLine()!!.toInt()\n",
    "    println(isRightEquation(a, b, c))\n",
    "}\n"
   ]
  },
  {
   "metadata": {},
   "cell_type": "code",
   "outputs": [],
   "execution_count": null,
   "source": [
    "//sol2\n",
    "// write your code here\n",
    "fun isRightEquation(a: Int, b: Int, c: Int) = a * b == c\n",
    "\n",
    "/* sry guys */\n",
    "fun main(args: Array<String>) {\n",
    "    val scan = java.util.Scanner(System.`in`)\n",
    "    println(isRightEquation(scan.nextInt(), scan.nextInt(), scan.nextInt()))\n",
    "}\n"
   ]
  },
  {
   "metadata": {},
   "cell_type": "code",
   "outputs": [],
   "execution_count": null,
   "source": [
    "//sol3\n",
    "// write your code here\n",
    "fun isRightEquation(a: Int, b: Int, c: Int): Boolean = a * b == c\n",
    "/* Do not change code below */\n",
    "fun main() {\n",
    "    val a = readLine()!!.toInt()\n",
    "    val b = readLine()!!.toInt()\n",
    "    val c = readLine()!!.toInt()\n",
    "    println(isRightEquation(a, b, c))\n",
    "}\n"
   ]
  },
  {
   "metadata": {},
   "cell_type": "code",
   "outputs": [],
   "execution_count": null,
   "source": [
    "\n",
    "\n",
    "\n",
    "\n",
    "\n",
    "\n",
    "\n",
    "\n",
    "\n",
    "\n"
   ]
  },
  {
   "metadata": {},
   "cell_type": "markdown",
   "source": [
    "**The square of a number**\n",
    "\n",
    "Write a function named square that takes one number and returns the square of this number.\n",
    "\n",
    "Use the provided template.\n",
    "\n",
    "Sample Input 1:\n",
    "\n",
    "5\n",
    "\n",
    "Sample Output 1:\n",
    "\n",
    "25"
   ]
  },
  {
   "metadata": {},
   "cell_type": "code",
   "outputs": [],
   "execution_count": null,
   "source": [
    "fun square(n: Int) = n * n\n",
    "\n",
    "/* Do not change code below */\n",
    "fun main() {\n",
    "    val number = readLine()!!.toInt()\n",
    "    println(square(number))\n",
    "}\n"
   ]
  },
  {
   "metadata": {},
   "cell_type": "code",
   "outputs": [],
   "execution_count": null,
   "source": [
    "\n",
    "\n",
    "\n",
    "\n",
    "\n",
    "\n",
    "\n",
    "\n",
    "\n",
    "\n"
   ]
  },
  {
   "metadata": {},
   "cell_type": "markdown",
   "source": [
    "**What should be specified?**\n",
    "\n",
    "If you were to declare a function in Kotlin, using only the choices provided, which components are absolutely necessary for it to compile successfully?\n",
    "\n",
    "Consider only the elements listed below.\n",
    "\n",
    "Select one or more options from the list\n",
    "\n",
    "\n",
    "\n",
    "\n",
    "name         T\n",
    "\n",
    "the curly braces { } for the body\n",
    "\n",
    "a return type\n",
    "\n",
    "parentheses     T\n",
    "\n",
    "the fun keyword         T"
   ]
  }
 ],
 "metadata": {
  "kernelspec": {
   "display_name": "Kotlin",
   "language": "kotlin",
   "name": "kotlin"
  },
  "language_info": {
   "name": "kotlin",
   "version": "1.9.23",
   "mimetype": "text/x-kotlin",
   "file_extension": ".kt",
   "pygments_lexer": "kotlin",
   "codemirror_mode": "text/x-kotlin",
   "nbconvert_exporter": ""
  }
 },
 "nbformat": 4,
 "nbformat_minor": 0
}
