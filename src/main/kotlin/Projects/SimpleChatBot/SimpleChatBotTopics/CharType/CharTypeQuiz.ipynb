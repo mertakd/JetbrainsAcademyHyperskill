{
 "cells": [
  {
   "cell_type": "code",
   "execution_count": null,
   "metadata": {
    "collapsed": true
   },
   "outputs": [],
   "source": [
    ""
   ]
  },
  {
   "metadata": {},
   "cell_type": "markdown",
   "source": [
    "**Previous character**\n",
    "\n",
    "Write a program that reads four characters and prints the previous character in the Unicode table for each of them.\n",
    "\n",
    "Sample Input 1:\n",
    "\n",
    "b\n",
    "c\n",
    "d\n",
    "e\n",
    "\n",
    "Sample Output 1:\n",
    "\n",
    "a\n",
    "b\n",
    "c\n",
    "d\n",
    "\n",
    "Write a program in Kotlin\n"
   ]
  },
  {
   "metadata": {},
   "cell_type": "code",
   "outputs": [],
   "execution_count": null,
   "source": [
    "repeat(4){\n",
    "    val c = readln().first()\n",
    "    println((c.toInt() - 1).toChar())\n",
    "}"
   ]
  },
  {
   "metadata": {},
   "cell_type": "code",
   "outputs": [],
   "execution_count": null,
   "source": [
    "//sol2\n",
    "Array(4) { readLine()!!.first() }.forEach { println(it - 1) }"
   ]
  },
  {
   "metadata": {},
   "cell_type": "code",
   "outputs": [],
   "execution_count": null,
   "source": [
    "//sol3 amele\n",
    "val first: Char = readLine()!!.first()\n",
    "val second: Char = readLine()!!.first()\n",
    "val third: Char = readLine()!!.first()\n",
    "val fourth: Char = readLine()!!.first()\n",
    "println(first - 1)\n",
    "println(second - 1)\n",
    "println(third - 1)\n",
    "println(fourth - 1)"
   ]
  },
  {
   "metadata": {},
   "cell_type": "code",
   "outputs": [],
   "execution_count": null,
   "source": [
    "\n",
    "\n",
    "\n",
    "\n",
    "\n",
    "\n",
    "\n",
    "\n",
    "\n",
    "\n",
    "\n"
   ]
  },
  {
   "metadata": {},
   "cell_type": "markdown",
   "source": [
    "**Comparing numbers and characters**\n",
    "\n",
    "Write a program that reads one number and one character on separate lines and checks whether the entered number corresponds to the decimal representation of the character in the Unicode table.\n",
    "\n",
    "If the input character is represented by the input number, print true; otherwise, print false.\n",
    "\n",
    "Sample Input 1:\n",
    "\n",
    "97\n",
    "a\n",
    "\n",
    "Sample Output 1:\n",
    "\n",
    "true\n",
    "\n",
    "Sample Input 2:\n",
    "\n",
    "97\n",
    "C\n",
    "\n",
    "Sample Output 2:\n",
    "\n",
    "false\n",
    "\n",
    "Write a program in Kotlin\n"
   ]
  },
  {
   "metadata": {},
   "cell_type": "code",
   "outputs": [],
   "execution_count": null,
   "source": [
    "val number = readLine()!!.toInt()\n",
    "val char = readLine()!!.single()\n",
    "val charNumber = char.toInt()\n",
    "\n",
    "if (number == charNumber) {\n",
    "    println(true)\n",
    "} else {\n",
    "    println(false)\n",
    "}"
   ]
  },
  {
   "metadata": {},
   "cell_type": "code",
   "outputs": [],
   "execution_count": null,
   "source": [
    "//sol2\n",
    "println(readLine()!!.toInt() == readLine()!!.first().code)"
   ]
  },
  {
   "metadata": {},
   "cell_type": "code",
   "outputs": [],
   "execution_count": null,
   "source": [
    "//sol3\n",
    "val num = readln().toInt()\n",
    "val cod = readln().first()\n",
    "print(num == cod.code)"
   ]
  },
  {
   "metadata": {},
   "cell_type": "code",
   "outputs": [],
   "execution_count": null,
   "source": [
    "//sol4\n",
    "val (a, b) = List(2) { readln() }\n",
    "if (a.toInt() == b.first().code) { print(\"true\") } else { print(\"false\") }"
   ]
  },
  {
   "metadata": {},
   "cell_type": "code",
   "outputs": [],
   "execution_count": null,
   "source": [
    "\n",
    "\n",
    "\n",
    "\n",
    "\n",
    "\n",
    "\n",
    "\n",
    "\n"
   ]
  },
  {
   "metadata": {},
   "cell_type": "markdown",
   "source": [
    "**Operations allowed**\n",
    "\n",
    "There are two variables:\n",
    "\n",
    "val c: Char = ...\n",
    "val n: Int = ...\n",
    "\n",
    "Which operations are possible?\n",
    "\n",
    "Select one or more options from the list\n",
    "\n",
    "\n",
    "\n",
    "c * n\n",
    "\n",
    "c / n\n",
    "\n",
    "c - n     t\n",
    "\n",
    "c + n     t\n"
   ]
  },
  {
   "metadata": {},
   "cell_type": "code",
   "outputs": [],
   "execution_count": null,
   "source": [
    "\n",
    "\n",
    "\n",
    "\n",
    "\n",
    "\n",
    "\n",
    "\n",
    "\n",
    "\n",
    "\n"
   ]
  },
  {
   "metadata": {},
   "cell_type": "markdown",
   "source": [
    "**The code of a character**\n",
    "\n",
    "According to the Unicode table, the symbol ? has the code 003F.\n",
    "\n",
    "How would you represent it as a character in a program?\n",
    "\n",
    "Select one option from the list\n",
    "\n",
    "'\\n003F'\n",
    "\n",
    "'#003F'\n",
    "\n",
    "'\\\\003F'\n",
    "\n",
    "'003F'\n",
    "\n",
    "'\\u003F'    t"
   ]
  },
  {
   "metadata": {},
   "cell_type": "code",
   "outputs": [],
   "execution_count": null,
   "source": [
    "\n",
    "\n",
    "\n",
    "\n",
    "\n",
    "\n",
    "\n",
    "\n",
    "\n"
   ]
  },
  {
   "metadata": {},
   "cell_type": "markdown",
   "source": [
    "**Comparing a character with its Unicode representation**\n",
    "\n",
    "Suppose you're building a system in Kotlin that needs to compare Unicode characters. You need to find out if a particular character is the same as its Unicode representation. Fill the blanks in the code snippet to compare a hardcoded character with its Unicode equivalent and print the result.\n",
    "\n",
    "Fill in the gaps with the relevant elements"
   ]
  },
  {
   "metadata": {},
   "cell_type": "code",
   "outputs": [],
   "execution_count": null,
   "source": [
    "val char1 = 'K'\n",
    "val char2 = '\\u004B'\n",
    "if (char1 == char2) {\n",
    "    println(\"Both are same\")\n",
    "} else {\n",
    "    println(\"Both are different\")\n",
    "}"
   ]
  },
  {
   "metadata": {},
   "cell_type": "code",
   "outputs": [],
   "execution_count": null,
   "source": [
    "\n",
    "\n",
    "\n",
    "\n",
    "\n",
    "\n",
    "\n",
    "\n",
    "\n"
   ]
  },
  {
   "metadata": {},
   "cell_type": "markdown",
   "source": [
    "**Matching characters**\n",
    "\n",
    "Match each character with a suitable meaning.\n",
    "\n",
    "Match the items from left and right columns\n",
    "\n",
    "'\\n'\n",
    "'\\t'\n",
    "' '\n",
    "'\\\\'\n",
    "new line character\n",
    "tab character\n",
    "space character\n",
    "backslash character itself\n"
   ]
  },
  {
   "metadata": {},
   "cell_type": "code",
   "outputs": [],
   "execution_count": null,
   "source": [
    "\n",
    "\n",
    "\n",
    "\n",
    "\n",
    "\n",
    "\n",
    "\n",
    "\n",
    "\n"
   ]
  },
  {
   "metadata": {},
   "cell_type": "markdown",
   "source": [
    "**A capital letter or a digit**\n",
    "\n",
    "Write a program that reads a character and checks if it is a capital letter or a digit from 1 to 9.\n",
    "\n",
    "The program must print either true or false.\n",
    "\n",
    "Sample Input 1:\n",
    "\n",
    "A\n",
    "\n",
    "Sample Output 1:\n",
    "\n",
    "true"
   ]
  },
  {
   "metadata": {},
   "cell_type": "code",
   "outputs": [],
   "execution_count": null,
   "source": [
    "val input = readln().first()\n",
    "\n",
    "val isCapitalLetter = input.isUpperCase()\n",
    "val isDigitFrom1to9 = input.isDigit() && input != '0'\n",
    "\n",
    "println(isCapitalLetter || isDigitFrom1to9)"
   ]
  },
  {
   "metadata": {},
   "cell_type": "code",
   "outputs": [],
   "execution_count": null,
   "source": [
    "//SOL2\n",
    "val char = readLine()!!.first()\n",
    "println((char.isDigit() || char.isUpperCase()) && char != '0')"
   ]
  },
  {
   "metadata": {},
   "cell_type": "code",
   "outputs": [],
   "execution_count": null,
   "source": [
    "import java.util.Scanner\n",
    "\n",
    "//SOL3\n",
    "val scanner = Scanner(System.`in`)\n",
    "println(scanner.next().single().let { it.isUpperCase() || it in '1'..'9' })"
   ]
  },
  {
   "metadata": {},
   "cell_type": "code",
   "outputs": [],
   "execution_count": null,
   "source": [
    "//SOL4\n",
    "print(readLine()!!\n",
    "    .first()\n",
    "    .let { it.isUpperCase() || it in '1'..'9' })"
   ]
  },
  {
   "metadata": {},
   "cell_type": "code",
   "outputs": [],
   "execution_count": null,
   "source": [
    "\n",
    "\n",
    "\n",
    "\n",
    "\n",
    "\n",
    "\n",
    "\n",
    "\n",
    "\n"
   ]
  },
  {
   "metadata": {},
   "cell_type": "markdown",
   "source": [
    "**Compare Latin letters**\n",
    "\n",
    "Write a program that reads two Latin letters as characters and compares them ignoring cases. If these characters represent the same letter print true , otherwise false.\n",
    "\n",
    "Sample Input 1:\n",
    "\n",
    "a\n",
    "b\n",
    "\n",
    "Sample Output 1:\n",
    "\n",
    "false\n",
    "\n",
    "Sample Input 2:\n",
    "\n",
    "d\n",
    "D\n",
    "\n",
    "Sample Output 2:\n",
    "\n",
    "true"
   ]
  },
  {
   "metadata": {},
   "cell_type": "code",
   "outputs": [],
   "execution_count": null,
   "source": [
    "val letter1 = readLine()?.toLowerCase()\n",
    "val letter2 = readLine()?.toLowerCase()\n",
    "\n",
    "if (letter1 == letter2) {\n",
    "    println(\"true\")\n",
    "} else {\n",
    "    println(\"false\")\n",
    "}"
   ]
  },
  {
   "metadata": {},
   "cell_type": "code",
   "outputs": [],
   "execution_count": null,
   "source": "println(readLine()!!.first().equals(readLine()!!.first(), ignoreCase = true))"
  },
  {
   "metadata": {},
   "cell_type": "code",
   "outputs": [],
   "execution_count": null,
   "source": "println(readLine()!!.first().lowercase() == readLine()!!.first().lowercase())"
  },
  {
   "metadata": {},
   "cell_type": "code",
   "outputs": [],
   "execution_count": null,
   "source": [
    "val (a, b) = List(2) { readln().first().lowercase() }\n",
    "print(a == b)"
   ]
  },
  {
   "metadata": {},
   "cell_type": "code",
   "outputs": [],
   "execution_count": null,
   "source": [
    "\n",
    "\n",
    "\n",
    "\n",
    "\n",
    "\n",
    "\n",
    "\n",
    "\n",
    "\n"
   ]
  },
  {
   "metadata": {},
   "cell_type": "markdown",
   "source": [
    "**Sequence**\n",
    "\n",
    "Write a program that reads three characters and checks if they are ordered according to the Unicode table, and if each next character immediately follows the previous one (i.e. 'a', 'b', 'c' or 'x', 'y', 'z') according to the alphabet.\n",
    "\n",
    "The program must print either true or false.\n",
    "\n",
    "Sample Input 1:\n",
    "\n",
    "a\n",
    "b\n",
    "c\n",
    "\n",
    "Sample Output 1:\n",
    "\n",
    "true\n",
    "\n",
    "Sample Input 2:\n",
    "\n",
    "c\n",
    "b\n",
    "a\n",
    "\n",
    "Sample Output 2:\n",
    "\n",
    "false\n",
    "\n",
    "Sample Input 3:\n",
    "\n",
    "a\n",
    "b\n",
    "d\n",
    "\n",
    "Sample Output 3:\n",
    "\n",
    "false\n",
    "\n",
    "Sample Input 4:\n",
    "\n",
    "x\n",
    "y\n",
    "z\n",
    "\n",
    "Sample Output 4:\n",
    "\n",
    "true"
   ]
  },
  {
   "metadata": {},
   "cell_type": "code",
   "outputs": [],
   "execution_count": null,
   "source": [
    "val a = readln().first() + 1\n",
    "val b = readln().first()\n",
    "val c = readln().first() - 1\n",
    "println(a == b && b == c)"
   ]
  },
  {
   "metadata": {},
   "cell_type": "markdown",
   "source": "\n"
  },
  {
   "metadata": {},
   "cell_type": "code",
   "outputs": [],
   "execution_count": null,
   "source": [
    "\n",
    "\n",
    "\n",
    "\n",
    "\n",
    "\n",
    "\n",
    "\n",
    "\n",
    "\n"
   ]
  },
  {
   "metadata": {},
   "cell_type": "markdown",
   "source": [
    "**Escape!**\n",
    "\n",
    "You've postponed this problem 1 month ago.\n",
    "Maybe now is a good time to try it out again?\n",
    "Using escape sequences, set the return value of the function to the following sequence:\n",
    "\n",
    "<div>\n",
    "    <p>Hello!, \"Kotlin is the best\"</p>\n",
    "</div>"
   ]
  },
  {
   "metadata": {},
   "cell_type": "code",
   "outputs": [],
   "execution_count": null,
   "source": [
    "fun solution(): String {\n",
    "    return \"<div>\\n\\t<p>Hello!, \\\\\\\"Kotlin is the best\\\\\\\"</p>\\n</div>\"\n",
    "}\n"
   ]
  }
 ],
 "metadata": {
  "kernelspec": {
   "display_name": "Kotlin",
   "language": "kotlin",
   "name": "kotlin"
  },
  "language_info": {
   "name": "kotlin",
   "version": "1.9.23",
   "mimetype": "text/x-kotlin",
   "file_extension": ".kt",
   "pygments_lexer": "kotlin",
   "codemirror_mode": "text/x-kotlin",
   "nbconvert_exporter": ""
  }
 },
 "nbformat": 4,
 "nbformat_minor": 0
}
