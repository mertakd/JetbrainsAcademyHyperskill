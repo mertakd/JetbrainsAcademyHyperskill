{
 "cells": [
  {
   "cell_type": "code",
   "execution_count": null,
   "metadata": {
    "collapsed": true
   },
   "outputs": [],
   "source": ""
  },
  {
   "metadata": {},
   "cell_type": "code",
   "outputs": [],
   "execution_count": null,
   "source": ""
  },
  {
   "metadata": {},
   "cell_type": "markdown",
   "source": [
    "**Read data correctly**\n",
    "\n",
    "We have a program that takes input and multiplies it by two if the condition is true, otherwise, the input will be divided by two instead.\n",
    "\n",
    "Fill in the blanks so that the program will run correctly with no errors.\n",
    "\n",
    "Fill in the gaps with the relevant elements\n"
   ]
  },
  {
   "metadata": {},
   "cell_type": "code",
   "outputs": [],
   "execution_count": null,
   "source": [
    "val number = readln().toInt()\n",
    "\n",
    "val condition = readln().toBoolean()\n",
    "\n",
    "val result = if (condition) number * 2 else number / 2"
   ]
  },
  {
   "metadata": {},
   "cell_type": "code",
   "outputs": [],
   "execution_count": null,
   "source": [
    "\n",
    "\n",
    "\n",
    "\n",
    "\n",
    "\n",
    "\n",
    "\n",
    "\n",
    "\n"
   ]
  },
  {
   "metadata": {},
   "cell_type": "markdown",
   "source": [
    "**Detect input mismatch**\n",
    "\n",
    "Consider the following Kotlin code snippet:\n",
    "\n",
    "val userInput = readln()\n",
    "val parsedInput = userInput.toInt()\n",
    "\n",
    "If a user enters the string '2023a', what will be the behavior of this program?\n",
    "\n",
    "The program throws a NumberFormatException"
   ]
  },
  {
   "metadata": {},
   "cell_type": "code",
   "outputs": [],
   "execution_count": null,
   "source": [
    "\n",
    "\n",
    "\n",
    "\n",
    "\n",
    "\n",
    "\n",
    "\n",
    "\n"
   ]
  },
  {
   "metadata": {},
   "cell_type": "markdown",
   "source": [
    "**Fix the input**\n",
    "\n",
    "Suppose you need to read the Int value into the variable n. Correct the code below."
   ]
  },
  {
   "metadata": {},
   "cell_type": "code",
   "outputs": [],
   "execution_count": null,
   "source": [
    "try {\n",
    "    val n = readln().toInt()\n",
    "    println(n)\n",
    "} catch (e: Exception) {\n",
    "    println(\"Wrong Type\")\n",
    "}"
   ]
  },
  {
   "metadata": {},
   "cell_type": "code",
   "outputs": [],
   "execution_count": null,
   "source": [
    "//sol2\n",
    "println(readln().toInt())"
   ]
  },
  {
   "metadata": {},
   "cell_type": "code",
   "outputs": [],
   "execution_count": null,
   "source": [
    "\n",
    "\n",
    "\n",
    "\n",
    "\n",
    "\n",
    "\n",
    "\n",
    "\n"
   ]
  },
  {
   "metadata": {},
   "cell_type": "markdown",
   "source": [
    "**Read a Double**\n",
    "\n",
    "Write a program that reads a Double value and prints it out.\n",
    "\n",
    "Sample Input 1:\n",
    "\n",
    "1.1\n",
    "\n",
    "Sample Output 1:\n",
    "\n",
    "1.1"
   ]
  },
  {
   "metadata": {},
   "cell_type": "code",
   "outputs": [],
   "execution_count": null,
   "source": [
    "val number = readln().toDouble()\n",
    "print(number)"
   ]
  },
  {
   "metadata": {},
   "cell_type": "code",
   "outputs": [],
   "execution_count": null,
   "source": [
    "\n",
    "\n",
    "\n",
    "\n",
    "\n",
    "\n",
    "\n",
    "\n",
    "\n"
   ]
  },
  {
   "metadata": {},
   "cell_type": "markdown",
   "source": [
    "**Invoke readln()**\n",
    "\n",
    "If we invoke readln() and enter the number 5 as an input, what type of data will it be?\n",
    "\n",
    "String\n",
    "\n"
   ]
  },
  {
   "metadata": {},
   "cell_type": "code",
   "outputs": [],
   "execution_count": null,
   "source": [
    "\n",
    "\n",
    "\n",
    "\n",
    "\n",
    "\n",
    "\n",
    "\n",
    "\n",
    "\n"
   ]
  },
  {
   "metadata": {},
   "cell_type": "markdown",
   "source": [
    "**Reading data**\n",
    "\n",
    "What function is used to read data?\n",
    "\n",
    "Select one option from the list\n",
    "\n",
    "\n",
    "readInLine()\n",
    "\n",
    "readBoolean()\n",
    "\n",
    "readLong()\n",
    "\n",
    "readln()    t\n",
    "\n",
    "readInt()\n",
    "\n",
    "readString()"
   ]
  },
  {
   "metadata": {},
   "cell_type": "code",
   "outputs": [],
   "execution_count": null,
   "source": [
    "\n",
    "\n",
    "\n",
    "\n",
    "\n",
    "\n",
    "\n",
    "\n",
    "\n"
   ]
  },
  {
   "metadata": {},
   "cell_type": "markdown",
   "source": [
    "**toDouble()**\n",
    "\n",
    "Consider the following code snippet:\n",
    "\n",
    "val a = readln().toDouble()\n",
    "\n",
    "Choose a valid value for the correct input.\n",
    "\n",
    "Select one or more options from the list\n",
    "\n",
    "5.5E\n",
    "\n",
    "five\n",
    "\n",
    "true\n",
    "\n",
    "5.5 t\n",
    "\n",
    "5    t"
   ]
  },
  {
   "metadata": {},
   "cell_type": "markdown",
   "source": ""
  },
  {
   "metadata": {},
   "cell_type": "code",
   "outputs": [],
   "execution_count": null,
   "source": [
    "\n",
    "\n",
    "\n",
    "\n",
    "\n",
    "\n",
    "\n",
    "\n",
    "\n"
   ]
  },
  {
   "metadata": {},
   "cell_type": "markdown",
   "source": [
    "**Find the correct input**\n",
    "\n",
    "Consider the code snippet below:\n",
    "\n",
    "val a = readln().toInt()\n",
    "val b = readln().toFloat()\n",
    "val c = readln()\n",
    "\n",
    "Which inputs can this code successfully read?\n",
    "\n",
    "a)\n",
    "\n",
    "true\n",
    "5\n",
    "15.5\n",
    "\n",
    "b)\n",
    "\n",
    "15.5\n",
    "a\n",
    "false\n",
    "\n",
    "c)\n",
    "\n",
    "kotlin\n",
    "0\n",
    "5\n",
    "\n",
    "d)\n",
    "\n",
    "kotlin\n",
    "5\n",
    "15.5\n",
    "\n",
    "e)         t\n",
    "\n",
    "5\n",
    "15.5\n",
    "true"
   ]
  },
  {
   "metadata": {},
   "cell_type": "code",
   "outputs": [],
   "execution_count": null,
   "source": [
    "\n",
    "\n",
    "\n",
    "\n",
    "\n",
    "\n",
    "\n",
    "\n",
    "\n",
    "\n",
    "\n",
    "\n"
   ]
  },
  {
   "metadata": {},
   "cell_type": "markdown",
   "source": [
    "**Check the input**\n",
    "\n",
    "Take a look at the code snippet below:\n",
    "\n",
    "val a = readln()\n",
    "val b = readln().toBoolean()\n",
    "val c = readln().toInt()\n",
    "\n",
    "Which inputs can this code successfully read? Each variable must have a value.\n",
    "\n",
    "Select one or more options from the list\n",
    "\n",
    "10\n",
    "false\n",
    "hello\n",
    "\n",
    "hello       t\n",
    "true\n",
    "10\n",
    "\n",
    "hello        t\n",
    "false\n",
    "10\n",
    "\n",
    "10\n",
    "hello\n",
    "fun\n",
    "\n",
    "fun\n",
    "10\n",
    "true\n",
    "\n",
    "true\n",
    "10\n",
    "hello"
   ]
  },
  {
   "metadata": {},
   "cell_type": "code",
   "outputs": [],
   "execution_count": null,
   "source": [
    "\n",
    "\n",
    "\n",
    "\n",
    "\n",
    "\n",
    "\n",
    "\n",
    "\n"
   ]
  },
  {
   "metadata": {},
   "cell_type": "markdown",
   "source": [
    "**Reversed output**\n",
    "\n",
    "Write a program that reads two strings and outputs them in the reverse order, each in a new line.\n",
    "\n",
    "Sample Input 1:\n",
    "\n",
    "Kotlin\n",
    "Language\n",
    "\n",
    "Sample Output 1:\n",
    "\n",
    "Language\n",
    "Kotlin"
   ]
  },
  {
   "metadata": {},
   "cell_type": "code",
   "outputs": [],
   "execution_count": null,
   "source": [
    "//sol1\n",
    "//val s1 = readln()\n",
    "//val s2 = readln()\n",
    "//println(s2)\n",
    "//println(s1)\n",
    "\n",
    "//sol2\n",
    "print(Array(2) { readLine()!! }.reversed().joinToString(\"\\n\"))\n",
    "\n",
    "//sol3\n",
    "val (s1, s2) = List(2) { readLine()!! }\n",
    "println(\"$s2\\n$s1\")\n",
    "\n",
    "//sol4\n",
    "val (a, b) = Array(2) { readln() }\n",
    "println(\"$b\\n$a\")"
   ]
  },
  {
   "metadata": {},
   "cell_type": "code",
   "outputs": [],
   "execution_count": null,
   "source": [
    "\n",
    "\n",
    "\n",
    "\n",
    "\n",
    "\n",
    "\n",
    "\n",
    "\n",
    "\n"
   ]
  },
  {
   "metadata": {},
   "cell_type": "markdown",
   "source": [
    "**Summing up space-separated integers from a string**\n",
    "\n",
    "Given a string input with numbers separated by whitespaces, Generate a code in Kotlin that uses readln to read the data and converts each number to an integer. Then, determine the sum of these integers and output it. For example, if your string input is '2 4 6', convert those to integers and print the sum; in this case 12.\n",
    "\n",
    "Sample Input 1:\n",
    "\n",
    "1 3 5\n",
    "\n",
    "Sample Output 1:\n",
    "\n",
    "9\n",
    "\n",
    "Sample Input 2:\n",
    "\n",
    "2 4 6\n",
    "\n",
    "Sample Output 2:\n",
    "\n",
    "12"
   ]
  },
  {
   "metadata": {},
   "cell_type": "code",
   "outputs": [],
   "execution_count": null,
   "source": [
    "//sol1\n",
    "\n",
    "val input = readln()\n",
    "\n",
    "val sum = input.split(\" \")\n",
    "    .map { it.toInt() }\n",
    "    .sum()\n",
    "\n",
    "println(sum)"
   ]
  },
  {
   "metadata": {},
   "cell_type": "code",
   "outputs": [],
   "execution_count": null,
   "source": [
    "//sol2\n",
    "readln().split(' ').sumOf { it.toInt() }.let(::print)"
   ]
  },
  {
   "metadata": {},
   "cell_type": "code",
   "outputs": [],
   "execution_count": null,
   "source": [
    "//sol3\n",
    "val (a, b, c) = readln().split(\" \")\n",
    "val num1 = a.toInt()\n",
    "val num2 = b.toInt()\n",
    "val num3 = c.toInt()\n",
    "\n",
    "println(\"${num1 + num2 + num3}\")"
   ]
  },
  {
   "metadata": {},
   "cell_type": "code",
   "outputs": [],
   "execution_count": null,
   "source": [
    "\n",
    "\n",
    "\n",
    "\n",
    "\n",
    "\n",
    "\n",
    "\n",
    "\n",
    "\n",
    "\n",
    "\n",
    "\n",
    "\n"
   ]
  },
  {
   "metadata": {},
   "cell_type": "markdown",
   "source": [
    "**How to learn the whole Kotlin per one task**\n",
    "\n",
    "Write a program that reads five words from the standard input and outputs the words in one line. In the output, the words should be separated by a single space.\n",
    "\n",
    "Sample Input 1:\n",
    "\n",
    "Never\n",
    "gonna\n",
    "give\n",
    "you\n",
    "up\n",
    "\n",
    "Sample Output 1:\n",
    "\n",
    "Never gonna give you up\n",
    "\n",
    "Sample Input 2:\n",
    "\n",
    "Never\n",
    "gonna\n",
    "let\n",
    "you\n",
    "down\n",
    "\n",
    "Sample Output 2:\n",
    "\n",
    "Never gonna let you down\n",
    "\n",
    "Sample Input 3:\n",
    "\n",
    "Never\n",
    "gonna\n",
    "run\n",
    "around\n",
    "and\n",
    "\n",
    "Sample Output 3:\n",
    "\n",
    "Never gonna run around and"
   ]
  },
  {
   "metadata": {},
   "cell_type": "code",
   "outputs": [],
   "execution_count": null,
   "source": [
    "//sol1\n",
    "val words = List(5) { readln() }\n",
    "println(words.joinToString(\" \"))"
   ]
  },
  {
   "metadata": {},
   "cell_type": "code",
   "outputs": [],
   "execution_count": null,
   "source": [
    "//sol2\n",
    "for (i in 1..5) print(\"${readLine()!!} \")"
   ]
  },
  {
   "metadata": {},
   "cell_type": "code",
   "outputs": [],
   "execution_count": null,
   "source": [
    "//sol3\n",
    "println(Array(5) { readLine() }.joinToString(separator = \" \"))"
   ]
  },
  {
   "metadata": {},
   "cell_type": "code",
   "outputs": [],
   "execution_count": null,
   "source": [
    "//sol4\n",
    "val a = List(5) { readLine()}\n",
    "a.forEach { print(\"$it \") }"
   ]
  },
  {
   "metadata": {},
   "cell_type": "code",
   "outputs": [],
   "execution_count": null,
   "source": [
    "//sol5\n",
    "List(5) { readLine()!! }.forEach { print(\"$it \") }"
   ]
  },
  {
   "metadata": {},
   "cell_type": "code",
   "outputs": [],
   "execution_count": null,
   "source": [
    "//sol6\n",
    "List(5) { readLine()!! }.joinToString(\" \").let(::print)"
   ]
  }
 ],
 "metadata": {
  "kernelspec": {
   "display_name": "Kotlin",
   "language": "kotlin",
   "name": "kotlin"
  },
  "language_info": {
   "name": "kotlin",
   "version": "1.9.23",
   "mimetype": "text/x-kotlin",
   "file_extension": ".kt",
   "pygments_lexer": "kotlin",
   "codemirror_mode": "text/x-kotlin",
   "nbconvert_exporter": ""
  }
 },
 "nbformat": 4,
 "nbformat_minor": 0
}
