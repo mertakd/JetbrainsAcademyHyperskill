{
 "cells": [
  {
   "cell_type": "code",
   "execution_count": null,
   "metadata": {
    "collapsed": true
   },
   "outputs": [],
   "source": [
    ""
   ]
  },
  {
   "metadata": {},
   "cell_type": "markdown",
   "source": [
    "**nested for-loops**\n",
    "\n",
    "What is the output of this program?\n",
    "\n",
    "for (i in 1..3) {\n",
    "    for (j in 1..i) {\n",
    "        print(j)\n",
    "    }\n",
    "}\n",
    "\n",
    "Write the answer as a number. For example: 123\n",
    "\n",
    "Enter a number\n",
    "112123"
   ]
  },
  {
   "metadata": {},
   "cell_type": "code",
   "outputs": [],
   "execution_count": null,
   "source": [
    "\n",
    "\n",
    "\n",
    "\n",
    "\n",
    "\n",
    "\n",
    "\n",
    "\n",
    "\n"
   ]
  },
  {
   "metadata": {},
   "cell_type": "code",
   "outputs": [],
   "execution_count": null,
   "source": ""
  },
  {
   "metadata": {},
   "cell_type": "markdown",
   "source": [
    "**The sum of N numbers**\n",
    "\n",
    "Write a program that calculates the sum of N numbers.\n",
    "\n",
    "\n",
    "The first line contains the number N.\n",
    "\n",
    "The other lines contain N numbers.\n",
    "\n",
    "\n",
    "Output the sum of N numbers.\n",
    "\n",
    "Sample Input 1:\n",
    "\n",
    "3\n",
    "1\n",
    "2\n",
    "3\n",
    "\n",
    "Sample Output 1:\n",
    "\n",
    "6\n",
    "\n",
    "Write a program in Kotlin"
   ]
  },
  {
   "metadata": {
    "ExecuteTime": {
     "end_time": "2025-08-04T11:18:30.070125400Z",
     "start_time": "2025-08-04T11:18:29.991374300Z"
    }
   },
   "cell_type": "code",
   "source": [
    "fun main() {\n",
    "    val n = readLine()?.toIntOrNull() ?: return\n",
    "    var sum = 0\n",
    "\n",
    "    for (i in 1..n) {\n",
    "        val number = readLine()?.toIntOrNull() ?: return\n",
    "        sum += number\n",
    "    }\n",
    "\n",
    "    println(sum)\n",
    "}\n"
   ],
   "outputs": [],
   "execution_count": 6
  },
  {
   "metadata": {},
   "cell_type": "code",
   "outputs": [],
   "execution_count": null,
   "source": [
    "\n",
    "\n",
    "\n",
    "\n",
    "\n",
    "\n",
    "\n",
    "\n",
    "\n"
   ]
  },
  {
   "metadata": {},
   "cell_type": "markdown",
   "source": [
    "**The sum of integers from a to b**\n",
    "\n",
    "Read two integers a and b. Print the sum of all the integers from a tob inclusive. It is guaranteed that a <b.\n",
    "\n",
    "Sample Input 1:\n",
    "\n",
    "1\n",
    "24\n",
    "\n",
    "Sample Output 1:\n",
    "\n",
    "300\n",
    "\n",
    "Write a program in Kotlin\n"
   ]
  },
  {
   "metadata": {},
   "cell_type": "code",
   "outputs": [],
   "execution_count": null,
   "source": ""
  },
  {
   "metadata": {
    "ExecuteTime": {
     "end_time": "2025-08-05T11:11:54.898727100Z",
     "start_time": "2025-08-05T11:11:44.883804400Z"
    }
   },
   "cell_type": "code",
   "source": [
    "val a = readLine()!!.toInt()\n",
    "val b = readLine()!!.toInt()\n",
    "var sum = 0\n",
    "for (i in a..b) {\n",
    "    sum += i\n",
    "}\n",
    "println(sum)"
   ],
   "outputs": [
    {
     "name": "stdout",
     "output_type": "stream",
     "text": [
      "45\r\n"
     ]
    }
   ],
   "execution_count": 1
  },
  {
   "metadata": {},
   "cell_type": "code",
   "outputs": [],
   "execution_count": null,
   "source": [
    "import java.util.Scanner\n",
    "\n",
    "val scanner = Scanner(System.`in`)\n",
    "val a = scanner.nextInt()\n",
    "val b = scanner.nextInt()\n",
    "\n",
    "println((a..b).sum())"
   ]
  },
  {
   "metadata": {},
   "cell_type": "code",
   "outputs": [],
   "execution_count": null,
   "source": [
    "val (a, b) = IntArray(2) {readln().toInt()}\n",
    "println((a..b).sum())"
   ]
  },
  {
   "metadata": {},
   "cell_type": "code",
   "outputs": [],
   "execution_count": null,
   "source": [
    "val a = readln().toInt()\n",
    "val b = readln().toInt()\n",
    "println((a + b) * (b - a + 1) / 2)"
   ]
  },
  {
   "metadata": {},
   "cell_type": "code",
   "outputs": [],
   "execution_count": null,
   "source": [
    "import java.util.Scanner\n",
    "\n",
    "val scanner = Scanner(System.`in`)\n",
    "println((scanner.nextInt()..scanner.nextInt()).sum())"
   ]
  },
  {
   "metadata": {},
   "cell_type": "code",
   "outputs": [],
   "execution_count": null,
   "source": [
    "\n",
    "\n",
    "\n",
    "\n",
    "\n",
    "\n",
    "\n",
    "\n",
    "\n",
    "\n"
   ]
  },
  {
   "metadata": {},
   "cell_type": "markdown",
   "source": [
    "**Looping over a range of numbers**\n",
    "\n",
    "You are given a partially-written Kotlin code that intents to loop over a range of numbers and print each number in the loop. Fill in the blanks in the provided code to complete the task efficiently and correctly.\n",
    "\n",
    "Fill in the gaps with the relevant elements"
   ]
  },
  {
   "metadata": {
    "ExecuteTime": {
     "end_time": "2025-08-05T11:16:08.323302900Z",
     "start_time": "2025-08-05T11:16:08.244746700Z"
    }
   },
   "cell_type": "code",
   "source": [
    "val range = 1..5\n",
    "\n",
    "for(element in range){\n",
    "    println(\"Element: $element\")\n",
    "}"
   ],
   "outputs": [
    {
     "name": "stdout",
     "output_type": "stream",
     "text": [
      "Element: 1\r\n",
      "Element: 2\r\n",
      "Element: 3\r\n",
      "Element: 4\r\n",
      "Element: 5\r\n"
     ]
    }
   ],
   "execution_count": 2
  },
  {
   "metadata": {},
   "cell_type": "code",
   "outputs": [],
   "execution_count": null,
   "source": ""
  },
  {
   "metadata": {},
   "cell_type": "code",
   "outputs": [],
   "execution_count": null,
   "source": ""
  },
  {
   "metadata": {},
   "cell_type": "markdown",
   "source": ""
  },
  {
   "metadata": {},
   "cell_type": "code",
   "outputs": [],
   "execution_count": null,
   "source": [
    "\n",
    "\n",
    "\n",
    "\n",
    "\n",
    "\n",
    "\n",
    "\n",
    "\n",
    "\n",
    "\n",
    "\n",
    "\n",
    "\n"
   ]
  },
  {
   "metadata": {},
   "cell_type": "markdown",
   "source": [
    "**For loop and iteration phrase in loop's range**\n",
    "\n",
    "You're creating a simple Kotlin application that prints out the phrase \"This is loop iteration\" followed by the iteration number for a range of numbers. To do this, you decide to use a for loop and Kotlin's range syntax. However, you're struggling with remembering the exact syntax for creating a for loop and establishing the loop's range. Fill in the blanks in the provided code to correctly establish a for loop that iterates over a range of numbers from 0 to 10 (inclusive), and prints out the iteration phrase for each number.\"\n",
    "\n",
    "Fill in the gaps with the relevant elements"
   ]
  },
  {
   "metadata": {
    "ExecuteTime": {
     "end_time": "2025-08-05T11:17:36.556716200Z",
     "start_time": "2025-08-05T11:17:36.520644800Z"
    }
   },
   "cell_type": "code",
   "source": [
    "for(i in 1..10) {\n",
    "    println(\"This is loop iteration $i\")\n",
    "}"
   ],
   "outputs": [
    {
     "name": "stdout",
     "output_type": "stream",
     "text": [
      "This is loop iteration 1\r\n",
      "This is loop iteration 2\r\n",
      "This is loop iteration 3\r\n",
      "This is loop iteration 4\r\n",
      "This is loop iteration 5\r\n",
      "This is loop iteration 6\r\n",
      "This is loop iteration 7\r\n",
      "This is loop iteration 8\r\n",
      "This is loop iteration 9\r\n",
      "This is loop iteration 10\r\n"
     ]
    }
   ],
   "execution_count": 3
  },
  {
   "metadata": {},
   "cell_type": "code",
   "outputs": [],
   "execution_count": null,
   "source": ""
  },
  {
   "metadata": {},
   "cell_type": "markdown",
   "source": [
    "**Creating a beginners' number counting application**\n",
    "\n",
    "Imagine that you have been tasked to create an application for a beginner's lesson in counting. The program should print numbers from 1 to 5, with each number on a new line and preceded by a message 'This is loop iteration number'. The numbers should be generated using the Kotlin language's looping and range capabilities. Your task is to reorder the lines of available Kotlin code to solve this problem."
   ]
  },
  {
   "metadata": {
    "ExecuteTime": {
     "end_time": "2025-08-05T11:19:02.987897800Z",
     "start_time": "2025-08-05T11:19:02.943633300Z"
    }
   },
   "cell_type": "code",
   "source": [
    "for(i in 1..5){\n",
    "    println(\"This is loop iteration number $i\")\n",
    "}"
   ],
   "outputs": [
    {
     "name": "stdout",
     "output_type": "stream",
     "text": [
      "This is loop iteration number 1\r\n",
      "This is loop iteration number 2\r\n",
      "This is loop iteration number 3\r\n",
      "This is loop iteration number 4\r\n",
      "This is loop iteration number 5\r\n"
     ]
    }
   ],
   "execution_count": 4
  },
  {
   "metadata": {},
   "cell_type": "code",
   "outputs": [],
   "execution_count": null,
   "source": [
    "\n",
    "\n",
    "\n",
    "\n",
    "\n",
    "\n",
    "\n",
    "\n",
    "\n",
    "\n"
   ]
  },
  {
   "metadata": {},
   "cell_type": "markdown",
   "source": ""
  },
  {
   "metadata": {},
   "cell_type": "markdown",
   "source": [
    "**Completing a range-based loop in given code**\n",
    "\n",
    "Suppose you are given a piece of partially finished Kotlin code. The purpose of this code is to create a string that logs each iteration of a loop over a certain range, and then print that string. Your task is to fill the blanks in the code to complete the Kotlin range-based 'for' loop and ensure it works as expected. Don't forget to handle the range of iterations in the proper way."
   ]
  },
  {
   "metadata": {
    "ExecuteTime": {
     "end_time": "2025-08-05T11:21:22.181227200Z",
     "start_time": "2025-08-05T11:21:22.130067800Z"
    }
   },
   "cell_type": "code",
   "source": [
    "var result = \"\"\n",
    "\n",
    "for(i in 1..5){\n",
    "    result += \"Loop iteration: $i\\n\"\n",
    "}\n",
    "\n",
    "println(result)"
   ],
   "outputs": [
    {
     "name": "stdout",
     "output_type": "stream",
     "text": [
      "Loop iteration: 1\n",
      "Loop iteration: 2\n",
      "Loop iteration: 3\n",
      "Loop iteration: 4\n",
      "Loop iteration: 5\n",
      "\r\n"
     ]
    }
   ],
   "execution_count": 6
  },
  {
   "metadata": {},
   "cell_type": "code",
   "outputs": [],
   "execution_count": null,
   "source": ""
  },
  {
   "metadata": {},
   "cell_type": "code",
   "outputs": [],
   "execution_count": null,
   "source": [
    "\n",
    "\n",
    "\n",
    "\n",
    "\n",
    "\n",
    "\n",
    "\n",
    "\n",
    "\n"
   ]
  },
  {
   "metadata": {},
   "cell_type": "markdown",
   "source": [
    "**Count the numbers**\n",
    "\n",
    "Write a program that reads a, b, and n and outputs how many numbers in the inclusive range from a to b (a < b) are divisible by n.\n",
    "\n",
    "\n",
    "Note: you can write this program in a more efficient way, that is, without any loops. Think about it after you write the solution with a loop.\n",
    "\n",
    "Sample Input 1:\n",
    "\n",
    "10\n",
    "20\n",
    "10\n",
    "\n",
    "Sample Output 1:\n",
    "\n",
    "2\n",
    "\n",
    "Sample Input 2:\n",
    "\n",
    "-10\n",
    "10\n",
    "5\n",
    "\n",
    "Sample Output 2:\n",
    "\n",
    "5"
   ]
  },
  {
   "metadata": {},
   "cell_type": "code",
   "outputs": [],
   "execution_count": null,
   "source": [
    "val a = readLine()!!.toInt()   // Başlangıç sayısı (a)\n",
    "val b = readLine()!!.toInt()   // Bitiş sayısı (b)\n",
    "val n = readLine()!!.toInt()   // Bölünecek sayı (n)\n",
    "\n",
    "var count = 0                  // Kaç sayı bölünüyor → sayaç\n",
    "\n",
    "for (i in a..b) {              // a'dan b'ye kadar tüm sayıları dolaş\n",
    "    if (i % n == 0)            // Eğer i sayısı n’ye tam bölünüyorsa\n",
    "        count++                // sayacı 1 artır\n",
    "}\n",
    "\n",
    "println(count)"
   ]
  },
  {
   "metadata": {},
   "cell_type": "code",
   "outputs": [],
   "execution_count": null,
   "source": [
    "import java.util.Scanner\n",
    "\n",
    "//sol2\n",
    "val scanner = Scanner(System.`in`)\n",
    "val a = scanner.nextInt()\n",
    "val b = scanner.nextInt()\n",
    "val n = scanner.nextInt()\n",
    "println((a..b).count { it % n == 0 })"
   ]
  },
  {
   "metadata": {},
   "cell_type": "code",
   "outputs": [],
   "execution_count": null,
   "source": [
    "//sol3\n",
    "val (a, b, n) = IntArray(3) { readLine()!!.toInt() }\n",
    "println((a..b).count { it % n == 0 })"
   ]
  },
  {
   "metadata": {},
   "cell_type": "code",
   "outputs": [],
   "execution_count": null,
   "source": [
    "//sol4\n",
    "val a = readln().toInt()\n",
    "val b = readln().toInt()\n",
    "val n = readln().toInt()\n",
    "\n",
    "println((a..b).filter { it % n == 0 }.size)"
   ]
  },
  {
   "metadata": {},
   "cell_type": "code",
   "outputs": [],
   "execution_count": null,
   "source": [
    "\n",
    "\n",
    "\n",
    "\n",
    "\n",
    "\n",
    "\n",
    "\n",
    "\n",
    "\n",
    "\n",
    "\n"
   ]
  },
  {
   "metadata": {},
   "cell_type": "markdown",
   "source": ""
  },
  {
   "metadata": {},
   "cell_type": "markdown",
   "source": [
    "**The product of numbers from a to b**\n",
    "\n",
    "Write a program that prints the product of all the integer numbers from a to b (a < b).\n",
    "\n",
    "Include a and exclude b from your calculation.\n",
    "\n",
    "The result can be large, so you should use the Long type.\n",
    "\n",
    "Sample Input 1:\n",
    "\n",
    "1\n",
    "2\n",
    "\n",
    "Sample Output 1:\n",
    "\n",
    "1\n",
    "\n",
    "Sample Input 2:\n",
    "\n",
    "100\n",
    "105\n",
    "\n",
    "Sample Output 2:\n",
    "\n",
    "11035502400"
   ]
  },
  {
   "metadata": {
    "ExecuteTime": {
     "end_time": "2025-08-07T11:07:40.189370800Z",
     "start_time": "2025-08-07T11:07:31.668276700Z"
    }
   },
   "cell_type": "code",
   "source": [
    "val a = readln().toInt()\n",
    "val b = readln().toInt()\n",
    "\n",
    "var product = 1L\n",
    "\n",
    "for(i in a until b){\n",
    "    product *= i\n",
    "}\n",
    "\n",
    "println(product)"
   ],
   "outputs": [
    {
     "name": "stdout",
     "output_type": "stream",
     "text": [
      "24\r\n"
     ]
    }
   ],
   "execution_count": 1
  },
  {
   "metadata": {},
   "cell_type": "code",
   "outputs": [],
   "execution_count": null,
   "source": [
    "//sol2\n",
    "val range = readln().toInt() until readln().toInt()\n",
    "var result = 1L\n",
    "for (x in range) result *= x\n",
    "println(result)"
   ]
  },
  {
   "metadata": {},
   "cell_type": "code",
   "outputs": [],
   "execution_count": null,
   "source": [
    "import java.util.Scanner\n",
    "\n",
    "//sol3\n",
    "val scanner = Scanner(System.`in`)\n",
    "val first = scanner.nextLong()\n",
    "val second = scanner.nextLong()\n",
    "print((first until second).reduce { acc, i -> acc * i })"
   ]
  },
  {
   "metadata": {},
   "cell_type": "code",
   "outputs": [],
   "execution_count": null,
   "source": [
    "\n",
    "\n",
    "\n",
    "\n",
    "\n",
    "\n",
    "\n",
    "\n",
    "\n",
    "\n",
    "\n",
    "\n"
   ]
  },
  {
   "metadata": {},
   "cell_type": "markdown",
   "source": [
    "**For-loop definitions**\n",
    "\n",
    "Choose all the correct ways to define a for loop.\n",
    "\n",
    "Select one or more options from the list\n",
    "\n",
    "\n",
    "\n",
    "for (i in 0L until 40L step 2) {}     t\n",
    "\n",
    "for (i in 1 to 10) {}\n",
    "\n",
    "for (Double i in 1..10) {}\n",
    "\n",
    "for (i in range(1, 5, 2)) {}\n",
    "\n",
    "for (i in 1..10) {}                  t"
   ]
  },
  {
   "metadata": {},
   "cell_type": "code",
   "outputs": [],
   "execution_count": null,
   "source": [
    "\n",
    "\n",
    "\n",
    "\n",
    "\n",
    "\n",
    "\n",
    "\n",
    "\n",
    "\n"
   ]
  },
  {
   "metadata": {},
   "cell_type": "markdown",
   "source": ""
  },
  {
   "metadata": {},
   "cell_type": "code",
   "outputs": [],
   "execution_count": null,
   "source": [
    "\n",
    "\n",
    "\n",
    "\n",
    "\n",
    "\n",
    "\n",
    "\n",
    "\n",
    "\n",
    "\n",
    "\n"
   ]
  },
  {
   "metadata": {},
   "cell_type": "markdown",
   "source": [
    "**Understanding ranges**\n",
    "\n",
    "Match the output of this code and the loop condition:\n",
    "\n",
    "for (i in ...) {\n",
    "    print(i)\n",
    "}\n",
    "\n",
    "Match the items from left and right columns\n",
    "1..3\n",
    "11..10\n",
    "11 downTo 10\n",
    "11 downTo 10 step 2\n",
    "1 until 5\n",
    "'a'..'c' step 2\n",
    "'a' until 'd' step 3\n",
    "123\n",
    "Empty output.\n",
    "1110\n",
    "11\n",
    "1234\n",
    "ac\n",
    "a\n"
   ]
  },
  {
   "metadata": {},
   "cell_type": "code",
   "outputs": [],
   "execution_count": null,
   "source": [
    "\n",
    "\n",
    "\n",
    "\n",
    "\n",
    "\n",
    "\n",
    "\n",
    "\n",
    "\n",
    "\n",
    "\n",
    "\n",
    "\n",
    "\n"
   ]
  },
  {
   "metadata": {},
   "cell_type": "markdown",
   "source": [
    "**Fizz Buzz**\n",
    "\n",
    "Fizz Buzz is a classic programming problem. Here is its slightly modified version.\n",
    "\n",
    "Write a program that takes the input of two integers: the beginning and the end of the interval (both numbers belong to the interval).\n",
    "\n",
    "The program is to output the numbers from this interval, but if the number is divisible by 3, you should output Fizz instead of it; if the number is divisible by 5, output Buzz, and if it is divisible both by 3 and by 5, output FizzBuzz.\n",
    "\n",
    "Output each number or word on a separate line.\n",
    "\n",
    "Sample Input 1:\n",
    "\n",
    "8\n",
    "16\n",
    "\n",
    "Sample Output 1:\n",
    "\n",
    "8\n",
    "Fizz\n",
    "Buzz\n",
    "11\n",
    "Fizz\n",
    "13\n",
    "14\n",
    "FizzBuzz\n",
    "16"
   ]
  },
  {
   "metadata": {},
   "cell_type": "code",
   "outputs": [],
   "execution_count": null,
   "source": [
    "fun main() {\n",
    "\n",
    "    val start = readln().toIntOrNull() ?: return\n",
    "    val end = readln().toIntOrNull() ?: return\n",
    "\n",
    "    for(number in start..end){\n",
    "\n",
    "        when{\n",
    "            number % 3 == 0 && number % 5 == 0 -> println(\"FizzBuzz\")\n",
    "            number % 3 == 0 -> println(\"Fizz\")\n",
    "            number % 5 == 0 -> println(\"Buzz\")\n",
    "            else -> println(number)\n",
    "        }\n",
    "    }\n",
    "}"
   ]
  },
  {
   "metadata": {},
   "cell_type": "code",
   "outputs": [],
   "execution_count": null,
   "source": [
    "//sol2\n",
    "for (i in readLine()!!.toInt()..readLine()!!.toInt()) {\n",
    "    if (i % 3 == 0) print(\"Fizz\")\n",
    "    if (i % 5 == 0) print(\"Buzz\")\n",
    "    if (i % 5 != 0 && i % 3 != 0) print(i)\n",
    "    println(\"\")\n",
    "}"
   ]
  },
  {
   "metadata": {},
   "cell_type": "code",
   "outputs": [],
   "execution_count": null,
   "source": [
    "//sol3\n",
    "val (a, b) = List(2) { readLine()!!.toInt() }\n",
    "for (i in a..b) println(when {\n",
    "    i % 15 == 0 -> \"FizzBuzz\"\n",
    "    i % 5 == 0 -> \"Buzz\"\n",
    "    i % 3 == 0 -> \"Fizz\"\n",
    "    else -> i\n",
    "})"
   ]
  },
  {
   "metadata": {},
   "cell_type": "code",
   "outputs": [],
   "execution_count": null,
   "source": [
    "//sol4\n",
    "val n = readLine()!!.toInt()\n",
    "val d = readLine()!!.toInt()\n",
    "for (int in n..d) {\n",
    "    if (int % 3 == 0 && int % 5 == 0) {\n",
    "        println(\"FizzBuzz\")\n",
    "    } else if (int % 3 == 0) {\n",
    "        println(\"Fizz\")\n",
    "    } else if (int % 5 == 0) {\n",
    "        println(\"Buzz\")\n",
    "    } else println(int)\n",
    "}"
   ]
  },
  {
   "metadata": {},
   "cell_type": "code",
   "outputs": [],
   "execution_count": null,
   "source": [
    "\n",
    "\n",
    "\n",
    "\n",
    "\n",
    "\n",
    "\n",
    "\n",
    "\n",
    "\n",
    "\n"
   ]
  },
  {
   "metadata": {},
   "cell_type": "markdown",
   "source": [
    "**The minimum value of N numbers**\n",
    "\n",
    "Write a program that finds the minimum value of N numbers.\n",
    "\n",
    "The first line contains the number N.\n",
    "The other lines contain N numbers.\n",
    "\n",
    "Output an integer number which is the minimum of N numbers.\n",
    "\n",
    "Sample Input 1:\n",
    "\n",
    "5\n",
    "5\n",
    "1\n",
    "4\n",
    "2\n",
    "3\n",
    "\n",
    "Sample Output 1:\n",
    "\n",
    "1"
   ]
  },
  {
   "metadata": {},
   "cell_type": "code",
   "outputs": [],
   "execution_count": null,
   "source": [
    "fun main() {\n",
    "\n",
    "    val n = readln().toIntOrNull() ?: return\n",
    "    var min = Int.MAX_VALUE\n",
    "\n",
    "    for (i in 1..n){\n",
    "        val number = readln().toIntOrNull() ?: return\n",
    "        if (number < min){\n",
    "            min = number\n",
    "        }\n",
    "    }\n",
    "\n",
    "    println(min)\n",
    "}"
   ]
  },
  {
   "metadata": {},
   "cell_type": "code",
   "outputs": [],
   "execution_count": null,
   "source": [
    "//sol2\n",
    "// write your code here\n",
    "val num = readLine()!!.toInt()\n",
    "var min = Int.MAX_VALUE\n",
    "repeat(num) {\n",
    "    val i = readLine()!!.toInt()\n",
    "    if (i < min) min = i\n",
    "}\n",
    "println(min)"
   ]
  },
  {
   "metadata": {
    "ExecuteTime": {
     "end_time": "2025-08-08T10:02:28.495463500Z",
     "start_time": "2025-08-08T10:02:26.726906900Z"
    }
   },
   "cell_type": "code",
   "source": "println(List(readln().toInt()) { readln().toInt() }.sorted()[0])",
   "outputs": [
    {
     "ename": "org.jetbrains.kotlinx.jupyter.exceptions.ReplInterruptedException",
     "evalue": "The execution was interrupted",
     "output_type": "error",
     "traceback": [
      "The execution was interrupted"
     ]
    }
   ],
   "execution_count": 1
  },
  {
   "metadata": {},
   "cell_type": "code",
   "outputs": [],
   "execution_count": null,
   "source": " println(IntArray(readLine()!!.toInt()) { readLine()!!.toInt() }.minOfOrNull { it })"
  },
  {
   "metadata": {},
   "cell_type": "code",
   "outputs": [],
   "execution_count": null,
   "source": [
    "import java.util.Scanner\n",
    "\n",
    "val scanner = Scanner(System.`in`)\n",
    "var n = scanner.nextInt()\n",
    "\n",
    "val userInput = IntArray(n) { scanner.nextInt() }\n",
    "\n",
    "// loop\n",
    "var buffer: Int\n",
    "var min: Int = Int.MAX_VALUE\n",
    "\n",
    "if (n > 1) {\n",
    "    n--\n",
    "    for (i in 0 until n) {\n",
    "        buffer = minOf(userInput[i], userInput[i + 1])\n",
    "        min = minOf(buffer, min)\n",
    "    }\n",
    "    println(min)\n",
    "} else {\n",
    "    println(userInput.first())\n",
    "}\n",
    "\n",
    "// one-line solution\n",
    "// println(userInput.minOrNull())\n"
   ]
  },
  {
   "metadata": {},
   "cell_type": "code",
   "outputs": [],
   "execution_count": null,
   "source": [
    "val numN = readln().toInt()\n",
    "val n1 = readln().toInt()\n",
    "var n = n1\n",
    "repeat(numN - 1) {\n",
    "    val n2 = readln().toInt()\n",
    "    if (n > n2) n = n2\n",
    "}\n",
    "println(n)"
   ]
  },
  {
   "metadata": {},
   "cell_type": "code",
   "outputs": [],
   "execution_count": null,
   "source": [
    "val numbers = Array(readLine()!!.toInt()) { readLine()!!.toInt() }\n",
    "println(numbers.minOrNull())"
   ]
  },
  {
   "metadata": {},
   "cell_type": "code",
   "outputs": [],
   "execution_count": null,
   "source": [
    "\n",
    "\n",
    "\n",
    "\n",
    "\n",
    "\n",
    "\n",
    "\n",
    "\n",
    "\n",
    "\n",
    "\n",
    "\n",
    "\n"
   ]
  },
  {
   "metadata": {},
   "cell_type": "markdown",
   "source": [
    "**Check the order**\n",
    "\n",
    "Write a program that checks if N numbers are sorted according to the ascending order (from the smallest number to the largest one).\n",
    "\n",
    "\n",
    "The first line contains the number N.\n",
    "The other lines contain N numbers.\n",
    "\n",
    "Output \"YES\" if N numbers are sorted in ascending order, otherwise, output \"NO\".\n",
    "\n",
    "Sample Input 1:\n",
    "\n",
    "4\n",
    "1\n",
    "2\n",
    "3\n",
    "4\n",
    "\n",
    "Sample Output 1:\n",
    "\n",
    "YES\n",
    "\n",
    "Sample Input 2:\n",
    "\n",
    "4\n",
    "1\n",
    "2\n",
    "3\n",
    "0\n",
    "\n",
    "Sample Output 2:\n",
    "\n",
    "NO"
   ]
  },
  {
   "metadata": {},
   "cell_type": "code",
   "outputs": [],
   "execution_count": null,
   "source": [
    "fun main() {\n",
    "\n",
    "    val n = readln().toIntOrNull() ?: return\n",
    "    var isSorted = true\n",
    "    var previousNumber = Int.MIN_VALUE\n",
    "\n",
    "\n",
    "    for (i in 1..n){\n",
    "        val number = readln().toIntOrNull() ?: return\n",
    "        if (number < previousNumber){\n",
    "            isSorted = false\n",
    "            break\n",
    "        }\n",
    "        previousNumber = number\n",
    "    }\n",
    "\n",
    "    if (isSorted){\n",
    "        println(\"YES\")\n",
    "    }else{\n",
    "        println(\"NO\")\n",
    "    }\n",
    "}\n"
   ]
  },
  {
   "metadata": {},
   "cell_type": "code",
   "outputs": [],
   "execution_count": null,
   "source": [
    "//SOL2\n",
    "val n = readLine()!!.toInt()\n",
    "val nums = List(n) { readLine()!!.toInt() }\n",
    "if (nums == nums.sorted()) println(\"YES\") else println(\"NO\")"
   ]
  },
  {
   "metadata": {},
   "cell_type": "code",
   "outputs": [],
   "execution_count": null,
   "source": [
    "//SOL3\n",
    "val count = readLine()!!.toInt()\n",
    "var num = readLine()!!.toInt()\n",
    "var condition = \"YES\"\n",
    "\n",
    "for (i in 1 until count) {\n",
    "\n",
    "    val swap = readLine()!!.toInt()\n",
    "\n",
    "    if (num > swap) condition = \"NO\" else num = swap\n",
    "}\n",
    "\n",
    "println(condition)"
   ]
  },
  {
   "metadata": {},
   "cell_type": "code",
   "outputs": [],
   "execution_count": null,
   "source": [
    "import java.util.Scanner\n",
    "\n",
    "//SOL4\n",
    "val scanner = Scanner(System.`in`)\n",
    "val result = IntArray(scanner.nextInt()) { scanner.nextInt() }\n",
    "    .toList()\n",
    "    .zipWithNext()\n",
    "    .all { (a, b) -> a <= b }\n",
    "\n",
    "println(if (result) \"YES\" else \"NO\")"
   ]
  },
  {
   "metadata": {},
   "cell_type": "code",
   "outputs": [],
   "execution_count": null,
   "source": [
    "//SOL5\n",
    "fun main() {\n",
    "    List(readLine()!!.toInt()) { readLine()!!.toInt() }.also { print(if (it == it.sorted()) \"YES\" else \"NO\") }\n",
    "}\n"
   ]
  },
  {
   "metadata": {},
   "cell_type": "code",
   "outputs": [],
   "execution_count": null,
   "source": [
    "//SOL6\n",
    "val numbers = MutableList(readln().toInt()) { readln().toInt() }\n",
    "\n",
    "for (n in 0 until numbers.lastIndex) {\n",
    "    if (numbers[n] > numbers[n + 1]) {\n",
    "        print(\"NO\")\n",
    "        return\n",
    "    }\n",
    "}\n",
    "print(\"YES\")"
   ]
  },
  {
   "metadata": {},
   "cell_type": "code",
   "outputs": [],
   "execution_count": null,
   "source": ""
  },
  {
   "metadata": {},
   "cell_type": "code",
   "outputs": [],
   "execution_count": null,
   "source": ""
  },
  {
   "metadata": {},
   "cell_type": "code",
   "outputs": [],
   "execution_count": null,
   "source": [
    "\n",
    "\n",
    "\n",
    "\n",
    "\n",
    "\n",
    "\n",
    "\n",
    "\n",
    "\n",
    "\n",
    "\n",
    "\n",
    "\n"
   ]
  },
  {
   "metadata": {},
   "cell_type": "markdown",
   "source": [
    "**The longest sequence**\n",
    "\n",
    "Write a program that reads N numbers and outputs the length of the longest sequence in non-descending order. By non-descending, we mean that the next element is either equal or greater than the previous one (A<=B). Elements of the sequence are to follow one another.\n",
    "\n",
    "Input format\n",
    "\n",
    "The first line contains the positive integer number N (N>0).\n",
    "The other lines contain N numbers.\n",
    "\n",
    "Example\n",
    "\n",
    "The input array is 1 2 4 1 2 2 5 7 4 3. In this case, the length of the longest sequence in non-descending order is 5. It includes these elements: 1 2 2 5 7.\n",
    "\n",
    "Sample Input 1:\n",
    "\n",
    "10\n",
    "1\n",
    "2\n",
    "4\n",
    "1\n",
    "2\n",
    "2\n",
    "5\n",
    "7\n",
    "4\n",
    "3\n",
    "\n",
    "Sample Output 1:\n",
    "\n",
    "5\n",
    "\n"
   ]
  },
  {
   "metadata": {},
   "cell_type": "code",
   "outputs": [],
   "execution_count": null,
   "source": [
    "val input = List(readln().toInt()) { readln().toInt() }\n",
    "var current = 1\n",
    "var max = 1\n",
    "for (i in 0 until input.lastIndex) {\n",
    "    if (input[i + 1] >= input[i]) current++ else current = 1\n",
    "    if (max < current) max = current\n",
    "}\n",
    "println(max)"
   ]
  },
  {
   "metadata": {},
   "cell_type": "code",
   "outputs": [],
   "execution_count": null,
   "source": [
    "fun main() {\n",
    "    val n = readLine()?.toIntOrNull() ?: return\n",
    "    var longestSequenceLength = 1\n",
    "    var currentSequenceLength = 1\n",
    "    var previousNumber = readLine()?.toIntOrNull() ?: return\n",
    "\n",
    "    for (i in 2..n) {\n",
    "        val number = readLine()?.toIntOrNull() ?: return\n",
    "        if (number >= previousNumber) {\n",
    "            currentSequenceLength++\n",
    "            if (currentSequenceLength > longestSequenceLength) {\n",
    "                longestSequenceLength = currentSequenceLength\n",
    "            }\n",
    "        } else {\n",
    "            currentSequenceLength = 1\n",
    "        }\n",
    "        previousNumber = number\n",
    "    }\n",
    "\n",
    "    println(longestSequenceLength)\n",
    "}\n"
   ]
  },
  {
   "metadata": {},
   "cell_type": "code",
   "outputs": [],
   "execution_count": null,
   "source": [
    "fun main() {\n",
    "    var length = 0\n",
    "    var maxLength = 0\n",
    "    var minNum = 0\n",
    "    for (i in 1..readLine()!!.toInt()) {\n",
    "        val num = readLine()!!.toInt()\n",
    "        length = if (minNum <= num) length + 1 else 1\n",
    "        maxLength = if (length > maxLength) length else maxLength\n",
    "        minNum = num\n",
    "    }\n",
    "    println(maxLength)\n",
    "}\n"
   ]
  },
  {
   "metadata": {},
   "cell_type": "code",
   "outputs": [],
   "execution_count": null,
   "source": [
    "// Posted from EduTools plugin\n",
    "import java.util.*\n",
    "\n",
    "fun main(args: Array<String>) {\n",
    "    val scanner = Scanner(System.`in`)\n",
    "    // Store previous number for comparison\n",
    "    var oldNumber = 0\n",
    "    // Store new number for check and to copy value into older value\n",
    "    var newNumber = 0\n",
    "    // Store the highest counter, final result to be printed\n",
    "    var oldCounter = 0\n",
    "    // Temporary counter\n",
    "    var newCounter = 0\n",
    "    // Loop for the N integers\n",
    "    for (i in 1..scanner.nextInt()) {\n",
    "        // Simply store new integer into newNumber\n",
    "        newNumber = scanner.nextInt()\n",
    "        // Is new number bigger than old number?\n",
    "        if (newNumber < oldNumber) {\n",
    "            // If yes, sequence has been broken, reset counter\n",
    "            // New number is now the starting integer, counts as 1\n",
    "            newCounter = 1\n",
    "            // Save new integer into old for next input\n",
    "            oldNumber = newNumber\n",
    "        } else {\n",
    "            // If no, sequence stays, increase the current counter +1\n",
    "            newCounter++\n",
    "            // Store current number into old for next input\n",
    "            oldNumber = newNumber\n",
    "        }\n",
    "        // Check if new counter is bigger than old counter\n",
    "        if (newCounter > oldCounter) {\n",
    "            // If new counter is bigger, store it into old counter\n",
    "            oldCounter = newCounter\n",
    "        }\n",
    "    }\n",
    "// Print final counter\n",
    "    println(oldCounter)\n",
    "}\n"
   ]
  },
  {
   "metadata": {},
   "cell_type": "code",
   "outputs": [],
   "execution_count": null,
   "source": [
    "fun main() {\n",
    "    val n = readLine()!!.toInt()\n",
    "    var maxSeqSize = 1\n",
    "    var curSeqSize = 1\n",
    "    var prev = readLine()!!.toInt()\n",
    "    repeat(n - 1) {\n",
    "        readLine()!!.toInt().let {\n",
    "            if (prev <= it) {\n",
    "                curSeqSize++\n",
    "            } else {\n",
    "                curSeqSize = 1\n",
    "            }\n",
    "            maxSeqSize = if (maxSeqSize < curSeqSize) curSeqSize else maxSeqSize\n",
    "            prev = it\n",
    "        }\n",
    "    }\n",
    "    println(maxSeqSize)\n",
    "}\n"
   ]
  },
  {
   "metadata": {},
   "cell_type": "code",
   "outputs": [],
   "execution_count": null,
   "source": [
    "\n",
    "\n",
    "\n",
    "\n",
    "\n",
    "\n",
    "\n",
    "\n",
    "\n",
    "\n",
    "\n",
    "\n",
    "\n",
    "\n"
   ]
  },
  {
   "metadata": {},
   "cell_type": "markdown",
   "source": [
    "**The maximum pairwise product**\n",
    "\n",
    "Write a program that reads N numbers and outputs the maximum pairwise product of the given N numbers (the largest number that can be obtained by multiplying two different elements from the sequence).\n",
    "\n",
    "If there is only one input element, output this element.\n",
    "\n",
    "The first line of the input contains the number of elements N.\n",
    "The following lines contain N numbers, each on a separate line. All the numbers are positive.\n",
    "\n",
    "Sample Input 1:\n",
    "\n",
    "2\n",
    "5\n",
    "3\n",
    "\n",
    "Sample Output 1:\n",
    "\n",
    "15\n",
    "\n",
    "Sample Input 2:\n",
    "\n",
    "3\n",
    "10\n",
    "2\n",
    "4\n",
    "\n",
    "Sample Output 2:\n",
    "\n",
    "40\n",
    "\n"
   ]
  },
  {
   "metadata": {},
   "cell_type": "code",
   "outputs": [],
   "execution_count": null,
   "source": [
    "val count = readLine()!!.toInt()\n",
    "\n",
    "var max1 = 0\n",
    "var max2 = 0\n",
    "\n",
    "for (i in 1..count) {\n",
    "    val number = readLine()!!.toInt()\n",
    "\n",
    "    if (number > max1 || number > max2) {\n",
    "        if (max1 > max2) max2 = number else max1 = number\n",
    "    }\n",
    "}\n",
    "\n",
    "println(if (max2 == 0) max1 else max1 * max2)"
   ]
  },
  {
   "metadata": {
    "ExecuteTime": {
     "end_time": "2025-08-09T12:51:29.509255600Z",
     "start_time": "2025-08-09T12:51:26.813609300Z"
    }
   },
   "cell_type": "code",
   "source": [
    "//sol2\n",
    "val array = UIntArray(readln().toInt()) { readln().toUInt() }\n",
    "array.sortDescending()\n",
    "println(if (array.size == 1) array[0] else array[0] * array[1])"
   ],
   "outputs": [
    {
     "ename": "org.jetbrains.kotlinx.jupyter.exceptions.ReplInterruptedException",
     "evalue": "The execution was interrupted",
     "output_type": "error",
     "traceback": [
      "The execution was interrupted"
     ]
    }
   ],
   "execution_count": 1
  },
  {
   "metadata": {},
   "cell_type": "code",
   "outputs": [],
   "execution_count": null,
   "source": [
    "//sol3\n",
    "List(readln().toInt()) { readln().toInt() }.stream()\n",
    "    .sorted(reverseOrder()).limit(2).reduce(1, Int::times)"
   ]
  },
  {
   "metadata": {},
   "cell_type": "code",
   "outputs": [],
   "execution_count": null,
   "source": ""
  },
  {
   "metadata": {},
   "cell_type": "code",
   "outputs": [],
   "execution_count": null,
   "source": [
    "\n",
    "\n",
    "\n",
    "\n",
    "\n",
    "\n",
    "\n",
    "\n",
    "\n",
    "\n",
    "\n",
    "\n",
    "\n",
    "\n"
   ]
  },
  {
   "metadata": {},
   "cell_type": "markdown",
   "source": [
    "**The roots of equation**\n",
    "\n",
    "Given are numbers\n",
    "a\n",
    ",\n",
    "b\n",
    ",\n",
    "c\n",
    ",\n",
    "d\n",
    "a,b,c,d\n",
    ". Output in ascending order all the integers between\n",
    "0\n",
    "0\n",
    " and\n",
    "1000\n",
    "1000\n",
    " (inclusively) that are the roots of the equation\n",
    "a\n",
    "⋅\n",
    "x\n",
    "3\n",
    "+\n",
    "b\n",
    "⋅\n",
    "x\n",
    "2\n",
    "+\n",
    "c\n",
    "⋅\n",
    "x\n",
    "+\n",
    "d\n",
    "=\n",
    "0\n",
    "a⋅x\n",
    "3\n",
    " +b⋅x\n",
    "2\n",
    " +c⋅x+d=0\n",
    ". The roots of a cubic equation are the values of the variable that satisfy the equation.\n",
    "\n",
    "If a specified interval does not contain any roots of the equation, do not output anything.\n",
    "\n",
    "Hint\n",
    "\n",
    "Ayrıntılar\n",
    "Sample Input 1:\n",
    "\n",
    "-1\n",
    "1\n",
    "-1\n",
    "1\n",
    "\n",
    "Sample Output 1:\n",
    "\n",
    "1\n",
    "\n",
    "Sample Input 2:\n",
    "\n",
    "0\n",
    "1\n",
    "-6\n",
    "5\n",
    "\n",
    "Sample Output 2:\n",
    "\n",
    "1\n",
    "5\n",
    "\n",
    "Sample Input 3:\n",
    "\n",
    "1\n",
    "1\n",
    "1\n",
    "1\n",
    "\n",
    "Sample Output 3:\n",
    "\n"
   ]
  },
  {
   "metadata": {},
   "cell_type": "code",
   "outputs": [],
   "execution_count": null,
   "source": [
    "val a = readLine()!!.toInt()\n",
    "val b = readLine()!!.toInt()\n",
    "val c = readLine()!!.toInt()\n",
    "val d = readLine()!!.toInt()\n",
    "\n",
    "for (x in 0..1000) {\n",
    "    if (a * x * x * x + b * x * x + c * x + d == 0) {\n",
    "        println(x)\n",
    "    }\n",
    "}"
   ]
  },
  {
   "metadata": {},
   "cell_type": "code",
   "outputs": [],
   "execution_count": null,
   "source": [
    "val FROM = 0\n",
    "val TO = 1000\n",
    "\n",
    "\n",
    "fun main() {\n",
    "    val a = readln().toInt()\n",
    "    val b = readln().toInt()\n",
    "    val c = readln().toInt()\n",
    "    val d = readln().toInt()\n",
    "    for (x in FROM..TO) {\n",
    "        if (a * (x * x * x) + b * (x * x) + c * x + d == 0) println(x)\n",
    "    }\n",
    "}"
   ]
  },
  {
   "metadata": {},
   "cell_type": "code",
   "outputs": [],
   "execution_count": null,
   "source": [
    "fun main() {\n",
    "    // put your code here\n",
    "    val (a, b, c, d) = Array(4) { readLine()!!.toInt() }\n",
    "    for (x in 1..1000) {\n",
    "        if (((a * x + b) * x + c) * x + d == 0) {\n",
    "            println(x)\n",
    "        }\n",
    "    }\n",
    "}"
   ]
  },
  {
   "metadata": {},
   "cell_type": "code",
   "outputs": [],
   "execution_count": null,
   "source": [
    "fun main() = Array(4) { readLine()!!.toInt() }.let {\n",
    "    for (i in 1..1000) { if (it[0] * i * i * i + it[1] * i * i + it[2] * i + it[3] == 0) println(i) } }\n"
   ]
  },
  {
   "metadata": {},
   "cell_type": "code",
   "outputs": [],
   "execution_count": null,
   "source": [
    "\n",
    "\n",
    "\n",
    "\n",
    "\n",
    "\n",
    "\n",
    "\n",
    "\n",
    "\n",
    "\n",
    "\n"
   ]
  },
  {
   "metadata": {},
   "cell_type": "markdown",
   "source": [
    "**Define a for-loop**\n",
    "\n",
    "Choose all the correct ways to define a for loop.\n",
    "\n",
    "Select one or more options from the list\n",
    "\n",
    "\n",
    "for (i in 20 down -20 step 2) {}\n",
    "\n",
    "for (i in 20 before -20) {}\n",
    "\n",
    "for (i in 'z' downTo 'e' step 20) {}   t\n",
    "\n",
    "for (i = 0; i < 10; i++) {}\n",
    "\n",
    "for (i in \"aa\"..\"ad\") {}"
   ]
  },
  {
   "metadata": {},
   "cell_type": "code",
   "outputs": [],
   "execution_count": null,
   "source": ""
  },
  {
   "metadata": {},
   "cell_type": "code",
   "outputs": [],
   "execution_count": null,
   "source": [
    "\n",
    "\n",
    "\n",
    "\n",
    "\n",
    "\n",
    "\n",
    "\n",
    "\n"
   ]
  },
  {
   "metadata": {},
   "cell_type": "markdown",
   "source": [
    "**Counting Contest: Tick Off the Ticks!**\n",
    "\n",
    "Hey there! This problem might be a bit unpredictable, but give it a go and let us know how you do!\n",
    "Select the code snippets that correctly use a for loop in Kotlin to iterate over the integers from 1 to 5, inclusively, and print each number. Consider only standard range notations.\n",
    "Select one or more options from the list\n",
    "\n",
    "for (num in 1..5) print(num)\n",
    "\n",
    "for (num in 1..5 step 1) print(num)\n",
    "\n",
    "for (num in 5 downTo 1) print(num)\n",
    "\n",
    "for (num in 1..<5) print(num)\n",
    "\n",
    "for (num in 1 until 6) print(num)"
   ]
  }
 ],
 "metadata": {
  "kernelspec": {
   "display_name": "Kotlin",
   "language": "kotlin",
   "name": "kotlin"
  },
  "language_info": {
   "name": "kotlin",
   "version": "1.9.23",
   "mimetype": "text/x-kotlin",
   "file_extension": ".kt",
   "pygments_lexer": "kotlin",
   "codemirror_mode": "text/x-kotlin",
   "nbconvert_exporter": ""
  }
 },
 "nbformat": 4,
 "nbformat_minor": 0
}
