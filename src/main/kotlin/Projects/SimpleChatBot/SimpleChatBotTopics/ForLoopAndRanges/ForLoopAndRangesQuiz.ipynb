{
 "cells": [
  {
   "cell_type": "code",
   "execution_count": null,
   "metadata": {
    "collapsed": true
   },
   "outputs": [],
   "source": [
    ""
   ]
  },
  {
   "metadata": {},
   "cell_type": "markdown",
   "source": [
    "**nested for-loops**\n",
    "\n",
    "What is the output of this program?\n",
    "\n",
    "for (i in 1..3) {\n",
    "    for (j in 1..i) {\n",
    "        print(j)\n",
    "    }\n",
    "}\n",
    "\n",
    "Write the answer as a number. For example: 123\n",
    "\n",
    "Enter a number\n",
    "112123"
   ]
  },
  {
   "metadata": {},
   "cell_type": "code",
   "outputs": [],
   "execution_count": null,
   "source": [
    "\n",
    "\n",
    "\n",
    "\n",
    "\n",
    "\n",
    "\n",
    "\n",
    "\n",
    "\n"
   ]
  },
  {
   "metadata": {},
   "cell_type": "code",
   "outputs": [],
   "execution_count": null,
   "source": ""
  },
  {
   "metadata": {},
   "cell_type": "markdown",
   "source": [
    "**The sum of N numbers**\n",
    "\n",
    "Write a program that calculates the sum of N numbers.\n",
    "\n",
    "\n",
    "The first line contains the number N.\n",
    "\n",
    "The other lines contain N numbers.\n",
    "\n",
    "\n",
    "Output the sum of N numbers.\n",
    "\n",
    "Sample Input 1:\n",
    "\n",
    "3\n",
    "1\n",
    "2\n",
    "3\n",
    "\n",
    "Sample Output 1:\n",
    "\n",
    "6\n",
    "\n",
    "Write a program in Kotlin"
   ]
  },
  {
   "metadata": {
    "ExecuteTime": {
     "end_time": "2025-08-04T11:18:30.070125400Z",
     "start_time": "2025-08-04T11:18:29.991374300Z"
    }
   },
   "cell_type": "code",
   "source": [
    "fun main() {\n",
    "    val n = readLine()?.toIntOrNull() ?: return\n",
    "    var sum = 0\n",
    "\n",
    "    for (i in 1..n) {\n",
    "        val number = readLine()?.toIntOrNull() ?: return\n",
    "        sum += number\n",
    "    }\n",
    "\n",
    "    println(sum)\n",
    "}\n"
   ],
   "outputs": [],
   "execution_count": 6
  },
  {
   "metadata": {},
   "cell_type": "code",
   "outputs": [],
   "execution_count": null,
   "source": [
    "\n",
    "\n",
    "\n",
    "\n",
    "\n",
    "\n",
    "\n",
    "\n",
    "\n"
   ]
  },
  {
   "metadata": {},
   "cell_type": "markdown",
   "source": [
    "**The sum of integers from a to b**\n",
    "\n",
    "Read two integers a and b. Print the sum of all the integers from a tob inclusive. It is guaranteed that a <b.\n",
    "\n",
    "Sample Input 1:\n",
    "\n",
    "1\n",
    "24\n",
    "\n",
    "Sample Output 1:\n",
    "\n",
    "300\n",
    "\n",
    "Write a program in Kotlin\n"
   ]
  },
  {
   "metadata": {
    "ExecuteTime": {
     "end_time": "2025-08-05T11:11:54.898727100Z",
     "start_time": "2025-08-05T11:11:44.883804400Z"
    }
   },
   "cell_type": "code",
   "source": [
    "val a = readLine()!!.toInt()\n",
    "val b = readLine()!!.toInt()\n",
    "var sum = 0\n",
    "for (i in a..b) {\n",
    "    sum += i\n",
    "}\n",
    "println(sum)"
   ],
   "outputs": [
    {
     "name": "stdout",
     "output_type": "stream",
     "text": [
      "45\r\n"
     ]
    }
   ],
   "execution_count": 1
  },
  {
   "metadata": {},
   "cell_type": "code",
   "outputs": [],
   "execution_count": null,
   "source": [
    "\n",
    "\n",
    "\n",
    "\n",
    "\n",
    "\n",
    "\n",
    "\n",
    "\n",
    "\n"
   ]
  },
  {
   "metadata": {},
   "cell_type": "markdown",
   "source": [
    "**Looping over a range of numbers**\n",
    "\n",
    "You are given a partially-written Kotlin code that intents to loop over a range of numbers and print each number in the loop. Fill in the blanks in the provided code to complete the task efficiently and correctly.\n",
    "\n",
    "Fill in the gaps with the relevant elements"
   ]
  },
  {
   "metadata": {
    "ExecuteTime": {
     "end_time": "2025-08-05T11:16:08.323302900Z",
     "start_time": "2025-08-05T11:16:08.244746700Z"
    }
   },
   "cell_type": "code",
   "source": [
    "val range = 1..5\n",
    "\n",
    "for(element in range){\n",
    "    println(\"Element: $element\")\n",
    "}"
   ],
   "outputs": [
    {
     "name": "stdout",
     "output_type": "stream",
     "text": [
      "Element: 1\r\n",
      "Element: 2\r\n",
      "Element: 3\r\n",
      "Element: 4\r\n",
      "Element: 5\r\n"
     ]
    }
   ],
   "execution_count": 2
  },
  {
   "metadata": {},
   "cell_type": "code",
   "outputs": [],
   "execution_count": null,
   "source": ""
  },
  {
   "metadata": {},
   "cell_type": "code",
   "outputs": [],
   "execution_count": null,
   "source": ""
  },
  {
   "metadata": {},
   "cell_type": "markdown",
   "source": ""
  },
  {
   "metadata": {},
   "cell_type": "code",
   "outputs": [],
   "execution_count": null,
   "source": [
    "\n",
    "\n",
    "\n",
    "\n",
    "\n",
    "\n",
    "\n",
    "\n",
    "\n",
    "\n",
    "\n",
    "\n",
    "\n",
    "\n"
   ]
  },
  {
   "metadata": {},
   "cell_type": "markdown",
   "source": [
    "**For loop and iteration phrase in loop's range**\n",
    "\n",
    "You're creating a simple Kotlin application that prints out the phrase \"This is loop iteration\" followed by the iteration number for a range of numbers. To do this, you decide to use a for loop and Kotlin's range syntax. However, you're struggling with remembering the exact syntax for creating a for loop and establishing the loop's range. Fill in the blanks in the provided code to correctly establish a for loop that iterates over a range of numbers from 0 to 10 (inclusive), and prints out the iteration phrase for each number.\"\n",
    "\n",
    "Fill in the gaps with the relevant elements"
   ]
  },
  {
   "metadata": {
    "ExecuteTime": {
     "end_time": "2025-08-05T11:17:36.556716200Z",
     "start_time": "2025-08-05T11:17:36.520644800Z"
    }
   },
   "cell_type": "code",
   "source": [
    "for(i in 1..10) {\n",
    "    println(\"This is loop iteration $i\")\n",
    "}"
   ],
   "outputs": [
    {
     "name": "stdout",
     "output_type": "stream",
     "text": [
      "This is loop iteration 1\r\n",
      "This is loop iteration 2\r\n",
      "This is loop iteration 3\r\n",
      "This is loop iteration 4\r\n",
      "This is loop iteration 5\r\n",
      "This is loop iteration 6\r\n",
      "This is loop iteration 7\r\n",
      "This is loop iteration 8\r\n",
      "This is loop iteration 9\r\n",
      "This is loop iteration 10\r\n"
     ]
    }
   ],
   "execution_count": 3
  },
  {
   "metadata": {},
   "cell_type": "code",
   "outputs": [],
   "execution_count": null,
   "source": ""
  },
  {
   "metadata": {},
   "cell_type": "markdown",
   "source": [
    "**Creating a beginners' number counting application**\n",
    "\n",
    "Imagine that you have been tasked to create an application for a beginner's lesson in counting. The program should print numbers from 1 to 5, with each number on a new line and preceded by a message 'This is loop iteration number'. The numbers should be generated using the Kotlin language's looping and range capabilities. Your task is to reorder the lines of available Kotlin code to solve this problem."
   ]
  },
  {
   "metadata": {
    "ExecuteTime": {
     "end_time": "2025-08-05T11:19:02.987897800Z",
     "start_time": "2025-08-05T11:19:02.943633300Z"
    }
   },
   "cell_type": "code",
   "source": [
    "for(i in 1..5){\n",
    "    println(\"This is loop iteration number $i\")\n",
    "}"
   ],
   "outputs": [
    {
     "name": "stdout",
     "output_type": "stream",
     "text": [
      "This is loop iteration number 1\r\n",
      "This is loop iteration number 2\r\n",
      "This is loop iteration number 3\r\n",
      "This is loop iteration number 4\r\n",
      "This is loop iteration number 5\r\n"
     ]
    }
   ],
   "execution_count": 4
  },
  {
   "metadata": {},
   "cell_type": "code",
   "outputs": [],
   "execution_count": null,
   "source": [
    "\n",
    "\n",
    "\n",
    "\n",
    "\n",
    "\n",
    "\n",
    "\n",
    "\n",
    "\n"
   ]
  },
  {
   "metadata": {},
   "cell_type": "markdown",
   "source": ""
  },
  {
   "metadata": {},
   "cell_type": "markdown",
   "source": [
    "**Completing a range-based loop in given code**\n",
    "\n",
    "Suppose you are given a piece of partially finished Kotlin code. The purpose of this code is to create a string that logs each iteration of a loop over a certain range, and then print that string. Your task is to fill the blanks in the code to complete the Kotlin range-based 'for' loop and ensure it works as expected. Don't forget to handle the range of iterations in the proper way."
   ]
  },
  {
   "metadata": {
    "ExecuteTime": {
     "end_time": "2025-08-05T11:21:22.181227200Z",
     "start_time": "2025-08-05T11:21:22.130067800Z"
    }
   },
   "cell_type": "code",
   "source": [
    "var result = \"\"\n",
    "\n",
    "for(i in 1..5){\n",
    "    result += \"Loop iteration: $i\\n\"\n",
    "}\n",
    "\n",
    "println(result)"
   ],
   "outputs": [
    {
     "name": "stdout",
     "output_type": "stream",
     "text": [
      "Loop iteration: 1\n",
      "Loop iteration: 2\n",
      "Loop iteration: 3\n",
      "Loop iteration: 4\n",
      "Loop iteration: 5\n",
      "\r\n"
     ]
    }
   ],
   "execution_count": 6
  },
  {
   "metadata": {},
   "cell_type": "code",
   "outputs": [],
   "execution_count": null,
   "source": ""
  },
  {
   "metadata": {},
   "cell_type": "code",
   "outputs": [],
   "execution_count": null,
   "source": [
    "\n",
    "\n",
    "\n",
    "\n",
    "\n",
    "\n",
    "\n",
    "\n",
    "\n",
    "\n"
   ]
  },
  {
   "metadata": {},
   "cell_type": "markdown",
   "source": [
    "**Count the numbers**\n",
    "\n",
    "Write a program that reads a, b, and n and outputs how many numbers in the inclusive range from a to b (a < b) are divisible by n.\n",
    "\n",
    "\n",
    "Note: you can write this program in a more efficient way, that is, without any loops. Think about it after you write the solution with a loop.\n",
    "\n",
    "Sample Input 1:\n",
    "\n",
    "10\n",
    "20\n",
    "10\n",
    "\n",
    "Sample Output 1:\n",
    "\n",
    "2\n",
    "\n",
    "Sample Input 2:\n",
    "\n",
    "-10\n",
    "10\n",
    "5\n",
    "\n",
    "Sample Output 2:\n",
    "\n",
    "5"
   ]
  },
  {
   "metadata": {},
   "cell_type": "code",
   "outputs": [],
   "execution_count": null,
   "source": [
    "val a = readLine()!!.toInt()   // Başlangıç sayısı (a)\n",
    "val b = readLine()!!.toInt()   // Bitiş sayısı (b)\n",
    "val n = readLine()!!.toInt()   // Bölünecek sayı (n)\n",
    "\n",
    "var count = 0                  // Kaç sayı bölünüyor → sayaç\n",
    "\n",
    "for (i in a..b) {              // a'dan b'ye kadar tüm sayıları dolaş\n",
    "    if (i % n == 0)            // Eğer i sayısı n’ye tam bölünüyorsa\n",
    "        count++                // sayacı 1 artır\n",
    "}\n",
    "\n",
    "println(count)"
   ]
  },
  {
   "metadata": {},
   "cell_type": "code",
   "outputs": [],
   "execution_count": null,
   "source": [
    "import java.util.Scanner\n",
    "\n",
    "//sol2\n",
    "val scanner = Scanner(System.`in`)\n",
    "val a = scanner.nextInt()\n",
    "val b = scanner.nextInt()\n",
    "val n = scanner.nextInt()\n",
    "println((a..b).count { it % n == 0 })"
   ]
  },
  {
   "metadata": {},
   "cell_type": "code",
   "outputs": [],
   "execution_count": null,
   "source": [
    "//sol3\n",
    "val (a, b, n) = IntArray(3) { readLine()!!.toInt() }\n",
    "println((a..b).count { it % n == 0 })"
   ]
  },
  {
   "metadata": {},
   "cell_type": "code",
   "outputs": [],
   "execution_count": null,
   "source": [
    "//sol4\n",
    "val a = readln().toInt()\n",
    "val b = readln().toInt()\n",
    "val n = readln().toInt()\n",
    "\n",
    "println((a..b).filter { it % n == 0 }.size)"
   ]
  },
  {
   "metadata": {},
   "cell_type": "code",
   "outputs": [],
   "execution_count": null,
   "source": [
    "\n",
    "\n",
    "\n",
    "\n",
    "\n",
    "\n",
    "\n",
    "\n",
    "\n",
    "\n",
    "\n",
    "\n"
   ]
  },
  {
   "metadata": {},
   "cell_type": "markdown",
   "source": ""
  },
  {
   "metadata": {},
   "cell_type": "markdown",
   "source": [
    "**The product of numbers from a to b**\n",
    "\n",
    "Write a program that prints the product of all the integer numbers from a to b (a < b).\n",
    "\n",
    "Include a and exclude b from your calculation.\n",
    "\n",
    "The result can be large, so you should use the Long type.\n",
    "\n",
    "Sample Input 1:\n",
    "\n",
    "1\n",
    "2\n",
    "\n",
    "Sample Output 1:\n",
    "\n",
    "1\n",
    "\n",
    "Sample Input 2:\n",
    "\n",
    "100\n",
    "105\n",
    "\n",
    "Sample Output 2:\n",
    "\n",
    "11035502400"
   ]
  },
  {
   "metadata": {},
   "cell_type": "code",
   "outputs": [],
   "execution_count": null,
   "source": [
    "val a = readln().toInt()\n",
    "val b = readln().toInt()\n",
    "\n",
    "var product = 1L\n",
    "\n",
    "for(i in a until b){\n",
    "    product *= i\n",
    "}\n",
    "\n",
    "println(product)"
   ]
  },
  {
   "metadata": {},
   "cell_type": "code",
   "outputs": [],
   "execution_count": null,
   "source": [
    "\n",
    "\n",
    "\n",
    "\n",
    "\n",
    "\n",
    "\n",
    "\n",
    "\n",
    "\n",
    "\n",
    "\n"
   ]
  },
  {
   "metadata": {},
   "cell_type": "markdown",
   "source": [
    "**For-loop definitions**\n",
    "\n",
    "Choose all the correct ways to define a for loop.\n",
    "\n",
    "Select one or more options from the list\n",
    "\n",
    "\n",
    "\n",
    "for (i in 0L until 40L step 2) {}     t\n",
    "\n",
    "for (i in 1 to 10) {}\n",
    "\n",
    "for (Double i in 1..10) {}\n",
    "\n",
    "for (i in range(1, 5, 2)) {}\n",
    "\n",
    "for (i in 1..10) {}                  t"
   ]
  },
  {
   "metadata": {},
   "cell_type": "code",
   "outputs": [],
   "execution_count": null,
   "source": [
    "\n",
    "\n",
    "\n",
    "\n",
    "\n",
    "\n",
    "\n",
    "\n",
    "\n",
    "\n"
   ]
  },
  {
   "metadata": {},
   "cell_type": "markdown",
   "source": ""
  },
  {
   "metadata": {},
   "cell_type": "code",
   "outputs": [],
   "execution_count": null,
   "source": [
    "\n",
    "\n",
    "\n",
    "\n",
    "\n",
    "\n",
    "\n",
    "\n",
    "\n",
    "\n",
    "\n",
    "\n"
   ]
  },
  {
   "metadata": {},
   "cell_type": "markdown",
   "source": [
    "**Understanding ranges**\n",
    "\n",
    "Match the output of this code and the loop condition:\n",
    "\n",
    "for (i in ...) {\n",
    "    print(i)\n",
    "}\n",
    "\n",
    "Match the items from left and right columns\n",
    "1..3\n",
    "11..10\n",
    "11 downTo 10\n",
    "11 downTo 10 step 2\n",
    "1 until 5\n",
    "'a'..'c' step 2\n",
    "'a' until 'd' step 3\n",
    "123\n",
    "Empty output.\n",
    "1110\n",
    "11\n",
    "1234\n",
    "ac\n",
    "a\n"
   ]
  }
 ],
 "metadata": {
  "kernelspec": {
   "display_name": "Kotlin",
   "language": "kotlin",
   "name": "kotlin"
  },
  "language_info": {
   "name": "kotlin",
   "version": "1.9.23",
   "mimetype": "text/x-kotlin",
   "file_extension": ".kt",
   "pygments_lexer": "kotlin",
   "codemirror_mode": "text/x-kotlin",
   "nbconvert_exporter": ""
  }
 },
 "nbformat": 4,
 "nbformat_minor": 0
}
