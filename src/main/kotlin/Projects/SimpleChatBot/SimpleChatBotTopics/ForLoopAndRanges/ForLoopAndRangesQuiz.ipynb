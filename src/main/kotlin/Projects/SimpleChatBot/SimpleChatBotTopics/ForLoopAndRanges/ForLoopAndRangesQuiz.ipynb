{
 "cells": [
  {
   "cell_type": "code",
   "execution_count": null,
   "metadata": {
    "collapsed": true
   },
   "outputs": [],
   "source": [
    ""
   ]
  },
  {
   "metadata": {},
   "cell_type": "markdown",
   "source": [
    "**nested for-loops**\n",
    "\n",
    "What is the output of this program?\n",
    "\n",
    "for (i in 1..3) {\n",
    "    for (j in 1..i) {\n",
    "        print(j)\n",
    "    }\n",
    "}\n",
    "\n",
    "Write the answer as a number. For example: 123\n",
    "\n",
    "Enter a number\n",
    "112123"
   ]
  },
  {
   "metadata": {},
   "cell_type": "code",
   "outputs": [],
   "execution_count": null,
   "source": [
    "\n",
    "\n",
    "\n",
    "\n",
    "\n",
    "\n",
    "\n",
    "\n",
    "\n",
    "\n"
   ]
  },
  {
   "metadata": {},
   "cell_type": "code",
   "outputs": [],
   "execution_count": null,
   "source": ""
  },
  {
   "metadata": {},
   "cell_type": "markdown",
   "source": [
    "**The sum of N numbers**\n",
    "\n",
    "Write a program that calculates the sum of N numbers.\n",
    "\n",
    "\n",
    "The first line contains the number N.\n",
    "\n",
    "The other lines contain N numbers.\n",
    "\n",
    "\n",
    "Output the sum of N numbers.\n",
    "\n",
    "Sample Input 1:\n",
    "\n",
    "3\n",
    "1\n",
    "2\n",
    "3\n",
    "\n",
    "Sample Output 1:\n",
    "\n",
    "6\n",
    "\n",
    "Write a program in Kotlin"
   ]
  },
  {
   "metadata": {
    "ExecuteTime": {
     "end_time": "2025-08-04T11:18:30.070125400Z",
     "start_time": "2025-08-04T11:18:29.991374300Z"
    }
   },
   "cell_type": "code",
   "source": [
    "fun main() {\n",
    "    val n = readLine()?.toIntOrNull() ?: return\n",
    "    var sum = 0\n",
    "\n",
    "    for (i in 1..n) {\n",
    "        val number = readLine()?.toIntOrNull() ?: return\n",
    "        sum += number\n",
    "    }\n",
    "\n",
    "    println(sum)\n",
    "}\n"
   ],
   "outputs": [],
   "execution_count": 6
  }
 ],
 "metadata": {
  "kernelspec": {
   "display_name": "Kotlin",
   "language": "kotlin",
   "name": "kotlin"
  },
  "language_info": {
   "name": "kotlin",
   "version": "1.9.23",
   "mimetype": "text/x-kotlin",
   "file_extension": ".kt",
   "pygments_lexer": "kotlin",
   "codemirror_mode": "text/x-kotlin",
   "nbconvert_exporter": ""
  }
 },
 "nbformat": 4,
 "nbformat_minor": 0
}
