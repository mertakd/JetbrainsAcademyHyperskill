{
 "cells": [
  {
   "cell_type": "code",
   "execution_count": null,
   "metadata": {
    "collapsed": true
   },
   "outputs": [],
   "source": [
    ""
   ]
  },
  {
   "metadata": {},
   "cell_type": "markdown",
   "source": [
    "**How many times it repeats**\n",
    "\n",
    "Take a look at the code:\n",
    "\n",
    "repeat(5) {\n",
    "    println(\"Kotlin\")\n",
    "}\n",
    "\n",
    "How many times is Kotlin printed?\n",
    "\n",
    "Select one option from the list\n",
    "\n",
    "from 1 to 4\n",
    "\n",
    "exactly 4\n",
    "\n",
    "from 0 to 5\n",
    "\n",
    "exactly 5  t"
   ]
  },
  {
   "metadata": {},
   "cell_type": "code",
   "outputs": [],
   "execution_count": null,
   "source": [
    "\n",
    "\n",
    "\n",
    "\n",
    "\n",
    "\n",
    "\n",
    "\n",
    "\n",
    "\n"
   ]
  },
  {
   "metadata": {},
   "cell_type": "markdown",
   "source": [
    "**Increment in loop**\n",
    "\n",
    "What is the output of the following piece of code?\n",
    "\n",
    "var number = 1\n",
    "repeat(5) {\n",
    "    number++\n",
    "}\n",
    "\n",
    "println(number)\n",
    "\n",
    "Select one option from the list\n",
    "\n",
    "0\n",
    "\n",
    "5\n",
    "\n",
    "6    t\n",
    "\n",
    "7\n"
   ]
  },
  {
   "metadata": {},
   "cell_type": "code",
   "outputs": [],
   "execution_count": null,
   "source": [
    "\n",
    "\n",
    "\n",
    "\n",
    "\n",
    "\n",
    "\n",
    "\n",
    "\n"
   ]
  },
  {
   "metadata": {},
   "cell_type": "markdown",
   "source": [
    "**Decrement in loops**\n",
    "\n",
    "What does this code print?\n",
    "\n",
    "\n",
    "var number = 5\n",
    "\n",
    "repeat(2) {\n",
    "    number--\n",
    "}\n",
    "\n",
    "repeat(0) {\n",
    "    number--\n",
    "}\n",
    "\n",
    "repeat(1) {\n",
    "    number--\n",
    "}\n",
    "\n",
    "println(number)\n",
    "\n",
    "\n",
    "\n",
    "Enter a number.\n",
    "\n",
    "Enter a number\n",
    "2\n"
   ]
  },
  {
   "metadata": {},
   "cell_type": "code",
   "outputs": [],
   "execution_count": null,
   "source": [
    "\n",
    "\n",
    "\n",
    "\n",
    "\n",
    "\n",
    "\n",
    "\n",
    "\n"
   ]
  },
  {
   "metadata": {},
   "cell_type": "markdown",
   "source": [
    "**Print a string exactly ten times**\n",
    "\n",
    "Write a program that reads a line and then prints it 10 times, each on a new line. A line may include multiple words separated by spaces.\n",
    "\n",
    "Sample Input 1:\n",
    "\n",
    "I will not use copy-paste!\n",
    "\n",
    "Sample Output 1:\n",
    "\n",
    "I will not use copy-paste!\n",
    "I will not use copy-paste!\n",
    "I will not use copy-paste!\n",
    "I will not use copy-paste!\n",
    "I will not use copy-paste!\n",
    "I will not use copy-paste!\n",
    "I will not use copy-paste!\n",
    "I will not use copy-paste!\n",
    "I will not use copy-paste!\n",
    "I will not use copy-paste!\n",
    "\n"
   ]
  },
  {
   "metadata": {},
   "cell_type": "code",
   "outputs": [],
   "execution_count": null,
   "source": [
    "val line = readln()\n",
    "\n",
    "repeat(10){\n",
    "    println(line)\n",
    "}"
   ]
  },
  {
   "metadata": {},
   "cell_type": "code",
   "outputs": [],
   "execution_count": null,
   "source": [
    "//sol2\n",
    "print(\"${readLine()!!}\\n\".repeat(10))"
   ]
  },
  {
   "metadata": {},
   "cell_type": "code",
   "outputs": [],
   "execution_count": null,
   "source": [
    "\n",
    "\n",
    "\n",
    "\n",
    "\n",
    "\n",
    "\n",
    "\n",
    "\n",
    "\n"
   ]
  },
  {
   "metadata": {},
   "cell_type": "markdown",
   "source": [
    "**Maximum element divisible by 4**\n",
    "\n",
    "You have a sequence of natural numbers that do not exceed 30000. Find the maximum element in the sequence divisible by 4. As input, the program first gets the number of elements in the sequence, and then the elements themselves. A sequence always has an element divisible by 4. The number of elements does not exceed 1000. The program should print a single number — the maximum sequence element (number) divisible by 4.\n",
    "\n",
    "Sample Input 1:\n",
    "\n",
    "12\n",
    "38\n",
    "15\n",
    "36\n",
    "80\n",
    "44\n",
    "12\n",
    "27\n",
    "63\n",
    "88\n",
    "46\n",
    "16\n",
    "49\n",
    "\n",
    "Sample Output 1:\n",
    "\n",
    "88"
   ]
  },
  {
   "metadata": {},
   "cell_type": "code",
   "outputs": [],
   "execution_count": null,
   "source": [
    "val n = readLine()!!.toInt() // Number of elements\n",
    "var maxDivisibleBy4 = 0 // Initialize the maximum as 0\n",
    "\n",
    "repeat(n) {\n",
    "    val element = readLine()!!.toInt() // Read the element\n",
    "    if (element % 4 == 0 && element > maxDivisibleBy4) {\n",
    "        // If the element is divisible by 4 and greater than the current maximum\n",
    "        maxDivisibleBy4 = element // Update the maximum\n",
    "    }\n",
    "}\n",
    "\n",
    "println(maxDivisibleBy4) // Print the maximum element divisible by 4"
   ]
  },
  {
   "metadata": {},
   "cell_type": "code",
   "outputs": [],
   "execution_count": null,
   "source": [
    "import java.util.Scanner\n",
    "\n",
    "//sol2\n",
    "fun main(args: Array<String>) {\n",
    "    val scanner = Scanner(System.`in`)\n",
    "    val loop = scanner.nextInt()\n",
    "    var maximum = 0\n",
    "    repeat(loop) {\n",
    "        val value = scanner.nextInt()\n",
    "        if (value % 4 == 0 && value > maximum) {\n",
    "            maximum = value\n",
    "        }\n",
    "    }\n",
    "    println(maximum)\n",
    "}"
   ]
  },
  {
   "metadata": {},
   "cell_type": "code",
   "outputs": [],
   "execution_count": null,
   "source": [
    "\n",
    "\n",
    "\n",
    "\n",
    "\n",
    "\n",
    "\n",
    "\n",
    "\n",
    "\n"
   ]
  },
  {
   "metadata": {},
   "cell_type": "markdown",
   "source": [
    "**Size of parts**\n",
    "\n",
    "A detecting device compares the size of components produced by a machine against the reference component.\n",
    "\n",
    "If the size of the component is larger, it can be fixed; the detector prints 1.\n",
    "If the size of the component is smaller, it is deemed as a rejection; the detector prints -1.\n",
    "If the component is perfect, it is sent to the box; the detector prints 0.\n",
    "\n",
    "Write a program which takes n (the number of parts) as input and then the detector sequence. The program should output three numbers in a single line — the number of perfect components, the number of larger components, and the number of rejections.\n",
    "\n",
    "Sample Input 1:\n",
    "\n",
    "10\n",
    "1\n",
    "1\n",
    "1\n",
    "0\n",
    "1\n",
    "-1\n",
    "0\n",
    "1\n",
    "-1\n",
    "0\n",
    "\n",
    "Sample Output 1:\n",
    "\n",
    "3 5 2"
   ]
  },
  {
   "metadata": {},
   "cell_type": "code",
   "outputs": [],
   "execution_count": null,
   "source": [
    "val n = readln().toInt()                     // Parça sayısını oku\n",
    "val parts = List(n) { readln().toInt() }     // Parçaları liste olarak oku\n",
    "\n",
    "val perfect = parts.count { it == 0 }        // 0 olanların sayısı\n",
    "val larger = parts.count { it == 1 }         // 1 olanların sayısı\n",
    "val rejected = parts.count { it == -1 }      // -1 olanların sayısı\n",
    "\n",
    "println(\"$perfect $larger $rejected\")"
   ]
  },
  {
   "metadata": {},
   "cell_type": "code",
   "outputs": [],
   "execution_count": null,
   "source": [
    "import java.util.Scanner\n",
    "\n",
    "//sol2\n",
    "val scanner = Scanner(System.`in`)\n",
    "val count = IntArray(3)\n",
    "val n = scanner.nextInt()\n",
    "repeat(n) {\n",
    "    val next = scanner.nextInt()\n",
    "    count[(next + 3) % 3]++\n",
    "}\n",
    "println(count.joinToString(separator = \" \"))\n",
    "\n"
   ]
  },
  {
   "metadata": {},
   "cell_type": "code",
   "outputs": [],
   "execution_count": null,
   "source": [
    "//sol3\n",
    "var a = 0\n",
    "var b = 0\n",
    "var c = 0\n",
    "repeat(readln().toInt()) {\n",
    "    val x = readln().toInt()\n",
    "    when (x) {\n",
    "        0 -> a++\n",
    "        1 -> b++\n",
    "        -1 -> c++\n",
    "    }\n",
    "}\n",
    "println(\"$a $b $c\")"
   ]
  },
  {
   "metadata": {},
   "cell_type": "code",
   "outputs": [],
   "execution_count": null,
   "source": [
    "\n",
    "\n",
    "\n",
    "\n",
    "\n",
    "\n",
    "\n",
    "\n",
    "\n"
   ]
  },
  {
   "metadata": {},
   "cell_type": "markdown",
   "source": [
    "Grades\n",
    " Report a typo\n",
    "Find how many \"D\", \"C\", \"B\" and \"A\" grades the students have got after the last Computer Science test. There are n students in the class. The program gets the n number as input and then gets the grades one by one. The program should output four numbers in a single line, representing the number of grades equal to \"D\", \"C\", \"B\" and \"A\".\n",
    "\n",
    "Numbers represent the following grades: 2 is \"D\", 3 is \"C\", 4 is \"B\", and 5 is \"A\".\n",
    "\n",
    "Sample Input 1:\n",
    "\n",
    "10\n",
    "3\n",
    "5\n",
    "4\n",
    "4\n",
    "2\n",
    "5\n",
    "5\n",
    "5\n",
    "5\n",
    "2\n",
    "\n",
    "Sample Output 1:\n",
    "\n",
    "2 1 2 5\n",
    "\n",
    "Write a program in Kotlin\n"
   ]
  },
  {
   "metadata": {},
   "cell_type": "code",
   "outputs": [],
   "execution_count": null,
   "source": [
    "val n = readLine()!!.toInt()\n",
    "var dCount = 0\n",
    "var cCount = 0\n",
    "var bCount = 0\n",
    "var aCount = 0\n",
    "repeat(n) {\n",
    "    when (readLine()!!.toInt()) {\n",
    "        2 -> dCount++\n",
    "        3 -> cCount++\n",
    "        4 -> bCount++\n",
    "        5 -> aCount++\n",
    "    }\n",
    "}\n",
    "println(\"$dCount $cCount $bCount $aCount\")"
   ]
  },
  {
   "metadata": {},
   "cell_type": "code",
   "outputs": [],
   "execution_count": null,
   "source": [
    "import java.util.Scanner\n",
    "\n",
    "//sol2\n",
    "val scanner = Scanner(System.`in`)\n",
    "// put your code here\n",
    "val n = scanner.nextInt()\n",
    "var (d, c, b, a) = arrayOf(0, 0, 0, 0)\n",
    "repeat(n) {\n",
    "    val x = scanner.nextInt()\n",
    "    when (x) {\n",
    "        2 -> d++\n",
    "        3 -> c++\n",
    "        4 -> b++\n",
    "        5 -> a++\n",
    "    }\n",
    "}\n",
    "print(\"$d $c $b $a\")"
   ]
  },
  {
   "metadata": {},
   "cell_type": "code",
   "outputs": [],
   "execution_count": null,
   "source": [
    "//sol3\n",
    "val n = readLine()!!.toInt()\n",
    "val grades = IntArray(4)\n",
    "repeat(n) {\n",
    "    val number = readLine()!!.toInt() - 2\n",
    "    grades[number] += 1\n",
    "}\n",
    "println(grades.joinToString(\" \"))"
   ]
  },
  {
   "metadata": {},
   "cell_type": "code",
   "outputs": [],
   "execution_count": null,
   "source": [
    "//sol4\n",
    "val grades = Array(readLine()!!.toInt()) { readLine()!!.toInt() }\n",
    "for (i in 2..5) print(\"${grades.count{ it == i }} \")"
   ]
  },
  {
   "metadata": {},
   "cell_type": "markdown",
   "source": ""
  },
  {
   "metadata": {},
   "cell_type": "code",
   "outputs": [],
   "execution_count": null,
   "source": [
    "\n",
    "\n",
    "\n",
    "\n",
    "\n",
    "\n",
    "\n",
    "\n",
    "\n",
    "\n"
   ]
  },
  {
   "metadata": {},
   "cell_type": "markdown",
   "source": [
    "**Calculate the sum of natural numbers up to a given limit**\n",
    "\n",
    "Write a Kotlin program that finds the sum of the natural numbers up to a given number. You'll receive an integer 'N' as input, representing the limit of the numbers to be added. Your program should print the calculated sum as the output.\n",
    "\n",
    "Sample Input 1:\n",
    "\n",
    "10\n",
    "\n",
    "Sample Output 1:\n",
    "\n",
    "55\n",
    "\n",
    "Sample Input 2:\n",
    "\n",
    "100\n",
    "\n",
    "Sample Output 2:\n",
    "\n",
    "5050"
   ]
  },
  {
   "metadata": {},
   "cell_type": "code",
   "outputs": [],
   "execution_count": null,
   "source": [
    "import java.util.Scanner\n",
    "\n",
    "val scanner = Scanner(System.`in`)\n",
    "val N = scanner.nextInt()\n",
    "var sum = 0\n",
    "\n",
    "// 1'den N'ye kadar sayıları topla\n",
    "repeat(N) {\n",
    "    sum += it + 1  // it 0'dan başladığı için 1 ekliyoruz\n",
    "}\n",
    "\n",
    "println(sum)"
   ]
  },
  {
   "metadata": {},
   "cell_type": "code",
   "outputs": [],
   "execution_count": null,
   "source": [
    "import java.util.Scanner\n",
    "\n",
    "//sol2\n",
    "val scanner = Scanner(System.`in`)\n",
    "\n",
    "// Read the input number\n",
    "val N = scanner.nextInt()\n",
    "\n",
    "// Variable to store the sum\n",
    "var sum = 0\n",
    "\n",
    "// Write a repeat loop here to add the numbers from 1 to N to the sum variable\n",
    "repeat(N.inc()) {\n",
    "    sum += it\n",
    "}\n",
    "\n",
    "// Output the sum\n",
    "println(sum)"
   ]
  },
  {
   "metadata": {},
   "cell_type": "code",
   "outputs": [],
   "execution_count": null,
   "source": [
    "import java.util.Scanner\n",
    "\n",
    "//sol3\n",
    "// Create a scanner object for getting input\n",
    "val scanner = Scanner(System.`in`)\n",
    "\n",
    "// Read the input number\n",
    "val N = scanner.nextInt()\n",
    "\n",
    "// Variable to store the sum\n",
    "var sum = 0\n",
    "\n",
    "// Write a repeat loop here to add the numbers from 1 to N to the sum variable\n",
    "repeat(N) {\n",
    "    val x = (1 + N) * N / 2\n",
    "    sum = x\n",
    "}\n",
    "\n",
    "// Output the sum\n",
    "println(sum)"
   ]
  },
  {
   "metadata": {},
   "cell_type": "code",
   "outputs": [],
   "execution_count": null,
   "source": [
    "\n",
    "\n",
    "\n",
    "\n",
    "\n",
    "\n",
    "\n",
    "\n",
    "\n",
    "\n",
    "\n",
    "\n"
   ]
  },
  {
   "metadata": {},
   "cell_type": "markdown",
   "source": [
    "**Printing an ascending asterisk triangle**\n",
    "\n",
    "Write a program that reads a positive integer N and prints a triangle with N rows using asterisks ('*'). Each row should have one more asterisk than the previous row, starting with one asterisk in the first row.\n",
    "\n",
    "Sample Input 1:\n",
    "\n",
    "5\n",
    "\n",
    "Sample Output 1:\n",
    "\n",
    "*\n",
    "**\n",
    "***\n",
    "****\n",
    "*****\n",
    "\n",
    "Sample Input 2:\n",
    "\n",
    "3\n",
    "\n",
    "Sample Output 2:\n",
    "\n",
    "*\n",
    "**\n",
    "***"
   ]
  },
  {
   "metadata": {},
   "cell_type": "code",
   "outputs": [],
   "execution_count": null,
   "source": [
    "import java.util.Scanner\n",
    "\n",
    "val scanner = Scanner(System.`in`)\n",
    "val n = scanner.nextInt()\n",
    "\n",
    "repeat(n) {\n",
    "    println(\"*\".repeat(it + 1))\n",
    "}"
   ]
  },
  {
   "metadata": {},
   "cell_type": "code",
   "outputs": [],
   "execution_count": null,
   "source": [
    "repeat(readln().toInt() + 1) {\n",
    "    print(\"*\".repeat(it))\n",
    "    println()\n",
    "}"
   ]
  },
  {
   "metadata": {},
   "cell_type": "code",
   "outputs": [],
   "execution_count": null,
   "source": [
    "val input = readln().toInt()\n",
    "for (i in 1..input) {\n",
    "    println(\"*\".repeat(i))\n",
    "}"
   ]
  },
  {
   "metadata": {},
   "cell_type": "code",
   "outputs": [],
   "execution_count": null,
   "source": "for (i in 1..readln().toInt()) println(\"*\".repeat(i))"
  },
  {
   "metadata": {},
   "cell_type": "code",
   "outputs": [],
   "execution_count": null,
   "source": [
    "\n",
    "\n",
    "\n",
    "\n",
    "\n",
    "\n",
    "\n",
    "\n",
    "\n",
    "\n",
    "\n"
   ]
  },
  {
   "metadata": {},
   "cell_type": "markdown",
   "source": [
    "**Kotlin x5**\n",
    "\n",
    "Write a program that prints the word Kotlin five times. Print each word on a new line.\n",
    "\n",
    "Use the provided template for your solutions:\n",
    "\n",
    "Sample Output\n",
    "\n",
    "Kotlin\n",
    "Kotlin\n",
    "Kotlin\n",
    "Kotlin\n",
    "Kotlin\n",
    "\n"
   ]
  },
  {
   "metadata": {},
   "cell_type": "code",
   "outputs": [],
   "execution_count": null,
   "source": [
    "repeat(5) {\n",
    "    println(\"Kotlin\")\n",
    "}\n"
   ]
  },
  {
   "metadata": {},
   "cell_type": "code",
   "outputs": [],
   "execution_count": null,
   "source": "print(\"Kotlin\\n\".repeat(5))"
  },
  {
   "metadata": {},
   "cell_type": "code",
   "outputs": [],
   "execution_count": null,
   "source": [
    "\n",
    "\n",
    "\n",
    "\n",
    "\n",
    "\n",
    "\n",
    "\n",
    "\n"
   ]
  },
  {
   "metadata": {},
   "cell_type": "markdown",
   "source": [
    "**Repeat by value**\n",
    "\n",
    "Write a program that reads a number and prints it the number of times corresponding to the value of the input number.\n",
    "\n",
    "Sample Input 1:\n",
    "\n",
    "5\n",
    "\n",
    "Sample Output 1:\n",
    "\n",
    "55555\n",
    "\n",
    "Sample Input 2:\n",
    "\n",
    "10\n",
    "\n",
    "Sample Output 2:\n",
    "\n",
    "10101010101010101010"
   ]
  },
  {
   "metadata": {},
   "cell_type": "code",
   "outputs": [],
   "execution_count": null,
   "source": [
    "val n= readln().toInt()\n",
    "\n",
    "repeat(n){\n",
    "    print(\"$n\")\n",
    "}\n"
   ]
  },
  {
   "metadata": {},
   "cell_type": "code",
   "outputs": [],
   "execution_count": null,
   "source": [
    "val a = readln()\n",
    "println(a.repeat(a.toInt()))"
   ]
  },
  {
   "metadata": {},
   "cell_type": "code",
   "outputs": [],
   "execution_count": null,
   "source": "readln().let { print(it.repeat(it.toInt())) }"
  },
  {
   "metadata": {},
   "cell_type": "code",
   "outputs": [],
   "execution_count": null,
   "source": "readln().toInt().let { print(it.toString().repeat(it)) }"
  },
  {
   "metadata": {},
   "cell_type": "code",
   "outputs": [],
   "execution_count": null,
   "source": [
    "val n = readln().toInt()\n",
    "println(\"$n\".repeat(n))"
   ]
  },
  {
   "metadata": {},
   "cell_type": "code",
   "outputs": [],
   "execution_count": null,
   "source": [
    "\n",
    "\n",
    "\n",
    "\n",
    "\n",
    "\n",
    "\n",
    "\n",
    "\n",
    "\n",
    "\n"
   ]
  },
  {
   "metadata": {},
   "cell_type": "markdown",
   "source": [
    "**Sum of squares of even numbers up to a limit**\n",
    "\n",
    "Write a program in Kotlin that displays the sum of squares of even numbers from 1 up to a given limit. Take the limit as an integer input from the user. If the limit is less than 0, print 'Invalid Input'.\n",
    "\n",
    "Sample Input 1:\n",
    "\n",
    "10\n",
    "\n",
    "Sample Output 1:\n",
    "\n",
    "220\n",
    "\n",
    "Sample Input 2:\n",
    "\n",
    "5\n",
    "\n",
    "Sample Output 2:\n",
    "\n",
    "20"
   ]
  },
  {
   "metadata": {},
   "cell_type": "code",
   "outputs": [],
   "execution_count": null,
   "source": [
    "val n = readln().toInt()\n",
    "\n",
    "if (n < 0) {\n",
    "    println(\"Invalid Input\")\n",
    "    return\n",
    "}\n",
    "\n",
    "var sum = 0\n",
    "for (i in 1..n) {\n",
    "    if (i % 2 == 0) {      // çift sayı mı kontrol et\n",
    "        sum += i * i       // çift sayının karesini topla\n",
    "    }\n",
    "}\n",
    "\n",
    "println(sum)"
   ]
  },
  {
   "metadata": {
    "ExecuteTime": {
     "end_time": "2025-07-31T19:49:46.152734600Z",
     "start_time": "2025-07-31T19:49:45.842523400Z"
    }
   },
   "cell_type": "code",
   "source": [
    "//sol2\n",
    "fun main() = readln().toInt().let { n ->\n",
    "    print(if (n < 0) \"Invalid Input\" else (1..n).filter { it % 2 == 0 }.sumOf { it * it })\n",
    "}"
   ],
   "outputs": [],
   "execution_count": 1
  },
  {
   "metadata": {},
   "cell_type": "code",
   "outputs": [],
   "execution_count": null,
   "source": [
    "//sol3\n",
    "val input = readln().toInt()\n",
    "println(\n",
    "    if (input < 0) {\n",
    "        \"Invalid Input\"\n",
    "    } else {\n",
    "        (1..input)\n",
    "            .filter { it % 2 == 0 }\n",
    "            .map { it * it }\n",
    "            .sum()\n",
    "    }\n",
    ")"
   ]
  },
  {
   "metadata": {},
   "cell_type": "code",
   "outputs": [],
   "execution_count": null,
   "source": [
    "//sol4\n",
    "readln().toInt().let { limit ->\n",
    "    when {\n",
    "        limit < 0 -> println(\"Invalid Input\")\n",
    "        else -> println((0 until limit + 1).filter { it % 2 == 0 }.sumOf { it * it })\n",
    "    }\n",
    "}"
   ]
  }
 ],
 "metadata": {
  "kernelspec": {
   "display_name": "Kotlin",
   "language": "kotlin",
   "name": "kotlin"
  },
  "language_info": {
   "name": "kotlin",
   "version": "1.9.23",
   "mimetype": "text/x-kotlin",
   "file_extension": ".kt",
   "pygments_lexer": "kotlin",
   "codemirror_mode": "text/x-kotlin",
   "nbconvert_exporter": ""
  }
 },
 "nbformat": 4,
 "nbformat_minor": 0
}
