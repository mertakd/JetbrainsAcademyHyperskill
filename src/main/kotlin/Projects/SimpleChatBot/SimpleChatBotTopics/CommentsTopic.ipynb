{
 "cells": [
  {
   "cell_type": "code",
   "execution_count": null,
   "metadata": {
    "collapsed": true
   },
   "outputs": [],
   "source": [
    ""
   ]
  },
  {
   "metadata": {},
   "cell_type": "markdown",
   "source": [
    "\n",
    "\n",
    "---\n",
    "\n",
    "### 🔹 **Yorum (Comment) Nedir?**\n",
    "\n",
    "* **Yorumlar**, kodun içine yazılan ve derleyici (compiler) tarafından **yok sayılan** açıklamalardır.\n",
    "* Amaçları:\n",
    "\n",
    "  * Kodu açıklamak\n",
    "  * Kodun bazı kısımlarını geçici olarak etkisizleştirmek (devre dışı bırakmak)\n",
    "  * Başkalarının (veya gelecekte sizin) kodu daha iyi anlamasını sağlamak\n",
    "\n",
    "---\n",
    "\n",
    "### 🔹 **Kotlin'de 3 Tür Yorum Vardır:**\n",
    "\n",
    "#### 1. **Tek Satırlık Yorum (End-of-line comment)**\n",
    "\n",
    "* `//` sembolüyle başlar. Satırın geri kalanı yorum kabul edilir.\n",
    "\n",
    "```kotlin\n",
    "// Bu bir yorumdur\n",
    "println(\"Merhaba Kotlin\")  // Bu da satır sonunda bir yorum\n",
    "```\n",
    "\n",
    "#### 2. **Çok Satırlı Yorum (Multi-line comment)**\n",
    "\n",
    "* `/*` ile başlar, `*/` ile biter. Birden fazla satır açıklama yazmak için kullanılır.\n",
    "\n",
    "```kotlin\n",
    "/*\n",
    "Bu çok satırlı bir yorumdur.\n",
    "Birden fazla satır açıklama yazılabilir.\n",
    "*/\n",
    "```\n",
    "\n",
    "* **İç içe çok satırlı yorum** yazılabilir, ama `/*` ve `*/` çiftlerinin doğru eşleşmesi gerekir.\n",
    "\n",
    "```kotlin\n",
    "/*\n",
    "Kodun bir kısmı\n",
    "/* iç içe yorum */\n",
    "devre dışı bırakıldı\n",
    "*/\n",
    "```\n",
    "\n",
    "#### 3. **Dokümantasyon Yorumu (Documentation comment)**\n",
    "\n",
    "* `/**` ile başlar ve `*/` ile biter.\n",
    "* Otomatik dokümantasyon araçları tarafından okunabilir.\n",
    "* Fonksiyonlar, sınıflar vb. açıklamak için kullanılır.\n",
    "* Özel etiketler kullanılabilir: `@param`, `@return` gibi.\n",
    "\n",
    "```kotlin\n",
    "/**\n",
    " * Bu fonksiyon komut satırından gelen argümanları alır.\n",
    " * @param args Dışarıdan gelen argümanlar\n",
    " */\n",
    "fun main(args: Array<String>) {\n",
    "    // işlem yapılır\n",
    "}\n",
    "```\n",
    "\n",
    "---\n",
    "\n",
    "### 🔚 **Sonuç:**\n",
    "\n",
    "* Yorumlar, kodu açıklamak ve daha anlaşılır hale getirmek için kullanılır.\n",
    "* Aşırı yorum kullanımı kafa karıştırabilir. Bu nedenle **kendini açıklayan (self-documenting)** kod yazmak daha iyidir.\n",
    "* Dokümantasyon yorumları, ileride daha ayrıntılı şekilde öğrenilecektir.\n",
    "\n",
    "---\n",
    "\n",
    "\n"
   ]
  },
  {
   "metadata": {},
   "cell_type": "markdown",
   "source": ""
  }
 ],
 "metadata": {
  "kernelspec": {
   "display_name": "Kotlin",
   "language": "kotlin",
   "name": "kotlin"
  },
  "language_info": {
   "name": "kotlin",
   "version": "1.9.23",
   "mimetype": "text/x-kotlin",
   "file_extension": ".kt",
   "pygments_lexer": "kotlin",
   "codemirror_mode": "text/x-kotlin",
   "nbconvert_exporter": ""
  }
 },
 "nbformat": 4,
 "nbformat_minor": 0
}
