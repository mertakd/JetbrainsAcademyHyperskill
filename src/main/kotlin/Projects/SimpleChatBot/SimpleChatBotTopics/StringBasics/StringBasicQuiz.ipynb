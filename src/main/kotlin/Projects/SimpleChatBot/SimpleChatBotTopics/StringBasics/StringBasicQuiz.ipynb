{
 "cells": [
  {
   "cell_type": "code",
   "execution_count": null,
   "metadata": {
    "collapsed": true
   },
   "outputs": [],
   "source": ""
  },
  {
   "metadata": {},
   "cell_type": "markdown",
   "source": [
    "**I'm learning Kotlin!**\n",
    "\n",
    "Write a program that prints I'm learning Kotlin! six times, each from a new line."
   ]
  },
  {
   "metadata": {
    "ExecuteTime": {
     "end_time": "2025-06-13T10:59:26.608730300Z",
     "start_time": "2025-06-13T10:59:26.449961800Z"
    }
   },
   "cell_type": "code",
   "source": [
    "print(\"I'm learning Kotlin!\\n\".repeat(6))\n",
    "\n",
    "//sol2\n",
    "for (i in 1..6) { println(\"I'm learning Kotlin!\") }"
   ],
   "outputs": [
    {
     "name": "stdout",
     "output_type": "stream",
     "text": [
      "I'm learning Kotlin!\n",
      "I'm learning Kotlin!\n",
      "I'm learning Kotlin!\n",
      "I'm learning Kotlin!\n",
      "I'm learning Kotlin!\n",
      "I'm learning Kotlin!\n",
      "I'm learning Kotlin!\r\n",
      "I'm learning Kotlin!\r\n",
      "I'm learning Kotlin!\r\n",
      "I'm learning Kotlin!\r\n",
      "I'm learning Kotlin!\r\n",
      "I'm learning Kotlin!\r\n"
     ]
    }
   ],
   "execution_count": 1
  },
  {
   "metadata": {},
   "cell_type": "markdown",
   "source": [
    "**All robots speak Kotlin**\n",
    "\n",
    "How many characters does the string \"Kot lin\" contain?\n",
    "\n",
    "Enter a number\n",
    "7\n"
   ]
  },
  {
   "metadata": {},
   "cell_type": "markdown",
   "source": ""
  },
  {
   "metadata": {},
   "cell_type": "markdown",
   "source": [
    "**Fix it!**\n",
    "\n",
    "An inexperienced programmer created the name incorrectly. We need to fix it so that when printing name, the program prints 10 years ago we were in London.\n",
    "\n",
    "val name = \"10 years ago we were in London\""
   ]
  },
  {
   "metadata": {},
   "cell_type": "markdown",
   "source": ""
  },
  {
   "metadata": {},
   "cell_type": "markdown",
   "source": ""
  },
  {
   "metadata": {},
   "cell_type": "markdown",
   "source": [
    "**The string size**\n",
    "\n",
    "Select the correct way to get the string size.\n",
    "\n",
    "Select one option from the list\n",
    "\n",
    ".size()\n",
    "\n",
    ".size\n",
    "\n",
    ".length()\n",
    "\n",
    ".length   T"
   ]
  },
  {
   "metadata": {},
   "cell_type": "markdown",
   "source": ""
  },
  {
   "metadata": {},
   "cell_type": "markdown",
   "source": [
    "**Appending numbers to strings**\n",
    "\n",
    "Select all the options that print 222.\n",
    "\n",
    "Select one or more options from the list\n",
    "\n",
    "println(\"22\" + 0 + 2)\n",
    "\n",
    "println(\"2\" + 2 + 2)    T\n",
    "\n",
    "println(\"2\" + 2 + 1 + 1)\n",
    "\n",
    "println(\"222\")          T"
   ]
  },
  {
   "metadata": {},
   "cell_type": "markdown",
   "source": ""
  },
  {
   "metadata": {},
   "cell_type": "markdown",
   "source": [
    "**Correct ways to create a string**\n",
    "\n",
    "Select all the correct ways to create a string that says \"Hello\".\n",
    "\n",
    "Select one or more options from the list\n",
    "\n",
    "val str = \"Hel\" + \"l\" + 'o'   T\n",
    "\n",
    "val str = \"Hello\"             T\n",
    "\n",
    "val str = s\"Hello\"\n",
    "\n",
    "val str = 'Hello'\n"
   ]
  },
  {
   "metadata": {},
   "cell_type": "markdown",
   "source": ""
  },
  {
   "metadata": {},
   "cell_type": "markdown",
   "source": [
    "**Addition and multiplication**\n",
    "\n",
    "Select all the options that print 9999.\n",
    "\n",
    "Select one or more options from the list\n",
    "\n",
    "println(\"99\" + \"\" + \"99\")         T\n",
    "\n",
    "println(\"9\"*4)\n",
    "\n",
    "println(\"\" + 9999)                  T\n",
    "\n",
    "println(\"9\".repeat(4))              T"
   ]
  },
  {
   "metadata": {},
   "cell_type": "markdown",
   "source": ""
  },
  {
   "metadata": {},
   "cell_type": "markdown",
   "source": [
    "**Construct the spell**\n",
    "\n",
    "What does the code below print?"
   ]
  },
  {
   "metadata": {},
   "cell_type": "code",
   "outputs": [],
   "execution_count": null,
   "source": [
    "val spell = \"abra\"\n",
    "println((spell + \"cad\").repeat(spell.length) + spell)\n",
    "\n",
    "//abracadabracadabracadabracadabra"
   ]
  },
  {
   "metadata": {},
   "cell_type": "markdown",
   "source": ""
  },
  {
   "metadata": {},
   "cell_type": "markdown",
   "source": ""
  },
  {
   "metadata": {},
   "cell_type": "markdown",
   "source": [
    "Concatenation\n",
    " Report a typo\n",
    "Select all the correct options to get the String \"123\".\n",
    "\n",
    "If you have any problems, reread the paragraph \"Appending values to strings\" in theory.\n",
    "\n",
    "Select one or more options from the list\n",
    "\n",
    "\"1\" + '2' + 3    T\n",
    "\n",
    "'1' + \"2\" + 3    T\n",
    "\n",
    "\"1\" + 2 + '3'    T\n",
    "\n",
    "1 + \"2\" + '3'"
   ]
  },
  {
   "metadata": {},
   "cell_type": "markdown",
   "source": ""
  },
  {
   "metadata": {},
   "cell_type": "markdown",
   "source": [
    "**Prompting user input and measuring string length**\n",
    "\n",
    "A user input is required for an application you are developing in Kotlin. The application should prompt the user to enter a string, display the entered string, and then output the length of the string that the user inputted. However, some parts of the code are missing. Can you fill the blanks in the code to make the program work as expected?"
   ]
  },
  {
   "metadata": {
    "ExecuteTime": {
     "end_time": "2025-06-13T11:10:58.289941Z",
     "start_time": "2025-06-13T11:10:55.041321800Z"
    }
   },
   "cell_type": "code",
   "source": [
    "import java.util.Scanner\n",
    "\n",
    "val scanner = Scanner(System.`in`)\n",
    "println(\"Entrer a string:\")\n",
    "val inputString = scanner.nextLine()\n",
    "println(\"You entered: $inputString\")\n",
    "val length = inputString.length\n",
    "println(\"Length of your string is: $length\")"
   ],
   "outputs": [
    {
     "name": "stdout",
     "output_type": "stream",
     "text": [
      "Entrer a string:\r\n",
      "You entered: mert\r\n",
      "Length of your string is: 4\r\n"
     ]
    }
   ],
   "execution_count": 2
  },
  {
   "metadata": {},
   "cell_type": "markdown",
   "source": ""
  },
  {
   "metadata": {},
   "cell_type": "markdown",
   "source": ""
  },
  {
   "metadata": {},
   "cell_type": "markdown",
   "source": [
    "**Creating an Application to Change User Input to Uppercase**\n",
    "\n",
    "You are developing a simple application in Kotlin that takes a user's input, converts it to uppercase, and outputs the result. The main function has been written and a scanner object has been initialized to handle the input, but some parts of the code have been removed. Your task is to fill the blanks in code to make the application work as expected. Note that you need to use appropriate functions for string conversion."
   ]
  },
  {
   "metadata": {
    "ExecuteTime": {
     "end_time": "2025-06-13T11:13:43.617753500Z",
     "start_time": "2025-06-13T11:13:39.819138400Z"
    }
   },
   "cell_type": "code",
   "source": [
    "val scanner = Scanner(System.`in`)\n",
    "println(\"Enter a string\")\n",
    "val userInput = scanner.nextLine()\n",
    "val upperCaseString = userInput.uppercase()\n",
    "println(\"Your string in uppercase is: $upperCaseString\")"
   ],
   "outputs": [
    {
     "name": "stdout",
     "output_type": "stream",
     "text": [
      "Enter a string\r\n",
      "Your string in uppercase is: MERT\r\n"
     ]
    }
   ],
   "execution_count": 3
  },
  {
   "metadata": {},
   "cell_type": "markdown",
   "source": ""
  },
  {
   "metadata": {},
   "cell_type": "markdown",
   "source": ""
  },
  {
   "metadata": {},
   "cell_type": "markdown",
   "source": [
    "**Thrice-echoed positivity booster**\n",
    "\n",
    "Create a Kotlin program that asks for your name and a positive adjective, then makes an affirmation statement. The program should repeat this statement three times. Fill in the blanks in the code to complete this task."
   ]
  },
  {
   "metadata": {
    "ExecuteTime": {
     "end_time": "2025-06-13T11:19:59.146419900Z",
     "start_time": "2025-06-13T11:19:52.220073100Z"
    }
   },
   "cell_type": "code",
   "source": [
    "val scanner = Scanner(System.`in`)\n",
    "print(\"Enter your name: \")\n",
    "val name = scanner.nextLine()\n",
    "print(\"Enter a positive adjective: \")\n",
    "val adjective = scanner.nextLine()\n",
    "val affirmation = \"I, $name, am $adjective and capable of great things! \"\n",
    "println(affirmation.repeat(3))"
   ],
   "outputs": [
    {
     "name": "stdout",
     "output_type": "stream",
     "text": [
      "Enter your name: Enter a positive adjective: I, davix, am talented and capable of great things! I, davix, am talented and capable of great things! I, davix, am talented and capable of great things! \r\n"
     ]
    }
   ],
   "execution_count": 6
  },
  {
   "metadata": {},
   "cell_type": "markdown",
   "source": ""
  },
  {
   "metadata": {},
   "cell_type": "markdown",
   "source": ""
  },
  {
   "metadata": {},
   "cell_type": "markdown",
   "source": [
    "**Reverse a user-input string**\n",
    "\n",
    "Write a program in Kotlin that reads a string and returns the reversed version of that string. Your program should interactively ask the user for a single string and should display the reversed string as the output.\n",
    "\n",
    "Sample Input 1:\n",
    "\n",
    "Hello\n",
    "\n",
    "Sample Output 1:\n",
    "\n",
    "olleH\n",
    "\n",
    "Sample Input 2:\n",
    "\n",
    "Kotlin\n",
    "\n",
    "Sample Output 2:\n",
    "\n",
    "niltoK"
   ]
  },
  {
   "metadata": {
    "ExecuteTime": {
     "end_time": "2025-06-13T11:22:38.169305600Z",
     "start_time": "2025-06-13T11:22:34.674686900Z"
    }
   },
   "cell_type": "code",
   "source": [
    "val scanner = Scanner(System.`in`)\n",
    "\n",
    "val inputString = scanner.nextLine()\n",
    "\n",
    "val reversedString = inputString.reversed()\n",
    "\n",
    "println(reversedString)"
   ],
   "outputs": [
    {
     "name": "stdout",
     "output_type": "stream",
     "text": [
      "olleh\r\n"
     ]
    }
   ],
   "execution_count": 7
  },
  {
   "metadata": {},
   "cell_type": "markdown",
   "source": ""
  },
  {
   "metadata": {},
   "cell_type": "markdown",
   "source": ""
  },
  {
   "metadata": {},
   "cell_type": "markdown",
   "source": [
    "**Creating a personalized greeting message from user input**\n",
    "\n",
    "Imagine you have a program that receives a user's name through the standard input and outputs a greeting to them, but the lines of code got jumbled up! Your task is to reorder the lines of code correctly so the program first prompts the user to 'Enter your name:', takes the user's input, construct a greeting message by concatenating 'Hello, ' and the user's name, and finally prints the greeting message to the standard output."
   ]
  },
  {
   "metadata": {},
   "cell_type": "code",
   "outputs": [],
   "execution_count": null,
   "source": [
    "val scanner = Scanner(System.`in`)\n",
    "print(\"Enter your name: \")\n",
    "val name = scanner.nextLine()\n",
    "val greeting = \"Hello, $name\"\n",
    "println(greeting)"
   ]
  },
  {
   "metadata": {},
   "cell_type": "markdown",
   "source": ""
  },
  {
   "metadata": {},
   "cell_type": "markdown",
   "source": ""
  },
  {
   "metadata": {},
   "cell_type": "markdown",
   "source": [
    "**Echoes of Daily Echoes: A Weekly Reflection**\n",
    "\n",
    "You have a string variable for your daily activities that needs to be repeated for a whole week and then printed. Fill in the blanks in the code to set the type of the variable to a string, repeat your daily activities 7 times, and finally, use the right function to output the entire week's routine."
   ]
  },
  {
   "metadata": {
    "ExecuteTime": {
     "end_time": "2025-06-13T11:27:45.331913700Z",
     "start_time": "2025-06-13T11:27:45.292409300Z"
    }
   },
   "cell_type": "code",
   "source": [
    "val dailyRoutine = \"Wake up. Exercise. Breakfast.\\n\"\n",
    "val weeklyRoutine = dailyRoutine.repeat(7)\n",
    "println(weeklyRoutine)"
   ],
   "outputs": [
    {
     "name": "stdout",
     "output_type": "stream",
     "text": [
      "Wake up. Exercise. Breakfast.\n",
      "Wake up. Exercise. Breakfast.\n",
      "Wake up. Exercise. Breakfast.\n",
      "Wake up. Exercise. Breakfast.\n",
      "Wake up. Exercise. Breakfast.\n",
      "Wake up. Exercise. Breakfast.\n",
      "Wake up. Exercise. Breakfast.\n",
      "\r\n"
     ]
    }
   ],
   "execution_count": 8
  },
  {
   "metadata": {},
   "cell_type": "markdown",
   "source": ""
  },
  {
   "metadata": {},
   "cell_type": "markdown",
   "source": ""
  },
  {
   "metadata": {},
   "cell_type": "markdown",
   "source": [
    "**JSON**\n",
    "\n",
    "JSON is a format for storing data. Below is an example of a simple JSON representation for a person. Let's practice a bit! Write a program that prints this exact representation.\n",
    "\n",
    "{\n",
    "    \"firstName\": \"John\",\n",
    "    \"lastName\": \"Smith\",\n",
    "    \"age\": 35,\n",
    "    \"phoneNumbers\": [\n",
    "        {\n",
    "            \"type\": \"mobile\",\n",
    "            \"number\": \"123 567-7890\"\n",
    "        }\n",
    "    ]\n",
    "}\n",
    "\n",
    "Remember, you only need to print the text, pay attention to the indentation.\n",
    "Sample Input 1:\n",
    "\n",
    "Sample Output 1:\n",
    "\n",
    "{\n",
    "    \"firstName\": \"John\",\n",
    "    \"lastName\": \"Smith\",\n",
    "    \"age\": 35,\n",
    "    \"phoneNumbers\": [\n",
    "        {\n",
    "            \"type\": \"mobile\",\n",
    "            \"number\": \"123 567-7890\"\n",
    "        }\n",
    "    ]\n",
    "}"
   ]
  },
  {
   "metadata": {
    "ExecuteTime": {
     "end_time": "2025-06-13T11:29:47.283635600Z",
     "start_time": "2025-06-13T11:29:47.244405100Z"
    }
   },
   "cell_type": "code",
   "source": [
    "println(\"\"\"\n",
    "        {\n",
    "            \"firstName\": \"John\",\n",
    "            \"lastName\": \"Smith\",\n",
    "            \"age\": 35,\n",
    "            \"phoneNumbers\": [\n",
    "                {\n",
    "                    \"type\": \"mobile\",\n",
    "                    \"number\": \"123 567-7890\"\n",
    "                }\n",
    "            ]\n",
    "        }\n",
    "    \"\"\".trimIndent())"
   ],
   "outputs": [
    {
     "name": "stdout",
     "output_type": "stream",
     "text": [
      "{\n",
      "    \"firstName\": \"John\",\n",
      "    \"lastName\": \"Smith\",\n",
      "    \"age\": 35,\n",
      "    \"phoneNumbers\": [\n",
      "        {\n",
      "            \"type\": \"mobile\",\n",
      "            \"number\": \"123 567-7890\"\n",
      "        }\n",
      "    ]\n",
      "}\r\n"
     ]
    }
   ],
   "execution_count": 9
  }
 ],
 "metadata": {
  "kernelspec": {
   "display_name": "Kotlin",
   "language": "kotlin",
   "name": "kotlin"
  },
  "language_info": {
   "name": "kotlin",
   "version": "1.9.23",
   "mimetype": "text/x-kotlin",
   "file_extension": ".kt",
   "pygments_lexer": "kotlin",
   "codemirror_mode": "text/x-kotlin",
   "nbconvert_exporter": ""
  }
 },
 "nbformat": 4,
 "nbformat_minor": 0
}
