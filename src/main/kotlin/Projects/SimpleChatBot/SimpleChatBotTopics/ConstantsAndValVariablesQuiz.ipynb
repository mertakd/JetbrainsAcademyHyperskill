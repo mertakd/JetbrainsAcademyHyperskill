{
 "cells": [
  {
   "cell_type": "code",
   "execution_count": null,
   "metadata": {
    "collapsed": true
   },
   "outputs": [],
   "source": [
    ""
   ]
  },
  {
   "metadata": {},
   "cell_type": "markdown",
   "source": [
    "**Creating and printing a double value of an integer input**\n",
    "\n",
    "In Kotlin, write a code snippet that takes a single integer as input and creates a read-only (val) variable that equals twice of the input. The program should then print the value of that variable.\n",
    "\n",
    "Sample Input 1:\n",
    "\n",
    "2\n",
    "\n",
    "Sample Output 1:\n",
    "\n",
    "4\n",
    "\n",
    "Sample Input 2:\n",
    "\n",
    "7\n",
    "\n",
    "Sample Output 2:\n",
    "\n",
    "14\n"
   ]
  },
  {
   "metadata": {},
   "cell_type": "code",
   "outputs": [],
   "execution_count": null,
   "source": [
    "/* The program reads an integer from the input.\n",
    "     * Input a single integer.\n",
    "     */\n",
    "val x = readLine()!!.toInt()\n",
    "\n",
    "// Create a read-only (val) variable that equals twice of the input\n",
    "// Your code here\n",
    "val daubled = x * 2\n",
    "// Print the value of the variable\n",
    "// Your code here\n",
    "println(daubled)"
   ]
  },
  {
   "metadata": {},
   "cell_type": "code",
   "outputs": [],
   "execution_count": null,
   "source": [
    "\n",
    "\n",
    "\n",
    "\n",
    "\n",
    "\n",
    "\n",
    "\n",
    "\n"
   ]
  },
  {
   "metadata": {},
   "cell_type": "markdown",
   "source": [
    "_**What is the error?**_\n",
    "\n",
    "Look at this code. When we run the program, it throws an error.\n",
    "\n",
    "fun main() {\n",
    "    const val CONST = 3_000\n",
    "    val numberLists = mutableListOf(1, 2, 3, 4, 5)\n",
    "    numberLists.add(CONST)\n",
    "    println(numberLists)\n",
    "}\n",
    "\n",
    "Please select the correct kind of the thrown error.\n",
    "\n",
    "Don't think about the cycle in this question, think about the topic you've learned.\n",
    "\n",
    "Select one option from the list\n",
    "\n",
    "\n",
    "Val cannot be reassigned         T\n",
    "\n",
    "ArrayIndexOutOfBoundsException\n",
    "\n",
    "CONST cannot be reassigned\n",
    "\n",
    "Unresolved reference: CONST"
   ]
  },
  {
   "metadata": {},
   "cell_type": "code",
   "outputs": [],
   "execution_count": null,
   "source": [
    "\n",
    "\n",
    "\n",
    "\n",
    "\n",
    "\n",
    "\n",
    "\n",
    "\n"
   ]
  },
  {
   "metadata": {},
   "cell_type": "markdown",
   "source": [
    "**Why does the code work?**\n",
    "\n",
    "Suppose we have a val variable myList and want to get rid of some of the list elements using the remove function:\n",
    "\n",
    "val myList = mutableListOf(1, 2, 3, 4, 5)\n",
    "myList.remove(3)\n",
    "\n",
    "Why does this code work correctly?\n",
    "\n",
    "\n",
    "The val keyword allows changing the value of a variable once.\n",
    "\n",
    "The val keyword does not prohibit changing the internal state of the list, it only prohibits reassigning the variable.         T\n",
    "\n",
    "The val keyword does not work with lists.\n",
    "\n",
    "This is a lie – the code does not work at all!\n"
   ]
  },
  {
   "metadata": {},
   "cell_type": "code",
   "outputs": [],
   "execution_count": null,
   "source": [
    "\n",
    "\n",
    "\n",
    "\n",
    "\n",
    "\n",
    "\n",
    "\n"
   ]
  },
  {
   "metadata": {},
   "cell_type": "markdown",
   "source": [
    "**What are the modifiers?**\n",
    "\n",
    "Match the val and var modifiers with correctly declared variables.\n",
    "\n",
    "Match the items from left and right columns\n",
    "\n",
    "var\n",
    "const val\n",
    "val\n",
    "\n",
    "number = 0\n",
    "number = number1 + NUMBER_2\n",
    "NUMBER_2 = 321\n",
    "number1 = 123"
   ]
  },
  {
   "metadata": {
    "ExecuteTime": {
     "end_time": "2025-06-15T17:01:25.484022800Z",
     "start_time": "2025-06-15T17:01:25.374950800Z"
    }
   },
   "cell_type": "code",
   "source": [
    "\n",
    "\n",
    "\n",
    "\n",
    "\n",
    "\n",
    "\n",
    "\n",
    "\n"
   ],
   "outputs": [
    {
     "name": "stdout",
     "output_type": "stream",
     "text": [
      "2000\r\n"
     ]
    }
   ],
   "execution_count": 1
  },
  {
   "metadata": {},
   "cell_type": "markdown",
   "source": [
    "**Number of apples**\n",
    "\n",
    "What does the following code print?\n",
    "\n",
    "val numberOfOranges = 1000\n",
    "var numberOfApples = numberOfOranges\n",
    "numberOfApples = 2000\n",
    "println(numberOfApples)\n",
    "\n",
    "Write the result of the output.\n",
    "2000\n"
   ]
  },
  {
   "metadata": {},
   "cell_type": "markdown",
   "source": ""
  },
  {
   "metadata": {},
   "cell_type": "code",
   "outputs": [],
   "execution_count": null,
   "source": [
    "\n",
    "\n",
    "\n",
    "\n",
    "\n",
    "\n",
    "\n",
    "\n",
    "\n"
   ]
  },
  {
   "metadata": {},
   "cell_type": "markdown",
   "source": [
    "**What is the result?**\n",
    "\n",
    "Take a look at this code snippet:\n",
    "\n",
    "const val CONST = 3\n",
    "fun main() {\n",
    "    val numberLists = mutableListOf<Int>()\n",
    "\n",
    "    numberLists.add(CONST * CONST)\n",
    "    numberLists.add(CONST * 2)\n",
    "    numberLists.add(CONST * 1)\n",
    "\n",
    "    numberLists = mutableListOf<Int>()\n",
    "\n",
    "    numberLists.add(CONST * 1)\n",
    "    numberLists.add(CONST * 2)\n",
    "    numberLists.add(CONST * CONST)\n",
    "\n",
    "    println(numberLists.size)\n",
    "}\n",
    "\n",
    "What will the program print to the console?\n",
    "Please select the correct variant.\n",
    "\n",
    "0\n",
    "\n",
    "3\n",
    "\n",
    "Nothing. Compile time error.       T\n",
    "\n",
    "6\n",
    "\n",
    "Nothing. Runtime error."
   ]
  },
  {
   "metadata": {},
   "cell_type": "code",
   "outputs": [],
   "execution_count": null,
   "source": [
    "\n",
    "\n",
    "\n",
    "\n",
    "\n",
    "\n",
    "\n",
    "\n",
    "\n",
    "\n"
   ]
  },
  {
   "metadata": {},
   "cell_type": "markdown",
   "source": [
    "**Correct the error**\n",
    "\n",
    "We wrote a program, but it doesn't work.\n",
    "Please correct the error in the code.\n",
    "The program must print [10000, 1000000, 100000000].\n",
    "\n",
    "`const val CONST = 100\n",
    "\n",
    "fun main() {\n",
    "    val listNumber = mutableListOf<Int>()\n",
    "    listNumber.add(CONST * CONST)\n",
    "    listNumber.add(CONST * CONST * CONST)\n",
    "    listNumber.add(CONST * CONST * CONST * CONST)\n",
    "    println(listNumber)\n",
    "}`"
   ]
  },
  {
   "metadata": {},
   "cell_type": "code",
   "outputs": [],
   "execution_count": null,
   "source": [
    "\n",
    "\n",
    "\n",
    "\n",
    "\n",
    "\n",
    "\n",
    "\n",
    "\n"
   ]
  },
  {
   "metadata": {},
   "cell_type": "markdown",
   "source": [
    "**Creating a constant**\n",
    "\n",
    "How do you mark a variable whose value cannot be reassigned?\n",
    "\n",
    "Select one option from the list\n",
    "\n",
    "Write its name in all caps.\n",
    "\n",
    "Assign a special value to it.\n",
    "\n",
    "Declare it with the val keyword.     T\n",
    "\n",
    "Declare it with the var keyword."
   ]
  },
  {
   "metadata": {},
   "cell_type": "code",
   "outputs": [],
   "execution_count": null,
   "source": [
    "\n",
    "\n",
    "\n",
    "\n",
    "\n",
    "\n",
    "\n",
    "\n",
    "\n"
   ]
  },
  {
   "metadata": {},
   "cell_type": "markdown",
   "source": [
    "**Zero, one, or more**\n",
    "\n",
    "How many times can the value of a val variable be assigned before using it?\n",
    "\n",
    "Select one option from the list\n",
    "\n",
    "from zero to one\n",
    "\n",
    "zero or more times\n",
    "\n",
    "exactly one        T\n",
    "\n",
    "one or more times"
   ]
  },
  {
   "metadata": {},
   "cell_type": "code",
   "outputs": [],
   "execution_count": null,
   "source": [
    "\n",
    "\n",
    "\n",
    "\n",
    "\n",
    "\n",
    "\n",
    "\n",
    "\n"
   ]
  },
  {
   "metadata": {},
   "cell_type": "code",
   "outputs": [],
   "execution_count": null,
   "source": ""
  },
  {
   "metadata": {},
   "cell_type": "markdown",
   "source": [
    "**Almost val variables**\n",
    "\n",
    "Select all variables which can be declared with val without causing compile errors.\n",
    "\n",
    "var MSG = \"Hello\"\n",
    "var greeting = \"$MSG, world!\"\n",
    "greeting = \"Hello, John!\"\n",
    "var hello = greeting + MSG\n",
    "\n",
    "Select one or more options from the list\n",
    "\n",
    "MSG     T\n",
    "\n",
    "greeting\n",
    "\n",
    "hello   T"
   ]
  },
  {
   "metadata": {},
   "cell_type": "markdown",
   "source": ""
  },
  {
   "metadata": {},
   "cell_type": "code",
   "outputs": [],
   "execution_count": null,
   "source": [
    "\n",
    "\n",
    "\n",
    "\n",
    "\n",
    "\n",
    "\n",
    "\n",
    "\n"
   ]
  },
  {
   "metadata": {},
   "cell_type": "markdown",
   "source": [
    "**Erroneous lines**\n",
    "\n",
    "Suppose you have a non-initialized val variable.\n",
    "\n",
    "val applesCount: Int\n",
    "\n",
    "Which of the following code blocks will cause an error?\n",
    "\n",
    "Note that one of the options has two lines of code.\n",
    "\n",
    "Select one or more options from the list\n",
    "\n",
    "Code:\n",
    "println(applesCount)        T\n",
    "\n",
    "Code:\n",
    "applesCount = 30\n",
    "\n",
    "Code:                        T\n",
    "applesCount = 40\n",
    "applesCount = 10"
   ]
  },
  {
   "metadata": {},
   "cell_type": "code",
   "outputs": [],
   "execution_count": null,
   "source": [
    "\n",
    "\n",
    "\n",
    "\n",
    "\n",
    "\n",
    "\n",
    "\n",
    "\n"
   ]
  },
  {
   "metadata": {},
   "cell_type": "markdown",
   "source": [
    "**Thermometer tango: Dance of degrees**\n",
    "\n",
    "Create a Kotlin program that converts Celsius to Fahrenheit temperature. Fill the blanks in the code to define a constant for the water freezing point and complete the conversion formula. Make sure to handle user input and display the result.\n",
    "\n",
    "Fill in the gaps with the relevant elements\n",
    "`const val WATER_FREEZING_POINT = 0\n",
    "fun main() {\n",
    "    println(\"Enter temperature in Celsius:\")\n",
    "    val celsiusTemp = readLine()?.toDoubleOrNull() ?: return\n",
    "    val fahrenheitTemp = (celsiusTemp * 9 / 5) + 32\n",
    "    println(\"Temperature in Fahrenheit: $fahrenheitTemp°F\\n\")\n",
    "}`"
   ]
  },
  {
   "metadata": {},
   "cell_type": "code",
   "outputs": [],
   "execution_count": null,
   "source": [
    "\n",
    "\n",
    "\n",
    "\n",
    "\n",
    "\n",
    "\n",
    "\n",
    "\n"
   ]
  },
  {
   "metadata": {},
   "cell_type": "markdown",
   "source": [
    "**Server secrets: The constants conundrum**\n",
    "\n",
    "You need to complete the code to set up server configuration constants. Fill in the blanks to create three constants: SERVER_PORT, DATABASE_URL, and MAX_POOL_SIZE. Use the printConfig() function to check if your constants are correctly defined.\n",
    "\n",
    "Fill in the gaps with the relevant elements\n",
    "\n",
    "const val SERVER_PORT = 8080\n",
    "const val DATABASE_URL = \"jdbc\"\n",
    "const val MAX_POOL_SIZE = 100\n",
    "\n",
    "fun printConfig() {\n",
    "    println(\"Server Port: $SERVER_PORT\")\n",
    "    println(\"Database URL: $DATABASE_URL\")\n",
    "    println(\"Max Pool Size: $MAX_POOL_SIZE\")\n",
    "}"
   ]
  },
  {
   "metadata": {},
   "cell_type": "code",
   "outputs": [],
   "execution_count": null,
   "source": [
    "\n",
    "\n",
    "\n",
    "\n",
    "\n",
    "\n",
    "\n",
    "\n",
    "\n"
   ]
  },
  {
   "metadata": {},
   "cell_type": "markdown",
   "source": [
    "**Calculating the cube of a user-specified integer**\n",
    "\n",
    "Write a Kotlin program that takes an integer input from the user and then calculates the cube of that number. This calculation should be stored in a val variable and the program should print the cube of given number. Assume that the number is always a positive integer.\n",
    "\n",
    "Sample Input 1:\n",
    "\n",
    "4\n",
    "\n",
    "Sample Output 1:\n",
    "\n",
    "64\n",
    "\n",
    "Sample Input 2:\n",
    "\n",
    "2\n",
    "\n",
    "Sample Output 2:\n",
    "\n",
    "8"
   ]
  },
  {
   "metadata": {
    "ExecuteTime": {
     "end_time": "2025-06-15T17:21:30.500440800Z",
     "start_time": "2025-06-15T17:21:26.451083900Z"
    }
   },
   "cell_type": "code",
   "source": [
    "import java.util.Scanner\n",
    "\n",
    "val scanner = Scanner(System.`in`)\n",
    "\n",
    "// Kullanıcıdan girdi al\n",
    "val userInput = scanner.nextInt()\n",
    "\n",
    "// Küpünü hesapla (bir val değişkende sakla)\n",
    "val cube = userInput * userInput * userInput\n",
    "\n",
    "// Sonucu yazdır\n",
    "println(cube)"
   ],
   "outputs": [
    {
     "name": "stdout",
     "output_type": "stream",
     "text": [
      "8\r\n"
     ]
    }
   ],
   "execution_count": 3
  },
  {
   "metadata": {
    "ExecuteTime": {
     "end_time": "2025-06-15T17:22:27.987776600Z",
     "start_time": "2025-06-15T17:22:25.365166100Z"
    }
   },
   "cell_type": "code",
   "source": [
    "val scanner = Scanner(System.`in`)\n",
    "\n",
    "// Get user input\n",
    "val userInput = scanner.nextInt()\n",
    "\n",
    "// Calculate the cube of userInput\n",
    "val cube = userInput.toDouble().pow(3).toInt()\n",
    "// Print the result\n",
    "println(cube)\n"
   ],
   "outputs": [
    {
     "name": "stdout",
     "output_type": "stream",
     "text": [
      "8\r\n"
     ]
    }
   ],
   "execution_count": 4
  },
  {
   "metadata": {},
   "cell_type": "code",
   "outputs": [],
   "execution_count": null,
   "source": [
    "\n",
    "\n",
    "\n",
    "\n",
    "\n",
    "\n",
    "\n",
    "\n",
    "\n",
    "\n"
   ]
  },
  {
   "metadata": {},
   "cell_type": "markdown",
   "source": [
    "**Decoding the declaration dance**\n",
    "\n",
    "Match the Kotlin variable declarations with their appropriate use cases.\n",
    "\n",
    "Match the items from left and right columns\n",
    "\n",
    "val\n",
    "var\n",
    "const val\n",
    "val (inside a function)\n",
    "val (at class level)\n",
    "\n",
    "Read-only variable that can be assigned once\n",
    "Mutable variable that can be reassigned\n",
    "Compile-time constant known at compile time\n",
    "Local read-only variable with limited scope\n",
    "Property that can have custom getter\n"
   ]
  }
 ],
 "metadata": {
  "kernelspec": {
   "display_name": "Kotlin",
   "language": "kotlin",
   "name": "kotlin"
  },
  "language_info": {
   "name": "kotlin",
   "version": "1.9.23",
   "mimetype": "text/x-kotlin",
   "file_extension": ".kt",
   "pygments_lexer": "kotlin",
   "codemirror_mode": "text/x-kotlin",
   "nbconvert_exporter": ""
  }
 },
 "nbformat": 4,
 "nbformat_minor": 0
}
