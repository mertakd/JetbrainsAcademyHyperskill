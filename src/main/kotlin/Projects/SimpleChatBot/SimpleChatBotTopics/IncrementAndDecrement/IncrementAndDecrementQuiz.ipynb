{
 "cells": [
  {
   "cell_type": "code",
   "execution_count": null,
   "metadata": {
    "collapsed": true
   },
   "outputs": [],
   "source": [
    ""
   ]
  },
  {
   "metadata": {},
   "cell_type": "markdown",
   "source": [
    "**What is the result**\n",
    "\n",
    "Consider the following code:\n",
    "\n",
    "var a = 1\n",
    "println(a++ * a)\n",
    "\n",
    "What would be the result?\n",
    "2"
   ]
  },
  {
   "metadata": {},
   "cell_type": "code",
   "outputs": [],
   "execution_count": null,
   "source": [
    "\n",
    "\n",
    "\n",
    "\n",
    "\n",
    "\n",
    "\n",
    "\n",
    "\n"
   ]
  },
  {
   "metadata": {},
   "cell_type": "markdown",
   "source": [
    "**Find the number**\n",
    "\n",
    "Consider the following code:\n",
    "\n",
    "val a = 3\n",
    "var b = 6\n",
    "val c = (a - 2) * ++b\n",
    "print(c)\n",
    "\n",
    "What is the value of the variable c?\n",
    "\n",
    "Select one option from the list\n",
    "\n",
    "5\n",
    "\n",
    "7        t\n",
    "\n",
    "-7\n",
    "\n",
    "-9\n",
    "\n",
    "6"
   ]
  },
  {
   "metadata": {},
   "cell_type": "code",
   "outputs": [],
   "execution_count": null,
   "source": [
    "\n",
    "\n",
    "\n",
    "\n",
    "\n",
    "\n",
    "\n",
    "\n",
    "\n"
   ]
  },
  {
   "metadata": {},
   "cell_type": "markdown",
   "source": [
    "**At the same time**\n",
    "\n",
    "Consider the code snippet below. What will it print?\n",
    "\n",
    "var a = 10\n",
    "println(--a++)\n",
    "\n",
    "Select one option from the list\n",
    "\n",
    "10\n",
    "\n",
    "It won't compile        t\n",
    "\n",
    "9\n",
    "\n",
    "-1"
   ]
  },
  {
   "metadata": {},
   "cell_type": "code",
   "outputs": [],
   "execution_count": null,
   "source": [
    "\n",
    "\n",
    "\n",
    "\n",
    "\n",
    "\n",
    "\n",
    "\n",
    "\n"
   ]
  },
  {
   "metadata": {},
   "cell_type": "markdown",
   "source": [
    "**Value of b**\n",
    "\n",
    "Find the value of b in the following code snippet:\n",
    "\n",
    "fun main() {\n",
    "   var a = 5\n",
    "   var b = ...\n",
    "   val c = a++ * 1 - b--\n",
    "   println(c)\n",
    "}\n",
    "\n",
    "Output: -4\n",
    "\n",
    "Select one option from the list\n",
    "\n",
    "10\n",
    "\n",
    "7\n",
    "\n",
    "8\n",
    "\n",
    "9            t\n",
    "\n",
    "6"
   ]
  },
  {
   "metadata": {},
   "cell_type": "code",
   "outputs": [],
   "execution_count": null,
   "source": [
    "\n",
    "\n",
    "\n",
    "\n",
    "\n",
    "\n",
    "\n",
    "\n",
    "\n"
   ]
  },
  {
   "metadata": {},
   "cell_type": "markdown",
   "source": [
    "**Valid variable**\n",
    "\n",
    "Choose all valid ways to subtract one from the variable а. The operation must change the value stored in this variable.\n",
    "\n",
    "Select one or more options from the list\n",
    "\n",
    "\n",
    "1-=a\n",
    "\n",
    "a--       t\n",
    "\n",
    "--a       t\n",
    "\n",
    "-a\n",
    "\n",
    "a-=1       t\n",
    "\n",
    "a-"
   ]
  },
  {
   "metadata": {},
   "cell_type": "code",
   "outputs": [],
   "execution_count": null,
   "source": [
    "\n",
    "\n",
    "\n",
    "\n",
    "\n",
    "\n",
    "\n",
    "\n",
    "\n"
   ]
  },
  {
   "metadata": {},
   "cell_type": "markdown",
   "source": [
    "**Priority task**\n",
    "\n",
    "What will the code below print?\n",
    "\n",
    "var num = 0\n",
    "num = num++\n",
    "println(num)\n",
    "\n",
    "Enter a number\n",
    "0"
   ]
  },
  {
   "metadata": {},
   "cell_type": "code",
   "outputs": [],
   "execution_count": null,
   "source": [
    "\n",
    "\n",
    "\n",
    "\n",
    "\n",
    "\n",
    "\n",
    "\n",
    "\n"
   ]
  },
  {
   "metadata": {},
   "cell_type": "markdown",
   "source": [
    "**Counting chaos and the final tally**\n",
    "\n",
    "What will be the final count after incrementing and decrementing the initial value? Fill the blanks in the code to declare the variable and print the result.\n",
    "\n",
    "Fill in the gaps with the relevant elements"
   ]
  },
  {
   "metadata": {
    "ExecuteTime": {
     "end_time": "2025-06-21T19:25:36.457021200Z",
     "start_time": "2025-06-21T19:25:36.271054700Z"
    }
   },
   "cell_type": "code",
   "source": [
    "var count = 10\n",
    "count += 1\n",
    "count -= 2\n",
    "println(\"Final count: $count\")"
   ],
   "outputs": [
    {
     "name": "stdout",
     "output_type": "stream",
     "text": [
      "Final count: 9\r\n"
     ]
    }
   ],
   "execution_count": 1
  },
  {
   "metadata": {},
   "cell_type": "code",
   "outputs": [],
   "execution_count": null,
   "source": [
    "\n",
    "\n",
    "\n",
    "\n",
    "\n",
    "\n",
    "\n",
    "\n",
    "\n"
   ]
  },
  {
   "metadata": {},
   "cell_type": "markdown",
   "source": [
    "**Computing an arithmetic operation and printing the result**\n",
    "\n",
    "In Kotlin, you need to compute the result of a mathematical operation involving two variables. You are given the values of two variables at initialization and an arithmetic operation that increases the value of one of the variables by 1, then multiplies it by 2. Your task is to reorder the lines of provided code in a way that performs this operation and prints the result to the console."
   ]
  },
  {
   "metadata": {},
   "cell_type": "code",
   "outputs": [],
   "execution_count": null,
   "source": [
    "var x = 5\n",
    "x++\n",
    "val y = x * 2\n",
    "println(\"Result: $y\")"
   ]
  },
  {
   "metadata": {},
   "cell_type": "code",
   "outputs": [],
   "execution_count": null,
   "source": [
    "\n",
    "\n",
    "\n",
    "\n",
    "\n",
    "\n",
    "\n",
    "\n",
    "\n"
   ]
  },
  {
   "metadata": {},
   "cell_type": "markdown",
   "source": [
    "**Calculate the number**\n",
    "\n",
    "What does the code below print?\n",
    "\n",
    "var a = 1\n",
    "++a\n",
    "a--\n",
    "a++\n",
    "println(a--)\n",
    "\n",
    "Enter the result in the answer box.\n",
    "2"
   ]
  },
  {
   "metadata": {},
   "cell_type": "code",
   "outputs": [],
   "execution_count": null,
   "source": [
    "\n",
    "\n",
    "\n",
    "\n",
    "\n",
    "\n",
    "\n",
    "\n",
    "\n"
   ]
  },
  {
   "metadata": {},
   "cell_type": "markdown",
   "source": [
    "**Increment, then decrement an integer**\n",
    "\n",
    "Write a program that reads an integer N and prints the result of incrementing N by 1 and then decrementing the result by 2.\n",
    "\n",
    "Sample Input 1:\n",
    "\n",
    "5\n",
    "\n",
    "Sample Output 1:\n",
    "\n",
    "4\n",
    "\n",
    "Sample Input 2:\n",
    "\n",
    "10\n",
    "\n",
    "Sample Output 2:\n",
    "\n",
    "9\n"
   ]
  },
  {
   "metadata": {
    "ExecuteTime": {
     "end_time": "2025-06-21T19:35:37.655059100Z",
     "start_time": "2025-06-21T19:35:34.245927900Z"
    }
   },
   "cell_type": "code",
   "source": [
    "// import required to read input from stdin\n",
    "import java.util.Scanner\n",
    "\n",
    "\n",
    "    val scanner = Scanner(System.`in`)\n",
    "    // Read the input integer\n",
    "    var N = scanner.nextInt()\n",
    "\n",
    "    // Increment N by 1\n",
    "    N += 1\n",
    "\n",
    "    // Decrement the result by 2\n",
    "    N -= 2\n",
    "\n",
    "    // Print the final result\n",
    "    println(N)\n",
    "\n"
   ],
   "outputs": [
    {
     "name": "stdout",
     "output_type": "stream",
     "text": [
      "4\r\n"
     ]
    }
   ],
   "execution_count": 14
  },
  {
   "metadata": {},
   "cell_type": "code",
   "outputs": [],
   "execution_count": null,
   "source": [
    "\n",
    "\n",
    "\n",
    "\n",
    "\n",
    "\n",
    "\n",
    "\n",
    "\n"
   ]
  },
  {
   "metadata": {},
   "cell_type": "markdown",
   "source": [
    "Consider the code snippet below. What will it print?\n",
    "\n",
    "var num = 0\n",
    "println(num++ + ++num)\n",
    "\n",
    "Enter a number\n",
    "2\n",
    "🎉 Correct\n",
    "Seems like you've got all the theory down, way to go!\n",
    "(num = 0) num++ + ++num\n",
    "(num = 1) 0 + ++num\n",
    "(num = 2) 0 + 2"
   ]
  },
  {
   "metadata": {},
   "cell_type": "code",
   "outputs": [],
   "execution_count": null,
   "source": [
    "\n",
    "\n",
    "\n",
    "\n",
    "\n",
    "\n",
    "\n",
    "\n",
    "\n"
   ]
  },
  {
   "metadata": {},
   "cell_type": "markdown",
   "source": ""
  }
 ],
 "metadata": {
  "kernelspec": {
   "display_name": "Kotlin",
   "language": "kotlin",
   "name": "kotlin"
  },
  "language_info": {
   "name": "kotlin",
   "version": "1.9.23",
   "mimetype": "text/x-kotlin",
   "file_extension": ".kt",
   "pygments_lexer": "kotlin",
   "codemirror_mode": "text/x-kotlin",
   "nbconvert_exporter": ""
  }
 },
 "nbformat": 4,
 "nbformat_minor": 0
}
