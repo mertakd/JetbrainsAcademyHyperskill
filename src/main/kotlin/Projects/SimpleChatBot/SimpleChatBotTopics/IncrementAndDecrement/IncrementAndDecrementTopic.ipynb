{
 "cells": [
  {
   "cell_type": "code",
   "execution_count": null,
   "metadata": {
    "collapsed": true
   },
   "outputs": [],
   "source": [
    ""
   ]
  },
  {
   "metadata": {},
   "cell_type": "markdown",
   "source": [
    "\n",
    "\n",
    "---\n",
    "\n",
    "## ✅ **Kotlin'de Artırma, Azaltma ve Atama Operatörleri – Özet**\n",
    "\n",
    "---\n",
    "\n",
    "### 🔢 **1. Kısa Atama (Compound Assignment) Operatörleri**\n",
    "\n",
    "Uzun yazmak yerine daha kısa yolla işlem yapılabilir:\n",
    "\n",
    "| Uzun Hali   | Kısa Hali |\n",
    "| ----------- | --------- |\n",
    "| `a = a + b` | `a += b`  |\n",
    "| `a = a - b` | `a -= b`  |\n",
    "| `a = a * b` | `a *= b`  |\n",
    "| `a = a / b` | `a /= b`  |\n",
    "| `a = a % b` | `a %= b`  |\n",
    "\n",
    "🔸 Bu operatörler sadece **önceden tanımlanmış değişkenlerde** kullanılabilir.\n",
    "\n",
    "---\n",
    "\n",
    "### 🔼🔽 **2. Artırma ve Azaltma (Increment / Decrement)**\n",
    "\n",
    "* `++` → değeri **1 artırır**\n",
    "* `--` → değeri **1 azaltır**\n",
    "\n",
    "```kotlin\n",
    "var x = 3\n",
    "x++  // 4\n",
    "x--  // 3\n",
    "```\n",
    "\n",
    "---\n",
    "\n",
    "### ⏱ **3. Prefix vs Postfix**\n",
    "\n",
    "| Tür         | Örnek | Ne Zaman Değişir?    | Örnek Değer        |\n",
    "| ----------- | ----- | -------------------- | ------------------ |\n",
    "| **Prefix**  | `++a` | Kullanılmadan önce   | `a = 11`, `b = 11` |\n",
    "| **Postfix** | `a++` | Kullanıldıktan sonra | `a = 11`, `b = 10` |\n",
    "\n",
    "---\n",
    "\n",
    "### 📐 **4. İşlem Önceliği (Önemli!)**\n",
    "\n",
    "İşlemler şu sırayla çalışır (öncelikten düşüğe):\n",
    "\n",
    "1. **Parantez** `()`\n",
    "2. **Postfix** `a++`, `a--`\n",
    "3. **Prefix** `++a`, `--a`, `-a`\n",
    "4. **Çarpma, Bölme, Mod** `* / %`\n",
    "5. **Toplama, Çıkarma** `+ -`\n",
    "6. **Atama** `=, +=, -=` vs.\n",
    "\n",
    "#### 📌 Örnek:\n",
    "\n",
    "```kotlin\n",
    "val c = a + 4 * --b  // --b önce çalışır\n",
    "```\n",
    "\n",
    "---\n",
    "\n",
    "### 🧠 **Sonuç:**\n",
    "\n",
    "* Kodunu **daha kısa ve okunabilir** yapmak için `+=`, `++`, `--` gibi yapılar kullan.\n",
    "* Prefix `++a`: önce artırır, sonra kullanır.\n",
    "* Postfix `a++`: önce kullanır, sonra artırır.\n",
    "* İşlem öncelik sırasına dikkat et, gerekirse parantez kullan.\n",
    "\n",
    "---\n",
    "\n",
    "\n"
   ]
  },
  {
   "metadata": {},
   "cell_type": "markdown",
   "source": ""
  },
  {
   "metadata": {},
   "cell_type": "markdown",
   "source": ""
  }
 ],
 "metadata": {
  "kernelspec": {
   "display_name": "Kotlin",
   "language": "kotlin",
   "name": "kotlin"
  },
  "language_info": {
   "name": "kotlin",
   "version": "1.9.23",
   "mimetype": "text/x-kotlin",
   "file_extension": ".kt",
   "pygments_lexer": "kotlin",
   "codemirror_mode": "text/x-kotlin",
   "nbconvert_exporter": ""
  }
 },
 "nbformat": 4,
 "nbformat_minor": 0
}
