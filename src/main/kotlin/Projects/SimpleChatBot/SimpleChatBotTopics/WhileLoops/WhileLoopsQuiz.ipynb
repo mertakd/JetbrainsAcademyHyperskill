{
 "cells": [
  {
   "cell_type": "code",
   "execution_count": null,
   "metadata": {
    "collapsed": true
   },
   "outputs": [],
   "source": [
    ""
   ]
  },
  {
   "metadata": {},
   "cell_type": "markdown",
   "source": [
    "**Choose the correct ones**\n",
    "\n",
    "Select all loops with the correct syntax.\n",
    "\n",
    "\n",
    "a)\n",
    "\n",
    "var i = 3\n",
    "while (i > 0) {\n",
    "    println(i)\n",
    "    i--\n",
    "}\n",
    "println(\"Completed\")\n",
    "\n",
    "\n",
    "b)\n",
    "\n",
    "var i = 3\n",
    "while (i > 0) {\n",
    "    println(i)\n",
    "    i--\n",
    "} else {\n",
    "    println(\"Completed\")\n",
    "}\n",
    "\n",
    "\n",
    "c)\n",
    "\n",
    "var i = 3\n",
    "do {\n",
    "    println(i)\n",
    "    i--\n",
    "} while(i > 3)\n",
    "\n",
    "\n",
    "d)\n",
    "\n",
    "var i = 3\n",
    "while (i > 3) do {\n",
    "    println(i)\n",
    "    i--\n",
    "}\n",
    "println(\"Completed\")\n",
    "\n",
    "\n",
    "a      T\n",
    "\n",
    "b\n",
    "\n",
    "c      T\n",
    "\n",
    "d"
   ]
  },
  {
   "metadata": {},
   "cell_type": "code",
   "outputs": [],
   "execution_count": null,
   "source": [
    "\n",
    "\n",
    "\n",
    "\n",
    "\n",
    "\n",
    "\n",
    "\n",
    "\n",
    "\n"
   ]
  },
  {
   "metadata": {},
   "cell_type": "markdown",
   "source": [
    "**What does the code print?**\n",
    "\n",
    "What does this code print?\n",
    "\n",
    "var i = 5\n",
    "\n",
    "do {\n",
    "    i++\n",
    "    print(\"$i \")\n",
    "    i -= 2\n",
    "} while (i > 1)\n",
    "\n",
    "Select one option from the list\n",
    "\n",
    "5 4 3 2 1\n",
    "\n",
    "6 5 4 3         T\n",
    "\n",
    "5 4 3 2\n",
    "\n",
    "6 5 4 3 2"
   ]
  },
  {
   "metadata": {},
   "cell_type": "code",
   "outputs": [],
   "execution_count": null,
   "source": [
    "\n",
    "\n",
    "\n",
    "\n",
    "\n",
    "\n",
    "\n",
    "\n",
    "\n",
    "\n"
   ]
  },
  {
   "metadata": {},
   "cell_type": "markdown",
   "source": [
    "**What does the code print?**\n",
    "\n",
    "What does this code print?\n",
    "\n",
    "var i = 0\n",
    "while (i < 10) {\n",
    "    i++\n",
    "    if (i % 2 == 0) {\n",
    "        print(\"$i \")\n",
    "    }\n",
    "}\n",
    "\n",
    "Select one option from the list\n",
    "\n",
    "\n",
    "2 4 6 8 10      T\n",
    "\n",
    "0 2 4 6 8 10\n",
    "\n",
    "2 4 6 8\n",
    "\n",
    "0 2 4 6 8"
   ]
  },
  {
   "metadata": {},
   "cell_type": "code",
   "outputs": [],
   "execution_count": null,
   "source": [
    "\n",
    "\n",
    "\n",
    "\n",
    "\n",
    "\n",
    "\n",
    "\n",
    "\n"
   ]
  },
  {
   "metadata": {},
   "cell_type": "markdown",
   "source": [
    "**The largest element**\n",
    "\n",
    "You have a sequence of integer numbers that ends with 0. Find the largest element of this sequence.\n",
    "\n",
    "0 is not included in the sequence. It serves only as a sign of the sequence end.\n",
    "\n",
    "Sample Input 1:\n",
    "\n",
    "1\n",
    "7\n",
    "9\n",
    "0\n",
    "\n",
    "Sample Output 1:\n",
    "\n",
    "9\n",
    "\n",
    "Write a program in Kotlin"
   ]
  },
  {
   "metadata": {},
   "cell_type": "code",
   "outputs": [],
   "execution_count": null,
   "source": [
    "var maxElement = Int.MIN_VALUE\n",
    "var input: Int\n",
    "\n",
    "do{\n",
    "    input = readln().toInt()\n",
    "    if (input != 0 && input > maxElement){\n",
    "        maxElement = input\n",
    "    }\n",
    "}while(input != 0)\n",
    "\n",
    "println(maxElement)"
   ]
  },
  {
   "metadata": {},
   "cell_type": "code",
   "outputs": [],
   "execution_count": null,
   "source": [
    "//sol2\n",
    "var a = 0\n",
    "do {\n",
    "    val b = readln().toInt()\n",
    "    if (b > a) a = b\n",
    "} while (b != 0)\n",
    "println(a)"
   ]
  },
  {
   "metadata": {},
   "cell_type": "code",
   "outputs": [],
   "execution_count": null,
   "source": "print(generateSequence { readLine()!!.toInt() }.takeWhile { it != 0 }.maxOrNull())"
  },
  {
   "metadata": {},
   "cell_type": "code",
   "outputs": [],
   "execution_count": null,
   "source": [
    "import java.util.Scanner\n",
    "\n",
    "val scanner = Scanner(System.`in`)\n",
    "var max = Int.MIN_VALUE\n",
    "do {\n",
    "    val num = scanner.next().toInt()\n",
    "    if (num > max) max = num\n",
    "} while (num != 0)\n",
    "println(max)"
   ]
  },
  {
   "metadata": {},
   "cell_type": "code",
   "outputs": [],
   "execution_count": null,
   "source": [
    "var numArr = emptyArray<Int>()\n",
    "do {\n",
    "    val a = readLine()!!.toInt()\n",
    "    numArr += a\n",
    "} while (a > 0)\n",
    "println(numArr.max())"
   ]
  },
  {
   "metadata": {},
   "cell_type": "code",
   "outputs": [],
   "execution_count": null,
   "source": [
    "\n",
    "\n",
    "\n",
    "\n",
    "\n",
    "\n",
    "\n",
    "\n",
    "\n",
    "\n",
    "\n"
   ]
  },
  {
   "metadata": {},
   "cell_type": "code",
   "outputs": [],
   "execution_count": null,
   "source": ""
  },
  {
   "metadata": {},
   "cell_type": "markdown",
   "source": [
    "**The sum of elements**\n",
    "\n",
    "Find the sum of all elements in a sequence, ending with 0.\n",
    "\n",
    "The number 0 itself is not included in the sequence and serves as a sign that the sequence ended. Although, if you add 0, nothing bad will happen :)\n",
    "\n",
    "Sample Input 1:\n",
    "\n",
    "3\n",
    "6\n",
    "8\n",
    "0\n",
    "\n",
    "Sample Output 1:\n",
    "\n",
    "17"
   ]
  },
  {
   "metadata": {
    "ExecuteTime": {
     "end_time": "2025-08-09T20:12:31.666821600Z",
     "start_time": "2025-08-09T20:12:16.346573400Z"
    }
   },
   "cell_type": "code",
   "source": [
    "var n = 0\n",
    "\n",
    "do{\n",
    "    val s = readln().toInt()\n",
    "    n += s\n",
    "}while(s > 0)\n",
    "\n",
    "println(n)"
   ],
   "outputs": [
    {
     "name": "stdout",
     "output_type": "stream",
     "text": [
      "24"
     ]
    }
   ],
   "execution_count": 2
  },
  {
   "metadata": {},
   "cell_type": "code",
   "outputs": [],
   "execution_count": null,
   "source": [
    "//sol2\n",
    "fun main() {\n",
    "    var sum = 0\n",
    "    var num = readLine()!!.toInt()\n",
    "\n",
    "    while (num != 0) {\n",
    "        sum += num\n",
    "        num = readLine()!!.toInt()\n",
    "    }\n",
    "\n",
    "    println(sum)\n",
    "}\n"
   ]
  },
  {
   "metadata": {},
   "cell_type": "code",
   "outputs": [],
   "execution_count": null,
   "source": [
    "//sol3\n",
    "val sequence: MutableList<Int> = mutableListOf()\n",
    "\n",
    "do {\n",
    "    sequence.add(readLine()!!.toInt())\n",
    "} while (sequence.last() != 0)\n",
    "println(sequence.sum())"
   ]
  },
  {
   "metadata": {},
   "cell_type": "code",
   "outputs": [],
   "execution_count": null,
   "source": [
    "\n",
    "\n",
    "\n",
    "\n",
    "\n",
    "\n",
    "\n",
    "\n",
    "\n"
   ]
  },
  {
   "metadata": {},
   "cell_type": "markdown",
   "source": [
    "**The length of the sequence**\n",
    "\n",
    "The program gets a sequence of non-negative integers as input. Each integer is written on a separate line. The sequence contains an integer 0. After reading 0, the program should terminate and output the length of the sequence (do not count the final 0).\n",
    "\n",
    "Sample Input 1:\n",
    "\n",
    "3\n",
    "2\n",
    "1\n",
    "0\n",
    "\n",
    "Sample Output 1:\n",
    "\n",
    "3"
   ]
  },
  {
   "metadata": {},
   "cell_type": "code",
   "outputs": [],
   "execution_count": null,
   "source": [
    "var count = 0\n",
    "while (readln().toInt() > 0) {count++}\n",
    "println(count)"
   ]
  },
  {
   "metadata": {},
   "cell_type": "code",
   "outputs": [],
   "execution_count": null,
   "source": [
    "//sol2\n",
    "fun main() {\n",
    "    var count = 0\n",
    "    var num = readLine()!!.toInt()\n",
    "\n",
    "    while (num != 0) {\n",
    "        count++\n",
    "        num = readLine()!!.toInt()\n",
    "    }\n",
    "\n",
    "    println(count)\n",
    "}\n"
   ]
  },
  {
   "metadata": {},
   "cell_type": "code",
   "outputs": [],
   "execution_count": null,
   "source": [
    "\n",
    "\n",
    "\n",
    "\n",
    "\n",
    "\n",
    "\n",
    "\n",
    "\n",
    "\n"
   ]
  },
  {
   "metadata": {},
   "cell_type": "markdown",
   "source": [
    "**Squares of natural numbers**\n",
    "\n",
    "You have an integer number N. Read it from the standard input and print all squares of natural numbers that do not exceed N in ascending order.\n",
    "\n",
    "Sample Input 1:\n",
    "\n",
    "50\n",
    "\n",
    "Sample Output 1:\n",
    "\n",
    "1\n",
    "4\n",
    "9\n",
    "16\n",
    "25\n",
    "36\n",
    "49\n",
    "\n",
    "Sample Input 2:\n",
    "\n",
    "49\n",
    "\n",
    "Sample Output 2:\n",
    "\n",
    "1\n",
    "4\n",
    "9\n",
    "16\n",
    "25\n",
    "36\n",
    "49"
   ]
  },
  {
   "metadata": {},
   "cell_type": "code",
   "outputs": [],
   "execution_count": null,
   "source": [
    "val N = readLine()!!.toInt()\n",
    "var i = 1 // Start with the first natural number\n",
    "\n",
    "while (i * i <= N) {\n",
    "    println(i * i)\n",
    "    i++\n",
    "}"
   ]
  },
  {
   "metadata": {},
   "cell_type": "code",
   "outputs": [],
   "execution_count": null,
   "source": [
    "import java.util.Scanner\n",
    "\n",
    "//sol2\n",
    "val scanner = Scanner(System.`in`)\n",
    "var num = 1\n",
    "var num2 = 3\n",
    "val max = scanner.nextInt()\n",
    "while (num <= max) {\n",
    "    println(num)\n",
    "    num += num2\n",
    "    num2 += 2\n",
    "}"
   ]
  },
  {
   "metadata": {},
   "cell_type": "code",
   "outputs": [],
   "execution_count": null,
   "source": [
    "//sol3\n",
    "val n = readln().toInt()\n",
    "\n",
    "var square = 1\n",
    "while (square * square <= n) {\n",
    "    println(square * square)\n",
    "    square++\n",
    "}"
   ]
  },
  {
   "metadata": {},
   "cell_type": "code",
   "outputs": [],
   "execution_count": null,
   "source": [
    "import java.util.Scanner\n",
    "\n",
    "//sol4\n",
    "\n",
    "val scanner = Scanner(System.`in`)\n",
    "val n = scanner.nextDouble()\n",
    "for (i in 1..Math.sqrt(n).toInt()) {\n",
    "    println(i * i)\n",
    "}"
   ]
  },
  {
   "metadata": {},
   "cell_type": "code",
   "outputs": [],
   "execution_count": null,
   "source": [
    "//sol5\n",
    "fun main() = readLine()!!.toInt().let { i ->\n",
    "    (1..i).map { it * it }.forEach { if (it <= i) println(it) else return@let }\n",
    "}"
   ]
  },
  {
   "metadata": {},
   "cell_type": "markdown",
   "source": ""
  },
  {
   "metadata": {},
   "cell_type": "code",
   "outputs": [],
   "execution_count": null,
   "source": [
    "\n",
    "\n",
    "\n",
    "\n",
    "\n",
    "\n",
    "\n",
    "\n",
    "\n"
   ]
  },
  {
   "metadata": {},
   "cell_type": "markdown",
   "source": [
    "**Descending digits dance**\n",
    "\n",
    "Hey there! This problem might be a bit unpredictable, but give it a go and let us know how you do!\n",
    "Create a program that prints a countdown from a given number to 1 using a while loop. The program should take a single positive integer as input and print each number in the countdown on a separate line.\n",
    "Sample Input 1:\n",
    "\n",
    "5\n",
    "\n",
    "Sample Output 1:\n",
    "\n",
    "5\n",
    "4\n",
    "3\n",
    "2\n",
    "1\n",
    "\n",
    "Sample Input 2:\n",
    "\n",
    "3\n",
    "\n",
    "Sample Output 2:\n",
    "\n",
    "3\n",
    "2\n",
    "1\n",
    "\n",
    "Write a program in Kotlin"
   ]
  },
  {
   "metadata": {},
   "cell_type": "code",
   "outputs": [],
   "execution_count": null,
   "source": [
    "import java.util.Scanner\n",
    "\n",
    "val scanner = Scanner(System.`in`)\n",
    "var number = scanner.nextInt()\n",
    "\n",
    "while(number >= 1){\n",
    "    println(number)\n",
    "    number--\n",
    "}"
   ]
  },
  {
   "metadata": {},
   "cell_type": "code",
   "outputs": [],
   "execution_count": null,
   "source": [
    "readln().toInt().let {\n",
    "    (it downTo 1).forEach { n -> println(n) }\n",
    "}"
   ]
  },
  {
   "metadata": {},
   "cell_type": "code",
   "outputs": [],
   "execution_count": null,
   "source": [
    "var n = readln().toInt()\n",
    "while (n > 0) {\n",
    "    println(n)\n",
    "    n--\n",
    "}"
   ]
  },
  {
   "metadata": {},
   "cell_type": "code",
   "outputs": [],
   "execution_count": null,
   "source": [
    "var number = readln().toInt()\n",
    "while (number > 0) println(number--)"
   ]
  },
  {
   "metadata": {},
   "cell_type": "code",
   "outputs": [],
   "execution_count": null,
   "source": [
    "\n",
    "\n",
    "\n",
    "\n",
    "\n",
    "\n",
    "\n",
    "\n",
    "\n",
    "\n",
    "\n",
    "\n",
    "\n"
   ]
  },
  {
   "metadata": {},
   "cell_type": "markdown",
   "source": [
    "**Collatz conjecture**\n",
    "\n",
    "You have a natural number n. Generate a sequence of integers, described in the Collatz conjecture (Wikipedia):\n",
    "\n",
    "if n is an even number, divide it in half;\n",
    "if it is odd, multiply it by 3 and add 1 ;\n",
    "Repeat this operation until you get 1 as a result.\n",
    "\n",
    "For example, if n is 17, then the sequence would look like this:\n",
    "\n",
    "17 52 26 13 40 20 10 5 16 8 4 2 1\n",
    "\n",
    "This sequence should stop at 1 for any primary natural number n.\n",
    "\n",
    "Output format:\n",
    "A sequence of integers in a single line, separated by spaces.\n",
    "\n",
    "Sample Input 1:\n",
    "\n",
    "17\n",
    "\n",
    "Sample Output 1:\n",
    "\n",
    "17 52 26 13 40 20 10 5 16 8 4 2 1\n",
    "\n",
    "Sample Input 2:\n",
    "\n",
    "1\n",
    "\n",
    "Sample Output 2:\n",
    "\n",
    "1\n",
    "\n",
    "Write a program in Kotlin\n"
   ]
  },
  {
   "metadata": {},
   "cell_type": "code",
   "outputs": [],
   "execution_count": null,
   "source": [
    "import java.util.Scanner\n",
    "\n",
    "val scanner = Scanner(System.`in`)\n",
    "var n = scanner.nextInt()\n",
    "\n",
    "while(n != 1){\n",
    "    print(\"$n\")\n",
    "    n = if (n % 2 == 0){\n",
    "        n / 2\n",
    "    }else{\n",
    "        n * 3 + 1\n",
    "    }\n",
    "    print(\"1\")\n",
    "}"
   ]
  },
  {
   "metadata": {},
   "cell_type": "code",
   "outputs": [],
   "execution_count": null,
   "source": [
    "import java.util.Scanner\n",
    "\n",
    "val scanner = Scanner(System.`in`)\n",
    "var n = scanner.nextInt()\n",
    "println(n)\n",
    "while (n != 1) {\n",
    "    n = if (n % 2 == 0) n / 2 else n * 3 + 1\n",
    "    println(n)\n",
    "}"
   ]
  },
  {
   "metadata": {},
   "cell_type": "code",
   "outputs": [],
   "execution_count": null,
   "source": [
    "import java.util.*\n",
    "\n",
    "fun main(args: Array<String>) {\n",
    "    val scanner = Scanner(System.`in`)\n",
    "    collatzSequence(scanner.nextInt()).takeWhile { it != 1 }.forEach { print(\"$it \") }.also { print(\"1\") }\n",
    "}\n",
    "\n",
    "private fun collatzSequence(initial: Int) = sequence {\n",
    "    var number = initial\n",
    "    while (true) {\n",
    "        yield(number)\n",
    "        number = if (number.isEven()) number / 2 else (3 * number).inc()\n",
    "    }\n",
    "}\n",
    "\n",
    "private fun Int.isEven() = this and 1 == 0"
   ]
  },
  {
   "metadata": {},
   "cell_type": "code",
   "outputs": [],
   "execution_count": null,
   "source": "\n"
  },
  {
   "metadata": {},
   "cell_type": "code",
   "outputs": [],
   "execution_count": null,
   "source": [
    "\n",
    "\n",
    "\n",
    "\n",
    "\n",
    "\n",
    "\n",
    "\n",
    "\n"
   ]
  },
  {
   "metadata": {},
   "cell_type": "markdown",
   "source": [
    "**Loop Scoops: Var Ventures Inside**\n",
    "\n",
    "In Kotlin, given the following code snippet:\n",
    "\n",
    "\n",
    "var y = 10\n",
    "while (y > 0) {\n",
    "    var x = 5\n",
    "    x += y\n",
    "    y--\n",
    "}\n",
    "\n",
    "What are the correct statements about the scope and lifecycle of variables 'x' and 'y'?\n",
    "Select one or more options from the list\n",
    "\n",
    "'y', declared outside the loop, accumulates changes made within the loop across iterations. t\n",
    "\n",
    "The final value of 'x' after the loop terminates affects 'x' outside the loop scope.\n",
    "\n",
    "'x' is recreated and reinitialized to 5 at the beginning of each iteration of the loop.t\n",
    "\n",
    "The final value of 'y' can be used outside the loop since it retains its value and scope after the loop. t\n",
    "\n",
    "'x' is accessible outside the while loop because it is initialized within the loop."
   ]
  },
  {
   "metadata": {},
   "cell_type": "code",
   "outputs": [],
   "execution_count": null,
   "source": [
    "\n",
    "\n",
    "\n",
    "\n",
    "\n",
    "\n",
    "\n",
    "\n",
    "\n",
    "\n"
   ]
  },
  {
   "metadata": {},
   "cell_type": "markdown",
   "source": ""
  },
  {
   "metadata": {},
   "cell_type": "markdown",
   "source": [
    "**The sequence 1 2 2 3 3 3 ...**\n",
    "**ÇALIŞ**\n",
    "\n",
    "Wow! This problem is kind of tricky. If you're ready to put your thinking cap on, brace yourself, and good luck! Otherwise, you can skip it for now and return any time later.\n",
    "\n",
    "Write a program that prints a part of the following sequence 1 2 2 3 3 3 4 4 4 4 5 5 5 5 5 ... (the number of repetitions is equal to the respective number). Input is a positive integer n – the number of the elements of the sequence that the program should print. Output the sequence of numbers, written in a single line, separated by spaces.\n",
    "\n",
    "For example, if n is 7, the program should output 1 2 2 3 3 3 4 (seven numbers).\n",
    "\n",
    "Note that a space at the end of the output line does not affect the result. Pay attention to the numbers.\n",
    "\n",
    "Sample Input 1:\n",
    "\n",
    "7\n",
    "\n",
    "Sample Output 1:\n",
    "\n",
    "1 2 2 3 3 3 4"
   ]
  },
  {
   "metadata": {},
   "cell_type": "code",
   "outputs": [],
   "execution_count": null,
   "source": [
    "fun main() {\n",
    "    val n = readLine()!!.toInt() // Read the number of elements from input\n",
    "    var currentNumber = 1 // Initialize the current number as 1\n",
    "    var count = 0 // Initialize a count to keep track of repetitions\n",
    "\n",
    "    while (count < n) {\n",
    "        var repetitions = 0 // Initialize repetitions for the current number\n",
    "        while (repetitions < currentNumber && count < n) {\n",
    "            print(\"$currentNumber \")\n",
    "            repetitions++\n",
    "            count++\n",
    "        }\n",
    "        currentNumber++ // Increment the current number\n",
    "    }\n",
    "}\n"
   ]
  },
  {
   "metadata": {},
   "cell_type": "code",
   "outputs": [],
   "execution_count": null,
   "source": [
    "import java.util.Scanner\n",
    "\n",
    "val scanner = Scanner(System.`in`)\n",
    "var n: Int = scanner.nextInt()\n",
    "var i: Int = 0\n",
    "while (n > 0) {\n",
    "    i ++\n",
    "    repeat(if (i > n) n else i) { print(\"$i \") }\n",
    "    n -= i\n",
    "}"
   ]
  },
  {
   "metadata": {},
   "cell_type": "code",
   "outputs": [],
   "execution_count": null,
   "source": [
    "val n = readLine()!!.toInt()\n",
    "var count = 1\n",
    "var i = 1\n",
    "\n",
    "while (count <= n) {\n",
    "    repeat(i) {\n",
    "        if (count <= n) {\n",
    "            print(\"$i \")\n",
    "        }\n",
    "        count++\n",
    "    }\n",
    "    i++\n",
    "}"
   ]
  },
  {
   "metadata": {},
   "cell_type": "code",
   "outputs": [],
   "execution_count": null,
   "source": [
    "var n = readLine()!!.toInt()\n",
    "var num = 1\n",
    "while (n != 0) {\n",
    "    repeat(num) {\n",
    "        print(\"$num \")\n",
    "        if (--n == 0) return\n",
    "    }\n",
    "    num++\n",
    "}"
   ]
  },
  {
   "metadata": {},
   "cell_type": "code",
   "outputs": [],
   "execution_count": null,
   "source": [
    "import java.util.Scanner\n",
    "\n",
    "fun main(args: Array<String>) {\n",
    "    val scanner = Scanner(System.`in`)\n",
    "    var i = 1.0\n",
    "    repeat(scanner.nextInt()) {\n",
    "        print(\"${i.toInt()} \")\n",
    "        i += 1.0 / i.toInt()\n",
    "    }\n",
    "}\n"
   ]
  }
 ],
 "metadata": {
  "kernelspec": {
   "display_name": "Kotlin",
   "language": "kotlin",
   "name": "kotlin"
  },
  "language_info": {
   "name": "kotlin",
   "version": "1.9.23",
   "mimetype": "text/x-kotlin",
   "file_extension": ".kt",
   "pygments_lexer": "kotlin",
   "codemirror_mode": "text/x-kotlin",
   "nbconvert_exporter": ""
  }
 },
 "nbformat": 4,
 "nbformat_minor": 0
}
