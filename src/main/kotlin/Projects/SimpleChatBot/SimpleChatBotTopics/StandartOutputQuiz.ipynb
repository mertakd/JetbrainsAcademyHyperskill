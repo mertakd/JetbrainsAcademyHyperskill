{
 "cells": [
  {
   "cell_type": "code",
   "execution_count": null,
   "metadata": {
    "collapsed": true
   },
   "outputs": [],
   "source": [
    ""
   ]
  },
  {
   "metadata": {},
   "cell_type": "markdown",
   "source": [
    "**Correct the code**\n",
    "\n",
    "Take a look at the following Kotlin code snippet:\n",
    "\n",
    "fun main() {\n",
    "  System.out.printf(1, 2, 3...)\n",
    "  printLine(\"Line print here \")\n",
    "  lnPrint(42)\n",
    "  printLn(\"Pay attention to \")\n",
    "  println(\"syntax\")\n",
    "}\n",
    "\n",
    "Without deleting any lines, correct the code so that you get the following output :\n",
    "\n",
    "1, 2, 3...\n",
    "Line print here 42\n",
    "Pay attention to syntax\n",
    "\n",
    "Sample Input 1:\n",
    "\n",
    "\n",
    "Sample Output 1:\n",
    "\n",
    "1, 2, 3...\n",
    "Line print here 42\n",
    "Pay attention to syntax"
   ]
  },
  {
   "metadata": {},
   "cell_type": "code",
   "outputs": [],
   "execution_count": null,
   "source": [
    "println(\"1, 2, 3...\")\n",
    "print(\"Line print here \")\n",
    "println(\"42\")\n",
    "print(\"Pay attention to \")\n",
    "print(\"syntax\")"
   ]
  },
  {
   "metadata": {},
   "cell_type": "markdown",
   "source": ""
  },
  {
   "metadata": {},
   "cell_type": "code",
   "outputs": [],
   "execution_count": null,
   "source": [
    "\n",
    "\n",
    "\n",
    "\n",
    "\n",
    "\n",
    "\n",
    "\n",
    "\n"
   ]
  },
  {
   "metadata": {},
   "cell_type": "markdown",
   "source": [
    "**Printing texts**\n",
    "\n",
    "Arrange the lines of code in the correct sequence to print the text:\n",
    "\n",
    "Kotlin is a modern programming language.\n",
    "I will finish studying Kotlin in 2024!\n",
    "\n",
    "Put the items in the correct order\n",
    "fun main() {\n",
    "print(\"Kotlin is a modern programming language.\")\n",
    "println()\n",
    "print(\"I will finish studying Kotlin in \")\n",
    "print(2023)\n",
    "println(\"!\")\n",
    "}\n",
    "\n"
   ]
  },
  {
   "metadata": {},
   "cell_type": "code",
   "outputs": [],
   "execution_count": null,
   "source": [
    "\n",
    "\n",
    "\n",
    "\n",
    "\n",
    "\n",
    "\n",
    "\n",
    "\n"
   ]
  },
  {
   "metadata": {},
   "cell_type": "markdown",
   "source": [
    "**Displaying two specific phrases on separate lines**\n",
    "\n",
    "You have two strings - 'Hello, World!' and 'Kotlin is cool!'. The challenge is to write a simple Kotlin program that will output these two strings to the standard console, with the first string being on its own line, and the second string starting on a new line, too. You have to reorder the lines of code without modifying them to meet this requirement. The println function displays the string and moves the cursor to a new line, while the print function displays the string without moving the cursor. Can you solve this problem?\n",
    "\n",
    "Reorder lines using drag or arrows. Adjust indentation with left buttons\n",
    "fun main() {\n",
    "\n",
    "val greeting = \"Hello, World!\n",
    ".\n",
    "println(greeting)\n",
    "print(\"Kotlin is cool!\")\n",
    "}"
   ]
  },
  {
   "metadata": {},
   "cell_type": "code",
   "outputs": [],
   "execution_count": null,
   "source": [
    "\n",
    "\n",
    "\n",
    "\n",
    "\n",
    "\n",
    "\n",
    "\n",
    "\n"
   ]
  },
  {
   "metadata": {},
   "cell_type": "markdown",
   "source": [
    "**What does the program print**\n",
    "\n",
    "What does this program print?\n",
    "\n",
    "fun main() {\n",
    "    println(\"Kotlin\")\n",
    "    println(1)\n",
    "    println('K')\n",
    "}\n",
    "\n",
    "Select one option from the list\n",
    "\n",
    "Kotlin                T\n",
    "1\n",
    "K\n",
    "\n",
    "\"Kotlin\"\n",
    "1\n",
    "'K'\n",
    "\n",
    "\"Kotlin\"\n",
    "\"1\"\n",
    "\"K\"\n",
    "\n",
    "\"Kotlin\"\n",
    "\"1\"\n",
    "'K'"
   ]
  },
  {
   "metadata": {},
   "cell_type": "code",
   "outputs": [],
   "execution_count": null,
   "source": [
    "\n",
    "\n",
    "\n",
    "\n",
    "\n",
    "\n",
    "\n",
    "\n",
    "\n"
   ]
  },
  {
   "metadata": {},
   "cell_type": "markdown",
   "source": [
    "\n",
    "**What does the code print**\n",
    "\n",
    "What does this code print?"
   ]
  },
  {
   "metadata": {
    "ExecuteTime": {
     "end_time": "2025-06-14T10:02:32.534548200Z",
     "start_time": "2025-06-14T10:02:32.448960800Z"
    }
   },
   "cell_type": "code",
   "source": [
    "print(\"1\")\n",
    "print(\"2\")\n",
    "println(\"3\")\n",
    "println()\n",
    "println(\"4\")"
   ],
   "outputs": [
    {
     "name": "stdout",
     "output_type": "stream",
     "text": [
      "123\r\n",
      "\r\n",
      "4\r\n"
     ]
    }
   ],
   "execution_count": 1
  },
  {
   "metadata": {},
   "cell_type": "code",
   "outputs": [],
   "execution_count": null,
   "source": [
    "\n",
    "\n",
    "\n",
    "\n",
    "\n",
    "\n",
    "\n",
    "\n",
    "\n"
   ]
  },
  {
   "metadata": {},
   "cell_type": "markdown",
   "source": ""
  },
  {
   "metadata": {},
   "cell_type": "markdown",
   "source": [
    "**From 0 to 9**\n",
    "\n",
    "Write a program that prints numbers from 0 to 9 including 9. Each number must be printed on a new line.\n",
    "\n",
    "For your solution, use the provided template.\n",
    "\n",
    "Sample Output\n",
    "\n",
    "0\n",
    "1\n",
    "2\n",
    "3\n",
    "4\n",
    "5\n",
    "6\n",
    "7\n",
    "8\n",
    "9\n",
    "\n",
    "\n",
    "SOL1\n",
    "fun main() {\n",
    "    println(0)\n",
    "    println(1)\n",
    "    println(2)\n",
    "    println(3)\n",
    "    println(4)\n",
    "    println(5)\n",
    "    println(6)\n",
    "    println(7)\n",
    "    println(8)\n",
    "    println(9)\n",
    "}\n",
    "\n",
    "SOL2\n",
    "fun main() {\n",
    "    repeat(10) {\n",
    "        println(it)\n",
    "    }\n",
    "}\n",
    "\n",
    "SOL3\n",
    "fun main() {\n",
    "    print(\"0\\n1\\n2\\n3\\n4\\n5\\n6\\n7\\n8\\n9\")\n",
    "}\n"
   ]
  },
  {
   "metadata": {},
   "cell_type": "code",
   "outputs": [],
   "execution_count": null,
   "source": [
    "\n",
    "\n",
    "\n",
    "\n",
    "\n",
    "\n",
    "\n",
    "\n",
    "\n"
   ]
  },
  {
   "metadata": {},
   "cell_type": "markdown",
   "source": [
    "**mount on the account**\n",
    "\n",
    "Write a program that prints this sequence of messages and informs you how much money you have.\n",
    "\n",
    "08:00 You have one billion dollars\n",
    "08:30 You have two thousand dollars\n",
    "09:10 You have no dollars!\n",
    "\n",
    "Copy the lines above and print them.\n",
    "\n",
    "`fun main() {\n",
    "    println(\"08:00 You have one billion dollars\")\n",
    "    println(\"08:30 You have two thousand dollars\")\n",
    "    println(\"09:10 You have no dollars!\")\n",
    "}`"
   ]
  },
  {
   "metadata": {},
   "cell_type": "code",
   "outputs": [],
   "execution_count": null,
   "source": ""
  },
  {
   "metadata": {},
   "cell_type": "code",
   "outputs": [],
   "execution_count": null,
   "source": [
    "\n",
    "\n",
    "\n",
    "\n",
    "\n",
    "\n",
    "\n",
    "\n",
    "\n"
   ]
  },
  {
   "metadata": {},
   "cell_type": "markdown",
   "source": [
    "**First, second, third**\n",
    "\n",
    "Write a program that prints these three text lines in a column.\n",
    "\n",
    "\n",
    "first\n",
    "second\n",
    "third\n",
    "\n",
    "Write a program in Kotlin\n",
    "\n",
    "\n",
    "`fun main() {\n",
    "    println(\"first\")\n",
    "    println(\"second\")\n",
    "    println(\"third\")\n",
    "}`\n"
   ]
  },
  {
   "metadata": {},
   "cell_type": "code",
   "outputs": [],
   "execution_count": null,
   "source": [
    "\n",
    "\n",
    "\n",
    "\n",
    "\n",
    "\n",
    "\n",
    "\n",
    "\n"
   ]
  },
  {
   "metadata": {},
   "cell_type": "markdown",
   "source": [
    "**We need to learn Kotlin**\n",
    "\n",
    "Write a program that prints this text:\n",
    "\n",
    "WE NEED\n",
    "\n",
    "TO LEARN KOTLIN\n",
    "\n",
    "AS QUICKLY AS POSSIBLE\n",
    "\n",
    "\n",
    "`fun main() {\n",
    "    println(\"WE NEED\")\n",
    "    println()\n",
    "    println(\"TO LEARN KOTLIN\")\n",
    "    println()\n",
    "    println(\"AS QUICKLY AS POSSIBLE\")\n",
    "}\n",
    "`"
   ]
  },
  {
   "metadata": {},
   "cell_type": "code",
   "outputs": [],
   "execution_count": null,
   "source": [
    "\n",
    "\n",
    "\n",
    "\n",
    "\n",
    "\n",
    "\n",
    "\n",
    "\n"
   ]
  },
  {
   "metadata": {},
   "cell_type": "markdown",
   "source": [
    "**Tic-Tac-Toe**\n",
    "\n",
    "Write a program that displays a grid from the Tic-Tac-Toe game.\n",
    "\n",
    "The required grid is below:\n",
    "\n",
    "O X X\n",
    "O X O\n",
    "X O X\n",
    "\n",
    "O is not a zero, it is a letter.\n",
    "\n",
    "\n",
    "\n",
    "SOL1\n",
    "`fun main() {\n",
    "    println(\"O X X\")\n",
    "    println(\"O X O\")\n",
    "    println(\"X O X\")\n",
    "}`\n",
    "\n",
    "\n",
    "SOL2\n",
    "`fun main() {\n",
    "    // TODO(\"Remove this line and write your solution here\")\n",
    "    val x = 'X'\n",
    "    val o = 'O'\n",
    "    println(\"$o $x $x\")\n",
    "    println(\"$o $x $o\")\n",
    "    println(\"$x $o $x\")\n",
    "}`\n",
    "\n",
    "\n",
    "SOL3\n",
    "`fun main() = print(\"\"\"\n",
    "O X X\n",
    "O X O\n",
    "X O X\n",
    "\"\"\")`\n",
    "\n",
    "\n",
    "SOL4\n",
    "`fun main() {\n",
    "    println(\"O X X\\nO X O\\nX O X\")\n",
    "}`\n"
   ]
  },
  {
   "metadata": {},
   "cell_type": "code",
   "outputs": [],
   "execution_count": null,
   "source": [
    "\n",
    "\n",
    "\n",
    "\n",
    "\n",
    "\n",
    "\n",
    "\n",
    "\n"
   ]
  },
  {
   "metadata": {},
   "cell_type": "markdown",
   "source": [
    "**Print the square of a given number**\n",
    "\n",
    "You are given a number 'n'. Write a Kotlin program to print the square of this number 'n'. Your function should scan a number 'n' as input and as output it should print the square of 'n'.\n",
    "\n",
    "Sample Input 1:\n",
    "\n",
    "4\n",
    "\n",
    "Sample Output 1:\n",
    "\n",
    "16\n",
    "\n",
    "Sample Input 2:\n",
    "\n",
    "10\n",
    "\n",
    "Sample Output 2:\n",
    "\n",
    "100\n",
    "\n",
    "\n",
    "\n",
    "\n",
    "\n",
    "SOL1\n",
    "``import java.util.Scanner\n",
    "fun main(args: Array<String>) {\n",
    "    val scanner = Scanner(System.`in`)\n",
    "    val n = scanner.nextInt()\n",
    "    println(n * n)\n",
    "}``"
   ]
  },
  {
   "metadata": {},
   "cell_type": "code",
   "outputs": [],
   "execution_count": null,
   "source": [
    "\n",
    "\n",
    "\n",
    "\n",
    "\n",
    "\n",
    "\n",
    "\n",
    "\n"
   ]
  },
  {
   "metadata": {},
   "cell_type": "markdown",
   "source": [
    "**Create a program introducing yourself as 'John', aged '21'**\n",
    "\n",
    "You need to introduce yourself by making a simple introduction program in Kotlin language. The program should output a sentence that provides your name as 'John' and your age as '21'. The lines of code have been mixed up and need to be reorganized to run correctly. Remember that Kotlin supports string templates. Reorder the lines of code to satisfy this requirement."
   ]
  },
  {
   "metadata": {},
   "cell_type": "code",
   "outputs": [],
   "execution_count": null,
   "source": [
    "val name = \"John\"\n",
    "val age = 21\n",
    "println(\"Hello, my name is $name and I am $age years old.\")"
   ]
  },
  {
   "metadata": {},
   "cell_type": "code",
   "outputs": [],
   "execution_count": null,
   "source": [
    "\n",
    "\n",
    "\n",
    "\n",
    "\n",
    "\n",
    "\n",
    "\n",
    "\n"
   ]
  },
  {
   "metadata": {},
   "cell_type": "markdown",
   "source": [
    "**Print a triangle**\n",
    "\n",
    "Write a program that prints the following shape:\n",
    "\n",
    "#\n",
    "##\n",
    "###\n",
    "####\n",
    "#####\n",
    "######\n",
    "\n",
    "Sample Input 1:\n",
    "\n",
    "\n",
    "Sample Output 1:\n",
    "\n",
    "#\n",
    "##\n",
    "###\n",
    "####\n",
    "#####\n",
    "######"
   ]
  },
  {
   "metadata": {},
   "cell_type": "code",
   "outputs": [],
   "execution_count": null,
   "source": [
    "println(\"#\")\n",
    "println(\"##\")\n",
    "println(\"###\")\n",
    "println(\"####\")\n",
    "println(\"#####\")\n",
    "println(\"######\")"
   ]
  },
  {
   "metadata": {
    "ExecuteTime": {
     "end_time": "2025-06-14T10:15:17.170535100Z",
     "start_time": "2025-06-14T10:15:17.031102100Z"
    }
   },
   "cell_type": "code",
   "source": [
    "for (i in 1..6) {\n",
    "    println(\"#\".repeat(i))\n",
    "}"
   ],
   "outputs": [
    {
     "name": "stdout",
     "output_type": "stream",
     "text": [
      "#\r\n",
      "##\r\n",
      "###\r\n",
      "####\r\n",
      "#####\r\n",
      "######\r\n"
     ]
    }
   ],
   "execution_count": 2
  },
  {
   "metadata": {},
   "cell_type": "code",
   "outputs": [],
   "execution_count": null,
   "source": [
    "var pattern = \"\"\n",
    "for (i in 1..6) {\n",
    "    pattern += \"#\"\n",
    "    println(pattern)\n",
    "}"
   ]
  },
  {
   "metadata": {},
   "cell_type": "code",
   "outputs": [],
   "execution_count": null,
   "source": [
    "val DEFINITELY_NOT_A_MAGIC_NUMBER = 6 // 🤦‍♀️\n",
    "for (i in 1..DEFINITELY_NOT_A_MAGIC_NUMBER) {\n",
    "    for (ii in 1..i) print(\"#\")\n",
    "    println()\n",
    "}"
   ]
  },
  {
   "metadata": {},
   "cell_type": "code",
   "outputs": [],
   "execution_count": null,
   "source": [
    "for (i in 1..6) {\n",
    "    for (j in 1..i) {\n",
    "        print(\"#\")\n",
    "    }\n",
    "    println()\n",
    "}"
   ]
  }
 ],
 "metadata": {
  "kernelspec": {
   "display_name": "Kotlin",
   "language": "kotlin",
   "name": "kotlin"
  },
  "language_info": {
   "name": "kotlin",
   "version": "1.9.23",
   "mimetype": "text/x-kotlin",
   "file_extension": ".kt",
   "pygments_lexer": "kotlin",
   "codemirror_mode": "text/x-kotlin",
   "nbconvert_exporter": ""
  }
 },
 "nbformat": 4,
 "nbformat_minor": 0
}
