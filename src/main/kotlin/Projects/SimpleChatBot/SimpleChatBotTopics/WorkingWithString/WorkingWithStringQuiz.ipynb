{
 "cells": [
  {
   "cell_type": "code",
   "execution_count": null,
   "metadata": {
    "collapsed": true
   },
   "outputs": [],
   "source": [
    ""
   ]
  },
  {
   "metadata": {},
   "cell_type": "markdown",
   "source": [
    "**N-th symbol**\n",
    "\n",
    "Write a program that reads one string and one number N and prints the N-th symbol of the input string. Here the N refers to the position of the symbol not its index. The examples below show how the result should look like.\n",
    "\n",
    "Input: one string and one number of type Int in separate lines.\n",
    "\n",
    "Output: single string. Use the following template:\n",
    "\n",
    "\"Symbol # N of the string \"input string\" is 'character', where N is the input number, input string — the string your read, and character — the N-th symbol of the input string.\"\n",
    "\n",
    "Hint\n",
    "\n",
    "Ayrıntılar\n",
    "Sample Input 1:\n",
    "\n",
    "hello world\n",
    "1\n",
    "\n",
    "Sample Output 1:\n",
    "\n",
    "Symbol # 1 of the string \"hello world\" is 'h'\n",
    "\n",
    "Sample Input 2:\n",
    "\n",
    "hyperskill\n",
    "5\n",
    "\n",
    "Sample Output 2:\n",
    "\n",
    "Symbol # 5 of the string \"hyperskill\" is 'r'\n",
    "\n"
   ]
  },
  {
   "metadata": {
    "ExecuteTime": {
     "end_time": "2025-07-29T19:33:21.159349Z",
     "start_time": "2025-07-29T19:33:06.671158800Z"
    }
   },
   "cell_type": "code",
   "source": [
    "val inputString = readLine()!!\n",
    "val index = readLine()!!.toInt()\n",
    "val symbol = inputString[index - 1]\n",
    "println(\"Symbol # $index of the string \\\"$inputString\\\" is '$symbol'\")"
   ],
   "outputs": [
    {
     "name": "stdout",
     "output_type": "stream",
     "text": [
      "Symbol # 2 of the string \"mert\" is 'e'\r\n"
     ]
    }
   ],
   "execution_count": 1
  },
  {
   "metadata": {},
   "cell_type": "code",
   "outputs": [],
   "execution_count": null,
   "source": [
    "\n",
    "\n",
    "\n",
    "\n",
    "\n",
    "\n",
    "\n",
    "\n",
    "\n",
    "\n",
    "\n"
   ]
  },
  {
   "metadata": {},
   "cell_type": "markdown",
   "source": [
    "**Reverse a line of text input**\n",
    "\n",
    "Write a Kotlin program that reads a line of text and then prints it in reverse order. For example, if the input is 'Hello, World!', the output should be '!dlroW ,olleH'.\n",
    "\n",
    "Sample Input 1:\n",
    "\n",
    "Hello, World!\n",
    "\n",
    "Sample Output 1:\n",
    "\n",
    "!dlroW ,olleH\n",
    "\n",
    "Sample Input 2:\n",
    "\n",
    "Kotlin\n",
    "\n",
    "Sample Output 2:\n",
    "\n",
    "niltoK"
   ]
  },
  {
   "metadata": {},
   "cell_type": "code",
   "outputs": [],
   "execution_count": null,
   "source": [
    "\n",
    "val inputString = readLine()\n",
    "\n",
    "val reversedString = inputString?.reversed()\n",
    "\n",
    "println(reversedString)"
   ]
  },
  {
   "metadata": {},
   "cell_type": "code",
   "outputs": [],
   "execution_count": null,
   "source": "println(readln().reversed())"
  },
  {
   "metadata": {},
   "cell_type": "code",
   "outputs": [],
   "execution_count": null,
   "source": [
    "//sol3\n",
    "// Step 1: Read a line of text from the standard input\n",
    "val inputString: String = readLine().toString()\n",
    "\n",
    "// TODO: Write a function to reverse the input string\n",
    "fun reverseOrder(input: String): String {\n",
    "    var numberOfChars = input.length\n",
    "    var outputSt = \"\"\n",
    "    repeat(numberOfChars){\n",
    "        outputSt += input[numberOfChars - 1]\n",
    "        numberOfChars--\n",
    "    }\n",
    "    return outputSt\n",
    "}\n",
    "\n",
    "// Step 3: Print the reversed string using the println() function\n",
    "println(reverseOrder(inputString))"
   ]
  },
  {
   "metadata": {},
   "cell_type": "code",
   "outputs": [],
   "execution_count": null,
   "source": [
    "\n",
    "\n",
    "\n",
    "\n",
    "\n",
    "\n",
    "\n",
    "\n",
    "\n"
   ]
  },
  {
   "metadata": {},
   "cell_type": "markdown",
   "source": [
    "**Extracting first character and computing message length**\n",
    "\n",
    "Alice sends messages through an automated system which tags user details like the receiver's name, and their age. She realizes that many times, the first character of the message and the length of the entire message play a critical role in interpreting the messages correctly. Fill the blanks in the code fragment to extract the first character of the message and compute the length of the entire message.\n",
    "\n",
    "Fill in the gaps with the relevant elements"
   ]
  },
  {
   "metadata": {},
   "cell_type": "code",
   "outputs": [],
   "execution_count": null,
   "source": [
    "val name = \"Alice\"\n",
    "val age = 20\n",
    "val message = \"Hello, $name! You are $age years old.\"\n",
    "val firstChar = message.first()\n",
    "println(\"First character of the message is '$firstChar'.\")\n",
    "println(\"Message Length: ${message.length}.\")"
   ]
  },
  {
   "metadata": {},
   "cell_type": "code",
   "outputs": [],
   "execution_count": null,
   "source": [
    "\n",
    "\n",
    "\n",
    "\n",
    "\n",
    "\n",
    "\n",
    "\n",
    "\n",
    "\n"
   ]
  },
  {
   "metadata": {},
   "cell_type": "markdown",
   "source": [
    "**Operations and truth**\n",
    "\n",
    "Read three lines. You need to check whether the third line is equal to the sum of the first two lines.\n",
    "\n",
    "If the first two lines put together form the third one, print true; otherwise – false.\n",
    "\n",
    "Sample Input 1:\n",
    "\n",
    "sum\n",
    "mer\n",
    "summer\n",
    "\n",
    "Sample Output 1:\n",
    "\n",
    "true\n",
    "\n",
    "Sample Input 2:\n",
    "\n",
    "tomato\n",
    "cucumber\n",
    "salad\n",
    "\n",
    "Sample Output 2:\n",
    "\n",
    "false\n",
    "\n"
   ]
  },
  {
   "metadata": {},
   "cell_type": "code",
   "outputs": [],
   "execution_count": null,
   "source": [
    "val line1 = readLine() ?: \"\"\n",
    "val line2 = readLine() ?: \"\"\n",
    "val line3 = readLine() ?: \"\"\n",
    "val isEqual = line3 == line1 + line2\n",
    "println(isEqual)"
   ]
  },
  {
   "metadata": {},
   "cell_type": "code",
   "outputs": [],
   "execution_count": null,
   "source": [
    "//sol2\n",
    "println(readln() + readln() == readln())"
   ]
  },
  {
   "metadata": {},
   "cell_type": "code",
   "outputs": [],
   "execution_count": null,
   "source": [
    "//sol3\n",
    "val (a, b, c) = Array(3) { readln() }\n",
    "print(a + b == c)"
   ]
  },
  {
   "metadata": {},
   "cell_type": "code",
   "outputs": [],
   "execution_count": null,
   "source": [
    "\n",
    "\n",
    "\n",
    "\n",
    "\n",
    "\n",
    "\n",
    "\n",
    "\n"
   ]
  },
  {
   "metadata": {},
   "cell_type": "markdown",
   "source": [
    "**Extraction of a character**\n",
    "\n",
    "Which brackets are used for extracting a character from a string?\n",
    "\n",
    "Select one option from the list\n",
    "\n",
    "( )\n",
    "\n",
    "[ ]   t\n",
    "\n",
    "<>\n",
    "\n",
    "{ }"
   ]
  },
  {
   "metadata": {},
   "cell_type": "code",
   "outputs": [],
   "execution_count": null,
   "source": [
    "\n",
    "\n",
    "\n",
    "\n",
    "\n",
    "\n",
    "\n",
    "\n",
    "\n"
   ]
  },
  {
   "metadata": {},
   "cell_type": "markdown",
   "source": [
    "**Correct operations**\n",
    "\n",
    "If you have two strings s1 and s2, which of the following operations are correct?\n",
    "\n",
    "Select one or more options from the list\n",
    "\n",
    "s1 - s2\n",
    "\n",
    "s1 == s2\n",
    "\n",
    "s1 + s2\n",
    "\n",
    "s1 * 5"
   ]
  },
  {
   "metadata": {},
   "cell_type": "code",
   "outputs": [],
   "execution_count": null,
   "source": [
    "\n",
    "\n",
    "\n",
    "\n",
    "\n",
    "\n",
    "\n",
    "\n",
    "\n"
   ]
  },
  {
   "metadata": {},
   "cell_type": "markdown",
   "source": [
    "**The information about a person**\n",
    "\n",
    "Write a program that reads the first name, the last name and the age of a person and then prints the information as in the examples below.\n",
    "\n",
    "\n",
    "To solve this problem, use string templates.\n",
    "\n",
    "Sample Input 1:\n",
    "\n",
    "John Smith 30\n",
    "\n",
    "Sample Output 1:\n",
    "\n",
    "J. Smith, 30 years old\n",
    "\n",
    "Sample Input 2:\n",
    "\n",
    "Reece Weber 20\n",
    "\n",
    "Sample Output 2:\n",
    "\n",
    "R. Weber, 20 years old"
   ]
  },
  {
   "metadata": {},
   "cell_type": "code",
   "outputs": [],
   "execution_count": null,
   "source": [
    "val (firstName, lastName, age) = readLine()!!.split(\" \")\n",
    "println(\"${firstName.first()}. $lastName, $age years old\")"
   ]
  },
  {
   "metadata": {},
   "cell_type": "code",
   "outputs": [],
   "execution_count": null,
   "source": [
    "\n",
    "\n",
    "\n",
    "\n",
    "\n",
    "\n",
    "\n",
    "\n",
    "\n"
   ]
  },
  {
   "metadata": {},
   "cell_type": "markdown",
   "source": [
    "**Length check**\n",
    "\n",
    "You have a string word. Choose all valid options to determine that it contains at least 1 character:\n",
    "\n",
    "Select one or more options from the list\n",
    "\n",
    "\n",
    "word.lastIndex >= 0   t\n",
    "\n",
    "word.length == 1\n",
    "\n",
    "word.isNotEmpty()     t\n",
    "\n",
    "word.length > 0      t\n"
   ]
  },
  {
   "metadata": {},
   "cell_type": "code",
   "outputs": [],
   "execution_count": null,
   "source": [
    "\n",
    "\n",
    "\n",
    "\n",
    "\n",
    "\n",
    "\n",
    "\n"
   ]
  },
  {
   "metadata": {},
   "cell_type": "markdown",
   "source": [
    "**ast symbol**\n",
    "\n",
    "You have a string someText. Choose the correct ways to print the last character of the string:\n",
    "\n",
    "Select one or more options from the list\n",
    "\n",
    "\n",
    "print(someText.last())      t\n",
    "\n",
    "print(someText[someText.length - 1])       t\n",
    "\n",
    "print(someText{someText - 1})\n",
    "\n",
    "print(someText[someText.length])"
   ]
  },
  {
   "metadata": {},
   "cell_type": "code",
   "outputs": [],
   "execution_count": null,
   "source": [
    "\n",
    "\n",
    "\n",
    "\n",
    "\n",
    "\n",
    "\n",
    "\n",
    "\n"
   ]
  },
  {
   "metadata": {},
   "cell_type": "markdown",
   "source": [
    "**Statements**\n",
    "\n",
    "Select all the correct statements about strings.\n",
    "\n",
    "Select one or more options from the list\n",
    "\n",
    "\n",
    "\n",
    "Two strings can be concatenated with the help of the + operator.   t\n",
    "\n",
    "They are represented by the Text type.\n",
    "\n",
    "Strings are immutable.                                              t\n",
    "\n",
    "Indexation of elements starts with 1."
   ]
  },
  {
   "metadata": {},
   "cell_type": "code",
   "outputs": [],
   "execution_count": null,
   "source": [
    "\n",
    "\n",
    "\n",
    "\n",
    "\n",
    "\n",
    "\n",
    "\n",
    "\n"
   ]
  },
  {
   "metadata": {},
   "cell_type": "markdown",
   "source": [
    "**Name Card**\n",
    "\n",
    "Write a program that reads the first name and the last name of a person, each on a separate line. Then, print the first letter of the first name with a dot and then the last name (with a single space in between): for example, Arthur Dent would be A. Dent.\n",
    "\n",
    "Sample Input 1:\n",
    "\n",
    "Jane\n",
    "Doe\n",
    "\n",
    "Sample Output 1:\n",
    "\n",
    "J. Doe"
   ]
  },
  {
   "metadata": {},
   "cell_type": "code",
   "outputs": [],
   "execution_count": null,
   "source": "println(\"${readln().first()}. ${readln()}\")"
  },
  {
   "metadata": {},
   "cell_type": "code",
   "outputs": [],
   "execution_count": null,
   "source": [
    "val firstInitial = readln().first()\n",
    "val lastName = readln()\n",
    "println(\"$firstInitial. $lastName\")"
   ]
  },
  {
   "metadata": {},
   "cell_type": "code",
   "outputs": [],
   "execution_count": null,
   "source": [
    "val firstName = readLine() ?: \"\"\n",
    "val lastName = readLine() ?: \"\"\n",
    "val initials = firstName.first().toUpperCase() + \". \" + lastName.capitalize()\n",
    "println(initials)\n"
   ]
  },
  {
   "metadata": {},
   "cell_type": "code",
   "outputs": [],
   "execution_count": null,
   "source": [
    "\n",
    "\n",
    "\n",
    "\n",
    "\n",
    "\n",
    "\n",
    "\n",
    "\n",
    "\n",
    "\n"
   ]
  },
  {
   "metadata": {},
   "cell_type": "markdown",
   "source": [
    "**The same line**\n",
    "\n",
    "Read two lines, each on a separate line, and print whether they are equal or not.\n",
    "\n",
    "Sample Input 1:\n",
    "\n",
    "Right answer\n",
    "Right answer\n",
    "\n",
    "Sample Output 1:\n",
    "\n",
    "true\n",
    "\n",
    "Sample Input 2:\n",
    "\n",
    "Line\n",
    "The same line\n",
    "\n",
    "Sample Output 2:\n",
    "\n",
    "false"
   ]
  },
  {
   "metadata": {},
   "cell_type": "code",
   "outputs": [],
   "execution_count": null,
   "source": [
    "val line1 = readLine() ?: \"\"\n",
    "val line2 = readLine() ?: \"\"\n",
    "val isEqual = line1 == line2\n",
    "println(isEqual)"
   ]
  },
  {
   "metadata": {},
   "cell_type": "code",
   "outputs": [],
   "execution_count": null,
   "source": "println(readLine()!! == readLine()!!)"
  },
  {
   "metadata": {},
   "cell_type": "code",
   "outputs": [],
   "execution_count": null,
   "source": "println(Array(2) { readLine()!! }.toSet().size == 1)"
  },
  {
   "metadata": {},
   "cell_type": "code",
   "outputs": [],
   "execution_count": null,
   "source": [
    "val a = readln()\n",
    "val b = readln()\n",
    "\n",
    "println(a.equals(b))"
   ]
  },
  {
   "metadata": {},
   "cell_type": "code",
   "outputs": [],
   "execution_count": null,
   "source": [
    "\n",
    "\n",
    "\n",
    "\n",
    "\n",
    "\n",
    "\n",
    "\n"
   ]
  },
  {
   "metadata": {},
   "cell_type": "markdown",
   "source": [
    "**The number of tens**\n",
    "\n",
    "Write a program that reads a number and prints the tens in that number. Use indexes to solve this problem!\n",
    "\n",
    "Sample Input 1:\n",
    "\n",
    "234\n",
    "\n",
    "Sample Output 1:\n",
    "\n",
    "3"
   ]
  },
  {
   "metadata": {},
   "cell_type": "code",
   "outputs": [],
   "execution_count": null,
   "source": "println(readLine()!!.reversed()[1])"
  },
  {
   "metadata": {},
   "cell_type": "code",
   "outputs": [],
   "execution_count": null,
   "source": "println(readLine()!!.dropLast(1).last())"
  },
  {
   "metadata": {},
   "cell_type": "code",
   "outputs": [],
   "execution_count": null,
   "source": [
    "try {\n",
    "    println(readln().let { it[it.lastIndex - 1] })\n",
    "} catch (e: StringIndexOutOfBoundsException) {\n",
    "    println(0)\n",
    "}"
   ]
  }
 ],
 "metadata": {
  "kernelspec": {
   "display_name": "Kotlin",
   "language": "kotlin",
   "name": "kotlin"
  },
  "language_info": {
   "name": "kotlin",
   "version": "1.9.23",
   "mimetype": "text/x-kotlin",
   "file_extension": ".kt",
   "pygments_lexer": "kotlin",
   "codemirror_mode": "text/x-kotlin",
   "nbconvert_exporter": ""
  }
 },
 "nbformat": 4,
 "nbformat_minor": 0
}
