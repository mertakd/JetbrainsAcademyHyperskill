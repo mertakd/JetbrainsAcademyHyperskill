{
 "cells": [
  {
   "cell_type": "code",
   "execution_count": null,
   "metadata": {
    "collapsed": true
   },
   "outputs": [],
   "source": [
    ""
   ]
  },
  {
   "metadata": {},
   "cell_type": "markdown",
   "source": [
    "\n",
    "---\n",
    "\n",
    "### 🔢 **1. Tamsayılar (Integer Numbers)**\n",
    "\n",
    "* Sayma işlemlerinde kullanılır: `0`, `1`, `10`, `100` gibi.\n",
    "* Büyük sayıları okunabilir kılmak için alt çizgi `_` kullanılabilir:\n",
    "  Örnek: `1_000_000` ✅\n",
    "  Hatalı: `_10`, `100_` ❌\n",
    "\n",
    "---\n",
    "\n",
    "### 🔤 **2. Karakterler (Characters)**\n",
    "\n",
    "* Tek bir sembol, harf veya rakamı temsil eder.\n",
    "* Tek tırnak içinde yazılır: `'A'`, `'9'`, `'@'`\n",
    "* **Sadece 1 karakter** içermelidir.\n",
    "  Hatalı örnekler: `'abc'`, `'12'` ❌\n",
    "  Doğru: `'a'`, `'1'` ✅\n",
    "\n",
    "---\n",
    "\n",
    "### 🧾 **3. Metinler (Strings)**\n",
    "\n",
    "* Birden fazla karakterden oluşan **metin** yapılarıdır.\n",
    "* Çift tırnak içinde yazılır: `\"Hello\"`, `\"123\"`, `\"Kotlin!\"`\n",
    "* `\"A\"` bir stringdir, `'A'` bir karakterdir → birbirinden farklıdır.\n",
    "\n",
    "---\n",
    "\n",
    "### 🎯 **Sonuç:**\n",
    "\n",
    "* Kodlamada sıkça `tamsayı`, `karakter` ve `metin (string)` literal'lerini kullanırız.\n",
    "* Bellek verimliliği önemliyse `\"A\"` yerine `'A'` gibi karakter tercih edilebilir.\n",
    "* Bu üç temel literal, Kotlin programlamanın yapı taşlarıdır.\n",
    "\n",
    "---\n",
    "\n",
    "\n"
   ]
  },
  {
   "metadata": {},
   "cell_type": "markdown",
   "source": ""
  }
 ],
 "metadata": {
  "kernelspec": {
   "display_name": "Kotlin",
   "language": "kotlin",
   "name": "kotlin"
  },
  "language_info": {
   "name": "kotlin",
   "version": "1.9.23",
   "mimetype": "text/x-kotlin",
   "file_extension": ".kt",
   "pygments_lexer": "kotlin",
   "codemirror_mode": "text/x-kotlin",
   "nbconvert_exporter": ""
  }
 },
 "nbformat": 4,
 "nbformat_minor": 0
}
