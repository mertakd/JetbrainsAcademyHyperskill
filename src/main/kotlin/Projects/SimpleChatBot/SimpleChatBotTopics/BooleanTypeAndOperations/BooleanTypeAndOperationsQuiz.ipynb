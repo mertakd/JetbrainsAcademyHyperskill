{
 "cells": [
  {
   "cell_type": "code",
   "execution_count": null,
   "metadata": {
    "collapsed": true
   },
   "outputs": [],
   "source": [
    ""
   ]
  },
  {
   "metadata": {},
   "cell_type": "markdown",
   "source": [
    "**Invitations and gifts**\n",
    "\n",
    "Mr. Groundhog is throwing a party. He’s known for his pragmatism, so only those who bring a gift will be allowed to attend the party. And, of course, a guest must have an invitation.\n",
    "\n",
    "Write a program that checks if a guest should be allowed at the party. The program should read two booleans, each on a separate line:\n",
    "\n",
    "One showing whether the guest has an invitation;\n",
    "\n",
    "Another indicating if the guest brought a gift.\n",
    "\n",
    "Print true if both conditions are met and false if not.\n",
    "\n",
    "Sample Input 1:\n",
    "\n",
    "true\n",
    "true\n",
    "\n",
    "Sample Output 1:\n",
    "\n",
    "true\n",
    "\n",
    "Sample Input 2:\n",
    "\n",
    "true\n",
    "false\n",
    "\n",
    "Sample Output 2:\n",
    "\n",
    "false"
   ]
  },
  {
   "metadata": {},
   "cell_type": "code",
   "outputs": [],
   "execution_count": null,
   "source": [
    "val hasInvitation = readLine()?.toBoolean() ?: false\n",
    "val broughtGift = readLine()?.toBoolean() ?: false\n",
    "\n",
    "val allowedAtParty = hasInvitation && broughtGift\n",
    "println(allowedAtParty)"
   ]
  },
  {
   "metadata": {},
   "cell_type": "code",
   "outputs": [],
   "execution_count": null,
   "source": [
    "//sol2\n",
    "val invitation = readLine().toBoolean() // read other value in the same way\n",
    "val gift = readLine().toBoolean()\n",
    "println(invitation && gift)"
   ]
  },
  {
   "metadata": {},
   "cell_type": "code",
   "outputs": [],
   "execution_count": null,
   "source": [
    "\n",
    "\n",
    "\n",
    "\n",
    "\n",
    "\n",
    "\n",
    "\n",
    "\n",
    "\n",
    "\n",
    "\n",
    "\n",
    "\n"
   ]
  },
  {
   "metadata": {},
   "cell_type": "markdown",
   "source": [
    "**Program a Boolean function**\n",
    "\n",
    "Write a program that reads three boolean variables x, y, and z (each on a separate line) and then prints the result of the following logical expression: NOT(x AND y) OR (z).\n",
    "\n",
    "Sample Input 1:\n",
    "\n",
    "true\n",
    "true\n",
    "false\n",
    "\n",
    "Sample Output 1:\n",
    "\n",
    "false\n",
    "\n",
    "Sample Input 2:\n",
    "\n",
    "true\n",
    "false\n",
    "true\n",
    "\n",
    "Sample Output 2:\n",
    "\n",
    "true"
   ]
  },
  {
   "metadata": {},
   "cell_type": "code",
   "outputs": [],
   "execution_count": null,
   "source": [
    "val x = readLine()?.toBoolean() ?: false\n",
    "val y = readLine()?.toBoolean() ?: false\n",
    "val z = readLine()?.toBoolean() ?: false\n",
    "\n",
    "val result = !(x && y) || z\n",
    "println(result)"
   ]
  },
  {
   "metadata": {},
   "cell_type": "code",
   "outputs": [],
   "execution_count": null,
   "source": [
    "\n",
    "\n",
    "\n",
    "\n",
    "\n",
    "\n",
    "\n",
    "\n",
    "\n",
    "\n",
    "\n",
    "\n",
    "\n",
    "\n"
   ]
  },
  {
   "metadata": {},
   "cell_type": "markdown",
   "source": [
    "**Declaring boolean variables**\n",
    "\n",
    "Select all correct declarations of boolean variables.\n",
    "\n",
    "Select one or more options from the list\n",
    "\n",
    "val b = 'f';\n",
    "\n",
    "val b = false         T\n",
    "\n",
    "val b = \"false\"\n",
    "\n",
    "val b = 't'\n",
    "\n",
    "val b = true           T\n",
    "\n",
    "val b = \"true\""
   ]
  },
  {
   "metadata": {},
   "cell_type": "code",
   "outputs": [],
   "execution_count": null,
   "source": [
    "\n",
    "\n",
    "\n",
    "\n",
    "\n",
    "\n",
    "\n",
    "\n",
    "\n"
   ]
  },
  {
   "metadata": {},
   "cell_type": "markdown",
   "source": [
    "**Boolean variables**\n",
    "\n",
    "A boolean variable is either ... or ....\n",
    "\n",
    "Select one option from the list\n",
    "\n",
    "\n",
    "false, true       T\n",
    "\n",
    "none of these\n",
    "\n",
    "no, yes\n",
    "\n",
    "0, 1"
   ]
  },
  {
   "metadata": {},
   "cell_type": "code",
   "outputs": [],
   "execution_count": null,
   "source": [
    "\n",
    "\n",
    "\n",
    "\n",
    "\n",
    "\n",
    "\n",
    "\n",
    "\n"
   ]
  },
  {
   "metadata": {},
   "cell_type": "markdown",
   "source": [
    "**Match operations and definitions**\n",
    "\n",
    "Match the names of operations with their definitions.\n",
    "\n",
    "!\n",
    "xor\n",
    "&&\n",
    "||\n",
    "\n",
    "A unary operator that reverses a boolean value.\n",
    "A binary operator that returns true if boolean operands have different values, otherwise, false.\n",
    "A binary operator that returns true if both operands are true, otherwise, false.\n",
    "A binary operator that returns true if at least one operand is true, otherwise, false."
   ]
  },
  {
   "metadata": {},
   "cell_type": "code",
   "outputs": [],
   "execution_count": null,
   "source": [
    "\n",
    "\n",
    "\n",
    "\n",
    "\n",
    "\n",
    "\n",
    "\n",
    "\n"
   ]
  },
  {
   "metadata": {},
   "cell_type": "markdown",
   "source": [
    "The OR operator\n",
    " Report a typo\n",
    "The OR operator is denoted as ...\n",
    "\n",
    "Select one option from the list\n",
    "\n",
    "!!\n",
    "\n",
    "??\n",
    "\n",
    "||\n",
    "\n",
    "&&"
   ]
  },
  {
   "metadata": {},
   "cell_type": "code",
   "outputs": [],
   "execution_count": null,
   "source": [
    "\n",
    "\n",
    "\n",
    "\n",
    "\n",
    "\n",
    "\n",
    "\n",
    "\n"
   ]
  },
  {
   "metadata": {},
   "cell_type": "markdown",
   "source": [
    "**The OR operator**\n",
    "\n",
    "The OR operator is denoted as ...\n",
    "\n",
    "Select one option from the list\n",
    "\n",
    "\n",
    "!!\n",
    "\n",
    "??\n",
    "\n",
    "||          T\n",
    "\n",
    "&&"
   ]
  },
  {
   "metadata": {},
   "cell_type": "code",
   "outputs": [],
   "execution_count": null,
   "source": [
    "\n",
    "\n",
    "\n",
    "\n",
    "\n",
    "\n",
    "\n",
    "\n",
    "\n"
   ]
  },
  {
   "metadata": {},
   "cell_type": "markdown",
   "source": [
    "**The AND operator**\n",
    "\n",
    "The AND operator is denoted as ...\n",
    "\n",
    "Select one option from the list\n",
    "\n",
    "&&           T\n",
    "\n",
    "||\n",
    "\n",
    "??\n",
    "\n",
    "!!"
   ]
  },
  {
   "metadata": {},
   "cell_type": "code",
   "outputs": [],
   "execution_count": null,
   "source": [
    "\n",
    "\n",
    "\n",
    "\n",
    "\n",
    "\n",
    "\n",
    "\n",
    "\n"
   ]
  },
  {
   "metadata": {},
   "cell_type": "markdown",
   "source": [
    "**Go to the store**\n",
    "\n",
    "Imagine you need to determine whether you should go to a store. There are two variables to help you make a choice:\n",
    "\n",
    "isClosingSoon determines that this store is closing soon (in a few minutes)\n",
    "isNear determines that this store is near you\n",
    "Write a boolean expression that is true if at least one condition is true:\n",
    "\n",
    "the store is not closing soon\n",
    "the store is near you\n",
    "Otherwise, the expression is false.\n",
    "\n",
    "Select one option from the list\n",
    "\n",
    "\n",
    "!isClosingSoon && isNear\n",
    "\n",
    "isClosingSoon || !isNear\n",
    "\n",
    "!isClosingSoon || isNear       T\n",
    "\n",
    "isClosingSoon xor isNear\n",
    "\n",
    "isClosingSoon && isNear"
   ]
  },
  {
   "metadata": {},
   "cell_type": "code",
   "outputs": [],
   "execution_count": null,
   "source": [
    "\n",
    "\n",
    "\n",
    "\n",
    "\n",
    "\n",
    "\n",
    "\n",
    "\n"
   ]
  },
  {
   "metadata": {},
   "cell_type": "markdown",
   "source": [
    "**Buy a car**\n",
    "\n",
    "You're a programmer and you want to buy a car. There are several restrictions on the path of buying a car:\n",
    "\n",
    "val mercedes = ...\n",
    "val red = ...\n",
    "val enoughMoney = ...\n",
    "\n",
    "val buyCar = enoughMoney && (!mercedes || red)\n",
    "\n",
    "So, select the desired combinations of restrictions when buyCar is true.\n",
    "\n",
    "\n",
    "enoughMoney is true, mercedes is false, red is false.        T\n",
    "\n",
    "enoughMoney is true, mercedes is false, red is true.          T\n",
    "\n",
    "enoughMoney is true, mercedes is true, red is false.\n",
    "\n",
    "enoughMoney is true, mercedes is true, red is true.           T\n",
    "\n",
    "enoughMoney is false, mercedes is false, red is true.\n"
   ]
  },
  {
   "metadata": {},
   "cell_type": "code",
   "outputs": [],
   "execution_count": null,
   "source": [
    "\n",
    "\n",
    "\n",
    "\n",
    "\n",
    "\n",
    "\n",
    "\n",
    "\n"
   ]
  },
  {
   "metadata": {},
   "cell_type": "markdown",
   "source": [
    "**Determine integer truthiness**\n",
    "\n",
    "A boolean value is either true or false. Given an integer value, determine if it is 'truthy' or 'falsy' according to these rules: 0 is 'falsy', and any other value is 'truthy'. Read an integer value from standard input and print 'true' if it is truthy, or 'false' if it is falsy.\n",
    "\n",
    "Sample Input 1:\n",
    "\n",
    "5\n",
    "\n",
    "Sample Output 1:\n",
    "\n",
    "true\n",
    "\n",
    "Sample Input 2:\n",
    "\n",
    "0\n",
    "\n",
    "Sample Output 2:\n",
    "\n",
    "false"
   ]
  },
  {
   "metadata": {},
   "cell_type": "code",
   "outputs": [],
   "execution_count": null,
   "source": [
    "import java.util.Scanner\n",
    "\n",
    "val scanner = Scanner(System.`in`)\n",
    "\n",
    "// Read an integer value from standard input\n",
    "val value = scanner.nextInt()\n",
    "\n",
    "// Determine if the value is 'truthy' or 'falsy'\n",
    "val result = value != 0\n",
    "\n",
    "// Print the result\n",
    "println(result)"
   ]
  },
  {
   "metadata": {},
   "cell_type": "code",
   "outputs": [],
   "execution_count": null,
   "source": [
    "\n",
    "\n",
    "\n",
    "\n",
    "\n",
    "\n",
    "\n",
    "\n",
    "\n"
   ]
  },
  {
   "metadata": {},
   "cell_type": "markdown",
   "source": [
    "**Combining boolean values for truth**\n",
    "\n",
    "Write a program that takes two boolean values as input and prints 'true' if both values are true, and 'false' otherwise. The input will be provided as two separate lines, each containing either 'true' or 'false'.\n",
    "\n",
    "Sample Input 1:\n",
    "\n",
    "true\n",
    "true\n",
    "\n",
    "Sample Output 1:\n",
    "\n",
    "true\n",
    "\n",
    "Sample Input 2:\n",
    "\n",
    "true\n",
    "false\n",
    "\n",
    "Sample Output 2:\n",
    "\n",
    "false"
   ]
  },
  {
   "metadata": {},
   "cell_type": "code",
   "outputs": [],
   "execution_count": null,
   "source": [
    "import java.util.Scanner\n",
    "\n",
    "val scanner = Scanner(System.`in`)\n",
    "\n",
    "// Read the two boolean inputs\n",
    "val bool1 = scanner.nextBoolean()\n",
    "val bool2 = scanner.nextBoolean()\n",
    "\n",
    "// Print true if both are true, false otherwise\n",
    "val result = bool1 && bool2\n",
    "println(result)"
   ]
  },
  {
   "metadata": {},
   "cell_type": "markdown",
   "source": ""
  },
  {
   "metadata": {},
   "cell_type": "code",
   "outputs": [],
   "execution_count": null,
   "source": [
    "\n",
    "\n",
    "\n",
    "\n",
    "\n",
    "\n",
    "\n",
    "\n",
    "\n",
    "\n",
    "\n",
    "\n",
    "\n",
    "\n"
   ]
  },
  {
   "metadata": {},
   "cell_type": "markdown",
   "source": [
    "**Decoding a specific user command**\n",
    "\n",
    "You've received a user command that always starts with the word 'RUN' followed by a string that may vary. Create a program that decodes this command and prints 'true' if the command is 'RUN silent' and 'false' in any other case. The input will be a single line with the command and the output should be a single boolean value.\n",
    "\n",
    "Sample Input 1:\n",
    "\n",
    "RUN silent\n",
    "\n",
    "Sample Output 1:\n",
    "\n",
    "true\n",
    "\n",
    "Sample Input 2:\n",
    "\n",
    "RUN loud\n",
    "\n",
    "Sample Output 2:\n",
    "\n",
    "false"
   ]
  },
  {
   "metadata": {},
   "cell_type": "code",
   "outputs": [],
   "execution_count": null,
   "source": [
    "// imports here\n",
    "import java.util.*\n",
    "\n",
    "// The \"Scanner\" class is used to get user input for primitive types like int, double, etc.\n",
    "val scanner = Scanner(System.`in`)\n",
    "\n",
    "/**\n",
    " * Read the line provided by the user\n",
    " */\n",
    "fun readInput(): String {\n",
    "    return scanner.nextLine()\n",
    "}\n",
    "\n",
    "/**\n",
    " * Evaluate the command 'RUN silent' and return 'true' or 'false' accordingly.\n",
    " * Please write your boolean logic here to solve the problem.\n",
    " */\n",
    "fun evaluateCommand(input: String): Boolean {\n",
    "    return input == \"RUN silent\"\n",
    "}\n",
    "\n",
    "/**\n",
    " * The main function, answer to the problem must be printed from this function\n",
    " */\n",
    "fun main() {\n",
    "    val command = readInput()\n",
    "    val result = evaluateCommand(command)\n",
    "    println(result)\n",
    "}\n"
   ]
  },
  {
   "metadata": {},
   "cell_type": "code",
   "outputs": [],
   "execution_count": null,
   "source": [
    "\n",
    "\n",
    "\n",
    "\n",
    "\n",
    "\n",
    "\n",
    "\n",
    "\n",
    "\n",
    "\n",
    "\n",
    "\n",
    "\n"
   ]
  },
  {
   "metadata": {},
   "cell_type": "markdown",
   "source": [
    "**Night watch and motion magic**\n",
    "\n",
    "A home security system needs to be activated under specific conditions. Can you fill in the blanks in the code to make the security system work correctly? The system should be active when the door is open at night or when motion is detected."
   ]
  },
  {
   "metadata": {},
   "cell_type": "code",
   "outputs": [],
   "execution_count": null,
   "source": [
    "fun isSecuritySystemActive(isDoorOpen: Boolean, isNighttime: Boolean, isMotionDetected: Boolean): Boolean {\n",
    "\n",
    "    val doorAndNightCondition = isDoorOpen && isNighttime\n",
    "    val systemActive = doorAndNightCondition || isMotionDetected\n",
    "    println(\"Security System Active: $systemActive\")\n",
    "    return systemActive\n",
    "\n",
    "}"
   ]
  },
  {
   "metadata": {},
   "cell_type": "code",
   "outputs": [],
   "execution_count": null,
   "source": [
    "\n",
    "\n",
    "\n",
    "\n",
    "\n",
    "\n",
    "\n",
    "\n",
    "\n"
   ]
  },
  {
   "metadata": {},
   "cell_type": "code",
   "outputs": [],
   "execution_count": null,
   "source": ""
  },
  {
   "metadata": {},
   "cell_type": "markdown",
   "source": [
    "**Expressions**\n",
    "\n",
    "Which expressions return true if b1 is true and b2 is false?\n",
    "\n",
    "Select one or more options from the list\n",
    "\n",
    "b1 && b2\n",
    "\n",
    "b1 xor b2     t\n",
    "\n",
    "b1 && !b2      t\n",
    "\n",
    "b1 || b2       t\n"
   ]
  },
  {
   "metadata": {},
   "cell_type": "markdown",
   "source": ""
  }
 ],
 "metadata": {
  "kernelspec": {
   "display_name": "Kotlin",
   "language": "kotlin",
   "name": "kotlin"
  },
  "language_info": {
   "name": "kotlin",
   "version": "1.9.23",
   "mimetype": "text/x-kotlin",
   "file_extension": ".kt",
   "pygments_lexer": "kotlin",
   "codemirror_mode": "text/x-kotlin",
   "nbconvert_exporter": ""
  }
 },
 "nbformat": 4,
 "nbformat_minor": 0
}
