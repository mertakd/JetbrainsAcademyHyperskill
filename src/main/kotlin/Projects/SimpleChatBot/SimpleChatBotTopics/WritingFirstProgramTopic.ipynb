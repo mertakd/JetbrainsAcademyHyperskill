{
 "cells": [
  {
   "cell_type": "code",
   "execution_count": null,
   "metadata": {
    "collapsed": true
   },
   "outputs": [],
   "source": [
    ""
   ]
  },
  {
   "metadata": {},
   "cell_type": "markdown",
   "source": [
    "\n",
    "\n",
    "---\n",
    "\n",
    "### 👋 **İlk Kotlin Programı: \"Hello, World!\"**\n",
    "\n",
    "```kotlin\n",
    "fun main() {\n",
    "    println(\"Hello, World!\")\n",
    "}\n",
    "```\n",
    "\n",
    "Bu basit program, Kotlin dilinde yazılmış çalışan bir program örneğidir ve temel sözdizimini gösterir.\n",
    "\n",
    "---\n",
    "\n",
    "### 🧠 **Temel Terimler:**\n",
    "\n",
    "* **Program:** Sıralı şekilde çalışan komutlar bütünüdür.\n",
    "* **Statement (İfade):** Tek bir komut, örneğin: `println(\"Hello\")`\n",
    "* **Expression (İfade):** Değer üreten bir kod parçası, örn: `2 * 2`\n",
    "* **Block:** `{ ... }` süslü parantezler içindeki kod bloğu\n",
    "* **Keyword (Anahtar Kelime):** Özel anlam taşıyan sabit sözcükler, örn: `fun`\n",
    "* **Identifier:** Programcının tanımladığı isimler, örn: `main`\n",
    "* **Comment (Yorum):** Kodda açıklama yapmak için yazılır, `//` ile başlar\n",
    "* **Whitespace:** Boşluk, tab, satır sonu gibi boşluk karakterleri\n",
    "\n",
    "---\n",
    "\n",
    "### ▶️ **Programın Giriş Noktası: `main` Fonksiyonu**\n",
    "\n",
    "* `fun main()` ifadesiyle başlar.\n",
    "* `main` ismi **zorunludur** — `Main` veya `MAIN` yazarsan çalışmaz.\n",
    "* Gövde `{}` içine yazılanlar çalıştırılır.\n",
    "\n",
    "---\n",
    "\n",
    "### 📤 **Ekrana Yazı Yazma: `println()`**\n",
    "\n",
    "* `\"Hello, World!\"` bir **string literal**’dır, tırnaklar içinde yazılır.\n",
    "* `println(\"...\")` fonksiyonu ile ekrana yazı ve satır sonu yazdırılır.\n",
    "\n",
    "---\n",
    "\n",
    "### 🔁 **Birden Fazla Satır Yazmak:**\n",
    "\n",
    "```kotlin\n",
    "fun main() {\n",
    "    println(\"Hello\")\n",
    "    println(\"World\")\n",
    "}\n",
    "```\n",
    "\n",
    "Ekrana şunu yazar:\n",
    "\n",
    "```\n",
    "Hello\n",
    "World\n",
    "```\n",
    "\n",
    "---\n",
    "\n",
    "### ✅ **Sonuç:**\n",
    "\n",
    "* İlk Kotlin programını yazdın: `Hello, World!`\n",
    "* `main()` fonksiyonu programın çalıştığı yerdir.\n",
    "* `println()` ile ekrana yazı yazılır.\n",
    "* Bu örnek, gelecekteki programların temelini oluşturur.\n",
    "\n",
    "---\n",
    "\n",
    "\n"
   ]
  },
  {
   "metadata": {},
   "cell_type": "markdown",
   "source": ""
  }
 ],
 "metadata": {
  "kernelspec": {
   "display_name": "Kotlin",
   "language": "kotlin",
   "name": "kotlin"
  },
  "language_info": {
   "name": "kotlin",
   "version": "1.9.23",
   "mimetype": "text/x-kotlin",
   "file_extension": ".kt",
   "pygments_lexer": "kotlin",
   "codemirror_mode": "text/x-kotlin",
   "nbconvert_exporter": ""
  }
 },
 "nbformat": 4,
 "nbformat_minor": 0
}
