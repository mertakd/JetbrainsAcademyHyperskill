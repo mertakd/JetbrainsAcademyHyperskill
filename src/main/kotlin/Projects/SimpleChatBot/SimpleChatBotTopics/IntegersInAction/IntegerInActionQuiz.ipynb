{
 "cells": [
  {
   "cell_type": "code",
   "execution_count": null,
   "metadata": {
    "collapsed": true
   },
   "outputs": [],
   "source": ""
  },
  {
   "metadata": {},
   "cell_type": "markdown",
   "source": [
    "**Banking Big: Handling Giant Transactions**\n",
    "\n",
    "In a Kotlin application for simulating a banking system, you need to handle transactions that could compute very high values potentially above the standard 32-bit integer limit. What is the recommended practice to declare a variable for storing these transaction amounts to avoid overflow issues?\n",
    "\n",
    "Declare the variable as Int and handle overflow exceptions.\n",
    "\n",
    "Convert all transaction amounts to String and parse them when needed.\n",
    "\n",
    "Store the transaction amounts in a Double for higher precision.\n",
    "\n",
    "Use the Long data type to accommodate larger numbers.  T"
   ]
  },
  {
   "metadata": {},
   "cell_type": "code",
   "outputs": [],
   "execution_count": null,
   "source": [
    "\n",
    "\n",
    "\n",
    "\n",
    "\n",
    "\n",
    "\n",
    "\n",
    "\n",
    "\n"
   ]
  },
  {
   "metadata": {},
   "cell_type": "markdown",
   "source": [
    "**Integer division**\n",
    "\n",
    "What is the output of these operations?\n",
    "\n",
    "val a = 5 / 2\n",
    "val b = 3 / 2\n",
    "print(a + b)\n",
    "\n",
    "Select one option from the list\n",
    "\n",
    "3  T\n",
    "\n",
    "4\n",
    "\n",
    "5\n",
    "\n",
    "Arithmetic exception is thrown"
   ]
  },
  {
   "metadata": {},
   "cell_type": "code",
   "outputs": [],
   "execution_count": null,
   "source": [
    "\n",
    "\n",
    "\n",
    "\n",
    "\n",
    "\n",
    "\n",
    "\n",
    "\n",
    "\n"
   ]
  },
  {
   "metadata": {},
   "cell_type": "markdown",
   "source": [
    "**Integer operations**\n",
    "\n",
    "What is the result of these operations?\n",
    "\n",
    "val secret1 = -1L\n",
    "val x = 10 % 3 + 7 / 2 / 2\n",
    "val y = secret1 * x + 3\n",
    "print(y - x)\n",
    "\n",
    "Write the answer as a number. For example, 123\n",
    "\n",
    "SOL -1"
   ]
  },
  {
   "metadata": {},
   "cell_type": "code",
   "outputs": [],
   "execution_count": null,
   "source": [
    "\n",
    "\n",
    "\n",
    "\n",
    "\n",
    "\n",
    "\n",
    "\n",
    "\n"
   ]
  },
  {
   "metadata": {},
   "cell_type": "markdown",
   "source": [
    "**Underscore**\n",
    "\n",
    "We use underscores (_) inside numbers to ...\n",
    "\n",
    "Select one or more options from the list\n",
    "\n",
    "mark numbers, that are greater than 1000.\n",
    "\n",
    "logicaly separate any group of digits inside a number.  T\n",
    "\n",
    "separate digits of Long numbers only.\n",
    "\n",
    "separate digits of Int numbers only."
   ]
  },
  {
   "metadata": {},
   "cell_type": "code",
   "outputs": [],
   "execution_count": null,
   "source": [
    "\n",
    "\n",
    "\n",
    "\n",
    "\n",
    "\n",
    "\n",
    "\n",
    "\n"
   ]
  },
  {
   "metadata": {},
   "cell_type": "markdown",
   "source": [
    "**Time difference**\n",
    "\n",
    "We are going to consider two moments in time that happened on the same day — hours, minutes, and seconds. It is known that the second moment happened not earlier than the first one. Find how many seconds passed between the two moments.\n",
    "\n",
    "Input data format\n",
    "\n",
    "The program receives three integers: hours, minutes, seconds of the first moment, and three integers of the second moment.\n",
    "\n",
    "Output data format\n",
    "\n",
    "Output the number of seconds between these two moments.\n",
    "\n",
    "Sample Input 1:\n",
    "\n",
    "1\n",
    "1\n",
    "1\n",
    "2\n",
    "2\n",
    "2\n",
    "\n",
    "Sample Output 1:\n",
    "\n",
    "3661\n",
    "\n",
    "Sample Input 2:\n",
    "\n",
    "1\n",
    "2\n",
    "30\n",
    "1\n",
    "3\n",
    "20\n",
    "\n",
    "Sample Output 2:\n",
    "\n",
    "50\n",
    "\n"
   ]
  },
  {
   "metadata": {},
   "cell_type": "code",
   "outputs": [],
   "execution_count": null,
   "source": [
    "import java.util.Scanner\n",
    "\n",
    "//SOL1\n",
    "val scanner = Scanner(System.`in`)\n",
    "val hours1 = scanner.nextInt()\n",
    "val minutes1 = scanner.nextInt()\n",
    "val seconds1 = scanner.nextInt()\n",
    "val hours2 = scanner.nextInt()\n",
    "val minutes2 = scanner.nextInt()\n",
    "val seconds2 = scanner.nextInt()\n",
    "\n",
    "val totalSeconds1 = hours1 * 3600 + minutes1 * 60 + seconds1\n",
    "val totalSeconds2 = hours2 * 3600 + minutes2 * 60 + seconds2\n",
    "\n",
    "println(totalSeconds2 - totalSeconds1)"
   ]
  },
  {
   "metadata": {},
   "cell_type": "code",
   "outputs": [],
   "execution_count": null,
   "source": [
    "//SOL2\n",
    "val h1 = readLine()!!.toInt()\n",
    "val m1 = readLine()!!.toInt()\n",
    "val s1 = readLine()!!.toInt()\n",
    "val h2 = readLine()!!.toInt()\n",
    "val m2 = readLine()!!.toInt()\n",
    "val s2 = readLine()!!.toInt()\n",
    "val answer = (h2 - h1) * 3600 + (m2 - m1) * 60 + s2 - s1\n",
    "println(answer)"
   ]
  },
  {
   "metadata": {},
   "cell_type": "code",
   "outputs": [],
   "execution_count": null,
   "source": [
    "//SOL3\n",
    "fun readTimeInSeconds() = 60 * 60 * readLine()!!.toInt() + 60 * readLine()!!.toInt() + readLine()!!.toInt()\n",
    "\n",
    "val seconds1 = readTimeInSeconds()\n",
    "val seconds2 = readTimeInSeconds()\n",
    "\n",
    "println(seconds2 - seconds1)"
   ]
  },
  {
   "metadata": {},
   "cell_type": "code",
   "outputs": [],
   "execution_count": null,
   "source": [
    "//SOL4\n",
    "fun readTime(): Int {\n",
    "    val (hour, min, sec) = Array(3) { readLine()!!.toInt() }\n",
    "    return sec + min * 60 + hour * 60 * 60\n",
    "}\n",
    "\n",
    "println(-readTime() + readTime())"
   ]
  },
  {
   "metadata": {},
   "cell_type": "code",
   "outputs": [],
   "execution_count": null,
   "source": [
    "\n",
    "\n",
    "\n",
    "\n",
    "\n",
    "\n",
    "\n",
    "\n",
    "\n",
    "\n",
    "\n",
    "\n"
   ]
  },
  {
   "metadata": {},
   "cell_type": "markdown",
   "source": [
    "**Underscore**\n",
    "\n",
    "We can write underscores (_) ...\n",
    "\n",
    "Select one option from the list\n",
    "\n",
    "in any place inside a number, but not near other underscore.\n",
    "\n",
    "before or after a number.\n",
    "\n",
    "only every three digits, counting from the right.\n",
    "\n",
    "in any place inside a number.  T"
   ]
  },
  {
   "metadata": {},
   "cell_type": "code",
   "outputs": [],
   "execution_count": null,
   "source": [
    "\n",
    "\n",
    "\n",
    "\n",
    "\n",
    "\n",
    "\n",
    "\n",
    "\n",
    "\n"
   ]
  },
  {
   "metadata": {},
   "cell_type": "markdown",
   "source": [
    "**Apple pie**\n",
    "\n",
    "You've postponed this problem 2 years ago.\n",
    "Maybe now is a good time to try it out again?\n",
    "You and your friend decided to bake an apple pie. However, you don't know how many apples you have in total. So, your friend wrote a program that calculates the sum of apples as the sum of unsigned integers.\n",
    "\n",
    "It does not work correctly now. Find and fix errors in this program.\n",
    "\n",
    "Write a program in Kotlin\n"
   ]
  },
  {
   "metadata": {},
   "cell_type": "code",
   "outputs": [],
   "execution_count": null,
   "source": [
    "val yourApples: UInt = 5u\n",
    "val friendsApples: UInt = 7u\n",
    "val totalApples: UInt = yourApples + friendsApples\n",
    "\n",
    "println(totalApples)\n",
    "\n",
    "// do not change the code below\n",
    "println(\"${yourApples::class.simpleName}\")\n",
    "println(\"${friendsApples::class.simpleName}\")"
   ]
  },
  {
   "metadata": {},
   "cell_type": "code",
   "outputs": [],
   "execution_count": null,
   "source": [
    "\n",
    "\n",
    "\n",
    "\n",
    "\n",
    "\n",
    "\n",
    "\n",
    "\n",
    "\n"
   ]
  },
  {
   "metadata": {},
   "cell_type": "markdown",
   "source": [
    "**The last digit of a number**\n",
    "\n",
    "Write a program that reads a number and outputs its last digit.\n",
    "\n",
    "Sample Input 1:\n",
    "\n",
    "425\n",
    "\n",
    "Sample Output 1:\n",
    "\n",
    "5"
   ]
  },
  {
   "metadata": {},
   "cell_type": "code",
   "outputs": [],
   "execution_count": null,
   "source": [
    "val number = readln().toInt()\n",
    "val lastDigit = number % 10\n",
    "println(lastDigit)"
   ]
  },
  {
   "metadata": {},
   "cell_type": "code",
   "outputs": [],
   "execution_count": null,
   "source": [
    "\n",
    "\n",
    "\n",
    "\n",
    "\n",
    "\n",
    "\n",
    "\n",
    "\n"
   ]
  },
  {
   "metadata": {},
   "cell_type": "markdown",
   "source": [
    "**Good rest on vacation**\n",
    "\n",
    "Write a program that helps people who are going on vacation. The program should calculate the total sum (in $) required for a particular holiday period.\n",
    "\n",
    "\n",
    "Consider four parameters:\n",
    "\n",
    "duration in days\n",
    "total food cost per day\n",
    "one-way flight cost\n",
    "cost of one night in a hotel (the number of nights is the duration minus one)\n",
    "Read the values of these parameters from the standard input and then print the result.\n",
    "\n",
    "Do not forget about the return ticket.\n",
    "\n",
    "Sample Input 1:\n",
    "\n",
    "7\n",
    "30\n",
    "100\n",
    "40\n",
    "\n",
    "Sample Output 1:\n",
    "\n",
    "650"
   ]
  },
  {
   "metadata": {},
   "cell_type": "code",
   "outputs": [],
   "execution_count": null,
   "source": [
    "val duration = readln().toInt()\n",
    "val foodPerDay = readln().toInt()\n",
    "val oneWayFlight = readln().toInt()\n",
    "val hotelPerNight = readln().toInt()\n",
    "\n",
    "val totalFood = duration * foodPerDay\n",
    "val totalFlights = 2 * oneWayFlight // gidiş + dönüş\n",
    "val totalHotel = (duration - 1) * hotelPerNight\n",
    "\n",
    "val totalCost = totalFood + totalFlights + totalHotel\n",
    "\n",
    "println(totalCost)"
   ]
  },
  {
   "metadata": {},
   "cell_type": "code",
   "outputs": [],
   "execution_count": null,
   "source": [
    "\n",
    "\n",
    "\n",
    "\n",
    "\n",
    "\n",
    "\n",
    "\n",
    "\n",
    "\n"
   ]
  },
  {
   "metadata": {},
   "cell_type": "markdown",
   "source": [
    "**Day of the week**\n",
    "\n",
    "If it is Tuesday today, what day of the week will it be 100 days from now? You can type a text (Sunday, Monday, Tuesday, Wednesday, Thursday, Friday, Saturday) or a number (1 is Sunday, 2 is Monday e.t.c.).\n",
    "\n",
    "Enter a short text\n",
    "Thursday"
   ]
  },
  {
   "metadata": {
    "ExecuteTime": {
     "end_time": "2025-07-27T15:25:48.979448400Z",
     "start_time": "2025-07-27T15:25:48.797295100Z"
    }
   },
   "cell_type": "code",
   "source": [
    "\n",
    "    val daysOfWeek = listOf(\"Sunday\", \"Monday\", \"Tuesday\", \"Wednesday\", \"Thursday\", \"Friday\", \"Saturday\")\n",
    "    val todayIndex = 2 // Tuesday\n",
    "    val daysLater = (todayIndex + 100) % 7\n",
    "    println(daysOfWeek[daysLater])\n",
    "\n"
   ],
   "outputs": [
    {
     "name": "stdout",
     "output_type": "stream",
     "text": [
      "Thursday\r\n"
     ]
    }
   ],
   "execution_count": 1
  },
  {
   "metadata": {},
   "cell_type": "code",
   "outputs": [],
   "execution_count": null,
   "source": [
    "\n",
    "\n",
    "\n",
    "\n",
    "\n",
    "\n",
    "\n",
    "\n",
    "\n",
    "\n"
   ]
  },
  {
   "metadata": {},
   "cell_type": "markdown",
   "source": [
    "**Sum of integers taken from console input**\n",
    "\n",
    "Write a program that calculates the total sum of several integers. First, it takes an integer representing the number of values to sum. Second, it takes as many integers as specified by the first integer. The program should output the sum of all the integers taken as input to the console.\n",
    "\n",
    "Sample Input 1:\n",
    "\n",
    "3\n",
    "42\n",
    "100\n",
    "125\n",
    "\n",
    "Sample Output 1:\n",
    "\n",
    "267\n",
    "\n",
    "Sample Input 2:\n",
    "\n",
    "5\n",
    "3\n",
    "3\n",
    "5\n",
    "5\n",
    "6\n",
    "\n",
    "Sample Output 2:\n",
    "\n",
    "22"
   ]
  },
  {
   "metadata": {},
   "cell_type": "code",
   "outputs": [],
   "execution_count": null,
   "source": [
    "import java.util.Scanner\n",
    "\n",
    "val scanner = Scanner(System.`in`)\n",
    "\n",
    "val count = scanner.nextInt() // Kaç sayı girilecek\n",
    "\n",
    "var sum = 0\n",
    "\n",
    "for (i in 1..count) {\n",
    "    val number = scanner.nextInt()\n",
    "    sum += number // her sayıyı toplama ekle\n",
    "}\n",
    "\n",
    "println(sum)"
   ]
  },
  {
   "metadata": {},
   "cell_type": "code",
   "outputs": [],
   "execution_count": null,
   "source": [
    "//SOL2\n",
    "var sum = 0\n",
    "repeat(readln().toInt()) {\n",
    "    sum += readln().toInt()\n",
    "}\n",
    "println(sum)"
   ]
  },
  {
   "metadata": {},
   "cell_type": "code",
   "outputs": [],
   "execution_count": null,
   "source": [
    "//SOL3\n",
    "println(List(readln().toInt()) { readln().toInt() }.sum())"
   ]
  },
  {
   "metadata": {},
   "cell_type": "markdown",
   "source": ""
  },
  {
   "metadata": {},
   "cell_type": "code",
   "outputs": [],
   "execution_count": null,
   "source": [
    "\n",
    "\n",
    "\n",
    "\n",
    "\n",
    "\n",
    "\n",
    "\n",
    "\n",
    "\n",
    "\n",
    "\n",
    "\n",
    "\n"
   ]
  },
  {
   "metadata": {},
   "cell_type": "markdown",
   "source": [
    "**Time format**\n",
    "\n",
    "You are given a number representing the number of seconds passed since 1.1.1970.\n",
    "Write a program that calculates the current time using the / and % operators, and print it out with the given format: \"hours:minutes:seconds\"\n",
    "\n",
    "Example: \"14:9:7\""
   ]
  },
  {
   "metadata": {},
   "cell_type": "code",
   "outputs": [],
   "execution_count": null,
   "source": [
    "val totalSeconds = System.currentTimeMillis() / 1000 // do not change this line\n",
    "\n",
    "val seconds = totalSeconds % 60\n",
    "val totalMinutes = totalSeconds / 60\n",
    "val minutes = totalMinutes % 60\n",
    "val hours = (totalMinutes / 60) % 24 // 0-23 arası saat formatı için\n",
    "\n",
    "println(\"$hours:$minutes:$seconds\")"
   ]
  },
  {
   "metadata": {},
   "cell_type": "code",
   "outputs": [],
   "execution_count": null,
   "source": [
    "\n",
    "\n",
    "\n",
    "\n",
    "\n",
    "\n",
    "\n",
    "\n",
    "\n",
    "\n",
    "\n"
   ]
  },
  {
   "metadata": {},
   "cell_type": "markdown",
   "source": [
    "**Desks**\n",
    "\n",
    "The school has decided to create three new math groups and equip classrooms with new desks. There is a place for exactly two people at every desk. So, no more than two students can occupy a desk. We know how many students are in each group. Output the smallest number of desks that the school needs to buy. Each group sits in a separate classroom.\n",
    "\n",
    "Input data format\n",
    "\n",
    "The program receives three non-negative integers — the number of students in each of three classes (the numbers do not exceed 1000).\n",
    "\n",
    "Sample Input 1:\n",
    "\n",
    "20\n",
    "21\n",
    "22\n",
    "\n",
    "Sample Output 1:\n",
    "\n",
    "32\n",
    "\n",
    "Sample Input 2:\n",
    "\n",
    "16\n",
    "18\n",
    "20\n",
    "\n",
    "Sample Output 2:\n",
    "\n",
    "27"
   ]
  },
  {
   "metadata": {},
   "cell_type": "code",
   "outputs": [],
   "execution_count": null,
   "source": [
    "//sol1\n",
    "val class1 = readLine()!!.toInt()\n",
    "val class2 = readLine()!!.toInt()\n",
    "val class3 = readLine()!!.toInt()\n",
    "\n",
    "// Her sınıf için gerekli sıra sayısı: (öğrenci sayısı + 1) / 2\n",
    "val desks1 = (class1 + 1) / 2\n",
    "val desks2 = (class2 + 1) / 2\n",
    "val desks3 = (class3 + 1) / 2\n",
    "\n",
    "val totalDesks = desks1 + desks2 + desks3\n",
    "println(totalDesks)"
   ]
  },
  {
   "metadata": {},
   "cell_type": "code",
   "outputs": [],
   "execution_count": null,
   "source": [
    "//sol2\n",
    "val COUNT = 3\n",
    "val desks = List(COUNT) { (readLine()!!.toInt() + 1) / 2 }.sum()\n",
    "println(desks)"
   ]
  },
  {
   "metadata": {},
   "cell_type": "code",
   "outputs": [],
   "execution_count": null,
   "source": [
    "\n",
    "\n",
    "\n",
    "\n",
    "\n",
    "\n",
    "\n",
    "\n",
    "\n",
    "\n",
    "\n"
   ]
  },
  {
   "metadata": {},
   "cell_type": "markdown",
   "source": [
    "**Declaring Long**\n",
    "What values will be defined as Long if we insert them into this piece of code?\n",
    "\n",
    "val magic = 2_000_000_000\n",
    "val giant = 3_000_000_000\n",
    "// insert here\n",
    "\n",
    "Tip: The maximum number that can be used as Int in Kotlin is 2_147_483_647. Think about the type of magic and giant and then keep in mind type coercion.\n",
    "\n",
    "Select one or more options from the list\n",
    "\n",
    "\n",
    "val x = magic + magic + 1\n",
    "\n",
    "val x = 100L - magic  t\n",
    "\n",
    "val x = giant - magic  t\n",
    "\n",
    "val x = (magic + giant) % 10  t"
   ]
  },
  {
   "metadata": {},
   "cell_type": "markdown",
   "source": ""
  },
  {
   "metadata": {},
   "cell_type": "code",
   "outputs": [],
   "execution_count": null,
   "source": [
    "\n",
    "\n",
    "\n",
    "\n",
    "\n",
    "\n",
    "\n",
    "\n",
    "\n",
    "\n",
    "\n",
    "\n"
   ]
  },
  {
   "metadata": {},
   "cell_type": "markdown",
   "source": [
    "**Sum two integers and increment the total by one**\n",
    "\n",
    "Suppose you are given two integers entered by the user. Your task is to create a Kotlin program that calculates the sum of these two integers, then increment the sum by one and output the result. The expected input comes from the Standard Input using the Java Scanner technique and the output must be a phrase indicating the incremented sum. You need to reorder the lines of code to solve the problem efficiently adhering to Kotlin best practices. Your solution should handle the basic integer operations seamlessly."
   ]
  },
  {
   "metadata": {
    "ExecuteTime": {
     "end_time": "2025-07-27T15:46:33.612837700Z",
     "start_time": "2025-07-27T15:46:29.474678600Z"
    }
   },
   "cell_type": "code",
   "source": [
    "import java.util.Scanner\n",
    "\n",
    "val scanner = Scanner(System.`in`)\n",
    "\n",
    "println(\"Enter first integer:\")\n",
    "val num1 = scanner.nextInt()\n",
    "\n",
    "println(\"Enter second integer:\")\n",
    "val num2 = scanner.nextInt()\n",
    "\n",
    "var sum = num1 + num2\n",
    "sum++\n",
    "\n",
    "println(\"The incremented sum of two integers is $sum\")"
   ],
   "outputs": [
    {
     "name": "stdout",
     "output_type": "stream",
     "text": [
      "Enter first integer:\r\n",
      "Enter second integer:\r\n",
      "The incremented sum of two integers is 11\r\n"
     ]
    }
   ],
   "execution_count": 3
  },
  {
   "metadata": {},
   "cell_type": "markdown",
   "source": ""
  },
  {
   "metadata": {},
   "cell_type": "code",
   "outputs": [],
   "execution_count": null,
   "source": [
    "\n",
    "\n",
    "\n",
    "\n",
    "\n",
    "\n",
    "\n",
    "\n",
    "\n",
    "\n",
    "\n",
    "\n",
    "\n"
   ]
  },
  {
   "metadata": {},
   "cell_type": "markdown",
   "source": [
    "**Increment and square root manipulation**\n",
    "\n",
    "You have been given an integer number. You need to print two values. The first one should be the original number incremented by two. For the second value, you need to coerce the original number to a double and take a square root from it.\n",
    "\n",
    "Sample Input 1:\n",
    "\n",
    "10\n",
    "\n",
    "Sample Output 1:\n",
    "\n",
    "12\n",
    "3.1622776601683795\n",
    "\n",
    "Sample Input 2:\n",
    "\n",
    "4\n",
    "\n",
    "Sample Output 2:\n",
    "\n",
    "6\n",
    "2.0"
   ]
  },
  {
   "metadata": {
    "ExecuteTime": {
     "end_time": "2025-07-27T15:50:39.063075400Z",
     "start_time": "2025-07-27T15:50:34.072519800Z"
    }
   },
   "cell_type": "code",
   "source": [
    "import java.util.*\n",
    "import kotlin.math.sqrt\n",
    "\n",
    "val scanner = Scanner(System.`in`)\n",
    "val number = scanner.nextInt()\n",
    "\n",
    "val incremented = number + 2\n",
    "val squareRoot = sqrt(number.toDouble())\n",
    "\n",
    "println(incremented)\n",
    "println(squareRoot)\n"
   ],
   "outputs": [
    {
     "name": "stdout",
     "output_type": "stream",
     "text": [
      "33\r\n",
      "5.5677643628300215\r\n"
     ]
    }
   ],
   "execution_count": 4
  },
  {
   "metadata": {},
   "cell_type": "code",
   "outputs": [],
   "execution_count": null,
   "source": [
    "//sol2\n",
    "readln().toInt().apply {\n",
    "    println(this + 2)\n",
    "    println(sqrt(this.toDouble()))\n",
    "}"
   ]
  },
  {
   "metadata": {},
   "cell_type": "code",
   "outputs": [],
   "execution_count": null,
   "source": [
    "\n",
    "\n",
    "\n",
    "\n",
    "\n",
    "\n",
    "\n",
    "\n",
    "\n"
   ]
  },
  {
   "metadata": {},
   "cell_type": "markdown",
   "source": ""
  },
  {
   "metadata": {},
   "cell_type": "markdown",
   "source": [
    "**Divide nuts equally between squirrels**\n",
    "\n",
    "You've postponed this problem 2 years ago.\n",
    "Maybe now is a good time to try it out again?\n",
    "N squirrels found K nuts and decided to split them equally. Calculate how many nuts go for each squirrel.\n",
    "\n",
    "Input data format\n",
    "\n",
    "There are two positive numbers N and K, each of them is not greater than 10000.\n",
    "\n",
    "Sample Input 1:\n",
    "\n",
    "3\n",
    "14\n",
    "\n",
    "Sample Output 1:\n",
    "\n",
    "4"
   ]
  },
  {
   "metadata": {
    "ExecuteTime": {
     "end_time": "2025-07-27T15:59:19.805578300Z",
     "start_time": "2025-07-27T15:59:14.654982700Z"
    }
   },
   "cell_type": "code",
   "source": [
    "val n = readln().toInt()\n",
    "val k = readln().toInt()\n",
    "\n",
    "val perSquirrel = k / n\n",
    "println(perSquirrel)"
   ],
   "outputs": [
    {
     "name": "stdout",
     "output_type": "stream",
     "text": [
      "10\r\n"
     ]
    }
   ],
   "execution_count": 6
  },
  {
   "metadata": {},
   "cell_type": "code",
   "outputs": [],
   "execution_count": null,
   "source": [
    "//sol2\n",
    "val (squirrels, nuts) = Array(2) { readLine()!!.toInt() }\n",
    "\n",
    "println(nuts / squirrels)"
   ]
  },
  {
   "metadata": {},
   "cell_type": "code",
   "outputs": [],
   "execution_count": null,
   "source": [
    "//sol3\n",
    "List(2) { readLine()!!.toInt() }.let { (n, k) -> k / n }.run(::print)"
   ]
  },
  {
   "metadata": {},
   "cell_type": "code",
   "outputs": [],
   "execution_count": null,
   "source": [
    "\n",
    "\n",
    "\n",
    "\n",
    "\n",
    "\n",
    "\n",
    "\n",
    "\n",
    "\n",
    "\n"
   ]
  },
  {
   "metadata": {},
   "cell_type": "markdown",
   "source": [
    "**How many nuts will be left after division**\n",
    "N squirrels found K nuts and decided to split them equally. Find how many nuts will be left after each of the squirrels takes an equal amount of nuts.\n",
    "\n",
    "Input data format\n",
    "\n",
    "There are two positive integers N and K, each of them is not greater than 10000.\n",
    "\n",
    "Sample Input 1:\n",
    "\n",
    "3\n",
    "14\n",
    "\n",
    "Sample Output 1:\n",
    "\n",
    "2"
   ]
  },
  {
   "metadata": {},
   "cell_type": "code",
   "outputs": [],
   "execution_count": null,
   "source": [
    "val n = readln().toInt() // sincap sayısı\n",
    "val k = readln().toInt() // fındık sayısı\n",
    "\n",
    "val remaining = k % n\n",
    "println(remaining)"
   ]
  },
  {
   "metadata": {},
   "cell_type": "code",
   "outputs": [],
   "execution_count": null,
   "source": [
    "\n",
    "\n",
    "\n",
    "\n",
    "\n",
    "\n",
    "\n",
    "\n",
    "\n",
    "\n",
    "\n"
   ]
  },
  {
   "metadata": {},
   "cell_type": "markdown",
   "source": [
    "**Next even number**\n",
    "\n",
    "Given a natural number N, not greater than 10000. Output the even number that follows this N.\n",
    "\n",
    "Tip: Try to write a short formula using the modulo operator %\n",
    "\n",
    "Sample Input 1:\n",
    "\n",
    "7\n",
    "\n",
    "Sample Output 1:\n",
    "\n",
    "8\n",
    "\n",
    "Sample Input 2:\n",
    "\n",
    "8\n",
    "\n",
    "Sample Output 2:\n",
    "\n",
    "10"
   ]
  },
  {
   "metadata": {},
   "cell_type": "code",
   "outputs": [],
   "execution_count": null,
   "source": [
    "val n = readln().toInt()\n",
    "val nextEven = n + 2 - (n % 2)\n",
    "println(nextEven)"
   ]
  },
  {
   "metadata": {},
   "cell_type": "code",
   "outputs": [],
   "execution_count": null,
   "source": [
    "//sol2\n",
    "var num = readLine()!!.toInt()\n",
    "println(++num + num % 2)"
   ]
  },
  {
   "metadata": {},
   "cell_type": "code",
   "outputs": [],
   "execution_count": null,
   "source": [
    "\n",
    "\n",
    "\n",
    "\n",
    "\n",
    "\n",
    "\n",
    "\n",
    "\n",
    "\n"
   ]
  },
  {
   "metadata": {},
   "cell_type": "markdown",
   "source": [
    "**The number of tens**\n",
    "\n",
    "Maybe now is a good time to try it out again?\n",
    "There is a non-negative integer N (0 ≤ N ≤ 1000000). Find the number of tens in it (next to the last digit of the number). If there is only one digit, you can consider that the number of tens equals zero.\n",
    "\n",
    "Sample Input 1:\n",
    "\n",
    "173\n",
    "\n",
    "Sample Output 1:\n",
    "\n",
    "7\n",
    "\n",
    "Write a program in Kotlin\n"
   ]
  },
  {
   "metadata": {},
   "cell_type": "code",
   "outputs": [],
   "execution_count": null,
   "source": [
    "//sol1\n",
    "val n = readln().toInt()\n",
    "val tens = if (n < 10) 0 else (n / 10) % 10\n",
    "println(tens)"
   ]
  },
  {
   "metadata": {},
   "cell_type": "code",
   "outputs": [],
   "execution_count": null,
   "source": [
    "//sol2\n",
    "println(readLine()!!.toInt() % 100 / 10)\n"
   ]
  },
  {
   "metadata": {},
   "cell_type": "code",
   "outputs": [],
   "execution_count": null,
   "source": [
    "//sol3\n",
    "import java.util.Scanner\n",
    "val scanner = Scanner(System.`in`)\n",
    "println(scanner.next().takeLast(2).toInt().div(10))"
   ]
  },
  {
   "metadata": {},
   "cell_type": "markdown",
   "source": ""
  },
  {
   "metadata": {},
   "cell_type": "code",
   "outputs": [],
   "execution_count": null,
   "source": [
    "\n",
    "\n",
    "\n",
    "\n",
    "\n",
    "\n",
    "\n",
    "\n",
    "\n",
    "\n",
    "\n"
   ]
  },
  {
   "metadata": {},
   "cell_type": "markdown",
   "source": [
    "The sum of digits\n",
    "\n",
    "There is a three-digit integer (an integer from 100 to 999). Find the sum of its digits.\n",
    "\n",
    "Don't forget that you can get digits in a number with /10 and %10.\n",
    "\n",
    "Sample Input 1:\n",
    "\n",
    "476\n",
    "\n",
    "Sample Output 1:\n",
    "\n",
    "17\n",
    "\n",
    "Write a program in Kotlin\n"
   ]
  },
  {
   "metadata": {
    "ExecuteTime": {
     "end_time": "2025-07-27T16:20:03.323266500Z",
     "start_time": "2025-07-27T16:19:52.731172600Z"
    }
   },
   "cell_type": "code",
   "source": [
    "//sol2\n",
    "\n",
    "    val n = readln().toInt()\n",
    "\n",
    "    val hundreds = n / 100\n",
    "    val tens = (n / 10) % 10\n",
    "    val ones = n % 10\n",
    "\n",
    "    val sum = hundreds + tens + ones\n",
    "    println(sum)"
   ],
   "outputs": [
    {
     "name": "stdout",
     "output_type": "stream",
     "text": [
      "9\r\n"
     ]
    }
   ],
   "execution_count": 7
  },
  {
   "metadata": {},
   "cell_type": "code",
   "outputs": [],
   "execution_count": null,
   "source": [
    "\n",
    "\n",
    "\n",
    "\n",
    "\n",
    "\n",
    "\n",
    "\n",
    "\n",
    "\n",
    "\n",
    "\n",
    "\n",
    "\n"
   ]
  },
  {
   "metadata": {},
   "cell_type": "markdown",
   "source": [
    "**Reversing a number**\n",
    "\n",
    "Write a program that reads a three-digit number, reverses the order of its digits, and outputs a new number.\n",
    "\n",
    "Sample Input 1:\n",
    "\n",
    "308\n",
    "\n",
    "Sample Output 1:\n",
    "\n",
    "803"
   ]
  },
  {
   "metadata": {},
   "cell_type": "code",
   "outputs": [],
   "execution_count": null,
   "source": [
    "val n = readln().toInt()\n",
    "\n",
    "val hundreds = n / 100\n",
    "val tens = (n / 10) % 10\n",
    "val ones = n % 10\n",
    "\n",
    "val reversed = ones * 100 + tens * 10 + hundreds\n",
    "println(reversed)"
   ]
  },
  {
   "metadata": {},
   "cell_type": "code",
   "outputs": [],
   "execution_count": null,
   "source": [
    "//sol2\n",
    "var num = readLine()!!.toInt()\n",
    "var newNum = 0\n",
    "\n",
    "while (num != 0) {\n",
    "    newNum = num % 10 + newNum * 10\n",
    "    num /= 10\n",
    "}\n",
    "\n",
    "println(newNum)"
   ]
  },
  {
   "metadata": {
    "ExecuteTime": {
     "end_time": "2025-07-27T16:22:56.869750600Z",
     "start_time": "2025-07-27T16:22:53.899264100Z"
    }
   },
   "cell_type": "code",
   "source": [
    "//sol3\n",
    "println(readLine()!!.reversed())"
   ],
   "outputs": [
    {
     "name": "stdout",
     "output_type": "stream",
     "text": [
      "321\r\n"
     ]
    }
   ],
   "execution_count": 8
  },
  {
   "metadata": {},
   "cell_type": "code",
   "outputs": [],
   "execution_count": null,
   "source": [
    "\n",
    "\n",
    "\n",
    "\n",
    "\n",
    "\n",
    "\n",
    "\n",
    "\n",
    "\n",
    "\n"
   ]
  },
  {
   "metadata": {},
   "cell_type": "markdown",
   "source": [
    "**The first digit of a two-digit number**\n",
    "\n",
    "Write a program that reads a two-digit positive number and outputs its first digit.\n",
    "\n",
    "Sample Input 1:\n",
    "\n",
    "42\n",
    "\n",
    "Sample Output 1:\n",
    "\n",
    "4"
   ]
  },
  {
   "metadata": {},
   "cell_type": "code",
   "outputs": [],
   "execution_count": null,
   "source": [
    "val n = readln().toInt()\n",
    "val firstDigit = n / 10\n",
    "println(firstDigit)"
   ]
  },
  {
   "metadata": {},
   "cell_type": "code",
   "outputs": [],
   "execution_count": null,
   "source": [
    "//sol2\n",
    "println(readln().first())"
   ]
  },
  {
   "metadata": {},
   "cell_type": "code",
   "outputs": [],
   "execution_count": null,
   "source": [
    "//sol3\n",
    "println(readLine()!![0])"
   ]
  }
 ],
 "metadata": {
  "kernelspec": {
   "display_name": "Kotlin",
   "language": "kotlin",
   "name": "kotlin"
  },
  "language_info": {
   "name": "kotlin",
   "version": "1.9.23",
   "mimetype": "text/x-kotlin",
   "file_extension": ".kt",
   "pygments_lexer": "kotlin",
   "codemirror_mode": "text/x-kotlin",
   "nbconvert_exporter": ""
  }
 },
 "nbformat": 4,
 "nbformat_minor": 0
}
