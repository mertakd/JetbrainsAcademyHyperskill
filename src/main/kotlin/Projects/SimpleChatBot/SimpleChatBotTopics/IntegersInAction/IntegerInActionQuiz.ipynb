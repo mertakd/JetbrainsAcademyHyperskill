{
 "cells": [
  {
   "cell_type": "code",
   "execution_count": null,
   "metadata": {
    "collapsed": true
   },
   "outputs": [],
   "source": ""
  },
  {
   "metadata": {},
   "cell_type": "markdown",
   "source": [
    "**Banking Big: Handling Giant Transactions**\n",
    "\n",
    "In a Kotlin application for simulating a banking system, you need to handle transactions that could compute very high values potentially above the standard 32-bit integer limit. What is the recommended practice to declare a variable for storing these transaction amounts to avoid overflow issues?\n",
    "\n",
    "Declare the variable as Int and handle overflow exceptions.\n",
    "\n",
    "Convert all transaction amounts to String and parse them when needed.\n",
    "\n",
    "Store the transaction amounts in a Double for higher precision.\n",
    "\n",
    "Use the Long data type to accommodate larger numbers.  T"
   ]
  },
  {
   "metadata": {},
   "cell_type": "code",
   "outputs": [],
   "execution_count": null,
   "source": [
    "\n",
    "\n",
    "\n",
    "\n",
    "\n",
    "\n",
    "\n",
    "\n",
    "\n",
    "\n"
   ]
  },
  {
   "metadata": {},
   "cell_type": "markdown",
   "source": [
    "**Integer division**\n",
    "\n",
    "What is the output of these operations?\n",
    "\n",
    "val a = 5 / 2\n",
    "val b = 3 / 2\n",
    "print(a + b)\n",
    "\n",
    "Select one option from the list\n",
    "\n",
    "3  T\n",
    "\n",
    "4\n",
    "\n",
    "5\n",
    "\n",
    "Arithmetic exception is thrown"
   ]
  },
  {
   "metadata": {},
   "cell_type": "code",
   "outputs": [],
   "execution_count": null,
   "source": [
    "\n",
    "\n",
    "\n",
    "\n",
    "\n",
    "\n",
    "\n",
    "\n",
    "\n",
    "\n"
   ]
  },
  {
   "metadata": {},
   "cell_type": "markdown",
   "source": [
    "**Integer operations**\n",
    "\n",
    "What is the result of these operations?\n",
    "\n",
    "val secret1 = -1L\n",
    "val x = 10 % 3 + 7 / 2 / 2\n",
    "val y = secret1 * x + 3\n",
    "print(y - x)\n",
    "\n",
    "Write the answer as a number. For example, 123\n",
    "\n",
    "SOL -1"
   ]
  },
  {
   "metadata": {},
   "cell_type": "code",
   "outputs": [],
   "execution_count": null,
   "source": [
    "\n",
    "\n",
    "\n",
    "\n",
    "\n",
    "\n",
    "\n",
    "\n",
    "\n"
   ]
  },
  {
   "metadata": {},
   "cell_type": "markdown",
   "source": [
    "**Underscore**\n",
    "\n",
    "We use underscores (_) inside numbers to ...\n",
    "\n",
    "Select one or more options from the list\n",
    "\n",
    "mark numbers, that are greater than 1000.\n",
    "\n",
    "logicaly separate any group of digits inside a number.  T\n",
    "\n",
    "separate digits of Long numbers only.\n",
    "\n",
    "separate digits of Int numbers only."
   ]
  },
  {
   "metadata": {},
   "cell_type": "code",
   "outputs": [],
   "execution_count": null,
   "source": [
    "\n",
    "\n",
    "\n",
    "\n",
    "\n",
    "\n",
    "\n",
    "\n",
    "\n"
   ]
  },
  {
   "metadata": {},
   "cell_type": "markdown",
   "source": [
    "**Time difference**\n",
    "\n",
    "We are going to consider two moments in time that happened on the same day — hours, minutes, and seconds. It is known that the second moment happened not earlier than the first one. Find how many seconds passed between the two moments.\n",
    "\n",
    "Input data format\n",
    "\n",
    "The program receives three integers: hours, minutes, seconds of the first moment, and three integers of the second moment.\n",
    "\n",
    "Output data format\n",
    "\n",
    "Output the number of seconds between these two moments.\n",
    "\n",
    "Sample Input 1:\n",
    "\n",
    "1\n",
    "1\n",
    "1\n",
    "2\n",
    "2\n",
    "2\n",
    "\n",
    "Sample Output 1:\n",
    "\n",
    "3661\n",
    "\n",
    "Sample Input 2:\n",
    "\n",
    "1\n",
    "2\n",
    "30\n",
    "1\n",
    "3\n",
    "20\n",
    "\n",
    "Sample Output 2:\n",
    "\n",
    "50\n",
    "\n"
   ]
  },
  {
   "metadata": {},
   "cell_type": "code",
   "outputs": [],
   "execution_count": null,
   "source": [
    "import java.util.Scanner\n",
    "\n",
    "//SOL1\n",
    "val scanner = Scanner(System.`in`)\n",
    "val hours1 = scanner.nextInt()\n",
    "val minutes1 = scanner.nextInt()\n",
    "val seconds1 = scanner.nextInt()\n",
    "val hours2 = scanner.nextInt()\n",
    "val minutes2 = scanner.nextInt()\n",
    "val seconds2 = scanner.nextInt()\n",
    "\n",
    "val totalSeconds1 = hours1 * 3600 + minutes1 * 60 + seconds1\n",
    "val totalSeconds2 = hours2 * 3600 + minutes2 * 60 + seconds2\n",
    "\n",
    "println(totalSeconds2 - totalSeconds1)"
   ]
  },
  {
   "metadata": {},
   "cell_type": "code",
   "outputs": [],
   "execution_count": null,
   "source": [
    "//SOL2\n",
    "val h1 = readLine()!!.toInt()\n",
    "val m1 = readLine()!!.toInt()\n",
    "val s1 = readLine()!!.toInt()\n",
    "val h2 = readLine()!!.toInt()\n",
    "val m2 = readLine()!!.toInt()\n",
    "val s2 = readLine()!!.toInt()\n",
    "val answer = (h2 - h1) * 3600 + (m2 - m1) * 60 + s2 - s1\n",
    "println(answer)"
   ]
  },
  {
   "metadata": {},
   "cell_type": "code",
   "outputs": [],
   "execution_count": null,
   "source": [
    "//SOL3\n",
    "fun readTimeInSeconds() = 60 * 60 * readLine()!!.toInt() + 60 * readLine()!!.toInt() + readLine()!!.toInt()\n",
    "\n",
    "val seconds1 = readTimeInSeconds()\n",
    "val seconds2 = readTimeInSeconds()\n",
    "\n",
    "println(seconds2 - seconds1)"
   ]
  },
  {
   "metadata": {},
   "cell_type": "code",
   "outputs": [],
   "execution_count": null,
   "source": [
    "//SOL4\n",
    "fun readTime(): Int {\n",
    "    val (hour, min, sec) = Array(3) { readLine()!!.toInt() }\n",
    "    return sec + min * 60 + hour * 60 * 60\n",
    "}\n",
    "\n",
    "println(-readTime() + readTime())"
   ]
  },
  {
   "metadata": {},
   "cell_type": "code",
   "outputs": [],
   "execution_count": null,
   "source": [
    "\n",
    "\n",
    "\n",
    "\n",
    "\n",
    "\n",
    "\n",
    "\n",
    "\n",
    "\n",
    "\n",
    "\n"
   ]
  },
  {
   "metadata": {},
   "cell_type": "markdown",
   "source": [
    "**Underscore**\n",
    "\n",
    "We can write underscores (_) ...\n",
    "\n",
    "Select one option from the list\n",
    "\n",
    "in any place inside a number, but not near other underscore.\n",
    "\n",
    "before or after a number.\n",
    "\n",
    "only every three digits, counting from the right.\n",
    "\n",
    "in any place inside a number.  T"
   ]
  },
  {
   "metadata": {},
   "cell_type": "code",
   "outputs": [],
   "execution_count": null,
   "source": [
    "\n",
    "\n",
    "\n",
    "\n",
    "\n",
    "\n",
    "\n",
    "\n",
    "\n",
    "\n"
   ]
  },
  {
   "metadata": {},
   "cell_type": "markdown",
   "source": [
    "**Apple pie**\n",
    "\n",
    "You've postponed this problem 2 years ago.\n",
    "Maybe now is a good time to try it out again?\n",
    "You and your friend decided to bake an apple pie. However, you don't know how many apples you have in total. So, your friend wrote a program that calculates the sum of apples as the sum of unsigned integers.\n",
    "\n",
    "It does not work correctly now. Find and fix errors in this program.\n",
    "\n",
    "Write a program in Kotlin\n"
   ]
  },
  {
   "metadata": {},
   "cell_type": "code",
   "outputs": [],
   "execution_count": null,
   "source": [
    "val yourApples: UInt = 5u\n",
    "val friendsApples: UInt = 7u\n",
    "val totalApples: UInt = yourApples + friendsApples\n",
    "\n",
    "println(totalApples)\n",
    "\n",
    "// do not change the code below\n",
    "println(\"${yourApples::class.simpleName}\")\n",
    "println(\"${friendsApples::class.simpleName}\")"
   ]
  },
  {
   "metadata": {},
   "cell_type": "code",
   "outputs": [],
   "execution_count": null,
   "source": [
    "\n",
    "\n",
    "\n",
    "\n",
    "\n",
    "\n",
    "\n",
    "\n",
    "\n",
    "\n"
   ]
  },
  {
   "metadata": {},
   "cell_type": "markdown",
   "source": [
    "**The last digit of a number**\n",
    "\n",
    "Write a program that reads a number and outputs its last digit.\n",
    "\n",
    "Sample Input 1:\n",
    "\n",
    "425\n",
    "\n",
    "Sample Output 1:\n",
    "\n",
    "5"
   ]
  },
  {
   "metadata": {},
   "cell_type": "code",
   "outputs": [],
   "execution_count": null,
   "source": [
    "val number = readln().toInt()\n",
    "val lastDigit = number % 10\n",
    "println(lastDigit)"
   ]
  },
  {
   "metadata": {},
   "cell_type": "code",
   "outputs": [],
   "execution_count": null,
   "source": [
    "\n",
    "\n",
    "\n",
    "\n",
    "\n",
    "\n",
    "\n",
    "\n",
    "\n"
   ]
  },
  {
   "metadata": {},
   "cell_type": "markdown",
   "source": [
    "**Good rest on vacation**\n",
    "\n",
    "Write a program that helps people who are going on vacation. The program should calculate the total sum (in $) required for a particular holiday period.\n",
    "\n",
    "\n",
    "Consider four parameters:\n",
    "\n",
    "duration in days\n",
    "total food cost per day\n",
    "one-way flight cost\n",
    "cost of one night in a hotel (the number of nights is the duration minus one)\n",
    "Read the values of these parameters from the standard input and then print the result.\n",
    "\n",
    "Do not forget about the return ticket.\n",
    "\n",
    "Sample Input 1:\n",
    "\n",
    "7\n",
    "30\n",
    "100\n",
    "40\n",
    "\n",
    "Sample Output 1:\n",
    "\n",
    "650"
   ]
  },
  {
   "metadata": {},
   "cell_type": "code",
   "outputs": [],
   "execution_count": null,
   "source": [
    "val duration = readln().toInt()\n",
    "val foodPerDay = readln().toInt()\n",
    "val oneWayFlight = readln().toInt()\n",
    "val hotelPerNight = readln().toInt()\n",
    "\n",
    "val totalFood = duration * foodPerDay\n",
    "val totalFlights = 2 * oneWayFlight // gidiş + dönüş\n",
    "val totalHotel = (duration - 1) * hotelPerNight\n",
    "\n",
    "val totalCost = totalFood + totalFlights + totalHotel\n",
    "\n",
    "println(totalCost)"
   ]
  },
  {
   "metadata": {},
   "cell_type": "code",
   "outputs": [],
   "execution_count": null,
   "source": [
    "\n",
    "\n",
    "\n",
    "\n",
    "\n",
    "\n",
    "\n",
    "\n",
    "\n",
    "\n"
   ]
  },
  {
   "metadata": {},
   "cell_type": "markdown",
   "source": [
    "**Day of the week**\n",
    "\n",
    "If it is Tuesday today, what day of the week will it be 100 days from now? You can type a text (Sunday, Monday, Tuesday, Wednesday, Thursday, Friday, Saturday) or a number (1 is Sunday, 2 is Monday e.t.c.).\n",
    "\n",
    "Enter a short text\n",
    "Thursday"
   ]
  },
  {
   "metadata": {},
   "cell_type": "code",
   "outputs": [],
   "execution_count": null,
   "source": [
    "\n",
    "    val daysOfWeek = listOf(\"Sunday\", \"Monday\", \"Tuesday\", \"Wednesday\", \"Thursday\", \"Friday\", \"Saturday\")\n",
    "    val todayIndex = 2 // Tuesday\n",
    "    val daysLater = (todayIndex + 100) % 7\n",
    "    println(daysOfWeek[daysLater])\n",
    "\n"
   ]
  },
  {
   "metadata": {},
   "cell_type": "code",
   "outputs": [],
   "execution_count": null,
   "source": [
    "\n",
    "\n",
    "\n",
    "\n",
    "\n",
    "\n",
    "\n",
    "\n",
    "\n",
    "\n"
   ]
  },
  {
   "metadata": {},
   "cell_type": "markdown",
   "source": [
    "**Sum of integers taken from console input**\n",
    "\n",
    "Write a program that calculates the total sum of several integers. First, it takes an integer representing the number of values to sum. Second, it takes as many integers as specified by the first integer. The program should output the sum of all the integers taken as input to the console.\n",
    "\n",
    "Sample Input 1:\n",
    "\n",
    "3\n",
    "42\n",
    "100\n",
    "125\n",
    "\n",
    "Sample Output 1:\n",
    "\n",
    "267\n",
    "\n",
    "Sample Input 2:\n",
    "\n",
    "5\n",
    "3\n",
    "3\n",
    "5\n",
    "5\n",
    "6\n",
    "\n",
    "Sample Output 2:\n",
    "\n",
    "22"
   ]
  },
  {
   "metadata": {},
   "cell_type": "code",
   "outputs": [],
   "execution_count": null,
   "source": [
    "import java.util.Scanner\n",
    "\n",
    "val scanner = Scanner(System.`in`)\n",
    "\n",
    "val count = scanner.nextInt() // Kaç sayı girilecek\n",
    "\n",
    "var sum = 0\n",
    "\n",
    "for (i in 1..count) {\n",
    "    val number = scanner.nextInt()\n",
    "    sum += number // her sayıyı toplama ekle\n",
    "}\n",
    "\n",
    "println(sum)"
   ]
  },
  {
   "metadata": {},
   "cell_type": "code",
   "outputs": [],
   "execution_count": null,
   "source": [
    "//SOL2\n",
    "var sum = 0\n",
    "repeat(readln().toInt()) {\n",
    "    sum += readln().toInt()\n",
    "}\n",
    "println(sum)"
   ]
  },
  {
   "metadata": {},
   "cell_type": "code",
   "outputs": [],
   "execution_count": null,
   "source": [
    "//SOL3\n",
    "println(List(readln().toInt()) { readln().toInt() }.sum())"
   ]
  }
 ],
 "metadata": {
  "kernelspec": {
   "display_name": "Kotlin",
   "language": "kotlin",
   "name": "kotlin"
  },
  "language_info": {
   "name": "kotlin",
   "version": "1.9.23",
   "mimetype": "text/x-kotlin",
   "file_extension": ".kt",
   "pygments_lexer": "kotlin",
   "codemirror_mode": "text/x-kotlin",
   "nbconvert_exporter": ""
  }
 },
 "nbformat": 4,
 "nbformat_minor": 0
}
