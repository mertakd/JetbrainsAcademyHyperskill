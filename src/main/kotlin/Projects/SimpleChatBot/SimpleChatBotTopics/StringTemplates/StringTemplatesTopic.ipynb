{
 "cells": [
  {
   "cell_type": "code",
   "execution_count": null,
   "metadata": {
    "collapsed": true
   },
   "outputs": [],
   "source": [
    ""
   ]
  },
  {
   "metadata": {},
   "cell_type": "markdown",
   "source": [
    "\n",
    "\n",
    "---\n",
    "\n",
    "### 🎯 **Konu:** Kotlin'de **String Templates (Dize Şablonları)**\n",
    "\n",
    "---\n",
    "\n",
    "### 📌 **Temel Amaç:**\n",
    "\n",
    "Kotlin'de metin içine değişken yerleştirmek için **string birleştirme** (`+`) yerine daha okunabilir ve pratik olan **string templates** kullanılmalıdır.\n",
    "\n",
    "---\n",
    "\n",
    "### ✅ **Değişken Yerleştirme (Interpolation)**\n",
    "\n",
    "```kotlin\n",
    "val city = \"Paris\"\n",
    "val temp = \"24\"\n",
    "println(\"The temperature in $city is $temp degrees Celsius.\")\n",
    "```\n",
    "\n",
    "Bu ifade:\n",
    "\n",
    "```\n",
    "The temperature in Paris is 24 degrees Celsius.\n",
    "```\n",
    "\n",
    "şeklinde yazdırır.\n",
    "\n",
    "---\n",
    "\n",
    "### 🔄 **Alternatif ve kötü yöntem:**\n",
    "\n",
    "```kotlin\n",
    "println(\"The temperature in \" + city + \" is \" + temp + \" degrees Celsius.\")\n",
    "```\n",
    "\n",
    "Daha karmaşık ve zor okunur — tercih edilmez.\n",
    "\n",
    "---\n",
    "\n",
    "### 🔢 **İfade (Expression) Yazımı:**\n",
    "\n",
    "Eğer değişken değil de **bir işlem sonucu** yerleştirilecekse, **`${...}`** kullanılır:\n",
    "\n",
    "```kotlin\n",
    "val language = \"Kotlin\"\n",
    "println(\"$language has ${language.length} letters in the name\")\n",
    "```\n",
    "\n",
    "Çıktı:\n",
    "\n",
    "```\n",
    "Kotlin has 6 letters in the name\n",
    "```\n",
    "\n",
    "---\n",
    "\n",
    "### 💡 **Kotlin İdiomu (Idiomatic Usage):**\n",
    "\n",
    "Kotlin topluluğu tarafından önerilen yazım şeklidir:\n",
    "\n",
    "* ✔️ `println(\"Have a nice $language!\")` (iyi)\n",
    "* ❌ `println(\"Have a nice \" + language + \"!\")` (kötü)\n",
    "\n",
    "---\n",
    "\n",
    "### 🧠 **Sonuç:**\n",
    "\n",
    "* **Değişken** eklemek için `$değişken` kullan.\n",
    "* **İfade** eklemek için `${ifade}` kullan.\n",
    "* Daha temiz, okunabilir ve Kotlin'e uygun kod yazmak için string templates tercih edilmelidir.\n",
    "\n",
    "---\n",
    "\n",
    "\n"
   ]
  },
  {
   "metadata": {},
   "cell_type": "markdown",
   "source": ""
  },
  {
   "metadata": {},
   "cell_type": "markdown",
   "source": ""
  }
 ],
 "metadata": {
  "kernelspec": {
   "display_name": "Kotlin",
   "language": "kotlin",
   "name": "kotlin"
  },
  "language_info": {
   "name": "kotlin",
   "version": "1.9.23",
   "mimetype": "text/x-kotlin",
   "file_extension": ".kt",
   "pygments_lexer": "kotlin",
   "codemirror_mode": "text/x-kotlin",
   "nbconvert_exporter": ""
  }
 },
 "nbformat": 4,
 "nbformat_minor": 0
}
