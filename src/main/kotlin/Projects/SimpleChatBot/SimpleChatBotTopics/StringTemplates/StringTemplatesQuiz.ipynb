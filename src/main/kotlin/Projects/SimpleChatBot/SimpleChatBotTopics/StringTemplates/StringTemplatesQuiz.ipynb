{
 "cells": [
  {
   "cell_type": "code",
   "execution_count": null,
   "metadata": {
    "collapsed": true
   },
   "outputs": [],
   "source": [
    ""
   ]
  },
  {
   "metadata": {},
   "cell_type": "markdown",
   "source": [
    "**Date and time formatting**\n",
    "\n",
    "You need to write a program that prints dates and times in a special format. Hours, minutes, and seconds are split by a colon, and day, month, and year are split by a slash. Take a look at the examples below.\n",
    "\n",
    "You can read three numbers in a line this way:\n",
    "\n",
    "val (a, b, c) = readLine()!!.split(' ')\n",
    "\n",
    "// or since Kotlin 1.6\n",
    "\n",
    "val (d, e, f) = readln().split(' ')\n",
    "\n",
    "Sample Input 1:\n",
    "\n",
    "23 59 59\n",
    "12 12 2018\n",
    "\n",
    "Sample Output 1:\n",
    "\n",
    "23:59:59 12/12/2018\n",
    "\n",
    "Sample Input 2:\n",
    "\n",
    "1 2 3\n",
    "4 5 2018\n",
    "\n",
    "\n",
    "\n",
    "Sample Output 2:\n",
    "\n",
    "1:2:3 4/5/2018"
   ]
  },
  {
   "metadata": {
    "ExecuteTime": {
     "end_time": "2025-06-19T16:15:57.180679600Z",
     "start_time": "2025-06-19T16:15:35.144687300Z"
    }
   },
   "cell_type": "code",
   "source": [
    "val time = readLine()!!.replace(\" \", \":\")\n",
    "val date = readLine()!!.replace(\" \", \"/\")\n",
    "\n",
    "print(\"$time $date\")"
   ],
   "outputs": [
    {
     "name": "stdout",
     "output_type": "stream",
     "text": [
      "19,15 19,06,2025"
     ]
    }
   ],
   "execution_count": 3
  },
  {
   "metadata": {},
   "cell_type": "code",
   "outputs": [],
   "execution_count": null,
   "source": [
    "//sol2\n",
    "val (second, minute, hour) = readLine()!!.split(\" \")\n",
    "val (day, month, year) = readLine()!!.split(\" \")\n",
    "\n",
    "println(\"$second:$minute:$hour $day/$month/$year\")"
   ]
  },
  {
   "metadata": {},
   "cell_type": "code",
   "outputs": [],
   "execution_count": null,
   "source": [
    "import java.util.Scanner\n",
    "\n",
    "//sol3\n",
    "val scanner = Scanner(System.`in`)\n",
    "val input = Array(6) { scanner.nextInt() }\n",
    "val time = input.take(3).joinToString(separator = \":\")\n",
    "val date = input.drop(3).joinToString(separator = \"/\")\n",
    "println(\"$time $date\")"
   ]
  },
  {
   "metadata": {},
   "cell_type": "code",
   "outputs": [],
   "execution_count": null,
   "source": [
    "import java.util.Scanner\n",
    "\n",
    "//sol4\n",
    "val scanner = Scanner(System.`in`)\n",
    "\n",
    "val (h, m, s) = IntArray(3) { scanner.nextInt() }\n",
    "val (d, mn, y) = IntArray(3) { scanner.nextInt() }\n",
    "\n",
    "println(\"$h:$m:$s $d/$mn/$y\")"
   ]
  },
  {
   "metadata": {},
   "cell_type": "code",
   "outputs": [],
   "execution_count": null,
   "source": [
    "import java.util.Scanner\n",
    "\n",
    "//sol5\n",
    "val scanner = Scanner(System.`in`)\n",
    "val hour = IntArray(3) { scanner.nextInt() }\n",
    "val date = IntArray(3) { scanner.nextInt() }\n",
    "print(\"${hour.joinToString(separator = \":\")} ${date.joinToString(separator = \"/\")}\")\n"
   ]
  },
  {
   "metadata": {},
   "cell_type": "code",
   "outputs": [],
   "execution_count": null,
   "source": [
    "\n",
    "\n",
    "\n",
    "\n",
    "\n",
    "\n",
    "\n",
    "\n",
    "\n",
    "\n",
    "\n",
    "\n",
    "\n",
    "\n"
   ]
  },
  {
   "metadata": {},
   "cell_type": "markdown",
   "source": [
    "**Arithmetic expression**\n",
    "\n",
    "Write a program that reads two numbers and prints their sum. The examples below demonstrate what the result should look like.\n",
    "\n",
    "Sample Input 1:\n",
    "\n",
    "12\n",
    "34\n",
    "\n",
    "Sample Output 1:\n",
    "\n",
    "12 plus 34 equals 46\n",
    "\n",
    "Sample Input 2:\n",
    "\n",
    "1\n",
    "234\n",
    "\n",
    "Sample Output 2:\n",
    "\n",
    "1 plus 234 equals 235"
   ]
  },
  {
   "metadata": {},
   "cell_type": "code",
   "outputs": [],
   "execution_count": null,
   "source": [
    "//sol1\n",
    "val num1 = readLine()!!.toInt()\n",
    "val num2 = readLine()!!.toInt()\n",
    "\n",
    "println(\"$num1 plus $num2 equals ${num1 + num2}\")"
   ]
  },
  {
   "metadata": {},
   "cell_type": "code",
   "outputs": [],
   "execution_count": null,
   "source": [
    "//sol2\n",
    "val (a, b) = Array(2) { readLine()!!.toInt() }\n",
    "println(\"$a plus $b equals ${a + b}\")"
   ]
  },
  {
   "metadata": {},
   "cell_type": "code",
   "outputs": [],
   "execution_count": null,
   "source": [
    "//sol3\n",
    "readln().toInt().apply {\n",
    "    readln().toInt().let { println(\"$this plus $it equals ${this + it}\") }\n",
    "}"
   ]
  },
  {
   "metadata": {},
   "cell_type": "code",
   "outputs": [],
   "execution_count": null,
   "source": [
    "\n",
    "\n",
    "\n",
    "\n",
    "\n",
    "\n",
    "\n",
    "\n",
    "\n",
    "\n",
    "\n",
    "\n",
    "\n",
    "\n"
   ]
  },
  {
   "metadata": {},
   "cell_type": "markdown",
   "source": [
    "**Generating custom notification message for user**\n",
    "\n",
    "Write a program in Kotlin which takes a user's name as input and a number. The program should print a custom message for that user. The message must be: 'Hello {user}, you have {number} new notifications.'\n",
    "\n",
    "Sample Input 1:\n",
    "\n",
    "John\n",
    "3\n",
    "\n",
    "Sample Output 1:\n",
    "\n",
    "Hello John, you have 3 new notifications.\n",
    "\n",
    "Sample Input 2:\n",
    "\n",
    "Lucy\n",
    "0\n",
    "\n",
    "Sample Output 2:\n",
    "\n",
    "Hello Lucy, you have 0 new notifications."
   ]
  },
  {
   "metadata": {},
   "cell_type": "code",
   "outputs": [],
   "execution_count": null,
   "source": [
    "import java.util.Scanner\n",
    "\n",
    "// Create a Scanner object for taking input\n",
    "val reader = Scanner(System.`in`)\n",
    "\n",
    "// Get user name\n",
    "val userName = reader.nextLine()\n",
    "\n",
    "// Get number\n",
    "val num = reader.nextInt()\n",
    "\n",
    "// Make sure to use string templates to format your message\n",
    "println(\"Hello $userName, you have $num new notifications.\")"
   ]
  },
  {
   "metadata": {},
   "cell_type": "code",
   "outputs": [],
   "execution_count": null,
   "source": [
    "\n",
    "\n",
    "\n",
    "\n",
    "\n",
    "\n",
    "\n",
    "\n",
    "\n",
    "\n",
    "\n",
    "\n",
    "\n",
    "\n"
   ]
  },
  {
   "metadata": {},
   "cell_type": "markdown",
   "source": [
    "**Templates for expressions**\n",
    "\n",
    "Choose the correct string templates for expressions:\n",
    "\n",
    "Select one or more options from the list\n",
    "\n",
    "\n",
    "\n",
    "$list.size\n",
    "\n",
    "${string.length}      T\n",
    "\n",
    "{$string.length}\n",
    "\n",
    "list.$size"
   ]
  },
  {
   "metadata": {},
   "cell_type": "code",
   "outputs": [],
   "execution_count": null,
   "source": [
    "\n",
    "\n",
    "\n",
    "\n",
    "\n",
    "\n",
    "\n",
    "\n",
    "\n",
    "\n",
    "\n",
    "\n",
    "\n",
    "\n"
   ]
  },
  {
   "metadata": {},
   "cell_type": "markdown",
   "source": [
    "**How to write string templates?**\n",
    "\n",
    "You need to output the date:\n",
    "\n",
    "\n",
    "val month = \"August\"\n",
    "val day = 22\n",
    "val year = 2018\n",
    "\n",
    "Select the correct way to do it with string templates.\n",
    "\n",
    "a)\n",
    "\n",
    "println(\"{} {}, {}\", month, day, year)\n",
    "\n",
    "b)\n",
    "\n",
    "println(\"%month %day, %year\")\n",
    "\n",
    "c)\n",
    "\n",
    "println(\"$month $day, $year\")\n",
    "\n",
    "d)\n",
    "\n",
    "println(\"{month} {day}, {year}\")\n",
    "\n",
    "\n",
    "a\n",
    "\n",
    "b\n",
    "\n",
    "c       T\n",
    "\n",
    "d"
   ]
  },
  {
   "metadata": {},
   "cell_type": "code",
   "outputs": [],
   "execution_count": null,
   "source": [
    "\n",
    "\n",
    "\n",
    "\n",
    "\n",
    "\n",
    "\n",
    "\n",
    "\n",
    "\n",
    "\n",
    "\n",
    "\n",
    "\n"
   ]
  },
  {
   "metadata": {},
   "cell_type": "markdown",
   "source": [
    "**What will be printed?**\n",
    "\n",
    "What does this code print?\n",
    "\n",
    "\n",
    "val a = 14\n",
    "val b = 11\n",
    "\n",
    "println(\"$a+$b\")\n",
    "\n",
    "Enter a short text\n",
    "14+11"
   ]
  },
  {
   "metadata": {
    "ExecuteTime": {
     "end_time": "2025-06-19T16:34:31.243849Z",
     "start_time": "2025-06-19T16:34:31.202040800Z"
    }
   },
   "cell_type": "code",
   "source": [
    "\n",
    "\n",
    "\n",
    "\n",
    "\n",
    "\n",
    "\n",
    "\n",
    "\n"
   ],
   "outputs": [
    {
     "name": "stdout",
     "output_type": "stream",
     "text": [
      "6"
     ]
    }
   ],
   "execution_count": 4
  },
  {
   "metadata": {},
   "cell_type": "markdown",
   "source": [
    "**What does the code print**\n",
    "\n",
    "What does this code print?\n",
    "\n",
    "val s = \"string\"\n",
    "print(\"$s.length\")\n",
    "\n",
    "Enter a short text\n",
    "string.length"
   ]
  },
  {
   "metadata": {},
   "cell_type": "code",
   "outputs": [],
   "execution_count": null,
   "source": [
    "\n",
    "\n",
    "\n",
    "\n",
    "\n",
    "\n",
    "\n",
    "\n",
    "\n",
    "\n",
    "\n",
    "\n",
    "\n",
    "\n"
   ]
  },
  {
   "metadata": {},
   "cell_type": "markdown",
   "source": [
    "**Print two numbers on the same line**\n",
    "\n",
    "Write a program that reads two integer numbers and prints them on the same line. The numbers are separated by a space.\n",
    "\n",
    "\n",
    "Please solve the problem using string templates.\n",
    "\n",
    "Sample Input 1:\n",
    "\n",
    "8\n",
    "11\n",
    "\n",
    "Sample Output 1:\n",
    "\n",
    "8 11\n",
    "\n",
    "Sample Input 2:\n",
    "\n",
    "-5\n",
    "0\n",
    "\n",
    "Sample Output 2:\n",
    "\n",
    "-5 0"
   ]
  },
  {
   "metadata": {},
   "cell_type": "code",
   "outputs": [],
   "execution_count": null,
   "source": [
    "//SOL1\n",
    "val num1 = readLine()!!.toInt()\n",
    "val num2 = readLine()!!.toInt()\n",
    "\n",
    "println(\"$num1 $num2\")"
   ]
  },
  {
   "metadata": {},
   "cell_type": "code",
   "outputs": [],
   "execution_count": null,
   "source": [
    "//SOL2\n",
    "print(\"${readLine()!!} ${readLine()!!}\")"
   ]
  },
  {
   "metadata": {},
   "cell_type": "code",
   "outputs": [],
   "execution_count": null,
   "source": [
    "//SOL3\n",
    "val (a, b) = IntArray(2) { readLine()!!.toInt() }\n",
    "println(\"$a $b\")"
   ]
  },
  {
   "metadata": {},
   "cell_type": "code",
   "outputs": [],
   "execution_count": null,
   "source": [
    "import java.util.Scanner\n",
    "\n",
    "//SOL4\n",
    "val scanner = Scanner(System.`in`)\n",
    "print(\"${scanner.nextInt()} ${scanner.nextInt()}\")"
   ]
  },
  {
   "metadata": {},
   "cell_type": "code",
   "outputs": [],
   "execution_count": null,
   "source": [
    "\n",
    "\n",
    "\n",
    "\n",
    "\n",
    "\n",
    "\n",
    "\n",
    "\n",
    "\n",
    "\n",
    "\n",
    "\n",
    "\n"
   ]
  },
  {
   "metadata": {},
   "cell_type": "markdown",
   "source": [
    "**Repetitions and templates**\n",
    "\n",
    "Write a program that reads one word and prints it as many times as there are characters in it. Use string templates.\n",
    "\n",
    "Input: a single string.\n",
    "\n",
    "Output: a single string. Use the following template:\n",
    "\n",
    "\"N repetitions of the word str: ...\"\n",
    "\n",
    "where N is the number of letters in the entered word, str the inputs word, and instead of ... there should be word repetitions.\n",
    "\n",
    "Tip: Remember about repeat()!\n",
    "\n",
    "Sample Input 1:\n",
    "\n",
    "four\n",
    "\n",
    "Sample Output 1:\n",
    "\n",
    "4 repetitions of the word four: fourfourfourfour\n",
    "\n",
    "Sample Input 2:\n",
    "\n",
    "seasons\n",
    "\n",
    "Sample Output 2:\n",
    "\n",
    "7 repetitions of the word seasons: seasonsseasonsseasonsseasonsseasonsseasonsse"
   ]
  },
  {
   "metadata": {},
   "cell_type": "code",
   "outputs": [],
   "execution_count": null,
   "source": [
    "//SOL1\n",
    "val word = readLine() ?: \"\"\n",
    "val numChars = word.length\n",
    "val repeatedWord = word.repeat(numChars)\n",
    "println(\"$numChars repetitions of the word $word: $repeatedWord\")"
   ]
  },
  {
   "metadata": {},
   "cell_type": "code",
   "outputs": [],
   "execution_count": null,
   "source": [
    "//SOL2\n",
    "// write your code here\n",
    "val word = readln()\n",
    "val wordLength = word.length\n",
    "\n",
    "println(\"$wordLength repetitions of the word $word: ${word.repeat(wordLength)}\")"
   ]
  },
  {
   "metadata": {},
   "cell_type": "code",
   "outputs": [],
   "execution_count": null,
   "source": [
    "//SOL3\n",
    "readLine()!!.let { print(\"${it.length} repetitions of the word $it: ${it.repeat(it.length)}\") }"
   ]
  },
  {
   "metadata": {},
   "cell_type": "code",
   "outputs": [],
   "execution_count": null,
   "source": [
    "\n",
    "\n",
    "\n",
    "\n",
    "\n",
    "\n",
    "\n",
    "\n",
    "\n",
    "\n",
    "\n",
    "\n",
    "\n",
    "\n"
   ]
  },
  {
   "metadata": {},
   "cell_type": "markdown",
   "source": [
    "**String and its Int**\n",
    "\n",
    "Write a program that reads the String representation of an arbitrary number and outputs a line with this number and its Int representation divided by 2.\n",
    "\n",
    "Look at the example to understand the output format.\n",
    "\n",
    "Sample Input 1:\n",
    "\n",
    "12\n",
    "\n",
    "Sample Output 1:\n",
    "\n",
    "The obtained value is 12 and its Int representation after division by 2 is 6"
   ]
  },
  {
   "metadata": {},
   "cell_type": "code",
   "outputs": [],
   "execution_count": null,
   "source": [
    "//SOL1\n",
    "val numberAsString = readLine() ?: \"\"\n",
    "val number = numberAsString.toIntOrNull()\n",
    "if (number == null) {\n",
    "    println(\"Invalid input: \\\"$numberAsString\\\" is not a valid integer.\")\n",
    "} else {\n",
    "    val dividedByTwo = number / 2\n",
    "    println(\"The obtained value is $number and its Int representation after division by 2 is $dividedByTwo\")\n",
    "}"
   ]
  },
  {
   "metadata": {},
   "cell_type": "code",
   "outputs": [],
   "execution_count": null,
   "source": [
    "//SOL2\n",
    "// write here\n",
    "val num = readln().toInt()\n",
    "println(\"The obtained value is $num and its Int representation after division by 2 is ${num / 2}\")"
   ]
  },
  {
   "metadata": {},
   "cell_type": "code",
   "outputs": [],
   "execution_count": null,
   "source": [
    "\n",
    "\n",
    "\n",
    "\n",
    "\n",
    "\n",
    "\n",
    "\n",
    "\n",
    "\n",
    "\n",
    "\n",
    "\n",
    "\n"
   ]
  },
  {
   "metadata": {},
   "cell_type": "markdown",
   "source": [
    "**What are string templates?**\n",
    "\n",
    "Choose the closest definition of string templates:\n",
    "\n",
    "Select one option from the list\n",
    "\n",
    "String templates are expressions that have embedded expressions\n",
    "\n",
    "String templates are syntactic sugar in Kotlin\n",
    "\n",
    "String templates are string literals that contain embedded expressions   T"
   ]
  },
  {
   "metadata": {},
   "cell_type": "code",
   "outputs": [],
   "execution_count": null,
   "source": [
    "\n",
    "\n",
    "\n",
    "\n",
    "\n",
    "\n",
    "\n",
    "\n",
    "\n",
    "\n",
    "\n",
    "\n",
    "\n",
    "\n"
   ]
  },
  {
   "metadata": {},
   "cell_type": "code",
   "outputs": [],
   "execution_count": null,
   "source": ""
  },
  {
   "metadata": {},
   "cell_type": "markdown",
   "source": ""
  },
  {
   "metadata": {},
   "cell_type": "markdown",
   "source": [
    "**Greeting with birth year calculation**\n",
    "\n",
    "Write a program that takes a person's name and age as input, and prints a greeting message using string templates. The message should include the person's name and the year they were born, assuming the current year is 2023.\n",
    "\n",
    "Sample Input 1:\n",
    "\n",
    "Alice\n",
    "25\n",
    "\n",
    "Sample Output 1:\n",
    "\n",
    "Hello Alice! You were born in the year 1998.\n",
    "\n",
    "Sample Input 2:\n",
    "\n",
    "Bob\n",
    "12\n",
    "\n",
    "Sample Output 2:\n",
    "\n",
    "Hello Bob! You were born in the year 2011."
   ]
  },
  {
   "metadata": {},
   "cell_type": "code",
   "outputs": [],
   "execution_count": null,
   "source": [
    "// Read the person's name and age from the console\n",
    "val name = readln()\n",
    "val age = readln().toInt()\n",
    "\n",
    "// Calculate the birth year\n",
    "val birthYear = 2023 - age\n",
    "\n",
    "// Print the greeting message using string templates\n",
    "println(\"Hello $name! You were born in the year $birthYear.\")"
   ]
  },
  {
   "metadata": {},
   "cell_type": "markdown",
   "source": ""
  },
  {
   "metadata": {},
   "cell_type": "code",
   "outputs": [],
   "execution_count": null,
   "source": [
    "\n",
    "\n",
    "\n",
    "\n",
    "\n",
    "\n",
    "\n",
    "\n",
    "\n",
    "\n",
    "\n",
    "\n",
    "\n",
    "\n"
   ]
  },
  {
   "metadata": {},
   "cell_type": "markdown",
   "source": [
    "**Creating a personalized hobby-related message program**\n",
    "\n",
    "John is a software developer who loves coding. He wants to create a program that outputs a personalized message about his hobby and how many hours he spends on it each week. The message should be in the format of 'I love [hobby] and I spend about [hours] hours on it each week.' where [hobby] and [hours] are variables. The challenge here is to reorder the lines of Kotlin code to create a program that does just that.\n",
    "\n",
    "\n",
    "Reorder lines using drag or arrows. Adjust indentation with left buttons"
   ]
  },
  {
   "metadata": {
    "ExecuteTime": {
     "end_time": "2025-06-19T17:06:31.719165900Z",
     "start_time": "2025-06-19T17:06:31.673716Z"
    }
   },
   "cell_type": "code",
   "source": [
    "val hobby = \"coding\"\n",
    "val hoursPerWekk = 15\n",
    "val stringTemplate = \"I love $hobby and I spend about on it each week.\"\n",
    "println(stringTemplate)"
   ],
   "outputs": [
    {
     "name": "stdout",
     "output_type": "stream",
     "text": [
      "I love coding and I spend about on it each week.\r\n"
     ]
    }
   ],
   "execution_count": 5
  }
 ],
 "metadata": {
  "kernelspec": {
   "display_name": "Kotlin",
   "language": "kotlin",
   "name": "kotlin"
  },
  "language_info": {
   "name": "kotlin",
   "version": "1.9.23",
   "mimetype": "text/x-kotlin",
   "file_extension": ".kt",
   "pygments_lexer": "kotlin",
   "codemirror_mode": "text/x-kotlin",
   "nbconvert_exporter": ""
  }
 },
 "nbformat": 4,
 "nbformat_minor": 0
}
