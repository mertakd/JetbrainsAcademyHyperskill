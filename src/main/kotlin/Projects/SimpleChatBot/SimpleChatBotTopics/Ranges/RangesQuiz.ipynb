{
 "cells": [
  {
   "cell_type": "code",
   "execution_count": null,
   "metadata": {
    "collapsed": true
   },
   "outputs": [],
   "source": [
    ""
   ]
  },
  {
   "metadata": {},
   "cell_type": "markdown",
   "source": [
    "**Check the value**\n",
    "\n",
    "There is a range of integer numbers:\n",
    "\n",
    "\n",
    "val range = 17..19\n",
    "\n",
    "\n",
    "Select all the correct options.\n",
    "\n",
    "Select one or more options from the list\n",
    "\n",
    "16 in range\n",
    "\n",
    "17 in range t\n",
    "\n",
    "18 in range t\n",
    "\n",
    "19 in range t\n",
    "\n",
    "20 in range\n"
   ]
  },
  {
   "metadata": {},
   "cell_type": "code",
   "outputs": [],
   "execution_count": null,
   "source": [
    "\n",
    "\n",
    "\n",
    "\n",
    "\n",
    "\n",
    "\n",
    "\n",
    "\n"
   ]
  },
  {
   "metadata": {},
   "cell_type": "markdown",
   "source": [
    "**Check the value**\n",
    "\n",
    "There are three variables:\n",
    "\n",
    "\n",
    "val a = 10\n",
    "val b = 12\n",
    "val range = a..b - 1\n",
    "\n",
    "\n",
    "Select all correct options.\n",
    "\n",
    "Select one or more options from the list\n",
    "\n",
    "\n",
    "\n",
    "9 in range\n",
    "\n",
    "10 in range  t\n",
    "\n",
    "11 in range   t\n",
    "\n",
    "12 in range\n",
    "\n",
    "13 in range"
   ]
  },
  {
   "metadata": {},
   "cell_type": "code",
   "outputs": [],
   "execution_count": null,
   "source": ""
  },
  {
   "metadata": {},
   "cell_type": "code",
   "outputs": [],
   "execution_count": null,
   "source": [
    "\n",
    "\n",
    "\n",
    "\n",
    "\n",
    "\n",
    "\n",
    "\n",
    "\n",
    "\n",
    "\n"
   ]
  },
  {
   "metadata": {},
   "cell_type": "markdown",
   "source": [
    "**Job**\n",
    "\n",
    "Julia wants to get a job. By the laws of the country she lives in, she can have a job only if her age is within 18 to 59 years inclusive.\n",
    "\n",
    "Depending on the input age, output true if she can get a job, otherwise output false.\n",
    "\n",
    "Sample Input 1:\n",
    "\n",
    "25\n",
    "\n",
    "Sample Output 1:\n",
    "\n",
    "true\n",
    "\n",
    "Sample Input 2:\n",
    "\n",
    "16\n",
    "\n",
    "Sample Output 2:\n",
    "\n",
    "false\n",
    "\n"
   ]
  },
  {
   "metadata": {},
   "cell_type": "code",
   "outputs": [],
   "execution_count": null,
   "source": [
    "import java.util.Scanner\n",
    "\n",
    "val reader = Scanner(System.`in`)\n",
    "\n",
    "// nextInt() reads the next integer from the keyboard\n",
    "var line:Int = reader.nextInt()\n",
    "\n",
    "val age = line in 18..59\n",
    "\n",
    "\n",
    "println(\"$age\")"
   ]
  },
  {
   "metadata": {},
   "cell_type": "code",
   "outputs": [],
   "execution_count": null,
   "source": [
    "val BIGPAPA = 18\n",
    "val PENSIONER = 59\n",
    "\n",
    "println(readln().toInt() in BIGPAPA..PENSIONER)"
   ]
  }
 ],
 "metadata": {
  "kernelspec": {
   "display_name": "Kotlin",
   "language": "kotlin",
   "name": "kotlin"
  },
  "language_info": {
   "name": "kotlin",
   "version": "1.9.23",
   "mimetype": "text/x-kotlin",
   "file_extension": ".kt",
   "pygments_lexer": "kotlin",
   "codemirror_mode": "text/x-kotlin",
   "nbconvert_exporter": ""
  }
 },
 "nbformat": 4,
 "nbformat_minor": 0
}
