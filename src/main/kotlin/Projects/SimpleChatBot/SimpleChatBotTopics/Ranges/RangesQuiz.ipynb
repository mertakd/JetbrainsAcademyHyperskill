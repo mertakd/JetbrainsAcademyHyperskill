{
 "cells": [
  {
   "cell_type": "code",
   "execution_count": null,
   "metadata": {
    "collapsed": true
   },
   "outputs": [],
   "source": [
    ""
   ]
  },
  {
   "metadata": {},
   "cell_type": "markdown",
   "source": [
    "**Check the value**\n",
    "\n",
    "There is a range of integer numbers:\n",
    "\n",
    "\n",
    "val range = 17..19\n",
    "\n",
    "\n",
    "Select all the correct options.\n",
    "\n",
    "Select one or more options from the list\n",
    "\n",
    "16 in range\n",
    "\n",
    "17 in range t\n",
    "\n",
    "18 in range t\n",
    "\n",
    "19 in range t\n",
    "\n",
    "20 in range\n"
   ]
  },
  {
   "metadata": {},
   "cell_type": "code",
   "outputs": [],
   "execution_count": null,
   "source": [
    "\n",
    "\n",
    "\n",
    "\n",
    "\n",
    "\n",
    "\n",
    "\n",
    "\n"
   ]
  },
  {
   "metadata": {},
   "cell_type": "markdown",
   "source": [
    "**Check the value**\n",
    "\n",
    "There are three variables:\n",
    "\n",
    "\n",
    "val a = 10\n",
    "val b = 12\n",
    "val range = a..b - 1\n",
    "\n",
    "\n",
    "Select all correct options.\n",
    "\n",
    "Select one or more options from the list\n",
    "\n",
    "\n",
    "\n",
    "9 in range\n",
    "\n",
    "10 in range  t\n",
    "\n",
    "11 in range   t\n",
    "\n",
    "12 in range\n",
    "\n",
    "13 in range"
   ]
  },
  {
   "metadata": {},
   "cell_type": "code",
   "outputs": [],
   "execution_count": null,
   "source": ""
  },
  {
   "metadata": {},
   "cell_type": "code",
   "outputs": [],
   "execution_count": null,
   "source": [
    "\n",
    "\n",
    "\n",
    "\n",
    "\n",
    "\n",
    "\n",
    "\n",
    "\n",
    "\n",
    "\n"
   ]
  },
  {
   "metadata": {},
   "cell_type": "markdown",
   "source": [
    "**Job**\n",
    "\n",
    "Julia wants to get a job. By the laws of the country she lives in, she can have a job only if her age is within 18 to 59 years inclusive.\n",
    "\n",
    "Depending on the input age, output true if she can get a job, otherwise output false.\n",
    "\n",
    "Sample Input 1:\n",
    "\n",
    "25\n",
    "\n",
    "Sample Output 1:\n",
    "\n",
    "true\n",
    "\n",
    "Sample Input 2:\n",
    "\n",
    "16\n",
    "\n",
    "Sample Output 2:\n",
    "\n",
    "false\n",
    "\n"
   ]
  },
  {
   "metadata": {},
   "cell_type": "code",
   "outputs": [],
   "execution_count": null,
   "source": [
    "import java.util.Scanner\n",
    "\n",
    "val reader = Scanner(System.`in`)\n",
    "\n",
    "// nextInt() reads the next integer from the keyboard\n",
    "var line:Int = reader.nextInt()\n",
    "\n",
    "val age = line in 18..59\n",
    "\n",
    "\n",
    "println(\"$age\")"
   ]
  },
  {
   "metadata": {
    "ExecuteTime": {
     "end_time": "2025-08-15T14:08:43.419977400Z",
     "start_time": "2025-08-15T14:08:40.343470900Z"
    }
   },
   "cell_type": "code",
   "source": [
    "val BIGPAPA = 18\n",
    "val PENSIONER = 59\n",
    "\n",
    "println(readln().toInt() in BIGPAPA..PENSIONER)"
   ],
   "outputs": [
    {
     "name": "stdout",
     "output_type": "stream",
     "text": [
      "false\r\n"
     ]
    }
   ],
   "execution_count": 2
  },
  {
   "metadata": {},
   "cell_type": "code",
   "outputs": [],
   "execution_count": null,
   "source": [
    "\n",
    "\n",
    "\n",
    "\n",
    "\n",
    "\n",
    "\n",
    "\n",
    "\n",
    "\n",
    "\n"
   ]
  },
  {
   "metadata": {},
   "cell_type": "markdown",
   "source": [
    "**Between two numbers**\n",
    "\n",
    "Write a program that reads three integer numbers and prints true if the first number is between the second and the third ones (inclusive). Otherwise, it is to print false. The second number is always less than the third one. Use ranges to solve the problem.\n",
    "\n",
    "Sample Input 1:\n",
    "\n",
    "20\n",
    "10\n",
    "30\n",
    "\n",
    "Sample Output 1:\n",
    "\n",
    "true\n",
    "\n",
    "Sample Input 2:\n",
    "\n",
    "50\n",
    "25\n",
    "45\n",
    "\n",
    "Sample Output 2:\n",
    "\n",
    "false"
   ]
  },
  {
   "metadata": {},
   "cell_type": "code",
   "outputs": [],
   "execution_count": null,
   "source": [
    "//val a = readLine()?.toIntOrNull() ?: return\n",
    "//val b = readLine()?.toIntOrNull() ?: return\n",
    "//val c = readLine()?.toIntOrNull() ?: return\n",
    "\n",
    "//val isInRange = a in b..c\n",
    "\n",
    "//println(isInRange)\n"
   ]
  },
  {
   "metadata": {},
   "cell_type": "code",
   "outputs": [],
   "execution_count": null,
   "source": [
    "//sol2\n",
    "val num = readLine()!!.toInt()\n",
    "val range = readLine()!!.toInt()..readLine()!!.toInt()\n",
    "print(num in range)"
   ]
  },
  {
   "metadata": {},
   "cell_type": "code",
   "outputs": [],
   "execution_count": null,
   "source": [
    "//sol3\n",
    "\n",
    "val THREE_INPUTS = 3\n",
    "\n",
    "val (a, b, c) = IntArray(THREE_INPUTS) { readln().toInt() }\n",
    "print(a in b..c)"
   ]
  },
  {
   "metadata": {},
   "cell_type": "code",
   "outputs": [],
   "execution_count": null,
   "source": [
    "import java.util.Scanner\n",
    "\n",
    "//sol4\n",
    "val scanner = Scanner(System.`in`)\n",
    "val num = scanner.nextInt()\n",
    "val range = scanner.nextInt()..scanner.nextInt()\n",
    "print(num in range)"
   ]
  },
  {
   "metadata": {},
   "cell_type": "code",
   "outputs": [],
   "execution_count": null,
   "source": [
    "\n",
    "\n",
    "\n",
    "\n",
    "\n",
    "\n",
    "\n",
    "\n",
    "\n",
    "\n",
    "\n",
    "\n"
   ]
  },
  {
   "metadata": {},
   "cell_type": "markdown",
   "source": [
    "**Within both ranges**\n",
    "\n",
    "Write a program that reads five integer numbers. The first and the second numbers create one range, the third and the fourth ones create another range. Output true if the fifth number is within both these ranges, otherwise output false.\n",
    "\n",
    "Sample Input 1:\n",
    "\n",
    "10\n",
    "30\n",
    "20\n",
    "40\n",
    "25\n",
    "\n",
    "Sample Output 1:\n",
    "\n",
    "true\n",
    "\n",
    "Sample Input 2:\n",
    "\n",
    "10\n",
    "20\n",
    "30\n",
    "40\n",
    "25\n",
    "\n",
    "Sample Output 2:\n",
    "\n",
    "false\n",
    "\n",
    "Write a program in Kotlin"
   ]
  },
  {
   "metadata": {},
   "cell_type": "code",
   "outputs": [],
   "execution_count": null,
   "source": [
    "val a = readln().toInt()..readln().toInt()\n",
    "val b = readln().toInt()..readln().toInt()\n",
    "val c = readln().toInt()\n",
    "\n",
    "print(c in a && c in b)"
   ]
  },
  {
   "metadata": {},
   "cell_type": "code",
   "outputs": [],
   "execution_count": null,
   "source": [
    "import java.util.Scanner\n",
    "\n",
    "//sol2\n",
    "val scanner = Scanner(System.`in`)\n",
    "val range1 = scanner.nextInt()..scanner.nextInt()\n",
    "val range2 = scanner.nextInt()..scanner.nextInt()\n",
    "val test = scanner.nextInt()\n",
    "\n",
    "println(test in range1 && test in range2)"
   ]
  },
  {
   "metadata": {},
   "cell_type": "code",
   "outputs": [],
   "execution_count": null,
   "source": [
    "\n",
    "\n",
    "\n",
    "\n",
    "\n",
    "\n",
    "\n",
    "\n",
    "\n"
   ]
  },
  {
   "metadata": {},
   "cell_type": "markdown",
   "source": [
    "**Correct statements**\n",
    "\n",
    "Select the correct statements about ranges in Kotlin:\n",
    "\n",
    "Select one or more options from the list\n",
    "\n",
    "\n",
    "\n",
    "It is possible to use ranges of characters and even of strings   t\n",
    "\n",
    "Range limits can be set only by two numbers\n",
    "\n",
    "It is possible to combine ranges                                  t\n",
    "\n",
    "a..b is a range of numbers from a to b (NOT including both border values)"
   ]
  },
  {
   "metadata": {},
   "cell_type": "code",
   "outputs": [],
   "execution_count": null,
   "source": [
    "\n",
    "\n",
    "\n",
    "\n",
    "\n",
    "\n",
    "\n",
    "\n",
    "\n",
    "\n"
   ]
  },
  {
   "metadata": {},
   "cell_type": "markdown",
   "source": [
    "**Working hours**\n",
    "\n",
    "The car wash works from 9 to 18 (we use a 24-hour clock format), and from 13 to 14, its employees take lunch to refuel and recharge for further work.\n",
    "As input, our program reads an integer, a positive number from the console, which is the desired time to make a reservation at the car wash, and checks whether the entered time is within the working hours.\n",
    "\n",
    "If the time is within the range of working hours, return true, but if the time is during lunch or outside the working hours, return false.\n",
    "\n",
    "Sample Input 1:\n",
    "\n",
    "10\n",
    "\n",
    "Sample Output 1:\n",
    "\n",
    "true\n",
    "\n",
    "Sample Input 2:\n",
    "\n",
    "23\n",
    "\n",
    "Sample Output 2:\n",
    "\n",
    "false\n",
    "\n",
    "Write a program in Kotlin\n"
   ]
  },
  {
   "metadata": {},
   "cell_type": "code",
   "outputs": [],
   "execution_count": null,
   "source": [
    "val time = readln().toInt()\n",
    "val workTime = 9..18\n",
    "val lunchTime = 13..14\n",
    "println(time in workTime && time !in lunchTime)"
   ]
  },
  {
   "metadata": {},
   "cell_type": "code",
   "outputs": [],
   "execution_count": null,
   "source": [
    "\n",
    "\n",
    "\n",
    "\n",
    "\n",
    "\n",
    "\n",
    "\n",
    "\n",
    "\n"
   ]
  },
  {
   "metadata": {},
   "cell_type": "markdown",
   "source": [
    "**Check if an integer is in a specific range**\n",
    "\n",
    "You are given an integer number. You should determine whether this number is contained in the range from 10 to 200. If the number is in the range, print 'In range', otherwise print 'Not in range'.\n",
    "\n",
    "Sample Input 1:\n",
    "\n",
    "50\n",
    "\n",
    "Sample Output 1:\n",
    "\n",
    "In range\n",
    "\n",
    "Sample Input 2:\n",
    "\n",
    "205\n",
    "\n",
    "Sample Output 2:\n",
    "\n",
    "Not in range\n",
    "\n",
    "Write a program in Kotlin"
   ]
  },
  {
   "metadata": {},
   "cell_type": "code",
   "outputs": [],
   "execution_count": null,
   "source": [
    "import java.util.Scanner\n",
    "\n",
    "val reader = Scanner(System.`in`)\n",
    "\n",
    "// Read a number from the input\n",
    "val number = reader.nextInt()\n",
    "\n",
    "// Check if the number is in the range [10, 200] and print the result\n",
    "if (number in 10..200) {\n",
    "    println(\"In range\")\n",
    "} else {\n",
    "    println(\"Not in range\")\n",
    "}"
   ]
  },
  {
   "metadata": {},
   "cell_type": "code",
   "outputs": [],
   "execution_count": null,
   "source": [
    "//sol2\n",
    "println(if (readln().toInt() in 10..200) \"In range\" else \"Not in range\")"
   ]
  },
  {
   "metadata": {},
   "cell_type": "code",
   "outputs": [],
   "execution_count": null,
   "source": [
    "\n",
    "\n",
    "\n",
    "\n",
    "\n",
    "\n",
    "\n",
    "\n",
    "\n"
   ]
  },
  {
   "metadata": {},
   "cell_type": "markdown",
   "source": [
    "**Replenishment of cells in the warehouse**\n",
    "\n",
    "In the warehouse, they check the quantity of each cell with the goods. If there are from 60 to 120 units of goods in the cell, inclusive, then everything is fine. If it is less than or greater than this range, then it is necessary either to feed it or to inventorize it. The code below contains a gap in the logic. What piece of code is missing?\n",
    "\n",
    "fun main() {\n",
    "    val minAmount = 60\n",
    "    val maxAmount = 120\n",
    "    val amount = readln().toInt()\n",
    "    if (amount in .... ) {\n",
    "        println(\"OKay\")\n",
    "    } else {\n",
    "        println(\"Need help\")\n",
    "    }\n",
    "}\n",
    "\n",
    "\n",
    "(amount in maxAmount..minAmount)\n",
    "\n",
    "amount in minAmount..maxAmount       t\n",
    "\n",
    "minAmount..maxAmount\n",
    "\n",
    "amount !in minAmount..maxAmount"
   ]
  },
  {
   "metadata": {},
   "cell_type": "code",
   "outputs": [],
   "execution_count": null,
   "source": [
    "\n",
    "\n",
    "\n",
    "\n",
    "\n",
    "\n",
    "\n",
    "\n",
    "\n",
    "\n",
    "\n",
    "\n"
   ]
  },
  {
   "metadata": {},
   "cell_type": "markdown",
   "source": [
    "**Not in range**\n",
    "\n",
    "Read an Int number. Write a program that prints false if this number is between 1 and 10 (inclusive), and true otherwise.\n",
    "\n",
    "Sample Input 1:\n",
    "\n",
    "5\n",
    "\n",
    "Sample Output 1:\n",
    "\n",
    "false\n",
    "\n",
    "Sample Input 2:\n",
    "\n",
    "0\n",
    "\n",
    "Sample Output 2:\n",
    "\n",
    "true"
   ]
  },
  {
   "metadata": {},
   "cell_type": "code",
   "outputs": [],
   "execution_count": null,
   "source": [
    "val read = readln()?.toIntOrNull()\n",
    "\n",
    "val result = read !in 1..10\n",
    "println(result)"
   ]
  },
  {
   "metadata": {},
   "cell_type": "code",
   "outputs": [],
   "execution_count": null,
   "source": [
    "@SuppressWarnings(\"MagicNumber\")\n",
    "fun main() = print(readln().toInt() !in 1..10)"
   ]
  },
  {
   "metadata": {},
   "cell_type": "code",
   "outputs": [],
   "execution_count": null,
   "source": [
    "@SuppressWarnings(\"MagicNumber\")\n",
    "\n",
    "val RANGE = 1..10\n",
    "\n",
    "fun main() {\n",
    "    val n = readln().toInt()\n",
    "    println(n !in RANGE)\n",
    "}"
   ]
  },
  {
   "metadata": {},
   "cell_type": "code",
   "outputs": [],
   "execution_count": null,
   "source": [
    "\n",
    "\n",
    "\n",
    "\n",
    "\n",
    "\n",
    "\n",
    "\n",
    "\n",
    "\n"
   ]
  },
  {
   "metadata": {},
   "cell_type": "markdown",
   "source": [
    "**At least one**\n",
    "\n",
    "Write a program that reads five integer numbers. The first and the second numbers create one range, and the third and the fourth ones create another range. Output true if the fifth number is in at least one of these ranges, otherwise output false.\n",
    "\n",
    "Sample Input 1:\n",
    "\n",
    "1\n",
    "2\n",
    "5\n",
    "6\n",
    "2\n",
    "\n",
    "Sample Output 1:\n",
    "\n",
    "true\n",
    "\n",
    "Sample Input 2:\n",
    "\n",
    "0\n",
    "5\n",
    "6\n",
    "8\n",
    "10\n",
    "\n",
    "Sample Output 2:\n",
    "\n",
    "false"
   ]
  },
  {
   "metadata": {},
   "cell_type": "code",
   "outputs": [],
   "execution_count": null,
   "source": [
    "fun main() {\n",
    "    val a = readLine()?.toIntOrNull() ?: return\n",
    "    val b = readLine()?.toIntOrNull() ?: return\n",
    "    val c = readLine()?.toIntOrNull() ?: return\n",
    "    val d = readLine()?.toIntOrNull() ?: return\n",
    "    val e = readLine()?.toIntOrNull() ?: return\n",
    "\n",
    "    val range1 = a..b\n",
    "    val range2 = c..d\n",
    "    val isInRange = e in range1 || e in range2\n",
    "\n",
    "    println(isInRange)\n",
    "}\n"
   ]
  },
  {
   "metadata": {},
   "cell_type": "code",
   "outputs": [],
   "execution_count": null,
   "source": [
    "// write your code here\n",
    "val firstRange = readln().toInt()..readln().toInt()\n",
    "val secondRange = readln().toInt()..readln().toInt()\n",
    "val number = readln().toInt()\n",
    "println(number in firstRange || number in secondRange)"
   ]
  },
  {
   "metadata": {},
   "cell_type": "code",
   "outputs": [],
   "execution_count": null,
   "source": [
    "@SuppressWarnings(\"All\")\n",
    "fun main() = List(5) { readln().toInt() }.let { print(it[4] in it[0]..it[1] || it[4] in it[2]..it[3]) }\n"
   ]
  },
  {
   "metadata": {},
   "cell_type": "markdown",
   "source": ""
  },
  {
   "metadata": {},
   "cell_type": "code",
   "outputs": [],
   "execution_count": null,
   "source": [
    "\n",
    "\n",
    "\n",
    "\n",
    "\n",
    "\n",
    "\n",
    "\n",
    "\n",
    "\n"
   ]
  },
  {
   "metadata": {},
   "cell_type": "markdown",
   "source": [
    "**Even numbers with steps**\n",
    "\n",
    "We have a program that prints all even numbers in the range from 1 to 20 inclusive, using a step size of 3. Use the correct operators so that the program prints:\n",
    "\n",
    "4\n",
    "10\n",
    "16\n",
    "\n",
    "Fill in the gaps with the relevant elements"
   ]
  },
  {
   "metadata": {},
   "cell_type": "code",
   "outputs": [],
   "execution_count": null,
   "source": [
    "fun main() {\n",
    "    for (i in 1..20 step 3) {\n",
    "        if (i % 2 == 0) {\n",
    "            println(i)\n",
    "        }\n",
    "    }\n",
    "}"
   ]
  },
  {
   "metadata": {},
   "cell_type": "code",
   "outputs": [],
   "execution_count": null,
   "source": ""
  },
  {
   "metadata": {},
   "cell_type": "code",
   "outputs": [],
   "execution_count": null,
   "source": [
    "\n",
    "\n",
    "\n",
    "\n",
    "\n",
    "\n",
    "\n",
    "\n",
    "\n",
    "\n",
    "\n"
   ]
  },
  {
   "metadata": {},
   "cell_type": "markdown",
   "source": [
    "**Check if a number falls within a specific range**\n",
    "\n",
    "Your task is to complete a Kotlin function that checks and returns if a given number falls within a certain range. Given a number, the function should return a message indicating whether the number is inside or outside of the range. The range is from 1 to 10 (inclusive). You need to fill the code blanks for defining the function parameter type, creating the range, and the relational operator to complete the task correctly.\n",
    "\n",
    "Fill in the gaps with the relevant elements\n"
   ]
  },
  {
   "metadata": {},
   "cell_type": "code",
   "outputs": [],
   "execution_count": null,
   "source": [
    "fun checkNumberRange(number: Int): String{\n",
    "    val range = 1..10\n",
    "    return if (number in range) \"$number is inside the range.\" else \"$number is outside the range\"\n",
    "}\n",
    "\n",
    "println(checkNumberRange(5))\n",
    "println(checkNumberRange(11))"
   ]
  },
  {
   "metadata": {},
   "cell_type": "code",
   "outputs": [],
   "execution_count": null,
   "source": [
    "\n",
    "\n",
    "\n",
    "\n",
    "\n",
    "\n",
    "\n",
    "\n",
    "\n",
    "\n",
    "\n"
   ]
  },
  {
   "metadata": {},
   "cell_type": "markdown",
   "source": [
    "**Checking if a number falls within a specific range**\n",
    "\n",
    "Consider you are developing an application in Kotlin that categorizes a provided number based on its position in a certain numerical interval. Your task is to fill in the blanks in the given code so that it determines if a specific number is within a defined range. The range is set from 1 to 10 inclusive. If the number is in the range, your program should output 'The number is within the range.' If the number is not in the range, it should output 'The number is out of range.' The number you need to check for the range is 5.\n",
    "\n",
    "Fill in the gaps with the relevant elements"
   ]
  },
  {
   "metadata": {},
   "cell_type": "code",
   "outputs": [],
   "execution_count": null,
   "source": [
    "val numRange = 1..10\n",
    "val inputNum = 5\n",
    "val inRange = if (inputNum in numRange) \"The number is within the range.\" else \"The number is out of range\""
   ]
  },
  {
   "metadata": {},
   "cell_type": "code",
   "outputs": [],
   "execution_count": null,
   "source": [
    "\n",
    "\n",
    "\n",
    "\n",
    "\n",
    "\n",
    "\n",
    "\n",
    "\n"
   ]
  },
  {
   "metadata": {},
   "cell_type": "code",
   "outputs": [],
   "execution_count": null,
   "source": ""
  },
  {
   "metadata": {},
   "cell_type": "markdown",
   "source": [
    "**Checking if a number is within a certain range**\n",
    "\n",
    "Let's imagine you have a Kotlin program with a number that is checked whether it is within a certain range or not. Your task is to fill the blanks in the code, define the range, and also insert the appropriate relational operator to make this checking operation work correctly. Remember, the range is an interval from start to end, and in Kotlin, it's usually created with the .. operator. Choose the correct operator and range to print out if the number is in the defined range or not.\n",
    "\n",
    "Fill in the gaps with the relevant elements\n"
   ]
  },
  {
   "metadata": {},
   "cell_type": "code",
   "outputs": [],
   "execution_count": null,
   "source": [
    "val range = 1..10\n",
    "val number = 5\n",
    "\n",
    "\n",
    "if(number in range){\n",
    "    println(\"$number is in the range\")\n",
    "}else{\n",
    "    println(\"$number is not in the range\")\n",
    "}"
   ]
  },
  {
   "metadata": {},
   "cell_type": "code",
   "outputs": [],
   "execution_count": null,
   "source": [
    "\n",
    "\n",
    "\n",
    "\n",
    "\n",
    "\n",
    "\n",
    "\n",
    "\n",
    "\n",
    "\n",
    "\n",
    "\n"
   ]
  },
  {
   "metadata": {},
   "cell_type": "code",
   "outputs": [],
   "execution_count": null,
   "source": ""
  },
  {
   "metadata": {},
   "cell_type": "markdown",
   "source": [
    "**Implementing a number range check in code**\n",
    "\n",
    "Your task is to fill the blanks in the given Kotlin code. The goal of the code is to check if a number falls within a certain range and then output a message based on that checking. Your job is to define the range of numbers and use the correct relational operator to perform the check. Remember, the range can be any sequence of numbers you want, and the relational operator should correctly assess whether a number falls within that range.\n",
    "\n",
    "Fill in the gaps with the relevant elements"
   ]
  },
  {
   "metadata": {},
   "cell_type": "code",
   "outputs": [],
   "execution_count": null,
   "source": [
    "val range = 1..5\n",
    "val number = 3\n",
    "val output = if (number in  range) \"$number is in the range.\" else \"$number is not in the range.\"\n",
    "println(output)"
   ]
  },
  {
   "metadata": {},
   "cell_type": "code",
   "outputs": [],
   "execution_count": null,
   "source": [
    "\n",
    "\n",
    "\n",
    "\n",
    "\n",
    "\n",
    "\n",
    "\n",
    "\n"
   ]
  },
  {
   "metadata": {},
   "cell_type": "markdown",
   "source": [
    "**Goldilocks' digital thermostat**\n",
    "\n",
    "A thermostat checks if a temperature is within an acceptable range of 18.0°C to 24.0°C. Can you fill in the blanks in the code to make the isTemperatureInRange function work correctly?\n",
    "\n",
    "Fill in the gaps with the relevant elements"
   ]
  },
  {
   "metadata": {},
   "cell_type": "code",
   "outputs": [],
   "execution_count": null,
   "source": [
    "fun isTemperatureInRange(temperature: Double): Boolean{\n",
    "    val acceptableRange = 18.0..24.0\n",
    "    return temperature in acceptableRange\n",
    "}\n",
    "\n",
    "println(\"Temperature 20.5°C in range: ${isTemperatureInRange(20.5)}\")\n",
    "println(\"Temperature 25.0°C in range: ${isTemperatureInRange(25.0)}\")"
   ]
  }
 ],
 "metadata": {
  "kernelspec": {
   "display_name": "Kotlin",
   "language": "kotlin",
   "name": "kotlin"
  },
  "language_info": {
   "name": "kotlin",
   "version": "1.9.23",
   "mimetype": "text/x-kotlin",
   "file_extension": ".kt",
   "pygments_lexer": "kotlin",
   "codemirror_mode": "text/x-kotlin",
   "nbconvert_exporter": ""
  }
 },
 "nbformat": 4,
 "nbformat_minor": 0
}
